{
 "cells": [
  {
   "cell_type": "markdown",
   "metadata": {},
   "source": [
    "<table width='100%'><tr>\n",
    "    <td style='background-color:red; text-align:center; color: white;'><!--Foundation<!--hr size='5' style='border-color:red; background-color:red;'--></td>\n",
    "    <td style='background-color:yellow; text-align:center;'><!--Level 1<!--hr size='5' style='border-color:yellow; background-color:yellow;'--></td>\n",
    "    <td style='background-color:orange; text-align:center;'><!--Level 2<!--hr size='5' style='border-color:orange; background-color:orange;'--></td>\n",
    "    <td style='background-color:green; text-align:center; color: white;'><!--Level 3<!--hr size='5' style='border-color:orange; background-color:orange;'--></td>\n",
    "    <td style='background-color:blue; text-align:center; color: white;'><!--Level 4<!--hr size='5' style='border-color:orange; background-color:orange;'--></td>\n",
    "    <td style='background-color:purple; text-align:center; color: white;'><!--Level 5<!--hr size='5' style='border-color:orange; background-color:orange;'--></td>\n",
    "    <td style='background-color:brown; text-align:center; color: white;'><!--Level 6<!--hr size='5' style='border-color:orange; background-color:orange;'--></td>\n",
    "    <td style='background-color:black; text-align:center; color: white;'><!--Level 7<!--hr size='5' style='border-color:orange; background-color:orange;'--></td>\n",
    "</tr></table>"
   ]
  },
  {
   "cell_type": "markdown",
   "metadata": {},
   "source": [
    "<table style='border-left:10px solid red;'><tr>\n",
    "    <td style='padding-left:20px;'>\n",
    "        <h2><i>Swansea University Medical School</i><br/><b>MSc Health Data Science</b></h2>\n",
    "        <h3>PMIM-102 Introduction to Scientific Computing in Healthcare</h3>\n",
    "        <h1><b>Git Version Control</b></h1>\n",
    "        <h3><i>September 2020</i></h3>\n",
    "        <h3><b>To-do</b></h3>Nothing.\n",
    "    </td>\n",
    "    <td><img height='300' width='500' src='./images/cover.jpg'/></td>\n",
    "</tr></table>"
   ]
  },
  {
   "cell_type": "markdown",
   "metadata": {},
   "source": [
    "This notebook uses a <code>bash</code> kernel which you may not have installed. Use the 'No kernel' option when you open this page in Jupyter - it won't be interactive, but you will be able to read the content."
   ]
  },
  {
   "cell_type": "markdown",
   "metadata": {},
   "source": [
    "<div style=\"padding-left:5px; background-color:red; color:white;\">\n",
    "<b>WARNING</b>: Since these are shell commands, be careful what you write, since you may find that you do something to your file-system that you didn't intend.\n",
    "</div>"
   ]
  },
  {
   "cell_type": "markdown",
   "metadata": {},
   "source": [
    "## __What is Version Control?__\n",
    "Version Control is a way to keep track of the versions of code and to make sure that you and other people you are working with are using the same code when you need to be. It can also be usefully applied to other files such as reports, documentation - anything that is iteratively changed and where it might be important to have the latest or correct version. \n",
    "\n",
    "This has a number of advantages:\n",
    "\n",
    "* You don't have to save the different versions with a slightly different name, possibly in a different place and get confused as to which one may have been the most up-to-date.\n",
    "* You can go back to a previous version for:\n",
    "    * Reproducing a previous outcome\n",
    "    * Starting a new project from a known starting point\n",
    "* You can maintain several branches in parallel so, if several people are working on the same project, they can contribute without risking the loss of changes that might happen when changes are made independently.\n",
    "\n",
    "In our case, the most useful features are the first two. The ability for several people to work safely on the same document at the same time adds an extra layer of complexity which we often don't need, so we'll come back to that later.\n",
    "\n",
    "## What is 'git'?\n",
    "\n",
    "Git is an open-source, distributed version control system that was developed by Linus Torvalds to facilitate work on Linux. It has a number of advantages over previous systems such as Subversion and CVS. For us, the important advantage is that it is decentralised (doesn't use client-server approach) which means that, for each project you keep under version control, git maintains a copy of all the data it uses in a folder on your disk. This is called a 'repository'.\n",
    "\n",
    "## How does git work?\n",
    "\n",
    "Git manages all the files in a directory and keeps track of everything (you have asked it to) in the '.git' directory (the repository) it creates there. This is all you need in the simplest case when you're keeping track of your own files. All the versions are stored in this directory and git just makes sure that the copy you see in your working directory is the one you have asked for.\n",
    "\n",
    "If you want to share the repository with colleagues you will need to create a copy on the internet (or your local intranet) to which you can <code>pull</code> (i.e. get the latest repository from) or <code>push</code> (i.e. send your latest copy to).\n",
    "\n",
    "You can use git to manage all the files on your computer by setting it up  to run on 'C:\\\\' or '\\\\' but that is not recommended. Or you can use git to separately manage each project directory or, indeed, any set of directories you want.\n",
    "\n",
    "You'll work out what works best for you. A good starting point is to use git on each project directory. We'll do that now for the R directory for your HDS projects. Create a directory somewhere on your computer where you want to save all your work for the HDS course. For example, I have:\n",
    "\n",
    "<code>C:\\\\Users\\\\Pete\\\\Desktop\\\\Programming.Workspace\\\\R\\\\HDS</code>\n",
    "\n",
    "Note: we need to use two backslashes to 'escape' the backslash which is used to indicate that the next character is somehow special. If you are using git-bash, you will find that you can use forward slash instead '/' and that 'c:\\users' is written as '/c/users'.\n",
    "\n",
    "We'll create a 'git repository' in this directory. Git will create a directory named '.git' and will keep a record of all the versions of all the files which you explicitly ask it to keep track of in that directory. Git also manages a copy of these files in the parent directory (the one containing the '.git' directory, here the HDS directory) and all its subdirectories. These are your working files - you never need to look in '.git'. You can work with your files as normal. When you get to the point you would like to keep a copy of the current set, when you commit the changes to the repository. \n"
   ]
  },
  {
   "cell_type": "markdown",
   "metadata": {},
   "source": [
    "<table><tr><td><img width=\"400\" src=\"images/plate_dispenser.jpg\"></td><td><img src=\"images/git.png\"></td><td><img width=\"400\" src=\"images/cards.jpg\"></td></tr></table>"
   ]
  },
  {
   "cell_type": "markdown",
   "metadata": {},
   "source": [
    "Git is integrated (to some extent) in R-Studio. Most of what you want to do you can do from the Git menu tab which will appear in the right-hand, top pane if you have a project with a git repository. For this first project we'll create the repository manually and set some configuration information. You may need the command line when it comes to accessing and changing old versions, so it's good to get some experience of it.\n",
    "\n",
    "Start R-Studio and we'll create an R project in that directory. Select New Project... from the File... menu and select New Directory, then R Project, type in a name for the project, navigate to where you want it to be located and uncheck the 'Git repository' option (we are going to do this manually this time - in future you can just check this box and git will be set up to work for this project). R-Studio should restart a new project and show you a screen like:"
   ]
  },
  {
   "cell_type": "markdown",
   "metadata": {},
   "source": [
    "<img src=\"images/R-Studio-NewProject.png\"/>"
   ]
  },
  {
   "cell_type": "markdown",
   "metadata": {},
   "source": [
    "## Initialising a <code>git</code> repository for a project\n",
    "\n",
    "There are two tabs in the 'calculator' section: __Console__ and __Terminal__. The first is the R-interpreter where you can execute R-commands. The second is a shell terminal where you can execute commands to your computer.\n",
    "\n",
    "Click on the 'Terminal' tab and you should see a prompt like:"
   ]
  },
  {
   "cell_type": "markdown",
   "metadata": {},
   "source": [
    "<code>Pete@peronig  ~/Desktop/Programming.Workspace/R/HDS\n",
    "$\n",
    "</code>"
   ]
  },
  {
   "cell_type": "markdown",
   "metadata": {},
   "source": [
    "Confirm the directory with <code>cd</code>(DOS) <code>pwd</code>(bash):"
   ]
  },
  {
   "cell_type": "code",
   "execution_count": null,
   "metadata": {},
   "outputs": [],
   "source": [
    "pwd"
   ]
  },
  {
   "cell_type": "markdown",
   "metadata": {},
   "source": [
    "<code>/c/Users/Pete/Desktop/Programming.Workspace/R/HDS</code>"
   ]
  },
  {
   "cell_type": "markdown",
   "metadata": {},
   "source": [
    "List all the files in that directory (use the '-a' option so that we display all the files, including those that begin with '.'):"
   ]
  },
  {
   "cell_type": "code",
   "execution_count": null,
   "metadata": {},
   "outputs": [],
   "source": [
    "ls -al"
   ]
  },
  {
   "cell_type": "markdown",
   "metadata": {},
   "source": [
    "(Or <code>dir /a:h</code> to show hidden files in DOS)."
   ]
  },
  {
   "cell_type": "markdown",
   "metadata": {},
   "source": [
    "<code>\n",
    "$ ls -al\n",
    "total 7\n",
    "drwxr-xr-x    3 Pete     Administ        0 Sep  9 15:07 .\n",
    "drwxr-xr-x   20 Pete     Administ    12288 Sep  9 15:07 ..\n",
    "drwxr-xr-x    4 Pete     Administ        0 Sep  9 15:07 .Rproj.user\n",
    "-rw-r--r--    1 Pete     Administ      218 Sep  9 15:07 HDS.Rproj\n",
    "</code>"
   ]
  },
  {
   "cell_type": "markdown",
   "metadata": {},
   "source": [
    "Now, all we need to do to set-up a git repository in the current directory, is simply type:"
   ]
  },
  {
   "cell_type": "code",
   "execution_count": null,
   "metadata": {},
   "outputs": [],
   "source": [
    "git init"
   ]
  },
  {
   "cell_type": "markdown",
   "metadata": {},
   "source": [
    "<code>\n",
    "Initialized empty Git repository in C:/Users/Pete/Desktop/Programming.Workspace/R/HDS/.git/\n",
    "</code>"
   ]
  },
  {
   "cell_type": "markdown",
   "metadata": {},
   "source": [
    "And, if we look again, we'll see the .git respository directory has been created:"
   ]
  },
  {
   "cell_type": "code",
   "execution_count": null,
   "metadata": {},
   "outputs": [],
   "source": [
    "ls -al"
   ]
  },
  {
   "cell_type": "markdown",
   "metadata": {},
   "source": [
    "<code>\n",
    "$ ls -al\n",
    "total 9\n",
    "drwxr-xr-x    4 Pete     Administ        0 Sep  9 15:19 .\n",
    "drwxr-xr-x   20 Pete     Administ    12288 Sep  9 15:07 ..\n",
    "drwxr-xr-x    4 Pete     Administ        0 Sep  9 15:07 .Rproj.user\n",
    "drwxr-xr-x    6 Pete     Administ     4096 Sep  9 15:19 .git\n",
    "-rw-r--r--    1 Pete     Administ      218 Sep  9 15:07 HDS.Rproj\n",
    "</code>"
   ]
  },
  {
   "cell_type": "markdown",
   "metadata": {},
   "source": [
    "Before we can use git effectively, we need to set-up some identification information (so that git can record who has done what and send emails if necessary). To do this run the following two commands (after changing the id.s) --- note that if you want to set the id.s just for this repository, omit the --global:"
   ]
  },
  {
   "cell_type": "code",
   "execution_count": null,
   "metadata": {},
   "outputs": [],
   "source": [
    "git config --global user.email \"p.t.arnold@swansea.ac.uk\"\n",
    "git config --global user.name \"Pete Arnold\""
   ]
  },
  {
   "cell_type": "markdown",
   "metadata": {},
   "source": [
    "## Adding code to the repository\n",
    "\n",
    "Now that we have git set up, we need to create a working file we can add to the repository. You'll need to restart R-Studio if you already had it open. But now, when you open your project, you should see the Git tab in the same group as 'Environment' and 'History'. In R-Studio, create a new R script file from the 'File' menu or the new/'+' icon at the left of the menu bar. Add the following code (or some of your own, if you'd prefer):"
   ]
  },
  {
   "cell_type": "code",
   "execution_count": null,
   "metadata": {},
   "outputs": [],
   "source": [
    "# Function: Get an integer from the user.\n",
    "# Ask the user to enter a number, check it. If not an integer, report this and\n",
    "# try again.\n",
    "# @return The integer\n",
    "get_number <- function() { \n",
    "    n <- readline(prompt=\"Enter an integer: \")\n",
    "    if(!grepl(\"^[0-9]+$\", n)) {\n",
    "        cat(n, \"is not an integer.\\n\", sep=\" \")\n",
    "        return(get_number())\n",
    "    }\n",
    "    return(as.integer(n))\n",
    "}\n",
    "\n",
    "# Main program: Choose a random number and get the user to guess until they get\n",
    "#               it right.\n",
    "set.seed(42)\n",
    "number <- round(runif(1) * 100, digits = 0)\n",
    "guess <- (-1)\n",
    "\n",
    "cat(\"Guess a number between 0 and 100.\\n\")\n",
    "\n",
    "while(guess != number)\n",
    "{ \n",
    "    guess <- get_number()\n",
    "    if (guess == number) {\n",
    "        cat(\"Da iawn!,\", number, \"is the number.\\n\", sep=\" \")\n",
    "    }\n",
    "    else if (guess < number) {\n",
    "        cat(\"That was a little low.\\n\")\n",
    "    }\n",
    "    else if(guess > number) {\n",
    "        cat(\"Too big!\\n\")\n",
    "    }\n",
    "}"
   ]
  },
  {
   "cell_type": "markdown",
   "metadata": {},
   "source": [
    "Save the file. You'll see the file name appear in the Git tab window with a couple of status flags \\[?\\]\\[?\\]. You'll get a similar message from the terminal, if you type:"
   ]
  },
  {
   "cell_type": "code",
   "execution_count": null,
   "metadata": {},
   "outputs": [],
   "source": [
    "git status"
   ]
  },
  {
   "cell_type": "markdown",
   "metadata": {},
   "source": [
    "<code style=\"color:green;\">\n",
    "$ git status\n",
    "On branch master\n",
    "\n",
    "No commits yet\n",
    "\n",
    "Untracked files:\n",
    "  (use \"git add <file>...\" to include in what will be committed)\n",
    "\n",
    "        .gitignore\n",
    "        HDS.Rproj\n",
    "        guess.R\n",
    "\n",
    "nothing added to commit but untracked files present (use \"git add\" to track)\n",
    "</code>"
   ]
  },
  {
   "cell_type": "markdown",
   "metadata": {},
   "source": [
    "A bit of explanation about the text.\n",
    "\n",
    "__branch__ / __master__\n",
    "A very useful aspect of git is that if you wanted to access two different versions of your file for different aspects of your work, say if you were running some repeated analyses using a known version of your code whilst experimenting with some changes for the next set of runs, you can do this in git using __branches__.\n",
    "\n",
    "Each of these versions could have their own branch, typically the __master__ branch (the default branch, you might call it the trunk?) for the long-term code and another __experiment__ branch for you new code. At some point in the future, when you have perfected your experimental code, you may merge the experiment code into your master branch. But, for now, you could have the two versions separate and you can select one or the other to work on. We'll get onto this later, but you choose which branch you are using by checking it out. The real advantage is that you could have many changes across many files but you only need to checkout the version once and git goes and gets all of the files in that version. So swapping versions is simply a matter of checking out, say, __master__ working with it, then chekcing out __experiment__ when you need to work with that version.\n",
    "\n",
    "However, for us, at this point there are no files in the repository --- there have been no __commits__, and all the files in the working directory are listed as 'untracked'. Committing is the process of adding a file to the repository at which point it becomes 'tracked'.\n",
    "\n",
    "Commiting is the process of saving a __set__ of changes to the repository --- a new _version_. What a 'set of changes' is is up to you. It can be a single modification to a single file, it can be the addition of all the files to implement a completely new feature or just the saving of your work-in-progress.\n",
    "\n",
    "But, since the commit may involve several files, some of which may be additions, deletions and/or renames it would be awkward to complete this in one command, so it is done as a two step process:\n",
    "\n",
    "1. First we add, delete and rename all the files we wish to commit. This is called 'staging'. During staging, we will see a list of staged files as well as the untracked files.\n",
    "1. Once we have all the files we want to change staged, we 'commit' the files to the repository as the new version and provide a text note/message to explain what is we have committed (because we will forget).\n",
    "\n",
    "So, to add this R script to the repository, we can either clock on the tick-box under staged in the Git tab (next to the guess.R file name) or type in the terminal window:"
   ]
  },
  {
   "cell_type": "code",
   "execution_count": null,
   "metadata": {},
   "outputs": [],
   "source": [
    "git add guess.R"
   ]
  },
  {
   "cell_type": "markdown",
   "metadata": {},
   "source": [
    "Now we could add other files, rename or delete any files already in the repository etc. until we are happy with the changes and want to commit them. So check the status:"
   ]
  },
  {
   "cell_type": "code",
   "execution_count": null,
   "metadata": {},
   "outputs": [],
   "source": [
    "git status"
   ]
  },
  {
   "cell_type": "markdown",
   "metadata": {},
   "source": [
    "<code style=\"color:green;\">\n",
    "$ git status\n",
    "On branch master\n",
    "\n",
    "No commits yet\n",
    "\n",
    "Changes to be committed:\n",
    "  (use \"git rm --cached <file>...\" to unstage)\n",
    "\n",
    "        new file:   guess.R\n",
    "\n",
    "Untracked files:\n",
    "  (use \"git add <file>...\" to include in what will be committed)\n",
    "\n",
    "        .gitignore\n",
    "        HDS.Rproj\n",
    "</code>\n",
    "<br/>\n",
    "If you want to check what has changed in the __staged__ files, you can use <code>git diff</code>. This is also available in the R-Studio Git tab."
   ]
  },
  {
   "cell_type": "markdown",
   "metadata": {},
   "source": [
    "Now we can commit the script file to the repository as follows (-m \"\" allows you to specify a text note for the commit; if you omit this git will try to open your default editor and get you to type one in):"
   ]
  },
  {
   "cell_type": "code",
   "execution_count": null,
   "metadata": {},
   "outputs": [],
   "source": [
    "git commit -m \"First commit of the guess program.\""
   ]
  },
  {
   "cell_type": "markdown",
   "metadata": {},
   "source": [
    "You should see a message along the lines of:\n",
    "\n",
    "<code style=\"color:green;\">\n",
    "$ git commit -m \"First commit of the guess program.\"\n",
    "[master (root-commit) 1af1827] First commit of the guess program.\n",
    " 1 file changed, 68 insertions(+)\n",
    " create mode 100644 guess.R\n",
    "</code>\n",
    "<br/>\n",
    "and `git status` will now show just the untracked files and the file will have disappeared from the Git tab (which only shows untracked files and tracked files that have changed).\n",
    "\n",
    "We can see the commit history of the repository using (or the clock/History button in the R-Studio Git tab):"
   ]
  },
  {
   "cell_type": "code",
   "execution_count": null,
   "metadata": {},
   "outputs": [],
   "source": [
    "git log"
   ]
  },
  {
   "cell_type": "markdown",
   "metadata": {},
   "source": [
    "<code style=\"color:green;\">\n",
    "$ git log\n",
    "commit 1af1827cb1853d144544405ac7d5a53706907069 (HEAD -> master)\n",
    "Author: Pete Arnold <p.t.arnold@swansea.ac.uk>\n",
    "Date:   Tue Sep 10 13:58:45 2019 +0100\n",
    "\n",
    "    First commit of the guess program.\n",
    "</code>\n",
    "<br/>\n",
    "HEAD is special indicator that shows where the code we currently have in the working directory was last saved at (i.e. the code before we made any uncommitted changes that are outstanding)."
   ]
  },
  {
   "cell_type": "markdown",
   "metadata": {},
   "source": [
    "<hr/>\n",
    "\n",
    "## __Exercise__: Change the program so that the number moves a little (e.g. +/-1) between every guess.\n",
    "\n",
    "If you find you have extra time here, experiment with making other innovations to the program.\n",
    "\n",
    "Save your changes, add the file to staging and commit your changed program and repeat the call to git log. When you have made some changes to committed files, try <code>git diff</code> or use the Diff button in the Git tab on R-Studio. This will list the differences between the file as it currently is and the committed file (i.e. the HEAD file).\n",
    "\n",
    "The output in the terminal will look like:\n",
    "<br/><br/>\n",
    "<div style=\"font-family:monospace;\">\n",
    "$ git diff<br/>\n",
    "diff --git a/prng.R b/prng.R<br/>\n",
    "index c9464b7..4ac7efb 100644<br/>\n",
    "--- a/prng.R<br/>\n",
    "+++ b/prng.R<br/>\n",
    "@@ -34,7 +34,7 @@ s &lt;- runif(1) * 100<br/>\n",
    " c &lt;- 7<br/>\n",
    " bad &lt;- lcg_vector(m, a, c, s, n)<br/>\n",
    " # Good parameters.<br/>\n",
    "-m &lt;- 86436<br/>\n",
    "+m &lt;- 864736<br/>\n",
    " a &lt;- 1093<br/>\n",
    " s &lt;- runif(1) * 100<br/>\n",
    " c &lt;- 18257<br/>\n",
    " </div>\n",
    "<br/><br/>\n",
    "Which tells you that the snippet of code from line 34(in the original file)/34(in the modified file) (just after the line <code>s <- runif(1) * 100</code>), the 7 lines of which follow with lines prefixed with a minus being in the original file and not in the new file and the lines prefixed with + being in the new file and not in the original file.\n",
    "\n",
    "The output in the R-Studio diff window is more graphical, old lines are highlighted in red and new lines in green.\n",
    "<hr/>"
   ]
  },
  {
   "cell_type": "markdown",
   "metadata": {},
   "source": [
    "<table style=\"text-align:center;\"><tr><td width=\"100\" height=\"20\" style=\"background-color:greenyellow\"></td><td width=\"100\" height=\"20\" style=\"background-color:hotpink\"></td></tr></table>"
   ]
  },
  {
   "cell_type": "markdown",
   "metadata": {},
   "source": [
    "## Using different versions of your files\n",
    "\n",
    "Apart from setting your name and email configuration, the only time you should need to use the command line with git and R-Studio is when you want to use (checkout) a specific version of your code.\n",
    "\n",
    "You should now have made a a couple of commits, and git log should show something like:\n",
    "\n",
    "<code style=\"color:green;\">\n",
    "$ git log\n",
    "commit d31a3cb5f0b282c36fbb519c18eb2c6311d42ef1 (HEAD -> master)\n",
    "Author: Pete Arnold <p.t.arnold@swansea.ac.uk>\n",
    "Date:   Sat Sep 14 10:22:06 2019 +0100\n",
    "\n",
    "    Moved to functions.\n",
    "</code><br/>\n",
    "<code style=\"color:green;\">\n",
    "commit 1af1827cb1853d144544405ac7d5a53706907069\n",
    "Author: Pete Arnold <p.t.arnold@swansea.ac.uk>\n",
    "Date:   Tue Sep 10 13:58:45 2019 +0100\n",
    "\n",
    "    First commit of the guess program.\n",
    "\n",
    "</code>\n",
    "<br/>"
   ]
  },
  {
   "cell_type": "markdown",
   "metadata": {},
   "source": [
    "If you want to go back and use the first version of your code, you will need to specify the commit number (the long number after the word commit in the log). Fortunately, you don't need the entire number just the first seven digits (or more if you have two commits with similar numbers) - just enough for git to be able to make an unambiguous choice.\n",
    "\n",
    "You can now go back and use our first version by using <code>git checkout ####</code>."
   ]
  },
  {
   "cell_type": "code",
   "execution_count": null,
   "metadata": {},
   "outputs": [],
   "source": [
    "git checkout 1af1827cb1853d144544405ac7d5a53706907069"
   ]
  },
  {
   "cell_type": "markdown",
   "metadata": {},
   "source": [
    "<code style=\"color:green;\">\n",
    "$ git checkout 1af1827cb1853d144544405ac7d5a53706907069\n",
    "Note: checking out '1af1827cb1853d144544405ac7d5a53706907069'.\n",
    "\n",
    "You are in 'detached HEAD' state. You can look around, make experimental\n",
    "changes and commit them, and you can discard any commits you make in this\n",
    "state without impacting any branches by performing another checkout.\n",
    "\n",
    "If you want to create a new branch to retain commits you create, you may\n",
    "do so (now or later) by using -b with the checkout command again. Example:\n",
    "\n",
    "  git checkout -b \\<new-branch-name\\>\n",
    "\n",
    "HEAD is now at 1af1827 First commit of the guess program.\n",
    "</code>\n",
    "We'll look at branches next.\n",
    "\n",
    "The 'detached HEAD' is nothing to worry about. It means that you have a checkout that isn't actually linked to the chain of commits. To link it, you would need to make a new branch - that is what the suggestion is telling you.\n",
    "\n",
    "Check the code in the code tabs to see that it has changed (the code shouldn't move the number any more). You can run this code, edit it, save it etc. but if you want to commit these changes without breaking the latest code, we'll need to know about merging and branches, then check-out the latest code which is referred to as 'master'."
   ]
  },
  {
   "cell_type": "code",
   "execution_count": null,
   "metadata": {},
   "outputs": [],
   "source": [
    "git checkout master"
   ]
  },
  {
   "cell_type": "markdown",
   "metadata": {},
   "source": [
    "Again, check that the code in the editor tab has changed to the latest version (the one that moves the number a little)."
   ]
  },
  {
   "cell_type": "markdown",
   "metadata": {},
   "source": [
    "## Branches - or how to work on two different versions of your code simultaneously\n",
    "\n",
    "Now we'll go back to the previous code and make the another change properly so that we don't lose any of the 'detached' code. We do this by adding a branch to our tree at the commit we want to use. So just like before, we checkout the commit, but now we add the <code>-b</code> option. In this case we'll add some code to accept a key-press and if that is a 'q', the program should take that as a request to stop, so we'll name the branch 'stop_on_request':"
   ]
  },
  {
   "cell_type": "code",
   "execution_count": null,
   "metadata": {},
   "outputs": [],
   "source": [
    "git checkout 1af1827 -b stop_on_request"
   ]
  },
  {
   "cell_type": "markdown",
   "metadata": {},
   "source": [
    "<hr/>\n",
    "\n",
    "## __Exercise__: stop the code execution if the user enters 'q' (or anything else you think appropriate).\n",
    "\n",
    "You can look-up the <code>stop('some message')</code> function on-line, it's a bit rough and not recommended for this purpose in reality.\n",
    "\n",
    "<hr/>"
   ]
  },
  {
   "cell_type": "markdown",
   "metadata": {},
   "source": [
    "<table style=\"text-align:center;\"><tr><td width=\"100\" height=\"20\" style=\"background-color:greenyellow\"></td><td width=\"100\" height=\"20\" style=\"background-color:hotpink\"></td></tr></table>"
   ]
  },
  {
   "cell_type": "markdown",
   "metadata": {},
   "source": [
    "Now stage and commit the change.\n",
    "\n",
    "Now you can now go back to the 'master' and work on that separately or checkout the branch 'stop_on_request' as you need to without either affecting the other.\n",
    "\n",
    "You can swap between branches at the click of a button in R-Studio. On the right-hand side of the Git window, next to the 'New branch' button (which will create a new branch from the current checkout), there is a drop-down menu where you can select the branch you wish to checkout."
   ]
  },
  {
   "cell_type": "markdown",
   "metadata": {},
   "source": [
    "## Merge\n",
    "\n",
    "It is possible to merge the branches later using <code>git merge</code>. This isn't often a requirement and so is left for you to investigate. Please be warned that if you change the same piece of code on both branches you are merging you may well get a conflict which will need to be resolved before you can commit - i.e. you will need to choose which of the alternative lines you want to keep. This can get messy in a complicated merge, so best to take a backup before you start the process.\n",
    "\n",
    "But usually there is no problem and the merge will result in the two branches being combined. In some cases, you'll be left with a single branch if that makes logical sense."
   ]
  },
  {
   "cell_type": "markdown",
   "metadata": {},
   "source": [
    "<hr/>\n",
    "\n",
    "## __Extra Exercises__: \n",
    "\n",
    "### 1. Redesign the loop using <code>repeat</code> and <code>for</code> loops.\n",
    "\n",
    "### 2. Look for repeated chunks of code and move them into functions.\n",
    "\n",
    "### 3. Experiment with the debugger - you can cause this to run within your code by using the function <code>browser</code>.\n",
    "\n",
    "<hr/>"
   ]
  },
  {
   "cell_type": "markdown",
   "metadata": {},
   "source": [
    "<table style=\"text-align:center;\"><tr><td width=\"100\" height=\"20\" style=\"background-color:greenyellow\"></td><td width=\"100\" height=\"20\" style=\"background-color:hotpink\"></td></tr></table>"
   ]
  },
  {
   "cell_type": "markdown",
   "metadata": {},
   "source": [
    "## Clearing up\n",
    "\n",
    "Git is now set-up for this directory. If you are happy to leave this in place, you can leave it as it is.\n",
    "\n",
    "If, when we are done, you want to remove the repository (leaving just the current working files), you just need to delete the .git directory. Before you do this, make sure you have the working files you want to keep. Check this with `git status`.\n",
    "\n",
    "<div style=\"padding-left:5px; background-color:red; color:white;\">\n",
    "    <b>WARNING</b>: This will delete all your history and version leaving you with only those versions of the files that are currently in the working directory - proceed with care.\n",
    "</div>\n",
    "<br/>\n",
    "rm -r .git\n"
   ]
  },
  {
   "cell_type": "markdown",
   "metadata": {},
   "source": [
    "<table width='100%'><tr>\n",
    "    <td style='background-color:red; text-align:center; color: white;'><!--Foundation<!--hr size='5' style='border-color:red; background-color:red;'--></td>\n",
    "    <td style='background-color:yellow; text-align:center;'><!--Level 1<!--hr size='5' style='border-color:yellow; background-color:yellow;'--></td>\n",
    "    <td style='background-color:orange; text-align:center;'><!--Level 2<!--hr size='5' style='border-color:orange; background-color:orange;'--></td>\n",
    "    <td style='background-color:green; text-align:center; color: white;'><!--Level 3<!--hr size='5' style='border-color:orange; background-color:orange;'--></td>\n",
    "    <td style='background-color:blue; text-align:center; color: white;'><!--Level 4<!--hr size='5' style='border-color:orange; background-color:orange;'--></td>\n",
    "    <td style='background-color:purple; text-align:center; color: white;'><!--Level 5<!--hr size='5' style='border-color:orange; background-color:orange;'--></td>\n",
    "    <td style='background-color:brown; text-align:center; color: white;'><!--Level 6<!--hr size='5' style='border-color:orange; background-color:orange;'--></td>\n",
    "    <td style='background-color:black; text-align:center; color: white;'><!--Level 7<!--hr size='5' style='border-color:orange; background-color:orange;'--></td>\n",
    "</tr></table>"
   ]
  }
 ],
 "metadata": {
  "kernelspec": {
   "display_name": "Bash",
   "language": "bash",
   "name": "bash"
  },
  "language_info": {
   "name": ""
  }
 },
 "nbformat": 4,
 "nbformat_minor": 4
}
