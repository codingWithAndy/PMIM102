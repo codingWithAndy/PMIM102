{
 "cells": [
  {
   "cell_type": "markdown",
   "metadata": {},
   "source": [
    "<table width='100%'><tr>\n",
    "    <td style='background-color:red; text-align:center; color: white;'><!--Foundation<!--hr size='5' style='border-color:red; background-color:red;'--></td>\n",
    "    <td style='background-color:yellow; text-align:center;'><!--Level 1<!--hr size='5' style='border-color:yellow; background-color:yellow;'--></td>\n",
    "    <td style='background-color:orange; text-align:center;'><!--Level 2<!--hr size='5' style='border-color:orange; background-color:orange;'--></td>\n",
    "    <td style='background-color:green; text-align:center; color: white;'><!--Level 3<!--hr size='5' style='border-color:orange; background-color:orange;'--></td>\n",
    "    <td style='background-color:blue; text-align:center; color: white;'><!--Level 4<!--hr size='5' style='border-color:orange; background-color:orange;'--></td>\n",
    "    <td style='background-color:purple; text-align:center; color: white;'><!--Level 5<!--hr size='5' style='border-color:orange; background-color:orange;'--></td>\n",
    "    <td style='background-color:brown; text-align:center; color: white;'><!--Level 6<!--hr size='5' style='border-color:orange; background-color:orange;'--></td>\n",
    "    <td style='background-color:black; text-align:center; color: white;'><!--Level 7<!--hr size='5' style='border-color:orange; background-color:orange;'--></td>\n",
    "</tr></table>"
   ]
  },
  {
   "cell_type": "markdown",
   "metadata": {},
   "source": [
    "<table style='border-left:10px solid orange;'><tr>\n",
    "    <td style='padding-left:20px;'>\n",
    "        <h2><i>Swansea University Medical School</i><br/><b>MSc Health Data Science</b></h2>\n",
    "        <h3>PMIM-102 Introduction to Scientific Computing in Healthcare</h3>\n",
    "        <h1><b>Introduction to Programming in R</b></h1>\n",
    "        <h2><b>3. The Tidyverse</b></h2>\n",
    "        <h2><i>Part 4: Data types in the tidyverse.</i></h2>\n",
    "        <h3><i>September 2020</i></h3>\n",
    "        <h3><b>To-do</b></h3>\n",
    "        <ul><li>Nothing.</li></ul>\n",
    "    </td>\n",
    "    <td><img height='300' width='500' src='images/cover.jpg'/></td>\n",
    "</tr></table>"
   ]
  },
  {
   "cell_type": "markdown",
   "metadata": {},
   "source": [
    "## __Aim__: Use the tools available in R to manipulate tables of data.\n",
    "\n",
    "The aim of this session is to concentrate on the core activities in working with large datasets: moving, cleaning and transforming table data to facilitate analyses. Whilst this is possible using base-R, the facilities provided by the libraries in the __Tidyverse__ make it considerably __easier__ and the resulting code __more readable__.\n",
    "\n",
    "### __A map of where we're going__\n",
    "\n",
    "1. <b>Introduction</b> - What is the process, the problems with standard R and the structure of 'tidy' data.\n",
    "\n",
    "1. <b>Acquiring data</b> - Getting data into R from files (<b>readr</b>).\n",
    "\n",
    "1. <b>Tidying the data</b> - Handling missing data and reshaping the tables (<b>tidyr</b>).\n",
    "\n",
    "1. <b>Transforming the data</b> - Selecting and converting the data ready to analyse (<b>dplyr</b>).\n",
    "\n",
    "1. <div style=\"background-color:yellow;\"><b>Working with specific data types in tidyverse</b>: strings (<b>stringr</b>), dates (<b>lubridate</b>), factors (<b>forcats</b>).</div>\n",
    "\n",
    "1. <b>Plotting &amp; Data visualisation</b> - beyond the simple R plot etc. (<b>ggplot2</b>).\n",
    "\n",
    "1. <b>Extras</b> - Things worth knowing of so that you can use them if you ever need them.\n",
    " * Applying functions and working with lists (purrr).\n",
    " * Tidy evaluation (rlang).\n",
    " * Communicating your results with a dynamic, R-based website (shiny)."
   ]
  },
  {
   "cell_type": "markdown",
   "metadata": {},
   "source": [
    "## __Load the Tidyverse__\n",
    "\n",
    "The first thing to do is make sure the library is loaded. If you have not already installed it, do so not using the <code>install.packages()</code> function."
   ]
  },
  {
   "cell_type": "code",
   "execution_count": 2,
   "metadata": {},
   "outputs": [
    {
     "name": "stderr",
     "output_type": "stream",
     "text": [
      "-- \u001b[1mAttaching packages\u001b[22m --------------------------------------- tidyverse 1.3.0 --\n",
      "\n",
      "\u001b[32mv\u001b[39m \u001b[34mggplot2\u001b[39m 3.3.2     \u001b[32mv\u001b[39m \u001b[34mpurrr  \u001b[39m 0.3.4\n",
      "\u001b[32mv\u001b[39m \u001b[34mtibble \u001b[39m 3.0.3     \u001b[32mv\u001b[39m \u001b[34mdplyr  \u001b[39m 1.0.2\n",
      "\u001b[32mv\u001b[39m \u001b[34mtidyr  \u001b[39m 1.1.2     \u001b[32mv\u001b[39m \u001b[34mstringr\u001b[39m 1.4.0\n",
      "\u001b[32mv\u001b[39m \u001b[34mreadr  \u001b[39m 1.3.1     \u001b[32mv\u001b[39m \u001b[34mforcats\u001b[39m 0.5.0\n",
      "\n",
      "-- \u001b[1mConflicts\u001b[22m ------------------------------------------ tidyverse_conflicts() --\n",
      "\u001b[31mx\u001b[39m \u001b[34mdplyr\u001b[39m::\u001b[32mfilter()\u001b[39m masks \u001b[34mstats\u001b[39m::filter()\n",
      "\u001b[31mx\u001b[39m \u001b[34mdplyr\u001b[39m::\u001b[32mlag()\u001b[39m    masks \u001b[34mstats\u001b[39m::lag()\n",
      "\n"
     ]
    }
   ],
   "source": [
    "## install.packages('tidyverse')\n",
    "#library(tidyverse)"
   ]
  },
  {
   "cell_type": "markdown",
   "metadata": {},
   "source": [
    "## __Working with specific data types: strings (stringr), dates (lubridate), factors (forcats)__\n",
    "\n",
    "There are three different data types in R that often introduce additional problems or subtleties to the work: strings, dates and factors.\n",
    "\n",
    "### __Strings__\n",
    "\n",
    "Strings are sequences of characters: words, text etc. As such they are naturally used to convey meaning and naturally subject to spelling mistakes, odd use of capitalisation etc. and we frequently need to process text to make sure all variations of any text are caught (which is one of the strengths of regular expressions). Often it is simply a case of making sure we catch the outliers, for example, with the gleason codes used in prostate cancer, we expect:\n",
    "\n",
    "`GLEASON 3+4=7`\n",
    "\n",
    "but we might get:\n",
    "\n",
    "`3+4=7`, `3+4`, `-+-=7`, `7`, `GLEASON 4+3=8`\n",
    "\n",
    "and we have to spot these and do something defined in all cases.\n",
    "\n",
    "[See the stringr cheatsheet.](https://github.com/rstudio/cheatsheets/blob/master/strings.pdf)\n",
    "\n",
    "Searching, creating or changing strings is simplified in R with the `stringr` library. There are functions to find, count or locate matches in strings, to select parts of strings and to measure or adjust the length of strings. We can also change parts of strings, join or split them and sort them. A full list of these functions is shown in the cheatsheet.\n",
    "\n",
    "The most useful functions are:\n",
    "* `str_length(x)` which returns the length of the string, x.\n",
    "* `str_sub(x, start, stop)` which returns the substring in x that starts at position start (left-most is 1) and ends at position stop. You can use negative numbers to count from the end of the string (right-most is -1)."
   ]
  },
  {
   "cell_type": "code",
   "execution_count": 9,
   "metadata": {},
   "outputs": [
    {
     "data": {
      "text/html": [
       "'GLEASON'"
      ],
      "text/latex": [
       "'GLEASON'"
      ],
      "text/markdown": [
       "'GLEASON'"
      ],
      "text/plain": [
       "[1] \"GLEASON\""
      ]
     },
     "metadata": {},
     "output_type": "display_data"
    },
    {
     "data": {
      "text/html": [
       "'3+4=7'"
      ],
      "text/latex": [
       "'3+4=7'"
      ],
      "text/markdown": [
       "'3+4=7'"
      ],
      "text/plain": [
       "[1] \"3+4=7\""
      ]
     },
     "metadata": {},
     "output_type": "display_data"
    },
    {
     "data": {
      "text/html": [
       "'3+4'"
      ],
      "text/latex": [
       "'3+4'"
      ],
      "text/markdown": [
       "'3+4'"
      ],
      "text/plain": [
       "[1] \"3+4\""
      ]
     },
     "metadata": {},
     "output_type": "display_data"
    }
   ],
   "source": [
    "#str_sub('GLEASON 3+4=7', 1, 7)\n",
    "#str_sub('GLEASON 3+4=7', 9, -1)\n",
    "#str_sub('GLEASON 3+4=7', -5, -3)"
   ]
  },
  {
   "cell_type": "code",
   "execution_count": 4,
   "metadata": {},
   "outputs": [
    {
     "name": "stderr",
     "output_type": "stream",
     "text": [
      "Parsed with column specification:\n",
      "cols(\n",
      "  .default = col_character(),\n",
      "  PARENT_ID = \u001b[32mcol_double()\u001b[39m,\n",
      "  INFANT_ID = \u001b[32mcol_double()\u001b[39m\n",
      ")\n",
      "\n",
      "See spec(...) for full column specifications.\n",
      "\n"
     ]
    },
    {
     "data": {
      "text/html": [
       "<table>\n",
       "<caption>A tibble: 6 × 95</caption>\n",
       "<thead>\n",
       "\t<tr><th scope=col>PARENT_ID</th><th scope=col>INFANT_ID</th><th scope=col>DATE_OF_BIRTH</th><th scope=col>EDD</th><th scope=col>BIRTH_PLAN</th><th scope=col>LANGUAGE</th><th scope=col>OTHER_LANGUAGE</th><th scope=col>ETHNICITY</th><th scope=col>OTHER_ETHNICITY</th><th scope=col>RELATIONSHIP_STATUS</th><th scope=col>...</th><th scope=col>SMOKE_NUMBER</th><th scope=col>ALCOHOL</th><th scope=col>EARLY_PREG_ALCOHOL</th><th scope=col>MID_LATE_PREG_ALCOHOL</th><th scope=col>MEDICATION1</th><th scope=col>MEDICATION2</th><th scope=col>MEDICATION3</th><th scope=col>MEDICATION4</th><th scope=col>MEDICATION5</th><th scope=col>MEDICATION6</th></tr>\n",
       "\t<tr><th scope=col>&lt;dbl&gt;</th><th scope=col>&lt;dbl&gt;</th><th scope=col>&lt;chr&gt;</th><th scope=col>&lt;chr&gt;</th><th scope=col>&lt;chr&gt;</th><th scope=col>&lt;chr&gt;</th><th scope=col>&lt;chr&gt;</th><th scope=col>&lt;chr&gt;</th><th scope=col>&lt;chr&gt;</th><th scope=col>&lt;chr&gt;</th><th scope=col>...</th><th scope=col>&lt;chr&gt;</th><th scope=col>&lt;chr&gt;</th><th scope=col>&lt;chr&gt;</th><th scope=col>&lt;chr&gt;</th><th scope=col>&lt;chr&gt;</th><th scope=col>&lt;chr&gt;</th><th scope=col>&lt;chr&gt;</th><th scope=col>&lt;chr&gt;</th><th scope=col>&lt;chr&gt;</th><th scope=col>&lt;chr&gt;</th></tr>\n",
       "</thead>\n",
       "<tbody>\n",
       "\t<tr><td> 47</td><td> 47.1</td><td>18/12/1965</td><td>30/07/2010</td><td>3</td><td>.</td><td>.</td><td>1</td><td>.</td><td>4</td><td>...</td><td>.</td><td>0</td><td>.</td><td>.</td><td>. </td><td>.</td><td>.</td><td>.</td><td>.</td><td>.</td></tr>\n",
       "\t<tr><td> 47</td><td> 47.2</td><td>18/12/1965</td><td>30/07/2010</td><td>3</td><td>.</td><td>.</td><td>1</td><td>.</td><td>4</td><td>...</td><td>.</td><td>0</td><td>.</td><td>.</td><td>. </td><td>.</td><td>.</td><td>.</td><td>.</td><td>.</td></tr>\n",
       "\t<tr><td> 45</td><td> 45.1</td><td>05/03/1966</td><td>12/07/2010</td><td>3</td><td>1</td><td>.</td><td>1</td><td>.</td><td>4</td><td>...</td><td>.</td><td>0</td><td>.</td><td>.</td><td>13</td><td>.</td><td>.</td><td>.</td><td>.</td><td>.</td></tr>\n",
       "\t<tr><td>172</td><td>172.1</td><td>06/03/1967</td><td>27/01/2011</td><td>2</td><td>1</td><td>.</td><td>1</td><td>.</td><td>4</td><td>...</td><td>0</td><td>1</td><td>.</td><td>.</td><td>. </td><td>.</td><td>.</td><td>.</td><td>.</td><td>.</td></tr>\n",
       "\t<tr><td>  8</td><td>  8.1</td><td>24/12/1967</td><td>09/03/2010</td><td>2</td><td>1</td><td>.</td><td>1</td><td>.</td><td>4</td><td>...</td><td>.</td><td>1</td><td>.</td><td>.</td><td>13</td><td>.</td><td>.</td><td>.</td><td>.</td><td>.</td></tr>\n",
       "\t<tr><td>301</td><td>301.1</td><td>16/05/1968</td><td>27/04/2011</td><td>1</td><td>1</td><td>.</td><td>1</td><td>.</td><td>2</td><td>...</td><td>3</td><td>1</td><td>.</td><td>.</td><td>. </td><td>.</td><td>.</td><td>.</td><td>.</td><td>.</td></tr>\n",
       "</tbody>\n",
       "</table>\n"
      ],
      "text/latex": [
       "A tibble: 6 × 95\n",
       "\\begin{tabular}{lllllllllllllllllllll}\n",
       " PARENT\\_ID & INFANT\\_ID & DATE\\_OF\\_BIRTH & EDD & BIRTH\\_PLAN & LANGUAGE & OTHER\\_LANGUAGE & ETHNICITY & OTHER\\_ETHNICITY & RELATIONSHIP\\_STATUS & ... & SMOKE\\_NUMBER & ALCOHOL & EARLY\\_PREG\\_ALCOHOL & MID\\_LATE\\_PREG\\_ALCOHOL & MEDICATION1 & MEDICATION2 & MEDICATION3 & MEDICATION4 & MEDICATION5 & MEDICATION6\\\\\n",
       " <dbl> & <dbl> & <chr> & <chr> & <chr> & <chr> & <chr> & <chr> & <chr> & <chr> & ... & <chr> & <chr> & <chr> & <chr> & <chr> & <chr> & <chr> & <chr> & <chr> & <chr>\\\\\n",
       "\\hline\n",
       "\t  47 &  47.1 & 18/12/1965 & 30/07/2010 & 3 & . & . & 1 & . & 4 & ... & . & 0 & . & . & .  & . & . & . & . & .\\\\\n",
       "\t  47 &  47.2 & 18/12/1965 & 30/07/2010 & 3 & . & . & 1 & . & 4 & ... & . & 0 & . & . & .  & . & . & . & . & .\\\\\n",
       "\t  45 &  45.1 & 05/03/1966 & 12/07/2010 & 3 & 1 & . & 1 & . & 4 & ... & . & 0 & . & . & 13 & . & . & . & . & .\\\\\n",
       "\t 172 & 172.1 & 06/03/1967 & 27/01/2011 & 2 & 1 & . & 1 & . & 4 & ... & 0 & 1 & . & . & .  & . & . & . & . & .\\\\\n",
       "\t   8 &   8.1 & 24/12/1967 & 09/03/2010 & 2 & 1 & . & 1 & . & 4 & ... & . & 1 & . & . & 13 & . & . & . & . & .\\\\\n",
       "\t 301 & 301.1 & 16/05/1968 & 27/04/2011 & 1 & 1 & . & 1 & . & 2 & ... & 3 & 1 & . & . & .  & . & . & . & . & .\\\\\n",
       "\\end{tabular}\n"
      ],
      "text/markdown": [
       "\n",
       "A tibble: 6 × 95\n",
       "\n",
       "| PARENT_ID &lt;dbl&gt; | INFANT_ID &lt;dbl&gt; | DATE_OF_BIRTH &lt;chr&gt; | EDD &lt;chr&gt; | BIRTH_PLAN &lt;chr&gt; | LANGUAGE &lt;chr&gt; | OTHER_LANGUAGE &lt;chr&gt; | ETHNICITY &lt;chr&gt; | OTHER_ETHNICITY &lt;chr&gt; | RELATIONSHIP_STATUS &lt;chr&gt; | ... ... | SMOKE_NUMBER &lt;chr&gt; | ALCOHOL &lt;chr&gt; | EARLY_PREG_ALCOHOL &lt;chr&gt; | MID_LATE_PREG_ALCOHOL &lt;chr&gt; | MEDICATION1 &lt;chr&gt; | MEDICATION2 &lt;chr&gt; | MEDICATION3 &lt;chr&gt; | MEDICATION4 &lt;chr&gt; | MEDICATION5 &lt;chr&gt; | MEDICATION6 &lt;chr&gt; |\n",
       "|---|---|---|---|---|---|---|---|---|---|---|---|---|---|---|---|---|---|---|---|---|\n",
       "|  47 |  47.1 | 18/12/1965 | 30/07/2010 | 3 | . | . | 1 | . | 4 | ... | . | 0 | . | . | .  | . | . | . | . | . |\n",
       "|  47 |  47.2 | 18/12/1965 | 30/07/2010 | 3 | . | . | 1 | . | 4 | ... | . | 0 | . | . | .  | . | . | . | . | . |\n",
       "|  45 |  45.1 | 05/03/1966 | 12/07/2010 | 3 | 1 | . | 1 | . | 4 | ... | . | 0 | . | . | 13 | . | . | . | . | . |\n",
       "| 172 | 172.1 | 06/03/1967 | 27/01/2011 | 2 | 1 | . | 1 | . | 4 | ... | 0 | 1 | . | . | .  | . | . | . | . | . |\n",
       "|   8 |   8.1 | 24/12/1967 | 09/03/2010 | 2 | 1 | . | 1 | . | 4 | ... | . | 1 | . | . | 13 | . | . | . | . | . |\n",
       "| 301 | 301.1 | 16/05/1968 | 27/04/2011 | 1 | 1 | . | 1 | . | 2 | ... | 3 | 1 | . | . | .  | . | . | . | . | . |\n",
       "\n"
      ],
      "text/plain": [
       "  PARENT_ID INFANT_ID DATE_OF_BIRTH EDD        BIRTH_PLAN LANGUAGE\n",
       "1  47        47.1     18/12/1965    30/07/2010 3          .       \n",
       "2  47        47.2     18/12/1965    30/07/2010 3          .       \n",
       "3  45        45.1     05/03/1966    12/07/2010 3          1       \n",
       "4 172       172.1     06/03/1967    27/01/2011 2          1       \n",
       "5   8         8.1     24/12/1967    09/03/2010 2          1       \n",
       "6 301       301.1     16/05/1968    27/04/2011 1          1       \n",
       "  OTHER_LANGUAGE ETHNICITY OTHER_ETHNICITY RELATIONSHIP_STATUS ... SMOKE_NUMBER\n",
       "1 .              1         .               4                   ... .           \n",
       "2 .              1         .               4                   ... .           \n",
       "3 .              1         .               4                   ... .           \n",
       "4 .              1         .               4                   ... 0           \n",
       "5 .              1         .               4                   ... .           \n",
       "6 .              1         .               2                   ... 3           \n",
       "  ALCOHOL EARLY_PREG_ALCOHOL MID_LATE_PREG_ALCOHOL MEDICATION1 MEDICATION2\n",
       "1 0       .                  .                     .           .          \n",
       "2 0       .                  .                     .           .          \n",
       "3 0       .                  .                     13          .          \n",
       "4 1       .                  .                     .           .          \n",
       "5 1       .                  .                     13          .          \n",
       "6 1       .                  .                     .           .          \n",
       "  MEDICATION3 MEDICATION4 MEDICATION5 MEDICATION6\n",
       "1 .           .           .           .          \n",
       "2 .           .           .           .          \n",
       "3 .           .           .           .          \n",
       "4 .           .           .           .          \n",
       "5 .           .           .           .          \n",
       "6 .           .           .           .          "
      ]
     },
     "metadata": {},
     "output_type": "display_data"
    },
    {
     "data": {
      "text/html": [
       "<table>\n",
       "<caption>A tibble: 1 × 4</caption>\n",
       "<thead>\n",
       "\t<tr><th scope=col>PARENT_ID</th><th scope=col>DATE_OF_BIRTH</th><th scope=col>OTHER_LANGUAGE</th><th scope=col>OTHER_ETHNICITY</th></tr>\n",
       "\t<tr><th scope=col>&lt;dbl&gt;</th><th scope=col>&lt;chr&gt;</th><th scope=col>&lt;chr&gt;</th><th scope=col>&lt;chr&gt;</th></tr>\n",
       "</thead>\n",
       "<tbody>\n",
       "\t<tr><td>424</td><td>16/02/1981</td><td>polish</td><td>polish</td></tr>\n",
       "</tbody>\n",
       "</table>\n"
      ],
      "text/latex": [
       "A tibble: 1 × 4\n",
       "\\begin{tabular}{llll}\n",
       " PARENT\\_ID & DATE\\_OF\\_BIRTH & OTHER\\_LANGUAGE & OTHER\\_ETHNICITY\\\\\n",
       " <dbl> & <chr> & <chr> & <chr>\\\\\n",
       "\\hline\n",
       "\t 424 & 16/02/1981 & polish & polish\\\\\n",
       "\\end{tabular}\n"
      ],
      "text/markdown": [
       "\n",
       "A tibble: 1 × 4\n",
       "\n",
       "| PARENT_ID &lt;dbl&gt; | DATE_OF_BIRTH &lt;chr&gt; | OTHER_LANGUAGE &lt;chr&gt; | OTHER_ETHNICITY &lt;chr&gt; |\n",
       "|---|---|---|---|\n",
       "| 424 | 16/02/1981 | polish | polish |\n",
       "\n"
      ],
      "text/plain": [
       "  PARENT_ID DATE_OF_BIRTH OTHER_LANGUAGE OTHER_ETHNICITY\n",
       "1 424       16/02/1981    polish         polish         "
      ]
     },
     "metadata": {},
     "output_type": "display_data"
    }
   ],
   "source": [
    "## library(stringr)\n",
    "#pregnancy <- read_csv(file=\"data/pregnancy.csv\")\n",
    "#head(pregnancy)\n",
    "\n",
    "#string_test <- pregnancy %>% select(PARENT_ID, DATE_OF_BIRTH, OTHER_LANGUAGE, OTHER_ETHNICITY) %>% filter(!is.na(OTHER_LANGUAGE)|!is.na(OTHER_ETHNICITY))\n",
    "#string_test %>% filter(str_detect(OTHER_LANGUAGE, str_sub('Polish', 2, str_length('Polish'))))"
   ]
  },
  {
   "cell_type": "code",
   "execution_count": 5,
   "metadata": {},
   "outputs": [
    {
     "data": {
      "text/html": [
       "<table>\n",
       "<caption>A tibble: 3 × 1</caption>\n",
       "<thead>\n",
       "\t<tr><th scope=col>Gleason</th></tr>\n",
       "\t<tr><th scope=col>&lt;chr&gt;</th></tr>\n",
       "</thead>\n",
       "<tbody>\n",
       "\t<tr><td>GLEASON 3+4=7</td></tr>\n",
       "\t<tr><td>DUKES=B      </td></tr>\n",
       "\t<tr><td>T1a          </td></tr>\n",
       "</tbody>\n",
       "</table>\n"
      ],
      "text/latex": [
       "A tibble: 3 × 1\n",
       "\\begin{tabular}{l}\n",
       " Gleason\\\\\n",
       " <chr>\\\\\n",
       "\\hline\n",
       "\t GLEASON 3+4=7\\\\\n",
       "\t DUKES=B      \\\\\n",
       "\t T1a          \\\\\n",
       "\\end{tabular}\n"
      ],
      "text/markdown": [
       "\n",
       "A tibble: 3 × 1\n",
       "\n",
       "| Gleason &lt;chr&gt; |\n",
       "|---|\n",
       "| GLEASON 3+4=7 |\n",
       "| DUKES=B       |\n",
       "| T1a           |\n",
       "\n"
      ],
      "text/plain": [
       "  Gleason      \n",
       "1 GLEASON 3+4=7\n",
       "2 DUKES=B      \n",
       "3 T1a          "
      ]
     },
     "metadata": {},
     "output_type": "display_data"
    },
    {
     "data": {
      "text/html": [
       "<table>\n",
       "<caption>A tibble: 3 × 1</caption>\n",
       "<thead>\n",
       "\t<tr><th scope=col>Gleason</th></tr>\n",
       "\t<tr><th scope=col>&lt;chr&gt;</th></tr>\n",
       "</thead>\n",
       "<tbody>\n",
       "\t<tr><td>7 </td></tr>\n",
       "\t<tr><td>NA</td></tr>\n",
       "\t<tr><td>NA</td></tr>\n",
       "</tbody>\n",
       "</table>\n"
      ],
      "text/latex": [
       "A tibble: 3 × 1\n",
       "\\begin{tabular}{l}\n",
       " Gleason\\\\\n",
       " <chr>\\\\\n",
       "\\hline\n",
       "\t 7 \\\\\n",
       "\t NA\\\\\n",
       "\t NA\\\\\n",
       "\\end{tabular}\n"
      ],
      "text/markdown": [
       "\n",
       "A tibble: 3 × 1\n",
       "\n",
       "| Gleason &lt;chr&gt; |\n",
       "|---|\n",
       "| 7  |\n",
       "| NA |\n",
       "| NA |\n",
       "\n"
      ],
      "text/plain": [
       "  Gleason\n",
       "1 7      \n",
       "2 NA     \n",
       "3 NA     "
      ]
     },
     "metadata": {},
     "output_type": "display_data"
    }
   ],
   "source": [
    "#x <- tibble(Gleason=c('GLEASON 3+4=7', 'DUKES=B', 'T1a'))\n",
    "#x\n",
    "#x %>% mutate(Gleason=ifelse(str_detect(str_sub(Gleason, 1, 7), 'GLEASON'), str_sub(Gleason, 9, str_length(Gleason)), NA)) %>%\n",
    "#      mutate(Gleason=str_sub(Gleason, str_locate(Gleason, '=')[,1] + 1, str_length(Gleason)))"
   ]
  },
  {
   "cell_type": "markdown",
   "metadata": {},
   "source": [
    "## __Exercise__: Something devilish to do with string handling.\n",
    "\n",
    "1. List the number of attacks which involved each shirt colour and each monster type with: 'The \\<monster\\> attacked redshirts \\<number\\> times.'\n",
    "1. Choose a monster and find out how many attacks it made and on which shirt colours.\n",
    "1. Create a list of words and their frequencies."
   ]
  },
  {
   "cell_type": "code",
   "execution_count": 91,
   "metadata": {},
   "outputs": [
    {
     "data": {
      "text/html": [
       "<ol class=list-inline>\n",
       "\t<li>41</li>\n",
       "\t<li>41</li>\n",
       "\t<li>33</li>\n",
       "\t<li>49</li>\n",
       "\t<li>35</li>\n",
       "</ol>\n"
      ],
      "text/latex": [
       "\\begin{enumerate*}\n",
       "\\item 41\n",
       "\\item 41\n",
       "\\item 33\n",
       "\\item 49\n",
       "\\item 35\n",
       "\\end{enumerate*}\n"
      ],
      "text/markdown": [
       "1. 41\n",
       "2. 41\n",
       "3. 33\n",
       "4. 49\n",
       "5. 35\n",
       "\n",
       "\n"
      ],
      "text/plain": [
       "[1] 41 41 33 49 35"
      ]
     },
     "metadata": {},
     "output_type": "display_data"
    },
    {
     "data": {
      "text/html": [
       "'The redshirt was bitten by a red vampire.'"
      ],
      "text/latex": [
       "'The redshirt was bitten by a red vampire.'"
      ],
      "text/markdown": [
       "'The redshirt was bitten by a red vampire.'"
      ],
      "text/plain": [
       "[1] \"The redshirt was bitten by a red vampire.\""
      ]
     },
     "metadata": {},
     "output_type": "display_data"
    },
    {
     "data": {
      "text/html": [
       "<table>\n",
       "<caption>A matrix: 1 × 2 of type int</caption>\n",
       "<thead>\n",
       "\t<tr><th scope=col>start</th><th scope=col>end</th></tr>\n",
       "</thead>\n",
       "<tbody>\n",
       "\t<tr><td>5</td><td>7</td></tr>\n",
       "</tbody>\n",
       "</table>\n"
      ],
      "text/latex": [
       "A matrix: 1 × 2 of type int\n",
       "\\begin{tabular}{ll}\n",
       " start & end\\\\\n",
       "\\hline\n",
       "\t 5 & 7\\\\\n",
       "\\end{tabular}\n"
      ],
      "text/markdown": [
       "\n",
       "A matrix: 1 × 2 of type int\n",
       "\n",
       "| start | end |\n",
       "|---|---|\n",
       "| 5 | 7 |\n",
       "\n"
      ],
      "text/plain": [
       "     start end\n",
       "[1,] 5     7  "
      ]
     },
     "metadata": {},
     "output_type": "display_data"
    },
    {
     "data": {
      "text/html": [
       "<ol>\n",
       "\t<li><table>\n",
       "<caption>A matrix: 2 × 2 of type int</caption>\n",
       "<thead>\n",
       "\t<tr><th scope=col>start</th><th scope=col>end</th></tr>\n",
       "</thead>\n",
       "<tbody>\n",
       "\t<tr><td> 5</td><td> 7</td></tr>\n",
       "\t<tr><td>30</td><td>32</td></tr>\n",
       "</tbody>\n",
       "</table>\n",
       "</li>\n",
       "</ol>\n"
      ],
      "text/latex": [
       "\\begin{enumerate}\n",
       "\\item A matrix: 2 × 2 of type int\n",
       "\\begin{tabular}{ll}\n",
       " start & end\\\\\n",
       "\\hline\n",
       "\t  5 &  7\\\\\n",
       "\t 30 & 32\\\\\n",
       "\\end{tabular}\n",
       "\n",
       "\\end{enumerate}\n"
      ],
      "text/markdown": [
       "1. \n",
       "A matrix: 2 × 2 of type int\n",
       "\n",
       "| start | end |\n",
       "|---|---|\n",
       "|  5 |  7 |\n",
       "| 30 | 32 |\n",
       "\n",
       "\n",
       "\n",
       "\n"
      ],
      "text/plain": [
       "[[1]]\n",
       "     start end\n",
       "[1,]     5   7\n",
       "[2,]    30  32\n"
      ]
     },
     "metadata": {},
     "output_type": "display_data"
    },
    {
     "data": {
      "text/html": [],
      "text/latex": [],
      "text/markdown": [],
      "text/plain": [
       "character(0)"
      ]
     },
     "metadata": {},
     "output_type": "display_data"
    },
    {
     "data": {
      "text/html": [
       "<ol class=list-inline>\n",
       "\t<li>'the'</li>\n",
       "\t<li>'blueshirt'</li>\n",
       "\t<li>'was'</li>\n",
       "\t<li>'bitten'</li>\n",
       "\t<li>'by'</li>\n",
       "\t<li>'a'</li>\n",
       "\t<li>'red'</li>\n",
       "\t<li>'green.'</li>\n",
       "\t<li>'the'</li>\n",
       "\t<li>'basilisk'</li>\n",
       "\t<li>'froze'</li>\n",
       "\t<li>'seven'</li>\n",
       "\t<li>'securty'</li>\n",
       "\t<li>'officers'</li>\n",
       "\t<li>'spock'</li>\n",
       "\t<li>'was'</li>\n",
       "\t<li>'attacked'</li>\n",
       "\t<li>'by'</li>\n",
       "\t<li>'the'</li>\n",
       "\t<li>'zombies'</li>\n",
       "\t<li>'werewolves'</li>\n",
       "\t<li>'ate'</li>\n",
       "\t<li>'four'</li>\n",
       "\t<li>'redshirts'</li>\n",
       "\t<li>'and'</li>\n",
       "\t<li>'one'</li>\n",
       "\t<li>'yellowshirt'</li>\n",
       "\t<li>'the'</li>\n",
       "\t<li>'captain'</li>\n",
       "\t<li>'spontaneously'</li>\n",
       "\t<li>'combusted'</li>\n",
       "</ol>\n"
      ],
      "text/latex": [
       "\\begin{enumerate*}\n",
       "\\item 'the'\n",
       "\\item 'blueshirt'\n",
       "\\item 'was'\n",
       "\\item 'bitten'\n",
       "\\item 'by'\n",
       "\\item 'a'\n",
       "\\item 'red'\n",
       "\\item 'green.'\n",
       "\\item 'the'\n",
       "\\item 'basilisk'\n",
       "\\item 'froze'\n",
       "\\item 'seven'\n",
       "\\item 'securty'\n",
       "\\item 'officers'\n",
       "\\item 'spock'\n",
       "\\item 'was'\n",
       "\\item 'attacked'\n",
       "\\item 'by'\n",
       "\\item 'the'\n",
       "\\item 'zombies'\n",
       "\\item 'werewolves'\n",
       "\\item 'ate'\n",
       "\\item 'four'\n",
       "\\item 'redshirts'\n",
       "\\item 'and'\n",
       "\\item 'one'\n",
       "\\item 'yellowshirt'\n",
       "\\item 'the'\n",
       "\\item 'captain'\n",
       "\\item 'spontaneously'\n",
       "\\item 'combusted'\n",
       "\\end{enumerate*}\n"
      ],
      "text/markdown": [
       "1. 'the'\n",
       "2. 'blueshirt'\n",
       "3. 'was'\n",
       "4. 'bitten'\n",
       "5. 'by'\n",
       "6. 'a'\n",
       "7. 'red'\n",
       "8. 'green.'\n",
       "9. 'the'\n",
       "10. 'basilisk'\n",
       "11. 'froze'\n",
       "12. 'seven'\n",
       "13. 'securty'\n",
       "14. 'officers'\n",
       "15. 'spock'\n",
       "16. 'was'\n",
       "17. 'attacked'\n",
       "18. 'by'\n",
       "19. 'the'\n",
       "20. 'zombies'\n",
       "21. 'werewolves'\n",
       "22. 'ate'\n",
       "23. 'four'\n",
       "24. 'redshirts'\n",
       "25. 'and'\n",
       "26. 'one'\n",
       "27. 'yellowshirt'\n",
       "28. 'the'\n",
       "29. 'captain'\n",
       "30. 'spontaneously'\n",
       "31. 'combusted'\n",
       "\n",
       "\n"
      ],
      "text/plain": [
       " [1] \"the\"           \"blueshirt\"     \"was\"           \"bitten\"       \n",
       " [5] \"by\"            \"a\"             \"red\"           \"green.\"       \n",
       " [9] \"the\"           \"basilisk\"      \"froze\"         \"seven\"        \n",
       "[13] \"securty\"       \"officers\"      \"spock\"         \"was\"          \n",
       "[17] \"attacked\"      \"by\"            \"the\"           \"zombies\"      \n",
       "[21] \"werewolves\"    \"ate\"           \"four\"          \"redshirts\"    \n",
       "[25] \"and\"           \"one\"           \"yellowshirt\"   \"the\"          \n",
       "[29] \"captain\"       \"spontaneously\" \"combusted\"    "
      ]
     },
     "metadata": {},
     "output_type": "display_data"
    },
    {
     "name": "stdout",
     "output_type": "stream",
     "text": [
      "word\n",
      "            a           and           ate      attacked      basilisk \n",
      "            1             1             1             1             1 \n",
      "       bitten     blueshirt            by       captain     combusted \n",
      "            1             1             2             1             1 \n",
      "         four         froze        green.      officers           one \n",
      "            1             1             1             1             1 \n",
      "          red     redshirts       securty         seven         spock \n",
      "            1             1             1             1             1 \n",
      "spontaneously           the           was    werewolves   yellowshirt \n",
      "            1             4             2             1             1 \n",
      "      zombies \n",
      "            1 \n"
     ]
    },
    {
     "data": {
      "text/html": [
       "'table'"
      ],
      "text/latex": [
       "'table'"
      ],
      "text/markdown": [
       "'table'"
      ],
      "text/plain": [
       "[1] \"table\""
      ]
     },
     "metadata": {},
     "output_type": "display_data"
    },
    {
     "name": "stdout",
     "output_type": "stream",
     "text": [
      "            word Freq\n",
      "1            the    4\n",
      "2             by    2\n",
      "3            was    2\n",
      "4              a    1\n",
      "5            and    1\n",
      "6            ate    1\n",
      "7       attacked    1\n",
      "8       basilisk    1\n",
      "9         bitten    1\n",
      "10     blueshirt    1\n",
      "11       captain    1\n",
      "12     combusted    1\n",
      "13          four    1\n",
      "14         froze    1\n",
      "15        green.    1\n",
      "16      officers    1\n",
      "17           one    1\n",
      "18           red    1\n",
      "19     redshirts    1\n",
      "20       securty    1\n",
      "21         seven    1\n",
      "22         spock    1\n",
      "23 spontaneously    1\n",
      "24    werewolves    1\n",
      "25   yellowshirt    1\n",
      "26       zombies    1\n"
     ]
    }
   ],
   "source": [
    "#events <- c(\n",
    "#    'The redshirt was bitten by a red vampire.',\n",
    "#    'The basilisk froze seven securty officers',\n",
    "#    'Spock was attacked by the zombies',\n",
    "#    'Werewolves ate four redshirts and one yellowshirt',\n",
    "#    'The captain spontaneously combusted'\n",
    "#)\n",
    "#str_length(events)\n",
    "#events[str_detect(events, 'vampire')]\n",
    "#str_locate(events[str_detect(events, 'vampire')], 'red')\n",
    "#str_locate_all(events[str_detect(events, 'vampire')], 'red')\n",
    "#str_sub(events[str_detect(events, 'vampire')], str_locate(events[str_detect(events, 'vampire')], 'red')) <-'blue'\n",
    "#str_sub(events[str_detect(events, 'vampire')], str_locate(events[str_detect(events, 'vampire')], 'vampire')) <- 'green'\n",
    "#events[str_detect(events, 'vampire')]\n",
    "\n",
    "#word <- str_to_lower(unlist(str_split(events, ' ')))\n",
    "#word\n",
    "#t <- table(word)\n",
    "#print(t)\n",
    "#class(t)\n",
    "#u <- as.data.frame(t)\n",
    "#print(u %>% arrange(desc(Freq)))"
   ]
  },
  {
   "cell_type": "markdown",
   "metadata": {},
   "source": [
    "## _Regular Expressions_\n",
    "Regular expressions are a way to describe pattern in strings and is the defaullt form of the 'pattern' used in stringr, e.g. `str_match(string, pattern)`. They may seem obscure to start with but you quickly get used to them with practice. The rules define the patterns that match:\n",
    "\n",
    "* 'x' --- match the character x\n",
    "* 'x|y' --- match the character x or the character y\n",
    "* '\\[xyz\\]' --- match any one of x, y or z\n",
    "* '\\[^xyz\\]' --- match anything but x, y or z\n",
    "* '\\[t-z\\]' --- match anything from t to z\n",
    "* '^a' --- match anything that starts with a\n",
    "* 'a\\$' --- match anything that ends with a\n",
    "* '^abcdef\\$' --- match abcdef only\n",
    "* 'a?' --- match zero or one a\n",
    "* 'a*' --- match zero or more a's\n",
    "* 'a+' --- match one or more a's\n",
    "* 'a{n}' --- match exactly n a's\n",
    "* 'a{n,}' --- match n or more a's\n",
    "* 'a{n,m}' --- match n to m a's\n",
    "* '.' --- match any character (except a new-line)\n",
    "* '\\[:digit:\\]' --- match a digit (see also: alpha, lower, upper, alnum, punct, graph, space, blank)\n",
    "* '(ab|c)(d|ef)' --- match the first group followed by the second group i.e. 'ab' or 'c' followed by 'd' or 'ef'\n",
    "\n",
    "For example, if we wish to find the character, 'x', we simply use 'x'. If we want to find 'x' or 'y', we use 'x|y'. If we want to find one of a set of characters, we use '\\[xyz\\]' which will find one of 'x', ''y' or 'z'. If we want to find 'abc' or 'd' followed by 'e', we use '(abc|d)e'.\n",
    "\n",
    "| Regular Expression | Matches, for example |\n",
    "| --- | --- |\n",
    "| ^a | a, apple, aardvark, a00001 |\n",
    "| \\[a\\] | a, baa, people with a problem, aaaaaaaaaaaaaa |\n",
    "| \\[ab\\] | a, baa, boo, oboe |\n",
    "| \\[a\\]\\*\\[b\\]\\* | bbb, aaa, aaaabbbb, aaaaacccc |\n",
    "| \\[a\\]+\\[b\\]+ | abbbb, aaaaab, abc |\n",
    "| \\[A-Za-z\\]+ | any, word, butnotanumberbyitself |\n",
    "| ^\\[a-z-\\]+\\[@\\]{1}\\[a-z\\]+(\\[.\\]{1}\\[a-z\\]+)*$ | hello@regexp.co.uk, help-me@google.com |\n",
    "\n",
    "You can use other forms of pattern if you convert them with one of the helper functions:\n",
    "* regex() --- the default\n",
    "* fixed() --- matches raw bytes but, some characters can be represented in multiple ways and these will be missed\n",
    "* coll() --- matches raw bytes and uses locale collation rules to match multiply represented characters (slow)\n",
    "* boundary() --- matches boundaries between characters"
   ]
  },
  {
   "cell_type": "code",
   "execution_count": 10,
   "metadata": {},
   "outputs": [
    {
     "data": {
      "text/html": [
       "<table>\n",
       "<caption>A matrix: 1 × 1 of type chr</caption>\n",
       "<tbody>\n",
       "\t<tr><td>7?</td></tr>\n",
       "</tbody>\n",
       "</table>\n"
      ],
      "text/latex": [
       "A matrix: 1 × 1 of type chr\n",
       "\\begin{tabular}{l}\n",
       "\t 7?\\\\\n",
       "\\end{tabular}\n"
      ],
      "text/markdown": [
       "\n",
       "A matrix: 1 × 1 of type chr\n",
       "\n",
       "| 7? |\n",
       "\n"
      ],
      "text/plain": [
       "     [,1]\n",
       "[1,] 7?  "
      ]
     },
     "metadata": {},
     "output_type": "display_data"
    },
    {
     "data": {
      "text/html": [
       "<ol>\n",
       "\t<li><style>\n",
       ".list-inline {list-style: none; margin:0; padding: 0}\n",
       ".list-inline>li {display: inline-block}\n",
       ".list-inline>li:not(:last-child)::after {content: \"\\00b7\"; padding: 0 .5ex}\n",
       "</style>\n",
       "<ol class=list-inline><li>'How'</li><li>'many'</li><li>'redshirts'</li><li>'were'</li><li>'killed'</li><li>'in'</li><li>'episode'</li><li>'7'</li></ol>\n",
       "</li>\n",
       "</ol>\n"
      ],
      "text/latex": [
       "\\begin{enumerate}\n",
       "\\item \\begin{enumerate*}\n",
       "\\item 'How'\n",
       "\\item 'many'\n",
       "\\item 'redshirts'\n",
       "\\item 'were'\n",
       "\\item 'killed'\n",
       "\\item 'in'\n",
       "\\item 'episode'\n",
       "\\item '7'\n",
       "\\end{enumerate*}\n",
       "\n",
       "\\end{enumerate}\n"
      ],
      "text/markdown": [
       "1. 1. 'How'\n",
       "2. 'many'\n",
       "3. 'redshirts'\n",
       "4. 'were'\n",
       "5. 'killed'\n",
       "6. 'in'\n",
       "7. 'episode'\n",
       "8. '7'\n",
       "\n",
       "\n",
       "\n",
       "\n",
       "\n"
      ],
      "text/plain": [
       "[[1]]\n",
       "[1] \"How\"       \"many\"      \"redshirts\" \"were\"      \"killed\"    \"in\"       \n",
       "[7] \"episode\"   \"7\"        \n"
      ]
     },
     "metadata": {},
     "output_type": "display_data"
    }
   ],
   "source": [
    "#s <- 'How many redshirts were killed in episode 7?'\n",
    "#p <- '7\\\\?$'\n",
    "#str_match(s, p)\n",
    "#str_split(s, boundary('word'))"
   ]
  },
  {
   "cell_type": "markdown",
   "metadata": {},
   "source": [
    "## __Exercise__: Using regular expressions to find codes.\n",
    "Load the package, 'pccc' and use regular expressions to look for specific codes in the 'pcc_icd10_dataset' data."
   ]
  },
  {
   "cell_type": "code",
   "execution_count": 19,
   "metadata": {},
   "outputs": [
    {
     "data": {
      "text/html": [
       "<table>\n",
       "<caption>A data.frame: 6 × 31</caption>\n",
       "<thead>\n",
       "\t<tr><th></th><th scope=col>id</th><th scope=col>dx1</th><th scope=col>dx2</th><th scope=col>dx3</th><th scope=col>dx4</th><th scope=col>dx5</th><th scope=col>dx6</th><th scope=col>dx7</th><th scope=col>dx8</th><th scope=col>dx9</th><th scope=col>...</th><th scope=col>g1</th><th scope=col>g2</th><th scope=col>g3</th><th scope=col>g4</th><th scope=col>g5</th><th scope=col>g6</th><th scope=col>g7</th><th scope=col>g8</th><th scope=col>g9</th><th scope=col>g10</th></tr>\n",
       "\t<tr><th></th><th scope=col>&lt;int&gt;</th><th scope=col>&lt;chr&gt;</th><th scope=col>&lt;chr&gt;</th><th scope=col>&lt;chr&gt;</th><th scope=col>&lt;chr&gt;</th><th scope=col>&lt;chr&gt;</th><th scope=col>&lt;chr&gt;</th><th scope=col>&lt;chr&gt;</th><th scope=col>&lt;chr&gt;</th><th scope=col>&lt;chr&gt;</th><th scope=col>...</th><th scope=col>&lt;int&gt;</th><th scope=col>&lt;int&gt;</th><th scope=col>&lt;int&gt;</th><th scope=col>&lt;int&gt;</th><th scope=col>&lt;int&gt;</th><th scope=col>&lt;int&gt;</th><th scope=col>&lt;int&gt;</th><th scope=col>&lt;int&gt;</th><th scope=col>&lt;int&gt;</th><th scope=col>&lt;int&gt;</th></tr>\n",
       "</thead>\n",
       "<tbody>\n",
       "\t<tr><th scope=row>1</th><td>1</td><td>S9410XS</td><td>I67841 </td><td>E70339 </td><td>NA     </td><td>S14121A</td><td>M66229 </td><td>S92065G</td><td>O0973  </td><td>NA     </td><td>...</td><td>239196</td><td>672832</td><td>683784</td><td>757546</td><td>    NA</td><td>168052</td><td>104625</td><td>    NA</td><td>850974</td><td>    NA</td></tr>\n",
       "\t<tr><th scope=row>2</th><td>2</td><td>NA     </td><td>S53422D</td><td>S92244B</td><td>M66342 </td><td>NA     </td><td>S32442A</td><td>T1582XD</td><td>S72325C</td><td>S52131B</td><td>...</td><td>931331</td><td>404900</td><td>912213</td><td>    NA</td><td>964580</td><td>371556</td><td>778488</td><td>115827</td><td>440619</td><td>955264</td></tr>\n",
       "\t<tr><th scope=row>3</th><td>3</td><td>NA     </td><td>S91225S</td><td>NA     </td><td>W6119XD</td><td>C8397  </td><td>M80819K</td><td>S72114R</td><td>NA     </td><td>Y382X3D</td><td>...</td><td>627455</td><td>638100</td><td>745829</td><td>843799</td><td>322975</td><td>    NA</td><td>    NA</td><td>932106</td><td>289004</td><td>242699</td></tr>\n",
       "\t<tr><th scope=row>4</th><td>4</td><td>S7226XK</td><td>Y93G2  </td><td>L0592  </td><td>K08530 </td><td>NA     </td><td>S62637D</td><td>T84612A</td><td>NA     </td><td>NA     </td><td>...</td><td>809782</td><td>153243</td><td>413723</td><td>130995</td><td>211708</td><td>610135</td><td>    NA</td><td>471383</td><td>191245</td><td>135116</td></tr>\n",
       "\t<tr><th scope=row>5</th><td>5</td><td>S92246A</td><td>O4212  </td><td>D2920  </td><td>S42434S</td><td>F15980 </td><td>NA     </td><td>S52572R</td><td>M8080XA</td><td>X731XXD</td><td>...</td><td>    NA</td><td>636794</td><td>    NA</td><td>928572</td><td>930823</td><td>168586</td><td>133292</td><td>699936</td><td>500743</td><td>    NA</td></tr>\n",
       "\t<tr><th scope=row>6</th><td>6</td><td>NA     </td><td>S52291C</td><td>NA     </td><td>NA     </td><td>E7140  </td><td>H05222 </td><td>S60549S</td><td>NA     </td><td>S32616G</td><td>...</td><td>281891</td><td>318962</td><td>542326</td><td>705580</td><td>700647</td><td>929863</td><td>338026</td><td>525937</td><td>412691</td><td>    NA</td></tr>\n",
       "</tbody>\n",
       "</table>\n"
      ],
      "text/latex": [
       "A data.frame: 6 × 31\n",
       "\\begin{tabular}{r|lllllllllllllllllllll}\n",
       "  & id & dx1 & dx2 & dx3 & dx4 & dx5 & dx6 & dx7 & dx8 & dx9 & ... & g1 & g2 & g3 & g4 & g5 & g6 & g7 & g8 & g9 & g10\\\\\n",
       "  & <int> & <chr> & <chr> & <chr> & <chr> & <chr> & <chr> & <chr> & <chr> & <chr> & ... & <int> & <int> & <int> & <int> & <int> & <int> & <int> & <int> & <int> & <int>\\\\\n",
       "\\hline\n",
       "\t1 & 1 & S9410XS & I67841  & E70339  & NA      & S14121A & M66229  & S92065G & O0973   & NA      & ... & 239196 & 672832 & 683784 & 757546 &     NA & 168052 & 104625 &     NA & 850974 &     NA\\\\\n",
       "\t2 & 2 & NA      & S53422D & S92244B & M66342  & NA      & S32442A & T1582XD & S72325C & S52131B & ... & 931331 & 404900 & 912213 &     NA & 964580 & 371556 & 778488 & 115827 & 440619 & 955264\\\\\n",
       "\t3 & 3 & NA      & S91225S & NA      & W6119XD & C8397   & M80819K & S72114R & NA      & Y382X3D & ... & 627455 & 638100 & 745829 & 843799 & 322975 &     NA &     NA & 932106 & 289004 & 242699\\\\\n",
       "\t4 & 4 & S7226XK & Y93G2   & L0592   & K08530  & NA      & S62637D & T84612A & NA      & NA      & ... & 809782 & 153243 & 413723 & 130995 & 211708 & 610135 &     NA & 471383 & 191245 & 135116\\\\\n",
       "\t5 & 5 & S92246A & O4212   & D2920   & S42434S & F15980  & NA      & S52572R & M8080XA & X731XXD & ... &     NA & 636794 &     NA & 928572 & 930823 & 168586 & 133292 & 699936 & 500743 &     NA\\\\\n",
       "\t6 & 6 & NA      & S52291C & NA      & NA      & E7140   & H05222  & S60549S & NA      & S32616G & ... & 281891 & 318962 & 542326 & 705580 & 700647 & 929863 & 338026 & 525937 & 412691 &     NA\\\\\n",
       "\\end{tabular}\n"
      ],
      "text/markdown": [
       "\n",
       "A data.frame: 6 × 31\n",
       "\n",
       "| <!--/--> | id &lt;int&gt; | dx1 &lt;chr&gt; | dx2 &lt;chr&gt; | dx3 &lt;chr&gt; | dx4 &lt;chr&gt; | dx5 &lt;chr&gt; | dx6 &lt;chr&gt; | dx7 &lt;chr&gt; | dx8 &lt;chr&gt; | dx9 &lt;chr&gt; | ... ... | g1 &lt;int&gt; | g2 &lt;int&gt; | g3 &lt;int&gt; | g4 &lt;int&gt; | g5 &lt;int&gt; | g6 &lt;int&gt; | g7 &lt;int&gt; | g8 &lt;int&gt; | g9 &lt;int&gt; | g10 &lt;int&gt; |\n",
       "|---|---|---|---|---|---|---|---|---|---|---|---|---|---|---|---|---|---|---|---|---|---|\n",
       "| 1 | 1 | S9410XS | I67841  | E70339  | NA      | S14121A | M66229  | S92065G | O0973   | NA      | ... | 239196 | 672832 | 683784 | 757546 |     NA | 168052 | 104625 |     NA | 850974 |     NA |\n",
       "| 2 | 2 | NA      | S53422D | S92244B | M66342  | NA      | S32442A | T1582XD | S72325C | S52131B | ... | 931331 | 404900 | 912213 |     NA | 964580 | 371556 | 778488 | 115827 | 440619 | 955264 |\n",
       "| 3 | 3 | NA      | S91225S | NA      | W6119XD | C8397   | M80819K | S72114R | NA      | Y382X3D | ... | 627455 | 638100 | 745829 | 843799 | 322975 |     NA |     NA | 932106 | 289004 | 242699 |\n",
       "| 4 | 4 | S7226XK | Y93G2   | L0592   | K08530  | NA      | S62637D | T84612A | NA      | NA      | ... | 809782 | 153243 | 413723 | 130995 | 211708 | 610135 |     NA | 471383 | 191245 | 135116 |\n",
       "| 5 | 5 | S92246A | O4212   | D2920   | S42434S | F15980  | NA      | S52572R | M8080XA | X731XXD | ... |     NA | 636794 |     NA | 928572 | 930823 | 168586 | 133292 | 699936 | 500743 |     NA |\n",
       "| 6 | 6 | NA      | S52291C | NA      | NA      | E7140   | H05222  | S60549S | NA      | S32616G | ... | 281891 | 318962 | 542326 | 705580 | 700647 | 929863 | 338026 | 525937 | 412691 |     NA |\n",
       "\n"
      ],
      "text/plain": [
       "  id dx1     dx2     dx3     dx4     dx5     dx6     dx7     dx8     dx9    \n",
       "1 1  S9410XS I67841  E70339  NA      S14121A M66229  S92065G O0973   NA     \n",
       "2 2  NA      S53422D S92244B M66342  NA      S32442A T1582XD S72325C S52131B\n",
       "3 3  NA      S91225S NA      W6119XD C8397   M80819K S72114R NA      Y382X3D\n",
       "4 4  S7226XK Y93G2   L0592   K08530  NA      S62637D T84612A NA      NA     \n",
       "5 5  S92246A O4212   D2920   S42434S F15980  NA      S52572R M8080XA X731XXD\n",
       "6 6  NA      S52291C NA      NA      E7140   H05222  S60549S NA      S32616G\n",
       "  ... g1     g2     g3     g4     g5     g6     g7     g8     g9     g10   \n",
       "1 ... 239196 672832 683784 757546     NA 168052 104625     NA 850974     NA\n",
       "2 ... 931331 404900 912213     NA 964580 371556 778488 115827 440619 955264\n",
       "3 ... 627455 638100 745829 843799 322975     NA     NA 932106 289004 242699\n",
       "4 ... 809782 153243 413723 130995 211708 610135     NA 471383 191245 135116\n",
       "5 ...     NA 636794     NA 928572 930823 168586 133292 699936 500743     NA\n",
       "6 ... 281891 318962 542326 705580 700647 929863 338026 525937 412691     NA"
      ]
     },
     "metadata": {},
     "output_type": "display_data"
    },
    {
     "data": {
      "text/html": [
       "<table>\n",
       "<caption>A data.frame: 5 × 31</caption>\n",
       "<thead>\n",
       "\t<tr><th></th><th scope=col>id</th><th scope=col>dx1</th><th scope=col>dx2</th><th scope=col>dx3</th><th scope=col>dx4</th><th scope=col>dx5</th><th scope=col>dx6</th><th scope=col>dx7</th><th scope=col>dx8</th><th scope=col>dx9</th><th scope=col>...</th><th scope=col>g1</th><th scope=col>g2</th><th scope=col>g3</th><th scope=col>g4</th><th scope=col>g5</th><th scope=col>g6</th><th scope=col>g7</th><th scope=col>g8</th><th scope=col>g9</th><th scope=col>g10</th></tr>\n",
       "\t<tr><th></th><th scope=col>&lt;int&gt;</th><th scope=col>&lt;chr&gt;</th><th scope=col>&lt;chr&gt;</th><th scope=col>&lt;chr&gt;</th><th scope=col>&lt;chr&gt;</th><th scope=col>&lt;chr&gt;</th><th scope=col>&lt;chr&gt;</th><th scope=col>&lt;chr&gt;</th><th scope=col>&lt;chr&gt;</th><th scope=col>&lt;chr&gt;</th><th scope=col>...</th><th scope=col>&lt;int&gt;</th><th scope=col>&lt;int&gt;</th><th scope=col>&lt;int&gt;</th><th scope=col>&lt;int&gt;</th><th scope=col>&lt;int&gt;</th><th scope=col>&lt;int&gt;</th><th scope=col>&lt;int&gt;</th><th scope=col>&lt;int&gt;</th><th scope=col>&lt;int&gt;</th><th scope=col>&lt;int&gt;</th></tr>\n",
       "</thead>\n",
       "<tbody>\n",
       "\t<tr><th scope=row>516</th><td>516</td><td>S66327S</td><td>NA     </td><td>S82445D</td><td>F6081  </td><td>Q646   </td><td>S1114XA</td><td>S63657A</td><td>T80818A</td><td>B0879  </td><td>...</td><td>322312</td><td>756223</td><td>576607</td><td>260745</td><td>    NA</td><td>191428</td><td>728607</td><td>303661</td><td>856791</td><td>325379</td></tr>\n",
       "\t<tr><th scope=row>532</th><td>532</td><td>S66390D</td><td>M60859 </td><td>C9252  </td><td>S92501A</td><td>NA     </td><td>S82015D</td><td>B355   </td><td>V519XXS</td><td>NA     </td><td>...</td><td>    NA</td><td>236068</td><td>758985</td><td>762476</td><td>158601</td><td>266983</td><td>716043</td><td>631867</td><td>684468</td><td>    NA</td></tr>\n",
       "\t<tr><th scope=row>607</th><td>607</td><td>S66092D</td><td>S7291XC</td><td>NA     </td><td>NA     </td><td>M71869 </td><td>NA     </td><td>H44712 </td><td>S63431D</td><td>Q332   </td><td>...</td><td>619330</td><td>222341</td><td>767004</td><td>692783</td><td>938522</td><td>229483</td><td>330774</td><td>463158</td><td>    NA</td><td>424213</td></tr>\n",
       "\t<tr><th scope=row>896</th><td>896</td><td>S66311S</td><td>G527   </td><td>NA     </td><td>S8262XE</td><td>S83191D</td><td>T477X4A</td><td>NA     </td><td>M47011 </td><td>S82874E</td><td>...</td><td>992676</td><td>922170</td><td>957206</td><td>998480</td><td>    NA</td><td>184157</td><td>574014</td><td>721306</td><td>393150</td><td>    NA</td></tr>\n",
       "\t<tr><th scope=row>954</th><td>954</td><td>S66829S</td><td>S61131S</td><td>NA     </td><td>A530   </td><td>NA     </td><td>NA     </td><td>S27439S</td><td>S63287D</td><td>S90822S</td><td>...</td><td>    NA</td><td>504581</td><td>263088</td><td>478993</td><td>    NA</td><td>771592</td><td>274654</td><td>860171</td><td>218534</td><td>494475</td></tr>\n",
       "</tbody>\n",
       "</table>\n"
      ],
      "text/latex": [
       "A data.frame: 5 × 31\n",
       "\\begin{tabular}{r|lllllllllllllllllllll}\n",
       "  & id & dx1 & dx2 & dx3 & dx4 & dx5 & dx6 & dx7 & dx8 & dx9 & ... & g1 & g2 & g3 & g4 & g5 & g6 & g7 & g8 & g9 & g10\\\\\n",
       "  & <int> & <chr> & <chr> & <chr> & <chr> & <chr> & <chr> & <chr> & <chr> & <chr> & ... & <int> & <int> & <int> & <int> & <int> & <int> & <int> & <int> & <int> & <int>\\\\\n",
       "\\hline\n",
       "\t516 & 516 & S66327S & NA      & S82445D & F6081   & Q646    & S1114XA & S63657A & T80818A & B0879   & ... & 322312 & 756223 & 576607 & 260745 &     NA & 191428 & 728607 & 303661 & 856791 & 325379\\\\\n",
       "\t532 & 532 & S66390D & M60859  & C9252   & S92501A & NA      & S82015D & B355    & V519XXS & NA      & ... &     NA & 236068 & 758985 & 762476 & 158601 & 266983 & 716043 & 631867 & 684468 &     NA\\\\\n",
       "\t607 & 607 & S66092D & S7291XC & NA      & NA      & M71869  & NA      & H44712  & S63431D & Q332    & ... & 619330 & 222341 & 767004 & 692783 & 938522 & 229483 & 330774 & 463158 &     NA & 424213\\\\\n",
       "\t896 & 896 & S66311S & G527    & NA      & S8262XE & S83191D & T477X4A & NA      & M47011  & S82874E & ... & 992676 & 922170 & 957206 & 998480 &     NA & 184157 & 574014 & 721306 & 393150 &     NA\\\\\n",
       "\t954 & 954 & S66829S & S61131S & NA      & A530    & NA      & NA      & S27439S & S63287D & S90822S & ... &     NA & 504581 & 263088 & 478993 &     NA & 771592 & 274654 & 860171 & 218534 & 494475\\\\\n",
       "\\end{tabular}\n"
      ],
      "text/markdown": [
       "\n",
       "A data.frame: 5 × 31\n",
       "\n",
       "| <!--/--> | id &lt;int&gt; | dx1 &lt;chr&gt; | dx2 &lt;chr&gt; | dx3 &lt;chr&gt; | dx4 &lt;chr&gt; | dx5 &lt;chr&gt; | dx6 &lt;chr&gt; | dx7 &lt;chr&gt; | dx8 &lt;chr&gt; | dx9 &lt;chr&gt; | ... ... | g1 &lt;int&gt; | g2 &lt;int&gt; | g3 &lt;int&gt; | g4 &lt;int&gt; | g5 &lt;int&gt; | g6 &lt;int&gt; | g7 &lt;int&gt; | g8 &lt;int&gt; | g9 &lt;int&gt; | g10 &lt;int&gt; |\n",
       "|---|---|---|---|---|---|---|---|---|---|---|---|---|---|---|---|---|---|---|---|---|---|\n",
       "| 516 | 516 | S66327S | NA      | S82445D | F6081   | Q646    | S1114XA | S63657A | T80818A | B0879   | ... | 322312 | 756223 | 576607 | 260745 |     NA | 191428 | 728607 | 303661 | 856791 | 325379 |\n",
       "| 532 | 532 | S66390D | M60859  | C9252   | S92501A | NA      | S82015D | B355    | V519XXS | NA      | ... |     NA | 236068 | 758985 | 762476 | 158601 | 266983 | 716043 | 631867 | 684468 |     NA |\n",
       "| 607 | 607 | S66092D | S7291XC | NA      | NA      | M71869  | NA      | H44712  | S63431D | Q332    | ... | 619330 | 222341 | 767004 | 692783 | 938522 | 229483 | 330774 | 463158 |     NA | 424213 |\n",
       "| 896 | 896 | S66311S | G527    | NA      | S8262XE | S83191D | T477X4A | NA      | M47011  | S82874E | ... | 992676 | 922170 | 957206 | 998480 |     NA | 184157 | 574014 | 721306 | 393150 |     NA |\n",
       "| 954 | 954 | S66829S | S61131S | NA      | A530    | NA      | NA      | S27439S | S63287D | S90822S | ... |     NA | 504581 | 263088 | 478993 |     NA | 771592 | 274654 | 860171 | 218534 | 494475 |\n",
       "\n"
      ],
      "text/plain": [
       "    id  dx1     dx2     dx3     dx4     dx5     dx6     dx7     dx8     dx9    \n",
       "516 516 S66327S NA      S82445D F6081   Q646    S1114XA S63657A T80818A B0879  \n",
       "532 532 S66390D M60859  C9252   S92501A NA      S82015D B355    V519XXS NA     \n",
       "607 607 S66092D S7291XC NA      NA      M71869  NA      H44712  S63431D Q332   \n",
       "896 896 S66311S G527    NA      S8262XE S83191D T477X4A NA      M47011  S82874E\n",
       "954 954 S66829S S61131S NA      A530    NA      NA      S27439S S63287D S90822S\n",
       "    ... g1     g2     g3     g4     g5     g6     g7     g8     g9     g10   \n",
       "516 ... 322312 756223 576607 260745     NA 191428 728607 303661 856791 325379\n",
       "532 ...     NA 236068 758985 762476 158601 266983 716043 631867 684468     NA\n",
       "607 ... 619330 222341 767004 692783 938522 229483 330774 463158     NA 424213\n",
       "896 ... 992676 922170 957206 998480     NA 184157 574014 721306 393150     NA\n",
       "954 ...     NA 504581 263088 478993     NA 771592 274654 860171 218534 494475"
      ]
     },
     "metadata": {},
     "output_type": "display_data"
    }
   ],
   "source": [
    "##install.packages('pccc')\n",
    "##install.packages('data.table')\n",
    "#library(pccc)\n",
    "#head(pccc_icd10_dataset)\n",
    "\n",
    "#p <- pccc_icd10_dataset[str_which(pccc_icd10_dataset$dx1, '^S66'),]\n",
    "#head(p)"
   ]
  },
  {
   "cell_type": "markdown",
   "metadata": {},
   "source": [
    "<table style=\"text-align:center;\"><tr><td width=\"100\" height=\"20\" style=\"background-color:greenyellow\"></td><td width=\"100\" height=\"20\" style=\"background-color:hotpink\"></td></tr></table>"
   ]
  },
  {
   "cell_type": "markdown",
   "metadata": {},
   "source": [
    "### __Dates__\n",
    "\n",
    "As we found in earlier exercises, dates in R can require considerable care, not only are their formats likely to vary but R will not always treat dates as you would like it to. In addition, people frequently enter dates badly as strings (for example, 31.06.2005 where someone may simply have added 3 to 31.03.2005 to indicate a date 3 months later). There are further complications when you need to calculate intervals from dates - leap years, what is a month, a year etc.\n",
    "\n",
    "The `lubridate` package has been designed to make handling dates easier and to provide a simple way to perform mathematical functions.\n",
    "\n",
    "[See the lubridate cheatsheet.](https://github.com/rstudio/cheatsheets/raw/master/lubridate.pdf) Especially for additional information on timestamps and timezones.\n",
    "\n",
    "There are three components in a lubridate date/time:\n",
    "1. A datetime which is stored as the number of seconds since January 1st 1970 and represents a date with a time.\n",
    "1. A date is stored as the number of days since January 1st 1970.\n",
    "1. An hms is the number of seconds since 00:00 and represents the time."
   ]
  },
  {
   "cell_type": "code",
   "execution_count": 21,
   "metadata": {},
   "outputs": [
    {
     "data": {
      "text/plain": [
       "[1] \"2020-09-22 12:00:00 UTC\""
      ]
     },
     "metadata": {},
     "output_type": "display_data"
    },
    {
     "data": {
      "text/html": [
       "1600776000"
      ],
      "text/latex": [
       "1600776000"
      ],
      "text/markdown": [
       "1600776000"
      ],
      "text/plain": [
       "[1] 1600776000"
      ]
     },
     "metadata": {},
     "output_type": "display_data"
    },
    {
     "data": {
      "text/html": [
       "<time datetime=\"2019-09-22\">2019-09-22</time>"
      ],
      "text/latex": [
       "2019-09-22"
      ],
      "text/markdown": [
       "2019-09-22"
      ],
      "text/plain": [
       "[1] \"2019-09-22\""
      ]
     },
     "metadata": {},
     "output_type": "display_data"
    },
    {
     "data": {
      "text/html": [
       "18161"
      ],
      "text/latex": [
       "18161"
      ],
      "text/markdown": [
       "18161"
      ],
      "text/plain": [
       "[1] 18161"
      ]
     },
     "metadata": {},
     "output_type": "display_data"
    },
    {
     "data": {
      "text/plain": [
       "12:00:00"
      ]
     },
     "metadata": {},
     "output_type": "display_data"
    },
    {
     "data": {
      "text/html": [
       "43200"
      ],
      "text/latex": [
       "43200"
      ],
      "text/markdown": [
       "43200"
      ],
      "text/plain": [
       "[1] 43200"
      ]
     },
     "metadata": {},
     "output_type": "display_data"
    }
   ],
   "source": [
    "#library(lubridate)\n",
    "## datetime\n",
    "#dt <- as_datetime('2020-09-22 12:00:00')\n",
    "#dt\n",
    "#as.integer(dt)\n",
    "## date\n",
    "#dt <- as_date('2019-09-22')\n",
    "#dt\n",
    "#as.integer(dt)\n",
    "## hms\n",
    "#hms <- hms::as_hms('12:00:00')\n",
    "#hms\n",
    "#as.integer(hms)"
   ]
  },
  {
   "cell_type": "markdown",
   "metadata": {},
   "source": [
    "### _Specifying datetimes_\n",
    "\n",
    "You can specify datetimes with string and numbers using a series of functions that match the format of the strings and numbers you want to use:\n",
    "1. ymd_hms(), ymd_hm(), ymd_h(), ymd()\n",
    "1. ydm_hms() etc.\n",
    "1. mdy_hms() etc.\n",
    "1. yq(), hms(), hm(), ms() (may need to specify lubridate here, for example, lubridate::hms() rather than hms::hms())"
   ]
  },
  {
   "cell_type": "code",
   "execution_count": 25,
   "metadata": {},
   "outputs": [
    {
     "data": {
      "text/plain": [
       "[1] \"2020-09-22 17:26:30 UTC\""
      ]
     },
     "metadata": {},
     "output_type": "display_data"
    }
   ],
   "source": [
    "#dt <- ymd_hms('2020/09/22 17:26:30')\n",
    "#dt"
   ]
  },
  {
   "cell_type": "markdown",
   "metadata": {},
   "source": [
    "### _Getting and setting components_\n",
    "\n",
    "It is straightforward to set the components of a datetime, such as date(), year(), month(), day(), wday(), hour(), minute(), second(), week(), semester() and check values such as am(), pm(), dst() - daylight saving time?, leap_year()."
   ]
  },
  {
   "cell_type": "code",
   "execution_count": 26,
   "metadata": {},
   "outputs": [
    {
     "data": {
      "text/html": [
       "2"
      ],
      "text/latex": [
       "2"
      ],
      "text/markdown": [
       "2"
      ],
      "text/plain": [
       "[1] 2"
      ]
     },
     "metadata": {},
     "output_type": "display_data"
    },
    {
     "data": {
      "text/html": [
       "3"
      ],
      "text/latex": [
       "3"
      ],
      "text/markdown": [
       "3"
      ],
      "text/plain": [
       "[1] 3"
      ]
     },
     "metadata": {},
     "output_type": "display_data"
    },
    {
     "data": {
      "text/html": [
       "TRUE"
      ],
      "text/latex": [
       "TRUE"
      ],
      "text/markdown": [
       "TRUE"
      ],
      "text/plain": [
       "[1] TRUE"
      ]
     },
     "metadata": {},
     "output_type": "display_data"
    },
    {
     "data": {
      "text/html": [
       "TRUE"
      ],
      "text/latex": [
       "TRUE"
      ],
      "text/markdown": [
       "TRUE"
      ],
      "text/plain": [
       "[1] TRUE"
      ]
     },
     "metadata": {},
     "output_type": "display_data"
    },
    {
     "data": {
      "text/html": [
       "FALSE"
      ],
      "text/latex": [
       "FALSE"
      ],
      "text/markdown": [
       "FALSE"
      ],
      "text/plain": [
       "[1] FALSE"
      ]
     },
     "metadata": {},
     "output_type": "display_data"
    },
    {
     "data": {
      "text/plain": [
       "[1] \"2020-12-22 17:26:30 UTC\""
      ]
     },
     "metadata": {},
     "output_type": "display_data"
    }
   ],
   "source": [
    "#semester(dt)\n",
    "#wday(dt)\n",
    "#pm(dt)\n",
    "#leap_year(dt)\n",
    "#dst(dt)\n",
    "\n",
    "#month(dt) <- 12\n",
    "#dt"
   ]
  },
  {
   "cell_type": "markdown",
   "metadata": {},
   "source": [
    "### _Maths with dates_\n",
    "\n",
    "Date calculations are a series of traps and problems. You need to consider:\n",
    "1. Leap days and leap seconds\n",
    "1. Daylight saving hours\n",
    "1. Adding months when on 31st of the month (31st February --> NA)\n",
    "\n",
    "The Tidyverse tries to help by including three kinds of timespan:\n",
    "1. Period --- tracks the change in clock time\n",
    "1. Duration --- tracks the actual amount of time irrespective of clock manipulations, so not clock time when changes occur\n",
    "1. Interval --- represents specific intervals on the timeline, bounded by a start and end datetime.\n",
    "\n",
    "To create one of these timespans, you can use the constructor:\n",
    "* `period()`\n",
    "* `duration()`\n",
    "* `interval()` (or, in this case, %--%)\n",
    "\n",
    "or the and the conversion functions:\n",
    "* `as.period()`\n",
    "* `as.duration()`\n",
    "* `as.interval()`\n",
    "\n",
    "Some functions are also provided to help round dates appropriately:\n",
    "* floor_date(x, unit='second') --- rounds down to the specified unit\n",
    "* round_date(x, unit='second') --- rounds to the nearest unit\n",
    "* ceiling_date(x, unit='second') --- rounds up to the nearest unit\n",
    "* rollback(dates, roll_to_first=FALSE, preserve_hms=TRUE) -- rollback to the last day of the previous month (this is also done with the operators, %m+% and %m-%)"
   ]
  },
  {
   "cell_type": "code",
   "execution_count": 27,
   "metadata": {},
   "outputs": [
    {
     "data": {
      "text/html": [
       "2m 0d 0H 0M 0S"
      ],
      "text/latex": [
       "2m 0d 0H 0M 0S"
      ],
      "text/markdown": [
       "2m 0d 0H 0M 0S"
      ],
      "text/plain": [
       "[1] \"2m 0d 0H 0M 0S\""
      ]
     },
     "metadata": {},
     "output_type": "display_data"
    },
    {
     "data": {
      "text/html": [
       "2419200s (~4 weeks)"
      ],
      "text/latex": [
       "2419200s (\\textasciitilde{}4 weeks)"
      ],
      "text/markdown": [
       "2419200s (~4 weeks)"
      ],
      "text/plain": [
       "[1] \"2419200s (~4 weeks)\""
      ]
     },
     "metadata": {},
     "output_type": "display_data"
    },
    {
     "data": {
      "text/html": [
       "2019-09-28 UTC--2019-09-01 UTC"
      ],
      "text/latex": [
       "2019-09-28 UTC--2019-09-01 UTC"
      ],
      "text/markdown": [
       "2019-09-28 UTC--2019-09-01 UTC"
      ],
      "text/plain": [
       "[1] 2019-09-28 UTC--2019-09-01 UTC"
      ]
     },
     "metadata": {},
     "output_type": "display_data"
    },
    {
     "data": {
      "text/html": [
       "<time datetime=\"&lt;NA&gt;\">&lt;NA&gt;</time>"
      ],
      "text/latex": [
       "<NA>"
      ],
      "text/markdown": [
       "&lt;NA&gt;"
      ],
      "text/plain": [
       "[1] NA"
      ]
     },
     "metadata": {},
     "output_type": "display_data"
    },
    {
     "data": {
      "text/html": [
       "<time datetime=\"2016-02-29\">2016-02-29</time>"
      ],
      "text/latex": [
       "2016-02-29"
      ],
      "text/markdown": [
       "2016-02-29"
      ],
      "text/plain": [
       "[1] \"2016-02-29\""
      ]
     },
     "metadata": {},
     "output_type": "display_data"
    }
   ],
   "source": [
    "#per <- months(2)\n",
    "#per\n",
    "#dur <- dweeks(4)\n",
    "#dur\n",
    "#int <- interval(ymd('2019-09-28'), ymd('2019-09-01'))\n",
    "#int\n",
    "#dt <- ymd('2016-01-31') + months(1)\n",
    "#dt\n",
    "#dt <- ymd('2016-01-31') %m+% months(1)\n",
    "#dt"
   ]
  },
  {
   "cell_type": "markdown",
   "metadata": {},
   "source": [
    "And there are some handy extra functions:\n",
    "* now() --- current time\n",
    "* today() --- current date"
   ]
  },
  {
   "cell_type": "code",
   "execution_count": 29,
   "metadata": {},
   "outputs": [
    {
     "data": {
      "text/html": [
       "<time datetime=\"2020-10-20\">2020-10-20</time>"
      ],
      "text/latex": [
       "2020-10-20"
      ],
      "text/markdown": [
       "2020-10-20"
      ],
      "text/plain": [
       "[1] \"2020-10-20\""
      ]
     },
     "metadata": {},
     "output_type": "display_data"
    },
    {
     "data": {
      "text/plain": [
       "[1] \"2020-09-22 20:54:57 BST\""
      ]
     },
     "metadata": {},
     "output_type": "display_data"
    }
   ],
   "source": [
    "#today() + dur\n",
    "#now() + dminutes(10)"
   ]
  },
  {
   "cell_type": "markdown",
   "metadata": {},
   "source": [
    "## __Exercise__: Play with dates and durations.\n",
    "What happens if you add or subtract a day, a month, a year?"
   ]
  },
  {
   "cell_type": "code",
   "execution_count": 35,
   "metadata": {},
   "outputs": [
    {
     "data": {
      "text/plain": [
       "[1] \"2020-09-22 20:48:04 BST\""
      ]
     },
     "metadata": {},
     "output_type": "display_data"
    },
    {
     "data": {
      "text/html": [
       "1m 0d 0H 0M 0S"
      ],
      "text/latex": [
       "1m 0d 0H 0M 0S"
      ],
      "text/markdown": [
       "1m 0d 0H 0M 0S"
      ],
      "text/plain": [
       "[1] \"1m 0d 0H 0M 0S\""
      ]
     },
     "metadata": {},
     "output_type": "display_data"
    },
    {
     "data": {
      "text/html": [
       "2629800s (~4.35 weeks)"
      ],
      "text/latex": [
       "2629800s (\\textasciitilde{}4.35 weeks)"
      ],
      "text/markdown": [
       "2629800s (~4.35 weeks)"
      ],
      "text/plain": [
       "[1] \"2629800s (~4.35 weeks)\""
      ]
     },
     "metadata": {},
     "output_type": "display_data"
    },
    {
     "data": {
      "text/html": [
       "1m 0d 0H 0M 0S"
      ],
      "text/latex": [
       "1m 0d 0H 0M 0S"
      ],
      "text/markdown": [
       "1m 0d 0H 0M 0S"
      ],
      "text/plain": [
       "[1] \"1m 0d 0H 0M 0S\""
      ]
     },
     "metadata": {},
     "output_type": "display_data"
    },
    {
     "data": {
      "text/html": [
       "2020-09-22 20:48:04 BST--2020-10-22 20:48:04 BST"
      ],
      "text/latex": [
       "2020-09-22 20:48:04 BST--2020-10-22 20:48:04 BST"
      ],
      "text/markdown": [
       "2020-09-22 20:48:04 BST--2020-10-22 20:48:04 BST"
      ],
      "text/plain": [
       "[1] 2020-09-22 20:48:04 BST--2020-10-22 20:48:04 BST"
      ]
     },
     "metadata": {},
     "output_type": "display_data"
    },
    {
     "data": {
      "text/plain": [
       "[1] \"2020-10-22 20:48:04 BST\""
      ]
     },
     "metadata": {},
     "output_type": "display_data"
    }
   ],
   "source": [
    "#n <- now()\n",
    "#n\n",
    "#m <- months(1)\n",
    "#m\n",
    "#m1 <- as.duration(m)\n",
    "#m1\n",
    "#m2 <- as.period(m)\n",
    "#m2\n",
    "#m3 <- as.interval(m, now())\n",
    "#m3\n",
    "#n <- n + months(1)\n",
    "#n"
   ]
  },
  {
   "cell_type": "markdown",
   "metadata": {},
   "source": [
    "## __Exercise__: Convert the dates in the `pregnancy` dataset to a date type and process them.\n",
    "Convert all (some) of the date fields in the pregnancy dataset to dates. Check for problems. Determine how many children were born in the summer months. Calculate the interval between children for those parents with more than one child."
   ]
  },
  {
   "cell_type": "code",
   "execution_count": 36,
   "metadata": {},
   "outputs": [
    {
     "data": {
      "text/plain": [
       "\n",
       "FALSE  TRUE \n",
       "  360   103 "
      ]
     },
     "metadata": {},
     "output_type": "display_data"
    },
    {
     "data": {
      "text/html": [
       "<table>\n",
       "<caption>A tibble: 20 × 9</caption>\n",
       "<thead>\n",
       "\t<tr><th scope=col>PARENT_ID</th><th scope=col>DOBCHILD1</th><th scope=col>DOBCHILD2</th><th scope=col>DOBCHILD3</th><th scope=col>DOBCHILD4</th><th scope=col>DOBCHILD5</th><th scope=col>DOBCHILD6</th><th scope=col>MONTH_CHILD1</th><th scope=col>SUMMER_CHILD1</th></tr>\n",
       "\t<tr><th scope=col>&lt;dbl&gt;</th><th scope=col>&lt;date&gt;</th><th scope=col>&lt;chr&gt;</th><th scope=col>&lt;chr&gt;</th><th scope=col>&lt;chr&gt;</th><th scope=col>&lt;chr&gt;</th><th scope=col>&lt;chr&gt;</th><th scope=col>&lt;dbl&gt;</th><th scope=col>&lt;lgl&gt;</th></tr>\n",
       "</thead>\n",
       "<tbody>\n",
       "\t<tr><td> 47</td><td>2003-11-07</td><td>NA        </td><td>NA        </td><td>NA</td><td>NA</td><td>NA</td><td>11</td><td>FALSE</td></tr>\n",
       "\t<tr><td> 47</td><td>2003-11-07</td><td>NA        </td><td>NA        </td><td>NA</td><td>NA</td><td>NA</td><td>11</td><td>FALSE</td></tr>\n",
       "\t<tr><td> 45</td><td>2003-12-29</td><td>NA        </td><td>NA        </td><td>NA</td><td>NA</td><td>NA</td><td>12</td><td>FALSE</td></tr>\n",
       "\t<tr><td>172</td><td>NA</td><td>NA        </td><td>NA        </td><td>NA</td><td>NA</td><td>NA</td><td>NA</td><td>   NA</td></tr>\n",
       "\t<tr><td>  8</td><td>2008-11-07</td><td>NA        </td><td>NA        </td><td>NA</td><td>NA</td><td>NA</td><td>11</td><td>FALSE</td></tr>\n",
       "\t<tr><td>301</td><td>2000-05-16</td><td>NA        </td><td>NA        </td><td>NA</td><td>NA</td><td>NA</td><td> 5</td><td>FALSE</td></tr>\n",
       "\t<tr><td>  7</td><td>2003-11-27</td><td>04/12/2005</td><td>NA        </td><td>NA</td><td>NA</td><td>NA</td><td>11</td><td>FALSE</td></tr>\n",
       "\t<tr><td>451</td><td>1999-02-22</td><td>16/08/2000</td><td>25/09/2002</td><td>NA</td><td>NA</td><td>NA</td><td> 2</td><td>FALSE</td></tr>\n",
       "\t<tr><td>455</td><td>2007-11-12</td><td>NA        </td><td>NA        </td><td>NA</td><td>NA</td><td>NA</td><td>11</td><td>FALSE</td></tr>\n",
       "\t<tr><td>194</td><td>NA</td><td>NA        </td><td>NA        </td><td>NA</td><td>NA</td><td>NA</td><td>NA</td><td>   NA</td></tr>\n",
       "\t<tr><td>266</td><td>2009-09-20</td><td>NA        </td><td>NA        </td><td>NA</td><td>NA</td><td>NA</td><td> 9</td><td>FALSE</td></tr>\n",
       "\t<tr><td>611</td><td>1998-10-20</td><td>NA        </td><td>NA        </td><td>NA</td><td>NA</td><td>NA</td><td>10</td><td>FALSE</td></tr>\n",
       "\t<tr><td>235</td><td>1999-10-14</td><td>NA        </td><td>NA        </td><td>NA</td><td>NA</td><td>NA</td><td>10</td><td>FALSE</td></tr>\n",
       "\t<tr><td>632</td><td>1998-06-07</td><td>03/12/2002</td><td>NA        </td><td>NA</td><td>NA</td><td>NA</td><td> 6</td><td> TRUE</td></tr>\n",
       "\t<tr><td>343</td><td>NA</td><td>NA        </td><td>NA        </td><td>NA</td><td>NA</td><td>NA</td><td>NA</td><td>   NA</td></tr>\n",
       "\t<tr><td>758</td><td>NA</td><td>NA        </td><td>NA        </td><td>NA</td><td>NA</td><td>NA</td><td>NA</td><td>   NA</td></tr>\n",
       "\t<tr><td>756</td><td>NA</td><td>NA        </td><td>NA        </td><td>NA</td><td>NA</td><td>NA</td><td>NA</td><td>   NA</td></tr>\n",
       "\t<tr><td>349</td><td>2009-01-07</td><td>NA        </td><td>NA        </td><td>NA</td><td>NA</td><td>NA</td><td> 1</td><td>FALSE</td></tr>\n",
       "\t<tr><td> 36</td><td>1999-10-06</td><td>11/10/2000</td><td>NA        </td><td>NA</td><td>NA</td><td>NA</td><td>10</td><td>FALSE</td></tr>\n",
       "\t<tr><td>417</td><td>2008-09-17</td><td>NA        </td><td>NA        </td><td>NA</td><td>NA</td><td>NA</td><td> 9</td><td>FALSE</td></tr>\n",
       "</tbody>\n",
       "</table>\n"
      ],
      "text/latex": [
       "A tibble: 20 × 9\n",
       "\\begin{tabular}{lllllllll}\n",
       " PARENT\\_ID & DOBCHILD1 & DOBCHILD2 & DOBCHILD3 & DOBCHILD4 & DOBCHILD5 & DOBCHILD6 & MONTH\\_CHILD1 & SUMMER\\_CHILD1\\\\\n",
       " <dbl> & <date> & <chr> & <chr> & <chr> & <chr> & <chr> & <dbl> & <lgl>\\\\\n",
       "\\hline\n",
       "\t  47 & 2003-11-07 & NA         & NA         & NA & NA & NA & 11 & FALSE\\\\\n",
       "\t  47 & 2003-11-07 & NA         & NA         & NA & NA & NA & 11 & FALSE\\\\\n",
       "\t  45 & 2003-12-29 & NA         & NA         & NA & NA & NA & 12 & FALSE\\\\\n",
       "\t 172 & NA & NA         & NA         & NA & NA & NA & NA &    NA\\\\\n",
       "\t   8 & 2008-11-07 & NA         & NA         & NA & NA & NA & 11 & FALSE\\\\\n",
       "\t 301 & 2000-05-16 & NA         & NA         & NA & NA & NA &  5 & FALSE\\\\\n",
       "\t   7 & 2003-11-27 & 04/12/2005 & NA         & NA & NA & NA & 11 & FALSE\\\\\n",
       "\t 451 & 1999-02-22 & 16/08/2000 & 25/09/2002 & NA & NA & NA &  2 & FALSE\\\\\n",
       "\t 455 & 2007-11-12 & NA         & NA         & NA & NA & NA & 11 & FALSE\\\\\n",
       "\t 194 & NA & NA         & NA         & NA & NA & NA & NA &    NA\\\\\n",
       "\t 266 & 2009-09-20 & NA         & NA         & NA & NA & NA &  9 & FALSE\\\\\n",
       "\t 611 & 1998-10-20 & NA         & NA         & NA & NA & NA & 10 & FALSE\\\\\n",
       "\t 235 & 1999-10-14 & NA         & NA         & NA & NA & NA & 10 & FALSE\\\\\n",
       "\t 632 & 1998-06-07 & 03/12/2002 & NA         & NA & NA & NA &  6 &  TRUE\\\\\n",
       "\t 343 & NA & NA         & NA         & NA & NA & NA & NA &    NA\\\\\n",
       "\t 758 & NA & NA         & NA         & NA & NA & NA & NA &    NA\\\\\n",
       "\t 756 & NA & NA         & NA         & NA & NA & NA & NA &    NA\\\\\n",
       "\t 349 & 2009-01-07 & NA         & NA         & NA & NA & NA &  1 & FALSE\\\\\n",
       "\t  36 & 1999-10-06 & 11/10/2000 & NA         & NA & NA & NA & 10 & FALSE\\\\\n",
       "\t 417 & 2008-09-17 & NA         & NA         & NA & NA & NA &  9 & FALSE\\\\\n",
       "\\end{tabular}\n"
      ],
      "text/markdown": [
       "\n",
       "A tibble: 20 × 9\n",
       "\n",
       "| PARENT_ID &lt;dbl&gt; | DOBCHILD1 &lt;date&gt; | DOBCHILD2 &lt;chr&gt; | DOBCHILD3 &lt;chr&gt; | DOBCHILD4 &lt;chr&gt; | DOBCHILD5 &lt;chr&gt; | DOBCHILD6 &lt;chr&gt; | MONTH_CHILD1 &lt;dbl&gt; | SUMMER_CHILD1 &lt;lgl&gt; |\n",
       "|---|---|---|---|---|---|---|---|---|\n",
       "|  47 | 2003-11-07 | NA         | NA         | NA | NA | NA | 11 | FALSE |\n",
       "|  47 | 2003-11-07 | NA         | NA         | NA | NA | NA | 11 | FALSE |\n",
       "|  45 | 2003-12-29 | NA         | NA         | NA | NA | NA | 12 | FALSE |\n",
       "| 172 | NA | NA         | NA         | NA | NA | NA | NA |    NA |\n",
       "|   8 | 2008-11-07 | NA         | NA         | NA | NA | NA | 11 | FALSE |\n",
       "| 301 | 2000-05-16 | NA         | NA         | NA | NA | NA |  5 | FALSE |\n",
       "|   7 | 2003-11-27 | 04/12/2005 | NA         | NA | NA | NA | 11 | FALSE |\n",
       "| 451 | 1999-02-22 | 16/08/2000 | 25/09/2002 | NA | NA | NA |  2 | FALSE |\n",
       "| 455 | 2007-11-12 | NA         | NA         | NA | NA | NA | 11 | FALSE |\n",
       "| 194 | NA | NA         | NA         | NA | NA | NA | NA |    NA |\n",
       "| 266 | 2009-09-20 | NA         | NA         | NA | NA | NA |  9 | FALSE |\n",
       "| 611 | 1998-10-20 | NA         | NA         | NA | NA | NA | 10 | FALSE |\n",
       "| 235 | 1999-10-14 | NA         | NA         | NA | NA | NA | 10 | FALSE |\n",
       "| 632 | 1998-06-07 | 03/12/2002 | NA         | NA | NA | NA |  6 |  TRUE |\n",
       "| 343 | NA | NA         | NA         | NA | NA | NA | NA |    NA |\n",
       "| 758 | NA | NA         | NA         | NA | NA | NA | NA |    NA |\n",
       "| 756 | NA | NA         | NA         | NA | NA | NA | NA |    NA |\n",
       "| 349 | 2009-01-07 | NA         | NA         | NA | NA | NA |  1 | FALSE |\n",
       "|  36 | 1999-10-06 | 11/10/2000 | NA         | NA | NA | NA | 10 | FALSE |\n",
       "| 417 | 2008-09-17 | NA         | NA         | NA | NA | NA |  9 | FALSE |\n",
       "\n"
      ],
      "text/plain": [
       "   PARENT_ID DOBCHILD1  DOBCHILD2  DOBCHILD3  DOBCHILD4 DOBCHILD5 DOBCHILD6\n",
       "1   47       2003-11-07 NA         NA         NA        NA        NA       \n",
       "2   47       2003-11-07 NA         NA         NA        NA        NA       \n",
       "3   45       2003-12-29 NA         NA         NA        NA        NA       \n",
       "4  172       <NA>       NA         NA         NA        NA        NA       \n",
       "5    8       2008-11-07 NA         NA         NA        NA        NA       \n",
       "6  301       2000-05-16 NA         NA         NA        NA        NA       \n",
       "7    7       2003-11-27 04/12/2005 NA         NA        NA        NA       \n",
       "8  451       1999-02-22 16/08/2000 25/09/2002 NA        NA        NA       \n",
       "9  455       2007-11-12 NA         NA         NA        NA        NA       \n",
       "10 194       <NA>       NA         NA         NA        NA        NA       \n",
       "11 266       2009-09-20 NA         NA         NA        NA        NA       \n",
       "12 611       1998-10-20 NA         NA         NA        NA        NA       \n",
       "13 235       1999-10-14 NA         NA         NA        NA        NA       \n",
       "14 632       1998-06-07 03/12/2002 NA         NA        NA        NA       \n",
       "15 343       <NA>       NA         NA         NA        NA        NA       \n",
       "16 758       <NA>       NA         NA         NA        NA        NA       \n",
       "17 756       <NA>       NA         NA         NA        NA        NA       \n",
       "18 349       2009-01-07 NA         NA         NA        NA        NA       \n",
       "19  36       1999-10-06 11/10/2000 NA         NA        NA        NA       \n",
       "20 417       2008-09-17 NA         NA         NA        NA        NA       \n",
       "   MONTH_CHILD1 SUMMER_CHILD1\n",
       "1  11           FALSE        \n",
       "2  11           FALSE        \n",
       "3  12           FALSE        \n",
       "4  NA              NA        \n",
       "5  11           FALSE        \n",
       "6   5           FALSE        \n",
       "7  11           FALSE        \n",
       "8   2           FALSE        \n",
       "9  11           FALSE        \n",
       "10 NA              NA        \n",
       "11  9           FALSE        \n",
       "12 10           FALSE        \n",
       "13 10           FALSE        \n",
       "14  6            TRUE        \n",
       "15 NA              NA        \n",
       "16 NA              NA        \n",
       "17 NA              NA        \n",
       "18  1           FALSE        \n",
       "19 10           FALSE        \n",
       "20  9           FALSE        "
      ]
     },
     "metadata": {},
     "output_type": "display_data"
    },
    {
     "data": {
      "text/html": [
       "<table>\n",
       "<caption>A tibble: 20 × 8</caption>\n",
       "<thead>\n",
       "\t<tr><th scope=col>PARENT_ID</th><th scope=col>DOBCHILD1</th><th scope=col>DOBCHILD2</th><th scope=col>DOBCHILD3</th><th scope=col>DOBCHILD4</th><th scope=col>DOBCHILD5</th><th scope=col>DOBCHILD6</th><th scope=col>GAP_12</th></tr>\n",
       "\t<tr><th scope=col>&lt;dbl&gt;</th><th scope=col>&lt;date&gt;</th><th scope=col>&lt;date&gt;</th><th scope=col>&lt;chr&gt;</th><th scope=col>&lt;chr&gt;</th><th scope=col>&lt;chr&gt;</th><th scope=col>&lt;chr&gt;</th><th scope=col>&lt;dbl&gt;</th></tr>\n",
       "</thead>\n",
       "<tbody>\n",
       "\t<tr><td> 47</td><td>2003-11-07</td><td>NA</td><td>NA        </td><td>NA</td><td>NA</td><td>NA</td><td>  NA</td></tr>\n",
       "\t<tr><td> 47</td><td>2003-11-07</td><td>NA</td><td>NA        </td><td>NA</td><td>NA</td><td>NA</td><td>  NA</td></tr>\n",
       "\t<tr><td> 45</td><td>2003-12-29</td><td>NA</td><td>NA        </td><td>NA</td><td>NA</td><td>NA</td><td>  NA</td></tr>\n",
       "\t<tr><td>172</td><td>NA</td><td>NA</td><td>NA        </td><td>NA</td><td>NA</td><td>NA</td><td>  NA</td></tr>\n",
       "\t<tr><td>  8</td><td>2008-11-07</td><td>NA</td><td>NA        </td><td>NA</td><td>NA</td><td>NA</td><td>  NA</td></tr>\n",
       "\t<tr><td>301</td><td>2000-05-16</td><td>NA</td><td>NA        </td><td>NA</td><td>NA</td><td>NA</td><td>  NA</td></tr>\n",
       "\t<tr><td>  7</td><td>2003-11-27</td><td>2005-12-04</td><td>NA        </td><td>NA</td><td>NA</td><td>NA</td><td> 738</td></tr>\n",
       "\t<tr><td>451</td><td>1999-02-22</td><td>2000-08-16</td><td>25/09/2002</td><td>NA</td><td>NA</td><td>NA</td><td> 541</td></tr>\n",
       "\t<tr><td>455</td><td>2007-11-12</td><td>NA</td><td>NA        </td><td>NA</td><td>NA</td><td>NA</td><td>  NA</td></tr>\n",
       "\t<tr><td>194</td><td>NA</td><td>NA</td><td>NA        </td><td>NA</td><td>NA</td><td>NA</td><td>  NA</td></tr>\n",
       "\t<tr><td>266</td><td>2009-09-20</td><td>NA</td><td>NA        </td><td>NA</td><td>NA</td><td>NA</td><td>  NA</td></tr>\n",
       "\t<tr><td>611</td><td>1998-10-20</td><td>NA</td><td>NA        </td><td>NA</td><td>NA</td><td>NA</td><td>  NA</td></tr>\n",
       "\t<tr><td>235</td><td>1999-10-14</td><td>NA</td><td>NA        </td><td>NA</td><td>NA</td><td>NA</td><td>  NA</td></tr>\n",
       "\t<tr><td>632</td><td>1998-06-07</td><td>2002-12-03</td><td>NA        </td><td>NA</td><td>NA</td><td>NA</td><td>1640</td></tr>\n",
       "\t<tr><td>343</td><td>NA</td><td>NA</td><td>NA        </td><td>NA</td><td>NA</td><td>NA</td><td>  NA</td></tr>\n",
       "\t<tr><td>758</td><td>NA</td><td>NA</td><td>NA        </td><td>NA</td><td>NA</td><td>NA</td><td>  NA</td></tr>\n",
       "\t<tr><td>756</td><td>NA</td><td>NA</td><td>NA        </td><td>NA</td><td>NA</td><td>NA</td><td>  NA</td></tr>\n",
       "\t<tr><td>349</td><td>2009-01-07</td><td>NA</td><td>NA        </td><td>NA</td><td>NA</td><td>NA</td><td>  NA</td></tr>\n",
       "\t<tr><td> 36</td><td>1999-10-06</td><td>2000-10-11</td><td>NA        </td><td>NA</td><td>NA</td><td>NA</td><td> 371</td></tr>\n",
       "\t<tr><td>417</td><td>2008-09-17</td><td>NA</td><td>NA        </td><td>NA</td><td>NA</td><td>NA</td><td>  NA</td></tr>\n",
       "</tbody>\n",
       "</table>\n"
      ],
      "text/latex": [
       "A tibble: 20 × 8\n",
       "\\begin{tabular}{llllllll}\n",
       " PARENT\\_ID & DOBCHILD1 & DOBCHILD2 & DOBCHILD3 & DOBCHILD4 & DOBCHILD5 & DOBCHILD6 & GAP\\_12\\\\\n",
       " <dbl> & <date> & <date> & <chr> & <chr> & <chr> & <chr> & <dbl>\\\\\n",
       "\\hline\n",
       "\t  47 & 2003-11-07 & NA & NA         & NA & NA & NA &   NA\\\\\n",
       "\t  47 & 2003-11-07 & NA & NA         & NA & NA & NA &   NA\\\\\n",
       "\t  45 & 2003-12-29 & NA & NA         & NA & NA & NA &   NA\\\\\n",
       "\t 172 & NA & NA & NA         & NA & NA & NA &   NA\\\\\n",
       "\t   8 & 2008-11-07 & NA & NA         & NA & NA & NA &   NA\\\\\n",
       "\t 301 & 2000-05-16 & NA & NA         & NA & NA & NA &   NA\\\\\n",
       "\t   7 & 2003-11-27 & 2005-12-04 & NA         & NA & NA & NA &  738\\\\\n",
       "\t 451 & 1999-02-22 & 2000-08-16 & 25/09/2002 & NA & NA & NA &  541\\\\\n",
       "\t 455 & 2007-11-12 & NA & NA         & NA & NA & NA &   NA\\\\\n",
       "\t 194 & NA & NA & NA         & NA & NA & NA &   NA\\\\\n",
       "\t 266 & 2009-09-20 & NA & NA         & NA & NA & NA &   NA\\\\\n",
       "\t 611 & 1998-10-20 & NA & NA         & NA & NA & NA &   NA\\\\\n",
       "\t 235 & 1999-10-14 & NA & NA         & NA & NA & NA &   NA\\\\\n",
       "\t 632 & 1998-06-07 & 2002-12-03 & NA         & NA & NA & NA & 1640\\\\\n",
       "\t 343 & NA & NA & NA         & NA & NA & NA &   NA\\\\\n",
       "\t 758 & NA & NA & NA         & NA & NA & NA &   NA\\\\\n",
       "\t 756 & NA & NA & NA         & NA & NA & NA &   NA\\\\\n",
       "\t 349 & 2009-01-07 & NA & NA         & NA & NA & NA &   NA\\\\\n",
       "\t  36 & 1999-10-06 & 2000-10-11 & NA         & NA & NA & NA &  371\\\\\n",
       "\t 417 & 2008-09-17 & NA & NA         & NA & NA & NA &   NA\\\\\n",
       "\\end{tabular}\n"
      ],
      "text/markdown": [
       "\n",
       "A tibble: 20 × 8\n",
       "\n",
       "| PARENT_ID &lt;dbl&gt; | DOBCHILD1 &lt;date&gt; | DOBCHILD2 &lt;date&gt; | DOBCHILD3 &lt;chr&gt; | DOBCHILD4 &lt;chr&gt; | DOBCHILD5 &lt;chr&gt; | DOBCHILD6 &lt;chr&gt; | GAP_12 &lt;dbl&gt; |\n",
       "|---|---|---|---|---|---|---|---|\n",
       "|  47 | 2003-11-07 | NA | NA         | NA | NA | NA |   NA |\n",
       "|  47 | 2003-11-07 | NA | NA         | NA | NA | NA |   NA |\n",
       "|  45 | 2003-12-29 | NA | NA         | NA | NA | NA |   NA |\n",
       "| 172 | NA | NA | NA         | NA | NA | NA |   NA |\n",
       "|   8 | 2008-11-07 | NA | NA         | NA | NA | NA |   NA |\n",
       "| 301 | 2000-05-16 | NA | NA         | NA | NA | NA |   NA |\n",
       "|   7 | 2003-11-27 | 2005-12-04 | NA         | NA | NA | NA |  738 |\n",
       "| 451 | 1999-02-22 | 2000-08-16 | 25/09/2002 | NA | NA | NA |  541 |\n",
       "| 455 | 2007-11-12 | NA | NA         | NA | NA | NA |   NA |\n",
       "| 194 | NA | NA | NA         | NA | NA | NA |   NA |\n",
       "| 266 | 2009-09-20 | NA | NA         | NA | NA | NA |   NA |\n",
       "| 611 | 1998-10-20 | NA | NA         | NA | NA | NA |   NA |\n",
       "| 235 | 1999-10-14 | NA | NA         | NA | NA | NA |   NA |\n",
       "| 632 | 1998-06-07 | 2002-12-03 | NA         | NA | NA | NA | 1640 |\n",
       "| 343 | NA | NA | NA         | NA | NA | NA |   NA |\n",
       "| 758 | NA | NA | NA         | NA | NA | NA |   NA |\n",
       "| 756 | NA | NA | NA         | NA | NA | NA |   NA |\n",
       "| 349 | 2009-01-07 | NA | NA         | NA | NA | NA |   NA |\n",
       "|  36 | 1999-10-06 | 2000-10-11 | NA         | NA | NA | NA |  371 |\n",
       "| 417 | 2008-09-17 | NA | NA         | NA | NA | NA |   NA |\n",
       "\n"
      ],
      "text/plain": [
       "   PARENT_ID DOBCHILD1  DOBCHILD2  DOBCHILD3  DOBCHILD4 DOBCHILD5 DOBCHILD6\n",
       "1   47       2003-11-07 <NA>       NA         NA        NA        NA       \n",
       "2   47       2003-11-07 <NA>       NA         NA        NA        NA       \n",
       "3   45       2003-12-29 <NA>       NA         NA        NA        NA       \n",
       "4  172       <NA>       <NA>       NA         NA        NA        NA       \n",
       "5    8       2008-11-07 <NA>       NA         NA        NA        NA       \n",
       "6  301       2000-05-16 <NA>       NA         NA        NA        NA       \n",
       "7    7       2003-11-27 2005-12-04 NA         NA        NA        NA       \n",
       "8  451       1999-02-22 2000-08-16 25/09/2002 NA        NA        NA       \n",
       "9  455       2007-11-12 <NA>       NA         NA        NA        NA       \n",
       "10 194       <NA>       <NA>       NA         NA        NA        NA       \n",
       "11 266       2009-09-20 <NA>       NA         NA        NA        NA       \n",
       "12 611       1998-10-20 <NA>       NA         NA        NA        NA       \n",
       "13 235       1999-10-14 <NA>       NA         NA        NA        NA       \n",
       "14 632       1998-06-07 2002-12-03 NA         NA        NA        NA       \n",
       "15 343       <NA>       <NA>       NA         NA        NA        NA       \n",
       "16 758       <NA>       <NA>       NA         NA        NA        NA       \n",
       "17 756       <NA>       <NA>       NA         NA        NA        NA       \n",
       "18 349       2009-01-07 <NA>       NA         NA        NA        NA       \n",
       "19  36       1999-10-06 2000-10-11 NA         NA        NA        NA       \n",
       "20 417       2008-09-17 <NA>       NA         NA        NA        NA       \n",
       "   GAP_12\n",
       "1    NA  \n",
       "2    NA  \n",
       "3    NA  \n",
       "4    NA  \n",
       "5    NA  \n",
       "6    NA  \n",
       "7   738  \n",
       "8   541  \n",
       "9    NA  \n",
       "10   NA  \n",
       "11   NA  \n",
       "12   NA  \n",
       "13   NA  \n",
       "14 1640  \n",
       "15   NA  \n",
       "16   NA  \n",
       "17   NA  \n",
       "18   NA  \n",
       "19  371  \n",
       "20   NA  "
      ]
     },
     "metadata": {},
     "output_type": "display_data"
    }
   ],
   "source": [
    "#library(lubridate)\n",
    "#p <- pregnancy %>% select(PARENT_ID, DOBCHILD1, DOBCHILD2, DOBCHILD3, DOBCHILD4, DOBCHILD5, DOBCHILD6) %>%\n",
    "#    mutate(DOBCHILD1 = as.Date(DOBCHILD1, format='%d/%m/%Y')) %>%\n",
    "#    mutate(MONTH_CHILD1 = month(DOBCHILD1)) %>%\n",
    "#    mutate(SUMMER_CHILD1 = (MONTH_CHILD1 >= 6 & MONTH_CHILD1 <= 8))\n",
    "#table(p$SUMMER_CHILD1)\n",
    "#head(p, 20)\n",
    "#q <- pregnancy %>% select(PARENT_ID, DOBCHILD1, DOBCHILD2, DOBCHILD3, DOBCHILD4, DOBCHILD5, DOBCHILD6) %>%\n",
    "#    mutate(DOBCHILD1 = as.Date(DOBCHILD1, format='%d/%m/%Y')) %>%\n",
    "#    mutate(DOBCHILD2 = as.Date(DOBCHILD2, format='%d/%m/%Y')) %>%\n",
    "#    mutate(GAP_12 = ifelse(!is.na(DOBCHILD1) & !is.na(DOBCHILD2), DOBCHILD2 - DOBCHILD1, NA))\n",
    "#head(q, 20)"
   ]
  },
  {
   "cell_type": "markdown",
   "metadata": {},
   "source": [
    "<table style=\"text-align:center;\"><tr><td width=\"100\" height=\"20\" style=\"background-color:greenyellow\"></td><td width=\"100\" height=\"20\" style=\"background-color:hotpink\"></td></tr></table>"
   ]
  },
  {
   "cell_type": "markdown",
   "metadata": {},
   "source": [
    "### __Factors__\n",
    "\n",
    "[See the forcats cheatsheet.](https://github.com/rstudio/cheatsheets/raw/master/factors.pdf) \n",
    "\n",
    "The Tidyverse provides a library, `forcats`, with a number of utilities for handling factors.\n",
    "\n",
    "A factor is a categorical variable (a vector with a fixed set of values). In R a factor is displayed with string values but stored as integers with a hidden look-up table to do the conversion. This avoids spelling mistakes and problems with capitalisation (or, rather, these things show up as errors).\n",
    "\n",
    "The factors are usually ordered alphabetically which can be inconvenient when it comes to plotting by categories for example.\n",
    "\n",
    "We create a factor with `factor(x=character(), levels)` or from a vector with `as.factor()`. The levels can be seen and set by calling `levels(x)`."
   ]
  },
  {
   "cell_type": "code",
   "execution_count": 41,
   "metadata": {},
   "outputs": [
    {
     "data": {
      "text/html": [
       "<style>\n",
       ".list-inline {list-style: none; margin:0; padding: 0}\n",
       ".list-inline>li {display: inline-block}\n",
       ".list-inline>li:not(:last-child)::after {content: \"\\00b7\"; padding: 0 .5ex}\n",
       "</style>\n",
       "<ol class=list-inline><li>healthy</li><li>underweight</li><li>obese</li><li>healthy</li><li>healthy</li><li>overweight</li><li>healthy</li><li>obese</li><li>overweight</li></ol>\n",
       "\n",
       "<details>\n",
       "\t<summary style=display:list-item;cursor:pointer>\n",
       "\t\t<strong>Levels</strong>:\n",
       "\t</summary>\n",
       "\t<style>\n",
       "\t.list-inline {list-style: none; margin:0; padding: 0}\n",
       "\t.list-inline>li {display: inline-block}\n",
       "\t.list-inline>li:not(:last-child)::after {content: \"\\00b7\"; padding: 0 .5ex}\n",
       "\t</style>\n",
       "\t<ol class=list-inline><li>'healthy'</li><li>'obese'</li><li>'overweight'</li><li>'underweight'</li></ol>\n",
       "</details>"
      ],
      "text/latex": [
       "\\begin{enumerate*}\n",
       "\\item healthy\n",
       "\\item underweight\n",
       "\\item obese\n",
       "\\item healthy\n",
       "\\item healthy\n",
       "\\item overweight\n",
       "\\item healthy\n",
       "\\item obese\n",
       "\\item overweight\n",
       "\\end{enumerate*}\n",
       "\n",
       "\\emph{Levels}: \\begin{enumerate*}\n",
       "\\item 'healthy'\n",
       "\\item 'obese'\n",
       "\\item 'overweight'\n",
       "\\item 'underweight'\n",
       "\\end{enumerate*}\n"
      ],
      "text/markdown": [
       "1. healthy\n",
       "2. underweight\n",
       "3. obese\n",
       "4. healthy\n",
       "5. healthy\n",
       "6. overweight\n",
       "7. healthy\n",
       "8. obese\n",
       "9. overweight\n",
       "\n",
       "\n",
       "\n",
       "**Levels**: 1. 'healthy'\n",
       "2. 'obese'\n",
       "3. 'overweight'\n",
       "4. 'underweight'\n",
       "\n",
       "\n"
      ],
      "text/plain": [
       "[1] healthy     underweight obese       healthy     healthy     overweight \n",
       "[7] healthy     obese       overweight \n",
       "Levels: healthy obese overweight underweight"
      ]
     },
     "metadata": {},
     "output_type": "display_data"
    },
    {
     "data": {
      "text/html": [
       "<style>\n",
       ".list-inline {list-style: none; margin:0; padding: 0}\n",
       ".list-inline>li {display: inline-block}\n",
       ".list-inline>li:not(:last-child)::after {content: \"\\00b7\"; padding: 0 .5ex}\n",
       "</style>\n",
       "<ol class=list-inline><li>'healthy'</li><li>'obese'</li><li>'overweight'</li><li>'underweight'</li></ol>\n"
      ],
      "text/latex": [
       "\\begin{enumerate*}\n",
       "\\item 'healthy'\n",
       "\\item 'obese'\n",
       "\\item 'overweight'\n",
       "\\item 'underweight'\n",
       "\\end{enumerate*}\n"
      ],
      "text/markdown": [
       "1. 'healthy'\n",
       "2. 'obese'\n",
       "3. 'overweight'\n",
       "4. 'underweight'\n",
       "\n",
       "\n"
      ],
      "text/plain": [
       "[1] \"healthy\"     \"obese\"       \"overweight\"  \"underweight\""
      ]
     },
     "metadata": {},
     "output_type": "display_data"
    },
    {
     "data": {
      "text/html": [
       "<style>\n",
       ".list-inline {list-style: none; margin:0; padding: 0}\n",
       ".list-inline>li {display: inline-block}\n",
       ".list-inline>li:not(:last-child)::after {content: \"\\00b7\"; padding: 0 .5ex}\n",
       "</style>\n",
       "<ol class=list-inline><li>healthy</li><li>underweight</li><li>obese</li><li>healthy</li><li>healthy</li><li>overweight</li><li>healthy</li><li>obese</li><li>overweight</li></ol>\n",
       "\n",
       "<details>\n",
       "\t<summary style=display:list-item;cursor:pointer>\n",
       "\t\t<strong>Levels</strong>:\n",
       "\t</summary>\n",
       "\t<style>\n",
       "\t.list-inline {list-style: none; margin:0; padding: 0}\n",
       "\t.list-inline>li {display: inline-block}\n",
       "\t.list-inline>li:not(:last-child)::after {content: \"\\00b7\"; padding: 0 .5ex}\n",
       "\t</style>\n",
       "\t<ol class=list-inline><li>'underweight'</li><li>'healthy'</li><li>'overweight'</li><li>'obese'</li></ol>\n",
       "</details>"
      ],
      "text/latex": [
       "\\begin{enumerate*}\n",
       "\\item healthy\n",
       "\\item underweight\n",
       "\\item obese\n",
       "\\item healthy\n",
       "\\item healthy\n",
       "\\item overweight\n",
       "\\item healthy\n",
       "\\item obese\n",
       "\\item overweight\n",
       "\\end{enumerate*}\n",
       "\n",
       "\\emph{Levels}: \\begin{enumerate*}\n",
       "\\item 'underweight'\n",
       "\\item 'healthy'\n",
       "\\item 'overweight'\n",
       "\\item 'obese'\n",
       "\\end{enumerate*}\n"
      ],
      "text/markdown": [
       "1. healthy\n",
       "2. underweight\n",
       "3. obese\n",
       "4. healthy\n",
       "5. healthy\n",
       "6. overweight\n",
       "7. healthy\n",
       "8. obese\n",
       "9. overweight\n",
       "\n",
       "\n",
       "\n",
       "**Levels**: 1. 'underweight'\n",
       "2. 'healthy'\n",
       "3. 'overweight'\n",
       "4. 'obese'\n",
       "\n",
       "\n"
      ],
      "text/plain": [
       "[1] healthy     underweight obese       healthy     healthy     overweight \n",
       "[7] healthy     obese       overweight \n",
       "Levels: underweight healthy overweight obese"
      ]
     },
     "metadata": {},
     "output_type": "display_data"
    },
    {
     "data": {
      "text/html": [
       "<style>\n",
       ".list-inline {list-style: none; margin:0; padding: 0}\n",
       ".list-inline>li {display: inline-block}\n",
       ".list-inline>li:not(:last-child)::after {content: \"\\00b7\"; padding: 0 .5ex}\n",
       "</style>\n",
       "<ol class=list-inline><li>'underweight'</li><li>'healthy'</li><li>'overweight'</li><li>'obese'</li></ol>\n"
      ],
      "text/latex": [
       "\\begin{enumerate*}\n",
       "\\item 'underweight'\n",
       "\\item 'healthy'\n",
       "\\item 'overweight'\n",
       "\\item 'obese'\n",
       "\\end{enumerate*}\n"
      ],
      "text/markdown": [
       "1. 'underweight'\n",
       "2. 'healthy'\n",
       "3. 'overweight'\n",
       "4. 'obese'\n",
       "\n",
       "\n"
      ],
      "text/plain": [
       "[1] \"underweight\" \"healthy\"     \"overweight\"  \"obese\"      "
      ]
     },
     "metadata": {},
     "output_type": "display_data"
    },
    {
     "data": {
      "text/html": [
       "<style>\n",
       ".list-inline {list-style: none; margin:0; padding: 0}\n",
       ".list-inline>li {display: inline-block}\n",
       ".list-inline>li:not(:last-child)::after {content: \"\\00b7\"; padding: 0 .5ex}\n",
       "</style>\n",
       "<ol class=list-inline><li>overweight</li><li>obese</li><li>underweight</li><li>overweight</li><li>overweight</li><li>healthy</li><li>overweight</li><li>underweight</li><li>healthy</li></ol>\n",
       "\n",
       "<details>\n",
       "\t<summary style=display:list-item;cursor:pointer>\n",
       "\t\t<strong>Levels</strong>:\n",
       "\t</summary>\n",
       "\t<style>\n",
       "\t.list-inline {list-style: none; margin:0; padding: 0}\n",
       "\t.list-inline>li {display: inline-block}\n",
       "\t.list-inline>li:not(:last-child)::after {content: \"\\00b7\"; padding: 0 .5ex}\n",
       "\t</style>\n",
       "\t<ol class=list-inline><li>'obese'</li><li>'overweight'</li><li>'healthy'</li><li>'underweight'</li></ol>\n",
       "</details>"
      ],
      "text/latex": [
       "\\begin{enumerate*}\n",
       "\\item overweight\n",
       "\\item obese\n",
       "\\item underweight\n",
       "\\item overweight\n",
       "\\item overweight\n",
       "\\item healthy\n",
       "\\item overweight\n",
       "\\item underweight\n",
       "\\item healthy\n",
       "\\end{enumerate*}\n",
       "\n",
       "\\emph{Levels}: \\begin{enumerate*}\n",
       "\\item 'obese'\n",
       "\\item 'overweight'\n",
       "\\item 'healthy'\n",
       "\\item 'underweight'\n",
       "\\end{enumerate*}\n"
      ],
      "text/markdown": [
       "1. overweight\n",
       "2. obese\n",
       "3. underweight\n",
       "4. overweight\n",
       "5. overweight\n",
       "6. healthy\n",
       "7. overweight\n",
       "8. underweight\n",
       "9. healthy\n",
       "\n",
       "\n",
       "\n",
       "**Levels**: 1. 'obese'\n",
       "2. 'overweight'\n",
       "3. 'healthy'\n",
       "4. 'underweight'\n",
       "\n",
       "\n"
      ],
      "text/plain": [
       "[1] overweight  obese       underweight overweight  overweight  healthy    \n",
       "[7] overweight  underweight healthy    \n",
       "Levels: obese overweight healthy underweight"
      ]
     },
     "metadata": {},
     "output_type": "display_data"
    },
    {
     "data": {
      "text/html": [
       "<style>\n",
       ".list-inline {list-style: none; margin:0; padding: 0}\n",
       ".list-inline>li {display: inline-block}\n",
       ".list-inline>li:not(:last-child)::after {content: \"\\00b7\"; padding: 0 .5ex}\n",
       "</style>\n",
       "<ol class=list-inline><li>'obese'</li><li>'overweight'</li><li>'healthy'</li><li>'underweight'</li></ol>\n"
      ],
      "text/latex": [
       "\\begin{enumerate*}\n",
       "\\item 'obese'\n",
       "\\item 'overweight'\n",
       "\\item 'healthy'\n",
       "\\item 'underweight'\n",
       "\\end{enumerate*}\n"
      ],
      "text/markdown": [
       "1. 'obese'\n",
       "2. 'overweight'\n",
       "3. 'healthy'\n",
       "4. 'underweight'\n",
       "\n",
       "\n"
      ],
      "text/plain": [
       "[1] \"obese\"       \"overweight\"  \"healthy\"     \"underweight\""
      ]
     },
     "metadata": {},
     "output_type": "display_data"
    }
   ],
   "source": [
    "#bmi <- factor(c('healthy', 'underweight', 'obese', 'healthy', 'healthy', 'overweight', 'healthy', 'obese', 'overweight'))\n",
    "#bmi\n",
    "## Notice that the levels are listed alphabetically. Note also that the print(bmi) automatically prints the levels.\n",
    "#levels(bmi)\n",
    "#bmi <- factor(c('healthy', 'underweight', 'obese', 'healthy', 'healthy', 'overweight', 'healthy', 'obese', 'overweight'),\n",
    "#             levels=c('underweight', 'healthy', 'overweight', 'obese'))\n",
    "#bmi\n",
    "## Notice that the levels are listed ordinally.\n",
    "#levels(bmi)\n",
    "## Notice that the following changes the labels not the order of the labels so the data has changed too.\n",
    "#levels(bmi) <- c('obese', 'overweight', 'healthy', 'underweight')\n",
    "#bmi\n",
    "#levels(bmi)"
   ]
  },
  {
   "cell_type": "markdown",
   "metadata": {},
   "source": [
    "There are some useful forcats functions:\n",
    "* fct_count() --- count the frequency of each level\n",
    "* fct_unique() --- get the unique values\n",
    "* fct_c() --- combine factors (with possibly different levels)\n",
    "* fct_unify() --- unify the levels across different factors\n",
    "* fct_relevel() --- relevel the factor\n",
    "* fct_infreq() --- relevel the factor by th efrequency eacch occurs\n",
    "* fct_collapse() --- collapse the specified levels into a new (or existing) level\n",
    "* fct_other() --- allows you to select some levels to keep, the rest collapsed into a level, 'Other'\n",
    "\n",
    "There are several additional re-ordering functions - see the cheatsheet."
   ]
  },
  {
   "cell_type": "code",
   "execution_count": 44,
   "metadata": {},
   "outputs": [
    {
     "data": {
      "text/html": [
       "<table>\n",
       "<caption>A tibble: 4 × 2</caption>\n",
       "<thead>\n",
       "\t<tr><th scope=col>f</th><th scope=col>n</th></tr>\n",
       "\t<tr><th scope=col>&lt;fct&gt;</th><th scope=col>&lt;int&gt;</th></tr>\n",
       "</thead>\n",
       "<tbody>\n",
       "\t<tr><td>healthy    </td><td>4</td></tr>\n",
       "\t<tr><td>obese      </td><td>2</td></tr>\n",
       "\t<tr><td>overweight </td><td>2</td></tr>\n",
       "\t<tr><td>underweight</td><td>1</td></tr>\n",
       "</tbody>\n",
       "</table>\n"
      ],
      "text/latex": [
       "A tibble: 4 × 2\n",
       "\\begin{tabular}{ll}\n",
       " f & n\\\\\n",
       " <fct> & <int>\\\\\n",
       "\\hline\n",
       "\t healthy     & 4\\\\\n",
       "\t obese       & 2\\\\\n",
       "\t overweight  & 2\\\\\n",
       "\t underweight & 1\\\\\n",
       "\\end{tabular}\n"
      ],
      "text/markdown": [
       "\n",
       "A tibble: 4 × 2\n",
       "\n",
       "| f &lt;fct&gt; | n &lt;int&gt; |\n",
       "|---|---|\n",
       "| healthy     | 4 |\n",
       "| obese       | 2 |\n",
       "| overweight  | 2 |\n",
       "| underweight | 1 |\n",
       "\n"
      ],
      "text/plain": [
       "  f           n\n",
       "1 healthy     4\n",
       "2 obese       2\n",
       "3 overweight  2\n",
       "4 underweight 1"
      ]
     },
     "metadata": {},
     "output_type": "display_data"
    },
    {
     "data": {
      "text/html": [
       "<style>\n",
       ".list-inline {list-style: none; margin:0; padding: 0}\n",
       ".list-inline>li {display: inline-block}\n",
       ".list-inline>li:not(:last-child)::after {content: \"\\00b7\"; padding: 0 .5ex}\n",
       "</style>\n",
       "<ol class=list-inline><li>healthy</li><li>obese</li><li>overweight</li><li>underweight</li></ol>\n",
       "\n",
       "<details>\n",
       "\t<summary style=display:list-item;cursor:pointer>\n",
       "\t\t<strong>Levels</strong>:\n",
       "\t</summary>\n",
       "\t<style>\n",
       "\t.list-inline {list-style: none; margin:0; padding: 0}\n",
       "\t.list-inline>li {display: inline-block}\n",
       "\t.list-inline>li:not(:last-child)::after {content: \"\\00b7\"; padding: 0 .5ex}\n",
       "\t</style>\n",
       "\t<ol class=list-inline><li>'healthy'</li><li>'obese'</li><li>'overweight'</li><li>'underweight'</li></ol>\n",
       "</details>"
      ],
      "text/latex": [
       "\\begin{enumerate*}\n",
       "\\item healthy\n",
       "\\item obese\n",
       "\\item overweight\n",
       "\\item underweight\n",
       "\\end{enumerate*}\n",
       "\n",
       "\\emph{Levels}: \\begin{enumerate*}\n",
       "\\item 'healthy'\n",
       "\\item 'obese'\n",
       "\\item 'overweight'\n",
       "\\item 'underweight'\n",
       "\\end{enumerate*}\n"
      ],
      "text/markdown": [
       "1. healthy\n",
       "2. obese\n",
       "3. overweight\n",
       "4. underweight\n",
       "\n",
       "\n",
       "\n",
       "**Levels**: 1. 'healthy'\n",
       "2. 'obese'\n",
       "3. 'overweight'\n",
       "4. 'underweight'\n",
       "\n",
       "\n"
      ],
      "text/plain": [
       "[1] healthy     obese       overweight  underweight\n",
       "Levels: healthy obese overweight underweight"
      ]
     },
     "metadata": {},
     "output_type": "display_data"
    },
    {
     "data": {
      "text/html": [
       "<style>\n",
       ".list-inline {list-style: none; margin:0; padding: 0}\n",
       ".list-inline>li {display: inline-block}\n",
       ".list-inline>li:not(:last-child)::after {content: \"\\00b7\"; padding: 0 .5ex}\n",
       "</style>\n",
       "<ol class=list-inline><li>healthy</li><li>underweight</li><li>obese</li><li>healthy</li><li>healthy</li><li>overweight</li><li>healthy</li><li>obese</li><li>overweight</li></ol>\n",
       "\n",
       "<details>\n",
       "\t<summary style=display:list-item;cursor:pointer>\n",
       "\t\t<strong>Levels</strong>:\n",
       "\t</summary>\n",
       "\t<style>\n",
       "\t.list-inline {list-style: none; margin:0; padding: 0}\n",
       "\t.list-inline>li {display: inline-block}\n",
       "\t.list-inline>li:not(:last-child)::after {content: \"\\00b7\"; padding: 0 .5ex}\n",
       "\t</style>\n",
       "\t<ol class=list-inline><li>'obese'</li><li>'overweight'</li><li>'healthy'</li><li>'underweight'</li></ol>\n",
       "</details>"
      ],
      "text/latex": [
       "\\begin{enumerate*}\n",
       "\\item healthy\n",
       "\\item underweight\n",
       "\\item obese\n",
       "\\item healthy\n",
       "\\item healthy\n",
       "\\item overweight\n",
       "\\item healthy\n",
       "\\item obese\n",
       "\\item overweight\n",
       "\\end{enumerate*}\n",
       "\n",
       "\\emph{Levels}: \\begin{enumerate*}\n",
       "\\item 'obese'\n",
       "\\item 'overweight'\n",
       "\\item 'healthy'\n",
       "\\item 'underweight'\n",
       "\\end{enumerate*}\n"
      ],
      "text/markdown": [
       "1. healthy\n",
       "2. underweight\n",
       "3. obese\n",
       "4. healthy\n",
       "5. healthy\n",
       "6. overweight\n",
       "7. healthy\n",
       "8. obese\n",
       "9. overweight\n",
       "\n",
       "\n",
       "\n",
       "**Levels**: 1. 'obese'\n",
       "2. 'overweight'\n",
       "3. 'healthy'\n",
       "4. 'underweight'\n",
       "\n",
       "\n"
      ],
      "text/plain": [
       "[1] healthy     underweight obese       healthy     healthy     overweight \n",
       "[7] healthy     obese       overweight \n",
       "Levels: obese overweight healthy underweight"
      ]
     },
     "metadata": {},
     "output_type": "display_data"
    },
    {
     "data": {
      "text/html": [
       "<style>\n",
       ".list-inline {list-style: none; margin:0; padding: 0}\n",
       ".list-inline>li {display: inline-block}\n",
       ".list-inline>li:not(:last-child)::after {content: \"\\00b7\"; padding: 0 .5ex}\n",
       "</style>\n",
       "<ol class=list-inline><li>healthy</li><li>underweight</li><li>obese</li><li>healthy</li><li>healthy</li><li>overweight</li><li>healthy</li><li>obese</li><li>overweight</li></ol>\n",
       "\n",
       "<details>\n",
       "\t<summary style=display:list-item;cursor:pointer>\n",
       "\t\t<strong>Levels</strong>:\n",
       "\t</summary>\n",
       "\t<style>\n",
       "\t.list-inline {list-style: none; margin:0; padding: 0}\n",
       "\t.list-inline>li {display: inline-block}\n",
       "\t.list-inline>li:not(:last-child)::after {content: \"\\00b7\"; padding: 0 .5ex}\n",
       "\t</style>\n",
       "\t<ol class=list-inline><li>'healthy'</li><li>'obese'</li><li>'overweight'</li><li>'underweight'</li></ol>\n",
       "</details>"
      ],
      "text/latex": [
       "\\begin{enumerate*}\n",
       "\\item healthy\n",
       "\\item underweight\n",
       "\\item obese\n",
       "\\item healthy\n",
       "\\item healthy\n",
       "\\item overweight\n",
       "\\item healthy\n",
       "\\item obese\n",
       "\\item overweight\n",
       "\\end{enumerate*}\n",
       "\n",
       "\\emph{Levels}: \\begin{enumerate*}\n",
       "\\item 'healthy'\n",
       "\\item 'obese'\n",
       "\\item 'overweight'\n",
       "\\item 'underweight'\n",
       "\\end{enumerate*}\n"
      ],
      "text/markdown": [
       "1. healthy\n",
       "2. underweight\n",
       "3. obese\n",
       "4. healthy\n",
       "5. healthy\n",
       "6. overweight\n",
       "7. healthy\n",
       "8. obese\n",
       "9. overweight\n",
       "\n",
       "\n",
       "\n",
       "**Levels**: 1. 'healthy'\n",
       "2. 'obese'\n",
       "3. 'overweight'\n",
       "4. 'underweight'\n",
       "\n",
       "\n"
      ],
      "text/plain": [
       "[1] healthy     underweight obese       healthy     healthy     overweight \n",
       "[7] healthy     obese       overweight \n",
       "Levels: healthy obese overweight underweight"
      ]
     },
     "metadata": {},
     "output_type": "display_data"
    },
    {
     "data": {
      "text/html": [
       "<style>\n",
       ".list-inline {list-style: none; margin:0; padding: 0}\n",
       ".list-inline>li {display: inline-block}\n",
       ".list-inline>li:not(:last-child)::after {content: \"\\00b7\"; padding: 0 .5ex}\n",
       "</style>\n",
       "<ol class=list-inline><li>healthy</li><li>underweight</li><li>heavy</li><li>healthy</li><li>healthy</li><li>heavy</li><li>healthy</li><li>heavy</li><li>heavy</li></ol>\n",
       "\n",
       "<details>\n",
       "\t<summary style=display:list-item;cursor:pointer>\n",
       "\t\t<strong>Levels</strong>:\n",
       "\t</summary>\n",
       "\t<style>\n",
       "\t.list-inline {list-style: none; margin:0; padding: 0}\n",
       "\t.list-inline>li {display: inline-block}\n",
       "\t.list-inline>li:not(:last-child)::after {content: \"\\00b7\"; padding: 0 .5ex}\n",
       "\t</style>\n",
       "\t<ol class=list-inline><li>'healthy'</li><li>'heavy'</li><li>'underweight'</li></ol>\n",
       "</details>"
      ],
      "text/latex": [
       "\\begin{enumerate*}\n",
       "\\item healthy\n",
       "\\item underweight\n",
       "\\item heavy\n",
       "\\item healthy\n",
       "\\item healthy\n",
       "\\item heavy\n",
       "\\item healthy\n",
       "\\item heavy\n",
       "\\item heavy\n",
       "\\end{enumerate*}\n",
       "\n",
       "\\emph{Levels}: \\begin{enumerate*}\n",
       "\\item 'healthy'\n",
       "\\item 'heavy'\n",
       "\\item 'underweight'\n",
       "\\end{enumerate*}\n"
      ],
      "text/markdown": [
       "1. healthy\n",
       "2. underweight\n",
       "3. heavy\n",
       "4. healthy\n",
       "5. healthy\n",
       "6. heavy\n",
       "7. healthy\n",
       "8. heavy\n",
       "9. heavy\n",
       "\n",
       "\n",
       "\n",
       "**Levels**: 1. 'healthy'\n",
       "2. 'heavy'\n",
       "3. 'underweight'\n",
       "\n",
       "\n"
      ],
      "text/plain": [
       "[1] healthy     underweight heavy       healthy     healthy     heavy      \n",
       "[7] healthy     heavy       heavy      \n",
       "Levels: healthy heavy underweight"
      ]
     },
     "metadata": {},
     "output_type": "display_data"
    }
   ],
   "source": [
    "#library(forcats)\n",
    "#bmi <- factor(c('healthy', 'underweight', 'obese', 'healthy', 'healthy', 'overweight', 'healthy', 'obese', 'overweight'))\n",
    "#fct_count(bmi)\n",
    "#fct_unique(bmi)\n",
    "## Note that the order of the levels below has changed not the data.\n",
    "#fct_relevel(bmi, c('obese', 'overweight', 'healthy', 'underweight'))\n",
    "## Now re-ordered according to frequency of each factor (useful for listing and plotting).\n",
    "#fct_infreq(bmi)\n",
    "## Collapse some factors into the same value.\n",
    "#fct_collapse(bmi, heavy=c('overweight', 'obese'))"
   ]
  },
  {
   "cell_type": "markdown",
   "metadata": {},
   "source": [
    "## __Exercise__: Factors in the pregnancy dataset.\n",
    "1. Create a factor for season of child birth.\n",
    "1. Create a factor for length of gap between births with a non-linear increment, e.g. <1 year, <18 months, <2 years, <3 years, <5 years, >5  years."
   ]
  },
  {
   "cell_type": "code",
   "execution_count": 54,
   "metadata": {},
   "outputs": [
    {
     "data": {
      "text/html": [
       "<table>\n",
       "<caption>A tibble: 6 × 95</caption>\n",
       "<thead>\n",
       "\t<tr><th scope=col>PARENT_ID</th><th scope=col>INFANT_ID</th><th scope=col>DATE_OF_BIRTH</th><th scope=col>EDD</th><th scope=col>BIRTH_PLAN</th><th scope=col>LANGUAGE</th><th scope=col>OTHER_LANGUAGE</th><th scope=col>ETHNICITY</th><th scope=col>OTHER_ETHNICITY</th><th scope=col>RELATIONSHIP_STATUS</th><th scope=col>...</th><th scope=col>SMOKE_NUMBER</th><th scope=col>ALCOHOL</th><th scope=col>EARLY_PREG_ALCOHOL</th><th scope=col>MID_LATE_PREG_ALCOHOL</th><th scope=col>MEDICATION1</th><th scope=col>MEDICATION2</th><th scope=col>MEDICATION3</th><th scope=col>MEDICATION4</th><th scope=col>MEDICATION5</th><th scope=col>MEDICATION6</th></tr>\n",
       "\t<tr><th scope=col>&lt;dbl&gt;</th><th scope=col>&lt;dbl&gt;</th><th scope=col>&lt;chr&gt;</th><th scope=col>&lt;chr&gt;</th><th scope=col>&lt;chr&gt;</th><th scope=col>&lt;chr&gt;</th><th scope=col>&lt;chr&gt;</th><th scope=col>&lt;chr&gt;</th><th scope=col>&lt;chr&gt;</th><th scope=col>&lt;chr&gt;</th><th scope=col>...</th><th scope=col>&lt;chr&gt;</th><th scope=col>&lt;chr&gt;</th><th scope=col>&lt;chr&gt;</th><th scope=col>&lt;chr&gt;</th><th scope=col>&lt;chr&gt;</th><th scope=col>&lt;chr&gt;</th><th scope=col>&lt;chr&gt;</th><th scope=col>&lt;chr&gt;</th><th scope=col>&lt;chr&gt;</th><th scope=col>&lt;chr&gt;</th></tr>\n",
       "</thead>\n",
       "<tbody>\n",
       "\t<tr><td> 47</td><td> 47.1</td><td>18/12/1965</td><td>30/07/2010</td><td>3</td><td>.</td><td>.</td><td>1</td><td>.</td><td>4</td><td>...</td><td>.</td><td>0</td><td>.</td><td>.</td><td>. </td><td>.</td><td>.</td><td>.</td><td>.</td><td>.</td></tr>\n",
       "\t<tr><td> 47</td><td> 47.2</td><td>18/12/1965</td><td>30/07/2010</td><td>3</td><td>.</td><td>.</td><td>1</td><td>.</td><td>4</td><td>...</td><td>.</td><td>0</td><td>.</td><td>.</td><td>. </td><td>.</td><td>.</td><td>.</td><td>.</td><td>.</td></tr>\n",
       "\t<tr><td> 45</td><td> 45.1</td><td>05/03/1966</td><td>12/07/2010</td><td>3</td><td>1</td><td>.</td><td>1</td><td>.</td><td>4</td><td>...</td><td>.</td><td>0</td><td>.</td><td>.</td><td>13</td><td>.</td><td>.</td><td>.</td><td>.</td><td>.</td></tr>\n",
       "\t<tr><td>172</td><td>172.1</td><td>06/03/1967</td><td>27/01/2011</td><td>2</td><td>1</td><td>.</td><td>1</td><td>.</td><td>4</td><td>...</td><td>0</td><td>1</td><td>.</td><td>.</td><td>. </td><td>.</td><td>.</td><td>.</td><td>.</td><td>.</td></tr>\n",
       "\t<tr><td>  8</td><td>  8.1</td><td>24/12/1967</td><td>09/03/2010</td><td>2</td><td>1</td><td>.</td><td>1</td><td>.</td><td>4</td><td>...</td><td>.</td><td>1</td><td>.</td><td>.</td><td>13</td><td>.</td><td>.</td><td>.</td><td>.</td><td>.</td></tr>\n",
       "\t<tr><td>301</td><td>301.1</td><td>16/05/1968</td><td>27/04/2011</td><td>1</td><td>1</td><td>.</td><td>1</td><td>.</td><td>2</td><td>...</td><td>3</td><td>1</td><td>.</td><td>.</td><td>. </td><td>.</td><td>.</td><td>.</td><td>.</td><td>.</td></tr>\n",
       "</tbody>\n",
       "</table>\n"
      ],
      "text/latex": [
       "A tibble: 6 × 95\n",
       "\\begin{tabular}{lllllllllllllllllllll}\n",
       " PARENT\\_ID & INFANT\\_ID & DATE\\_OF\\_BIRTH & EDD & BIRTH\\_PLAN & LANGUAGE & OTHER\\_LANGUAGE & ETHNICITY & OTHER\\_ETHNICITY & RELATIONSHIP\\_STATUS & ... & SMOKE\\_NUMBER & ALCOHOL & EARLY\\_PREG\\_ALCOHOL & MID\\_LATE\\_PREG\\_ALCOHOL & MEDICATION1 & MEDICATION2 & MEDICATION3 & MEDICATION4 & MEDICATION5 & MEDICATION6\\\\\n",
       " <dbl> & <dbl> & <chr> & <chr> & <chr> & <chr> & <chr> & <chr> & <chr> & <chr> & ... & <chr> & <chr> & <chr> & <chr> & <chr> & <chr> & <chr> & <chr> & <chr> & <chr>\\\\\n",
       "\\hline\n",
       "\t  47 &  47.1 & 18/12/1965 & 30/07/2010 & 3 & . & . & 1 & . & 4 & ... & . & 0 & . & . & .  & . & . & . & . & .\\\\\n",
       "\t  47 &  47.2 & 18/12/1965 & 30/07/2010 & 3 & . & . & 1 & . & 4 & ... & . & 0 & . & . & .  & . & . & . & . & .\\\\\n",
       "\t  45 &  45.1 & 05/03/1966 & 12/07/2010 & 3 & 1 & . & 1 & . & 4 & ... & . & 0 & . & . & 13 & . & . & . & . & .\\\\\n",
       "\t 172 & 172.1 & 06/03/1967 & 27/01/2011 & 2 & 1 & . & 1 & . & 4 & ... & 0 & 1 & . & . & .  & . & . & . & . & .\\\\\n",
       "\t   8 &   8.1 & 24/12/1967 & 09/03/2010 & 2 & 1 & . & 1 & . & 4 & ... & . & 1 & . & . & 13 & . & . & . & . & .\\\\\n",
       "\t 301 & 301.1 & 16/05/1968 & 27/04/2011 & 1 & 1 & . & 1 & . & 2 & ... & 3 & 1 & . & . & .  & . & . & . & . & .\\\\\n",
       "\\end{tabular}\n"
      ],
      "text/markdown": [
       "\n",
       "A tibble: 6 × 95\n",
       "\n",
       "| PARENT_ID &lt;dbl&gt; | INFANT_ID &lt;dbl&gt; | DATE_OF_BIRTH &lt;chr&gt; | EDD &lt;chr&gt; | BIRTH_PLAN &lt;chr&gt; | LANGUAGE &lt;chr&gt; | OTHER_LANGUAGE &lt;chr&gt; | ETHNICITY &lt;chr&gt; | OTHER_ETHNICITY &lt;chr&gt; | RELATIONSHIP_STATUS &lt;chr&gt; | ... ... | SMOKE_NUMBER &lt;chr&gt; | ALCOHOL &lt;chr&gt; | EARLY_PREG_ALCOHOL &lt;chr&gt; | MID_LATE_PREG_ALCOHOL &lt;chr&gt; | MEDICATION1 &lt;chr&gt; | MEDICATION2 &lt;chr&gt; | MEDICATION3 &lt;chr&gt; | MEDICATION4 &lt;chr&gt; | MEDICATION5 &lt;chr&gt; | MEDICATION6 &lt;chr&gt; |\n",
       "|---|---|---|---|---|---|---|---|---|---|---|---|---|---|---|---|---|---|---|---|---|\n",
       "|  47 |  47.1 | 18/12/1965 | 30/07/2010 | 3 | . | . | 1 | . | 4 | ... | . | 0 | . | . | .  | . | . | . | . | . |\n",
       "|  47 |  47.2 | 18/12/1965 | 30/07/2010 | 3 | . | . | 1 | . | 4 | ... | . | 0 | . | . | .  | . | . | . | . | . |\n",
       "|  45 |  45.1 | 05/03/1966 | 12/07/2010 | 3 | 1 | . | 1 | . | 4 | ... | . | 0 | . | . | 13 | . | . | . | . | . |\n",
       "| 172 | 172.1 | 06/03/1967 | 27/01/2011 | 2 | 1 | . | 1 | . | 4 | ... | 0 | 1 | . | . | .  | . | . | . | . | . |\n",
       "|   8 |   8.1 | 24/12/1967 | 09/03/2010 | 2 | 1 | . | 1 | . | 4 | ... | . | 1 | . | . | 13 | . | . | . | . | . |\n",
       "| 301 | 301.1 | 16/05/1968 | 27/04/2011 | 1 | 1 | . | 1 | . | 2 | ... | 3 | 1 | . | . | .  | . | . | . | . | . |\n",
       "\n"
      ],
      "text/plain": [
       "  PARENT_ID INFANT_ID DATE_OF_BIRTH EDD        BIRTH_PLAN LANGUAGE\n",
       "1  47        47.1     18/12/1965    30/07/2010 3          .       \n",
       "2  47        47.2     18/12/1965    30/07/2010 3          .       \n",
       "3  45        45.1     05/03/1966    12/07/2010 3          1       \n",
       "4 172       172.1     06/03/1967    27/01/2011 2          1       \n",
       "5   8         8.1     24/12/1967    09/03/2010 2          1       \n",
       "6 301       301.1     16/05/1968    27/04/2011 1          1       \n",
       "  OTHER_LANGUAGE ETHNICITY OTHER_ETHNICITY RELATIONSHIP_STATUS ... SMOKE_NUMBER\n",
       "1 .              1         .               4                   ... .           \n",
       "2 .              1         .               4                   ... .           \n",
       "3 .              1         .               4                   ... .           \n",
       "4 .              1         .               4                   ... 0           \n",
       "5 .              1         .               4                   ... .           \n",
       "6 .              1         .               2                   ... 3           \n",
       "  ALCOHOL EARLY_PREG_ALCOHOL MID_LATE_PREG_ALCOHOL MEDICATION1 MEDICATION2\n",
       "1 0       .                  .                     .           .          \n",
       "2 0       .                  .                     .           .          \n",
       "3 0       .                  .                     13          .          \n",
       "4 1       .                  .                     .           .          \n",
       "5 1       .                  .                     13          .          \n",
       "6 1       .                  .                     .           .          \n",
       "  MEDICATION3 MEDICATION4 MEDICATION5 MEDICATION6\n",
       "1 .           .           .           .          \n",
       "2 .           .           .           .          \n",
       "3 .           .           .           .          \n",
       "4 .           .           .           .          \n",
       "5 .           .           .           .          \n",
       "6 .           .           .           .          "
      ]
     },
     "metadata": {},
     "output_type": "display_data"
    },
    {
     "data": {
      "text/html": [
       "<table>\n",
       "<caption>A tibble: 6 × 5</caption>\n",
       "<thead>\n",
       "\t<tr><th scope=col>PARENT_ID</th><th scope=col>INFANT_ID</th><th scope=col>EDD</th><th scope=col>CHILD_BIRTH</th><th scope=col>SEASON</th></tr>\n",
       "\t<tr><th scope=col>&lt;dbl&gt;</th><th scope=col>&lt;dbl&gt;</th><th scope=col>&lt;chr&gt;</th><th scope=col>&lt;date&gt;</th><th scope=col>&lt;fct&gt;</th></tr>\n",
       "</thead>\n",
       "<tbody>\n",
       "\t<tr><td> 47</td><td> 47.1</td><td>30/07/2010</td><td>2010-07-30</td><td>summer</td></tr>\n",
       "\t<tr><td> 47</td><td> 47.2</td><td>30/07/2010</td><td>2010-07-30</td><td>summer</td></tr>\n",
       "\t<tr><td> 45</td><td> 45.1</td><td>12/07/2010</td><td>2010-07-12</td><td>summer</td></tr>\n",
       "\t<tr><td>172</td><td>172.1</td><td>27/01/2011</td><td>2011-01-27</td><td>winter</td></tr>\n",
       "\t<tr><td>  8</td><td>  8.1</td><td>09/03/2010</td><td>2010-03-09</td><td>spring</td></tr>\n",
       "\t<tr><td>301</td><td>301.1</td><td>27/04/2011</td><td>2011-04-27</td><td>spring</td></tr>\n",
       "</tbody>\n",
       "</table>\n"
      ],
      "text/latex": [
       "A tibble: 6 × 5\n",
       "\\begin{tabular}{lllll}\n",
       " PARENT\\_ID & INFANT\\_ID & EDD & CHILD\\_BIRTH & SEASON\\\\\n",
       " <dbl> & <dbl> & <chr> & <date> & <fct>\\\\\n",
       "\\hline\n",
       "\t  47 &  47.1 & 30/07/2010 & 2010-07-30 & summer\\\\\n",
       "\t  47 &  47.2 & 30/07/2010 & 2010-07-30 & summer\\\\\n",
       "\t  45 &  45.1 & 12/07/2010 & 2010-07-12 & summer\\\\\n",
       "\t 172 & 172.1 & 27/01/2011 & 2011-01-27 & winter\\\\\n",
       "\t   8 &   8.1 & 09/03/2010 & 2010-03-09 & spring\\\\\n",
       "\t 301 & 301.1 & 27/04/2011 & 2011-04-27 & spring\\\\\n",
       "\\end{tabular}\n"
      ],
      "text/markdown": [
       "\n",
       "A tibble: 6 × 5\n",
       "\n",
       "| PARENT_ID &lt;dbl&gt; | INFANT_ID &lt;dbl&gt; | EDD &lt;chr&gt; | CHILD_BIRTH &lt;date&gt; | SEASON &lt;fct&gt; |\n",
       "|---|---|---|---|---|\n",
       "|  47 |  47.1 | 30/07/2010 | 2010-07-30 | summer |\n",
       "|  47 |  47.2 | 30/07/2010 | 2010-07-30 | summer |\n",
       "|  45 |  45.1 | 12/07/2010 | 2010-07-12 | summer |\n",
       "| 172 | 172.1 | 27/01/2011 | 2011-01-27 | winter |\n",
       "|   8 |   8.1 | 09/03/2010 | 2010-03-09 | spring |\n",
       "| 301 | 301.1 | 27/04/2011 | 2011-04-27 | spring |\n",
       "\n"
      ],
      "text/plain": [
       "  PARENT_ID INFANT_ID EDD        CHILD_BIRTH SEASON\n",
       "1  47        47.1     30/07/2010 2010-07-30  summer\n",
       "2  47        47.2     30/07/2010 2010-07-30  summer\n",
       "3  45        45.1     12/07/2010 2010-07-12  summer\n",
       "4 172       172.1     27/01/2011 2011-01-27  winter\n",
       "5   8         8.1     09/03/2010 2010-03-09  spring\n",
       "6 301       301.1     27/04/2011 2011-04-27  spring"
      ]
     },
     "metadata": {},
     "output_type": "display_data"
    }
   ],
   "source": [
    "#head(pregnancy)\n",
    "#seasons <- pregnancy %>% select(PARENT_ID, INFANT_ID, EDD) %>% mutate(CHILD_BIRTH=dmy(EDD))\n",
    "#seasons <- seasons %>% mutate(SEASON=ifelse(month(CHILD_BIRTH) %in% c(12, 1, 2), 'winter', \n",
    "#                                            ifelse(month(CHILD_BIRTH) %in% c(3, 4, 5), 'spring',\n",
    "#                                                   ifelse(month(CHILD_BIRTH) %in% c(6, 7, 8), 'summer',\n",
    "#                                                          'autumn'))))\n",
    "#seasons <- seasons %>% mutate(SEASON=as.factor(SEASON))\n",
    "#head(seasons)"
   ]
  },
  {
   "cell_type": "markdown",
   "metadata": {},
   "source": [
    "<table style=\"text-align:center;\"><tr><td width=\"100\" height=\"20\" style=\"background-color:greenyellow\"></td><td width=\"100\" height=\"20\" style=\"background-color:hotpink\"></td></tr></table>"
   ]
  },
  {
   "cell_type": "markdown",
   "metadata": {},
   "source": [
    "<table width='100%'><tr>\n",
    "    <td style='background-color:red; text-align:center; color: white;'><!--Foundation<!--hr size='5' style='border-color:red; background-color:red;'--></td>\n",
    "    <td style='background-color:yellow; text-align:center;'><!--Level 1<!--hr size='5' style='border-color:yellow; background-color:yellow;'--></td>\n",
    "    <td style='background-color:orange; text-align:center;'><!--Level 2<!--hr size='5' style='border-color:orange; background-color:orange;'--></td>\n",
    "    <td style='background-color:green; text-align:center; color: white;'><!--Level 3<!--hr size='5' style='border-color:orange; background-color:orange;'--></td>\n",
    "    <td style='background-color:blue; text-align:center; color: white;'><!--Level 4<!--hr size='5' style='border-color:orange; background-color:orange;'--></td>\n",
    "    <td style='background-color:purple; text-align:center; color: white;'><!--Level 5<!--hr size='5' style='border-color:orange; background-color:orange;'--></td>\n",
    "    <td style='background-color:brown; text-align:center; color: white;'><!--Level 6<!--hr size='5' style='border-color:orange; background-color:orange;'--></td>\n",
    "    <td style='background-color:black; text-align:center; color: white;'><!--Level 7<!--hr size='5' style='border-color:orange; background-color:orange;'--></td>\n",
    "</tr></table>"
   ]
  }
 ],
 "metadata": {
  "kernelspec": {
   "display_name": "R",
   "language": "R",
   "name": "ir"
  },
  "language_info": {
   "codemirror_mode": "r",
   "file_extension": ".r",
   "mimetype": "text/x-r-source",
   "name": "R",
   "pygments_lexer": "r",
   "version": "4.0.2"
  }
 },
 "nbformat": 4,
 "nbformat_minor": 4
}
