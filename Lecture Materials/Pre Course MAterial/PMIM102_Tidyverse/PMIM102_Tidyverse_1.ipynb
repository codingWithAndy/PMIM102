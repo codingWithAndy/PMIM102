{
 "cells": [
  {
   "cell_type": "markdown",
   "metadata": {},
   "source": [
    "<table width='100%'><tr>\n",
    "    <td style='background-color:red; text-align:center; color: white;'><!--Foundation<!--hr size='5' style='border-color:red; background-color:red;'--></td>\n",
    "    <td style='background-color:yellow; text-align:center;'><!--Level 1<!--hr size='5' style='border-color:yellow; background-color:yellow;'--></td>\n",
    "    <td style='background-color:orange; text-align:center;'><!--Level 2<!--hr size='5' style='border-color:orange; background-color:orange;'--></td>\n",
    "    <td style='background-color:green; text-align:center; color: white;'><!--Level 3<!--hr size='5' style='border-color:orange; background-color:orange;'--></td>\n",
    "    <td style='background-color:blue; text-align:center; color: white;'><!--Level 4<!--hr size='5' style='border-color:orange; background-color:orange;'--></td>\n",
    "    <td style='background-color:purple; text-align:center; color: white;'><!--Level 5<!--hr size='5' style='border-color:orange; background-color:orange;'--></td>\n",
    "    <td style='background-color:brown; text-align:center; color: white;'><!--Level 6<!--hr size='5' style='border-color:orange; background-color:orange;'--></td>\n",
    "    <td style='background-color:black; text-align:center; color: white;'><!--Level 7<!--hr size='5' style='border-color:orange; background-color:orange;'--></td>\n",
    "</tr></table>"
   ]
  },
  {
   "cell_type": "markdown",
   "metadata": {},
   "source": [
    "<table style='border-left:10px solid orange;'><tr>\n",
    "    <td style='padding-left:20px;'>\n",
    "        <h2><i>Swansea University Medical School</i><br/><b>MSc Health Data Science</b></h2>\n",
    "        <h3>PMIM-102 Introduction to Scientific Computing in Healthcare</h3>\n",
    "        <h1><b>Introduction to Programming in R</b></h1>\n",
    "        <h2><b>3. The Tidyverse</b></h2>\n",
    "        <h2><i>Part 1: Overview and getting data in and out of R.</i></h2>\n",
    "        <h3><i>September 2020</i></h3>\n",
    "        <h3><b>To-do</b></h3>\n",
    "        <ul>\n",
    "            <li>Find a dataset that we can use for this session.</li>\n",
    "        </ul>\n",
    "    </td>\n",
    "    <td><img height='300' width='500' src='images/cover.jpg'/></td>\n",
    "</tr></table>"
   ]
  },
  {
   "cell_type": "markdown",
   "metadata": {},
   "source": [
    "## __Aim__: Use the tools available in R to manipulate tables of data.\n",
    "\n",
    "The aim of this session is to concentrate on the core activities in working with large datasets: moving, cleaning and transforming table data to facilitate analyses. Whilst this is possible using base-R, the facilities provided by the libraries in the __Tidyverse__ make it considerably __easier__ and the resulting code __more readable__.\n",
    "\n",
    "### __A map of where we're going__\n",
    "\n",
    "1. <div style=\"background-color:yellow;\"><b>Introduction</b> - What is the process, the problems with standard R and the structure of 'tidy' data.</div>\n",
    "\n",
    "1. <div style=\"background-color:yellow;\"><b>Acquiring data</b> - Getting data into R from files (<b>readr</b>).</div>\n",
    "\n",
    "1. <b>Tidying the data</b> - Handling missing data and reshaping the tables (<b>tidyr</b>).\n",
    "\n",
    "1. <b>Transforming the data</b> - Selecting and converting the data ready to analyse (<b>dplyr</b>).\n",
    "\n",
    "1. <b>Working with specific data types in tidyverse</b>: strings (<b>stringr</b>), dates (<b>lubridate</b>), factors (<b>forcats</b>).\n",
    "\n",
    "1. <b>Plotting &amp; Data visualisation</b> - beyond the simple R plot etc. (<b>ggplot2</b>).\n",
    "\n",
    "1. <b>Extras</b> - Things worth knowing of so that you can use them if you ever need them.\n",
    " * Applying functions and working with lists (purrr).\n",
    " * Tidy evaluation (rlang).\n",
    " * Communicating your results with a dynamic, R-based website (shiny)."
   ]
  },
  {
   "cell_type": "markdown",
   "metadata": {},
   "source": [
    "## __Load the Tidyverse__\n",
    "\n",
    "The first thing to do is make sure the library is loaded. If you have not already installed it, do so not using the <code>install.packages()</code> function."
   ]
  },
  {
   "cell_type": "code",
   "execution_count": 4,
   "metadata": {},
   "outputs": [
    {
     "name": "stderr",
     "output_type": "stream",
     "text": [
      "Warning message:\n",
      "\"package 'tidyverse' was built under R version 3.5.3\"-- \u001b[1mAttaching packages\u001b[22m --------------------------------------- tidyverse 1.2.1 --\n",
      "\u001b[32mv\u001b[39m \u001b[34mggplot2\u001b[39m 3.2.1     \u001b[32mv\u001b[39m \u001b[34mpurrr  \u001b[39m 0.3.2\n",
      "\u001b[32mv\u001b[39m \u001b[34mtibble \u001b[39m 2.1.3     \u001b[32mv\u001b[39m \u001b[34mdplyr  \u001b[39m 0.8.3\n",
      "\u001b[32mv\u001b[39m \u001b[34mtidyr  \u001b[39m 1.0.0     \u001b[32mv\u001b[39m \u001b[34mstringr\u001b[39m 1.4.0\n",
      "\u001b[32mv\u001b[39m \u001b[34mreadr  \u001b[39m 1.3.1     \u001b[32mv\u001b[39m \u001b[34mforcats\u001b[39m 0.4.0\n",
      "Warning message:\n",
      "\"package 'ggplot2' was built under R version 3.5.3\"Warning message:\n",
      "\"package 'tibble' was built under R version 3.5.3\"Warning message:\n",
      "\"package 'tidyr' was built under R version 3.5.3\"Warning message:\n",
      "\"package 'readr' was built under R version 3.5.3\"Warning message:\n",
      "\"package 'purrr' was built under R version 3.5.3\"Warning message:\n",
      "\"package 'dplyr' was built under R version 3.5.3\"Warning message:\n",
      "\"package 'stringr' was built under R version 3.5.3\"Warning message:\n",
      "\"package 'forcats' was built under R version 3.5.3\"-- \u001b[1mConflicts\u001b[22m ------------------------------------------ tidyverse_conflicts() --\n",
      "\u001b[31mx\u001b[39m \u001b[34mdplyr\u001b[39m::\u001b[32mfilter()\u001b[39m masks \u001b[34mstats\u001b[39m::filter()\n",
      "\u001b[31mx\u001b[39m \u001b[34mdplyr\u001b[39m::\u001b[32mlag()\u001b[39m    masks \u001b[34mstats\u001b[39m::lag()\n"
     ]
    }
   ],
   "source": [
    "## install.packages('tidyverse')\n",
    "#library(tidyverse)"
   ]
  },
  {
   "cell_type": "markdown",
   "metadata": {},
   "source": [
    "## __What is the process, the problems with standard R and the structure of 'tidy' data__\n",
    "\n",
    "When handling and analysing large numbers of records we need to let the computer do as much of the work as possibe. Despite the advances in AI, computers are still remarkably stupid or rather, they do like their rules. Which means they work best when the data you provide to them is well structured and clean. The concept of tidy data aims to provide that structure so that the engine in R can work efficiently at whatever analysis you wish to attempt.\n",
    "\n",
    "Tidy data is data in which:\n",
    "* Each variable has its own column\n",
    "* Each observation has its own row\n",
    "* Each value has its own cell\n",
    "\n",
    "Vectorised operations (i.e. doing the same thing to all the items in a column, 'apply' and so on - the things R does really well) on data should work on all the cases and produce new variables in new columns.\n",
    "\n",
    "To help keep things tidy, the tidyverse provides a slightly enhanced form of the data.frame known as a 'tibble'. Using this is a matter of taste. It's mostly convenience: it makes printing is little tidier - only the head by default and the data type is included for each column (you can change this with arguments if you wish) - for help see package?tibble. Tibbles do not make character data into factors unless explicitly asked to.\n",
    "\n",
    "You can copy a data.frame to a tibble with `as_tibble()` and back to a data.frame with `as.data.frame()`."
   ]
  },
  {
   "cell_type": "code",
   "execution_count": 1,
   "metadata": {},
   "outputs": [
    {
     "name": "stdout",
     "output_type": "stream",
     "text": [
      "The data in a data.frame:\n",
      "      name gender height weight\n",
      "1    Olive female   1.70     60\n",
      "2 Pinochio   male   1.01     30\n",
      "3  Queenie female   1.30     50\n",
      "4  Raphael   male   1.60     40\n",
      "\n",
      "The data in a tibble:\n",
      "\u001b[90m# A tibble: 4 x 4\u001b[39m\n",
      "  name     gender height weight\n",
      "  \u001b[3m\u001b[90m<chr>\u001b[39m\u001b[23m    \u001b[3m\u001b[90m<fct>\u001b[39m\u001b[23m   \u001b[3m\u001b[90m<dbl>\u001b[39m\u001b[23m  \u001b[3m\u001b[90m<dbl>\u001b[39m\u001b[23m\n",
      "\u001b[90m1\u001b[39m Olive    female   1.7      60\n",
      "\u001b[90m2\u001b[39m Pinochio male     1.01     30\n",
      "\u001b[90m3\u001b[39m Queenie  female   1.3      50\n",
      "\u001b[90m4\u001b[39m Raphael  male     1.6      40\n"
     ]
    }
   ],
   "source": [
    "#library(tibble)\n",
    "#df <- data.frame(\n",
    "#    name=c('Olive', 'Pinochio', 'Queenie', 'Raphael'),\n",
    "#    gender=factor(c('female', 'male', 'female', 'male')), \n",
    "#    height=c(1.7, 1.01, 1.3, 1.6),\n",
    "#    weight=c(60, 30, 50, 40),\n",
    "#    stringsAsFactors=FALSE)\n",
    "#cat(\"The data in a data.frame:\\n\")\n",
    "#print(df)\n",
    "#tb <- as_tibble(df)\n",
    "#cat(\"\\nThe data in a tibble:\\n\")\n",
    "#print(tb)"
   ]
  },
  {
   "cell_type": "markdown",
   "metadata": {},
   "source": [
    "### __Quiz__: Which of the following tables is 'tidy'?\n",
    "\n",
    "__table1__\n",
    "\n",
    "| | \\`cause of death\\` | year | deaths | cases |\n",
    "|---|---|---|---|---|\n",
    "| | <chr> | <int> | <int> | <int> |      \n",
    "|1|Spontaneous Human Combustion |2017|   45|  45|\n",
    "|2|Spontaneous Human Combustion |2018|   53|  53|\n",
    "|3|Basilisk Sighting      |2017| 11| 112|\n",
    "|4|Basilisk Sighting      |2018| 8| 104|\n",
    "|5|Drained by Vampire       |2017|5192|11759|\n",
    "|6|Drained by Vampire       |2018|6944|13768|\n",
    "|... |\n",
    "\n",
    "__table2__\n",
    "\n",
    "| |\\`cause of death\\` | year | type | count |\n",
    "|---|---|---|---|---|\n",
    "| | <chr> | <int> | <chr> | <int> |      \n",
    "|1|Spontaneous Human Combustion|2017|deaths|45|\n",
    "|2|Spontaneous Human Combustion|2017|cases|45|\n",
    "|3|Spontaneous Human Combustion|2018|deaths|53|\n",
    "|4|Spontaneous Human Combustion|2018|cases|53|\n",
    "|5|Basilisk Sighting|2017|deaths|11|\n",
    "|6|Basilisk Sighting|2017|cases|112|\n",
    "|... |\n",
    "\n",
    "__table3__\n",
    "    \n",
    "| |\\`cause of death\\` | year | rate |\n",
    "|---|---|---|---|\n",
    "| | <chr> | <int> | <chr> |      \n",
    "|1|Spontaneous Human Combustion|2017|45/45|\n",
    "|2|Spontaneous Human Combustion|2018|53/53|\n",
    "|3|Basilisk Sighting|2017|11/112|\n",
    "|4|Basilisk Sighting|2018|8/104|\n",
    "|5|Drained by Vampire|2017|5192/11759|\n",
    "|6|Drained by Vampire|2018|6944/13768|\n",
    "\n",
    "__table4a/4b__\n",
    "\n",
    "| |\\`cause of death\\` | \\`2017\\` | \\`2018\\` |\n",
    "|---|---|---|---|\n",
    "| | <chr> | <int> | <int> |      \n",
    "|1|Spontaneous Human Combustion|45|53|\n",
    "|2|Basilisk Sighting|11|8|\n",
    "|3|Drained by Vampire|5192|6944|\n",
    "| ___deaths___ |\n",
    "    \n",
    "| |\\`cause of death\\` | \\`2017\\` | \\`2018\\` |\n",
    "|---|---|---|---|\n",
    "| | <chr> | <int> | <int> |      \n",
    "|1|Spontaneous Human Combustion|45|53|\n",
    "|2|Basilisk Sighting|112|104|\n",
    "|3|Drained by Vampire|11759|13768|\n",
    "| ___cases___ |\n",
    "    \n"
   ]
  },
  {
   "cell_type": "markdown",
   "metadata": {},
   "source": [
    "### The Process\n",
    "\n",
    "The process the Tidyverse designers have adopted for data science projects is shown below:"
   ]
  },
  {
   "cell_type": "markdown",
   "metadata": {},
   "source": [
    "<img src=\"images/tidyverse_process.png\"/>\n",
    "\n",
    "[From: R For Data Science, Hadley Wickham & Garrett Grolemund](https://r4ds.had.co.nz/)\n",
    "\n",
    "Which is how it generally works and we shall follow here.\n",
    "\n",
    "Basically, we need to import the data from whatever source we are getting it (SQL, a CSV or Excel file etc.), then tidy that dataset so that we can the run the cycle to explore the data by transforming, visualising and modelling the data and, once we have discovered the results, documenting them in appropriate, engaging and exciting ways.\n",
    "\n",
    "### __The Tidyverse__\n",
    "\n",
    "The tidyverse is a group of related libraries (readr, dplyr, forcats, purrr etc.) which implement elements of this process. It can be loaded using `library(tidyverse)` or individual libraries can be loaded when needed to save time and space."
   ]
  },
  {
   "cell_type": "markdown",
   "metadata": {},
   "source": [
    "## __Getting data into R (readr)__\n",
    "\n",
    "There are functions in base-R to read data from data files, but they are slow and have other minor irritations which have led the Tidyverse people to re-implement them. The base-R functions use a dot to separate the components of the function name, the Tidyverse uses an underscore (the base-R CSV read function is read.csv()). In practice, you may not really notice the difference but there may be times one provides you with useful facilities.\n",
    "\n",
    "[See the readr cheatsheet.](https://github.com/rstudio/cheatsheets/raw/master/data-import.pdf)\n",
    "\n",
    "We can read data tables from comma-separated variable (CSV) files (as well as tab-separated variables (read_tsv()), files with any delimiter (read_delim()) and others (see package?readr)). R will make a best-guess at the column types and provide a list which can be accessed via the `spec(table)` function. You can take this list, edit it and paste it into a new `read_csv()` call defining the column types as `col_types=cols( .... )`.\n",
    "\n",
    "To specify data which should be marked as `NA` use the argument `na=c(\"\", \"NA\", \"...\")`."
   ]
  },
  {
   "cell_type": "code",
   "execution_count": 6,
   "metadata": {},
   "outputs": [
    {
     "name": "stderr",
     "output_type": "stream",
     "text": [
      "Parsed with column specification:\n",
      "cols(\n",
      "  .default = col_character(),\n",
      "  PARENT_ID = \u001b[32mcol_double()\u001b[39m,\n",
      "  INFANT_ID = \u001b[32mcol_double()\u001b[39m\n",
      ")\n",
      "See spec(...) for full column specifications.\n"
     ]
    },
    {
     "data": {
      "text/html": [
       "<table>\n",
       "<caption>A tibble: 6 × 95</caption>\n",
       "<thead>\n",
       "\t<tr><th scope=col>PARENT_ID</th><th scope=col>INFANT_ID</th><th scope=col>DATE_OF_BIRTH</th><th scope=col>EDD</th><th scope=col>BIRTH_PLAN</th><th scope=col>LANGUAGE</th><th scope=col>OTHER_LANGUAGE</th><th scope=col>ETHNICITY</th><th scope=col>OTHER_ETHNICITY</th><th scope=col>RELATIONSHIP_STATUS</th><th scope=col>...</th><th scope=col>SMOKE_NUMBER</th><th scope=col>ALCOHOL</th><th scope=col>EARLY_PREG_ALCOHOL</th><th scope=col>MID_LATE_PREG_ALCOHOL</th><th scope=col>MEDICATION1</th><th scope=col>MEDICATION2</th><th scope=col>MEDICATION3</th><th scope=col>MEDICATION4</th><th scope=col>MEDICATION5</th><th scope=col>MEDICATION6</th></tr>\n",
       "\t<tr><th scope=col>&lt;dbl&gt;</th><th scope=col>&lt;dbl&gt;</th><th scope=col>&lt;chr&gt;</th><th scope=col>&lt;chr&gt;</th><th scope=col>&lt;chr&gt;</th><th scope=col>&lt;chr&gt;</th><th scope=col>&lt;chr&gt;</th><th scope=col>&lt;chr&gt;</th><th scope=col>&lt;chr&gt;</th><th scope=col>&lt;chr&gt;</th><th scope=col>...</th><th scope=col>&lt;chr&gt;</th><th scope=col>&lt;chr&gt;</th><th scope=col>&lt;chr&gt;</th><th scope=col>&lt;chr&gt;</th><th scope=col>&lt;chr&gt;</th><th scope=col>&lt;chr&gt;</th><th scope=col>&lt;chr&gt;</th><th scope=col>&lt;chr&gt;</th><th scope=col>&lt;chr&gt;</th><th scope=col>&lt;chr&gt;</th></tr>\n",
       "</thead>\n",
       "<tbody>\n",
       "\t<tr><td> 47</td><td> 47.1</td><td>18/12/1965</td><td>30/07/2010</td><td>3</td><td>.</td><td>.</td><td>1</td><td>.</td><td>4</td><td>...</td><td>.</td><td>0</td><td>.</td><td>.</td><td>. </td><td>.</td><td>.</td><td>.</td><td>.</td><td>.</td></tr>\n",
       "\t<tr><td> 47</td><td> 47.2</td><td>18/12/1965</td><td>30/07/2010</td><td>3</td><td>.</td><td>.</td><td>1</td><td>.</td><td>4</td><td>...</td><td>.</td><td>0</td><td>.</td><td>.</td><td>. </td><td>.</td><td>.</td><td>.</td><td>.</td><td>.</td></tr>\n",
       "\t<tr><td> 45</td><td> 45.1</td><td>05/03/1966</td><td>12/07/2010</td><td>3</td><td>1</td><td>.</td><td>1</td><td>.</td><td>4</td><td>...</td><td>.</td><td>0</td><td>.</td><td>.</td><td>13</td><td>.</td><td>.</td><td>.</td><td>.</td><td>.</td></tr>\n",
       "\t<tr><td>172</td><td>172.1</td><td>06/03/1967</td><td>27/01/2011</td><td>2</td><td>1</td><td>.</td><td>1</td><td>.</td><td>4</td><td>...</td><td>0</td><td>1</td><td>.</td><td>.</td><td>. </td><td>.</td><td>.</td><td>.</td><td>.</td><td>.</td></tr>\n",
       "\t<tr><td>  8</td><td>  8.1</td><td>24/12/1967</td><td>09/03/2010</td><td>2</td><td>1</td><td>.</td><td>1</td><td>.</td><td>4</td><td>...</td><td>.</td><td>1</td><td>.</td><td>.</td><td>13</td><td>.</td><td>.</td><td>.</td><td>.</td><td>.</td></tr>\n",
       "\t<tr><td>301</td><td>301.1</td><td>16/05/1968</td><td>27/04/2011</td><td>1</td><td>1</td><td>.</td><td>1</td><td>.</td><td>2</td><td>...</td><td>3</td><td>1</td><td>.</td><td>.</td><td>. </td><td>.</td><td>.</td><td>.</td><td>.</td><td>.</td></tr>\n",
       "</tbody>\n",
       "</table>\n"
      ],
      "text/latex": [
       "A tibble: 6 × 95\n",
       "\\begin{tabular}{r|lllllllllllllllllllllllllllllllllllllllllllllllllllllllllllllllllllllllllllllllllllllllllllllll}\n",
       " PARENT\\_ID & INFANT\\_ID & DATE\\_OF\\_BIRTH & EDD & BIRTH\\_PLAN & LANGUAGE & OTHER\\_LANGUAGE & ETHNICITY & OTHER\\_ETHNICITY & RELATIONSHIP\\_STATUS & WEIGHT\\_PRE\\_PREGNANCY\\_IN\\_KG & EDUCATION & EMPLOYMENT & OTHER\\_EMPLOYMENT & OCCUPATION\\_CODE & PARTNER & LIVE\\_TOGETHER & PARTNER\\_EDUCATION & PARTNER\\_WORKING & PARTNER\\_OCCUPATION & SALARY & ALLOWANCE & DOBCHILD1 & DOBCHILD2 & DOBCHILD3 & DOBCHILD4 & DOBCHILD5 & DOBCHILD6 & OTHER\\_ADULTS & ADULT1\\_RELATIONSHIP & ADULT1\\_AGE & ADULT2\\_RELATIONSHIP & ADULT2\\_AGE & ADULT3\\_RELATIONSHIP & ADULT3\\_AGE & ADULT4\\_RELATIONSHIP & ADULT4\\_AGE & HOUSE\\_TYPE & HOME\\_OWN & HEAT1 & HEAT2 & HEAT3 & HEAT4 & DOUBLE\\_GLAZED & LOFT & CAVITY & AGE & MOULD\\_VISIBLE & MM\\_BATH & MM\\_BED & MM\\_LIV & MM\\_KITCH & MM\\_HALL & MM\\_FURNISH & NEIGHBOURS & SATISFIED\\_DISSATISFIED & COMMUNITY\\_HOME & HELP\\_NEED & SERVICES & SAFE & INVOLVED & SAD & NERVOUS & RESTLESS & HOPELESS & EFFORT & WORTHLESS & TOTAL\\_K6 & FOLIC\\_NOT\\_TAKEN & FOLIC\\_BEFORE & FOLIC\\_EARLY & FOLIC\\_MID\\_LATE & MULTI\\_NOT\\_TAKEN & MULTI\\_BEFORE & MULTI\\_EARLY & MULTI\\_MID\\_LATE & SUPP\\_NOT\\_TAKEN & SUPP\\_BEFORE & SUPP\\_EARLY & SUPP\\_MID\\_LATE & OTHER\\_BEFORE & OTHER\\_EARLY & OTHER\\_MID\\_LATE & SMOKE\\_ROOM & SMOKE & SMOKE\\_NUMBER & ALCOHOL & EARLY\\_PREG\\_ALCOHOL & MID\\_LATE\\_PREG\\_ALCOHOL & MEDICATION1 & MEDICATION2 & MEDICATION3 & MEDICATION4 & MEDICATION5 & MEDICATION6\\\\\n",
       " <dbl> & <dbl> & <chr> & <chr> & <chr> & <chr> & <chr> & <chr> & <chr> & <chr> & <chr> & <chr> & <chr> & <chr> & <chr> & <chr> & <chr> & <chr> & <chr> & <chr> & <chr> & <chr> & <chr> & <chr> & <chr> & <chr> & <chr> & <chr> & <chr> & <chr> & <chr> & <chr> & <chr> & <chr> & <chr> & <chr> & <chr> & <chr> & <chr> & <chr> & <chr> & <chr> & <chr> & <chr> & <chr> & <chr> & <chr> & <chr> & <chr> & <chr> & <chr> & <chr> & <chr> & <chr> & <chr> & <chr> & <chr> & <chr> & <chr> & <chr> & <chr> & <chr> & <chr> & <chr> & <chr> & <chr> & <chr> & <chr> & <chr> & <chr> & <chr> & <chr> & <chr> & <chr> & <chr> & <chr> & <chr> & <chr> & <chr> & <chr> & <chr> & <chr> & <chr> & <chr> & <chr> & <chr> & <chr> & <chr> & <chr> & <chr> & <chr> & <chr> & <chr> & <chr> & <chr>\\\\\n",
       "\\hline\n",
       "\t  47 &  47.1 & 18/12/1965 & 30/07/2010 & 3 & . & . & 1 & . & 4 & 66.68 & 1 & 2 & . & 2229 & 1 & . & 1 & 1 & 3312 & 7 & 2 & 07/11/2003 & NA & NA & NA & NA & NA & 0 & . & .  & . & . & . & . & . & . & 1 & 2 & 1 & 5 & . & . & 1 & 1 & 4 & 100 & . & . & . & . & . & . & 2 & 1 & 4 & . & 2 & . & . & . & 0 & 0 & 1 & 0 & 0 & 0 & 1 & 0 & 1 & 1 & 1 & 0 & 1 & 1 & 1 & 1 & 0 & 0 & 0 & . & . & . & 6 & 0 & . & 0 & . & . & .  & . & . & . & . & .\\\\\n",
       "\t  47 &  47.2 & 18/12/1965 & 30/07/2010 & 3 & . & . & 1 & . & 4 & 66.68 & 1 & 2 & . & 2229 & 1 & . & 1 & 1 & 3312 & 7 & 2 & 07/11/2003 & NA & NA & NA & NA & NA & 0 & . & .  & . & . & . & . & . & . & 1 & 2 & 1 & 5 & . & . & 1 & 1 & 4 & 100 & . & . & . & . & . & . & 2 & 1 & 4 & . & 2 & . & . & . & 0 & 0 & 1 & 0 & 0 & 0 & 1 & 0 & 1 & 1 & 1 & 0 & 1 & 1 & 1 & 1 & 0 & 0 & 0 & . & . & . & 6 & 0 & . & 0 & . & . & .  & . & . & . & . & .\\\\\n",
       "\t  45 &  45.1 & 05/03/1966 & 12/07/2010 & 3 & 1 & . & 1 & . & 4 & 57.15 & 4 & 2 & . & 4112 & 1 & . & 3 & 7 & 3411 & 9 & 8 & 29/12/2003 & NA & NA & NA & NA & NA & 0 & . & .  & . & . & . & . & . & . & 3 & 1 & 5 & . & . & . & 1 & 3 & 2 & 105 & . & . & . & . & . & . & . & 1 & 2 & 2 & 1 & 3 & 2 & . & 0 & 0 & 0 & 0 & 0 & 0 & 0 & 0 & 0 & 1 & 0 & 0 & 0 & 0 & 0 & 1 & 0 & 0 & 0 & . & . & . & 6 & 0 & . & 0 & . & . & 13 & . & . & . & . & .\\\\\n",
       "\t 172 & 172.1 & 06/03/1967 & 27/01/2011 & 2 & 1 & . & 1 & . & 4 & 64.41 & 6 & 1 & . & 4129 & 1 & . & 4 & 1 & .    & 3 & 1 & NA         & NA & NA & NA & NA & NA & 0 & . & .  & . & . & . & . & . & . & 3 & 2 & 2 & 5 & . & . & 1 & 1 & 1 & 65  & . & . & . & 3 & . & . & 2 & 1 & 1 & 1 & 1 & 1 & 1 & 2 & 1 & 3 & 3 & 1 & 0 & 1 & 9 & 0 & 1 & 1 & 0 & 1 & 0 & 0 & 0 & 1 & 0 & 0 & 0 & . & . & . & 5 & 1 & 0 & 1 & . & . & .  & . & . & . & . & .\\\\\n",
       "\t   8 &   8.1 & 24/12/1967 & 09/03/2010 & 2 & 1 & . & 1 & . & 4 & 65.77 & 1 & 5 & . & .    & 1 & . & 1 & 1 & .    & . & 3 & 07/11/2008 & NA & NA & NA & NA & NA & 1 & 1 & 50 & . & . & . & . & . & . & 3 & 1 & 2 & . & . & . & 3 & 4 & 4 & 110 & . & . & 2 & 2 & . & . & . & 1 & 2 & 1 & 4 & 4 & 1 & . & 0 & 0 & 3 & 0 & 1 & 0 & 4 & 0 & 0 & 0 & 0 & 0 & 0 & 1 & 1 & 0 & 0 & 0 & 0 & . & . & . & 6 & 0 & . & 1 & . & . & 13 & . & . & . & . & .\\\\\n",
       "\t 301 & 301.1 & 16/05/1968 & 27/04/2011 & 1 & 1 & . & 1 & . & 2 & 53.10 & 3 & 4 & . & .    & 0 & . & . & . & .    & 1 & 5 & 16/05/2000 & NA & NA & NA & NA & NA & 0 & . & .  & . & . & . & . & . & . & 2 & 2 & 5 & . & . & . & 1 & 1 & 4 & 18  & . & . & . & . & 3 & . & 2 & 3 & 2 & . & . & 3 & 2 & . & 0 & 0 & 1 & 0 & 0 & 0 & 1 & 0 & 0 & 1 & 0 & 0 & 0 & 1 & 0 & 1 & 0 & 0 & 0 & . & . & . & 6 & 1 & 3 & 1 & . & . & .  & . & . & . & . & .\\\\\n",
       "\\end{tabular}\n"
      ],
      "text/markdown": [
       "\n",
       "A tibble: 6 × 95\n",
       "\n",
       "| PARENT_ID &lt;dbl&gt; | INFANT_ID &lt;dbl&gt; | DATE_OF_BIRTH &lt;chr&gt; | EDD &lt;chr&gt; | BIRTH_PLAN &lt;chr&gt; | LANGUAGE &lt;chr&gt; | OTHER_LANGUAGE &lt;chr&gt; | ETHNICITY &lt;chr&gt; | OTHER_ETHNICITY &lt;chr&gt; | RELATIONSHIP_STATUS &lt;chr&gt; | ... ... | SMOKE_NUMBER &lt;chr&gt; | ALCOHOL &lt;chr&gt; | EARLY_PREG_ALCOHOL &lt;chr&gt; | MID_LATE_PREG_ALCOHOL &lt;chr&gt; | MEDICATION1 &lt;chr&gt; | MEDICATION2 &lt;chr&gt; | MEDICATION3 &lt;chr&gt; | MEDICATION4 &lt;chr&gt; | MEDICATION5 &lt;chr&gt; | MEDICATION6 &lt;chr&gt; |\n",
       "|---|---|---|---|---|---|---|---|---|---|---|---|---|---|---|---|---|---|---|---|---|\n",
       "|  47 |  47.1 | 18/12/1965 | 30/07/2010 | 3 | . | . | 1 | . | 4 | ... | . | 0 | . | . | .  | . | . | . | . | . |\n",
       "|  47 |  47.2 | 18/12/1965 | 30/07/2010 | 3 | . | . | 1 | . | 4 | ... | . | 0 | . | . | .  | . | . | . | . | . |\n",
       "|  45 |  45.1 | 05/03/1966 | 12/07/2010 | 3 | 1 | . | 1 | . | 4 | ... | . | 0 | . | . | 13 | . | . | . | . | . |\n",
       "| 172 | 172.1 | 06/03/1967 | 27/01/2011 | 2 | 1 | . | 1 | . | 4 | ... | 0 | 1 | . | . | .  | . | . | . | . | . |\n",
       "|   8 |   8.1 | 24/12/1967 | 09/03/2010 | 2 | 1 | . | 1 | . | 4 | ... | . | 1 | . | . | 13 | . | . | . | . | . |\n",
       "| 301 | 301.1 | 16/05/1968 | 27/04/2011 | 1 | 1 | . | 1 | . | 2 | ... | 3 | 1 | . | . | .  | . | . | . | . | . |\n",
       "\n"
      ],
      "text/plain": [
       "  PARENT_ID INFANT_ID DATE_OF_BIRTH EDD        BIRTH_PLAN LANGUAGE\n",
       "1  47        47.1     18/12/1965    30/07/2010 3          .       \n",
       "2  47        47.2     18/12/1965    30/07/2010 3          .       \n",
       "3  45        45.1     05/03/1966    12/07/2010 3          1       \n",
       "4 172       172.1     06/03/1967    27/01/2011 2          1       \n",
       "5   8         8.1     24/12/1967    09/03/2010 2          1       \n",
       "6 301       301.1     16/05/1968    27/04/2011 1          1       \n",
       "  OTHER_LANGUAGE ETHNICITY OTHER_ETHNICITY RELATIONSHIP_STATUS ... SMOKE_NUMBER\n",
       "1 .              1         .               4                   ... .           \n",
       "2 .              1         .               4                   ... .           \n",
       "3 .              1         .               4                   ... .           \n",
       "4 .              1         .               4                   ... 0           \n",
       "5 .              1         .               4                   ... .           \n",
       "6 .              1         .               2                   ... 3           \n",
       "  ALCOHOL EARLY_PREG_ALCOHOL MID_LATE_PREG_ALCOHOL MEDICATION1 MEDICATION2\n",
       "1 0       .                  .                     .           .          \n",
       "2 0       .                  .                     .           .          \n",
       "3 0       .                  .                     13          .          \n",
       "4 1       .                  .                     .           .          \n",
       "5 1       .                  .                     13          .          \n",
       "6 1       .                  .                     .           .          \n",
       "  MEDICATION3 MEDICATION4 MEDICATION5 MEDICATION6\n",
       "1 .           .           .           .          \n",
       "2 .           .           .           .          \n",
       "3 .           .           .           .          \n",
       "4 .           .           .           .          \n",
       "5 .           .           .           .          \n",
       "6 .           .           .           .          "
      ]
     },
     "metadata": {},
     "output_type": "display_data"
    }
   ],
   "source": [
    "## library(readr)\n",
    "#pregnancy <- read_csv(file=\"data/pregnancy.csv\")\n",
    "#head(pregnancy)"
   ]
  },
  {
   "cell_type": "code",
   "execution_count": 7,
   "metadata": {},
   "outputs": [
    {
     "data": {
      "text/plain": [
       "cols(\n",
       "  PARENT_ID = \u001b[32mcol_double()\u001b[39m,\n",
       "  INFANT_ID = \u001b[32mcol_double()\u001b[39m,\n",
       "  DATE_OF_BIRTH = \u001b[31mcol_character()\u001b[39m,\n",
       "  EDD = \u001b[31mcol_character()\u001b[39m,\n",
       "  BIRTH_PLAN = \u001b[31mcol_character()\u001b[39m,\n",
       "  LANGUAGE = \u001b[31mcol_character()\u001b[39m,\n",
       "  OTHER_LANGUAGE = \u001b[31mcol_character()\u001b[39m,\n",
       "  ETHNICITY = \u001b[31mcol_character()\u001b[39m,\n",
       "  OTHER_ETHNICITY = \u001b[31mcol_character()\u001b[39m,\n",
       "  RELATIONSHIP_STATUS = \u001b[31mcol_character()\u001b[39m,\n",
       "  WEIGHT_PRE_PREGNANCY_IN_KG = \u001b[31mcol_character()\u001b[39m,\n",
       "  EDUCATION = \u001b[31mcol_character()\u001b[39m,\n",
       "  EMPLOYMENT = \u001b[31mcol_character()\u001b[39m,\n",
       "  OTHER_EMPLOYMENT = \u001b[31mcol_character()\u001b[39m,\n",
       "  OCCUPATION_CODE = \u001b[31mcol_character()\u001b[39m,\n",
       "  PARTNER = \u001b[31mcol_character()\u001b[39m,\n",
       "  LIVE_TOGETHER = \u001b[31mcol_character()\u001b[39m,\n",
       "  PARTNER_EDUCATION = \u001b[31mcol_character()\u001b[39m,\n",
       "  PARTNER_WORKING = \u001b[31mcol_character()\u001b[39m,\n",
       "  PARTNER_OCCUPATION = \u001b[31mcol_character()\u001b[39m,\n",
       "  SALARY = \u001b[31mcol_character()\u001b[39m,\n",
       "  ALLOWANCE = \u001b[31mcol_character()\u001b[39m,\n",
       "  DOBCHILD1 = \u001b[31mcol_character()\u001b[39m,\n",
       "  DOBCHILD2 = \u001b[31mcol_character()\u001b[39m,\n",
       "  DOBCHILD3 = \u001b[31mcol_character()\u001b[39m,\n",
       "  DOBCHILD4 = \u001b[31mcol_character()\u001b[39m,\n",
       "  DOBCHILD5 = \u001b[31mcol_character()\u001b[39m,\n",
       "  DOBCHILD6 = \u001b[31mcol_character()\u001b[39m,\n",
       "  OTHER_ADULTS = \u001b[31mcol_character()\u001b[39m,\n",
       "  ADULT1_RELATIONSHIP = \u001b[31mcol_character()\u001b[39m,\n",
       "  ADULT1_AGE = \u001b[31mcol_character()\u001b[39m,\n",
       "  ADULT2_RELATIONSHIP = \u001b[31mcol_character()\u001b[39m,\n",
       "  ADULT2_AGE = \u001b[31mcol_character()\u001b[39m,\n",
       "  ADULT3_RELATIONSHIP = \u001b[31mcol_character()\u001b[39m,\n",
       "  ADULT3_AGE = \u001b[31mcol_character()\u001b[39m,\n",
       "  ADULT4_RELATIONSHIP = \u001b[31mcol_character()\u001b[39m,\n",
       "  ADULT4_AGE = \u001b[31mcol_character()\u001b[39m,\n",
       "  HOUSE_TYPE = \u001b[31mcol_character()\u001b[39m,\n",
       "  HOME_OWN = \u001b[31mcol_character()\u001b[39m,\n",
       "  HEAT1 = \u001b[31mcol_character()\u001b[39m,\n",
       "  HEAT2 = \u001b[31mcol_character()\u001b[39m,\n",
       "  HEAT3 = \u001b[31mcol_character()\u001b[39m,\n",
       "  HEAT4 = \u001b[31mcol_character()\u001b[39m,\n",
       "  DOUBLE_GLAZED = \u001b[31mcol_character()\u001b[39m,\n",
       "  LOFT = \u001b[31mcol_character()\u001b[39m,\n",
       "  CAVITY = \u001b[31mcol_character()\u001b[39m,\n",
       "  AGE = \u001b[31mcol_character()\u001b[39m,\n",
       "  MOULD_VISIBLE = \u001b[31mcol_character()\u001b[39m,\n",
       "  MM_BATH = \u001b[31mcol_character()\u001b[39m,\n",
       "  MM_BED = \u001b[31mcol_character()\u001b[39m,\n",
       "  MM_LIV = \u001b[31mcol_character()\u001b[39m,\n",
       "  MM_KITCH = \u001b[31mcol_character()\u001b[39m,\n",
       "  MM_HALL = \u001b[31mcol_character()\u001b[39m,\n",
       "  MM_FURNISH = \u001b[31mcol_character()\u001b[39m,\n",
       "  NEIGHBOURS = \u001b[31mcol_character()\u001b[39m,\n",
       "  SATISFIED_DISSATISFIED = \u001b[31mcol_character()\u001b[39m,\n",
       "  COMMUNITY_HOME = \u001b[31mcol_character()\u001b[39m,\n",
       "  HELP_NEED = \u001b[31mcol_character()\u001b[39m,\n",
       "  SERVICES = \u001b[31mcol_character()\u001b[39m,\n",
       "  SAFE = \u001b[31mcol_character()\u001b[39m,\n",
       "  INVOLVED = \u001b[31mcol_character()\u001b[39m,\n",
       "  SAD = \u001b[31mcol_character()\u001b[39m,\n",
       "  NERVOUS = \u001b[31mcol_character()\u001b[39m,\n",
       "  RESTLESS = \u001b[31mcol_character()\u001b[39m,\n",
       "  HOPELESS = \u001b[31mcol_character()\u001b[39m,\n",
       "  EFFORT = \u001b[31mcol_character()\u001b[39m,\n",
       "  WORTHLESS = \u001b[31mcol_character()\u001b[39m,\n",
       "  TOTAL_K6 = \u001b[31mcol_character()\u001b[39m,\n",
       "  FOLIC_NOT_TAKEN = \u001b[31mcol_character()\u001b[39m,\n",
       "  FOLIC_BEFORE = \u001b[31mcol_character()\u001b[39m,\n",
       "  FOLIC_EARLY = \u001b[31mcol_character()\u001b[39m,\n",
       "  FOLIC_MID_LATE = \u001b[31mcol_character()\u001b[39m,\n",
       "  MULTI_NOT_TAKEN = \u001b[31mcol_character()\u001b[39m,\n",
       "  MULTI_BEFORE = \u001b[31mcol_character()\u001b[39m,\n",
       "  MULTI_EARLY = \u001b[31mcol_character()\u001b[39m,\n",
       "  MULTI_MID_LATE = \u001b[31mcol_character()\u001b[39m,\n",
       "  SUPP_NOT_TAKEN = \u001b[31mcol_character()\u001b[39m,\n",
       "  SUPP_BEFORE = \u001b[31mcol_character()\u001b[39m,\n",
       "  SUPP_EARLY = \u001b[31mcol_character()\u001b[39m,\n",
       "  SUPP_MID_LATE = \u001b[31mcol_character()\u001b[39m,\n",
       "  OTHER_BEFORE = \u001b[31mcol_character()\u001b[39m,\n",
       "  OTHER_EARLY = \u001b[31mcol_character()\u001b[39m,\n",
       "  OTHER_MID_LATE = \u001b[31mcol_character()\u001b[39m,\n",
       "  SMOKE_ROOM = \u001b[31mcol_character()\u001b[39m,\n",
       "  SMOKE = \u001b[31mcol_character()\u001b[39m,\n",
       "  SMOKE_NUMBER = \u001b[31mcol_character()\u001b[39m,\n",
       "  ALCOHOL = \u001b[31mcol_character()\u001b[39m,\n",
       "  EARLY_PREG_ALCOHOL = \u001b[31mcol_character()\u001b[39m,\n",
       "  MID_LATE_PREG_ALCOHOL = \u001b[31mcol_character()\u001b[39m,\n",
       "  MEDICATION1 = \u001b[31mcol_character()\u001b[39m,\n",
       "  MEDICATION2 = \u001b[31mcol_character()\u001b[39m,\n",
       "  MEDICATION3 = \u001b[31mcol_character()\u001b[39m,\n",
       "  MEDICATION4 = \u001b[31mcol_character()\u001b[39m,\n",
       "  MEDICATION5 = \u001b[31mcol_character()\u001b[39m,\n",
       "  MEDICATION6 = \u001b[31mcol_character()\u001b[39m\n",
       ")"
      ]
     },
     "metadata": {},
     "output_type": "display_data"
    }
   ],
   "source": [
    "#pregnancy_spec <- spec(pregnancy)\n",
    "#pregnancy_spec"
   ]
  },
  {
   "cell_type": "code",
   "execution_count": 8,
   "metadata": {},
   "outputs": [
    {
     "name": "stderr",
     "output_type": "stream",
     "text": [
      "Warning message:\n",
      "\"3 parsing failures.\n",
      "row col               expected actual                 file\n",
      "272 AGE no trailing characters    .5  'data/pregnancy.csv'\n",
      "590 AGE no trailing characters    .8  'data/pregnancy.csv'\n",
      "669 AGE no trailing characters    .25 'data/pregnancy.csv'\n",
      "\""
     ]
    }
   ],
   "source": [
    "pregnancy <- read_csv(file=\"data/pregnancy.csv\", na=c(\"\", \"NA\", \".\"),\n",
    "                      col_types=pregnancy_spec)"
   ]
  },
  {
   "cell_type": "markdown",
   "metadata": {},
   "source": [
    "If you have problems, use `problems(x)` to get a list:"
   ]
  },
  {
   "cell_type": "code",
   "execution_count": 9,
   "metadata": {},
   "outputs": [
    {
     "data": {
      "text/html": [
       "<table>\n",
       "<caption>A tibble: 3 × 5</caption>\n",
       "<thead>\n",
       "\t<tr><th scope=col>row</th><th scope=col>col</th><th scope=col>expected</th><th scope=col>actual</th><th scope=col>file</th></tr>\n",
       "\t<tr><th scope=col>&lt;int&gt;</th><th scope=col>&lt;chr&gt;</th><th scope=col>&lt;chr&gt;</th><th scope=col>&lt;chr&gt;</th><th scope=col>&lt;chr&gt;</th></tr>\n",
       "</thead>\n",
       "<tbody>\n",
       "\t<tr><td>272</td><td>AGE</td><td>no trailing characters</td><td>.5 </td><td>'data/pregnancy.csv'</td></tr>\n",
       "\t<tr><td>590</td><td>AGE</td><td>no trailing characters</td><td>.8 </td><td>'data/pregnancy.csv'</td></tr>\n",
       "\t<tr><td>669</td><td>AGE</td><td>no trailing characters</td><td>.25</td><td>'data/pregnancy.csv'</td></tr>\n",
       "</tbody>\n",
       "</table>\n"
      ],
      "text/latex": [
       "A tibble: 3 × 5\n",
       "\\begin{tabular}{r|lllll}\n",
       " row & col & expected & actual & file\\\\\n",
       " <int> & <chr> & <chr> & <chr> & <chr>\\\\\n",
       "\\hline\n",
       "\t 272 & AGE & no trailing characters & .5  & 'data/pregnancy.csv'\\\\\n",
       "\t 590 & AGE & no trailing characters & .8  & 'data/pregnancy.csv'\\\\\n",
       "\t 669 & AGE & no trailing characters & .25 & 'data/pregnancy.csv'\\\\\n",
       "\\end{tabular}\n"
      ],
      "text/markdown": [
       "\n",
       "A tibble: 3 × 5\n",
       "\n",
       "| row &lt;int&gt; | col &lt;chr&gt; | expected &lt;chr&gt; | actual &lt;chr&gt; | file &lt;chr&gt; |\n",
       "|---|---|---|---|---|\n",
       "| 272 | AGE | no trailing characters | .5  | 'data/pregnancy.csv' |\n",
       "| 590 | AGE | no trailing characters | .8  | 'data/pregnancy.csv' |\n",
       "| 669 | AGE | no trailing characters | .25 | 'data/pregnancy.csv' |\n",
       "\n"
      ],
      "text/plain": [
       "  row col expected               actual file                \n",
       "1 272 AGE no trailing characters .5     'data/pregnancy.csv'\n",
       "2 590 AGE no trailing characters .8     'data/pregnancy.csv'\n",
       "3 669 AGE no trailing characters .25    'data/pregnancy.csv'"
      ]
     },
     "metadata": {},
     "output_type": "display_data"
    }
   ],
   "source": [
    "#head(problems(pregnancy))"
   ]
  },
  {
   "cell_type": "code",
   "execution_count": 10,
   "metadata": {},
   "outputs": [
    {
     "data": {
      "text/html": [
       "<table>\n",
       "<caption>A tibble: 6 × 95</caption>\n",
       "<thead>\n",
       "\t<tr><th scope=col>PARENT_ID</th><th scope=col>INFANT_ID</th><th scope=col>DATE_OF_BIRTH</th><th scope=col>EDD</th><th scope=col>BIRTH_PLAN</th><th scope=col>LANGUAGE</th><th scope=col>OTHER_LANGUAGE</th><th scope=col>ETHNICITY</th><th scope=col>OTHER_ETHNICITY</th><th scope=col>RELATIONSHIP_STATUS</th><th scope=col>...</th><th scope=col>SMOKE_NUMBER</th><th scope=col>ALCOHOL</th><th scope=col>EARLY_PREG_ALCOHOL</th><th scope=col>MID_LATE_PREG_ALCOHOL</th><th scope=col>MEDICATION1</th><th scope=col>MEDICATION2</th><th scope=col>MEDICATION3</th><th scope=col>MEDICATION4</th><th scope=col>MEDICATION5</th><th scope=col>MEDICATION6</th></tr>\n",
       "\t<tr><th scope=col>&lt;int&gt;</th><th scope=col>&lt;dbl&gt;</th><th scope=col>&lt;chr&gt;</th><th scope=col>&lt;chr&gt;</th><th scope=col>&lt;chr&gt;</th><th scope=col>&lt;chr&gt;</th><th scope=col>&lt;chr&gt;</th><th scope=col>&lt;chr&gt;</th><th scope=col>&lt;chr&gt;</th><th scope=col>&lt;chr&gt;</th><th scope=col>...</th><th scope=col>&lt;chr&gt;</th><th scope=col>&lt;chr&gt;</th><th scope=col>&lt;chr&gt;</th><th scope=col>&lt;chr&gt;</th><th scope=col>&lt;chr&gt;</th><th scope=col>&lt;chr&gt;</th><th scope=col>&lt;chr&gt;</th><th scope=col>&lt;chr&gt;</th><th scope=col>&lt;chr&gt;</th><th scope=col>&lt;chr&gt;</th></tr>\n",
       "</thead>\n",
       "<tbody>\n",
       "\t<tr><td> 47</td><td> 47.1</td><td>18/12/1965</td><td>30/07/2010</td><td>3</td><td>NA</td><td>NA</td><td>1</td><td>NA</td><td>4</td><td>...</td><td>NA</td><td>0</td><td>NA</td><td>NA</td><td>NA</td><td>NA</td><td>NA</td><td>NA</td><td>NA</td><td>NA</td></tr>\n",
       "\t<tr><td> 47</td><td> 47.2</td><td>18/12/1965</td><td>30/07/2010</td><td>3</td><td>NA</td><td>NA</td><td>1</td><td>NA</td><td>4</td><td>...</td><td>NA</td><td>0</td><td>NA</td><td>NA</td><td>NA</td><td>NA</td><td>NA</td><td>NA</td><td>NA</td><td>NA</td></tr>\n",
       "\t<tr><td> 45</td><td> 45.1</td><td>05/03/1966</td><td>12/07/2010</td><td>3</td><td>1 </td><td>NA</td><td>1</td><td>NA</td><td>4</td><td>...</td><td>NA</td><td>0</td><td>NA</td><td>NA</td><td>13</td><td>NA</td><td>NA</td><td>NA</td><td>NA</td><td>NA</td></tr>\n",
       "\t<tr><td>172</td><td>172.1</td><td>06/03/1967</td><td>27/01/2011</td><td>2</td><td>1 </td><td>NA</td><td>1</td><td>NA</td><td>4</td><td>...</td><td>0 </td><td>1</td><td>NA</td><td>NA</td><td>NA</td><td>NA</td><td>NA</td><td>NA</td><td>NA</td><td>NA</td></tr>\n",
       "\t<tr><td>  8</td><td>  8.1</td><td>24/12/1967</td><td>09/03/2010</td><td>2</td><td>1 </td><td>NA</td><td>1</td><td>NA</td><td>4</td><td>...</td><td>NA</td><td>1</td><td>NA</td><td>NA</td><td>13</td><td>NA</td><td>NA</td><td>NA</td><td>NA</td><td>NA</td></tr>\n",
       "\t<tr><td>301</td><td>301.1</td><td>16/05/1968</td><td>27/04/2011</td><td>1</td><td>1 </td><td>NA</td><td>1</td><td>NA</td><td>2</td><td>...</td><td>3 </td><td>1</td><td>NA</td><td>NA</td><td>NA</td><td>NA</td><td>NA</td><td>NA</td><td>NA</td><td>NA</td></tr>\n",
       "</tbody>\n",
       "</table>\n"
      ],
      "text/latex": [
       "A tibble: 6 × 95\n",
       "\\begin{tabular}{r|lllllllllllllllllllllllllllllllllllllllllllllllllllllllllllllllllllllllllllllllllllllllllllllll}\n",
       " PARENT\\_ID & INFANT\\_ID & DATE\\_OF\\_BIRTH & EDD & BIRTH\\_PLAN & LANGUAGE & OTHER\\_LANGUAGE & ETHNICITY & OTHER\\_ETHNICITY & RELATIONSHIP\\_STATUS & WEIGHT\\_PRE\\_PREGNANCY\\_IN\\_KG & EDUCATION & EMPLOYMENT & OTHER\\_EMPLOYMENT & OCCUPATION\\_CODE & PARTNER & LIVE\\_TOGETHER & PARTNER\\_EDUCATION & PARTNER\\_WORKING & PARTNER\\_OCCUPATION & SALARY & ALLOWANCE & DOBCHILD1 & DOBCHILD2 & DOBCHILD3 & DOBCHILD4 & DOBCHILD5 & DOBCHILD6 & OTHER\\_ADULTS & ADULT1\\_RELATIONSHIP & ADULT1\\_AGE & ADULT2\\_RELATIONSHIP & ADULT2\\_AGE & ADULT3\\_RELATIONSHIP & ADULT3\\_AGE & ADULT4\\_RELATIONSHIP & ADULT4\\_AGE & HOUSE\\_TYPE & HOME\\_OWN & HEAT1 & HEAT2 & HEAT3 & HEAT4 & DOUBLE\\_GLAZED & LOFT & CAVITY & AGE & MOULD\\_VISIBLE & MM\\_BATH & MM\\_BED & MM\\_LIV & MM\\_KITCH & MM\\_HALL & MM\\_FURNISH & NEIGHBOURS & SATISFIED\\_DISSATISFIED & COMMUNITY\\_HOME & HELP\\_NEED & SERVICES & SAFE & INVOLVED & SAD & NERVOUS & RESTLESS & HOPELESS & EFFORT & WORTHLESS & TOTAL\\_K6 & FOLIC\\_NOT\\_TAKEN & FOLIC\\_BEFORE & FOLIC\\_EARLY & FOLIC\\_MID\\_LATE & MULTI\\_NOT\\_TAKEN & MULTI\\_BEFORE & MULTI\\_EARLY & MULTI\\_MID\\_LATE & SUPP\\_NOT\\_TAKEN & SUPP\\_BEFORE & SUPP\\_EARLY & SUPP\\_MID\\_LATE & OTHER\\_BEFORE & OTHER\\_EARLY & OTHER\\_MID\\_LATE & SMOKE\\_ROOM & SMOKE & SMOKE\\_NUMBER & ALCOHOL & EARLY\\_PREG\\_ALCOHOL & MID\\_LATE\\_PREG\\_ALCOHOL & MEDICATION1 & MEDICATION2 & MEDICATION3 & MEDICATION4 & MEDICATION5 & MEDICATION6\\\\\n",
       " <int> & <dbl> & <chr> & <chr> & <chr> & <chr> & <chr> & <chr> & <chr> & <chr> & <chr> & <chr> & <chr> & <chr> & <chr> & <chr> & <chr> & <chr> & <chr> & <chr> & <int> & <chr> & <chr> & <chr> & <chr> & <chr> & <chr> & <chr> & <chr> & <chr> & <chr> & <chr> & <chr> & <chr> & <chr> & <chr> & <chr> & <chr> & <chr> & <chr> & <chr> & <chr> & <chr> & <chr> & <chr> & <chr> & <int> & <chr> & <chr> & <chr> & <chr> & <chr> & <chr> & <chr> & <chr> & <chr> & <chr> & <chr> & <chr> & <chr> & <chr> & <chr> & <chr> & <chr> & <chr> & <chr> & <chr> & <chr> & <chr> & <chr> & <chr> & <chr> & <chr> & <chr> & <chr> & <chr> & <chr> & <chr> & <chr> & <chr> & <chr> & <chr> & <chr> & <chr> & <chr> & <chr> & <chr> & <chr> & <chr> & <chr> & <chr> & <chr> & <chr> & <chr> & <chr>\\\\\n",
       "\\hline\n",
       "\t  47 &  47.1 & 18/12/1965 & 30/07/2010 & 3 & NA & NA & 1 & NA & 4 & 66.68 & 1 & 2 & NA & 2229 & 1 & NA & 1  & 1  & 3312 &  7 & 2 & 07/11/2003 & NA & NA & NA & NA & NA & 0 & NA & NA & NA & NA & NA & NA & NA & NA & 1 & 2 & 1 & 5  & NA & NA & 1 & 1 & 4 & 100 & NA & NA & NA & NA & NA & NA & 2  & 1 & 4 & NA & 2  & NA & NA & NA & 0 & 0 & 1 & 0 & 0 & 0 & 1 & 0 & 1 & 1 & 1 & 0 & 1 & 1 & 1 & 1 & 0 & 0 & 0 & NA & NA & NA & 6 & 0 & NA & 0 & NA & NA & NA & NA & NA & NA & NA & NA\\\\\n",
       "\t  47 &  47.2 & 18/12/1965 & 30/07/2010 & 3 & NA & NA & 1 & NA & 4 & 66.68 & 1 & 2 & NA & 2229 & 1 & NA & 1  & 1  & 3312 &  7 & 2 & 07/11/2003 & NA & NA & NA & NA & NA & 0 & NA & NA & NA & NA & NA & NA & NA & NA & 1 & 2 & 1 & 5  & NA & NA & 1 & 1 & 4 & 100 & NA & NA & NA & NA & NA & NA & 2  & 1 & 4 & NA & 2  & NA & NA & NA & 0 & 0 & 1 & 0 & 0 & 0 & 1 & 0 & 1 & 1 & 1 & 0 & 1 & 1 & 1 & 1 & 0 & 0 & 0 & NA & NA & NA & 6 & 0 & NA & 0 & NA & NA & NA & NA & NA & NA & NA & NA\\\\\n",
       "\t  45 &  45.1 & 05/03/1966 & 12/07/2010 & 3 & 1  & NA & 1 & NA & 4 & 57.15 & 4 & 2 & NA & 4112 & 1 & NA & 3  & 7  & 3411 &  9 & 8 & 29/12/2003 & NA & NA & NA & NA & NA & 0 & NA & NA & NA & NA & NA & NA & NA & NA & 3 & 1 & 5 & NA & NA & NA & 1 & 3 & 2 & 105 & NA & NA & NA & NA & NA & NA & NA & 1 & 2 & 2  & 1  & 3  & 2  & NA & 0 & 0 & 0 & 0 & 0 & 0 & 0 & 0 & 0 & 1 & 0 & 0 & 0 & 0 & 0 & 1 & 0 & 0 & 0 & NA & NA & NA & 6 & 0 & NA & 0 & NA & NA & 13 & NA & NA & NA & NA & NA\\\\\n",
       "\t 172 & 172.1 & 06/03/1967 & 27/01/2011 & 2 & 1  & NA & 1 & NA & 4 & 64.41 & 6 & 1 & NA & 4129 & 1 & NA & 4  & 1  & NA   &  3 & 1 & NA         & NA & NA & NA & NA & NA & 0 & NA & NA & NA & NA & NA & NA & NA & NA & 3 & 2 & 2 & 5  & NA & NA & 1 & 1 & 1 &  65 & NA & NA & NA & 3  & NA & NA & 2  & 1 & 1 & 1  & 1  & 1  & 1  & 2  & 1 & 3 & 3 & 1 & 0 & 1 & 9 & 0 & 1 & 1 & 0 & 1 & 0 & 0 & 0 & 1 & 0 & 0 & 0 & NA & NA & NA & 5 & 1 & 0  & 1 & NA & NA & NA & NA & NA & NA & NA & NA\\\\\n",
       "\t   8 &   8.1 & 24/12/1967 & 09/03/2010 & 2 & 1  & NA & 1 & NA & 4 & 65.77 & 1 & 5 & NA & NA   & 1 & NA & 1  & 1  & NA   & NA & 3 & 07/11/2008 & NA & NA & NA & NA & NA & 1 & 1  & 50 & NA & NA & NA & NA & NA & NA & 3 & 1 & 2 & NA & NA & NA & 3 & 4 & 4 & 110 & NA & NA & 2  & 2  & NA & NA & NA & 1 & 2 & 1  & 4  & 4  & 1  & NA & 0 & 0 & 3 & 0 & 1 & 0 & 4 & 0 & 0 & 0 & 0 & 0 & 0 & 1 & 1 & 0 & 0 & 0 & 0 & NA & NA & NA & 6 & 0 & NA & 1 & NA & NA & 13 & NA & NA & NA & NA & NA\\\\\n",
       "\t 301 & 301.1 & 16/05/1968 & 27/04/2011 & 1 & 1  & NA & 1 & NA & 2 & 53.10 & 3 & 4 & NA & NA   & 0 & NA & NA & NA & NA   &  1 & 5 & 16/05/2000 & NA & NA & NA & NA & NA & 0 & NA & NA & NA & NA & NA & NA & NA & NA & 2 & 2 & 5 & NA & NA & NA & 1 & 1 & 4 &  18 & NA & NA & NA & NA & 3  & NA & 2  & 3 & 2 & NA & NA & 3  & 2  & NA & 0 & 0 & 1 & 0 & 0 & 0 & 1 & 0 & 0 & 1 & 0 & 0 & 0 & 1 & 0 & 1 & 0 & 0 & 0 & NA & NA & NA & 6 & 1 & 3  & 1 & NA & NA & NA & NA & NA & NA & NA & NA\\\\\n",
       "\\end{tabular}\n"
      ],
      "text/markdown": [
       "\n",
       "A tibble: 6 × 95\n",
       "\n",
       "| PARENT_ID &lt;int&gt; | INFANT_ID &lt;dbl&gt; | DATE_OF_BIRTH &lt;chr&gt; | EDD &lt;chr&gt; | BIRTH_PLAN &lt;chr&gt; | LANGUAGE &lt;chr&gt; | OTHER_LANGUAGE &lt;chr&gt; | ETHNICITY &lt;chr&gt; | OTHER_ETHNICITY &lt;chr&gt; | RELATIONSHIP_STATUS &lt;chr&gt; | ... ... | SMOKE_NUMBER &lt;chr&gt; | ALCOHOL &lt;chr&gt; | EARLY_PREG_ALCOHOL &lt;chr&gt; | MID_LATE_PREG_ALCOHOL &lt;chr&gt; | MEDICATION1 &lt;chr&gt; | MEDICATION2 &lt;chr&gt; | MEDICATION3 &lt;chr&gt; | MEDICATION4 &lt;chr&gt; | MEDICATION5 &lt;chr&gt; | MEDICATION6 &lt;chr&gt; |\n",
       "|---|---|---|---|---|---|---|---|---|---|---|---|---|---|---|---|---|---|---|---|---|\n",
       "|  47 |  47.1 | 18/12/1965 | 30/07/2010 | 3 | NA | NA | 1 | NA | 4 | ... | NA | 0 | NA | NA | NA | NA | NA | NA | NA | NA |\n",
       "|  47 |  47.2 | 18/12/1965 | 30/07/2010 | 3 | NA | NA | 1 | NA | 4 | ... | NA | 0 | NA | NA | NA | NA | NA | NA | NA | NA |\n",
       "|  45 |  45.1 | 05/03/1966 | 12/07/2010 | 3 | 1  | NA | 1 | NA | 4 | ... | NA | 0 | NA | NA | 13 | NA | NA | NA | NA | NA |\n",
       "| 172 | 172.1 | 06/03/1967 | 27/01/2011 | 2 | 1  | NA | 1 | NA | 4 | ... | 0  | 1 | NA | NA | NA | NA | NA | NA | NA | NA |\n",
       "|   8 |   8.1 | 24/12/1967 | 09/03/2010 | 2 | 1  | NA | 1 | NA | 4 | ... | NA | 1 | NA | NA | 13 | NA | NA | NA | NA | NA |\n",
       "| 301 | 301.1 | 16/05/1968 | 27/04/2011 | 1 | 1  | NA | 1 | NA | 2 | ... | 3  | 1 | NA | NA | NA | NA | NA | NA | NA | NA |\n",
       "\n"
      ],
      "text/plain": [
       "  PARENT_ID INFANT_ID DATE_OF_BIRTH EDD        BIRTH_PLAN LANGUAGE\n",
       "1  47        47.1     18/12/1965    30/07/2010 3          NA      \n",
       "2  47        47.2     18/12/1965    30/07/2010 3          NA      \n",
       "3  45        45.1     05/03/1966    12/07/2010 3          1       \n",
       "4 172       172.1     06/03/1967    27/01/2011 2          1       \n",
       "5   8         8.1     24/12/1967    09/03/2010 2          1       \n",
       "6 301       301.1     16/05/1968    27/04/2011 1          1       \n",
       "  OTHER_LANGUAGE ETHNICITY OTHER_ETHNICITY RELATIONSHIP_STATUS ... SMOKE_NUMBER\n",
       "1 NA             1         NA              4                   ... NA          \n",
       "2 NA             1         NA              4                   ... NA          \n",
       "3 NA             1         NA              4                   ... NA          \n",
       "4 NA             1         NA              4                   ... 0           \n",
       "5 NA             1         NA              4                   ... NA          \n",
       "6 NA             1         NA              2                   ... 3           \n",
       "  ALCOHOL EARLY_PREG_ALCOHOL MID_LATE_PREG_ALCOHOL MEDICATION1 MEDICATION2\n",
       "1 0       NA                 NA                    NA          NA         \n",
       "2 0       NA                 NA                    NA          NA         \n",
       "3 0       NA                 NA                    13          NA         \n",
       "4 1       NA                 NA                    NA          NA         \n",
       "5 1       NA                 NA                    13          NA         \n",
       "6 1       NA                 NA                    NA          NA         \n",
       "  MEDICATION3 MEDICATION4 MEDICATION5 MEDICATION6\n",
       "1 NA          NA          NA          NA         \n",
       "2 NA          NA          NA          NA         \n",
       "3 NA          NA          NA          NA         \n",
       "4 NA          NA          NA          NA         \n",
       "5 NA          NA          NA          NA         \n",
       "6 NA          NA          NA          NA         "
      ]
     },
     "metadata": {},
     "output_type": "display_data"
    }
   ],
   "source": [
    "#head(pregnancy)"
   ]
  },
  {
   "cell_type": "markdown",
   "metadata": {},
   "source": [
    "## __Exercise__: Change a date column to format as a date and a categorical column to format as a factor."
   ]
  },
  {
   "cell_type": "code",
   "execution_count": null,
   "metadata": {},
   "outputs": [],
   "source": [
    "# col_date('%d/%m/%Y'),\n",
    "# col_factor(),"
   ]
  },
  {
   "cell_type": "markdown",
   "metadata": {},
   "source": [
    "<table style=\"text-align:center;\"><tr><td width=\"100\" height=\"20\" style=\"background-color:greenyellow\"></td><td width=\"100\" height=\"20\" style=\"background-color:hotpink\"></td></tr></table>"
   ]
  },
  {
   "cell_type": "markdown",
   "metadata": {},
   "source": [
    "## __Writing data from R__\n",
    "There are several options here depending on what you want to save and how you intend to use the saved data. You can write data to a CSV file which most people and systems will be able to import or you can save R data structures which can be loaded, ready-to-use into R and, indeed, you can add multiple data structures to one file to make it really easy to reload your data afresh.\n",
    "\n",
    "### _Writing to a CSV file_\n",
    "To write data back out to a CSV file, use <code>write_csv()</code>."
   ]
  },
  {
   "cell_type": "code",
   "execution_count": 10,
   "metadata": {},
   "outputs": [],
   "source": [
    "#write_csv(x=pregnancy, path=\"processed_data/pregnancy.csv\")"
   ]
  },
  {
   "cell_type": "markdown",
   "metadata": {},
   "source": [
    "### _Saving R data as a .RData file_\n",
    "\n",
    "But better still when working in R, we can export the table as an R file - which is not a tidyverse thing, but worth covering while we're here."
   ]
  },
  {
   "cell_type": "markdown",
   "metadata": {},
   "source": [
    "Using <code>save()</code>, you will save the data structure name and reload it to the same name. An advantage of <code>save()</code> is the ability to save more than one object at a time."
   ]
  },
  {
   "cell_type": "code",
   "execution_count": 14,
   "metadata": {},
   "outputs": [
    {
     "data": {
      "text/html": [
       "<table>\n",
       "<caption>A tibble: 6 × 95</caption>\n",
       "<thead>\n",
       "\t<tr><th scope=col>PARENT_ID</th><th scope=col>INFANT_ID</th><th scope=col>DATE_OF_BIRTH</th><th scope=col>EDD</th><th scope=col>BIRTH_PLAN</th><th scope=col>LANGUAGE</th><th scope=col>OTHER_LANGUAGE</th><th scope=col>ETHNICITY</th><th scope=col>OTHER_ETHNICITY</th><th scope=col>RELATIONSHIP_STATUS</th><th scope=col>...</th><th scope=col>SMOKE_NUMBER</th><th scope=col>ALCOHOL</th><th scope=col>EARLY_PREG_ALCOHOL</th><th scope=col>MID_LATE_PREG_ALCOHOL</th><th scope=col>MEDICATION1</th><th scope=col>MEDICATION2</th><th scope=col>MEDICATION3</th><th scope=col>MEDICATION4</th><th scope=col>MEDICATION5</th><th scope=col>MEDICATION6</th></tr>\n",
       "\t<tr><th scope=col>&lt;int&gt;</th><th scope=col>&lt;dbl&gt;</th><th scope=col>&lt;chr&gt;</th><th scope=col>&lt;chr&gt;</th><th scope=col>&lt;chr&gt;</th><th scope=col>&lt;chr&gt;</th><th scope=col>&lt;chr&gt;</th><th scope=col>&lt;chr&gt;</th><th scope=col>&lt;chr&gt;</th><th scope=col>&lt;chr&gt;</th><th scope=col>...</th><th scope=col>&lt;chr&gt;</th><th scope=col>&lt;chr&gt;</th><th scope=col>&lt;chr&gt;</th><th scope=col>&lt;chr&gt;</th><th scope=col>&lt;chr&gt;</th><th scope=col>&lt;chr&gt;</th><th scope=col>&lt;chr&gt;</th><th scope=col>&lt;chr&gt;</th><th scope=col>&lt;chr&gt;</th><th scope=col>&lt;chr&gt;</th></tr>\n",
       "</thead>\n",
       "<tbody>\n",
       "\t<tr><td> 47</td><td> 47.1</td><td>18/12/1965</td><td>30/07/2010</td><td>3</td><td>NA</td><td>NA</td><td>1</td><td>NA</td><td>4</td><td>...</td><td>NA</td><td>0</td><td>NA</td><td>NA</td><td>NA</td><td>NA</td><td>NA</td><td>NA</td><td>NA</td><td>NA</td></tr>\n",
       "\t<tr><td> 47</td><td> 47.2</td><td>18/12/1965</td><td>30/07/2010</td><td>3</td><td>NA</td><td>NA</td><td>1</td><td>NA</td><td>4</td><td>...</td><td>NA</td><td>0</td><td>NA</td><td>NA</td><td>NA</td><td>NA</td><td>NA</td><td>NA</td><td>NA</td><td>NA</td></tr>\n",
       "\t<tr><td> 45</td><td> 45.1</td><td>05/03/1966</td><td>12/07/2010</td><td>3</td><td>1 </td><td>NA</td><td>1</td><td>NA</td><td>4</td><td>...</td><td>NA</td><td>0</td><td>NA</td><td>NA</td><td>13</td><td>NA</td><td>NA</td><td>NA</td><td>NA</td><td>NA</td></tr>\n",
       "\t<tr><td>172</td><td>172.1</td><td>06/03/1967</td><td>27/01/2011</td><td>2</td><td>1 </td><td>NA</td><td>1</td><td>NA</td><td>4</td><td>...</td><td>0 </td><td>1</td><td>NA</td><td>NA</td><td>NA</td><td>NA</td><td>NA</td><td>NA</td><td>NA</td><td>NA</td></tr>\n",
       "\t<tr><td>  8</td><td>  8.1</td><td>24/12/1967</td><td>09/03/2010</td><td>2</td><td>1 </td><td>NA</td><td>1</td><td>NA</td><td>4</td><td>...</td><td>NA</td><td>1</td><td>NA</td><td>NA</td><td>13</td><td>NA</td><td>NA</td><td>NA</td><td>NA</td><td>NA</td></tr>\n",
       "\t<tr><td>301</td><td>301.1</td><td>16/05/1968</td><td>27/04/2011</td><td>1</td><td>1 </td><td>NA</td><td>1</td><td>NA</td><td>2</td><td>...</td><td>3 </td><td>1</td><td>NA</td><td>NA</td><td>NA</td><td>NA</td><td>NA</td><td>NA</td><td>NA</td><td>NA</td></tr>\n",
       "</tbody>\n",
       "</table>\n"
      ],
      "text/latex": [
       "A tibble: 6 × 95\n",
       "\\begin{tabular}{r|lllllllllllllllllllllllllllllllllllllllllllllllllllllllllllllllllllllllllllllllllllllllllllllll}\n",
       " PARENT\\_ID & INFANT\\_ID & DATE\\_OF\\_BIRTH & EDD & BIRTH\\_PLAN & LANGUAGE & OTHER\\_LANGUAGE & ETHNICITY & OTHER\\_ETHNICITY & RELATIONSHIP\\_STATUS & WEIGHT\\_PRE\\_PREGNANCY\\_IN\\_KG & EDUCATION & EMPLOYMENT & OTHER\\_EMPLOYMENT & OCCUPATION\\_CODE & PARTNER & LIVE\\_TOGETHER & PARTNER\\_EDUCATION & PARTNER\\_WORKING & PARTNER\\_OCCUPATION & SALARY & ALLOWANCE & DOBCHILD1 & DOBCHILD2 & DOBCHILD3 & DOBCHILD4 & DOBCHILD5 & DOBCHILD6 & OTHER\\_ADULTS & ADULT1\\_RELATIONSHIP & ADULT1\\_AGE & ADULT2\\_RELATIONSHIP & ADULT2\\_AGE & ADULT3\\_RELATIONSHIP & ADULT3\\_AGE & ADULT4\\_RELATIONSHIP & ADULT4\\_AGE & HOUSE\\_TYPE & HOME\\_OWN & HEAT1 & HEAT2 & HEAT3 & HEAT4 & DOUBLE\\_GLAZED & LOFT & CAVITY & AGE & MOULD\\_VISIBLE & MM\\_BATH & MM\\_BED & MM\\_LIV & MM\\_KITCH & MM\\_HALL & MM\\_FURNISH & NEIGHBOURS & SATISFIED\\_DISSATISFIED & COMMUNITY\\_HOME & HELP\\_NEED & SERVICES & SAFE & INVOLVED & SAD & NERVOUS & RESTLESS & HOPELESS & EFFORT & WORTHLESS & TOTAL\\_K6 & FOLIC\\_NOT\\_TAKEN & FOLIC\\_BEFORE & FOLIC\\_EARLY & FOLIC\\_MID\\_LATE & MULTI\\_NOT\\_TAKEN & MULTI\\_BEFORE & MULTI\\_EARLY & MULTI\\_MID\\_LATE & SUPP\\_NOT\\_TAKEN & SUPP\\_BEFORE & SUPP\\_EARLY & SUPP\\_MID\\_LATE & OTHER\\_BEFORE & OTHER\\_EARLY & OTHER\\_MID\\_LATE & SMOKE\\_ROOM & SMOKE & SMOKE\\_NUMBER & ALCOHOL & EARLY\\_PREG\\_ALCOHOL & MID\\_LATE\\_PREG\\_ALCOHOL & MEDICATION1 & MEDICATION2 & MEDICATION3 & MEDICATION4 & MEDICATION5 & MEDICATION6\\\\\n",
       " <int> & <dbl> & <chr> & <chr> & <chr> & <chr> & <chr> & <chr> & <chr> & <chr> & <chr> & <chr> & <chr> & <chr> & <chr> & <chr> & <chr> & <chr> & <chr> & <chr> & <int> & <chr> & <chr> & <chr> & <chr> & <chr> & <chr> & <chr> & <chr> & <chr> & <chr> & <chr> & <chr> & <chr> & <chr> & <chr> & <chr> & <chr> & <chr> & <chr> & <chr> & <chr> & <chr> & <chr> & <chr> & <chr> & <int> & <chr> & <chr> & <chr> & <chr> & <chr> & <chr> & <chr> & <chr> & <chr> & <chr> & <chr> & <chr> & <chr> & <chr> & <chr> & <chr> & <chr> & <chr> & <chr> & <chr> & <chr> & <chr> & <chr> & <chr> & <chr> & <chr> & <chr> & <chr> & <chr> & <chr> & <chr> & <chr> & <chr> & <chr> & <chr> & <chr> & <chr> & <chr> & <chr> & <chr> & <chr> & <chr> & <chr> & <chr> & <chr> & <chr> & <chr> & <chr>\\\\\n",
       "\\hline\n",
       "\t  47 &  47.1 & 18/12/1965 & 30/07/2010 & 3 & NA & NA & 1 & NA & 4 & 66.68 & 1 & 2 & NA & 2229 & 1 & NA & 1  & 1  & 3312 &  7 & 2 & 07/11/2003 & NA & NA & NA & NA & NA & 0 & NA & NA & NA & NA & NA & NA & NA & NA & 1 & 2 & 1 & 5  & NA & NA & 1 & 1 & 4 & 100 & NA & NA & NA & NA & NA & NA & 2  & 1 & 4 & NA & 2  & NA & NA & NA & 0 & 0 & 1 & 0 & 0 & 0 & 1 & 0 & 1 & 1 & 1 & 0 & 1 & 1 & 1 & 1 & 0 & 0 & 0 & NA & NA & NA & 6 & 0 & NA & 0 & NA & NA & NA & NA & NA & NA & NA & NA\\\\\n",
       "\t  47 &  47.2 & 18/12/1965 & 30/07/2010 & 3 & NA & NA & 1 & NA & 4 & 66.68 & 1 & 2 & NA & 2229 & 1 & NA & 1  & 1  & 3312 &  7 & 2 & 07/11/2003 & NA & NA & NA & NA & NA & 0 & NA & NA & NA & NA & NA & NA & NA & NA & 1 & 2 & 1 & 5  & NA & NA & 1 & 1 & 4 & 100 & NA & NA & NA & NA & NA & NA & 2  & 1 & 4 & NA & 2  & NA & NA & NA & 0 & 0 & 1 & 0 & 0 & 0 & 1 & 0 & 1 & 1 & 1 & 0 & 1 & 1 & 1 & 1 & 0 & 0 & 0 & NA & NA & NA & 6 & 0 & NA & 0 & NA & NA & NA & NA & NA & NA & NA & NA\\\\\n",
       "\t  45 &  45.1 & 05/03/1966 & 12/07/2010 & 3 & 1  & NA & 1 & NA & 4 & 57.15 & 4 & 2 & NA & 4112 & 1 & NA & 3  & 7  & 3411 &  9 & 8 & 29/12/2003 & NA & NA & NA & NA & NA & 0 & NA & NA & NA & NA & NA & NA & NA & NA & 3 & 1 & 5 & NA & NA & NA & 1 & 3 & 2 & 105 & NA & NA & NA & NA & NA & NA & NA & 1 & 2 & 2  & 1  & 3  & 2  & NA & 0 & 0 & 0 & 0 & 0 & 0 & 0 & 0 & 0 & 1 & 0 & 0 & 0 & 0 & 0 & 1 & 0 & 0 & 0 & NA & NA & NA & 6 & 0 & NA & 0 & NA & NA & 13 & NA & NA & NA & NA & NA\\\\\n",
       "\t 172 & 172.1 & 06/03/1967 & 27/01/2011 & 2 & 1  & NA & 1 & NA & 4 & 64.41 & 6 & 1 & NA & 4129 & 1 & NA & 4  & 1  & NA   &  3 & 1 & NA         & NA & NA & NA & NA & NA & 0 & NA & NA & NA & NA & NA & NA & NA & NA & 3 & 2 & 2 & 5  & NA & NA & 1 & 1 & 1 &  65 & NA & NA & NA & 3  & NA & NA & 2  & 1 & 1 & 1  & 1  & 1  & 1  & 2  & 1 & 3 & 3 & 1 & 0 & 1 & 9 & 0 & 1 & 1 & 0 & 1 & 0 & 0 & 0 & 1 & 0 & 0 & 0 & NA & NA & NA & 5 & 1 & 0  & 1 & NA & NA & NA & NA & NA & NA & NA & NA\\\\\n",
       "\t   8 &   8.1 & 24/12/1967 & 09/03/2010 & 2 & 1  & NA & 1 & NA & 4 & 65.77 & 1 & 5 & NA & NA   & 1 & NA & 1  & 1  & NA   & NA & 3 & 07/11/2008 & NA & NA & NA & NA & NA & 1 & 1  & 50 & NA & NA & NA & NA & NA & NA & 3 & 1 & 2 & NA & NA & NA & 3 & 4 & 4 & 110 & NA & NA & 2  & 2  & NA & NA & NA & 1 & 2 & 1  & 4  & 4  & 1  & NA & 0 & 0 & 3 & 0 & 1 & 0 & 4 & 0 & 0 & 0 & 0 & 0 & 0 & 1 & 1 & 0 & 0 & 0 & 0 & NA & NA & NA & 6 & 0 & NA & 1 & NA & NA & 13 & NA & NA & NA & NA & NA\\\\\n",
       "\t 301 & 301.1 & 16/05/1968 & 27/04/2011 & 1 & 1  & NA & 1 & NA & 2 & 53.10 & 3 & 4 & NA & NA   & 0 & NA & NA & NA & NA   &  1 & 5 & 16/05/2000 & NA & NA & NA & NA & NA & 0 & NA & NA & NA & NA & NA & NA & NA & NA & 2 & 2 & 5 & NA & NA & NA & 1 & 1 & 4 &  18 & NA & NA & NA & NA & 3  & NA & 2  & 3 & 2 & NA & NA & 3  & 2  & NA & 0 & 0 & 1 & 0 & 0 & 0 & 1 & 0 & 0 & 1 & 0 & 0 & 0 & 1 & 0 & 1 & 0 & 0 & 0 & NA & NA & NA & 6 & 1 & 3  & 1 & NA & NA & NA & NA & NA & NA & NA & NA\\\\\n",
       "\\end{tabular}\n"
      ],
      "text/markdown": [
       "\n",
       "A tibble: 6 × 95\n",
       "\n",
       "| PARENT_ID &lt;int&gt; | INFANT_ID &lt;dbl&gt; | DATE_OF_BIRTH &lt;chr&gt; | EDD &lt;chr&gt; | BIRTH_PLAN &lt;chr&gt; | LANGUAGE &lt;chr&gt; | OTHER_LANGUAGE &lt;chr&gt; | ETHNICITY &lt;chr&gt; | OTHER_ETHNICITY &lt;chr&gt; | RELATIONSHIP_STATUS &lt;chr&gt; | ... ... | SMOKE_NUMBER &lt;chr&gt; | ALCOHOL &lt;chr&gt; | EARLY_PREG_ALCOHOL &lt;chr&gt; | MID_LATE_PREG_ALCOHOL &lt;chr&gt; | MEDICATION1 &lt;chr&gt; | MEDICATION2 &lt;chr&gt; | MEDICATION3 &lt;chr&gt; | MEDICATION4 &lt;chr&gt; | MEDICATION5 &lt;chr&gt; | MEDICATION6 &lt;chr&gt; |\n",
       "|---|---|---|---|---|---|---|---|---|---|---|---|---|---|---|---|---|---|---|---|---|\n",
       "|  47 |  47.1 | 18/12/1965 | 30/07/2010 | 3 | NA | NA | 1 | NA | 4 | ... | NA | 0 | NA | NA | NA | NA | NA | NA | NA | NA |\n",
       "|  47 |  47.2 | 18/12/1965 | 30/07/2010 | 3 | NA | NA | 1 | NA | 4 | ... | NA | 0 | NA | NA | NA | NA | NA | NA | NA | NA |\n",
       "|  45 |  45.1 | 05/03/1966 | 12/07/2010 | 3 | 1  | NA | 1 | NA | 4 | ... | NA | 0 | NA | NA | 13 | NA | NA | NA | NA | NA |\n",
       "| 172 | 172.1 | 06/03/1967 | 27/01/2011 | 2 | 1  | NA | 1 | NA | 4 | ... | 0  | 1 | NA | NA | NA | NA | NA | NA | NA | NA |\n",
       "|   8 |   8.1 | 24/12/1967 | 09/03/2010 | 2 | 1  | NA | 1 | NA | 4 | ... | NA | 1 | NA | NA | 13 | NA | NA | NA | NA | NA |\n",
       "| 301 | 301.1 | 16/05/1968 | 27/04/2011 | 1 | 1  | NA | 1 | NA | 2 | ... | 3  | 1 | NA | NA | NA | NA | NA | NA | NA | NA |\n",
       "\n"
      ],
      "text/plain": [
       "  PARENT_ID INFANT_ID DATE_OF_BIRTH EDD        BIRTH_PLAN LANGUAGE\n",
       "1  47        47.1     18/12/1965    30/07/2010 3          NA      \n",
       "2  47        47.2     18/12/1965    30/07/2010 3          NA      \n",
       "3  45        45.1     05/03/1966    12/07/2010 3          1       \n",
       "4 172       172.1     06/03/1967    27/01/2011 2          1       \n",
       "5   8         8.1     24/12/1967    09/03/2010 2          1       \n",
       "6 301       301.1     16/05/1968    27/04/2011 1          1       \n",
       "  OTHER_LANGUAGE ETHNICITY OTHER_ETHNICITY RELATIONSHIP_STATUS ... SMOKE_NUMBER\n",
       "1 NA             1         NA              4                   ... NA          \n",
       "2 NA             1         NA              4                   ... NA          \n",
       "3 NA             1         NA              4                   ... NA          \n",
       "4 NA             1         NA              4                   ... 0           \n",
       "5 NA             1         NA              4                   ... NA          \n",
       "6 NA             1         NA              2                   ... 3           \n",
       "  ALCOHOL EARLY_PREG_ALCOHOL MID_LATE_PREG_ALCOHOL MEDICATION1 MEDICATION2\n",
       "1 0       NA                 NA                    NA          NA         \n",
       "2 0       NA                 NA                    NA          NA         \n",
       "3 0       NA                 NA                    13          NA         \n",
       "4 1       NA                 NA                    NA          NA         \n",
       "5 1       NA                 NA                    13          NA         \n",
       "6 1       NA                 NA                    NA          NA         \n",
       "  MEDICATION3 MEDICATION4 MEDICATION5 MEDICATION6\n",
       "1 NA          NA          NA          NA         \n",
       "2 NA          NA          NA          NA         \n",
       "3 NA          NA          NA          NA         \n",
       "4 NA          NA          NA          NA         \n",
       "5 NA          NA          NA          NA         \n",
       "6 NA          NA          NA          NA         "
      ]
     },
     "metadata": {},
     "output_type": "display_data"
    }
   ],
   "source": [
    "#save(pregnancy, file=\"processed_data/pregnancy.RData\", ascii=TRUE)\n",
    "## Can save multiple objects\n",
    "#save(pregnancy, pregnancy_reload, file=\"processed_data/pregnancy.RData\")\n",
    "## To load the data again:\n",
    "#load(\"processed_data/pregnancy.RData\")\n",
    "#head(pregnancy)"
   ]
  },
  {
   "cell_type": "markdown",
   "metadata": {},
   "source": [
    "### _Saving R data as an anonymous data structure (.RDS file)_\n",
    "If you don't want to save the object name specifically (perhaps you want to share with others), use saveRDS/readRDS to save a data structure to an RDS file (binary or ASCII), ASCII may help comparison in version control."
   ]
  },
  {
   "cell_type": "code",
   "execution_count": 11,
   "metadata": {},
   "outputs": [],
   "source": [
    "#saveRDS(pregnancy, \"processed_data/pregnancy.rds\", ascii=TRUE)\n",
    "## To load the data again:\n",
    "#pregnancy_reload <- readRDS(\"processed_data/pregnancy.rds\")"
   ]
  },
  {
   "cell_type": "markdown",
   "metadata": {},
   "source": [
    "<table style=\"text-align:center;\"><tr><td width=\"100\" height=\"20\" style=\"background-color:greenyellow\"></td><td width=\"100\" height=\"20\" style=\"background-color:hotpink\"></td></tr></table>"
   ]
  },
  {
   "cell_type": "markdown",
   "metadata": {},
   "source": [
    "## __General purpose read (for non-tabular data)__\n",
    "In the event that you want to read data that may not be tabular or quite as well formatted, from an unstructured text file for example, we can use <code>read_lines()</code> to read files line by line."
   ]
  },
  {
   "cell_type": "code",
   "execution_count": 11,
   "metadata": {},
   "outputs": [
    {
     "data": {
      "text/html": [
       "<ol class=list-inline>\n",
       "\t<li>'PARENT_ID,INFANT_ID,DATE_OF_BIRTH,EDD,BIRTH_PLAN,LANGUAGE,OTHER_LANGUAGE,ETHNICITY,OTHER_ETHNICITY,RELATIONSHIP_STATUS,WEIGHT_PRE_PREGNANCY_IN_KG,EDUCATION,EMPLOYMENT,OTHER_EMPLOYMENT,OCCUPATION_CODE,PARTNER,LIVE_TOGETHER,PARTNER_EDUCATION,PARTNER_WORKING,PARTNER_OCCUPATION,SALARY,ALLOWANCE,DOBCHILD1,DOBCHILD2,DOBCHILD3,DOBCHILD4,DOBCHILD5,DOBCHILD6,OTHER_ADULTS,ADULT1_RELATIONSHIP,ADULT1_AGE,ADULT2_RELATIONSHIP,ADULT2_AGE,ADULT3_RELATIONSHIP,ADULT3_AGE,ADULT4_RELATIONSHIP,ADULT4_AGE,HOUSE_TYPE,HOME_OWN,HEAT1,HEAT2,HEAT3,HEAT4,DOUBLE_GLAZED,LOFT,CAVITY,AGE,MOULD_VISIBLE,MM_BATH,MM_BED,MM_LIV,MM_KITCH,MM_HALL,MM_FURNISH,NEIGHBOURS,SATISFIED_DISSATISFIED,COMMUNITY_HOME,HELP_NEED,SERVICES,SAFE,INVOLVED,SAD,NERVOUS,RESTLESS,HOPELESS,EFFORT,WORTHLESS,TOTAL_K6,FOLIC_NOT_TAKEN,FOLIC_BEFORE,FOLIC_EARLY,FOLIC_MID_LATE,MULTI_NOT_TAKEN,MULTI_BEFORE,MULTI_EARLY,MULTI_MID_LATE,SUPP_NOT_TAKEN,SUPP_BEFORE,SUPP_EARLY,SUPP_MID_LATE,OTHER_BEFORE,OTHER_EARLY,OTHER_MID_LATE,SMOKE_ROOM,SMOKE,SMOKE_NUMBER,ALCOHOL,EARLY_PREG_ALCOHOL,MID_LATE_PREG_ALCOHOL,MEDICATION1,MEDICATION2,MEDICATION3,MEDICATION4,MEDICATION5,MEDICATION6'</li>\n",
       "\t<li>'47,47.1,18/12/1965,30/07/2010,3,.,.,1,.,4,66.68,1,2,.,2229,1,.,1,1,3312,7,2,07/11/2003,,,,,,0,.,.,.,.,.,.,.,.,1,2,1,5,.,.,1,1,4,100,.,.,.,.,.,.,2,1,4,.,2,.,.,.,0,0,1,0,0,0,1,0,1,1,1,0,1,1,1,1,0,0,0,.,.,.,6,0,.,0,.,.,.,.,.,.,.,.'</li>\n",
       "\t<li>'47,47.2,18/12/1965,30/07/2010,3,.,.,1,.,4,66.68,1,2,.,2229,1,.,1,1,3312,7,2,07/11/2003,,,,,,0,.,.,.,.,.,.,.,.,1,2,1,5,.,.,1,1,4,100,.,.,.,.,.,.,2,1,4,.,2,.,.,.,0,0,1,0,0,0,1,0,1,1,1,0,1,1,1,1,0,0,0,.,.,.,6,0,.,0,.,.,.,.,.,.,.,.'</li>\n",
       "\t<li>'45,45.1,05/03/1966,12/07/2010,3,1,.,1,.,4,57.15,4,2,.,4112,1,.,3,7,3411,9,8,29/12/2003,,,,,,0,.,.,.,.,.,.,.,.,3,1,5,.,.,.,1,3,2,105,.,.,.,.,.,.,.,1,2,2,1,3,2,.,0,0,0,0,0,0,0,0,0,1,0,0,0,0,0,1,0,0,0,.,.,.,6,0,.,0,.,.,13,.,.,.,.,.'</li>\n",
       "\t<li>'172,172.1,06/03/1967,27/01/2011,2,1,.,1,.,4,64.41,6,1,.,4129,1,.,4,1,.,3,1,,,,,,,0,.,.,.,.,.,.,.,.,3,2,2,5,.,.,1,1,1,65,.,.,.,3,.,.,2,1,1,1,1,1,1,2,1,3,3,1,0,1,9,0,1,1,0,1,0,0,0,1,0,0,0,.,.,.,5,1,0,1,.,.,.,.,.,.,.,.'</li>\n",
       "\t<li>'8,8.1,24/12/1967,09/03/2010,2,1,.,1,.,4,65.77,1,5,.,.,1,.,1,1,.,.,3,07/11/2008,,,,,,1,1,50,.,.,.,.,.,.,3,1,2,.,.,.,3,4,4,110,.,.,2,2,.,.,.,1,2,1,4,4,1,.,0,0,3,0,1,0,4,0,0,0,0,0,0,1,1,0,0,0,0,.,.,.,6,0,.,1,.,.,13,.,.,.,.,.'</li>\n",
       "\t<li>'301,301.1,16/05/1968,27/04/2011,1,1,.,1,.,2,53.10,3,4,.,.,0,.,.,.,.,1,5,16/05/2000,,,,,,0,.,.,.,.,.,.,.,.,2,2,5,.,.,.,1,1,4,18,.,.,.,.,3,.,2,3,2,.,.,3,2,.,0,0,1,0,0,0,1,0,0,1,0,0,0,1,0,1,0,0,0,.,.,.,6,1,3,1,.,.,.,.,.,.,.,.'</li>\n",
       "\t<li>'7,7.1,29/07/1968,04/03/2010,2,1,.,1,.,4,.,3,2,.,3219,1,.,1,1,.,6,2,27/11/2003,04/12/2005,,,,,1,1,36,.,.,.,.,.,.,1,2,1,5,.,.,1,3,3,60,.,4,4,.,.,.,.,2,2,2,2,3,.,.,0,1,0,0,0,0,1,1,0,0,0,1,0,0,0,1,0,0,0,.,.,.,6,0,.,0,.,.,12,.,.,.,.,.'</li>\n",
       "\t<li>'451,451.1,09/09/1968,09/03/2012,2,5,Dutch,1,.,4,70.00,1,2,.,.,.,.,1,1,.,6,4,22/02/1999,16/08/2000,25/09/2002,,,,.,1,.,.,.,.,.,.,.,2,2,.,.,.,.,1,1,2,70,.,.,.,.,.,.,2,2,1,1,1,5,1,1,0,2,1,0,1,0,4,0,0,1,0,0,0,1,0,1,0,0,0,.,.,.,6,0,.,0,.,.,2,.,.,.,.,.'</li>\n",
       "\t<li>'455,455.1,24/04/1969,15/03/2012,3,1,.,1,.,4,82.60,3,1,.,.,.,.,2,1,.,4,3,12/11/2007,,,,,,1,1,36,.,.,.,.,.,.,1,2,.,.,.,.,1,1,1,.,.,.,.,.,.,.,.,1,1,1,5,4,1,1,0,1,0,0,0,0,1,0,0,1,0,0,0,0,0,0,0,0,0,.,.,.,6,0,.,1,.,.,8,.,.,.,.,.'</li>\n",
       "</ol>\n"
      ],
      "text/latex": [
       "\\begin{enumerate*}\n",
       "\\item 'PARENT\\_ID,INFANT\\_ID,DATE\\_OF\\_BIRTH,EDD,BIRTH\\_PLAN,LANGUAGE,OTHER\\_LANGUAGE,ETHNICITY,OTHER\\_ETHNICITY,RELATIONSHIP\\_STATUS,WEIGHT\\_PRE\\_PREGNANCY\\_IN\\_KG,EDUCATION,EMPLOYMENT,OTHER\\_EMPLOYMENT,OCCUPATION\\_CODE,PARTNER,LIVE\\_TOGETHER,PARTNER\\_EDUCATION,PARTNER\\_WORKING,PARTNER\\_OCCUPATION,SALARY,ALLOWANCE,DOBCHILD1,DOBCHILD2,DOBCHILD3,DOBCHILD4,DOBCHILD5,DOBCHILD6,OTHER\\_ADULTS,ADULT1\\_RELATIONSHIP,ADULT1\\_AGE,ADULT2\\_RELATIONSHIP,ADULT2\\_AGE,ADULT3\\_RELATIONSHIP,ADULT3\\_AGE,ADULT4\\_RELATIONSHIP,ADULT4\\_AGE,HOUSE\\_TYPE,HOME\\_OWN,HEAT1,HEAT2,HEAT3,HEAT4,DOUBLE\\_GLAZED,LOFT,CAVITY,AGE,MOULD\\_VISIBLE,MM\\_BATH,MM\\_BED,MM\\_LIV,MM\\_KITCH,MM\\_HALL,MM\\_FURNISH,NEIGHBOURS,SATISFIED\\_DISSATISFIED,COMMUNITY\\_HOME,HELP\\_NEED,SERVICES,SAFE,INVOLVED,SAD,NERVOUS,RESTLESS,HOPELESS,EFFORT,WORTHLESS,TOTAL\\_K6,FOLIC\\_NOT\\_TAKEN,FOLIC\\_BEFORE,FOLIC\\_EARLY,FOLIC\\_MID\\_LATE,MULTI\\_NOT\\_TAKEN,MULTI\\_BEFORE,MULTI\\_EARLY,MULTI\\_MID\\_LATE,SUPP\\_NOT\\_TAKEN,SUPP\\_BEFORE,SUPP\\_EARLY,SUPP\\_MID\\_LATE,OTHER\\_BEFORE,OTHER\\_EARLY,OTHER\\_MID\\_LATE,SMOKE\\_ROOM,SMOKE,SMOKE\\_NUMBER,ALCOHOL,EARLY\\_PREG\\_ALCOHOL,MID\\_LATE\\_PREG\\_ALCOHOL,MEDICATION1,MEDICATION2,MEDICATION3,MEDICATION4,MEDICATION5,MEDICATION6'\n",
       "\\item '47,47.1,18/12/1965,30/07/2010,3,.,.,1,.,4,66.68,1,2,.,2229,1,.,1,1,3312,7,2,07/11/2003,,,,,,0,.,.,.,.,.,.,.,.,1,2,1,5,.,.,1,1,4,100,.,.,.,.,.,.,2,1,4,.,2,.,.,.,0,0,1,0,0,0,1,0,1,1,1,0,1,1,1,1,0,0,0,.,.,.,6,0,.,0,.,.,.,.,.,.,.,.'\n",
       "\\item '47,47.2,18/12/1965,30/07/2010,3,.,.,1,.,4,66.68,1,2,.,2229,1,.,1,1,3312,7,2,07/11/2003,,,,,,0,.,.,.,.,.,.,.,.,1,2,1,5,.,.,1,1,4,100,.,.,.,.,.,.,2,1,4,.,2,.,.,.,0,0,1,0,0,0,1,0,1,1,1,0,1,1,1,1,0,0,0,.,.,.,6,0,.,0,.,.,.,.,.,.,.,.'\n",
       "\\item '45,45.1,05/03/1966,12/07/2010,3,1,.,1,.,4,57.15,4,2,.,4112,1,.,3,7,3411,9,8,29/12/2003,,,,,,0,.,.,.,.,.,.,.,.,3,1,5,.,.,.,1,3,2,105,.,.,.,.,.,.,.,1,2,2,1,3,2,.,0,0,0,0,0,0,0,0,0,1,0,0,0,0,0,1,0,0,0,.,.,.,6,0,.,0,.,.,13,.,.,.,.,.'\n",
       "\\item '172,172.1,06/03/1967,27/01/2011,2,1,.,1,.,4,64.41,6,1,.,4129,1,.,4,1,.,3,1,,,,,,,0,.,.,.,.,.,.,.,.,3,2,2,5,.,.,1,1,1,65,.,.,.,3,.,.,2,1,1,1,1,1,1,2,1,3,3,1,0,1,9,0,1,1,0,1,0,0,0,1,0,0,0,.,.,.,5,1,0,1,.,.,.,.,.,.,.,.'\n",
       "\\item '8,8.1,24/12/1967,09/03/2010,2,1,.,1,.,4,65.77,1,5,.,.,1,.,1,1,.,.,3,07/11/2008,,,,,,1,1,50,.,.,.,.,.,.,3,1,2,.,.,.,3,4,4,110,.,.,2,2,.,.,.,1,2,1,4,4,1,.,0,0,3,0,1,0,4,0,0,0,0,0,0,1,1,0,0,0,0,.,.,.,6,0,.,1,.,.,13,.,.,.,.,.'\n",
       "\\item '301,301.1,16/05/1968,27/04/2011,1,1,.,1,.,2,53.10,3,4,.,.,0,.,.,.,.,1,5,16/05/2000,,,,,,0,.,.,.,.,.,.,.,.,2,2,5,.,.,.,1,1,4,18,.,.,.,.,3,.,2,3,2,.,.,3,2,.,0,0,1,0,0,0,1,0,0,1,0,0,0,1,0,1,0,0,0,.,.,.,6,1,3,1,.,.,.,.,.,.,.,.'\n",
       "\\item '7,7.1,29/07/1968,04/03/2010,2,1,.,1,.,4,.,3,2,.,3219,1,.,1,1,.,6,2,27/11/2003,04/12/2005,,,,,1,1,36,.,.,.,.,.,.,1,2,1,5,.,.,1,3,3,60,.,4,4,.,.,.,.,2,2,2,2,3,.,.,0,1,0,0,0,0,1,1,0,0,0,1,0,0,0,1,0,0,0,.,.,.,6,0,.,0,.,.,12,.,.,.,.,.'\n",
       "\\item '451,451.1,09/09/1968,09/03/2012,2,5,Dutch,1,.,4,70.00,1,2,.,.,.,.,1,1,.,6,4,22/02/1999,16/08/2000,25/09/2002,,,,.,1,.,.,.,.,.,.,.,2,2,.,.,.,.,1,1,2,70,.,.,.,.,.,.,2,2,1,1,1,5,1,1,0,2,1,0,1,0,4,0,0,1,0,0,0,1,0,1,0,0,0,.,.,.,6,0,.,0,.,.,2,.,.,.,.,.'\n",
       "\\item '455,455.1,24/04/1969,15/03/2012,3,1,.,1,.,4,82.60,3,1,.,.,.,.,2,1,.,4,3,12/11/2007,,,,,,1,1,36,.,.,.,.,.,.,1,2,.,.,.,.,1,1,1,.,.,.,.,.,.,.,.,1,1,1,5,4,1,1,0,1,0,0,0,0,1,0,0,1,0,0,0,0,0,0,0,0,0,.,.,.,6,0,.,1,.,.,8,.,.,.,.,.'\n",
       "\\end{enumerate*}\n"
      ],
      "text/markdown": [
       "1. 'PARENT_ID,INFANT_ID,DATE_OF_BIRTH,EDD,BIRTH_PLAN,LANGUAGE,OTHER_LANGUAGE,ETHNICITY,OTHER_ETHNICITY,RELATIONSHIP_STATUS,WEIGHT_PRE_PREGNANCY_IN_KG,EDUCATION,EMPLOYMENT,OTHER_EMPLOYMENT,OCCUPATION_CODE,PARTNER,LIVE_TOGETHER,PARTNER_EDUCATION,PARTNER_WORKING,PARTNER_OCCUPATION,SALARY,ALLOWANCE,DOBCHILD1,DOBCHILD2,DOBCHILD3,DOBCHILD4,DOBCHILD5,DOBCHILD6,OTHER_ADULTS,ADULT1_RELATIONSHIP,ADULT1_AGE,ADULT2_RELATIONSHIP,ADULT2_AGE,ADULT3_RELATIONSHIP,ADULT3_AGE,ADULT4_RELATIONSHIP,ADULT4_AGE,HOUSE_TYPE,HOME_OWN,HEAT1,HEAT2,HEAT3,HEAT4,DOUBLE_GLAZED,LOFT,CAVITY,AGE,MOULD_VISIBLE,MM_BATH,MM_BED,MM_LIV,MM_KITCH,MM_HALL,MM_FURNISH,NEIGHBOURS,SATISFIED_DISSATISFIED,COMMUNITY_HOME,HELP_NEED,SERVICES,SAFE,INVOLVED,SAD,NERVOUS,RESTLESS,HOPELESS,EFFORT,WORTHLESS,TOTAL_K6,FOLIC_NOT_TAKEN,FOLIC_BEFORE,FOLIC_EARLY,FOLIC_MID_LATE,MULTI_NOT_TAKEN,MULTI_BEFORE,MULTI_EARLY,MULTI_MID_LATE,SUPP_NOT_TAKEN,SUPP_BEFORE,SUPP_EARLY,SUPP_MID_LATE,OTHER_BEFORE,OTHER_EARLY,OTHER_MID_LATE,SMOKE_ROOM,SMOKE,SMOKE_NUMBER,ALCOHOL,EARLY_PREG_ALCOHOL,MID_LATE_PREG_ALCOHOL,MEDICATION1,MEDICATION2,MEDICATION3,MEDICATION4,MEDICATION5,MEDICATION6'\n",
       "2. '47,47.1,18/12/1965,30/07/2010,3,.,.,1,.,4,66.68,1,2,.,2229,1,.,1,1,3312,7,2,07/11/2003,,,,,,0,.,.,.,.,.,.,.,.,1,2,1,5,.,.,1,1,4,100,.,.,.,.,.,.,2,1,4,.,2,.,.,.,0,0,1,0,0,0,1,0,1,1,1,0,1,1,1,1,0,0,0,.,.,.,6,0,.,0,.,.,.,.,.,.,.,.'\n",
       "3. '47,47.2,18/12/1965,30/07/2010,3,.,.,1,.,4,66.68,1,2,.,2229,1,.,1,1,3312,7,2,07/11/2003,,,,,,0,.,.,.,.,.,.,.,.,1,2,1,5,.,.,1,1,4,100,.,.,.,.,.,.,2,1,4,.,2,.,.,.,0,0,1,0,0,0,1,0,1,1,1,0,1,1,1,1,0,0,0,.,.,.,6,0,.,0,.,.,.,.,.,.,.,.'\n",
       "4. '45,45.1,05/03/1966,12/07/2010,3,1,.,1,.,4,57.15,4,2,.,4112,1,.,3,7,3411,9,8,29/12/2003,,,,,,0,.,.,.,.,.,.,.,.,3,1,5,.,.,.,1,3,2,105,.,.,.,.,.,.,.,1,2,2,1,3,2,.,0,0,0,0,0,0,0,0,0,1,0,0,0,0,0,1,0,0,0,.,.,.,6,0,.,0,.,.,13,.,.,.,.,.'\n",
       "5. '172,172.1,06/03/1967,27/01/2011,2,1,.,1,.,4,64.41,6,1,.,4129,1,.,4,1,.,3,1,,,,,,,0,.,.,.,.,.,.,.,.,3,2,2,5,.,.,1,1,1,65,.,.,.,3,.,.,2,1,1,1,1,1,1,2,1,3,3,1,0,1,9,0,1,1,0,1,0,0,0,1,0,0,0,.,.,.,5,1,0,1,.,.,.,.,.,.,.,.'\n",
       "6. '8,8.1,24/12/1967,09/03/2010,2,1,.,1,.,4,65.77,1,5,.,.,1,.,1,1,.,.,3,07/11/2008,,,,,,1,1,50,.,.,.,.,.,.,3,1,2,.,.,.,3,4,4,110,.,.,2,2,.,.,.,1,2,1,4,4,1,.,0,0,3,0,1,0,4,0,0,0,0,0,0,1,1,0,0,0,0,.,.,.,6,0,.,1,.,.,13,.,.,.,.,.'\n",
       "7. '301,301.1,16/05/1968,27/04/2011,1,1,.,1,.,2,53.10,3,4,.,.,0,.,.,.,.,1,5,16/05/2000,,,,,,0,.,.,.,.,.,.,.,.,2,2,5,.,.,.,1,1,4,18,.,.,.,.,3,.,2,3,2,.,.,3,2,.,0,0,1,0,0,0,1,0,0,1,0,0,0,1,0,1,0,0,0,.,.,.,6,1,3,1,.,.,.,.,.,.,.,.'\n",
       "8. '7,7.1,29/07/1968,04/03/2010,2,1,.,1,.,4,.,3,2,.,3219,1,.,1,1,.,6,2,27/11/2003,04/12/2005,,,,,1,1,36,.,.,.,.,.,.,1,2,1,5,.,.,1,3,3,60,.,4,4,.,.,.,.,2,2,2,2,3,.,.,0,1,0,0,0,0,1,1,0,0,0,1,0,0,0,1,0,0,0,.,.,.,6,0,.,0,.,.,12,.,.,.,.,.'\n",
       "9. '451,451.1,09/09/1968,09/03/2012,2,5,Dutch,1,.,4,70.00,1,2,.,.,.,.,1,1,.,6,4,22/02/1999,16/08/2000,25/09/2002,,,,.,1,.,.,.,.,.,.,.,2,2,.,.,.,.,1,1,2,70,.,.,.,.,.,.,2,2,1,1,1,5,1,1,0,2,1,0,1,0,4,0,0,1,0,0,0,1,0,1,0,0,0,.,.,.,6,0,.,0,.,.,2,.,.,.,.,.'\n",
       "10. '455,455.1,24/04/1969,15/03/2012,3,1,.,1,.,4,82.60,3,1,.,.,.,.,2,1,.,4,3,12/11/2007,,,,,,1,1,36,.,.,.,.,.,.,1,2,.,.,.,.,1,1,1,.,.,.,.,.,.,.,.,1,1,1,5,4,1,1,0,1,0,0,0,0,1,0,0,1,0,0,0,0,0,0,0,0,0,.,.,.,6,0,.,1,.,.,8,.,.,.,.,.'\n",
       "\n",
       "\n"
      ],
      "text/plain": [
       " [1] \"PARENT_ID,INFANT_ID,DATE_OF_BIRTH,EDD,BIRTH_PLAN,LANGUAGE,OTHER_LANGUAGE,ETHNICITY,OTHER_ETHNICITY,RELATIONSHIP_STATUS,WEIGHT_PRE_PREGNANCY_IN_KG,EDUCATION,EMPLOYMENT,OTHER_EMPLOYMENT,OCCUPATION_CODE,PARTNER,LIVE_TOGETHER,PARTNER_EDUCATION,PARTNER_WORKING,PARTNER_OCCUPATION,SALARY,ALLOWANCE,DOBCHILD1,DOBCHILD2,DOBCHILD3,DOBCHILD4,DOBCHILD5,DOBCHILD6,OTHER_ADULTS,ADULT1_RELATIONSHIP,ADULT1_AGE,ADULT2_RELATIONSHIP,ADULT2_AGE,ADULT3_RELATIONSHIP,ADULT3_AGE,ADULT4_RELATIONSHIP,ADULT4_AGE,HOUSE_TYPE,HOME_OWN,HEAT1,HEAT2,HEAT3,HEAT4,DOUBLE_GLAZED,LOFT,CAVITY,AGE,MOULD_VISIBLE,MM_BATH,MM_BED,MM_LIV,MM_KITCH,MM_HALL,MM_FURNISH,NEIGHBOURS,SATISFIED_DISSATISFIED,COMMUNITY_HOME,HELP_NEED,SERVICES,SAFE,INVOLVED,SAD,NERVOUS,RESTLESS,HOPELESS,EFFORT,WORTHLESS,TOTAL_K6,FOLIC_NOT_TAKEN,FOLIC_BEFORE,FOLIC_EARLY,FOLIC_MID_LATE,MULTI_NOT_TAKEN,MULTI_BEFORE,MULTI_EARLY,MULTI_MID_LATE,SUPP_NOT_TAKEN,SUPP_BEFORE,SUPP_EARLY,SUPP_MID_LATE,OTHER_BEFORE,OTHER_EARLY,OTHER_MID_LATE,SMOKE_ROOM,SMOKE,SMOKE_NUMBER,ALCOHOL,EARLY_PREG_ALCOHOL,MID_LATE_PREG_ALCOHOL,MEDICATION1,MEDICATION2,MEDICATION3,MEDICATION4,MEDICATION5,MEDICATION6\"\n",
       " [2] \"47,47.1,18/12/1965,30/07/2010,3,.,.,1,.,4,66.68,1,2,.,2229,1,.,1,1,3312,7,2,07/11/2003,,,,,,0,.,.,.,.,.,.,.,.,1,2,1,5,.,.,1,1,4,100,.,.,.,.,.,.,2,1,4,.,2,.,.,.,0,0,1,0,0,0,1,0,1,1,1,0,1,1,1,1,0,0,0,.,.,.,6,0,.,0,.,.,.,.,.,.,.,.\"                                                                                                                                                                                                                                                                                                                                                                                                                                                                                                                                                                                                                                                                                                                                                                                                                                                                                                                            \n",
       " [3] \"47,47.2,18/12/1965,30/07/2010,3,.,.,1,.,4,66.68,1,2,.,2229,1,.,1,1,3312,7,2,07/11/2003,,,,,,0,.,.,.,.,.,.,.,.,1,2,1,5,.,.,1,1,4,100,.,.,.,.,.,.,2,1,4,.,2,.,.,.,0,0,1,0,0,0,1,0,1,1,1,0,1,1,1,1,0,0,0,.,.,.,6,0,.,0,.,.,.,.,.,.,.,.\"                                                                                                                                                                                                                                                                                                                                                                                                                                                                                                                                                                                                                                                                                                                                                                                                                                                                                                                            \n",
       " [4] \"45,45.1,05/03/1966,12/07/2010,3,1,.,1,.,4,57.15,4,2,.,4112,1,.,3,7,3411,9,8,29/12/2003,,,,,,0,.,.,.,.,.,.,.,.,3,1,5,.,.,.,1,3,2,105,.,.,.,.,.,.,.,1,2,2,1,3,2,.,0,0,0,0,0,0,0,0,0,1,0,0,0,0,0,1,0,0,0,.,.,.,6,0,.,0,.,.,13,.,.,.,.,.\"                                                                                                                                                                                                                                                                                                                                                                                                                                                                                                                                                                                                                                                                                                                                                                                                                                                                                                                           \n",
       " [5] \"172,172.1,06/03/1967,27/01/2011,2,1,.,1,.,4,64.41,6,1,.,4129,1,.,4,1,.,3,1,,,,,,,0,.,.,.,.,.,.,.,.,3,2,2,5,.,.,1,1,1,65,.,.,.,3,.,.,2,1,1,1,1,1,1,2,1,3,3,1,0,1,9,0,1,1,0,1,0,0,0,1,0,0,0,.,.,.,5,1,0,1,.,.,.,.,.,.,.,.\"                                                                                                                                                                                                                                                                                                                                                                                                                                                                                                                                                                                                                                                                                                                                                                                                                                                                                                                                        \n",
       " [6] \"8,8.1,24/12/1967,09/03/2010,2,1,.,1,.,4,65.77,1,5,.,.,1,.,1,1,.,.,3,07/11/2008,,,,,,1,1,50,.,.,.,.,.,.,3,1,2,.,.,.,3,4,4,110,.,.,2,2,.,.,.,1,2,1,4,4,1,.,0,0,3,0,1,0,4,0,0,0,0,0,0,1,1,0,0,0,0,.,.,.,6,0,.,1,.,.,13,.,.,.,.,.\"                                                                                                                                                                                                                                                                                                                                                                                                                                                                                                                                                                                                                                                                                                                                                                                                                                                                                                                                  \n",
       " [7] \"301,301.1,16/05/1968,27/04/2011,1,1,.,1,.,2,53.10,3,4,.,.,0,.,.,.,.,1,5,16/05/2000,,,,,,0,.,.,.,.,.,.,.,.,2,2,5,.,.,.,1,1,4,18,.,.,.,.,3,.,2,3,2,.,.,3,2,.,0,0,1,0,0,0,1,0,0,1,0,0,0,1,0,1,0,0,0,.,.,.,6,1,3,1,.,.,.,.,.,.,.,.\"                                                                                                                                                                                                                                                                                                                                                                                                                                                                                                                                                                                                                                                                                                                                                                                                                                                                                                                                 \n",
       " [8] \"7,7.1,29/07/1968,04/03/2010,2,1,.,1,.,4,.,3,2,.,3219,1,.,1,1,.,6,2,27/11/2003,04/12/2005,,,,,1,1,36,.,.,.,.,.,.,1,2,1,5,.,.,1,3,3,60,.,4,4,.,.,.,.,2,2,2,2,3,.,.,0,1,0,0,0,0,1,1,0,0,0,1,0,0,0,1,0,0,0,.,.,.,6,0,.,0,.,.,12,.,.,.,.,.\"                                                                                                                                                                                                                                                                                                                                                                                                                                                                                                                                                                                                                                                                                                                                                                                                                                                                                                                          \n",
       " [9] \"451,451.1,09/09/1968,09/03/2012,2,5,Dutch,1,.,4,70.00,1,2,.,.,.,.,1,1,.,6,4,22/02/1999,16/08/2000,25/09/2002,,,,.,1,.,.,.,.,.,.,.,2,2,.,.,.,.,1,1,2,70,.,.,.,.,.,.,2,2,1,1,1,5,1,1,0,2,1,0,1,0,4,0,0,1,0,0,0,1,0,1,0,0,0,.,.,.,6,0,.,0,.,.,2,.,.,.,.,.\"                                                                                                                                                                                                                                                                                                                                                                                                                                                                                                                                                                                                                                                                                                                                                                                                                                                                                                         \n",
       "[10] \"455,455.1,24/04/1969,15/03/2012,3,1,.,1,.,4,82.60,3,1,.,.,.,.,2,1,.,4,3,12/11/2007,,,,,,1,1,36,.,.,.,.,.,.,1,2,.,.,.,.,1,1,1,.,.,.,.,.,.,.,.,1,1,1,5,4,1,1,0,1,0,0,0,0,1,0,0,1,0,0,0,0,0,0,0,0,0,.,.,.,6,0,.,1,.,.,8,.,.,.,.,.\"                                                                                                                                                                                                                                                                                                                                                                                                                                                                                                                                                                                                                                                                                                                                                                                                                                                                                                                                 "
      ]
     },
     "metadata": {},
     "output_type": "display_data"
    }
   ],
   "source": [
    "#read_lines(file=\"data/pregnancy.csv\", n_max=10)"
   ]
  },
  {
   "cell_type": "markdown",
   "metadata": {},
   "source": [
    "<table width='100%'><tr>\n",
    "    <td style='background-color:red; text-align:center; color: white;'><!--Foundation<!--hr size='5' style='border-color:red; background-color:red;'--></td>\n",
    "    <td style='background-color:yellow; text-align:center;'><!--Level 1<!--hr size='5' style='border-color:yellow; background-color:yellow;'--></td>\n",
    "    <td style='background-color:orange; text-align:center;'><!--Level 2<!--hr size='5' style='border-color:orange; background-color:orange;'--></td>\n",
    "    <td style='background-color:green; text-align:center; color: white;'><!--Level 3<!--hr size='5' style='border-color:orange; background-color:orange;'--></td>\n",
    "    <td style='background-color:blue; text-align:center; color: white;'><!--Level 4<!--hr size='5' style='border-color:orange; background-color:orange;'--></td>\n",
    "    <td style='background-color:purple; text-align:center; color: white;'><!--Level 5<!--hr size='5' style='border-color:orange; background-color:orange;'--></td>\n",
    "    <td style='background-color:brown; text-align:center; color: white;'><!--Level 6<!--hr size='5' style='border-color:orange; background-color:orange;'--></td>\n",
    "    <td style='background-color:black; text-align:center; color: white;'><!--Level 7<!--hr size='5' style='border-color:orange; background-color:orange;'--></td>\n",
    "</tr></table>"
   ]
  }
 ],
 "metadata": {
  "kernelspec": {
   "display_name": "R",
   "language": "R",
   "name": "ir"
  },
  "language_info": {
   "codemirror_mode": "r",
   "file_extension": ".r",
   "mimetype": "text/x-r-source",
   "name": "R",
   "pygments_lexer": "r",
   "version": "4.0.2"
  }
 },
 "nbformat": 4,
 "nbformat_minor": 4
}