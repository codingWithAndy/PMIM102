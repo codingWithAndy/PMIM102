{
 "cells": [
  {
   "cell_type": "markdown",
   "metadata": {},
   "source": [
    "<table width='100%'><tr>\n",
    "    <td style='background-color:red; text-align:center; color: white;'><!--Foundation<!--hr size='5' style='border-color:red; background-color:red;'--></td>\n",
    "    <td style='background-color:yellow; text-align:center;'><!--Level 1<!--hr size='5' style='border-color:yellow; background-color:yellow;'--></td>\n",
    "    <td style='background-color:orange; text-align:center;'><!--Level 2<!--hr size='5' style='border-color:orange; background-color:orange;'--></td>\n",
    "    <td style='background-color:green; text-align:center; color: white;'><!--Level 3<!--hr size='5' style='border-color:orange; background-color:orange;'--></td>\n",
    "    <td style='background-color:blue; text-align:center; color: white;'><!--Level 4<!--hr size='5' style='border-color:orange; background-color:orange;'--></td>\n",
    "    <td style='background-color:purple; text-align:center; color: white;'><!--Level 5<!--hr size='5' style='border-color:orange; background-color:orange;'--></td>\n",
    "    <td style='background-color:brown; text-align:center; color: white;'><!--Level 6<!--hr size='5' style='border-color:orange; background-color:orange;'--></td>\n",
    "    <td style='background-color:black; text-align:center; color: white;'><!--Level 7<!--hr size='5' style='border-color:orange; background-color:orange;'--></td>\n",
    "</tr></table>"
   ]
  },
  {
   "cell_type": "markdown",
   "metadata": {},
   "source": [
    "<table style='border-left:10px solid orange;'><tr>\n",
    "    <td style='padding-left:20px;'>\n",
    "        <h2><i>Swansea University Medical School</i><br/><b>MSc Health Data Science</b></h2>\n",
    "        <h3>PMIM-102 Introduction to Scientific Computing in Healthcare</h3>\n",
    "        <h1><b>Introduction to Programming in R</b></h1>\n",
    "        <h2><b>3. The Tidyverse</b></h2>\n",
    "        <h2><i>Part 3: Transforming the data.</i></h2>\n",
    "        <h3><i>September 2020</i></h3>\n",
    "        <h3><b>To-do</b></h3>\n",
    "        <ul>\n",
    "            <li>Find a nice join example.</li>\n",
    "        </ul>\n",
    "    </td>\n",
    "    <td><img height='300' width='500' src='images/cover.jpg'/></td>\n",
    "</tr></table>"
   ]
  },
  {
   "cell_type": "markdown",
   "metadata": {},
   "source": [
    "## __Aim__: Use the tools available in R to manipulate tables of data.\n",
    "\n",
    "The aim of this session is to concentrate on the core activities in working with large datasets: moving, cleaning and transforming table data to facilitate analyses. Whilst this is possible using base-R, the facilities provided by the libraries in the __Tidyverse__ make it considerably __easier__ and the resulting code __more readable__.\n",
    "\n",
    "### __A map of where we're going__\n",
    "\n",
    "1. <b>Introduction</b> - What is the process, the problems with standard R and the structure of 'tidy' data.\n",
    "\n",
    "1. <b>Acquiring data</b> - Getting data into R from files (<b>readr</b>).\n",
    "\n",
    "1. <b>Tidying the data</b> - Handling missing data and reshaping the tables (<b>tidyr</b>).\n",
    "\n",
    "1. <div style=\"background-color:yellow;\"><b>Transforming the data</b> - Selecting and converting the data ready to analyse (<b>dplyr</b>).</div>\n",
    "\n",
    "1. <b>Working with specific data types in tidyverse</b>: strings (<b>stringr</b>), dates (<b>lubridate</b>), factors (<b>forcats</b>).\n",
    "\n",
    "1. <b>Plotting &amp; Data visualisation</b> - beyond the simple R plot etc. (<b>ggplot2</b>).\n",
    "\n",
    "1. <b>Extras</b> - Things worth knowing of so that you can use them if you ever need them.\n",
    " * Applying functions and working with lists (purrr).\n",
    " * Tidy evaluation (rlang).\n",
    " * Communicating your results with a dynamic, R-based website (shiny)."
   ]
  },
  {
   "cell_type": "markdown",
   "metadata": {},
   "source": [
    "## __Load the Tidyverse__\n",
    "\n",
    "The first thing to do is make sure the library is loaded. If you have not already installed it, do so not using the <code>install.packages()</code> function."
   ]
  },
  {
   "cell_type": "code",
   "execution_count": 4,
   "metadata": {},
   "outputs": [
    {
     "name": "stderr",
     "output_type": "stream",
     "text": [
      "-- \u001b[1mAttaching packages\u001b[22m --------------------------------------- tidyverse 1.3.0 --\n",
      "\n",
      "\u001b[32mv\u001b[39m \u001b[34mggplot2\u001b[39m 3.3.2     \u001b[32mv\u001b[39m \u001b[34mpurrr  \u001b[39m 0.3.4\n",
      "\u001b[32mv\u001b[39m \u001b[34mtibble \u001b[39m 3.0.3     \u001b[32mv\u001b[39m \u001b[34mdplyr  \u001b[39m 1.0.2\n",
      "\u001b[32mv\u001b[39m \u001b[34mtidyr  \u001b[39m 1.1.2     \u001b[32mv\u001b[39m \u001b[34mstringr\u001b[39m 1.4.0\n",
      "\u001b[32mv\u001b[39m \u001b[34mreadr  \u001b[39m 1.3.1     \u001b[32mv\u001b[39m \u001b[34mforcats\u001b[39m 0.5.0\n",
      "\n",
      "-- \u001b[1mConflicts\u001b[22m ------------------------------------------ tidyverse_conflicts() --\n",
      "\u001b[31mx\u001b[39m \u001b[34mdplyr\u001b[39m::\u001b[32mfilter()\u001b[39m masks \u001b[34mstats\u001b[39m::filter()\n",
      "\u001b[31mx\u001b[39m \u001b[34mdplyr\u001b[39m::\u001b[32mlag()\u001b[39m    masks \u001b[34mstats\u001b[39m::lag()\n",
      "\n"
     ]
    }
   ],
   "source": [
    "## install.packages('tidyverse')\n",
    "#library(tidyverse)"
   ]
  },
  {
   "cell_type": "markdown",
   "metadata": {},
   "source": [
    "And load in the pregnancy data to play with."
   ]
  },
  {
   "cell_type": "code",
   "execution_count": 35,
   "metadata": {},
   "outputs": [
    {
     "name": "stderr",
     "output_type": "stream",
     "text": [
      "Parsed with column specification:\n",
      "cols(\n",
      "  .default = col_character(),\n",
      "  PARENT_ID = \u001b[32mcol_double()\u001b[39m,\n",
      "  INFANT_ID = \u001b[32mcol_double()\u001b[39m\n",
      ")\n",
      "\n",
      "See spec(...) for full column specifications.\n",
      "\n"
     ]
    },
    {
     "data": {
      "text/html": [
       "<table>\n",
       "<caption>A tibble: 6 × 95</caption>\n",
       "<thead>\n",
       "\t<tr><th scope=col>PARENT_ID</th><th scope=col>INFANT_ID</th><th scope=col>DATE_OF_BIRTH</th><th scope=col>EDD</th><th scope=col>BIRTH_PLAN</th><th scope=col>LANGUAGE</th><th scope=col>OTHER_LANGUAGE</th><th scope=col>ETHNICITY</th><th scope=col>OTHER_ETHNICITY</th><th scope=col>RELATIONSHIP_STATUS</th><th scope=col>...</th><th scope=col>SMOKE_NUMBER</th><th scope=col>ALCOHOL</th><th scope=col>EARLY_PREG_ALCOHOL</th><th scope=col>MID_LATE_PREG_ALCOHOL</th><th scope=col>MEDICATION1</th><th scope=col>MEDICATION2</th><th scope=col>MEDICATION3</th><th scope=col>MEDICATION4</th><th scope=col>MEDICATION5</th><th scope=col>MEDICATION6</th></tr>\n",
       "\t<tr><th scope=col>&lt;dbl&gt;</th><th scope=col>&lt;dbl&gt;</th><th scope=col>&lt;chr&gt;</th><th scope=col>&lt;chr&gt;</th><th scope=col>&lt;chr&gt;</th><th scope=col>&lt;chr&gt;</th><th scope=col>&lt;chr&gt;</th><th scope=col>&lt;chr&gt;</th><th scope=col>&lt;chr&gt;</th><th scope=col>&lt;chr&gt;</th><th scope=col>...</th><th scope=col>&lt;chr&gt;</th><th scope=col>&lt;chr&gt;</th><th scope=col>&lt;chr&gt;</th><th scope=col>&lt;chr&gt;</th><th scope=col>&lt;chr&gt;</th><th scope=col>&lt;chr&gt;</th><th scope=col>&lt;chr&gt;</th><th scope=col>&lt;chr&gt;</th><th scope=col>&lt;chr&gt;</th><th scope=col>&lt;chr&gt;</th></tr>\n",
       "</thead>\n",
       "<tbody>\n",
       "\t<tr><td> 47</td><td> 47.1</td><td>18/12/1965</td><td>30/07/2010</td><td>3</td><td>.</td><td>.</td><td>1</td><td>.</td><td>4</td><td>...</td><td>.</td><td>0</td><td>.</td><td>.</td><td>. </td><td>.</td><td>.</td><td>.</td><td>.</td><td>.</td></tr>\n",
       "\t<tr><td> 47</td><td> 47.2</td><td>18/12/1965</td><td>30/07/2010</td><td>3</td><td>.</td><td>.</td><td>1</td><td>.</td><td>4</td><td>...</td><td>.</td><td>0</td><td>.</td><td>.</td><td>. </td><td>.</td><td>.</td><td>.</td><td>.</td><td>.</td></tr>\n",
       "\t<tr><td> 45</td><td> 45.1</td><td>05/03/1966</td><td>12/07/2010</td><td>3</td><td>1</td><td>.</td><td>1</td><td>.</td><td>4</td><td>...</td><td>.</td><td>0</td><td>.</td><td>.</td><td>13</td><td>.</td><td>.</td><td>.</td><td>.</td><td>.</td></tr>\n",
       "\t<tr><td>172</td><td>172.1</td><td>06/03/1967</td><td>27/01/2011</td><td>2</td><td>1</td><td>.</td><td>1</td><td>.</td><td>4</td><td>...</td><td>0</td><td>1</td><td>.</td><td>.</td><td>. </td><td>.</td><td>.</td><td>.</td><td>.</td><td>.</td></tr>\n",
       "\t<tr><td>  8</td><td>  8.1</td><td>24/12/1967</td><td>09/03/2010</td><td>2</td><td>1</td><td>.</td><td>1</td><td>.</td><td>4</td><td>...</td><td>.</td><td>1</td><td>.</td><td>.</td><td>13</td><td>.</td><td>.</td><td>.</td><td>.</td><td>.</td></tr>\n",
       "\t<tr><td>301</td><td>301.1</td><td>16/05/1968</td><td>27/04/2011</td><td>1</td><td>1</td><td>.</td><td>1</td><td>.</td><td>2</td><td>...</td><td>3</td><td>1</td><td>.</td><td>.</td><td>. </td><td>.</td><td>.</td><td>.</td><td>.</td><td>.</td></tr>\n",
       "</tbody>\n",
       "</table>\n"
      ],
      "text/latex": [
       "A tibble: 6 × 95\n",
       "\\begin{tabular}{lllllllllllllllllllll}\n",
       " PARENT\\_ID & INFANT\\_ID & DATE\\_OF\\_BIRTH & EDD & BIRTH\\_PLAN & LANGUAGE & OTHER\\_LANGUAGE & ETHNICITY & OTHER\\_ETHNICITY & RELATIONSHIP\\_STATUS & ... & SMOKE\\_NUMBER & ALCOHOL & EARLY\\_PREG\\_ALCOHOL & MID\\_LATE\\_PREG\\_ALCOHOL & MEDICATION1 & MEDICATION2 & MEDICATION3 & MEDICATION4 & MEDICATION5 & MEDICATION6\\\\\n",
       " <dbl> & <dbl> & <chr> & <chr> & <chr> & <chr> & <chr> & <chr> & <chr> & <chr> & ... & <chr> & <chr> & <chr> & <chr> & <chr> & <chr> & <chr> & <chr> & <chr> & <chr>\\\\\n",
       "\\hline\n",
       "\t  47 &  47.1 & 18/12/1965 & 30/07/2010 & 3 & . & . & 1 & . & 4 & ... & . & 0 & . & . & .  & . & . & . & . & .\\\\\n",
       "\t  47 &  47.2 & 18/12/1965 & 30/07/2010 & 3 & . & . & 1 & . & 4 & ... & . & 0 & . & . & .  & . & . & . & . & .\\\\\n",
       "\t  45 &  45.1 & 05/03/1966 & 12/07/2010 & 3 & 1 & . & 1 & . & 4 & ... & . & 0 & . & . & 13 & . & . & . & . & .\\\\\n",
       "\t 172 & 172.1 & 06/03/1967 & 27/01/2011 & 2 & 1 & . & 1 & . & 4 & ... & 0 & 1 & . & . & .  & . & . & . & . & .\\\\\n",
       "\t   8 &   8.1 & 24/12/1967 & 09/03/2010 & 2 & 1 & . & 1 & . & 4 & ... & . & 1 & . & . & 13 & . & . & . & . & .\\\\\n",
       "\t 301 & 301.1 & 16/05/1968 & 27/04/2011 & 1 & 1 & . & 1 & . & 2 & ... & 3 & 1 & . & . & .  & . & . & . & . & .\\\\\n",
       "\\end{tabular}\n"
      ],
      "text/markdown": [
       "\n",
       "A tibble: 6 × 95\n",
       "\n",
       "| PARENT_ID &lt;dbl&gt; | INFANT_ID &lt;dbl&gt; | DATE_OF_BIRTH &lt;chr&gt; | EDD &lt;chr&gt; | BIRTH_PLAN &lt;chr&gt; | LANGUAGE &lt;chr&gt; | OTHER_LANGUAGE &lt;chr&gt; | ETHNICITY &lt;chr&gt; | OTHER_ETHNICITY &lt;chr&gt; | RELATIONSHIP_STATUS &lt;chr&gt; | ... ... | SMOKE_NUMBER &lt;chr&gt; | ALCOHOL &lt;chr&gt; | EARLY_PREG_ALCOHOL &lt;chr&gt; | MID_LATE_PREG_ALCOHOL &lt;chr&gt; | MEDICATION1 &lt;chr&gt; | MEDICATION2 &lt;chr&gt; | MEDICATION3 &lt;chr&gt; | MEDICATION4 &lt;chr&gt; | MEDICATION5 &lt;chr&gt; | MEDICATION6 &lt;chr&gt; |\n",
       "|---|---|---|---|---|---|---|---|---|---|---|---|---|---|---|---|---|---|---|---|---|\n",
       "|  47 |  47.1 | 18/12/1965 | 30/07/2010 | 3 | . | . | 1 | . | 4 | ... | . | 0 | . | . | .  | . | . | . | . | . |\n",
       "|  47 |  47.2 | 18/12/1965 | 30/07/2010 | 3 | . | . | 1 | . | 4 | ... | . | 0 | . | . | .  | . | . | . | . | . |\n",
       "|  45 |  45.1 | 05/03/1966 | 12/07/2010 | 3 | 1 | . | 1 | . | 4 | ... | . | 0 | . | . | 13 | . | . | . | . | . |\n",
       "| 172 | 172.1 | 06/03/1967 | 27/01/2011 | 2 | 1 | . | 1 | . | 4 | ... | 0 | 1 | . | . | .  | . | . | . | . | . |\n",
       "|   8 |   8.1 | 24/12/1967 | 09/03/2010 | 2 | 1 | . | 1 | . | 4 | ... | . | 1 | . | . | 13 | . | . | . | . | . |\n",
       "| 301 | 301.1 | 16/05/1968 | 27/04/2011 | 1 | 1 | . | 1 | . | 2 | ... | 3 | 1 | . | . | .  | . | . | . | . | . |\n",
       "\n"
      ],
      "text/plain": [
       "  PARENT_ID INFANT_ID DATE_OF_BIRTH EDD        BIRTH_PLAN LANGUAGE\n",
       "1  47        47.1     18/12/1965    30/07/2010 3          .       \n",
       "2  47        47.2     18/12/1965    30/07/2010 3          .       \n",
       "3  45        45.1     05/03/1966    12/07/2010 3          1       \n",
       "4 172       172.1     06/03/1967    27/01/2011 2          1       \n",
       "5   8         8.1     24/12/1967    09/03/2010 2          1       \n",
       "6 301       301.1     16/05/1968    27/04/2011 1          1       \n",
       "  OTHER_LANGUAGE ETHNICITY OTHER_ETHNICITY RELATIONSHIP_STATUS ... SMOKE_NUMBER\n",
       "1 .              1         .               4                   ... .           \n",
       "2 .              1         .               4                   ... .           \n",
       "3 .              1         .               4                   ... .           \n",
       "4 .              1         .               4                   ... 0           \n",
       "5 .              1         .               4                   ... .           \n",
       "6 .              1         .               2                   ... 3           \n",
       "  ALCOHOL EARLY_PREG_ALCOHOL MID_LATE_PREG_ALCOHOL MEDICATION1 MEDICATION2\n",
       "1 0       .                  .                     .           .          \n",
       "2 0       .                  .                     .           .          \n",
       "3 0       .                  .                     13          .          \n",
       "4 1       .                  .                     .           .          \n",
       "5 1       .                  .                     13          .          \n",
       "6 1       .                  .                     .           .          \n",
       "  MEDICATION3 MEDICATION4 MEDICATION5 MEDICATION6\n",
       "1 .           .           .           .          \n",
       "2 .           .           .           .          \n",
       "3 .           .           .           .          \n",
       "4 .           .           .           .          \n",
       "5 .           .           .           .          \n",
       "6 .           .           .           .          "
      ]
     },
     "metadata": {},
     "output_type": "display_data"
    }
   ],
   "source": [
    "## library(readr)\n",
    "#pregnancy <- read_csv(file=\"data/pregnancy.csv\")\n",
    "#head(pregnancy)"
   ]
  },
  {
   "cell_type": "markdown",
   "metadata": {},
   "source": [
    "## __Transforming the data (dplyr)__\n",
    "\n",
    "These functions are the workhorse of the Tidyverse and are indispensible. They fall into a number of categories:\n",
    "* Selecting/deselecting columns (variables)\n",
    "* Selecting/deselecting rows (cases)\n",
    "* Manipulating and/or creating new columns\n",
    "* Joining data frames together\n",
    "\n",
    "You often find that you base or platform table/data frame is too large or unwieldy to work with and you may find that you need to extract the appropriate data to a separate data frame for processing and then need to recombine the results back into your original data frame.\n",
    "\n",
    "<img src=\"images/tidyverse_process.png\"/>"
   ]
  },
  {
   "cell_type": "markdown",
   "metadata": {},
   "source": [
    "## _Choosing columns / Extracting variables_\n",
    "\n",
    "You can extract or remove specific variables from a table using `select()`. The first parameter you specify is the data frame containing the columns and the remaining parameters are the columns."
   ]
  },
  {
   "cell_type": "code",
   "execution_count": 16,
   "metadata": {},
   "outputs": [
    {
     "name": "stdout",
     "output_type": "stream",
     "text": [
      "\u001b[90m# A tibble: 830 x 3\u001b[39m\n",
      "   PARENT_ID DATE_OF_BIRTH LANGUAGE\n",
      "       \u001b[3m\u001b[90m<dbl>\u001b[39m\u001b[23m \u001b[3m\u001b[90m<chr>\u001b[39m\u001b[23m         \u001b[3m\u001b[90m<chr>\u001b[39m\u001b[23m   \n",
      "\u001b[90m 1\u001b[39m        47 18/12/1965    .       \n",
      "\u001b[90m 2\u001b[39m        47 18/12/1965    .       \n",
      "\u001b[90m 3\u001b[39m        45 05/03/1966    1       \n",
      "\u001b[90m 4\u001b[39m       172 06/03/1967    1       \n",
      "\u001b[90m 5\u001b[39m         8 24/12/1967    1       \n",
      "\u001b[90m 6\u001b[39m       301 16/05/1968    1       \n",
      "\u001b[90m 7\u001b[39m         7 29/07/1968    1       \n",
      "\u001b[90m 8\u001b[39m       451 09/09/1968    5       \n",
      "\u001b[90m 9\u001b[39m       455 24/04/1969    1       \n",
      "\u001b[90m10\u001b[39m       194 14/05/1969    .       \n",
      "\u001b[90m# ... with 820 more rows\u001b[39m\n"
     ]
    }
   ],
   "source": [
    "#df <- select(pregnancy, PARENT_ID, , DATE_OF_BIRTH, LANGUAGE)\n",
    "#print(df)"
   ]
  },
  {
   "cell_type": "markdown",
   "metadata": {},
   "source": [
    "You can remove a column by prefacing its name with a minus sign:"
   ]
  },
  {
   "cell_type": "code",
   "execution_count": 14,
   "metadata": {},
   "outputs": [
    {
     "data": {
      "text/html": [
       "<table>\n",
       "<caption>A tibble: 6 × 2</caption>\n",
       "<thead>\n",
       "\t<tr><th scope=col>PARENT_ID</th><th scope=col>LANGUAGE</th></tr>\n",
       "\t<tr><th scope=col>&lt;dbl&gt;</th><th scope=col>&lt;chr&gt;</th></tr>\n",
       "</thead>\n",
       "<tbody>\n",
       "\t<tr><td> 47</td><td>.</td></tr>\n",
       "\t<tr><td> 47</td><td>.</td></tr>\n",
       "\t<tr><td> 45</td><td>1</td></tr>\n",
       "\t<tr><td>172</td><td>1</td></tr>\n",
       "\t<tr><td>  8</td><td>1</td></tr>\n",
       "\t<tr><td>301</td><td>1</td></tr>\n",
       "</tbody>\n",
       "</table>\n"
      ],
      "text/latex": [
       "A tibble: 6 × 2\n",
       "\\begin{tabular}{ll}\n",
       " PARENT\\_ID & LANGUAGE\\\\\n",
       " <dbl> & <chr>\\\\\n",
       "\\hline\n",
       "\t  47 & .\\\\\n",
       "\t  47 & .\\\\\n",
       "\t  45 & 1\\\\\n",
       "\t 172 & 1\\\\\n",
       "\t   8 & 1\\\\\n",
       "\t 301 & 1\\\\\n",
       "\\end{tabular}\n"
      ],
      "text/markdown": [
       "\n",
       "A tibble: 6 × 2\n",
       "\n",
       "| PARENT_ID &lt;dbl&gt; | LANGUAGE &lt;chr&gt; |\n",
       "|---|---|\n",
       "|  47 | . |\n",
       "|  47 | . |\n",
       "|  45 | 1 |\n",
       "| 172 | 1 |\n",
       "|   8 | 1 |\n",
       "| 301 | 1 |\n",
       "\n"
      ],
      "text/plain": [
       "  PARENT_ID LANGUAGE\n",
       "1  47       .       \n",
       "2  47       .       \n",
       "3  45       1       \n",
       "4 172       1       \n",
       "5   8       1       \n",
       "6 301       1       "
      ]
     },
     "metadata": {},
     "output_type": "display_data"
    }
   ],
   "source": [
    "#df <- select(df, -DATE_OF_BIRTH)\n",
    "#head(df)"
   ]
  },
  {
   "cell_type": "markdown",
   "metadata": {},
   "source": [
    "You can also select columns using some helper functions. The following helpers are available:\n",
    "* contains(match)\n",
    "* starts_with(match)\n",
    "* ends_with(match)\n",
    "* matches(match)\n",
    "* num_range(prefix, range)\n",
    "* one_of(...)\n"
   ]
  },
  {
   "cell_type": "code",
   "execution_count": 24,
   "metadata": {},
   "outputs": [
    {
     "name": "stdout",
     "output_type": "stream",
     "text": [
      "\u001b[90m# A tibble: 830 x 3\u001b[39m\n",
      "   PARENT_ID LANGUAGE OTHER_LANGUAGE\n",
      "       \u001b[3m\u001b[90m<dbl>\u001b[39m\u001b[23m \u001b[3m\u001b[90m<chr>\u001b[39m\u001b[23m    \u001b[3m\u001b[90m<chr>\u001b[39m\u001b[23m         \n",
      "\u001b[90m 1\u001b[39m        47 .        .             \n",
      "\u001b[90m 2\u001b[39m        47 .        .             \n",
      "\u001b[90m 3\u001b[39m        45 1        .             \n",
      "\u001b[90m 4\u001b[39m       172 1        .             \n",
      "\u001b[90m 5\u001b[39m         8 1        .             \n",
      "\u001b[90m 6\u001b[39m       301 1        .             \n",
      "\u001b[90m 7\u001b[39m         7 1        .             \n",
      "\u001b[90m 8\u001b[39m       451 5        Dutch         \n",
      "\u001b[90m 9\u001b[39m       455 1        .             \n",
      "\u001b[90m10\u001b[39m       194 .        .             \n",
      "\u001b[90m# ... with 820 more rows\u001b[39m\n"
     ]
    }
   ],
   "source": [
    "#df <- select(pregnancy, PARENT_ID, contains('LANGUAGE'))\n",
    "#print(df)"
   ]
  },
  {
   "cell_type": "markdown",
   "metadata": {},
   "source": [
    "And there's a `select_if()` function that allows you to conditionally select columns. You can, of course, write your own function to implement any condition you like to decide if a columns should be included."
   ]
  },
  {
   "cell_type": "code",
   "execution_count": 25,
   "metadata": {},
   "outputs": [
    {
     "name": "stdout",
     "output_type": "stream",
     "text": [
      "\u001b[90m# A tibble: 830 x 2\u001b[39m\n",
      "   LANGUAGE OTHER_LANGUAGE\n",
      "   \u001b[3m\u001b[90m<chr>\u001b[39m\u001b[23m    \u001b[3m\u001b[90m<chr>\u001b[39m\u001b[23m         \n",
      "\u001b[90m 1\u001b[39m .        .             \n",
      "\u001b[90m 2\u001b[39m .        .             \n",
      "\u001b[90m 3\u001b[39m 1        .             \n",
      "\u001b[90m 4\u001b[39m 1        .             \n",
      "\u001b[90m 5\u001b[39m 1        .             \n",
      "\u001b[90m 6\u001b[39m 1        .             \n",
      "\u001b[90m 7\u001b[39m 1        .             \n",
      "\u001b[90m 8\u001b[39m 5        Dutch         \n",
      "\u001b[90m 9\u001b[39m 1        .             \n",
      "\u001b[90m10\u001b[39m .        .             \n",
      "\u001b[90m# ... with 820 more rows\u001b[39m\n"
     ]
    }
   ],
   "source": [
    "#df <- select_if(df, is.character)\n",
    "#print(df)"
   ]
  },
  {
   "cell_type": "markdown",
   "metadata": {},
   "source": [
    "### _Pipes_ (magrittr)\n",
    "\n",
    "The library `magrittr` provides us with 'pipes'. A pipe (written as `%>%`) is an operator that doesn't do anything to the data but slightly changes the way we use functions. It allows us to pass the results of one function call as the first parameter of a second. The Tidyverse has been designed such that the first parameter is always the data frame upon which the function operates.\n",
    "\n",
    "So, if we want to select a column from a data frame, instead of:\n",
    "\n",
    "`df <- select(pregnancy, PARENT_ID, contains('LANGUAGE'))`\n",
    "\n",
    "we can use:"
   ]
  },
  {
   "cell_type": "code",
   "execution_count": null,
   "metadata": {},
   "outputs": [],
   "source": [
    "#df <- pregnancy %>% select(PARENT_ID, contains('LANGUAGE'))"
   ]
  },
  {
   "cell_type": "markdown",
   "metadata": {},
   "source": [
    "Which might not seem amazing yet, but then we can keep adding functions to the end of the list with more pipes `%>%`:"
   ]
  },
  {
   "cell_type": "code",
   "execution_count": 29,
   "metadata": {},
   "outputs": [
    {
     "name": "stdout",
     "output_type": "stream",
     "text": [
      "\u001b[90m# A tibble: 6 x 3\u001b[39m\n",
      "  PARENT_ID LANGUAGE OTHER_LANGUAGE\n",
      "      \u001b[3m\u001b[90m<dbl>\u001b[39m\u001b[23m \u001b[3m\u001b[90m<chr>\u001b[39m\u001b[23m    \u001b[3m\u001b[90m<chr>\u001b[39m\u001b[23m         \n",
      "\u001b[90m1\u001b[39m        47 .        .             \n",
      "\u001b[90m2\u001b[39m        47 .        .             \n",
      "\u001b[90m3\u001b[39m        45 1        .             \n",
      "\u001b[90m4\u001b[39m       172 1        .             \n",
      "\u001b[90m5\u001b[39m         8 1        .             \n",
      "\u001b[90m6\u001b[39m       301 1        .             \n"
     ]
    }
   ],
   "source": [
    "#pregnancy %>% select(PARENT_ID, contains('LANGUAGE')) %>% head() %>% print()"
   ]
  },
  {
   "cell_type": "markdown",
   "metadata": {},
   "source": [
    "As we add more `dplyr` functions to our repertoire, you'll find that this becomes truly useful. The result is an incredible increase in the readability of the code.\n",
    "\n",
    "Instead of (looking ahead a bit at some of the functions we're about to cover):"
   ]
  },
  {
   "cell_type": "raw",
   "metadata": {},
   "source": [
    "result <- summarise(group_by(filter(select(df, name, age, status), age > 18), status), n_distinct())\n",
    "                                    |----- the select ---------|\n",
    "                             |------------ the filter --------------------|\n",
    "                    |--------------------- the grouping ---------------------------|\n",
    "          |------------------------------- the summarise ----------------------------------------|"
   ]
  },
  {
   "cell_type": "markdown",
   "metadata": {},
   "source": [
    "we can write:"
   ]
  },
  {
   "cell_type": "raw",
   "metadata": {},
   "source": [
    "result <- df %>% select(name, age, status) %>% filter(age > 18) %>% group_by(status) %>% summarise(n_distinct())\n",
    "                 |---------select--------|     |----filter----|     |---grouping---|     |-----summarise-------|"
   ]
  },
  {
   "cell_type": "markdown",
   "metadata": {},
   "source": [
    "And R will understand when you let this code run over multiple lines as long as you leave the pipe at the end of the line (and this is also useful for adding comments to the code):"
   ]
  },
  {
   "cell_type": "raw",
   "metadata": {},
   "source": [
    "result <- df %>%\n",
    "    # Select important information for adults.\n",
    "    select(name, age, status) %>%     # Just keep the basic data.\n",
    "    filter(age > 18) %>%\n",
    "    # Group by status.\n",
    "    group_by(status) %>%\n",
    "    summarise(n_distinct())"
   ]
  },
  {
   "cell_type": "markdown",
   "metadata": {},
   "source": [
    "## _Summarising the data_\n",
    "\n",
    "dplyr allows us to summarise data using `summarise(function)` which will apply the function to the table and create new table with the summary data. There are other functions available:\n",
    "* quantile() --- get the nth quantile\n",
    "* min()/max() --- minimum and maximum values\n",
    "* IQR() --- interquartile range\n",
    "* sd() --- standard deviation\n",
    "* var() --- variance\n",
    "* first() --- first value\n",
    "* last() --- last value\n",
    "* nth() --- nth value\n",
    "\n",
    "`summarise(n())` is the same as `count()`.\n",
    "\n",
    "N.B. We had to convert the AGE column to an integer in the read_csv call via the cols function. To save you having to go back to the start and doing that, you could use the `as.numeric()` function to convert AGE from a character to a number which `mean()` will understand, or, do that to column in the table."
   ]
  },
  {
   "cell_type": "code",
   "execution_count": 36,
   "metadata": {},
   "outputs": [
    {
     "data": {
      "text/html": [
       "<table>\n",
       "<caption>A tibble: 1 × 1</caption>\n",
       "<thead>\n",
       "\t<tr><th scope=col>n()</th></tr>\n",
       "\t<tr><th scope=col>&lt;int&gt;</th></tr>\n",
       "</thead>\n",
       "<tbody>\n",
       "\t<tr><td>830</td></tr>\n",
       "</tbody>\n",
       "</table>\n"
      ],
      "text/latex": [
       "A tibble: 1 × 1\n",
       "\\begin{tabular}{l}\n",
       " n()\\\\\n",
       " <int>\\\\\n",
       "\\hline\n",
       "\t 830\\\\\n",
       "\\end{tabular}\n"
      ],
      "text/markdown": [
       "\n",
       "A tibble: 1 × 1\n",
       "\n",
       "| n() &lt;int&gt; |\n",
       "|---|\n",
       "| 830 |\n",
       "\n"
      ],
      "text/plain": [
       "  n()\n",
       "1 830"
      ]
     },
     "metadata": {},
     "output_type": "display_data"
    },
    {
     "name": "stderr",
     "output_type": "stream",
     "text": [
      "Warning message in mean.default(AGE, na.rm = TRUE):\n",
      "\"argument is not numeric or logical: returning NA\"\n"
     ]
    },
    {
     "data": {
      "text/html": [
       "<table>\n",
       "<caption>A tibble: 1 × 1</caption>\n",
       "<thead>\n",
       "\t<tr><th scope=col>mean(AGE, na.rm = TRUE)</th></tr>\n",
       "\t<tr><th scope=col>&lt;dbl&gt;</th></tr>\n",
       "</thead>\n",
       "<tbody>\n",
       "\t<tr><td>NA</td></tr>\n",
       "</tbody>\n",
       "</table>\n"
      ],
      "text/latex": [
       "A tibble: 1 × 1\n",
       "\\begin{tabular}{l}\n",
       " mean(AGE, na.rm = TRUE)\\\\\n",
       " <dbl>\\\\\n",
       "\\hline\n",
       "\t NA\\\\\n",
       "\\end{tabular}\n"
      ],
      "text/markdown": [
       "\n",
       "A tibble: 1 × 1\n",
       "\n",
       "| mean(AGE, na.rm = TRUE) &lt;dbl&gt; |\n",
       "|---|\n",
       "| NA |\n",
       "\n"
      ],
      "text/plain": [
       "  mean(AGE, na.rm = TRUE)\n",
       "1 NA                     "
      ]
     },
     "metadata": {},
     "output_type": "display_data"
    },
    {
     "name": "stderr",
     "output_type": "stream",
     "text": [
      "Warning message in mean(as.numeric(AGE), na.rm = TRUE):\n",
      "\"NAs introduced by coercion\"\n"
     ]
    },
    {
     "data": {
      "text/html": [
       "<table>\n",
       "<caption>A tibble: 1 × 1</caption>\n",
       "<thead>\n",
       "\t<tr><th scope=col>mean(as.numeric(AGE), na.rm = TRUE)</th></tr>\n",
       "\t<tr><th scope=col>&lt;dbl&gt;</th></tr>\n",
       "</thead>\n",
       "<tbody>\n",
       "\t<tr><td>58.95842</td></tr>\n",
       "</tbody>\n",
       "</table>\n"
      ],
      "text/latex": [
       "A tibble: 1 × 1\n",
       "\\begin{tabular}{l}\n",
       " mean(as.numeric(AGE), na.rm = TRUE)\\\\\n",
       " <dbl>\\\\\n",
       "\\hline\n",
       "\t 58.95842\\\\\n",
       "\\end{tabular}\n"
      ],
      "text/markdown": [
       "\n",
       "A tibble: 1 × 1\n",
       "\n",
       "| mean(as.numeric(AGE), na.rm = TRUE) &lt;dbl&gt; |\n",
       "|---|\n",
       "| 58.95842 |\n",
       "\n"
      ],
      "text/plain": [
       "  mean(as.numeric(AGE), na.rm = TRUE)\n",
       "1 58.95842                           "
      ]
     },
     "metadata": {},
     "output_type": "display_data"
    },
    {
     "name": "stderr",
     "output_type": "stream",
     "text": [
      "Warning message:\n",
      "\"Problem with `mutate()` input `AGE`.\n",
      "\u001b[34mi\u001b[39m NAs introduced by coercion\n",
      "\u001b[34mi\u001b[39m Input `AGE` is `as.numeric(AGE)`.\"\n",
      "Warning message in mask$eval_all_mutate(dots[[i]]):\n",
      "\"NAs introduced by coercion\"\n"
     ]
    },
    {
     "data": {
      "text/html": [
       "<table>\n",
       "<caption>A tibble: 1 × 1</caption>\n",
       "<thead>\n",
       "\t<tr><th scope=col>median(as.numeric(AGE), na.rm = TRUE)</th></tr>\n",
       "\t<tr><th scope=col>&lt;dbl&gt;</th></tr>\n",
       "</thead>\n",
       "<tbody>\n",
       "\t<tr><td>50.5</td></tr>\n",
       "</tbody>\n",
       "</table>\n"
      ],
      "text/latex": [
       "A tibble: 1 × 1\n",
       "\\begin{tabular}{l}\n",
       " median(as.numeric(AGE), na.rm = TRUE)\\\\\n",
       " <dbl>\\\\\n",
       "\\hline\n",
       "\t 50.5\\\\\n",
       "\\end{tabular}\n"
      ],
      "text/markdown": [
       "\n",
       "A tibble: 1 × 1\n",
       "\n",
       "| median(as.numeric(AGE), na.rm = TRUE) &lt;dbl&gt; |\n",
       "|---|\n",
       "| 50.5 |\n",
       "\n"
      ],
      "text/plain": [
       "  median(as.numeric(AGE), na.rm = TRUE)\n",
       "1 50.5                                 "
      ]
     },
     "metadata": {},
     "output_type": "display_data"
    },
    {
     "data": {
      "text/html": [
       "<table>\n",
       "<caption>A tibble: 1 × 1</caption>\n",
       "<thead>\n",
       "\t<tr><th scope=col>quantile(as.numeric(AGE), 0.75, na.rm = TRUE)</th></tr>\n",
       "\t<tr><th scope=col>&lt;dbl&gt;</th></tr>\n",
       "</thead>\n",
       "<tbody>\n",
       "\t<tr><td>90</td></tr>\n",
       "</tbody>\n",
       "</table>\n"
      ],
      "text/latex": [
       "A tibble: 1 × 1\n",
       "\\begin{tabular}{l}\n",
       " quantile(as.numeric(AGE), 0.75, na.rm = TRUE)\\\\\n",
       " <dbl>\\\\\n",
       "\\hline\n",
       "\t 90\\\\\n",
       "\\end{tabular}\n"
      ],
      "text/markdown": [
       "\n",
       "A tibble: 1 × 1\n",
       "\n",
       "| quantile(as.numeric(AGE), 0.75, na.rm = TRUE) &lt;dbl&gt; |\n",
       "|---|\n",
       "| 90 |\n",
       "\n"
      ],
      "text/plain": [
       "  quantile(as.numeric(AGE), 0.75, na.rm = TRUE)\n",
       "1 90                                           "
      ]
     },
     "metadata": {},
     "output_type": "display_data"
    },
    {
     "data": {
      "text/html": [
       "<table>\n",
       "<caption>A tibble: 1 × 1</caption>\n",
       "<thead>\n",
       "\t<tr><th scope=col>nth(as.numeric(AGE), 50)</th></tr>\n",
       "\t<tr><th scope=col>&lt;dbl&gt;</th></tr>\n",
       "</thead>\n",
       "<tbody>\n",
       "\t<tr><td>110</td></tr>\n",
       "</tbody>\n",
       "</table>\n"
      ],
      "text/latex": [
       "A tibble: 1 × 1\n",
       "\\begin{tabular}{l}\n",
       " nth(as.numeric(AGE), 50)\\\\\n",
       " <dbl>\\\\\n",
       "\\hline\n",
       "\t 110\\\\\n",
       "\\end{tabular}\n"
      ],
      "text/markdown": [
       "\n",
       "A tibble: 1 × 1\n",
       "\n",
       "| nth(as.numeric(AGE), 50) &lt;dbl&gt; |\n",
       "|---|\n",
       "| 110 |\n",
       "\n"
      ],
      "text/plain": [
       "  nth(as.numeric(AGE), 50)\n",
       "1 110                     "
      ]
     },
     "metadata": {},
     "output_type": "display_data"
    }
   ],
   "source": [
    "#library(dplyr)\n",
    "#pregnancy %>% summarise(n())\n",
    "#pregnancy %>% summarise(mean(AGE, na.rm=TRUE))\n",
    "#pregnancy %>% summarise(mean(as.numeric(AGE), na.rm=TRUE))\n",
    "#pregnancy <- pregnancy %>% mutate(AGE=as.numeric(AGE))     # See later for a discussion of 'mutate()'.\n",
    "#pregnancy %>% summarise(median(as.numeric(AGE), na.rm=TRUE))\n",
    "#pregnancy %>% summarise(quantile(as.numeric(AGE), 0.75, na.rm=TRUE))\n",
    "#pregnancy %>% summarise(nth(as.numeric(AGE), 50))"
   ]
  },
  {
   "cell_type": "markdown",
   "metadata": {},
   "source": [
    "With logicals, `mean()` gives the proportion TRUE and `sum()`, the number TRUE (0 = FALSE, everything else = TRUE). For this reason many people will use '1' and '0' as indicators in tables for binary / TRUE and FALSE data."
   ]
  },
  {
   "cell_type": "code",
   "execution_count": 38,
   "metadata": {},
   "outputs": [
    {
     "data": {
      "text/html": [
       "<table>\n",
       "<caption>A tibble: 1 × 1</caption>\n",
       "<thead>\n",
       "\t<tr><th scope=col>mean(ALCOHOL != 0)</th></tr>\n",
       "\t<tr><th scope=col>&lt;dbl&gt;</th></tr>\n",
       "</thead>\n",
       "<tbody>\n",
       "\t<tr><td>0.3771084</td></tr>\n",
       "</tbody>\n",
       "</table>\n"
      ],
      "text/latex": [
       "A tibble: 1 × 1\n",
       "\\begin{tabular}{l}\n",
       " mean(ALCOHOL != 0)\\\\\n",
       " <dbl>\\\\\n",
       "\\hline\n",
       "\t 0.3771084\\\\\n",
       "\\end{tabular}\n"
      ],
      "text/markdown": [
       "\n",
       "A tibble: 1 × 1\n",
       "\n",
       "| mean(ALCOHOL != 0) &lt;dbl&gt; |\n",
       "|---|\n",
       "| 0.3771084 |\n",
       "\n"
      ],
      "text/plain": [
       "  mean(ALCOHOL != 0)\n",
       "1 0.3771084         "
      ]
     },
     "metadata": {},
     "output_type": "display_data"
    },
    {
     "data": {
      "text/html": [
       "<table>\n",
       "<caption>A tibble: 1 × 1</caption>\n",
       "<thead>\n",
       "\t<tr><th scope=col>sum(ALCOHOL != 0)</th></tr>\n",
       "\t<tr><th scope=col>&lt;int&gt;</th></tr>\n",
       "</thead>\n",
       "<tbody>\n",
       "\t<tr><td>313</td></tr>\n",
       "</tbody>\n",
       "</table>\n"
      ],
      "text/latex": [
       "A tibble: 1 × 1\n",
       "\\begin{tabular}{l}\n",
       " sum(ALCOHOL != 0)\\\\\n",
       " <int>\\\\\n",
       "\\hline\n",
       "\t 313\\\\\n",
       "\\end{tabular}\n"
      ],
      "text/markdown": [
       "\n",
       "A tibble: 1 × 1\n",
       "\n",
       "| sum(ALCOHOL != 0) &lt;int&gt; |\n",
       "|---|\n",
       "| 313 |\n",
       "\n"
      ],
      "text/plain": [
       "  sum(ALCOHOL != 0)\n",
       "1 313              "
      ]
     },
     "metadata": {},
     "output_type": "display_data"
    },
    {
     "data": {
      "text/html": [
       "<table>\n",
       "<caption>A tibble: 1 × 1</caption>\n",
       "<thead>\n",
       "\t<tr><th scope=col>sum(ALCOHOL == 0)</th></tr>\n",
       "\t<tr><th scope=col>&lt;int&gt;</th></tr>\n",
       "</thead>\n",
       "<tbody>\n",
       "\t<tr><td>517</td></tr>\n",
       "</tbody>\n",
       "</table>\n"
      ],
      "text/latex": [
       "A tibble: 1 × 1\n",
       "\\begin{tabular}{l}\n",
       " sum(ALCOHOL == 0)\\\\\n",
       " <int>\\\\\n",
       "\\hline\n",
       "\t 517\\\\\n",
       "\\end{tabular}\n"
      ],
      "text/markdown": [
       "\n",
       "A tibble: 1 × 1\n",
       "\n",
       "| sum(ALCOHOL == 0) &lt;int&gt; |\n",
       "|---|\n",
       "| 517 |\n",
       "\n"
      ],
      "text/plain": [
       "  sum(ALCOHOL == 0)\n",
       "1 517              "
      ]
     },
     "metadata": {},
     "output_type": "display_data"
    }
   ],
   "source": [
    "#pregnancy %>% filter(!is.na(ALCOHOL)) %>% summarise(mean(ALCOHOL!=0))\n",
    "#pregnancy %>% filter(!is.na(ALCOHOL)) %>% summarise(sum(ALCOHOL!=0))\n",
    "#pregnancy %>% filter(!is.na(ALCOHOL)) %>% summarise(sum(ALCOHOL==0))\n"
   ]
  },
  {
   "cell_type": "markdown",
   "metadata": {},
   "source": [
    "The summarise function can be applied to all columns with `summarise_all()`, to more than one column with `summarise_at()` or to types of column with `summarise_if()`:"
   ]
  },
  {
   "cell_type": "code",
   "execution_count": 54,
   "metadata": {},
   "outputs": [
    {
     "name": "stderr",
     "output_type": "stream",
     "text": [
      "Warning message in mean.default(DATE_OF_BIRTH):\n",
      "\"argument is not numeric or logical: returning NA\"\n",
      "Warning message in mean.default(EDD):\n",
      "\"argument is not numeric or logical: returning NA\"\n",
      "Warning message in mean.default(BIRTH_PLAN):\n",
      "\"argument is not numeric or logical: returning NA\"\n",
      "Warning message in mean.default(LANGUAGE):\n",
      "\"argument is not numeric or logical: returning NA\"\n",
      "Warning message in mean.default(OTHER_LANGUAGE):\n",
      "\"argument is not numeric or logical: returning NA\"\n",
      "Warning message in mean.default(ETHNICITY):\n",
      "\"argument is not numeric or logical: returning NA\"\n",
      "Warning message in mean.default(OTHER_ETHNICITY):\n",
      "\"argument is not numeric or logical: returning NA\"\n",
      "Warning message in mean.default(RELATIONSHIP_STATUS):\n",
      "\"argument is not numeric or logical: returning NA\"\n",
      "Warning message in mean.default(WEIGHT_PRE_PREGNANCY_IN_KG):\n",
      "\"argument is not numeric or logical: returning NA\"\n",
      "Warning message in mean.default(EDUCATION):\n",
      "\"argument is not numeric or logical: returning NA\"\n",
      "Warning message in mean.default(EMPLOYMENT):\n",
      "\"argument is not numeric or logical: returning NA\"\n",
      "Warning message in mean.default(OTHER_EMPLOYMENT):\n",
      "\"argument is not numeric or logical: returning NA\"\n",
      "Warning message in mean.default(OCCUPATION_CODE):\n",
      "\"argument is not numeric or logical: returning NA\"\n",
      "Warning message in mean.default(PARTNER):\n",
      "\"argument is not numeric or logical: returning NA\"\n",
      "Warning message in mean.default(LIVE_TOGETHER):\n",
      "\"argument is not numeric or logical: returning NA\"\n",
      "Warning message in mean.default(PARTNER_EDUCATION):\n",
      "\"argument is not numeric or logical: returning NA\"\n",
      "Warning message in mean.default(PARTNER_WORKING):\n",
      "\"argument is not numeric or logical: returning NA\"\n",
      "Warning message in mean.default(PARTNER_OCCUPATION):\n",
      "\"argument is not numeric or logical: returning NA\"\n",
      "Warning message in mean.default(SALARY):\n",
      "\"argument is not numeric or logical: returning NA\"\n",
      "Warning message in mean.default(ALLOWANCE):\n",
      "\"argument is not numeric or logical: returning NA\"\n",
      "Warning message in mean.default(DOBCHILD1):\n",
      "\"argument is not numeric or logical: returning NA\"\n",
      "Warning message in mean.default(DOBCHILD2):\n",
      "\"argument is not numeric or logical: returning NA\"\n",
      "Warning message in mean.default(DOBCHILD3):\n",
      "\"argument is not numeric or logical: returning NA\"\n",
      "Warning message in mean.default(DOBCHILD4):\n",
      "\"argument is not numeric or logical: returning NA\"\n",
      "Warning message in mean.default(DOBCHILD5):\n",
      "\"argument is not numeric or logical: returning NA\"\n",
      "Warning message in mean.default(DOBCHILD6):\n",
      "\"argument is not numeric or logical: returning NA\"\n",
      "Warning message in mean.default(OTHER_ADULTS):\n",
      "\"argument is not numeric or logical: returning NA\"\n",
      "Warning message in mean.default(ADULT1_RELATIONSHIP):\n",
      "\"argument is not numeric or logical: returning NA\"\n",
      "Warning message in mean.default(ADULT1_AGE):\n",
      "\"argument is not numeric or logical: returning NA\"\n",
      "Warning message in mean.default(ADULT2_RELATIONSHIP):\n",
      "\"argument is not numeric or logical: returning NA\"\n",
      "Warning message in mean.default(ADULT2_AGE):\n",
      "\"argument is not numeric or logical: returning NA\"\n",
      "Warning message in mean.default(ADULT3_RELATIONSHIP):\n",
      "\"argument is not numeric or logical: returning NA\"\n",
      "Warning message in mean.default(ADULT3_AGE):\n",
      "\"argument is not numeric or logical: returning NA\"\n",
      "Warning message in mean.default(ADULT4_RELATIONSHIP):\n",
      "\"argument is not numeric or logical: returning NA\"\n",
      "Warning message in mean.default(ADULT4_AGE):\n",
      "\"argument is not numeric or logical: returning NA\"\n",
      "Warning message in mean.default(HOUSE_TYPE):\n",
      "\"argument is not numeric or logical: returning NA\"\n",
      "Warning message in mean.default(HOME_OWN):\n",
      "\"argument is not numeric or logical: returning NA\"\n",
      "Warning message in mean.default(HEAT1):\n",
      "\"argument is not numeric or logical: returning NA\"\n",
      "Warning message in mean.default(HEAT2):\n",
      "\"argument is not numeric or logical: returning NA\"\n",
      "Warning message in mean.default(HEAT3):\n",
      "\"argument is not numeric or logical: returning NA\"\n",
      "Warning message in mean.default(HEAT4):\n",
      "\"argument is not numeric or logical: returning NA\"\n",
      "Warning message in mean.default(DOUBLE_GLAZED):\n",
      "\"argument is not numeric or logical: returning NA\"\n",
      "Warning message in mean.default(LOFT):\n",
      "\"argument is not numeric or logical: returning NA\"\n",
      "Warning message in mean.default(CAVITY):\n",
      "\"argument is not numeric or logical: returning NA\"\n",
      "Warning message in mean.default(MOULD_VISIBLE):\n",
      "\"argument is not numeric or logical: returning NA\"\n",
      "Warning message in mean.default(MM_BATH):\n",
      "\"argument is not numeric or logical: returning NA\"\n",
      "Warning message in mean.default(MM_BED):\n",
      "\"argument is not numeric or logical: returning NA\"\n",
      "Warning message in mean.default(MM_LIV):\n",
      "\"argument is not numeric or logical: returning NA\"\n",
      "Warning message in mean.default(MM_KITCH):\n",
      "\"argument is not numeric or logical: returning NA\"\n",
      "Warning message in mean.default(MM_HALL):\n",
      "\"argument is not numeric or logical: returning NA\"\n",
      "Warning message in mean.default(MM_FURNISH):\n",
      "\"argument is not numeric or logical: returning NA\"\n",
      "Warning message in mean.default(NEIGHBOURS):\n",
      "\"argument is not numeric or logical: returning NA\"\n",
      "Warning message in mean.default(SATISFIED_DISSATISFIED):\n",
      "\"argument is not numeric or logical: returning NA\"\n",
      "Warning message in mean.default(COMMUNITY_HOME):\n",
      "\"argument is not numeric or logical: returning NA\"\n",
      "Warning message in mean.default(HELP_NEED):\n",
      "\"argument is not numeric or logical: returning NA\"\n",
      "Warning message in mean.default(SERVICES):\n",
      "\"argument is not numeric or logical: returning NA\"\n",
      "Warning message in mean.default(SAFE):\n",
      "\"argument is not numeric or logical: returning NA\"\n",
      "Warning message in mean.default(INVOLVED):\n",
      "\"argument is not numeric or logical: returning NA\"\n",
      "Warning message in mean.default(SAD):\n",
      "\"argument is not numeric or logical: returning NA\"\n",
      "Warning message in mean.default(NERVOUS):\n",
      "\"argument is not numeric or logical: returning NA\"\n",
      "Warning message in mean.default(RESTLESS):\n",
      "\"argument is not numeric or logical: returning NA\"\n",
      "Warning message in mean.default(HOPELESS):\n",
      "\"argument is not numeric or logical: returning NA\"\n",
      "Warning message in mean.default(EFFORT):\n",
      "\"argument is not numeric or logical: returning NA\"\n",
      "Warning message in mean.default(WORTHLESS):\n",
      "\"argument is not numeric or logical: returning NA\"\n",
      "Warning message in mean.default(TOTAL_K6):\n",
      "\"argument is not numeric or logical: returning NA\"\n",
      "Warning message in mean.default(FOLIC_NOT_TAKEN):\n",
      "\"argument is not numeric or logical: returning NA\"\n",
      "Warning message in mean.default(FOLIC_BEFORE):\n",
      "\"argument is not numeric or logical: returning NA\"\n",
      "Warning message in mean.default(FOLIC_EARLY):\n",
      "\"argument is not numeric or logical: returning NA\"\n",
      "Warning message in mean.default(FOLIC_MID_LATE):\n",
      "\"argument is not numeric or logical: returning NA\"\n",
      "Warning message in mean.default(MULTI_NOT_TAKEN):\n",
      "\"argument is not numeric or logical: returning NA\"\n",
      "Warning message in mean.default(MULTI_BEFORE):\n",
      "\"argument is not numeric or logical: returning NA\"\n",
      "Warning message in mean.default(MULTI_EARLY):\n",
      "\"argument is not numeric or logical: returning NA\"\n",
      "Warning message in mean.default(MULTI_MID_LATE):\n",
      "\"argument is not numeric or logical: returning NA\"\n",
      "Warning message in mean.default(SUPP_NOT_TAKEN):\n",
      "\"argument is not numeric or logical: returning NA\"\n",
      "Warning message in mean.default(SUPP_BEFORE):\n",
      "\"argument is not numeric or logical: returning NA\"\n",
      "Warning message in mean.default(SUPP_EARLY):\n",
      "\"argument is not numeric or logical: returning NA\"\n",
      "Warning message in mean.default(SUPP_MID_LATE):\n",
      "\"argument is not numeric or logical: returning NA\"\n",
      "Warning message in mean.default(OTHER_BEFORE):\n",
      "\"argument is not numeric or logical: returning NA\"\n",
      "Warning message in mean.default(OTHER_EARLY):\n",
      "\"argument is not numeric or logical: returning NA\"\n",
      "Warning message in mean.default(OTHER_MID_LATE):\n",
      "\"argument is not numeric or logical: returning NA\"\n",
      "Warning message in mean.default(SMOKE_ROOM):\n",
      "\"argument is not numeric or logical: returning NA\"\n",
      "Warning message in mean.default(SMOKE):\n",
      "\"argument is not numeric or logical: returning NA\"\n",
      "Warning message in mean.default(SMOKE_NUMBER):\n",
      "\"argument is not numeric or logical: returning NA\"\n",
      "Warning message in mean.default(ALCOHOL):\n",
      "\"argument is not numeric or logical: returning NA\"\n",
      "Warning message in mean.default(EARLY_PREG_ALCOHOL):\n",
      "\"argument is not numeric or logical: returning NA\"\n",
      "Warning message in mean.default(MID_LATE_PREG_ALCOHOL):\n",
      "\"argument is not numeric or logical: returning NA\"\n",
      "Warning message in mean.default(MEDICATION1):\n",
      "\"argument is not numeric or logical: returning NA\"\n",
      "Warning message in mean.default(MEDICATION2):\n",
      "\"argument is not numeric or logical: returning NA\"\n",
      "Warning message in mean.default(MEDICATION3):\n",
      "\"argument is not numeric or logical: returning NA\"\n",
      "Warning message in mean.default(MEDICATION4):\n",
      "\"argument is not numeric or logical: returning NA\"\n",
      "Warning message in mean.default(MEDICATION5):\n",
      "\"argument is not numeric or logical: returning NA\"\n",
      "Warning message in mean.default(MEDICATION6):\n",
      "\"argument is not numeric or logical: returning NA\"\n"
     ]
    },
    {
     "data": {
      "text/html": [
       "<table>\n",
       "<caption>A tibble: 1 × 2</caption>\n",
       "<thead>\n",
       "\t<tr><th scope=col>AGE</th><th scope=col>SALARY</th></tr>\n",
       "\t<tr><th scope=col>&lt;dbl&gt;</th><th scope=col>&lt;dbl&gt;</th></tr>\n",
       "</thead>\n",
       "<tbody>\n",
       "\t<tr><td>58.95842</td><td>NA</td></tr>\n",
       "</tbody>\n",
       "</table>\n"
      ],
      "text/latex": [
       "A tibble: 1 × 2\n",
       "\\begin{tabular}{ll}\n",
       " AGE & SALARY\\\\\n",
       " <dbl> & <dbl>\\\\\n",
       "\\hline\n",
       "\t 58.95842 & NA\\\\\n",
       "\\end{tabular}\n"
      ],
      "text/markdown": [
       "\n",
       "A tibble: 1 × 2\n",
       "\n",
       "| AGE &lt;dbl&gt; | SALARY &lt;dbl&gt; |\n",
       "|---|---|\n",
       "| 58.95842 | NA |\n",
       "\n"
      ],
      "text/plain": [
       "  AGE      SALARY\n",
       "1 58.95842 NA    "
      ]
     },
     "metadata": {},
     "output_type": "display_data"
    },
    {
     "name": "stderr",
     "output_type": "stream",
     "text": [
      "Warning message in mean.default(SALARY, na.rm = TRUE):\n",
      "\"argument is not numeric or logical: returning NA\"\n"
     ]
    },
    {
     "data": {
      "text/html": [
       "<table>\n",
       "<caption>A tibble: 1 × 2</caption>\n",
       "<thead>\n",
       "\t<tr><th scope=col>AGE</th><th scope=col>SALARY</th></tr>\n",
       "\t<tr><th scope=col>&lt;dbl&gt;</th><th scope=col>&lt;dbl&gt;</th></tr>\n",
       "</thead>\n",
       "<tbody>\n",
       "\t<tr><td>58.95842</td><td>NA</td></tr>\n",
       "</tbody>\n",
       "</table>\n"
      ],
      "text/latex": [
       "A tibble: 1 × 2\n",
       "\\begin{tabular}{ll}\n",
       " AGE & SALARY\\\\\n",
       " <dbl> & <dbl>\\\\\n",
       "\\hline\n",
       "\t 58.95842 & NA\\\\\n",
       "\\end{tabular}\n"
      ],
      "text/markdown": [
       "\n",
       "A tibble: 1 × 2\n",
       "\n",
       "| AGE &lt;dbl&gt; | SALARY &lt;dbl&gt; |\n",
       "|---|---|\n",
       "| 58.95842 | NA |\n",
       "\n"
      ],
      "text/plain": [
       "  AGE      SALARY\n",
       "1 58.95842 NA    "
      ]
     },
     "metadata": {},
     "output_type": "display_data"
    },
    {
     "data": {
      "text/html": [
       "<table>\n",
       "<caption>A tibble: 1 × 3</caption>\n",
       "<thead>\n",
       "\t<tr><th scope=col>PARENT_ID</th><th scope=col>INFANT_ID</th><th scope=col>AGE</th></tr>\n",
       "\t<tr><th scope=col>&lt;dbl&gt;</th><th scope=col>&lt;dbl&gt;</th><th scope=col>&lt;dbl&gt;</th></tr>\n",
       "</thead>\n",
       "<tbody>\n",
       "\t<tr><td>392.9269</td><td>393.0291</td><td>58.95842</td></tr>\n",
       "</tbody>\n",
       "</table>\n"
      ],
      "text/latex": [
       "A tibble: 1 × 3\n",
       "\\begin{tabular}{lll}\n",
       " PARENT\\_ID & INFANT\\_ID & AGE\\\\\n",
       " <dbl> & <dbl> & <dbl>\\\\\n",
       "\\hline\n",
       "\t 392.9269 & 393.0291 & 58.95842\\\\\n",
       "\\end{tabular}\n"
      ],
      "text/markdown": [
       "\n",
       "A tibble: 1 × 3\n",
       "\n",
       "| PARENT_ID &lt;dbl&gt; | INFANT_ID &lt;dbl&gt; | AGE &lt;dbl&gt; |\n",
       "|---|---|---|\n",
       "| 392.9269 | 393.0291 | 58.95842 |\n",
       "\n"
      ],
      "text/plain": [
       "  PARENT_ID INFANT_ID AGE     \n",
       "1 392.9269  393.0291  58.95842"
      ]
     },
     "metadata": {},
     "output_type": "display_data"
    }
   ],
   "source": [
    "#pregnancy %>% filter(!is.na(AGE)&!is.na(SALARY)) %>% summarise_all(list('mean')) %>% select(AGE, SALARY)\n",
    "#pregnancy %>% filter(!is.na(AGE)&!is.na(SALARY)) %>% summarise_at(c('AGE', 'SALARY'), mean, na.rm = TRUE)\n",
    "#pregnancy %>% filter(!is.na(AGE)&!is.na(SALARY)) %>% summarise_if(is.numeric, mean, na.rm = TRUE)"
   ]
  },
  {
   "cell_type": "markdown",
   "metadata": {},
   "source": [
    "Frequently, we use `summarise()` in conjunction with `group_by()` to provide information about groups of cases defined by the value of a categorical variable. When we have finished with the grouping, we can use ungroup() to revert and continue with our processing on the whole table."
   ]
  },
  {
   "cell_type": "code",
   "execution_count": 43,
   "metadata": {},
   "outputs": [
    {
     "name": "stderr",
     "output_type": "stream",
     "text": [
      "`summarise()` ungrouping output (override with `.groups` argument)\n",
      "\n"
     ]
    },
    {
     "data": {
      "text/html": [
       "<table>\n",
       "<caption>A tibble: 9 × 2</caption>\n",
       "<thead>\n",
       "\t<tr><th scope=col>EDUCATION</th><th scope=col>n()</th></tr>\n",
       "\t<tr><th scope=col>&lt;chr&gt;</th><th scope=col>&lt;int&gt;</th></tr>\n",
       "</thead>\n",
       "<tbody>\n",
       "\t<tr><td>.</td><td> 23</td></tr>\n",
       "\t<tr><td>1</td><td>123</td></tr>\n",
       "\t<tr><td>2</td><td>142</td></tr>\n",
       "\t<tr><td>3</td><td> 75</td></tr>\n",
       "\t<tr><td>4</td><td> 66</td></tr>\n",
       "\t<tr><td>5</td><td> 95</td></tr>\n",
       "\t<tr><td>6</td><td> 34</td></tr>\n",
       "\t<tr><td>7</td><td> 13</td></tr>\n",
       "\t<tr><td>8</td><td> 17</td></tr>\n",
       "</tbody>\n",
       "</table>\n"
      ],
      "text/latex": [
       "A tibble: 9 × 2\n",
       "\\begin{tabular}{ll}\n",
       " EDUCATION & n()\\\\\n",
       " <chr> & <int>\\\\\n",
       "\\hline\n",
       "\t . &  23\\\\\n",
       "\t 1 & 123\\\\\n",
       "\t 2 & 142\\\\\n",
       "\t 3 &  75\\\\\n",
       "\t 4 &  66\\\\\n",
       "\t 5 &  95\\\\\n",
       "\t 6 &  34\\\\\n",
       "\t 7 &  13\\\\\n",
       "\t 8 &  17\\\\\n",
       "\\end{tabular}\n"
      ],
      "text/markdown": [
       "\n",
       "A tibble: 9 × 2\n",
       "\n",
       "| EDUCATION &lt;chr&gt; | n() &lt;int&gt; |\n",
       "|---|---|\n",
       "| . |  23 |\n",
       "| 1 | 123 |\n",
       "| 2 | 142 |\n",
       "| 3 |  75 |\n",
       "| 4 |  66 |\n",
       "| 5 |  95 |\n",
       "| 6 |  34 |\n",
       "| 7 |  13 |\n",
       "| 8 |  17 |\n",
       "\n"
      ],
      "text/plain": [
       "  EDUCATION n()\n",
       "1 .          23\n",
       "2 1         123\n",
       "3 2         142\n",
       "4 3          75\n",
       "5 4          66\n",
       "6 5          95\n",
       "7 6          34\n",
       "8 7          13\n",
       "9 8          17"
      ]
     },
     "metadata": {},
     "output_type": "display_data"
    },
    {
     "data": {
      "text/html": [
       "<table>\n",
       "<caption>A tibble: 9 × 4</caption>\n",
       "<thead>\n",
       "\t<tr><th scope=col>EDUCATION</th><th scope=col>PARENT_ID</th><th scope=col>INFANT_ID</th><th scope=col>AGE</th></tr>\n",
       "\t<tr><th scope=col>&lt;chr&gt;</th><th scope=col>&lt;dbl&gt;</th><th scope=col>&lt;dbl&gt;</th><th scope=col>&lt;dbl&gt;</th></tr>\n",
       "</thead>\n",
       "<tbody>\n",
       "\t<tr><td>.</td><td>239.3478</td><td>239.4522</td><td>64.56522</td></tr>\n",
       "\t<tr><td>1</td><td>383.4390</td><td>383.5407</td><td>61.99024</td></tr>\n",
       "\t<tr><td>2</td><td>398.8310</td><td>398.9317</td><td>59.24648</td></tr>\n",
       "\t<tr><td>3</td><td>418.0400</td><td>418.1400</td><td>47.61333</td></tr>\n",
       "\t<tr><td>4</td><td>452.5303</td><td>452.6364</td><td>65.89394</td></tr>\n",
       "\t<tr><td>5</td><td>389.6000</td><td>389.7021</td><td>62.52368</td></tr>\n",
       "\t<tr><td>6</td><td>382.9412</td><td>383.0471</td><td>47.23529</td></tr>\n",
       "\t<tr><td>7</td><td>443.6154</td><td>443.7231</td><td>52.61538</td></tr>\n",
       "\t<tr><td>8</td><td>277.6471</td><td>277.7471</td><td>58.52941</td></tr>\n",
       "</tbody>\n",
       "</table>\n"
      ],
      "text/latex": [
       "A tibble: 9 × 4\n",
       "\\begin{tabular}{llll}\n",
       " EDUCATION & PARENT\\_ID & INFANT\\_ID & AGE\\\\\n",
       " <chr> & <dbl> & <dbl> & <dbl>\\\\\n",
       "\\hline\n",
       "\t . & 239.3478 & 239.4522 & 64.56522\\\\\n",
       "\t 1 & 383.4390 & 383.5407 & 61.99024\\\\\n",
       "\t 2 & 398.8310 & 398.9317 & 59.24648\\\\\n",
       "\t 3 & 418.0400 & 418.1400 & 47.61333\\\\\n",
       "\t 4 & 452.5303 & 452.6364 & 65.89394\\\\\n",
       "\t 5 & 389.6000 & 389.7021 & 62.52368\\\\\n",
       "\t 6 & 382.9412 & 383.0471 & 47.23529\\\\\n",
       "\t 7 & 443.6154 & 443.7231 & 52.61538\\\\\n",
       "\t 8 & 277.6471 & 277.7471 & 58.52941\\\\\n",
       "\\end{tabular}\n"
      ],
      "text/markdown": [
       "\n",
       "A tibble: 9 × 4\n",
       "\n",
       "| EDUCATION &lt;chr&gt; | PARENT_ID &lt;dbl&gt; | INFANT_ID &lt;dbl&gt; | AGE &lt;dbl&gt; |\n",
       "|---|---|---|---|\n",
       "| . | 239.3478 | 239.4522 | 64.56522 |\n",
       "| 1 | 383.4390 | 383.5407 | 61.99024 |\n",
       "| 2 | 398.8310 | 398.9317 | 59.24648 |\n",
       "| 3 | 418.0400 | 418.1400 | 47.61333 |\n",
       "| 4 | 452.5303 | 452.6364 | 65.89394 |\n",
       "| 5 | 389.6000 | 389.7021 | 62.52368 |\n",
       "| 6 | 382.9412 | 383.0471 | 47.23529 |\n",
       "| 7 | 443.6154 | 443.7231 | 52.61538 |\n",
       "| 8 | 277.6471 | 277.7471 | 58.52941 |\n",
       "\n"
      ],
      "text/plain": [
       "  EDUCATION PARENT_ID INFANT_ID AGE     \n",
       "1 .         239.3478  239.4522  64.56522\n",
       "2 1         383.4390  383.5407  61.99024\n",
       "3 2         398.8310  398.9317  59.24648\n",
       "4 3         418.0400  418.1400  47.61333\n",
       "5 4         452.5303  452.6364  65.89394\n",
       "6 5         389.6000  389.7021  62.52368\n",
       "7 6         382.9412  383.0471  47.23529\n",
       "8 7         443.6154  443.7231  52.61538\n",
       "9 8         277.6471  277.7471  58.52941"
      ]
     },
     "metadata": {},
     "output_type": "display_data"
    }
   ],
   "source": [
    "#pregnancy %>% filter(!is.na(AGE)&!is.na(SALARY)) %>% group_by(EDUCATION) %>% summarise(n())\n",
    "#pregnancy %>% filter(!is.na(AGE)&!is.na(SALARY)) %>% group_by(EDUCATION) %>% summarise_if(is.numeric, mean, na.rm = TRUE)"
   ]
  },
  {
   "cell_type": "markdown",
   "metadata": {},
   "source": [
    "If you want to order the data by cases, use `arrange()` and `desc()` to reverse the default ascending order."
   ]
  },
  {
   "cell_type": "code",
   "execution_count": 47,
   "metadata": {},
   "outputs": [
    {
     "data": {
      "text/html": [
       "<table>\n",
       "<caption>A tibble: 6 × 95</caption>\n",
       "<thead>\n",
       "\t<tr><th scope=col>PARENT_ID</th><th scope=col>INFANT_ID</th><th scope=col>DATE_OF_BIRTH</th><th scope=col>EDD</th><th scope=col>BIRTH_PLAN</th><th scope=col>LANGUAGE</th><th scope=col>OTHER_LANGUAGE</th><th scope=col>ETHNICITY</th><th scope=col>OTHER_ETHNICITY</th><th scope=col>RELATIONSHIP_STATUS</th><th scope=col>...</th><th scope=col>SMOKE_NUMBER</th><th scope=col>ALCOHOL</th><th scope=col>EARLY_PREG_ALCOHOL</th><th scope=col>MID_LATE_PREG_ALCOHOL</th><th scope=col>MEDICATION1</th><th scope=col>MEDICATION2</th><th scope=col>MEDICATION3</th><th scope=col>MEDICATION4</th><th scope=col>MEDICATION5</th><th scope=col>MEDICATION6</th></tr>\n",
       "\t<tr><th scope=col>&lt;dbl&gt;</th><th scope=col>&lt;dbl&gt;</th><th scope=col>&lt;chr&gt;</th><th scope=col>&lt;chr&gt;</th><th scope=col>&lt;chr&gt;</th><th scope=col>&lt;chr&gt;</th><th scope=col>&lt;chr&gt;</th><th scope=col>&lt;chr&gt;</th><th scope=col>&lt;chr&gt;</th><th scope=col>&lt;chr&gt;</th><th scope=col>...</th><th scope=col>&lt;chr&gt;</th><th scope=col>&lt;chr&gt;</th><th scope=col>&lt;chr&gt;</th><th scope=col>&lt;chr&gt;</th><th scope=col>&lt;chr&gt;</th><th scope=col>&lt;chr&gt;</th><th scope=col>&lt;chr&gt;</th><th scope=col>&lt;chr&gt;</th><th scope=col>&lt;chr&gt;</th><th scope=col>&lt;chr&gt;</th></tr>\n",
       "</thead>\n",
       "<tbody>\n",
       "\t<tr><td>757</td><td>757.1</td><td>31/12/1984</td><td>17/04/2014</td><td>2</td><td>1</td><td>.</td><td>1</td><td>.</td><td>4</td><td>...</td><td>. </td><td>1</td><td>6</td><td>4</td><td>. </td><td>.</td><td>.</td><td>.</td><td>.</td><td>.</td></tr>\n",
       "\t<tr><td>361</td><td>361.1</td><td>31/12/1976</td><td>25/09/2011</td><td>1</td><td>1</td><td>.</td><td>1</td><td>.</td><td>4</td><td>...</td><td>. </td><td>1</td><td>.</td><td>.</td><td>. </td><td>.</td><td>.</td><td>.</td><td>.</td><td>.</td></tr>\n",
       "\t<tr><td>200</td><td>200.1</td><td>31/08/1991</td><td>10/10/2010</td><td>2</td><td>1</td><td>.</td><td>1</td><td>.</td><td>3</td><td>...</td><td>. </td><td>0</td><td>.</td><td>.</td><td>13</td><td>.</td><td>.</td><td>.</td><td>.</td><td>.</td></tr>\n",
       "\t<tr><td> 53</td><td> 53.1</td><td>31/08/1982</td><td>21/08/2010</td><td>2</td><td>1</td><td>.</td><td>1</td><td>.</td><td>.</td><td>...</td><td>. </td><td>1</td><td>.</td><td>.</td><td>7 </td><td>.</td><td>.</td><td>.</td><td>.</td><td>.</td></tr>\n",
       "\t<tr><td>520</td><td>520.1</td><td>31/07/1992</td><td>19/07/2012</td><td>5</td><td>1</td><td>.</td><td>1</td><td>.</td><td>2</td><td>...</td><td>60</td><td>0</td><td>.</td><td>.</td><td>. </td><td>.</td><td>.</td><td>.</td><td>.</td><td>.</td></tr>\n",
       "\t<tr><td>625</td><td>625.1</td><td>31/07/1991</td><td>14/05/2013</td><td>8</td><td>1</td><td>.</td><td>1</td><td>.</td><td>2</td><td>...</td><td>. </td><td>0</td><td>.</td><td>.</td><td>13</td><td>.</td><td>.</td><td>.</td><td>.</td><td>.</td></tr>\n",
       "</tbody>\n",
       "</table>\n"
      ],
      "text/latex": [
       "A tibble: 6 × 95\n",
       "\\begin{tabular}{lllllllllllllllllllll}\n",
       " PARENT\\_ID & INFANT\\_ID & DATE\\_OF\\_BIRTH & EDD & BIRTH\\_PLAN & LANGUAGE & OTHER\\_LANGUAGE & ETHNICITY & OTHER\\_ETHNICITY & RELATIONSHIP\\_STATUS & ... & SMOKE\\_NUMBER & ALCOHOL & EARLY\\_PREG\\_ALCOHOL & MID\\_LATE\\_PREG\\_ALCOHOL & MEDICATION1 & MEDICATION2 & MEDICATION3 & MEDICATION4 & MEDICATION5 & MEDICATION6\\\\\n",
       " <dbl> & <dbl> & <chr> & <chr> & <chr> & <chr> & <chr> & <chr> & <chr> & <chr> & ... & <chr> & <chr> & <chr> & <chr> & <chr> & <chr> & <chr> & <chr> & <chr> & <chr>\\\\\n",
       "\\hline\n",
       "\t 757 & 757.1 & 31/12/1984 & 17/04/2014 & 2 & 1 & . & 1 & . & 4 & ... & .  & 1 & 6 & 4 & .  & . & . & . & . & .\\\\\n",
       "\t 361 & 361.1 & 31/12/1976 & 25/09/2011 & 1 & 1 & . & 1 & . & 4 & ... & .  & 1 & . & . & .  & . & . & . & . & .\\\\\n",
       "\t 200 & 200.1 & 31/08/1991 & 10/10/2010 & 2 & 1 & . & 1 & . & 3 & ... & .  & 0 & . & . & 13 & . & . & . & . & .\\\\\n",
       "\t  53 &  53.1 & 31/08/1982 & 21/08/2010 & 2 & 1 & . & 1 & . & . & ... & .  & 1 & . & . & 7  & . & . & . & . & .\\\\\n",
       "\t 520 & 520.1 & 31/07/1992 & 19/07/2012 & 5 & 1 & . & 1 & . & 2 & ... & 60 & 0 & . & . & .  & . & . & . & . & .\\\\\n",
       "\t 625 & 625.1 & 31/07/1991 & 14/05/2013 & 8 & 1 & . & 1 & . & 2 & ... & .  & 0 & . & . & 13 & . & . & . & . & .\\\\\n",
       "\\end{tabular}\n"
      ],
      "text/markdown": [
       "\n",
       "A tibble: 6 × 95\n",
       "\n",
       "| PARENT_ID &lt;dbl&gt; | INFANT_ID &lt;dbl&gt; | DATE_OF_BIRTH &lt;chr&gt; | EDD &lt;chr&gt; | BIRTH_PLAN &lt;chr&gt; | LANGUAGE &lt;chr&gt; | OTHER_LANGUAGE &lt;chr&gt; | ETHNICITY &lt;chr&gt; | OTHER_ETHNICITY &lt;chr&gt; | RELATIONSHIP_STATUS &lt;chr&gt; | ... ... | SMOKE_NUMBER &lt;chr&gt; | ALCOHOL &lt;chr&gt; | EARLY_PREG_ALCOHOL &lt;chr&gt; | MID_LATE_PREG_ALCOHOL &lt;chr&gt; | MEDICATION1 &lt;chr&gt; | MEDICATION2 &lt;chr&gt; | MEDICATION3 &lt;chr&gt; | MEDICATION4 &lt;chr&gt; | MEDICATION5 &lt;chr&gt; | MEDICATION6 &lt;chr&gt; |\n",
       "|---|---|---|---|---|---|---|---|---|---|---|---|---|---|---|---|---|---|---|---|---|\n",
       "| 757 | 757.1 | 31/12/1984 | 17/04/2014 | 2 | 1 | . | 1 | . | 4 | ... | .  | 1 | 6 | 4 | .  | . | . | . | . | . |\n",
       "| 361 | 361.1 | 31/12/1976 | 25/09/2011 | 1 | 1 | . | 1 | . | 4 | ... | .  | 1 | . | . | .  | . | . | . | . | . |\n",
       "| 200 | 200.1 | 31/08/1991 | 10/10/2010 | 2 | 1 | . | 1 | . | 3 | ... | .  | 0 | . | . | 13 | . | . | . | . | . |\n",
       "|  53 |  53.1 | 31/08/1982 | 21/08/2010 | 2 | 1 | . | 1 | . | . | ... | .  | 1 | . | . | 7  | . | . | . | . | . |\n",
       "| 520 | 520.1 | 31/07/1992 | 19/07/2012 | 5 | 1 | . | 1 | . | 2 | ... | 60 | 0 | . | . | .  | . | . | . | . | . |\n",
       "| 625 | 625.1 | 31/07/1991 | 14/05/2013 | 8 | 1 | . | 1 | . | 2 | ... | .  | 0 | . | . | 13 | . | . | . | . | . |\n",
       "\n"
      ],
      "text/plain": [
       "  PARENT_ID INFANT_ID DATE_OF_BIRTH EDD        BIRTH_PLAN LANGUAGE\n",
       "1 757       757.1     31/12/1984    17/04/2014 2          1       \n",
       "2 361       361.1     31/12/1976    25/09/2011 1          1       \n",
       "3 200       200.1     31/08/1991    10/10/2010 2          1       \n",
       "4  53        53.1     31/08/1982    21/08/2010 2          1       \n",
       "5 520       520.1     31/07/1992    19/07/2012 5          1       \n",
       "6 625       625.1     31/07/1991    14/05/2013 8          1       \n",
       "  OTHER_LANGUAGE ETHNICITY OTHER_ETHNICITY RELATIONSHIP_STATUS ... SMOKE_NUMBER\n",
       "1 .              1         .               4                   ... .           \n",
       "2 .              1         .               4                   ... .           \n",
       "3 .              1         .               3                   ... .           \n",
       "4 .              1         .               .                   ... .           \n",
       "5 .              1         .               2                   ... 60          \n",
       "6 .              1         .               2                   ... .           \n",
       "  ALCOHOL EARLY_PREG_ALCOHOL MID_LATE_PREG_ALCOHOL MEDICATION1 MEDICATION2\n",
       "1 1       6                  4                     .           .          \n",
       "2 1       .                  .                     .           .          \n",
       "3 0       .                  .                     13          .          \n",
       "4 1       .                  .                     7           .          \n",
       "5 0       .                  .                     .           .          \n",
       "6 0       .                  .                     13          .          \n",
       "  MEDICATION3 MEDICATION4 MEDICATION5 MEDICATION6\n",
       "1 .           .           .           .          \n",
       "2 .           .           .           .          \n",
       "3 .           .           .           .          \n",
       "4 .           .           .           .          \n",
       "5 .           .           .           .          \n",
       "6 .           .           .           .          "
      ]
     },
     "metadata": {},
     "output_type": "display_data"
    }
   ],
   "source": [
    "#pregnancy %>% arrange(DATE_OF_BIRTH) %>% head()\n",
    "#pregnancy %>% arrange(desc(DATE_OF_BIRTH)) %>% head()"
   ]
  },
  {
   "cell_type": "markdown",
   "metadata": {},
   "source": [
    " Note here that we are ordering a character field not a date field. We need to convert to a date (and that means we need to specify a date format) to get the correct date-wise ordering."
   ]
  },
  {
   "cell_type": "code",
   "execution_count": 52,
   "metadata": {},
   "outputs": [
    {
     "data": {
      "text/html": [
       "<table>\n",
       "<caption>A tibble: 6 × 95</caption>\n",
       "<thead>\n",
       "\t<tr><th scope=col>PARENT_ID</th><th scope=col>INFANT_ID</th><th scope=col>DATE_OF_BIRTH</th><th scope=col>EDD</th><th scope=col>BIRTH_PLAN</th><th scope=col>LANGUAGE</th><th scope=col>OTHER_LANGUAGE</th><th scope=col>ETHNICITY</th><th scope=col>OTHER_ETHNICITY</th><th scope=col>RELATIONSHIP_STATUS</th><th scope=col>...</th><th scope=col>SMOKE_NUMBER</th><th scope=col>ALCOHOL</th><th scope=col>EARLY_PREG_ALCOHOL</th><th scope=col>MID_LATE_PREG_ALCOHOL</th><th scope=col>MEDICATION1</th><th scope=col>MEDICATION2</th><th scope=col>MEDICATION3</th><th scope=col>MEDICATION4</th><th scope=col>MEDICATION5</th><th scope=col>MEDICATION6</th></tr>\n",
       "\t<tr><th scope=col>&lt;dbl&gt;</th><th scope=col>&lt;dbl&gt;</th><th scope=col>&lt;chr&gt;</th><th scope=col>&lt;chr&gt;</th><th scope=col>&lt;chr&gt;</th><th scope=col>&lt;chr&gt;</th><th scope=col>&lt;chr&gt;</th><th scope=col>&lt;chr&gt;</th><th scope=col>&lt;chr&gt;</th><th scope=col>&lt;chr&gt;</th><th scope=col>...</th><th scope=col>&lt;chr&gt;</th><th scope=col>&lt;chr&gt;</th><th scope=col>&lt;chr&gt;</th><th scope=col>&lt;chr&gt;</th><th scope=col>&lt;chr&gt;</th><th scope=col>&lt;chr&gt;</th><th scope=col>&lt;chr&gt;</th><th scope=col>&lt;chr&gt;</th><th scope=col>&lt;chr&gt;</th><th scope=col>&lt;chr&gt;</th></tr>\n",
       "</thead>\n",
       "<tbody>\n",
       "\t<tr><td>594</td><td>594.1</td><td>23/02/1996</td><td>28/08/2012</td><td>4</td><td>1</td><td>.    </td><td>1</td><td>.</td><td>2</td><td>...</td><td>.</td><td>0</td><td>7</td><td>7</td><td>. </td><td>.</td><td>.</td><td>.</td><td>.</td><td>.</td></tr>\n",
       "\t<tr><td>812</td><td>812.1</td><td>06/08/1995</td><td>26/05/2014</td><td>3</td><td>1</td><td>.    </td><td>1</td><td>.</td><td>1</td><td>...</td><td>.</td><td>0</td><td>.</td><td>.</td><td>. </td><td>.</td><td>.</td><td>.</td><td>.</td><td>.</td></tr>\n",
       "\t<tr><td>698</td><td>698.1</td><td>27/06/1995</td><td>17/08/2013</td><td>5</td><td>1</td><td>.    </td><td>1</td><td>.</td><td>3</td><td>...</td><td>.</td><td>0</td><td>.</td><td>.</td><td>13</td><td>.</td><td>.</td><td>.</td><td>.</td><td>.</td></tr>\n",
       "\t<tr><td>508</td><td>508.1</td><td>28/01/1995</td><td>19/06/2012</td><td>4</td><td>1</td><td>.    </td><td>1</td><td>.</td><td>3</td><td>...</td><td>.</td><td>0</td><td>.</td><td>.</td><td>13</td><td>.</td><td>.</td><td>.</td><td>.</td><td>.</td></tr>\n",
       "\t<tr><td>540</td><td>540.1</td><td>03/12/1994</td><td>05/09/2012</td><td>3</td><td>1</td><td>Welsh</td><td>1</td><td>.</td><td>1</td><td>...</td><td>.</td><td>0</td><td>.</td><td>.</td><td>. </td><td>.</td><td>.</td><td>.</td><td>.</td><td>.</td></tr>\n",
       "\t<tr><td>538</td><td>538.1</td><td>27/11/1994</td><td>30/01/2013</td><td>7</td><td>1</td><td>.    </td><td>1</td><td>.</td><td>2</td><td>...</td><td>.</td><td>0</td><td>.</td><td>.</td><td>. </td><td>.</td><td>.</td><td>.</td><td>.</td><td>.</td></tr>\n",
       "</tbody>\n",
       "</table>\n"
      ],
      "text/latex": [
       "A tibble: 6 × 95\n",
       "\\begin{tabular}{lllllllllllllllllllll}\n",
       " PARENT\\_ID & INFANT\\_ID & DATE\\_OF\\_BIRTH & EDD & BIRTH\\_PLAN & LANGUAGE & OTHER\\_LANGUAGE & ETHNICITY & OTHER\\_ETHNICITY & RELATIONSHIP\\_STATUS & ... & SMOKE\\_NUMBER & ALCOHOL & EARLY\\_PREG\\_ALCOHOL & MID\\_LATE\\_PREG\\_ALCOHOL & MEDICATION1 & MEDICATION2 & MEDICATION3 & MEDICATION4 & MEDICATION5 & MEDICATION6\\\\\n",
       " <dbl> & <dbl> & <chr> & <chr> & <chr> & <chr> & <chr> & <chr> & <chr> & <chr> & ... & <chr> & <chr> & <chr> & <chr> & <chr> & <chr> & <chr> & <chr> & <chr> & <chr>\\\\\n",
       "\\hline\n",
       "\t 594 & 594.1 & 23/02/1996 & 28/08/2012 & 4 & 1 & .     & 1 & . & 2 & ... & . & 0 & 7 & 7 & .  & . & . & . & . & .\\\\\n",
       "\t 812 & 812.1 & 06/08/1995 & 26/05/2014 & 3 & 1 & .     & 1 & . & 1 & ... & . & 0 & . & . & .  & . & . & . & . & .\\\\\n",
       "\t 698 & 698.1 & 27/06/1995 & 17/08/2013 & 5 & 1 & .     & 1 & . & 3 & ... & . & 0 & . & . & 13 & . & . & . & . & .\\\\\n",
       "\t 508 & 508.1 & 28/01/1995 & 19/06/2012 & 4 & 1 & .     & 1 & . & 3 & ... & . & 0 & . & . & 13 & . & . & . & . & .\\\\\n",
       "\t 540 & 540.1 & 03/12/1994 & 05/09/2012 & 3 & 1 & Welsh & 1 & . & 1 & ... & . & 0 & . & . & .  & . & . & . & . & .\\\\\n",
       "\t 538 & 538.1 & 27/11/1994 & 30/01/2013 & 7 & 1 & .     & 1 & . & 2 & ... & . & 0 & . & . & .  & . & . & . & . & .\\\\\n",
       "\\end{tabular}\n"
      ],
      "text/markdown": [
       "\n",
       "A tibble: 6 × 95\n",
       "\n",
       "| PARENT_ID &lt;dbl&gt; | INFANT_ID &lt;dbl&gt; | DATE_OF_BIRTH &lt;chr&gt; | EDD &lt;chr&gt; | BIRTH_PLAN &lt;chr&gt; | LANGUAGE &lt;chr&gt; | OTHER_LANGUAGE &lt;chr&gt; | ETHNICITY &lt;chr&gt; | OTHER_ETHNICITY &lt;chr&gt; | RELATIONSHIP_STATUS &lt;chr&gt; | ... ... | SMOKE_NUMBER &lt;chr&gt; | ALCOHOL &lt;chr&gt; | EARLY_PREG_ALCOHOL &lt;chr&gt; | MID_LATE_PREG_ALCOHOL &lt;chr&gt; | MEDICATION1 &lt;chr&gt; | MEDICATION2 &lt;chr&gt; | MEDICATION3 &lt;chr&gt; | MEDICATION4 &lt;chr&gt; | MEDICATION5 &lt;chr&gt; | MEDICATION6 &lt;chr&gt; |\n",
       "|---|---|---|---|---|---|---|---|---|---|---|---|---|---|---|---|---|---|---|---|---|\n",
       "| 594 | 594.1 | 23/02/1996 | 28/08/2012 | 4 | 1 | .     | 1 | . | 2 | ... | . | 0 | 7 | 7 | .  | . | . | . | . | . |\n",
       "| 812 | 812.1 | 06/08/1995 | 26/05/2014 | 3 | 1 | .     | 1 | . | 1 | ... | . | 0 | . | . | .  | . | . | . | . | . |\n",
       "| 698 | 698.1 | 27/06/1995 | 17/08/2013 | 5 | 1 | .     | 1 | . | 3 | ... | . | 0 | . | . | 13 | . | . | . | . | . |\n",
       "| 508 | 508.1 | 28/01/1995 | 19/06/2012 | 4 | 1 | .     | 1 | . | 3 | ... | . | 0 | . | . | 13 | . | . | . | . | . |\n",
       "| 540 | 540.1 | 03/12/1994 | 05/09/2012 | 3 | 1 | Welsh | 1 | . | 1 | ... | . | 0 | . | . | .  | . | . | . | . | . |\n",
       "| 538 | 538.1 | 27/11/1994 | 30/01/2013 | 7 | 1 | .     | 1 | . | 2 | ... | . | 0 | . | . | .  | . | . | . | . | . |\n",
       "\n"
      ],
      "text/plain": [
       "  PARENT_ID INFANT_ID DATE_OF_BIRTH EDD        BIRTH_PLAN LANGUAGE\n",
       "1 594       594.1     23/02/1996    28/08/2012 4          1       \n",
       "2 812       812.1     06/08/1995    26/05/2014 3          1       \n",
       "3 698       698.1     27/06/1995    17/08/2013 5          1       \n",
       "4 508       508.1     28/01/1995    19/06/2012 4          1       \n",
       "5 540       540.1     03/12/1994    05/09/2012 3          1       \n",
       "6 538       538.1     27/11/1994    30/01/2013 7          1       \n",
       "  OTHER_LANGUAGE ETHNICITY OTHER_ETHNICITY RELATIONSHIP_STATUS ... SMOKE_NUMBER\n",
       "1 .              1         .               2                   ... .           \n",
       "2 .              1         .               1                   ... .           \n",
       "3 .              1         .               3                   ... .           \n",
       "4 .              1         .               3                   ... .           \n",
       "5 Welsh          1         .               1                   ... .           \n",
       "6 .              1         .               2                   ... .           \n",
       "  ALCOHOL EARLY_PREG_ALCOHOL MID_LATE_PREG_ALCOHOL MEDICATION1 MEDICATION2\n",
       "1 0       7                  7                     .           .          \n",
       "2 0       .                  .                     .           .          \n",
       "3 0       .                  .                     13          .          \n",
       "4 0       .                  .                     13          .          \n",
       "5 0       .                  .                     .           .          \n",
       "6 0       .                  .                     .           .          \n",
       "  MEDICATION3 MEDICATION4 MEDICATION5 MEDICATION6\n",
       "1 .           .           .           .          \n",
       "2 .           .           .           .          \n",
       "3 .           .           .           .          \n",
       "4 .           .           .           .          \n",
       "5 .           .           .           .          \n",
       "6 .           .           .           .          "
      ]
     },
     "metadata": {},
     "output_type": "display_data"
    }
   ],
   "source": [
    "#pregnancy %>% arrange(desc(as.Date(DATE_OF_BIRTH, format='%d/%m/%Y'))) %>% head()"
   ]
  },
  {
   "cell_type": "markdown",
   "metadata": {},
   "source": [
    "## _Extracting and sorting cases_\n",
    "\n",
    "One of the most common extraction calls in dplyr is `filter()` which allows you to apply a conditional expression to the values in a column and select only those which result in a TRUE value. The following operators are commonly used with `filter()`:\n",
    "\n",
    "`<`, `>`, `<=`, `>=`, `is.na()`, `!`, `%in%`, `|`, `&`, `xor()`\n",
    "\n",
    "Other functions for selecting cases are:\n",
    "* distinct() --- remove any rows with a duplicate value\n",
    "* sample_n() --- sample n cases\n",
    "* sample_frac() --- sample a fraction of the cases\n",
    "* slice() --- select the specified rows\n",
    "* top_n() --- select and sort the top n rows (of each group if grouped)\n",
    "\n",
    "The cases can be sorted using `arrange()` with `desc()` to reverse the order.\n",
    "\n",
    "New cases (rows) can be added using `add_row()`."
   ]
  },
  {
   "cell_type": "code",
   "execution_count": 55,
   "metadata": {},
   "outputs": [
    {
     "name": "stdout",
     "output_type": "stream",
     "text": [
      "No of cases = 830, no of distinct parents = 816."
     ]
    },
    {
     "data": {
      "text/html": [
       "<table>\n",
       "<caption>A spec_tbl_df: 10 × 95</caption>\n",
       "<thead>\n",
       "\t<tr><th scope=col>PARENT_ID</th><th scope=col>INFANT_ID</th><th scope=col>DATE_OF_BIRTH</th><th scope=col>EDD</th><th scope=col>BIRTH_PLAN</th><th scope=col>LANGUAGE</th><th scope=col>OTHER_LANGUAGE</th><th scope=col>ETHNICITY</th><th scope=col>OTHER_ETHNICITY</th><th scope=col>RELATIONSHIP_STATUS</th><th scope=col>...</th><th scope=col>SMOKE_NUMBER</th><th scope=col>ALCOHOL</th><th scope=col>EARLY_PREG_ALCOHOL</th><th scope=col>MID_LATE_PREG_ALCOHOL</th><th scope=col>MEDICATION1</th><th scope=col>MEDICATION2</th><th scope=col>MEDICATION3</th><th scope=col>MEDICATION4</th><th scope=col>MEDICATION5</th><th scope=col>MEDICATION6</th></tr>\n",
       "\t<tr><th scope=col>&lt;dbl&gt;</th><th scope=col>&lt;dbl&gt;</th><th scope=col>&lt;chr&gt;</th><th scope=col>&lt;chr&gt;</th><th scope=col>&lt;chr&gt;</th><th scope=col>&lt;chr&gt;</th><th scope=col>&lt;chr&gt;</th><th scope=col>&lt;chr&gt;</th><th scope=col>&lt;chr&gt;</th><th scope=col>&lt;chr&gt;</th><th scope=col>...</th><th scope=col>&lt;chr&gt;</th><th scope=col>&lt;chr&gt;</th><th scope=col>&lt;chr&gt;</th><th scope=col>&lt;chr&gt;</th><th scope=col>&lt;chr&gt;</th><th scope=col>&lt;chr&gt;</th><th scope=col>&lt;chr&gt;</th><th scope=col>&lt;chr&gt;</th><th scope=col>&lt;chr&gt;</th><th scope=col>&lt;chr&gt;</th></tr>\n",
       "</thead>\n",
       "<tbody>\n",
       "\t<tr><td>318</td><td>318.1</td><td>26/12/1982</td><td>15/06/2011</td><td>2</td><td>1</td><td>.</td><td>1</td><td>.</td><td>2</td><td>...</td><td>.</td><td>0</td><td>.</td><td>.</td><td>. </td><td>.</td><td>.</td><td>.</td><td>.</td><td>.</td></tr>\n",
       "\t<tr><td>634</td><td>634.1</td><td>16/03/1977</td><td>22/02/2013</td><td>1</td><td>1</td><td>.</td><td>1</td><td>.</td><td>4</td><td>...</td><td>.</td><td>1</td><td>7</td><td>4</td><td>2 </td><td>.</td><td>.</td><td>.</td><td>.</td><td>.</td></tr>\n",
       "\t<tr><td>581</td><td>581.1</td><td>23/11/1981</td><td>12/11/2012</td><td>2</td><td>1</td><td>.</td><td>1</td><td>.</td><td>4</td><td>...</td><td>.</td><td>1</td><td>7</td><td>5</td><td>. </td><td>.</td><td>.</td><td>.</td><td>.</td><td>.</td></tr>\n",
       "\t<tr><td>209</td><td>209.1</td><td>08/03/1974</td><td>15/10/2010</td><td>3</td><td>.</td><td>.</td><td>7</td><td>.</td><td>4</td><td>...</td><td>.</td><td>0</td><td>.</td><td>.</td><td>2 </td><td>.</td><td>.</td><td>.</td><td>.</td><td>.</td></tr>\n",
       "\t<tr><td>238</td><td>238.1</td><td>10/01/1991</td><td>28/02/2011</td><td>3</td><td>1</td><td>.</td><td>1</td><td>.</td><td>3</td><td>...</td><td>.</td><td>1</td><td>.</td><td>.</td><td>13</td><td>.</td><td>.</td><td>.</td><td>.</td><td>.</td></tr>\n",
       "\t<tr><td>231</td><td>231.1</td><td>30/09/1986</td><td>22/01/2011</td><td>7</td><td>1</td><td>.</td><td>1</td><td>.</td><td>4</td><td>...</td><td>.</td><td>0</td><td>.</td><td>.</td><td>16</td><td>.</td><td>.</td><td>.</td><td>.</td><td>.</td></tr>\n",
       "\t<tr><td>165</td><td>165.1</td><td>08/11/1986</td><td>29/11/2010</td><td>2</td><td>1</td><td>.</td><td>.</td><td>.</td><td>3</td><td>...</td><td>.</td><td>0</td><td>.</td><td>.</td><td>13</td><td>2</td><td>5</td><td>.</td><td>.</td><td>.</td></tr>\n",
       "\t<tr><td>333</td><td>333.1</td><td>22/07/1982</td><td>08/07/2011</td><td>3</td><td>1</td><td>.</td><td>1</td><td>.</td><td>2</td><td>...</td><td>3</td><td>0</td><td>.</td><td>.</td><td>. </td><td>.</td><td>.</td><td>.</td><td>.</td><td>.</td></tr>\n",
       "\t<tr><td>246</td><td>246.1</td><td>20/12/1981</td><td>25/12/2010</td><td>2</td><td>1</td><td>.</td><td>1</td><td>.</td><td>3</td><td>...</td><td>.</td><td>0</td><td>.</td><td>.</td><td>. </td><td>.</td><td>.</td><td>.</td><td>.</td><td>.</td></tr>\n",
       "\t<tr><td>114</td><td>114.1</td><td>02/08/1987</td><td>01/11/2010</td><td>2</td><td>1</td><td>.</td><td>1</td><td>.</td><td>3</td><td>...</td><td>.</td><td>0</td><td>.</td><td>.</td><td>. </td><td>.</td><td>.</td><td>.</td><td>.</td><td>.</td></tr>\n",
       "</tbody>\n",
       "</table>\n"
      ],
      "text/latex": [
       "A spec\\_tbl\\_df: 10 × 95\n",
       "\\begin{tabular}{lllllllllllllllllllll}\n",
       " PARENT\\_ID & INFANT\\_ID & DATE\\_OF\\_BIRTH & EDD & BIRTH\\_PLAN & LANGUAGE & OTHER\\_LANGUAGE & ETHNICITY & OTHER\\_ETHNICITY & RELATIONSHIP\\_STATUS & ... & SMOKE\\_NUMBER & ALCOHOL & EARLY\\_PREG\\_ALCOHOL & MID\\_LATE\\_PREG\\_ALCOHOL & MEDICATION1 & MEDICATION2 & MEDICATION3 & MEDICATION4 & MEDICATION5 & MEDICATION6\\\\\n",
       " <dbl> & <dbl> & <chr> & <chr> & <chr> & <chr> & <chr> & <chr> & <chr> & <chr> & ... & <chr> & <chr> & <chr> & <chr> & <chr> & <chr> & <chr> & <chr> & <chr> & <chr>\\\\\n",
       "\\hline\n",
       "\t 318 & 318.1 & 26/12/1982 & 15/06/2011 & 2 & 1 & . & 1 & . & 2 & ... & . & 0 & . & . & .  & . & . & . & . & .\\\\\n",
       "\t 634 & 634.1 & 16/03/1977 & 22/02/2013 & 1 & 1 & . & 1 & . & 4 & ... & . & 1 & 7 & 4 & 2  & . & . & . & . & .\\\\\n",
       "\t 581 & 581.1 & 23/11/1981 & 12/11/2012 & 2 & 1 & . & 1 & . & 4 & ... & . & 1 & 7 & 5 & .  & . & . & . & . & .\\\\\n",
       "\t 209 & 209.1 & 08/03/1974 & 15/10/2010 & 3 & . & . & 7 & . & 4 & ... & . & 0 & . & . & 2  & . & . & . & . & .\\\\\n",
       "\t 238 & 238.1 & 10/01/1991 & 28/02/2011 & 3 & 1 & . & 1 & . & 3 & ... & . & 1 & . & . & 13 & . & . & . & . & .\\\\\n",
       "\t 231 & 231.1 & 30/09/1986 & 22/01/2011 & 7 & 1 & . & 1 & . & 4 & ... & . & 0 & . & . & 16 & . & . & . & . & .\\\\\n",
       "\t 165 & 165.1 & 08/11/1986 & 29/11/2010 & 2 & 1 & . & . & . & 3 & ... & . & 0 & . & . & 13 & 2 & 5 & . & . & .\\\\\n",
       "\t 333 & 333.1 & 22/07/1982 & 08/07/2011 & 3 & 1 & . & 1 & . & 2 & ... & 3 & 0 & . & . & .  & . & . & . & . & .\\\\\n",
       "\t 246 & 246.1 & 20/12/1981 & 25/12/2010 & 2 & 1 & . & 1 & . & 3 & ... & . & 0 & . & . & .  & . & . & . & . & .\\\\\n",
       "\t 114 & 114.1 & 02/08/1987 & 01/11/2010 & 2 & 1 & . & 1 & . & 3 & ... & . & 0 & . & . & .  & . & . & . & . & .\\\\\n",
       "\\end{tabular}\n"
      ],
      "text/markdown": [
       "\n",
       "A spec_tbl_df: 10 × 95\n",
       "\n",
       "| PARENT_ID &lt;dbl&gt; | INFANT_ID &lt;dbl&gt; | DATE_OF_BIRTH &lt;chr&gt; | EDD &lt;chr&gt; | BIRTH_PLAN &lt;chr&gt; | LANGUAGE &lt;chr&gt; | OTHER_LANGUAGE &lt;chr&gt; | ETHNICITY &lt;chr&gt; | OTHER_ETHNICITY &lt;chr&gt; | RELATIONSHIP_STATUS &lt;chr&gt; | ... ... | SMOKE_NUMBER &lt;chr&gt; | ALCOHOL &lt;chr&gt; | EARLY_PREG_ALCOHOL &lt;chr&gt; | MID_LATE_PREG_ALCOHOL &lt;chr&gt; | MEDICATION1 &lt;chr&gt; | MEDICATION2 &lt;chr&gt; | MEDICATION3 &lt;chr&gt; | MEDICATION4 &lt;chr&gt; | MEDICATION5 &lt;chr&gt; | MEDICATION6 &lt;chr&gt; |\n",
       "|---|---|---|---|---|---|---|---|---|---|---|---|---|---|---|---|---|---|---|---|---|\n",
       "| 318 | 318.1 | 26/12/1982 | 15/06/2011 | 2 | 1 | . | 1 | . | 2 | ... | . | 0 | . | . | .  | . | . | . | . | . |\n",
       "| 634 | 634.1 | 16/03/1977 | 22/02/2013 | 1 | 1 | . | 1 | . | 4 | ... | . | 1 | 7 | 4 | 2  | . | . | . | . | . |\n",
       "| 581 | 581.1 | 23/11/1981 | 12/11/2012 | 2 | 1 | . | 1 | . | 4 | ... | . | 1 | 7 | 5 | .  | . | . | . | . | . |\n",
       "| 209 | 209.1 | 08/03/1974 | 15/10/2010 | 3 | . | . | 7 | . | 4 | ... | . | 0 | . | . | 2  | . | . | . | . | . |\n",
       "| 238 | 238.1 | 10/01/1991 | 28/02/2011 | 3 | 1 | . | 1 | . | 3 | ... | . | 1 | . | . | 13 | . | . | . | . | . |\n",
       "| 231 | 231.1 | 30/09/1986 | 22/01/2011 | 7 | 1 | . | 1 | . | 4 | ... | . | 0 | . | . | 16 | . | . | . | . | . |\n",
       "| 165 | 165.1 | 08/11/1986 | 29/11/2010 | 2 | 1 | . | . | . | 3 | ... | . | 0 | . | . | 13 | 2 | 5 | . | . | . |\n",
       "| 333 | 333.1 | 22/07/1982 | 08/07/2011 | 3 | 1 | . | 1 | . | 2 | ... | 3 | 0 | . | . | .  | . | . | . | . | . |\n",
       "| 246 | 246.1 | 20/12/1981 | 25/12/2010 | 2 | 1 | . | 1 | . | 3 | ... | . | 0 | . | . | .  | . | . | . | . | . |\n",
       "| 114 | 114.1 | 02/08/1987 | 01/11/2010 | 2 | 1 | . | 1 | . | 3 | ... | . | 0 | . | . | .  | . | . | . | . | . |\n",
       "\n"
      ],
      "text/plain": [
       "   PARENT_ID INFANT_ID DATE_OF_BIRTH EDD        BIRTH_PLAN LANGUAGE\n",
       "1  318       318.1     26/12/1982    15/06/2011 2          1       \n",
       "2  634       634.1     16/03/1977    22/02/2013 1          1       \n",
       "3  581       581.1     23/11/1981    12/11/2012 2          1       \n",
       "4  209       209.1     08/03/1974    15/10/2010 3          .       \n",
       "5  238       238.1     10/01/1991    28/02/2011 3          1       \n",
       "6  231       231.1     30/09/1986    22/01/2011 7          1       \n",
       "7  165       165.1     08/11/1986    29/11/2010 2          1       \n",
       "8  333       333.1     22/07/1982    08/07/2011 3          1       \n",
       "9  246       246.1     20/12/1981    25/12/2010 2          1       \n",
       "10 114       114.1     02/08/1987    01/11/2010 2          1       \n",
       "   OTHER_LANGUAGE ETHNICITY OTHER_ETHNICITY RELATIONSHIP_STATUS ...\n",
       "1  .              1         .               2                   ...\n",
       "2  .              1         .               4                   ...\n",
       "3  .              1         .               4                   ...\n",
       "4  .              7         .               4                   ...\n",
       "5  .              1         .               3                   ...\n",
       "6  .              1         .               4                   ...\n",
       "7  .              .         .               3                   ...\n",
       "8  .              1         .               2                   ...\n",
       "9  .              1         .               3                   ...\n",
       "10 .              1         .               3                   ...\n",
       "   SMOKE_NUMBER ALCOHOL EARLY_PREG_ALCOHOL MID_LATE_PREG_ALCOHOL MEDICATION1\n",
       "1  .            0       .                  .                     .          \n",
       "2  .            1       7                  4                     2          \n",
       "3  .            1       7                  5                     .          \n",
       "4  .            0       .                  .                     2          \n",
       "5  .            1       .                  .                     13         \n",
       "6  .            0       .                  .                     16         \n",
       "7  .            0       .                  .                     13         \n",
       "8  3            0       .                  .                     .          \n",
       "9  .            0       .                  .                     .          \n",
       "10 .            0       .                  .                     .          \n",
       "   MEDICATION2 MEDICATION3 MEDICATION4 MEDICATION5 MEDICATION6\n",
       "1  .           .           .           .           .          \n",
       "2  .           .           .           .           .          \n",
       "3  .           .           .           .           .          \n",
       "4  .           .           .           .           .          \n",
       "5  .           .           .           .           .          \n",
       "6  .           .           .           .           .          \n",
       "7  2           5           .           .           .          \n",
       "8  .           .           .           .           .          \n",
       "9  .           .           .           .           .          \n",
       "10 .           .           .           .           .          "
      ]
     },
     "metadata": {},
     "output_type": "display_data"
    },
    {
     "data": {
      "text/html": [
       "<table>\n",
       "<caption>A spec_tbl_df: 8 × 95</caption>\n",
       "<thead>\n",
       "\t<tr><th scope=col>PARENT_ID</th><th scope=col>INFANT_ID</th><th scope=col>DATE_OF_BIRTH</th><th scope=col>EDD</th><th scope=col>BIRTH_PLAN</th><th scope=col>LANGUAGE</th><th scope=col>OTHER_LANGUAGE</th><th scope=col>ETHNICITY</th><th scope=col>OTHER_ETHNICITY</th><th scope=col>RELATIONSHIP_STATUS</th><th scope=col>...</th><th scope=col>SMOKE_NUMBER</th><th scope=col>ALCOHOL</th><th scope=col>EARLY_PREG_ALCOHOL</th><th scope=col>MID_LATE_PREG_ALCOHOL</th><th scope=col>MEDICATION1</th><th scope=col>MEDICATION2</th><th scope=col>MEDICATION3</th><th scope=col>MEDICATION4</th><th scope=col>MEDICATION5</th><th scope=col>MEDICATION6</th></tr>\n",
       "\t<tr><th scope=col>&lt;dbl&gt;</th><th scope=col>&lt;dbl&gt;</th><th scope=col>&lt;chr&gt;</th><th scope=col>&lt;chr&gt;</th><th scope=col>&lt;chr&gt;</th><th scope=col>&lt;chr&gt;</th><th scope=col>&lt;chr&gt;</th><th scope=col>&lt;chr&gt;</th><th scope=col>&lt;chr&gt;</th><th scope=col>&lt;chr&gt;</th><th scope=col>...</th><th scope=col>&lt;chr&gt;</th><th scope=col>&lt;chr&gt;</th><th scope=col>&lt;chr&gt;</th><th scope=col>&lt;chr&gt;</th><th scope=col>&lt;chr&gt;</th><th scope=col>&lt;chr&gt;</th><th scope=col>&lt;chr&gt;</th><th scope=col>&lt;chr&gt;</th><th scope=col>&lt;chr&gt;</th><th scope=col>&lt;chr&gt;</th></tr>\n",
       "</thead>\n",
       "<tbody>\n",
       "\t<tr><td>346</td><td>346.1</td><td>15/02/1980</td><td>06/08/2011</td><td>2</td><td>5</td><td>.</td><td>5</td><td>.</td><td>4</td><td>...</td><td>. </td><td>0</td><td>.</td><td>.</td><td>. </td><td>. </td><td>.</td><td>.</td><td>.</td><td>.</td></tr>\n",
       "\t<tr><td>771</td><td>771.1</td><td>19/09/1973</td><td>18/11/2013</td><td>2</td><td>1</td><td>.</td><td>1</td><td>.</td><td>4</td><td>...</td><td>. </td><td>0</td><td>7</td><td>7</td><td>13</td><td>15</td><td>.</td><td>.</td><td>.</td><td>.</td></tr>\n",
       "\t<tr><td>207</td><td>207.1</td><td>22/03/1989</td><td>02/04/2011</td><td>2</td><td>1</td><td>.</td><td>1</td><td>.</td><td>3</td><td>...</td><td>. </td><td>0</td><td>.</td><td>.</td><td>. </td><td>. </td><td>.</td><td>.</td><td>.</td><td>.</td></tr>\n",
       "\t<tr><td>366</td><td>366.1</td><td>04/04/1988</td><td>06/09/2011</td><td>3</td><td>1</td><td>.</td><td>1</td><td>.</td><td>3</td><td>...</td><td>20</td><td>0</td><td>.</td><td>.</td><td>13</td><td>5 </td><td>.</td><td>.</td><td>.</td><td>.</td></tr>\n",
       "\t<tr><td>298</td><td>298.1</td><td>06/01/1988</td><td>08/05/2011</td><td>4</td><td>1</td><td>.</td><td>1</td><td>.</td><td>2</td><td>...</td><td>. </td><td>0</td><td>.</td><td>.</td><td>. </td><td>. </td><td>.</td><td>.</td><td>.</td><td>.</td></tr>\n",
       "\t<tr><td>399</td><td>399.1</td><td>03/11/1971</td><td>30/08/2011</td><td>2</td><td>1</td><td>.</td><td>1</td><td>.</td><td>3</td><td>...</td><td>. </td><td>0</td><td>.</td><td>.</td><td>13</td><td>. </td><td>.</td><td>.</td><td>.</td><td>.</td></tr>\n",
       "\t<tr><td>143</td><td>143.1</td><td>14/09/1974</td><td>31/08/2010</td><td>1</td><td>1</td><td>.</td><td>1</td><td>.</td><td>3</td><td>...</td><td>2 </td><td>1</td><td>.</td><td>.</td><td>. </td><td>. </td><td>.</td><td>.</td><td>.</td><td>.</td></tr>\n",
       "\t<tr><td>296</td><td>296.1</td><td>06/07/1988</td><td>18/03/2011</td><td>2</td><td>1</td><td>.</td><td>1</td><td>.</td><td>3</td><td>...</td><td>10</td><td>1</td><td>.</td><td>.</td><td>5 </td><td>. </td><td>.</td><td>.</td><td>.</td><td>.</td></tr>\n",
       "</tbody>\n",
       "</table>\n"
      ],
      "text/latex": [
       "A spec\\_tbl\\_df: 8 × 95\n",
       "\\begin{tabular}{lllllllllllllllllllll}\n",
       " PARENT\\_ID & INFANT\\_ID & DATE\\_OF\\_BIRTH & EDD & BIRTH\\_PLAN & LANGUAGE & OTHER\\_LANGUAGE & ETHNICITY & OTHER\\_ETHNICITY & RELATIONSHIP\\_STATUS & ... & SMOKE\\_NUMBER & ALCOHOL & EARLY\\_PREG\\_ALCOHOL & MID\\_LATE\\_PREG\\_ALCOHOL & MEDICATION1 & MEDICATION2 & MEDICATION3 & MEDICATION4 & MEDICATION5 & MEDICATION6\\\\\n",
       " <dbl> & <dbl> & <chr> & <chr> & <chr> & <chr> & <chr> & <chr> & <chr> & <chr> & ... & <chr> & <chr> & <chr> & <chr> & <chr> & <chr> & <chr> & <chr> & <chr> & <chr>\\\\\n",
       "\\hline\n",
       "\t 346 & 346.1 & 15/02/1980 & 06/08/2011 & 2 & 5 & . & 5 & . & 4 & ... & .  & 0 & . & . & .  & .  & . & . & . & .\\\\\n",
       "\t 771 & 771.1 & 19/09/1973 & 18/11/2013 & 2 & 1 & . & 1 & . & 4 & ... & .  & 0 & 7 & 7 & 13 & 15 & . & . & . & .\\\\\n",
       "\t 207 & 207.1 & 22/03/1989 & 02/04/2011 & 2 & 1 & . & 1 & . & 3 & ... & .  & 0 & . & . & .  & .  & . & . & . & .\\\\\n",
       "\t 366 & 366.1 & 04/04/1988 & 06/09/2011 & 3 & 1 & . & 1 & . & 3 & ... & 20 & 0 & . & . & 13 & 5  & . & . & . & .\\\\\n",
       "\t 298 & 298.1 & 06/01/1988 & 08/05/2011 & 4 & 1 & . & 1 & . & 2 & ... & .  & 0 & . & . & .  & .  & . & . & . & .\\\\\n",
       "\t 399 & 399.1 & 03/11/1971 & 30/08/2011 & 2 & 1 & . & 1 & . & 3 & ... & .  & 0 & . & . & 13 & .  & . & . & . & .\\\\\n",
       "\t 143 & 143.1 & 14/09/1974 & 31/08/2010 & 1 & 1 & . & 1 & . & 3 & ... & 2  & 1 & . & . & .  & .  & . & . & . & .\\\\\n",
       "\t 296 & 296.1 & 06/07/1988 & 18/03/2011 & 2 & 1 & . & 1 & . & 3 & ... & 10 & 1 & . & . & 5  & .  & . & . & . & .\\\\\n",
       "\\end{tabular}\n"
      ],
      "text/markdown": [
       "\n",
       "A spec_tbl_df: 8 × 95\n",
       "\n",
       "| PARENT_ID &lt;dbl&gt; | INFANT_ID &lt;dbl&gt; | DATE_OF_BIRTH &lt;chr&gt; | EDD &lt;chr&gt; | BIRTH_PLAN &lt;chr&gt; | LANGUAGE &lt;chr&gt; | OTHER_LANGUAGE &lt;chr&gt; | ETHNICITY &lt;chr&gt; | OTHER_ETHNICITY &lt;chr&gt; | RELATIONSHIP_STATUS &lt;chr&gt; | ... ... | SMOKE_NUMBER &lt;chr&gt; | ALCOHOL &lt;chr&gt; | EARLY_PREG_ALCOHOL &lt;chr&gt; | MID_LATE_PREG_ALCOHOL &lt;chr&gt; | MEDICATION1 &lt;chr&gt; | MEDICATION2 &lt;chr&gt; | MEDICATION3 &lt;chr&gt; | MEDICATION4 &lt;chr&gt; | MEDICATION5 &lt;chr&gt; | MEDICATION6 &lt;chr&gt; |\n",
       "|---|---|---|---|---|---|---|---|---|---|---|---|---|---|---|---|---|---|---|---|---|\n",
       "| 346 | 346.1 | 15/02/1980 | 06/08/2011 | 2 | 5 | . | 5 | . | 4 | ... | .  | 0 | . | . | .  | .  | . | . | . | . |\n",
       "| 771 | 771.1 | 19/09/1973 | 18/11/2013 | 2 | 1 | . | 1 | . | 4 | ... | .  | 0 | 7 | 7 | 13 | 15 | . | . | . | . |\n",
       "| 207 | 207.1 | 22/03/1989 | 02/04/2011 | 2 | 1 | . | 1 | . | 3 | ... | .  | 0 | . | . | .  | .  | . | . | . | . |\n",
       "| 366 | 366.1 | 04/04/1988 | 06/09/2011 | 3 | 1 | . | 1 | . | 3 | ... | 20 | 0 | . | . | 13 | 5  | . | . | . | . |\n",
       "| 298 | 298.1 | 06/01/1988 | 08/05/2011 | 4 | 1 | . | 1 | . | 2 | ... | .  | 0 | . | . | .  | .  | . | . | . | . |\n",
       "| 399 | 399.1 | 03/11/1971 | 30/08/2011 | 2 | 1 | . | 1 | . | 3 | ... | .  | 0 | . | . | 13 | .  | . | . | . | . |\n",
       "| 143 | 143.1 | 14/09/1974 | 31/08/2010 | 1 | 1 | . | 1 | . | 3 | ... | 2  | 1 | . | . | .  | .  | . | . | . | . |\n",
       "| 296 | 296.1 | 06/07/1988 | 18/03/2011 | 2 | 1 | . | 1 | . | 3 | ... | 10 | 1 | . | . | 5  | .  | . | . | . | . |\n",
       "\n"
      ],
      "text/plain": [
       "  PARENT_ID INFANT_ID DATE_OF_BIRTH EDD        BIRTH_PLAN LANGUAGE\n",
       "1 346       346.1     15/02/1980    06/08/2011 2          5       \n",
       "2 771       771.1     19/09/1973    18/11/2013 2          1       \n",
       "3 207       207.1     22/03/1989    02/04/2011 2          1       \n",
       "4 366       366.1     04/04/1988    06/09/2011 3          1       \n",
       "5 298       298.1     06/01/1988    08/05/2011 4          1       \n",
       "6 399       399.1     03/11/1971    30/08/2011 2          1       \n",
       "7 143       143.1     14/09/1974    31/08/2010 1          1       \n",
       "8 296       296.1     06/07/1988    18/03/2011 2          1       \n",
       "  OTHER_LANGUAGE ETHNICITY OTHER_ETHNICITY RELATIONSHIP_STATUS ... SMOKE_NUMBER\n",
       "1 .              5         .               4                   ... .           \n",
       "2 .              1         .               4                   ... .           \n",
       "3 .              1         .               3                   ... .           \n",
       "4 .              1         .               3                   ... 20          \n",
       "5 .              1         .               2                   ... .           \n",
       "6 .              1         .               3                   ... .           \n",
       "7 .              1         .               3                   ... 2           \n",
       "8 .              1         .               3                   ... 10          \n",
       "  ALCOHOL EARLY_PREG_ALCOHOL MID_LATE_PREG_ALCOHOL MEDICATION1 MEDICATION2\n",
       "1 0       .                  .                     .           .          \n",
       "2 0       7                  7                     13          15         \n",
       "3 0       .                  .                     .           .          \n",
       "4 0       .                  .                     13          5          \n",
       "5 0       .                  .                     .           .          \n",
       "6 0       .                  .                     13          .          \n",
       "7 1       .                  .                     .           .          \n",
       "8 1       .                  .                     5           .          \n",
       "  MEDICATION3 MEDICATION4 MEDICATION5 MEDICATION6\n",
       "1 .           .           .           .          \n",
       "2 .           .           .           .          \n",
       "3 .           .           .           .          \n",
       "4 .           .           .           .          \n",
       "5 .           .           .           .          \n",
       "6 .           .           .           .          \n",
       "7 .           .           .           .          \n",
       "8 .           .           .           .          "
      ]
     },
     "metadata": {},
     "output_type": "display_data"
    },
    {
     "data": {
      "text/html": [
       "<table>\n",
       "<caption>A tibble: 19 × 3</caption>\n",
       "<thead>\n",
       "\t<tr><th scope=col>PARENT_ID</th><th scope=col>EDUCATION</th><th scope=col>LANGUAGE</th></tr>\n",
       "\t<tr><th scope=col>&lt;dbl&gt;</th><th scope=col>&lt;chr&gt;</th><th scope=col>&lt;chr&gt;</th></tr>\n",
       "</thead>\n",
       "<tbody>\n",
       "\t<tr><td> 44</td><td>1</td><td>5</td></tr>\n",
       "\t<tr><td> 55</td><td>1</td><td>5</td></tr>\n",
       "\t<tr><td>107</td><td>1</td><td>5</td></tr>\n",
       "\t<tr><td>346</td><td>1</td><td>5</td></tr>\n",
       "\t<tr><td>424</td><td>1</td><td>5</td></tr>\n",
       "\t<tr><td>439</td><td>1</td><td>5</td></tr>\n",
       "\t<tr><td>451</td><td>1</td><td>5</td></tr>\n",
       "\t<tr><td>585</td><td>1</td><td>5</td></tr>\n",
       "\t<tr><td>239</td><td>2</td><td>5</td></tr>\n",
       "\t<tr><td>313</td><td>2</td><td>5</td></tr>\n",
       "\t<tr><td>363</td><td>2</td><td>5</td></tr>\n",
       "\t<tr><td>436</td><td>2</td><td>5</td></tr>\n",
       "\t<tr><td>488</td><td>2</td><td>5</td></tr>\n",
       "\t<tr><td>245</td><td>3</td><td>5</td></tr>\n",
       "\t<tr><td>285</td><td>3</td><td>5</td></tr>\n",
       "\t<tr><td>442</td><td>3</td><td>5</td></tr>\n",
       "\t<tr><td>197</td><td>5</td><td>5</td></tr>\n",
       "\t<tr><td>388</td><td>7</td><td>5</td></tr>\n",
       "\t<tr><td>381</td><td>8</td><td>5</td></tr>\n",
       "</tbody>\n",
       "</table>\n"
      ],
      "text/latex": [
       "A tibble: 19 × 3\n",
       "\\begin{tabular}{lll}\n",
       " PARENT\\_ID & EDUCATION & LANGUAGE\\\\\n",
       " <dbl> & <chr> & <chr>\\\\\n",
       "\\hline\n",
       "\t  44 & 1 & 5\\\\\n",
       "\t  55 & 1 & 5\\\\\n",
       "\t 107 & 1 & 5\\\\\n",
       "\t 346 & 1 & 5\\\\\n",
       "\t 424 & 1 & 5\\\\\n",
       "\t 439 & 1 & 5\\\\\n",
       "\t 451 & 1 & 5\\\\\n",
       "\t 585 & 1 & 5\\\\\n",
       "\t 239 & 2 & 5\\\\\n",
       "\t 313 & 2 & 5\\\\\n",
       "\t 363 & 2 & 5\\\\\n",
       "\t 436 & 2 & 5\\\\\n",
       "\t 488 & 2 & 5\\\\\n",
       "\t 245 & 3 & 5\\\\\n",
       "\t 285 & 3 & 5\\\\\n",
       "\t 442 & 3 & 5\\\\\n",
       "\t 197 & 5 & 5\\\\\n",
       "\t 388 & 7 & 5\\\\\n",
       "\t 381 & 8 & 5\\\\\n",
       "\\end{tabular}\n"
      ],
      "text/markdown": [
       "\n",
       "A tibble: 19 × 3\n",
       "\n",
       "| PARENT_ID &lt;dbl&gt; | EDUCATION &lt;chr&gt; | LANGUAGE &lt;chr&gt; |\n",
       "|---|---|---|\n",
       "|  44 | 1 | 5 |\n",
       "|  55 | 1 | 5 |\n",
       "| 107 | 1 | 5 |\n",
       "| 346 | 1 | 5 |\n",
       "| 424 | 1 | 5 |\n",
       "| 439 | 1 | 5 |\n",
       "| 451 | 1 | 5 |\n",
       "| 585 | 1 | 5 |\n",
       "| 239 | 2 | 5 |\n",
       "| 313 | 2 | 5 |\n",
       "| 363 | 2 | 5 |\n",
       "| 436 | 2 | 5 |\n",
       "| 488 | 2 | 5 |\n",
       "| 245 | 3 | 5 |\n",
       "| 285 | 3 | 5 |\n",
       "| 442 | 3 | 5 |\n",
       "| 197 | 5 | 5 |\n",
       "| 388 | 7 | 5 |\n",
       "| 381 | 8 | 5 |\n",
       "\n"
      ],
      "text/plain": [
       "   PARENT_ID EDUCATION LANGUAGE\n",
       "1   44       1         5       \n",
       "2   55       1         5       \n",
       "3  107       1         5       \n",
       "4  346       1         5       \n",
       "5  424       1         5       \n",
       "6  439       1         5       \n",
       "7  451       1         5       \n",
       "8  585       1         5       \n",
       "9  239       2         5       \n",
       "10 313       2         5       \n",
       "11 363       2         5       \n",
       "12 436       2         5       \n",
       "13 488       2         5       \n",
       "14 245       3         5       \n",
       "15 285       3         5       \n",
       "16 442       3         5       \n",
       "17 197       5         5       \n",
       "18 388       7         5       \n",
       "19 381       8         5       "
      ]
     },
     "metadata": {},
     "output_type": "display_data"
    }
   ],
   "source": [
    "#num_cases <- (pregnancy %>% count())[[1]]\n",
    "#num_parents <- (pregnancy %>% distinct(PARENT_ID) %>% count())[[1]]\n",
    "#cat('No of cases = ', num_cases, ', no of distinct parents = ', num_parents, '.', sep='')\n",
    "#pregnancy %>% sample_n(10)\n",
    "#pregnancy %>% sample_frac(0.01)\n",
    "#pregnancy %>% top_n(1, LANGUAGE) %>% select(PARENT_ID, EDUCATION, LANGUAGE) %>% arrange(EDUCATION, PARENT_ID)"
   ]
  },
  {
   "cell_type": "markdown",
   "metadata": {},
   "source": [
    "## _Generating new variables_\n",
    "\n",
    "Taking one or more existing variables and generating new ones is the the basis of most analyses. We use `mutate()` to create a new column (at the right-hand end of the table) and `transmute()` to create a new table. Both functions take an expression combining the values of existing columns to generate the new data."
   ]
  },
  {
   "cell_type": "code",
   "execution_count": 59,
   "metadata": {},
   "outputs": [
    {
     "name": "stderr",
     "output_type": "stream",
     "text": [
      "Warning message:\n",
      "\"Problem with `mutate()` input `SALARY`.\n",
      "\u001b[34mi\u001b[39m NAs introduced by coercion\n",
      "\u001b[34mi\u001b[39m Input `SALARY` is `as.numeric(SALARY)`.\"\n",
      "Warning message in mask$eval_all_mutate(dots[[i]]):\n",
      "\"NAs introduced by coercion\"\n"
     ]
    },
    {
     "data": {
      "text/html": [
       "<table>\n",
       "<caption>A tibble: 6 × 96</caption>\n",
       "<thead>\n",
       "\t<tr><th scope=col>PARENT_ID</th><th scope=col>INFANT_ID</th><th scope=col>DATE_OF_BIRTH</th><th scope=col>EDD</th><th scope=col>BIRTH_PLAN</th><th scope=col>LANGUAGE</th><th scope=col>OTHER_LANGUAGE</th><th scope=col>ETHNICITY</th><th scope=col>OTHER_ETHNICITY</th><th scope=col>RELATIONSHIP_STATUS</th><th scope=col>...</th><th scope=col>ALCOHOL</th><th scope=col>EARLY_PREG_ALCOHOL</th><th scope=col>MID_LATE_PREG_ALCOHOL</th><th scope=col>MEDICATION1</th><th scope=col>MEDICATION2</th><th scope=col>MEDICATION3</th><th scope=col>MEDICATION4</th><th scope=col>MEDICATION5</th><th scope=col>MEDICATION6</th><th scope=col>SALARY_PER_AGE</th></tr>\n",
       "\t<tr><th scope=col>&lt;dbl&gt;</th><th scope=col>&lt;dbl&gt;</th><th scope=col>&lt;chr&gt;</th><th scope=col>&lt;chr&gt;</th><th scope=col>&lt;chr&gt;</th><th scope=col>&lt;chr&gt;</th><th scope=col>&lt;chr&gt;</th><th scope=col>&lt;chr&gt;</th><th scope=col>&lt;chr&gt;</th><th scope=col>&lt;chr&gt;</th><th scope=col>...</th><th scope=col>&lt;chr&gt;</th><th scope=col>&lt;chr&gt;</th><th scope=col>&lt;chr&gt;</th><th scope=col>&lt;chr&gt;</th><th scope=col>&lt;chr&gt;</th><th scope=col>&lt;chr&gt;</th><th scope=col>&lt;chr&gt;</th><th scope=col>&lt;chr&gt;</th><th scope=col>&lt;chr&gt;</th><th scope=col>&lt;dbl&gt;</th></tr>\n",
       "</thead>\n",
       "<tbody>\n",
       "\t<tr><td> 47</td><td> 47.1</td><td>18/12/1965</td><td>30/07/2010</td><td>3</td><td>.</td><td>.</td><td>1</td><td>.</td><td>4</td><td>...</td><td>0</td><td>.</td><td>.</td><td>. </td><td>.</td><td>.</td><td>.</td><td>.</td><td>.</td><td>0.07000000</td></tr>\n",
       "\t<tr><td> 47</td><td> 47.2</td><td>18/12/1965</td><td>30/07/2010</td><td>3</td><td>.</td><td>.</td><td>1</td><td>.</td><td>4</td><td>...</td><td>0</td><td>.</td><td>.</td><td>. </td><td>.</td><td>.</td><td>.</td><td>.</td><td>.</td><td>0.07000000</td></tr>\n",
       "\t<tr><td> 45</td><td> 45.1</td><td>05/03/1966</td><td>12/07/2010</td><td>3</td><td>1</td><td>.</td><td>1</td><td>.</td><td>4</td><td>...</td><td>0</td><td>.</td><td>.</td><td>13</td><td>.</td><td>.</td><td>.</td><td>.</td><td>.</td><td>0.08571429</td></tr>\n",
       "\t<tr><td>172</td><td>172.1</td><td>06/03/1967</td><td>27/01/2011</td><td>2</td><td>1</td><td>.</td><td>1</td><td>.</td><td>4</td><td>...</td><td>1</td><td>.</td><td>.</td><td>. </td><td>.</td><td>.</td><td>.</td><td>.</td><td>.</td><td>0.04615385</td></tr>\n",
       "\t<tr><td>  8</td><td>  8.1</td><td>24/12/1967</td><td>09/03/2010</td><td>2</td><td>1</td><td>.</td><td>1</td><td>.</td><td>4</td><td>...</td><td>1</td><td>.</td><td>.</td><td>13</td><td>.</td><td>.</td><td>.</td><td>.</td><td>.</td><td>        NA</td></tr>\n",
       "\t<tr><td>301</td><td>301.1</td><td>16/05/1968</td><td>27/04/2011</td><td>1</td><td>1</td><td>.</td><td>1</td><td>.</td><td>2</td><td>...</td><td>1</td><td>.</td><td>.</td><td>. </td><td>.</td><td>.</td><td>.</td><td>.</td><td>.</td><td>0.05555556</td></tr>\n",
       "</tbody>\n",
       "</table>\n"
      ],
      "text/latex": [
       "A tibble: 6 × 96\n",
       "\\begin{tabular}{lllllllllllllllllllll}\n",
       " PARENT\\_ID & INFANT\\_ID & DATE\\_OF\\_BIRTH & EDD & BIRTH\\_PLAN & LANGUAGE & OTHER\\_LANGUAGE & ETHNICITY & OTHER\\_ETHNICITY & RELATIONSHIP\\_STATUS & ... & ALCOHOL & EARLY\\_PREG\\_ALCOHOL & MID\\_LATE\\_PREG\\_ALCOHOL & MEDICATION1 & MEDICATION2 & MEDICATION3 & MEDICATION4 & MEDICATION5 & MEDICATION6 & SALARY\\_PER\\_AGE\\\\\n",
       " <dbl> & <dbl> & <chr> & <chr> & <chr> & <chr> & <chr> & <chr> & <chr> & <chr> & ... & <chr> & <chr> & <chr> & <chr> & <chr> & <chr> & <chr> & <chr> & <chr> & <dbl>\\\\\n",
       "\\hline\n",
       "\t  47 &  47.1 & 18/12/1965 & 30/07/2010 & 3 & . & . & 1 & . & 4 & ... & 0 & . & . & .  & . & . & . & . & . & 0.07000000\\\\\n",
       "\t  47 &  47.2 & 18/12/1965 & 30/07/2010 & 3 & . & . & 1 & . & 4 & ... & 0 & . & . & .  & . & . & . & . & . & 0.07000000\\\\\n",
       "\t  45 &  45.1 & 05/03/1966 & 12/07/2010 & 3 & 1 & . & 1 & . & 4 & ... & 0 & . & . & 13 & . & . & . & . & . & 0.08571429\\\\\n",
       "\t 172 & 172.1 & 06/03/1967 & 27/01/2011 & 2 & 1 & . & 1 & . & 4 & ... & 1 & . & . & .  & . & . & . & . & . & 0.04615385\\\\\n",
       "\t   8 &   8.1 & 24/12/1967 & 09/03/2010 & 2 & 1 & . & 1 & . & 4 & ... & 1 & . & . & 13 & . & . & . & . & . &         NA\\\\\n",
       "\t 301 & 301.1 & 16/05/1968 & 27/04/2011 & 1 & 1 & . & 1 & . & 2 & ... & 1 & . & . & .  & . & . & . & . & . & 0.05555556\\\\\n",
       "\\end{tabular}\n"
      ],
      "text/markdown": [
       "\n",
       "A tibble: 6 × 96\n",
       "\n",
       "| PARENT_ID &lt;dbl&gt; | INFANT_ID &lt;dbl&gt; | DATE_OF_BIRTH &lt;chr&gt; | EDD &lt;chr&gt; | BIRTH_PLAN &lt;chr&gt; | LANGUAGE &lt;chr&gt; | OTHER_LANGUAGE &lt;chr&gt; | ETHNICITY &lt;chr&gt; | OTHER_ETHNICITY &lt;chr&gt; | RELATIONSHIP_STATUS &lt;chr&gt; | ... ... | ALCOHOL &lt;chr&gt; | EARLY_PREG_ALCOHOL &lt;chr&gt; | MID_LATE_PREG_ALCOHOL &lt;chr&gt; | MEDICATION1 &lt;chr&gt; | MEDICATION2 &lt;chr&gt; | MEDICATION3 &lt;chr&gt; | MEDICATION4 &lt;chr&gt; | MEDICATION5 &lt;chr&gt; | MEDICATION6 &lt;chr&gt; | SALARY_PER_AGE &lt;dbl&gt; |\n",
       "|---|---|---|---|---|---|---|---|---|---|---|---|---|---|---|---|---|---|---|---|---|\n",
       "|  47 |  47.1 | 18/12/1965 | 30/07/2010 | 3 | . | . | 1 | . | 4 | ... | 0 | . | . | .  | . | . | . | . | . | 0.07000000 |\n",
       "|  47 |  47.2 | 18/12/1965 | 30/07/2010 | 3 | . | . | 1 | . | 4 | ... | 0 | . | . | .  | . | . | . | . | . | 0.07000000 |\n",
       "|  45 |  45.1 | 05/03/1966 | 12/07/2010 | 3 | 1 | . | 1 | . | 4 | ... | 0 | . | . | 13 | . | . | . | . | . | 0.08571429 |\n",
       "| 172 | 172.1 | 06/03/1967 | 27/01/2011 | 2 | 1 | . | 1 | . | 4 | ... | 1 | . | . | .  | . | . | . | . | . | 0.04615385 |\n",
       "|   8 |   8.1 | 24/12/1967 | 09/03/2010 | 2 | 1 | . | 1 | . | 4 | ... | 1 | . | . | 13 | . | . | . | . | . |         NA |\n",
       "| 301 | 301.1 | 16/05/1968 | 27/04/2011 | 1 | 1 | . | 1 | . | 2 | ... | 1 | . | . | .  | . | . | . | . | . | 0.05555556 |\n",
       "\n"
      ],
      "text/plain": [
       "  PARENT_ID INFANT_ID DATE_OF_BIRTH EDD        BIRTH_PLAN LANGUAGE\n",
       "1  47        47.1     18/12/1965    30/07/2010 3          .       \n",
       "2  47        47.2     18/12/1965    30/07/2010 3          .       \n",
       "3  45        45.1     05/03/1966    12/07/2010 3          1       \n",
       "4 172       172.1     06/03/1967    27/01/2011 2          1       \n",
       "5   8         8.1     24/12/1967    09/03/2010 2          1       \n",
       "6 301       301.1     16/05/1968    27/04/2011 1          1       \n",
       "  OTHER_LANGUAGE ETHNICITY OTHER_ETHNICITY RELATIONSHIP_STATUS ... ALCOHOL\n",
       "1 .              1         .               4                   ... 0      \n",
       "2 .              1         .               4                   ... 0      \n",
       "3 .              1         .               4                   ... 0      \n",
       "4 .              1         .               4                   ... 1      \n",
       "5 .              1         .               4                   ... 1      \n",
       "6 .              1         .               2                   ... 1      \n",
       "  EARLY_PREG_ALCOHOL MID_LATE_PREG_ALCOHOL MEDICATION1 MEDICATION2 MEDICATION3\n",
       "1 .                  .                     .           .           .          \n",
       "2 .                  .                     .           .           .          \n",
       "3 .                  .                     13          .           .          \n",
       "4 .                  .                     .           .           .          \n",
       "5 .                  .                     13          .           .          \n",
       "6 .                  .                     .           .           .          \n",
       "  MEDICATION4 MEDICATION5 MEDICATION6 SALARY_PER_AGE\n",
       "1 .           .           .           0.07000000    \n",
       "2 .           .           .           0.07000000    \n",
       "3 .           .           .           0.08571429    \n",
       "4 .           .           .           0.04615385    \n",
       "5 .           .           .                   NA    \n",
       "6 .           .           .           0.05555556    "
      ]
     },
     "metadata": {},
     "output_type": "display_data"
    },
    {
     "data": {
      "text/html": [
       "<table>\n",
       "<caption>A tibble: 6 × 3</caption>\n",
       "<thead>\n",
       "\t<tr><th scope=col>PARENT_ID</th><th scope=col>INFANT_ID</th><th scope=col>SALARY_PER_AGE</th></tr>\n",
       "\t<tr><th scope=col>&lt;dbl&gt;</th><th scope=col>&lt;dbl&gt;</th><th scope=col>&lt;dbl&gt;</th></tr>\n",
       "</thead>\n",
       "<tbody>\n",
       "\t<tr><td> 47</td><td> 47.1</td><td>0.07000000</td></tr>\n",
       "\t<tr><td> 47</td><td> 47.2</td><td>0.07000000</td></tr>\n",
       "\t<tr><td> 45</td><td> 45.1</td><td>0.08571429</td></tr>\n",
       "\t<tr><td>172</td><td>172.1</td><td>0.04615385</td></tr>\n",
       "\t<tr><td>  8</td><td>  8.1</td><td>        NA</td></tr>\n",
       "\t<tr><td>301</td><td>301.1</td><td>0.05555556</td></tr>\n",
       "</tbody>\n",
       "</table>\n"
      ],
      "text/latex": [
       "A tibble: 6 × 3\n",
       "\\begin{tabular}{lll}\n",
       " PARENT\\_ID & INFANT\\_ID & SALARY\\_PER\\_AGE\\\\\n",
       " <dbl> & <dbl> & <dbl>\\\\\n",
       "\\hline\n",
       "\t  47 &  47.1 & 0.07000000\\\\\n",
       "\t  47 &  47.2 & 0.07000000\\\\\n",
       "\t  45 &  45.1 & 0.08571429\\\\\n",
       "\t 172 & 172.1 & 0.04615385\\\\\n",
       "\t   8 &   8.1 &         NA\\\\\n",
       "\t 301 & 301.1 & 0.05555556\\\\\n",
       "\\end{tabular}\n"
      ],
      "text/markdown": [
       "\n",
       "A tibble: 6 × 3\n",
       "\n",
       "| PARENT_ID &lt;dbl&gt; | INFANT_ID &lt;dbl&gt; | SALARY_PER_AGE &lt;dbl&gt; |\n",
       "|---|---|---|\n",
       "|  47 |  47.1 | 0.07000000 |\n",
       "|  47 |  47.2 | 0.07000000 |\n",
       "|  45 |  45.1 | 0.08571429 |\n",
       "| 172 | 172.1 | 0.04615385 |\n",
       "|   8 |   8.1 |         NA |\n",
       "| 301 | 301.1 | 0.05555556 |\n",
       "\n"
      ],
      "text/plain": [
       "  PARENT_ID INFANT_ID SALARY_PER_AGE\n",
       "1  47        47.1     0.07000000    \n",
       "2  47        47.2     0.07000000    \n",
       "3  45        45.1     0.08571429    \n",
       "4 172       172.1     0.04615385    \n",
       "5   8         8.1             NA    \n",
       "6 301       301.1     0.05555556    "
      ]
     },
     "metadata": {},
     "output_type": "display_data"
    },
    {
     "data": {
      "text/html": [
       "<table>\n",
       "<caption>A tibble: 6 × 2</caption>\n",
       "<thead>\n",
       "\t<tr><th scope=col>PARENT_ID</th><th scope=col>SALARY_PER_AGE</th></tr>\n",
       "\t<tr><th scope=col>&lt;dbl&gt;</th><th scope=col>&lt;dbl&gt;</th></tr>\n",
       "</thead>\n",
       "<tbody>\n",
       "\t<tr><td> 47</td><td>0.07000000</td></tr>\n",
       "\t<tr><td> 47</td><td>0.07000000</td></tr>\n",
       "\t<tr><td> 45</td><td>0.08571429</td></tr>\n",
       "\t<tr><td>172</td><td>0.04615385</td></tr>\n",
       "\t<tr><td>  8</td><td>        NA</td></tr>\n",
       "\t<tr><td>301</td><td>0.05555556</td></tr>\n",
       "</tbody>\n",
       "</table>\n"
      ],
      "text/latex": [
       "A tibble: 6 × 2\n",
       "\\begin{tabular}{ll}\n",
       " PARENT\\_ID & SALARY\\_PER\\_AGE\\\\\n",
       " <dbl> & <dbl>\\\\\n",
       "\\hline\n",
       "\t  47 & 0.07000000\\\\\n",
       "\t  47 & 0.07000000\\\\\n",
       "\t  45 & 0.08571429\\\\\n",
       "\t 172 & 0.04615385\\\\\n",
       "\t   8 &         NA\\\\\n",
       "\t 301 & 0.05555556\\\\\n",
       "\\end{tabular}\n"
      ],
      "text/markdown": [
       "\n",
       "A tibble: 6 × 2\n",
       "\n",
       "| PARENT_ID &lt;dbl&gt; | SALARY_PER_AGE &lt;dbl&gt; |\n",
       "|---|---|\n",
       "|  47 | 0.07000000 |\n",
       "|  47 | 0.07000000 |\n",
       "|  45 | 0.08571429 |\n",
       "| 172 | 0.04615385 |\n",
       "|   8 |         NA |\n",
       "| 301 | 0.05555556 |\n",
       "\n"
      ],
      "text/plain": [
       "  PARENT_ID SALARY_PER_AGE\n",
       "1  47       0.07000000    \n",
       "2  47       0.07000000    \n",
       "3  45       0.08571429    \n",
       "4 172       0.04615385    \n",
       "5   8               NA    \n",
       "6 301       0.05555556    "
      ]
     },
     "metadata": {},
     "output_type": "display_data"
    }
   ],
   "source": [
    "#pregnancy <- pregnancy %>% mutate(SALARY=as.numeric(SALARY), AGE=as.numeric(AGE))\n",
    "#pregnancy %>% mutate(SALARY_PER_AGE=SALARY/AGE) %>% head()\n",
    "#pregnancy %>% mutate(SALARY_PER_AGE=SALARY/AGE) %>% select(PARENT_ID, INFANT_ID, SALARY_PER_AGE) %>% head()\n",
    "#pregnancy %>% transmute(PARENT_ID, SALARY_PER_AGE=SALARY/AGE) %>% head()"
   ]
  },
  {
   "cell_type": "markdown",
   "metadata": {},
   "source": [
    "There are many functions you can use in creating the expression for the (trans)mutation:\n",
    "\n",
    "|function|Description|\n",
    "|---|---|\n",
    "| _Offsets_ | These are useful for checking changes between cases |\n",
    "| lag() | Offset the elements by +1 |\n",
    "| lead() | Offset the elements by -1 |\n",
    "| _Cumulatives_ | |\n",
    "| cummall(), cumany()| Do as their name suggests |\n",
    "| cummax(), cummin() | |\n",
    "| cummean(), cummprod() | |\n",
    "| _Rankings_ | |\n",
    "| cume_dist() | Proportion of all values <= |\n",
    "| dense_rank() | rank with ties = min, no gaps |\n",
    "| min_rank() | rank with ties = min |\n",
    "| ntile() | bins into n bins |\n",
    "| percent_rank() | min_rank scaled to \\[0,1\\] |\n",
    "| row_number() | |\n",
    "| _Maths_ | |\n",
    "| arithmetic, logical operators and functions | |\n",
    "| _Control_ | |\n",
    "| between(left, right) | between or equal to left and right |\n",
    "| if_else(condition, iftrue, iffalse) | element-wise check |\n",
    "| ifelse() | can be used here and has slightly different behaviour |\n",
    "| case_when() | multi-case if_else |\n",
    "| na_if() | replace specific values with NA |\n",
    "| pmax(), pmin() | element-wise max and min |\n",
    "| recode() | vectorised switch |\n",
    "| recode_factor() | vectorised switch for factors |"
   ]
  },
  {
   "cell_type": "code",
   "execution_count": 60,
   "metadata": {},
   "outputs": [
    {
     "data": {
      "text/html": [
       "<table>\n",
       "<caption>A tibble: 6 × 2</caption>\n",
       "<thead>\n",
       "\t<tr><th scope=col>PARENT_ID</th><th scope=col>AGE</th></tr>\n",
       "\t<tr><th scope=col>&lt;dbl&gt;</th><th scope=col>&lt;dbl&gt;</th></tr>\n",
       "</thead>\n",
       "<tbody>\n",
       "\t<tr><td> 47</td><td>100</td></tr>\n",
       "\t<tr><td> 47</td><td>100</td></tr>\n",
       "\t<tr><td> 45</td><td>105</td></tr>\n",
       "\t<tr><td>172</td><td> 65</td></tr>\n",
       "\t<tr><td>  8</td><td>110</td></tr>\n",
       "\t<tr><td>301</td><td> 18</td></tr>\n",
       "</tbody>\n",
       "</table>\n"
      ],
      "text/latex": [
       "A tibble: 6 × 2\n",
       "\\begin{tabular}{ll}\n",
       " PARENT\\_ID & AGE\\\\\n",
       " <dbl> & <dbl>\\\\\n",
       "\\hline\n",
       "\t  47 & 100\\\\\n",
       "\t  47 & 100\\\\\n",
       "\t  45 & 105\\\\\n",
       "\t 172 &  65\\\\\n",
       "\t   8 & 110\\\\\n",
       "\t 301 &  18\\\\\n",
       "\\end{tabular}\n"
      ],
      "text/markdown": [
       "\n",
       "A tibble: 6 × 2\n",
       "\n",
       "| PARENT_ID &lt;dbl&gt; | AGE &lt;dbl&gt; |\n",
       "|---|---|\n",
       "|  47 | 100 |\n",
       "|  47 | 100 |\n",
       "|  45 | 105 |\n",
       "| 172 |  65 |\n",
       "|   8 | 110 |\n",
       "| 301 |  18 |\n",
       "\n"
      ],
      "text/plain": [
       "  PARENT_ID AGE\n",
       "1  47       100\n",
       "2  47       100\n",
       "3  45       105\n",
       "4 172        65\n",
       "5   8       110\n",
       "6 301        18"
      ]
     },
     "metadata": {},
     "output_type": "display_data"
    },
    {
     "data": {
      "text/html": [
       "<table>\n",
       "<caption>A tibble: 6 × 2</caption>\n",
       "<thead>\n",
       "\t<tr><th scope=col>PARENT_ID</th><th scope=col>SEPARATION</th></tr>\n",
       "\t<tr><th scope=col>&lt;dbl&gt;</th><th scope=col>&lt;int&gt;</th></tr>\n",
       "</thead>\n",
       "<tbody>\n",
       "\t<tr><td> 47</td><td>NA</td></tr>\n",
       "\t<tr><td> 47</td><td> 0</td></tr>\n",
       "\t<tr><td> 45</td><td>NA</td></tr>\n",
       "\t<tr><td>172</td><td>NA</td></tr>\n",
       "\t<tr><td>  8</td><td>NA</td></tr>\n",
       "\t<tr><td>301</td><td>NA</td></tr>\n",
       "</tbody>\n",
       "</table>\n"
      ],
      "text/latex": [
       "A tibble: 6 × 2\n",
       "\\begin{tabular}{ll}\n",
       " PARENT\\_ID & SEPARATION\\\\\n",
       " <dbl> & <int>\\\\\n",
       "\\hline\n",
       "\t  47 & NA\\\\\n",
       "\t  47 &  0\\\\\n",
       "\t  45 & NA\\\\\n",
       "\t 172 & NA\\\\\n",
       "\t   8 & NA\\\\\n",
       "\t 301 & NA\\\\\n",
       "\\end{tabular}\n"
      ],
      "text/markdown": [
       "\n",
       "A tibble: 6 × 2\n",
       "\n",
       "| PARENT_ID &lt;dbl&gt; | SEPARATION &lt;int&gt; |\n",
       "|---|---|\n",
       "|  47 | NA |\n",
       "|  47 |  0 |\n",
       "|  45 | NA |\n",
       "| 172 | NA |\n",
       "|   8 | NA |\n",
       "| 301 | NA |\n",
       "\n"
      ],
      "text/plain": [
       "  PARENT_ID SEPARATION\n",
       "1  47       NA        \n",
       "2  47        0        \n",
       "3  45       NA        \n",
       "4 172       NA        \n",
       "5   8       NA        \n",
       "6 301       NA        "
      ]
     },
     "metadata": {},
     "output_type": "display_data"
    },
    {
     "data": {
      "text/html": [
       "<table>\n",
       "<caption>A tibble: 6 × 2</caption>\n",
       "<thead>\n",
       "\t<tr><th scope=col>PARENT_ID</th><th scope=col>SEPARATION</th></tr>\n",
       "\t<tr><th scope=col>&lt;dbl&gt;</th><th scope=col>&lt;int&gt;</th></tr>\n",
       "</thead>\n",
       "<tbody>\n",
       "\t<tr><td> 47</td><td> 0</td></tr>\n",
       "\t<tr><td> 47</td><td>NA</td></tr>\n",
       "\t<tr><td> 45</td><td>NA</td></tr>\n",
       "\t<tr><td>172</td><td>NA</td></tr>\n",
       "\t<tr><td>  8</td><td>NA</td></tr>\n",
       "\t<tr><td>301</td><td>NA</td></tr>\n",
       "</tbody>\n",
       "</table>\n"
      ],
      "text/latex": [
       "A tibble: 6 × 2\n",
       "\\begin{tabular}{ll}\n",
       " PARENT\\_ID & SEPARATION\\\\\n",
       " <dbl> & <int>\\\\\n",
       "\\hline\n",
       "\t  47 &  0\\\\\n",
       "\t  47 & NA\\\\\n",
       "\t  45 & NA\\\\\n",
       "\t 172 & NA\\\\\n",
       "\t   8 & NA\\\\\n",
       "\t 301 & NA\\\\\n",
       "\\end{tabular}\n"
      ],
      "text/markdown": [
       "\n",
       "A tibble: 6 × 2\n",
       "\n",
       "| PARENT_ID &lt;dbl&gt; | SEPARATION &lt;int&gt; |\n",
       "|---|---|\n",
       "|  47 |  0 |\n",
       "|  47 | NA |\n",
       "|  45 | NA |\n",
       "| 172 | NA |\n",
       "|   8 | NA |\n",
       "| 301 | NA |\n",
       "\n"
      ],
      "text/plain": [
       "  PARENT_ID SEPARATION\n",
       "1  47        0        \n",
       "2  47       NA        \n",
       "3  45       NA        \n",
       "4 172       NA        \n",
       "5   8       NA        \n",
       "6 301       NA        "
      ]
     },
     "metadata": {},
     "output_type": "display_data"
    },
    {
     "data": {
      "text/html": [
       "<table>\n",
       "<caption>A tibble: 6 × 2</caption>\n",
       "<thead>\n",
       "\t<tr><th scope=col>PARENT_ID</th><th scope=col>RANK</th></tr>\n",
       "\t<tr><th scope=col>&lt;dbl&gt;</th><th scope=col>&lt;int&gt;</th></tr>\n",
       "</thead>\n",
       "<tbody>\n",
       "\t<tr><td>26</td><td>27</td></tr>\n",
       "\t<tr><td>27</td><td>28</td></tr>\n",
       "\t<tr><td>28</td><td>29</td></tr>\n",
       "\t<tr><td>29</td><td>30</td></tr>\n",
       "\t<tr><td>30</td><td>31</td></tr>\n",
       "\t<tr><td>31</td><td>32</td></tr>\n",
       "</tbody>\n",
       "</table>\n"
      ],
      "text/latex": [
       "A tibble: 6 × 2\n",
       "\\begin{tabular}{ll}\n",
       " PARENT\\_ID & RANK\\\\\n",
       " <dbl> & <int>\\\\\n",
       "\\hline\n",
       "\t 26 & 27\\\\\n",
       "\t 27 & 28\\\\\n",
       "\t 28 & 29\\\\\n",
       "\t 29 & 30\\\\\n",
       "\t 30 & 31\\\\\n",
       "\t 31 & 32\\\\\n",
       "\\end{tabular}\n"
      ],
      "text/markdown": [
       "\n",
       "A tibble: 6 × 2\n",
       "\n",
       "| PARENT_ID &lt;dbl&gt; | RANK &lt;int&gt; |\n",
       "|---|---|\n",
       "| 26 | 27 |\n",
       "| 27 | 28 |\n",
       "| 28 | 29 |\n",
       "| 29 | 30 |\n",
       "| 30 | 31 |\n",
       "| 31 | 32 |\n",
       "\n"
      ],
      "text/plain": [
       "  PARENT_ID RANK\n",
       "1 26        27  \n",
       "2 27        28  \n",
       "3 28        29  \n",
       "4 29        30  \n",
       "5 30        31  \n",
       "6 31        32  "
      ]
     },
     "metadata": {},
     "output_type": "display_data"
    }
   ],
   "source": [
    "#pregnancy %>% select(PARENT_ID, AGE) %>% filter(!is.na(AGE)) %>% head()\n",
    "#pregnancy %>% transmute(PARENT_ID, SEPARATION=ifelse(PARENT_ID==lag(PARENT_ID), as.integer(AGE-lag(AGE)), NA)) %>% head()\n",
    "#pregnancy %>% transmute(PARENT_ID, SEPARATION=ifelse(PARENT_ID==lead(PARENT_ID), as.integer(AGE-lead(AGE)), NA)) %>% head()\n",
    "#pregnancy %>% transmute(PARENT_ID, RANK=min_rank(PARENT_ID)) %>% arrange(RANK) %>% filter(PARENT_ID!=RANK) %>% head()"
   ]
  },
  {
   "cell_type": "markdown",
   "metadata": {},
   "source": [
    "There are several additional `mutate` functions to simplify processing:\n",
    "\n",
    "* `mutate_all` --- apply the specified functions to all columns. Specify the functions to be used in a list(name-subscript=function) e.g. `list(Logged=log)`.\n",
    "* `mutate_at` --- apply the specified functions to the specified columns/variables. Use `funs()` as above and `vars()` e.g. `vars(PARENT_ID)` to select variables.\n",
    "* `mutate_if` --- apply functions to variables of a specified type, e.g. `mutate_if(pregnancy, is.numeric, funs(log(.))`\n",
    "\n",
    "You can also use other functions to achieve similar goals, such as `add_column()` and `rename()`."
   ]
  },
  {
   "cell_type": "code",
   "execution_count": 64,
   "metadata": {},
   "outputs": [
    {
     "data": {
      "text/html": [
       "<table>\n",
       "<caption>A tibble: 6 × 8</caption>\n",
       "<thead>\n",
       "\t<tr><th scope=col>PARENT_ID</th><th scope=col>INFANT_ID</th><th scope=col>SALARY</th><th scope=col>AGE</th><th scope=col>PARENT_ID_Logged</th><th scope=col>INFANT_ID_Logged</th><th scope=col>SALARY_Logged</th><th scope=col>AGE_Logged</th></tr>\n",
       "\t<tr><th scope=col>&lt;dbl&gt;</th><th scope=col>&lt;dbl&gt;</th><th scope=col>&lt;dbl&gt;</th><th scope=col>&lt;dbl&gt;</th><th scope=col>&lt;dbl&gt;</th><th scope=col>&lt;dbl&gt;</th><th scope=col>&lt;dbl&gt;</th><th scope=col>&lt;dbl&gt;</th></tr>\n",
       "</thead>\n",
       "<tbody>\n",
       "\t<tr><td> 47</td><td> 47.1</td><td> 7</td><td>100</td><td>3.850148</td><td>3.852273</td><td>1.945910</td><td>4.605170</td></tr>\n",
       "\t<tr><td> 47</td><td> 47.2</td><td> 7</td><td>100</td><td>3.850148</td><td>3.854394</td><td>1.945910</td><td>4.605170</td></tr>\n",
       "\t<tr><td> 45</td><td> 45.1</td><td> 9</td><td>105</td><td>3.806662</td><td>3.808882</td><td>2.197225</td><td>4.653960</td></tr>\n",
       "\t<tr><td>172</td><td>172.1</td><td> 3</td><td> 65</td><td>5.147494</td><td>5.148076</td><td>1.098612</td><td>4.174387</td></tr>\n",
       "\t<tr><td>  8</td><td>  8.1</td><td>NA</td><td>110</td><td>2.079442</td><td>2.091864</td><td>      NA</td><td>4.700480</td></tr>\n",
       "\t<tr><td>301</td><td>301.1</td><td> 1</td><td> 18</td><td>5.707110</td><td>5.707442</td><td>0.000000</td><td>2.890372</td></tr>\n",
       "</tbody>\n",
       "</table>\n"
      ],
      "text/latex": [
       "A tibble: 6 × 8\n",
       "\\begin{tabular}{llllllll}\n",
       " PARENT\\_ID & INFANT\\_ID & SALARY & AGE & PARENT\\_ID\\_Logged & INFANT\\_ID\\_Logged & SALARY\\_Logged & AGE\\_Logged\\\\\n",
       " <dbl> & <dbl> & <dbl> & <dbl> & <dbl> & <dbl> & <dbl> & <dbl>\\\\\n",
       "\\hline\n",
       "\t  47 &  47.1 &  7 & 100 & 3.850148 & 3.852273 & 1.945910 & 4.605170\\\\\n",
       "\t  47 &  47.2 &  7 & 100 & 3.850148 & 3.854394 & 1.945910 & 4.605170\\\\\n",
       "\t  45 &  45.1 &  9 & 105 & 3.806662 & 3.808882 & 2.197225 & 4.653960\\\\\n",
       "\t 172 & 172.1 &  3 &  65 & 5.147494 & 5.148076 & 1.098612 & 4.174387\\\\\n",
       "\t   8 &   8.1 & NA & 110 & 2.079442 & 2.091864 &       NA & 4.700480\\\\\n",
       "\t 301 & 301.1 &  1 &  18 & 5.707110 & 5.707442 & 0.000000 & 2.890372\\\\\n",
       "\\end{tabular}\n"
      ],
      "text/markdown": [
       "\n",
       "A tibble: 6 × 8\n",
       "\n",
       "| PARENT_ID &lt;dbl&gt; | INFANT_ID &lt;dbl&gt; | SALARY &lt;dbl&gt; | AGE &lt;dbl&gt; | PARENT_ID_Logged &lt;dbl&gt; | INFANT_ID_Logged &lt;dbl&gt; | SALARY_Logged &lt;dbl&gt; | AGE_Logged &lt;dbl&gt; |\n",
       "|---|---|---|---|---|---|---|---|\n",
       "|  47 |  47.1 |  7 | 100 | 3.850148 | 3.852273 | 1.945910 | 4.605170 |\n",
       "|  47 |  47.2 |  7 | 100 | 3.850148 | 3.854394 | 1.945910 | 4.605170 |\n",
       "|  45 |  45.1 |  9 | 105 | 3.806662 | 3.808882 | 2.197225 | 4.653960 |\n",
       "| 172 | 172.1 |  3 |  65 | 5.147494 | 5.148076 | 1.098612 | 4.174387 |\n",
       "|   8 |   8.1 | NA | 110 | 2.079442 | 2.091864 |       NA | 4.700480 |\n",
       "| 301 | 301.1 |  1 |  18 | 5.707110 | 5.707442 | 0.000000 | 2.890372 |\n",
       "\n"
      ],
      "text/plain": [
       "  PARENT_ID INFANT_ID SALARY AGE PARENT_ID_Logged INFANT_ID_Logged\n",
       "1  47        47.1      7     100 3.850148         3.852273        \n",
       "2  47        47.2      7     100 3.850148         3.854394        \n",
       "3  45        45.1      9     105 3.806662         3.808882        \n",
       "4 172       172.1      3      65 5.147494         5.148076        \n",
       "5   8         8.1     NA     110 2.079442         2.091864        \n",
       "6 301       301.1      1      18 5.707110         5.707442        \n",
       "  SALARY_Logged AGE_Logged\n",
       "1 1.945910      4.605170  \n",
       "2 1.945910      4.605170  \n",
       "3 2.197225      4.653960  \n",
       "4 1.098612      4.174387  \n",
       "5       NA      4.700480  \n",
       "6 0.000000      2.890372  "
      ]
     },
     "metadata": {},
     "output_type": "display_data"
    }
   ],
   "source": [
    "#pregnancy %>% mutate_if(is.numeric, list(Logged=log)) %>% select_if(is.numeric) %>% head()"
   ]
  },
  {
   "cell_type": "markdown",
   "metadata": {},
   "source": [
    "## _Bringing the Data Back Together - Combining Tables_\n",
    "\n",
    "A very useful mechanism is to be able to process data in a smaller table and then recombine with the original table or a results table once the analysis is complete. To do this we need to be able to select the data we want (see `select` and `transmute`, above), and put them back together - for which we use the mutating joins and filtering joins.\n",
    "\n",
    "In their simplest forms you can tack two data frames together using `bind_cols()` and `bind_rows()`. In both cases, you need to ensure that the two section exactly correspond - same number of rows for bind_cols() and columns for bind_rows() and that the rows and columns respectively are in the same order.\n",
    "\n",
    "There are similar functions in base-R, `rbind()` and `cbind()`.\n",
    "\n",
    "A more flexible option is provided by the `joins`. These are very like (if not identical to) joins in SQL. Use the `by=c('name', 'name')` parameter to specify the variables to match on or to specify which columns to match if they are different: `by=c('name-in-x' = 'name-in-y')`.\n",
    "\n",
    "If a variable exists in both tables, and is not used for the matching, R will produce two variables one with a `.x` and one with a `.y`. You can specify alternatives using the `suffix` parameter (`suffix=c('-1', '-2')`).\n",
    "\n",
    "| Join | Description |\n",
    "|---|---|\n",
    "| _Mutating Joins_ | |\n",
    "| left_join() | Join matching values from y to x |\n",
    "| right_join() | Join matching values from x to y |\n",
    "| inner_join() | Join data keeping only the rows with matches |\n",
    "| full_join() | Join all data, all rows, all values |\n",
    "| _Filtering Joins_ | |\n",
    "| semi_join() | Return the rows in x that have a match in y. |\n",
    "| anti_join() | Return the rows in x that don't have a match in y. |\n",
    "\n",
    "Be very careful with joins that you check the resulting number of rows is what you expect it to be and that you haven't just introduced duplicates."
   ]
  },
  {
   "cell_type": "code",
   "execution_count": 65,
   "metadata": {},
   "outputs": [
    {
     "data": {
      "text/html": [
       "<table>\n",
       "<caption>A tibble: 1 × 1</caption>\n",
       "<thead>\n",
       "\t<tr><th scope=col>n</th></tr>\n",
       "\t<tr><th scope=col>&lt;int&gt;</th></tr>\n",
       "</thead>\n",
       "<tbody>\n",
       "\t<tr><td>16</td></tr>\n",
       "</tbody>\n",
       "</table>\n"
      ],
      "text/latex": [
       "A tibble: 1 × 1\n",
       "\\begin{tabular}{l}\n",
       " n\\\\\n",
       " <int>\\\\\n",
       "\\hline\n",
       "\t 16\\\\\n",
       "\\end{tabular}\n"
      ],
      "text/markdown": [
       "\n",
       "A tibble: 1 × 1\n",
       "\n",
       "| n &lt;int&gt; |\n",
       "|---|\n",
       "| 16 |\n",
       "\n"
      ],
      "text/plain": [
       "  n \n",
       "1 16"
      ]
     },
     "metadata": {},
     "output_type": "display_data"
    },
    {
     "data": {
      "text/html": [
       "<table>\n",
       "<caption>A tibble: 1 × 1</caption>\n",
       "<thead>\n",
       "\t<tr><th scope=col>n</th></tr>\n",
       "\t<tr><th scope=col>&lt;int&gt;</th></tr>\n",
       "</thead>\n",
       "<tbody>\n",
       "\t<tr><td>816</td></tr>\n",
       "</tbody>\n",
       "</table>\n"
      ],
      "text/latex": [
       "A tibble: 1 × 1\n",
       "\\begin{tabular}{l}\n",
       " n\\\\\n",
       " <int>\\\\\n",
       "\\hline\n",
       "\t 816\\\\\n",
       "\\end{tabular}\n"
      ],
      "text/markdown": [
       "\n",
       "A tibble: 1 × 1\n",
       "\n",
       "| n &lt;int&gt; |\n",
       "|---|\n",
       "| 816 |\n",
       "\n"
      ],
      "text/plain": [
       "  n  \n",
       "1 816"
      ]
     },
     "metadata": {},
     "output_type": "display_data"
    },
    {
     "data": {
      "text/html": [
       "<table>\n",
       "<caption>A tibble: 6 × 9</caption>\n",
       "<thead>\n",
       "\t<tr><th scope=col>PARENT_ID</th><th scope=col>DOBCHILD1</th><th scope=col>DOBCHILD2</th><th scope=col>DOBCHILD3</th><th scope=col>DOBCHILD4</th><th scope=col>DOBCHILD5</th><th scope=col>DOBCHILD6</th><th scope=col>LANGUAGE</th><th scope=col>OTHER_LANGUAGE</th></tr>\n",
       "\t<tr><th scope=col>&lt;dbl&gt;</th><th scope=col>&lt;chr&gt;</th><th scope=col>&lt;chr&gt;</th><th scope=col>&lt;chr&gt;</th><th scope=col>&lt;chr&gt;</th><th scope=col>&lt;chr&gt;</th><th scope=col>&lt;chr&gt;</th><th scope=col>&lt;chr&gt;</th><th scope=col>&lt;chr&gt;</th></tr>\n",
       "</thead>\n",
       "<tbody>\n",
       "\t<tr><td>607</td><td>01/10/1997</td><td>14/01/1999</td><td>14/03/2006</td><td>05/11/2007</td><td>NA</td><td>NA</td><td>1</td><td>.</td></tr>\n",
       "\t<tr><td>233</td><td>02/10/1995</td><td>01/01/1993</td><td>01/12/1997</td><td>04/02/2009</td><td>NA</td><td>NA</td><td>4</td><td>.</td></tr>\n",
       "\t<tr><td>794</td><td>02/03/1995</td><td>16/02/1996</td><td>07/09/1998</td><td>28/08/1999</td><td>NA</td><td>NA</td><td>1</td><td>.</td></tr>\n",
       "\t<tr><td>434</td><td>05/11/1993</td><td>24/12/1997</td><td>27/05/2001</td><td>21/01/2010</td><td>NA</td><td>NA</td><td>4</td><td>.</td></tr>\n",
       "\t<tr><td>344</td><td>04/04/1994</td><td>21/07/2000</td><td>12/08/2006</td><td>28/07/2007</td><td>NA</td><td>NA</td><td>1</td><td>.</td></tr>\n",
       "\t<tr><td>431</td><td>07/08/2001</td><td>21/09/2004</td><td>22/09/2006</td><td>22/06/2010</td><td>NA</td><td>NA</td><td>1</td><td>.</td></tr>\n",
       "</tbody>\n",
       "</table>\n"
      ],
      "text/latex": [
       "A tibble: 6 × 9\n",
       "\\begin{tabular}{lllllllll}\n",
       " PARENT\\_ID & DOBCHILD1 & DOBCHILD2 & DOBCHILD3 & DOBCHILD4 & DOBCHILD5 & DOBCHILD6 & LANGUAGE & OTHER\\_LANGUAGE\\\\\n",
       " <dbl> & <chr> & <chr> & <chr> & <chr> & <chr> & <chr> & <chr> & <chr>\\\\\n",
       "\\hline\n",
       "\t 607 & 01/10/1997 & 14/01/1999 & 14/03/2006 & 05/11/2007 & NA & NA & 1 & .\\\\\n",
       "\t 233 & 02/10/1995 & 01/01/1993 & 01/12/1997 & 04/02/2009 & NA & NA & 4 & .\\\\\n",
       "\t 794 & 02/03/1995 & 16/02/1996 & 07/09/1998 & 28/08/1999 & NA & NA & 1 & .\\\\\n",
       "\t 434 & 05/11/1993 & 24/12/1997 & 27/05/2001 & 21/01/2010 & NA & NA & 4 & .\\\\\n",
       "\t 344 & 04/04/1994 & 21/07/2000 & 12/08/2006 & 28/07/2007 & NA & NA & 1 & .\\\\\n",
       "\t 431 & 07/08/2001 & 21/09/2004 & 22/09/2006 & 22/06/2010 & NA & NA & 1 & .\\\\\n",
       "\\end{tabular}\n"
      ],
      "text/markdown": [
       "\n",
       "A tibble: 6 × 9\n",
       "\n",
       "| PARENT_ID &lt;dbl&gt; | DOBCHILD1 &lt;chr&gt; | DOBCHILD2 &lt;chr&gt; | DOBCHILD3 &lt;chr&gt; | DOBCHILD4 &lt;chr&gt; | DOBCHILD5 &lt;chr&gt; | DOBCHILD6 &lt;chr&gt; | LANGUAGE &lt;chr&gt; | OTHER_LANGUAGE &lt;chr&gt; |\n",
       "|---|---|---|---|---|---|---|---|---|\n",
       "| 607 | 01/10/1997 | 14/01/1999 | 14/03/2006 | 05/11/2007 | NA | NA | 1 | . |\n",
       "| 233 | 02/10/1995 | 01/01/1993 | 01/12/1997 | 04/02/2009 | NA | NA | 4 | . |\n",
       "| 794 | 02/03/1995 | 16/02/1996 | 07/09/1998 | 28/08/1999 | NA | NA | 1 | . |\n",
       "| 434 | 05/11/1993 | 24/12/1997 | 27/05/2001 | 21/01/2010 | NA | NA | 4 | . |\n",
       "| 344 | 04/04/1994 | 21/07/2000 | 12/08/2006 | 28/07/2007 | NA | NA | 1 | . |\n",
       "| 431 | 07/08/2001 | 21/09/2004 | 22/09/2006 | 22/06/2010 | NA | NA | 1 | . |\n",
       "\n"
      ],
      "text/plain": [
       "  PARENT_ID DOBCHILD1  DOBCHILD2  DOBCHILD3  DOBCHILD4  DOBCHILD5 DOBCHILD6\n",
       "1 607       01/10/1997 14/01/1999 14/03/2006 05/11/2007 NA        NA       \n",
       "2 233       02/10/1995 01/01/1993 01/12/1997 04/02/2009 NA        NA       \n",
       "3 794       02/03/1995 16/02/1996 07/09/1998 28/08/1999 NA        NA       \n",
       "4 434       05/11/1993 24/12/1997 27/05/2001 21/01/2010 NA        NA       \n",
       "5 344       04/04/1994 21/07/2000 12/08/2006 28/07/2007 NA        NA       \n",
       "6 431       07/08/2001 21/09/2004 22/09/2006 22/06/2010 NA        NA       \n",
       "  LANGUAGE OTHER_LANGUAGE\n",
       "1 1        .             \n",
       "2 4        .             \n",
       "3 1        .             \n",
       "4 4        .             \n",
       "5 1        .             \n",
       "6 1        .             "
      ]
     },
     "metadata": {},
     "output_type": "display_data"
    }
   ],
   "source": [
    "#table1 <- pregnancy %>% select(PARENT_ID, contains('DOB')) %>% filter(!is.na(DOBCHILD4))\n",
    "#table1 %>% distinct(PARENT_ID) %>% count()\n",
    "#table2 <- pregnancy %>% select(PARENT_ID, contains('LANGUAGE'))\n",
    "#table2 %>% distinct(PARENT_ID) %>% count()\n",
    "#table3 <- table1 %>% left_join(table2, by='PARENT_ID')\n",
    "#table3 %>% head()"
   ]
  },
  {
   "cell_type": "markdown",
   "metadata": {},
   "source": [
    "## __Group Exercise__: Process the `pregnancy` dataset.\n",
    "Consider the data, what do we want to do?"
   ]
  },
  {
   "cell_type": "markdown",
   "metadata": {},
   "source": [
    "<table style=\"text-align:center;\"><tr><td width=\"100\" height=\"20\" style=\"background-color:greenyellow\"></td><td width=\"100\" height=\"20\" style=\"background-color:hotpink\"></td></tr></table>"
   ]
  },
  {
   "cell_type": "markdown",
   "metadata": {},
   "source": [
    "<table width='100%'><tr>\n",
    "    <td style='background-color:red; text-align:center; color: white;'><!--Foundation<!--hr size='5' style='border-color:red; background-color:red;'--></td>\n",
    "    <td style='background-color:yellow; text-align:center;'><!--Level 1<!--hr size='5' style='border-color:yellow; background-color:yellow;'--></td>\n",
    "    <td style='background-color:orange; text-align:center;'><!--Level 2<!--hr size='5' style='border-color:orange; background-color:orange;'--></td>\n",
    "    <td style='background-color:green; text-align:center; color: white;'><!--Level 3<!--hr size='5' style='border-color:orange; background-color:orange;'--></td>\n",
    "    <td style='background-color:blue; text-align:center; color: white;'><!--Level 4<!--hr size='5' style='border-color:orange; background-color:orange;'--></td>\n",
    "    <td style='background-color:purple; text-align:center; color: white;'><!--Level 5<!--hr size='5' style='border-color:orange; background-color:orange;'--></td>\n",
    "    <td style='background-color:brown; text-align:center; color: white;'><!--Level 6<!--hr size='5' style='border-color:orange; background-color:orange;'--></td>\n",
    "    <td style='background-color:black; text-align:center; color: white;'><!--Level 7<!--hr size='5' style='border-color:orange; background-color:orange;'--></td>\n",
    "</tr></table>"
   ]
  }
 ],
 "metadata": {
  "kernelspec": {
   "display_name": "R",
   "language": "R",
   "name": "ir"
  },
  "language_info": {
   "codemirror_mode": "r",
   "file_extension": ".r",
   "mimetype": "text/x-r-source",
   "name": "R",
   "pygments_lexer": "r",
   "version": "4.0.2"
  }
 },
 "nbformat": 4,
 "nbformat_minor": 4
}
