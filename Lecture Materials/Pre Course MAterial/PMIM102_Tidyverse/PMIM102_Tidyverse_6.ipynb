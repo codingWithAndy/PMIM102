{
 "cells": [
  {
   "cell_type": "markdown",
   "metadata": {},
   "source": [
    "<table width='100%'><tr>\n",
    "    <td style='background-color:red; text-align:center; color: white;'><!--Foundation<!--hr size='5' style='border-color:red; background-color:red;'--></td>\n",
    "    <td style='background-color:yellow; text-align:center;'><!--Level 1<!--hr size='5' style='border-color:yellow; background-color:yellow;'--></td>\n",
    "    <td style='background-color:orange; text-align:center;'><!--Level 2<!--hr size='5' style='border-color:orange; background-color:orange;'--></td>\n",
    "    <td style='background-color:green; text-align:center; color: white;'><!--Level 3<!--hr size='5' style='border-color:orange; background-color:orange;'--></td>\n",
    "    <td style='background-color:blue; text-align:center; color: white;'><!--Level 4<!--hr size='5' style='border-color:orange; background-color:orange;'--></td>\n",
    "    <td style='background-color:purple; text-align:center; color: white;'><!--Level 5<!--hr size='5' style='border-color:orange; background-color:orange;'--></td>\n",
    "    <td style='background-color:brown; text-align:center; color: white;'><!--Level 6<!--hr size='5' style='border-color:orange; background-color:orange;'--></td>\n",
    "    <td style='background-color:black; text-align:center; color: white;'><!--Level 7<!--hr size='5' style='border-color:orange; background-color:orange;'--></td>\n",
    "</tr></table>"
   ]
  },
  {
   "cell_type": "markdown",
   "metadata": {},
   "source": [
    "<table style='border-left:10px solid orange;'><tr>\n",
    "    <td style='padding-left:20px;'>\n",
    "        <h2><i>Swansea University Medical School</i><br/><b>MSc Health Data Science</b></h2>\n",
    "        <h3>PMIM-102 Introduction to Scientific Computing in Healthcare</h3>\n",
    "        <h1><b>Introduction to Programming in R</b></h1>\n",
    "        <h2><b>3. The Tidyverse</b></h2>\n",
    "        <h2><i>Part 6: Advanced features of the Tidyverse.</i></h2>\n",
    "        <h3><i>September 2020</i></h3>\n",
    "        <h3><b>To-do</b></h3>\n",
    "        <ul>\n",
    "            <li>Pad out the shiny section.</li>\n",
    "        </ul>\n",
    "    </td>\n",
    "    <td><img height='300' width='500' src='images/cover.jpg'/></td>\n",
    "</tr></table>"
   ]
  },
  {
   "cell_type": "markdown",
   "metadata": {},
   "source": [
    "## __Aim__: Use the tools available in R to manipulate tables of data.\n",
    "\n",
    "The aim of this session is to concentrate on the core activities in working with large datasets: moving, cleaning and transforming table data to facilitate analyses. Whilst this is possible using base-R, the facilities provided by the libraries in the __Tidyverse__ make it considerably __easier__ and the resulting code __more readable__.\n",
    "\n",
    "### __A map of where we're going__\n",
    "\n",
    "1. <b>Introduction</b> - What is the process, the problems with standard R and the structure of 'tidy' data.\n",
    "\n",
    "1. <b>Acquiring data</b> - Getting data into R from files (<b>readr</b>).\n",
    "\n",
    "1. <b>Tidying the data</b> - Handling missing data and reshaping the tables (<b>tidyr</b>).\n",
    "\n",
    "1. <b>Transforming the data</b> - Selecting and converting the data ready to analyse (<b>dplyr</b>).\n",
    "\n",
    "1. <b>Working with specific data types in tidyverse</b>: strings (<b>stringr</b>), dates (<b>lubridate</b>), factors (<b>forcats</b>).\n",
    "\n",
    "1. <b>Plotting &amp; Data visualisation</b> - beyond the simple R plot etc. (<b>ggplot2</b>).\n",
    "\n",
    "1. <div style=\"background-color:yellow;\"><b>Extras</b> - Things worth knowing of so that you can use them if you ever need them.\n",
    "    <ul>\n",
    "        <li>Applying functions and working with lists (purrr).</li>\n",
    "        <li>Tidy evaluation (rlang).</li>\n",
    "        <li>Communicating your results with a dynamic, R-based website (shiny).</li></ul></div>"
   ]
  },
  {
   "cell_type": "markdown",
   "metadata": {},
   "source": [
    "## __Load the Tidyverse__\n",
    "\n",
    "The first thing to do is make sure the library is loaded. If you have not already installed it, do so not using the <code>install.packages()</code> function."
   ]
  },
  {
   "cell_type": "code",
   "execution_count": 3,
   "metadata": {},
   "outputs": [
    {
     "name": "stderr",
     "output_type": "stream",
     "text": [
      "-- \u001b[1mAttaching packages\u001b[22m --------------------------------------- tidyverse 1.3.0 --\n",
      "\n",
      "\u001b[32mv\u001b[39m \u001b[34mggplot2\u001b[39m 3.3.2     \u001b[32mv\u001b[39m \u001b[34mpurrr  \u001b[39m 0.3.4\n",
      "\u001b[32mv\u001b[39m \u001b[34mtibble \u001b[39m 3.0.3     \u001b[32mv\u001b[39m \u001b[34mdplyr  \u001b[39m 1.0.2\n",
      "\u001b[32mv\u001b[39m \u001b[34mtidyr  \u001b[39m 1.1.2     \u001b[32mv\u001b[39m \u001b[34mstringr\u001b[39m 1.4.0\n",
      "\u001b[32mv\u001b[39m \u001b[34mreadr  \u001b[39m 1.3.1     \u001b[32mv\u001b[39m \u001b[34mforcats\u001b[39m 0.5.0\n",
      "\n",
      "-- \u001b[1mConflicts\u001b[22m ------------------------------------------ tidyverse_conflicts() --\n",
      "\u001b[31mx\u001b[39m \u001b[34mpurrr\u001b[39m::\u001b[32m%@%()\u001b[39m             masks \u001b[34mrlang\u001b[39m::%@%()\n",
      "\u001b[31mx\u001b[39m \u001b[34mlubridate\u001b[39m::\u001b[32mas.difftime()\u001b[39m masks \u001b[34mbase\u001b[39m::as.difftime()\n",
      "\u001b[31mx\u001b[39m \u001b[34mpurrr\u001b[39m::\u001b[32mas_function()\u001b[39m     masks \u001b[34mrlang\u001b[39m::as_function()\n",
      "\u001b[31mx\u001b[39m \u001b[34mlubridate\u001b[39m::\u001b[32mdate()\u001b[39m        masks \u001b[34mbase\u001b[39m::date()\n",
      "\u001b[31mx\u001b[39m \u001b[34mdplyr\u001b[39m::\u001b[32mfilter()\u001b[39m          masks \u001b[34mstats\u001b[39m::filter()\n",
      "\u001b[31mx\u001b[39m \u001b[34mpurrr\u001b[39m::\u001b[32mflatten()\u001b[39m         masks \u001b[34mrlang\u001b[39m::flatten()\n",
      "\u001b[31mx\u001b[39m \u001b[34mpurrr\u001b[39m::\u001b[32mflatten_chr()\u001b[39m     masks \u001b[34mrlang\u001b[39m::flatten_chr()\n",
      "\u001b[31mx\u001b[39m \u001b[34mpurrr\u001b[39m::\u001b[32mflatten_dbl()\u001b[39m     masks \u001b[34mrlang\u001b[39m::flatten_dbl()\n",
      "\u001b[31mx\u001b[39m \u001b[34mpurrr\u001b[39m::\u001b[32mflatten_int()\u001b[39m     masks \u001b[34mrlang\u001b[39m::flatten_int()\n",
      "\u001b[31mx\u001b[39m \u001b[34mpurrr\u001b[39m::\u001b[32mflatten_lgl()\u001b[39m     masks \u001b[34mrlang\u001b[39m::flatten_lgl()\n",
      "\u001b[31mx\u001b[39m \u001b[34mpurrr\u001b[39m::\u001b[32mflatten_raw()\u001b[39m     masks \u001b[34mrlang\u001b[39m::flatten_raw()\n",
      "\u001b[31mx\u001b[39m \u001b[34mlubridate\u001b[39m::\u001b[32mintersect()\u001b[39m   masks \u001b[34mbase\u001b[39m::intersect()\n",
      "\u001b[31mx\u001b[39m \u001b[34mpurrr\u001b[39m::\u001b[32minvoke()\u001b[39m          masks \u001b[34mrlang\u001b[39m::invoke()\n",
      "\u001b[31mx\u001b[39m \u001b[34mdplyr\u001b[39m::\u001b[32mlag()\u001b[39m             masks \u001b[34mstats\u001b[39m::lag()\n",
      "\u001b[31mx\u001b[39m \u001b[34mpurrr\u001b[39m::\u001b[32mlist_along()\u001b[39m      masks \u001b[34mrlang\u001b[39m::list_along()\n",
      "\u001b[31mx\u001b[39m \u001b[34mpurrr\u001b[39m::\u001b[32mmodify()\u001b[39m          masks \u001b[34mrlang\u001b[39m::modify()\n",
      "\u001b[31mx\u001b[39m \u001b[34mpurrr\u001b[39m::\u001b[32mprepend()\u001b[39m         masks \u001b[34mrlang\u001b[39m::prepend()\n",
      "\u001b[31mx\u001b[39m \u001b[34mlubridate\u001b[39m::\u001b[32msetdiff()\u001b[39m     masks \u001b[34mbase\u001b[39m::setdiff()\n",
      "\u001b[31mx\u001b[39m \u001b[34mpurrr\u001b[39m::\u001b[32msplice()\u001b[39m          masks \u001b[34mrlang\u001b[39m::splice()\n",
      "\u001b[31mx\u001b[39m \u001b[34mlubridate\u001b[39m::\u001b[32munion()\u001b[39m       masks \u001b[34mbase\u001b[39m::union()\n",
      "\n"
     ]
    }
   ],
   "source": [
    "## install.packages('tidyverse')\n",
    "#library(tidyverse)"
   ]
  },
  {
   "cell_type": "markdown",
   "metadata": {},
   "source": [
    "## __Some Advanced Features of R for Data Science__\n",
    "\n",
    "There are many more advanced features of R. rlang and object oriented programming amonst them. However, many of these are fairly obscure and you may never come across the need for them. They are described in detail in [Advanced R](http://adv-r.had.co.nz)."
   ]
  },
  {
   "cell_type": "markdown",
   "metadata": {},
   "source": [
    "## __Applying functions and working with _lists_ (purrr)__\n",
    "\n",
    "[See the purrr cheatsheet.](https://github.com/rstudio/cheatsheets/blob/master/purrr.pdf)\n",
    "\n",
    "If you find you are working with lists, the `purrr` library provides a large number of utilities to help with organising the data and applying functions to a list, a series of lists and applying a list of functions to a series of lists.\n",
    "\n",
    "You can also reduce lists by applying a function to the first two lists, then that result and the next list and then that result and the next list and so on.\n",
    "\n",
    "It is also possible to work with nested data where a data cell contains an entire table.\n",
    "\n",
    "For further information, see the cheat sheet and [R for Data Science](http://adv-r.had.co.nz)."
   ]
  },
  {
   "cell_type": "markdown",
   "metadata": {},
   "source": [
    "## __Tidy evaluation (rlang)__\n",
    "\n",
    "Occasionally you may want to write some code that you want to access some names (e.g. columns) but you want the user to be able to specify the names (or, indeed a more complex expression). More generally you may want to combine code you are writing with code your user may write later.\n",
    "\n",
    "`rlang` provide various facilities to help with this under the heading 'quasiquotation' (see Ch.19 in Advanced R).\n",
    "\n",
    "An expression is an object that contains the quoted code but doesn't evaluate it. A quosure is similar but also contains the expression's environment (refer to the documentation for this). If we try to pass an expression to a function, R will evaluate the expression and pass the result to the call. If we want the evaluation to happen in the calling function, we need to create a symbol or a quosure and pass that to the function.\n",
    "\n",
    "Once we have passed the expression to the function, we need to evaluate (or unquote) the expression when we need to use it. There are three symbols used for this:\n",
    "* !! (unquote or bang bang) which evaluates the following symbol e.g. log(!!a + b) will replace the symbol 'a' with the evaluated expr() it contains. So if we have x <- expr(pi^2), then log(!!x + e) will become log(pi^2 + e)\n",
    "* !!! (unquote splice or bang bang bang) evaluates a list and provides the elements as arguments to the surrounding call. So if we have l <- list(mean=3.2, sd=0.4), then rnorm(!!!l) becomes rnorm(mean=3.2, sd=0.4)\n",
    "* := allows unquoting of a name on the left-hand side of an assignment, so with n <- expr(result), the expression !!n := 10 would set result to 10\n",
    "\n",
    "Firstly, we need to get used to expressions and quosures."
   ]
  },
  {
   "cell_type": "code",
   "execution_count": 1,
   "metadata": {},
   "outputs": [
    {
     "data": {
      "text/html": [
       "3.14159265358979"
      ],
      "text/latex": [
       "3.14159265358979"
      ],
      "text/markdown": [
       "3.14159265358979"
      ],
      "text/plain": [
       "[1] 3.141593"
      ]
     },
     "metadata": {},
     "output_type": "display_data"
    },
    {
     "data": {
      "text/html": [
       "FALSE"
      ],
      "text/latex": [
       "FALSE"
      ],
      "text/markdown": [
       "FALSE"
      ],
      "text/plain": [
       "[1] FALSE"
      ]
     },
     "metadata": {},
     "output_type": "display_data"
    },
    {
     "data": {
      "text/html": [
       "TRUE"
      ],
      "text/latex": [
       "TRUE"
      ],
      "text/markdown": [
       "TRUE"
      ],
      "text/plain": [
       "[1] TRUE"
      ]
     },
     "metadata": {},
     "output_type": "display_data"
    },
    {
     "data": {
      "text/plain": [
       "pi"
      ]
     },
     "metadata": {},
     "output_type": "display_data"
    },
    {
     "data": {
      "text/html": [
       "TRUE"
      ],
      "text/latex": [
       "TRUE"
      ],
      "text/markdown": [
       "TRUE"
      ],
      "text/plain": [
       "[1] TRUE"
      ]
     },
     "metadata": {},
     "output_type": "display_data"
    },
    {
     "data": {
      "text/html": [
       "TRUE"
      ],
      "text/latex": [
       "TRUE"
      ],
      "text/markdown": [
       "TRUE"
      ],
      "text/plain": [
       "[1] TRUE"
      ]
     },
     "metadata": {},
     "output_type": "display_data"
    },
    {
     "data": {
      "text/html": [
       "FALSE"
      ],
      "text/latex": [
       "FALSE"
      ],
      "text/markdown": [
       "FALSE"
      ],
      "text/plain": [
       "[1] FALSE"
      ]
     },
     "metadata": {},
     "output_type": "display_data"
    },
    {
     "data": {
      "text/html": [
       "3.14159265358979"
      ],
      "text/latex": [
       "3.14159265358979"
      ],
      "text/markdown": [
       "3.14159265358979"
      ],
      "text/plain": [
       "[1] 3.141593"
      ]
     },
     "metadata": {},
     "output_type": "display_data"
    },
    {
     "data": {
      "text/plain": [
       "\u001b[1m<quosure>\u001b[22m\n",
       "expr: \u001b[39m^pi\u001b[39m\n",
       "env:  global"
      ]
     },
     "metadata": {},
     "output_type": "display_data"
    },
    {
     "data": {
      "text/html": [
       "FALSE"
      ],
      "text/latex": [
       "FALSE"
      ],
      "text/markdown": [
       "FALSE"
      ],
      "text/plain": [
       "[1] FALSE"
      ]
     },
     "metadata": {},
     "output_type": "display_data"
    },
    {
     "data": {
      "text/html": [
       "TRUE"
      ],
      "text/latex": [
       "TRUE"
      ],
      "text/markdown": [
       "TRUE"
      ],
      "text/plain": [
       "[1] TRUE"
      ]
     },
     "metadata": {},
     "output_type": "display_data"
    },
    {
     "data": {
      "text/html": [
       "TRUE"
      ],
      "text/latex": [
       "TRUE"
      ],
      "text/markdown": [
       "TRUE"
      ],
      "text/plain": [
       "[1] TRUE"
      ]
     },
     "metadata": {},
     "output_type": "display_data"
    },
    {
     "data": {
      "text/html": [
       "3.14159265358979"
      ],
      "text/latex": [
       "3.14159265358979"
      ],
      "text/markdown": [
       "3.14159265358979"
      ],
      "text/plain": [
       "[1] 3.141593"
      ]
     },
     "metadata": {},
     "output_type": "display_data"
    }
   ],
   "source": [
    "#library(rlang)\n",
    "#pi\n",
    "#is_symbol(pi)\n",
    "#is_expression(pi)\n",
    "#e <- expr(pi)\n",
    "#e\n",
    "#is_symbol(e)\n",
    "#is_expression(e)\n",
    "#is_quosure(e)\n",
    "#eval_bare(e)\n",
    "#q <- quo(pi)\n",
    "#q\n",
    "#is_symbol(q)\n",
    "#is_expression(q)\n",
    "#is_quosure(q)\n",
    "#eval_tidy(q)"
   ]
  },
  {
   "cell_type": "markdown",
   "metadata": {},
   "source": [
    "Now, let's expand this to allow us to pass in different column names to a function. Here, for example, we have a function which calculates the age at an event.\n",
    "\n",
    "Note the use of `expr()` when passing parameters directly to the function but `enexpr()` when doing do inside a function."
   ]
  },
  {
   "cell_type": "code",
   "execution_count": 8,
   "metadata": {},
   "outputs": [
    {
     "name": "stderr",
     "output_type": "stream",
     "text": [
      "Parsed with column specification:\n",
      "cols(\n",
      "  .default = col_character(),\n",
      "  PARENT_ID = \u001b[32mcol_double()\u001b[39m,\n",
      "  INFANT_ID = \u001b[32mcol_double()\u001b[39m\n",
      ")\n",
      "\n",
      "See spec(...) for full column specifications.\n",
      "\n"
     ]
    },
    {
     "name": "stdout",
     "output_type": "stream",
     "text": [
      "   PARENT_ID DATE_OF_BIRTH  DOBCHILD1  DOBCHILD2  DOBCHILD3 AGE_CHILD1\n",
      "1        451    1968-09-09 1999-02-22 2000-08-16 2002-09-25  30.453114\n",
      "2        164    1970-04-18 1994-12-15 1997-04-19 2000-05-08  24.659822\n",
      "3        607    1970-04-20 1997-10-01 1999-01-14 2006-03-14  27.449692\n",
      "4        233    1971-04-01 1995-10-02 1993-01-01 1997-12-01  24.503765\n",
      "5        489    1972-06-20 1991-12-01 2000-10-14 2011-03-16  19.446954\n",
      "6        103    1973-11-15 1995-09-30 1998-07-18 2005-07-29  21.872690\n",
      "7        670    1973-11-17 1997-11-20 2001-05-30 2002-09-28  24.008214\n",
      "8        404    1974-03-11 1998-02-02 1999-05-12 2002-02-01  23.898700\n",
      "9        794    1974-04-24 1995-03-02 1996-02-16 1998-09-07  20.854209\n",
      "10       808    1974-06-12 2000-04-30 2003-08-07 2010-10-09  25.883641\n",
      "11       434    1974-10-10 1993-11-05 1997-12-24 2001-05-27  19.071869\n",
      "12       354    1974-11-12 1996-12-02 1998-07-31 2001-01-21  22.056126\n",
      "13       510    1975-03-10 2000-12-30 2008-01-07 2009-10-02  25.809719\n",
      "14       344    1976-01-22 1994-04-04 2000-07-21 2006-08-12  18.198494\n",
      "15       384    1976-03-13 1996-11-06 2000-11-03 2004-07-14  20.651608\n",
      "16       412    1976-07-05 2008-03-10 2009-02-23 2010-09-14  31.679671\n",
      "17       463    1976-07-05 2008-03-10 2009-02-23 2010-09-14  31.679671\n",
      "18        87    1976-07-19 1997-09-09 1998-08-19 2008-04-04  21.141684\n",
      "19       147    1976-08-05 1996-10-03 2000-10-03 2008-01-30  20.161533\n",
      "20       378    1976-08-05 1994-08-27 1999-06-25 2008-08-28  18.058864\n",
      "21       431    1977-03-23 2001-08-07 2004-09-21 2006-09-22  24.375086\n",
      "22       226    1977-03-28 1994-11-29 1996-12-12 1999-08-27  17.672827\n",
      "23        96    1977-05-24 1995-12-06 1997-08-07 2000-09-18  18.535250\n",
      "24       332    1977-11-20 1999-01-29 2001-08-28 2004-04-23  21.190965\n",
      "25       372    1978-07-15 2013-09-07 2004-11-26 2009-12-28  35.148528\n",
      "26       551    1978-10-25 1998-07-08 2003-04-20 2011-10-12  19.701574\n",
      "27       590    1979-05-08 2000-11-12 2003-02-23 2006-05-01  21.516769\n",
      "28       797    1979-08-27 2002-09-11 2006-07-02 2008-02-27  23.041752\n",
      "29       111    1979-09-14 1999-08-20 2002-12-30 2005-01-16  19.931554\n",
      "30       573    1979-09-22 2001-01-29 2003-01-18 2006-10-29  21.355236\n",
      "31       297    1979-10-04 2000-03-08 2004-03-06 2010-03-19  20.427105\n",
      "32       218    1979-12-10 2001-11-05 2005-08-06 2007-12-20  21.905544\n",
      "33       471    1980-03-18 1998-04-15 2005-06-17 2007-01-31  18.075291\n",
      "34       617    1980-07-02 2006-04-19 2008-11-07 2010-01-11  25.796030\n",
      "35       813    1980-07-02 2000-06-20 2003-06-04 2010-11-11  19.967146\n",
      "36       773    1981-01-30 2001-04-16 2003-10-31 2007-08-22  20.208077\n",
      "37         3    1981-08-09 1993-12-18 2001-07-31 2007-08-29  12.358658\n",
      "38       122    1981-09-28 2001-04-10 2004-02-27 2009-01-04  19.531828\n",
      "39       630    1982-05-14 2003-08-16 2004-12-20 2010-01-19  21.256674\n",
      "40       120    1982-09-04 2005-03-21 2007-10-24 2009-06-01  22.543463\n",
      "41       395    1982-09-17       <NA>       <NA> 2011-12-07         NA\n",
      "42       764    1982-10-01 2001-09-05       <NA> 2010-01-11  18.929500\n",
      "43       751    1983-01-11 2000-10-13 2002-04-26 2004-11-22  17.754962\n",
      "44       452    1983-05-02 2002-12-28 2004-09-21 2006-05-12  19.657769\n",
      "45       708    1983-05-26 2001-07-12 2010-02-23 2007-12-05  18.130048\n",
      "46       635    1983-06-14 2009-05-02 2010-05-27 2011-10-24  25.883641\n",
      "47       684    1983-10-29 2006-01-07 2008-01-04 2009-05-13  22.193018\n",
      "48       461    1983-11-15 2004-10-30 2004-10-30 2011-03-01  20.958248\n",
      "49       413    1983-12-06 2004-01-20 2005-10-26 2007-04-14  20.123203\n",
      "50       619    1984-06-07 2003-07-23 2005-01-24 2007-02-18  19.123888\n",
      "51       693    1984-06-12 2002-12-19 2004-01-06 2007-09-03  18.518823\n",
      "52       712    1984-10-23 2005-06-23 2007-02-28 2012-07-28  20.665298\n",
      "53       691    1986-08-17 2006-09-17 2007-10-09 2010-05-06  20.084873\n",
      "54       129    1986-10-29 2006-07-10 2008-02-02 2009-05-01  19.696099\n",
      "55       694    1987-10-11 2005-08-26 2009-10-30 2010-11-25  17.875428\n",
      "56       375    1988-06-26 2006-09-10 2007-07-27 2010-10-09  18.206708\n",
      "57       511    1988-06-26 2006-09-10 2007-07-27 2010-10-09  18.206708\n",
      "58       202    1989-02-12 2008-08-25 2007-07-01 2005-03-01  19.531828\n",
      "59       357    1989-07-14 2006-03-15 2008-02-03 2009-01-18  16.668036\n",
      "60       672    1989-09-15 2001-03-26 2001-03-26 2007-02-12  11.526352\n",
      "61       193    1992-08-05 1993-10-03 1998-05-29 1999-07-31   1.160849\n",
      "62       350          <NA> 2003-09-02 2005-12-16 2008-05-20         NA\n",
      "63       383          <NA> 1997-06-15 1999-03-23 2006-02-12         NA\n",
      "64       747          <NA> 2009-08-17 2011-07-17 2011-07-17         NA\n",
      "   PARENT_ID DATE_OF_BIRTH  DOBCHILD1  DOBCHILD2  DOBCHILD3 AGE_CHILD2\n",
      "1        451    1968-09-09 1999-02-22 2000-08-16 2002-09-25  31.934292\n",
      "2        164    1970-04-18 1994-12-15 1997-04-19 2000-05-08  27.003422\n",
      "3        607    1970-04-20 1997-10-01 1999-01-14 2006-03-14  28.736482\n",
      "4        233    1971-04-01 1995-10-02 1993-01-01 1997-12-01  21.754962\n",
      "5        489    1972-06-20 1991-12-01 2000-10-14 2011-03-16  28.317591\n",
      "6        103    1973-11-15 1995-09-30 1998-07-18 2005-07-29  24.670773\n",
      "7        670    1973-11-17 1997-11-20 2001-05-30 2002-09-28  27.531828\n",
      "8        404    1974-03-11 1998-02-02 1999-05-12 2002-02-01  25.169062\n",
      "9        794    1974-04-24 1995-03-02 1996-02-16 1998-09-07  21.815195\n",
      "10       808    1974-06-12 2000-04-30 2003-08-07 2010-10-09  29.152635\n",
      "11       434    1974-10-10 1993-11-05 1997-12-24 2001-05-27  23.206023\n",
      "12       354    1974-11-12 1996-12-02 1998-07-31 2001-01-21  23.715264\n",
      "13       510    1975-03-10 2000-12-30 2008-01-07 2009-10-02  32.829569\n",
      "14       344    1976-01-22 1994-04-04 2000-07-21 2006-08-12  24.495551\n",
      "15       384    1976-03-13 1996-11-06 2000-11-03 2004-07-14  24.643395\n",
      "16       412    1976-07-05 2008-03-10 2009-02-23 2010-09-14  32.637919\n",
      "17       463    1976-07-05 2008-03-10 2009-02-23 2010-09-14  32.637919\n",
      "18        87    1976-07-19 1997-09-09 1998-08-19 2008-04-04  22.083504\n",
      "19       147    1976-08-05 1996-10-03 2000-10-03 2008-01-30  24.161533\n",
      "20       378    1976-08-05 1994-08-27 1999-06-25 2008-08-28  22.885695\n",
      "21       431    1977-03-23 2001-08-07 2004-09-21 2006-09-22  27.498973\n",
      "22       226    1977-03-28 1994-11-29 1996-12-12 1999-08-27  19.709788\n",
      "23        96    1977-05-24 1995-12-06 1997-08-07 2000-09-18  20.205339\n",
      "24       332    1977-11-20 1999-01-29 2001-08-28 2004-04-23  23.770021\n",
      "25       372    1978-07-15 2013-09-07 2004-11-26 2009-12-28  26.368241\n",
      "26       551    1978-10-25 1998-07-08 2003-04-20 2011-10-12  24.484600\n",
      "27       590    1979-05-08 2000-11-12 2003-02-23 2006-05-01  23.797399\n",
      "28       797    1979-08-27 2002-09-11 2006-07-02 2008-02-27  26.847365\n",
      "29       111    1979-09-14 1999-08-20 2002-12-30 2005-01-16  23.293634\n",
      "30       573    1979-09-22 2001-01-29 2003-01-18 2006-10-29  23.323751\n",
      "31       297    1979-10-04 2000-03-08 2004-03-06 2010-03-19  24.421629\n",
      "32       218    1979-12-10 2001-11-05 2005-08-06 2007-12-20  25.656400\n",
      "33       471    1980-03-18 1998-04-15 2005-06-17 2007-01-31  25.248460\n",
      "34       617    1980-07-02 2006-04-19 2008-11-07 2010-01-11  28.350445\n",
      "35       813    1980-07-02 2000-06-20 2003-06-04 2010-11-11  22.921287\n",
      "36       773    1981-01-30 2001-04-16 2003-10-31 2007-08-22  22.748802\n",
      "37         3    1981-08-09 1993-12-18 2001-07-31 2007-08-29  19.975359\n",
      "38       122    1981-09-28 2001-04-10 2004-02-27 2009-01-04  22.414784\n",
      "39       630    1982-05-14 2003-08-16 2004-12-20 2010-01-19  22.603696\n",
      "40       120    1982-09-04 2005-03-21 2007-10-24 2009-06-01  25.136208\n",
      "41       395    1982-09-17       <NA>       <NA> 2011-12-07         NA\n",
      "42       764    1982-10-01 2001-09-05       <NA> 2010-01-11         NA\n",
      "43       751    1983-01-11 2000-10-13 2002-04-26 2004-11-22  19.288159\n",
      "44       452    1983-05-02 2002-12-28 2004-09-21 2006-05-12  21.390828\n",
      "45       708    1983-05-26 2001-07-12 2010-02-23 2007-12-05  26.748802\n",
      "46       635    1983-06-14 2009-05-02 2010-05-27 2011-10-24  26.951403\n",
      "47       684    1983-10-29 2006-01-07 2008-01-04 2009-05-13  24.183436\n",
      "48       461    1983-11-15 2004-10-30 2004-10-30 2011-03-01  20.958248\n",
      "49       413    1983-12-06 2004-01-20 2005-10-26 2007-04-14  21.889117\n",
      "50       619    1984-06-07 2003-07-23 2005-01-24 2007-02-18  20.632444\n",
      "51       693    1984-06-12 2002-12-19 2004-01-06 2007-09-03  19.567420\n",
      "52       712    1984-10-23 2005-06-23 2007-02-28 2012-07-28  22.349076\n",
      "53       691    1986-08-17 2006-09-17 2007-10-09 2010-05-06  21.144422\n",
      "54       129    1986-10-29 2006-07-10 2008-02-02 2009-05-01  21.262149\n",
      "55       694    1987-10-11 2005-08-26 2009-10-30 2010-11-25  22.053388\n",
      "56       375    1988-06-26 2006-09-10 2007-07-27 2010-10-09  19.082820\n",
      "57       511    1988-06-26 2006-09-10 2007-07-27 2010-10-09  19.082820\n",
      "58       202    1989-02-12 2008-08-25 2007-07-01 2005-03-01  18.379192\n",
      "59       357    1989-07-14 2006-03-15 2008-02-03 2009-01-18  18.557153\n",
      "60       672    1989-09-15 2001-03-26 2001-03-26 2007-02-12  11.526352\n",
      "61       193    1992-08-05 1993-10-03 1998-05-29 1999-07-31   5.812457\n",
      "62       350          <NA> 2003-09-02 2005-12-16 2008-05-20         NA\n",
      "63       383          <NA> 1997-06-15 1999-03-23 2006-02-12         NA\n",
      "64       747          <NA> 2009-08-17 2011-07-17 2011-07-17         NA\n"
     ]
    }
   ],
   "source": [
    "#library(lubridate)\n",
    "#pregnancy <- read_csv(file=\"data/pregnancy.csv\")\n",
    "## Simplify the dataset.\n",
    "#p <- pregnancy %>% select(PARENT_ID, DATE_OF_BIRTH, DOBCHILD1, DOBCHILD2, DOBCHILD3) %>% filter(!is.na(DOBCHILD3))\n",
    "## Sort out the data.\n",
    "#p <- p %>% mutate(DATE_OF_BIRTH=dmy(DATE_OF_BIRTH)) %>%\n",
    "#           mutate(DOBCHILD1=dmy(DOBCHILD1)) %>% \n",
    "#           mutate(DOBCHILD2=dmy(DOBCHILD2)) %>%\n",
    "#           mutate(DOBCHILD3=dmy(DOBCHILD3)) \n",
    "## Now define a function that will take the specifief date column and create a\n",
    "## new column with the specified column name.\n",
    "#age_at_childbirth <- function(table, date, col_name){\n",
    "#    ages <- table %>% mutate(!!col_name:=as.integer(as.Date(!!date)-as.Date(DATE_OF_BIRTH))/365.25)\n",
    "#}\n",
    "## Now use that function.\n",
    "#print.data.frame(age_at_childbirth(p, expr(DOBCHILD1), expr(AGE_CHILD1)))\n",
    "## And it works with quosures.\n",
    "## print.data.frame(age_at_childbirth(p, quo(DOBCHILD1), quo(AGE_CHILD1)))\n",
    "\n",
    "#print_ages <-function(date_for_age, col_for_age) {\n",
    "#    print.data.frame(age_at_childbirth(p, enexpr(date_for_age), enexpr(col_for_age)))\n",
    "#}\n",
    "## And it works with quosures.\n",
    "## print_ages <-function(date_for_age, col_for_age) {\n",
    "##    print.data.frame(age_at_childbirth(p, enquo(date_for_age), enquo(col_for_age)))\n",
    "##}\n",
    "##print_ages(DOBCHILD1, AGE_CHILD1)\n",
    "#print_ages(DOBCHILD2, AGE_CHILD2)"
   ]
  },
  {
   "cell_type": "markdown",
   "metadata": {},
   "source": [
    "## __Challenge__: Repeat the example to determine the ages of the older children at the birth of the younger ones."
   ]
  },
  {
   "cell_type": "markdown",
   "metadata": {},
   "source": [
    "<table style=\"text-align:center;\"><tr><td width=\"100\" height=\"20\" style=\"background-color:greenyellow\"></td><td width=\"100\" height=\"20\" style=\"background-color:hotpink\"></td></tr></table>"
   ]
  },
  {
   "cell_type": "markdown",
   "metadata": {},
   "source": [
    "## __Communicating your results with a dynamic, R-based website (shiny)__\n",
    "\n",
    "[See the shiny cheatsheet.](https://github.com/rstudio/cheatsheets/blob/master/shiny.pdf)\n",
    "\n",
    "A Shiny app is a web-application (which you run in a browser) connected to a live R-session (the server). Users manipulate the displayed web-page which requests the server to re-run the appropriate R code to update the data on the page. The server can (and here will be) running on your own computer (the URL is localhost).\n",
    "\n",
    "Most of the work is already done under Shiny's bonnet. You can get an app going using a simple template:\n",
    "\n",
    "`\n",
    "library(shiny) # Nested R functions that assemble an HTML user interface for your app.\n",
    "ui <- fluidPage()\n",
    "server <- function(input, output){} # A function that rebuilds the output.\n",
    "shinyApp(ui=ui, server=server) # The app. includes the UI and server functions; this can be called with runApp().\n",
    "`\n",
    "## _How to build the app_\n",
    "\n",
    "1. If you are using R-Studio, create a new R Shiny app.\n",
    "1. Add _Inputs_ and _Outputs_ (see below) to the `fluidPage(){}` function definition to form the page you want.\n",
    "1. Add the server how to handle the inputs (refer to these as input\\$inputId - where inputId is the id you used for that input in the `fluidPage(){}` definition) and the outputs (referred to by output\\$outputId) using the appropriate render* function (see Outputs below).\n",
    "1. You can save the app either as one app.R file (include the shinyApp() call) or to separate ui.R and server.R files (no need for the shinyApp() call).\n",
    "1. From R-Studio, you can run the app using `runApp(path-to-the-app-directory)`.\n",
    "\n",
    "When you run the app, you will get a message as follows:\n",
    "Listening on http://127.0.0.1:6415\n",
    "\n",
    "Open a web browser and paste the link to the URL input box and you should see you app appear. You can usually replace the URL `127.0.0.1` with `localhost`.\n",
    "\n",
    "## _Inputs_\n",
    "\n",
    "There are a number of typical HTML user interface widgets you can use to get interactions from the user:\n",
    "* actionButton(inputId, label, icon, ...)\n",
    "* actionLink(inputId, label, icon, ...)\n",
    "* checkboxInput(inputId, label, value)\n",
    "* checkboxGroupInput(inputId, label, choices, selected, inline)\n",
    "* dateInput()\n",
    "* dataRangeInput()\n",
    "* fileInput()\n",
    "* numericInput()\n",
    "* passwordInput()\n",
    "* radioButtons()\n",
    "* selectInput()\n",
    "* sliderInput()\n",
    "* submitButton()\n",
    "* textInput()\n",
    "\n",
    "## _Outputs_\n",
    "\n",
    "Use the \\*Output functions to define the output in the fluidPage UI definition. For each one of these you define, use the corresponding render* function in the server definition.\n",
    "\n",
    "The following pairs of functions are provided:\n",
    "\n",
    "| Type | UI definition | Server render function |\n",
    "|---|---|---|\n",
    "| Data table | dataTableOutput(outputId, icon, ...) | DT::renderDataTable(expr, options, callback, escape, env, quoted) |\n",
    "| Image      | imageOutput(outputId, width, height, click (etc.)) | renderImage(expr, env, quoted, deleteFile) |\n",
    "| Plot       | plotOutput(outputId, width, height, click (etc.)) | renderPlot(expr, width, height (etc.)) |\n",
    "| Plain Text | verbatimTextOutput(outputId) | renderPrint(expr, env, quoted, func, width) |\n",
    "| Table      | tableOutput(outputId) | renderTable(expr, ..., env, quoted, func) |\n",
    "| Text       | textOutput(outputId, container, inline) | renderText(expr, env, quoted, func) |\n",
    "| UI         | uiOutput(outputId, inline, container, ...) htmlOutput(outputId, inline, container, ...) | renderUI(expr, env, quoted, func) |\n",
    "\n",
    "## _Layout_\n",
    "\n",
    "There are several functions that can help you with laying out the app page:\n",
    "* fluidRow() --- organises items in rows\n",
    "* flowLayout() --- places the objects in the order described and lets the output flow across the screen as it fits\n",
    "* navbarPage() --- page with navbar above\n",
    "* navlistPanel() --- panels with nav tabs to the left\n",
    "* sidebarLayout() --- defines a main panel and side panel\n",
    "* splitLayout() --- splits the layout\n",
    "* tabsetPanel() --- panels with tabs above\n",
    "* verticalLayout() --- places the objects one above the next\n",
    "\n",
    "\n",
    "Once you have an app ready and want to share it with others, you can (see documentation):\n",
    "* Host it on shinyapps.io\n",
    "* Get R-Studio Connect (£)\n",
    "* Build a Shiny server\n",
    "\n",
    "## __Exercise__: Create a Shiny app\n",
    "\n",
    "Use the example below as a starting guide, create a Shiny app to do anything you find interesting and to explore R and statistics. If you want a suggestion, try creating an app which will allow the user to plot the distributions for any of the common distributions, allowing them to change the parameters for each one.\n",
    "\n",
    "Once the app has been set-up, shinyApp() will report the URL (127.0.0.1 is the same as localhost (usually) and then a port number e.g. http://127.0.0.1:4522. This will vary from machine to machine - your Jupyter Notebook will be running in a similar fashion on a different port."
   ]
  },
  {
   "cell_type": "code",
   "execution_count": null,
   "metadata": {},
   "outputs": [
    {
     "name": "stderr",
     "output_type": "stream",
     "text": [
      "Installing package into 'C:/Users/pete.arnold/Documents/R/win-library/4.0'\n",
      "(as 'lib' is unspecified)\n",
      "\n",
      "also installing the dependencies 'httpuv', 'xtable', 'sourcetools', 'later', 'promises', 'fastmap', 'commonmark'\n",
      "\n",
      "\n"
     ]
    },
    {
     "name": "stdout",
     "output_type": "stream",
     "text": [
      "package 'httpuv' successfully unpacked and MD5 sums checked\n",
      "package 'xtable' successfully unpacked and MD5 sums checked\n",
      "package 'sourcetools' successfully unpacked and MD5 sums checked\n",
      "package 'later' successfully unpacked and MD5 sums checked\n",
      "package 'promises' successfully unpacked and MD5 sums checked\n",
      "package 'fastmap' successfully unpacked and MD5 sums checked\n",
      "package 'commonmark' successfully unpacked and MD5 sums checked\n",
      "package 'shiny' successfully unpacked and MD5 sums checked\n",
      "\n",
      "The downloaded binary packages are in\n",
      "\tC:\\Users\\pete.arnold\\AppData\\Local\\Temp\\Rtmp8y5usK\\downloaded_packages\n"
     ]
    },
    {
     "name": "stderr",
     "output_type": "stream",
     "text": [
      "\n",
      "Listening on http://127.0.0.1:4522\n",
      "\n"
     ]
    }
   ],
   "source": [
    "#install.packages(\"shiny\")\n",
    "#library(shiny)\n",
    "#ui <- fluidPage(\n",
    "#    numericInput(inputId='n', 'Sample Size', value=25),\n",
    "#    plotOutput(outputId='hist'))\n",
    "#server <- function(input, output){\n",
    "#    output$hist <- renderPlot({\n",
    "#        hist(rnorm(input$n))\n",
    "#    })\n",
    "#}\n",
    "#shinyApp(ui=ui, server=server)"
   ]
  },
  {
   "cell_type": "markdown",
   "metadata": {},
   "source": [
    "<table style=\"text-align:center;\"><tr><td width=\"100\" height=\"20\" style=\"background-color:greenyellow\"></td><td width=\"100\" height=\"20\" style=\"background-color:hotpink\"></td></tr></table>"
   ]
  },
  {
   "cell_type": "markdown",
   "metadata": {},
   "source": [
    "<table width='100%'><tr>\n",
    "    <td style='background-color:red; text-align:center; color: white;'><!--Foundation<!--hr size='5' style='border-color:red; background-color:red;'--></td>\n",
    "    <td style='background-color:yellow; text-align:center;'><!--Level 1<!--hr size='5' style='border-color:yellow; background-color:yellow;'--></td>\n",
    "    <td style='background-color:orange; text-align:center;'><!--Level 2<!--hr size='5' style='border-color:orange; background-color:orange;'--></td>\n",
    "    <td style='background-color:green; text-align:center; color: white;'><!--Level 3<!--hr size='5' style='border-color:orange; background-color:orange;'--></td>\n",
    "    <td style='background-color:blue; text-align:center; color: white;'><!--Level 4<!--hr size='5' style='border-color:orange; background-color:orange;'--></td>\n",
    "    <td style='background-color:purple; text-align:center; color: white;'><!--Level 5<!--hr size='5' style='border-color:orange; background-color:orange;'--></td>\n",
    "    <td style='background-color:brown; text-align:center; color: white;'><!--Level 6<!--hr size='5' style='border-color:orange; background-color:orange;'--></td>\n",
    "    <td style='background-color:black; text-align:center; color: white;'><!--Level 7<!--hr size='5' style='border-color:orange; background-color:orange;'--></td>\n",
    "</tr></table>"
   ]
  }
 ],
 "metadata": {
  "kernelspec": {
   "display_name": "R",
   "language": "R",
   "name": "ir"
  },
  "language_info": {
   "codemirror_mode": "r",
   "file_extension": ".r",
   "mimetype": "text/x-r-source",
   "name": "R",
   "pygments_lexer": "r",
   "version": "4.0.2"
  }
 },
 "nbformat": 4,
 "nbformat_minor": 4
}
