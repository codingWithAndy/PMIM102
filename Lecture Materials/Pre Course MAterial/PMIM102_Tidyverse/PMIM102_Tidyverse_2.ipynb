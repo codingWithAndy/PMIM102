{
 "cells": [
  {
   "cell_type": "markdown",
   "metadata": {},
   "source": [
    "<table width='100%'><tr>\n",
    "    <td style='background-color:red; text-align:center; color: white;'><!--Foundation<!--hr size='5' style='border-color:red; background-color:red;'--></td>\n",
    "    <td style='background-color:yellow; text-align:center;'><!--Level 1<!--hr size='5' style='border-color:yellow; background-color:yellow;'--></td>\n",
    "    <td style='background-color:orange; text-align:center;'><!--Level 2<!--hr size='5' style='border-color:orange; background-color:orange;'--></td>\n",
    "    <td style='background-color:green; text-align:center; color: white;'><!--Level 3<!--hr size='5' style='border-color:orange; background-color:orange;'--></td>\n",
    "    <td style='background-color:blue; text-align:center; color: white;'><!--Level 4<!--hr size='5' style='border-color:orange; background-color:orange;'--></td>\n",
    "    <td style='background-color:purple; text-align:center; color: white;'><!--Level 5<!--hr size='5' style='border-color:orange; background-color:orange;'--></td>\n",
    "    <td style='background-color:brown; text-align:center; color: white;'><!--Level 6<!--hr size='5' style='border-color:orange; background-color:orange;'--></td>\n",
    "    <td style='background-color:black; text-align:center; color: white;'><!--Level 7<!--hr size='5' style='border-color:orange; background-color:orange;'--></td>\n",
    "</tr></table>"
   ]
  },
  {
   "cell_type": "markdown",
   "metadata": {},
   "source": [
    "<table style='border-left:10px solid orange;'><tr>\n",
    "    <td style='padding-left:20px;'>\n",
    "        <h2><i>Swansea University Medical School</i><br/><b>MSc Health Data Science</b></h2>\n",
    "        <h3>PMIM-102 Introduction to Scientific Computing in Healthcare</h3>\n",
    "        <h1><b>Introduction to Programming in R</b></h1>\n",
    "        <h2><b>3. The Tidyverse</b></h2>\n",
    "        <h2><i>Part 2: Tidying the data.</i></h2>\n",
    "        <h3><i>September 2020</i></h3>\n",
    "        <h3><b>To-do</b></h3>\n",
    "        <ul>\n",
    "            <li>Find a challenge dataset for the tidyr functions.</li>\n",
    "        </ul>\n",
    "    </td>\n",
    "    <td><img height='300' width='500' src='images/cover.jpg'/></td>\n",
    "</tr></table>"
   ]
  },
  {
   "cell_type": "markdown",
   "metadata": {},
   "source": [
    "## __Aim__: Use the tools available in R to manipulate tables of data.\n",
    "\n",
    "The aim of this session is to concentrate on the core activities in working with large datasets: moving, cleaning and transforming table data to facilitate analyses. Whilst this is possible using base-R, the facilities provided by the libraries in the __Tidyverse__ make it considerably __easier__ and the resulting code __more readable__.\n",
    "\n",
    "### __A map of where we're going__\n",
    "\n",
    "1. <b>Introduction</b> - What is the process, the problems with standard R and the structure of 'tidy' data.\n",
    "\n",
    "1. <b>Acquiring data</b> - Getting data into R from files (<b>readr</b>).\n",
    "\n",
    "1. <div style=\"background-color:yellow;\"><b>Tidying the data</b> - Handling missing data and reshaping the tables (<b>tidyr</b>).</div>\n",
    "\n",
    "1. <b>Transforming the data</b> - Selecting and converting the data ready to analyse (<b>dplyr</b>).\n",
    "\n",
    "1. <b>Working with specific data types in tidyverse</b>: strings (<b>stringr</b>), dates (<b>lubridate</b>), factors (<b>forcats</b>).\n",
    "\n",
    "1. <b>Plotting &amp; Data visualisation</b> - beyond the simple R plot etc. (<b>ggplot2</b>).\n",
    "\n",
    "1. <b>Extras</b> - Things worth knowing of so that you can use them if you ever need them.\n",
    " * Applying functions and working with lists (purrr).\n",
    " * Tidy evaluation (rlang).\n",
    " * Communicating your results with a dynamic, R-based website (shiny)."
   ]
  },
  {
   "cell_type": "markdown",
   "metadata": {},
   "source": [
    "## __Load the Tidyverse__\n",
    "\n",
    "The first thing to do is make sure the library is loaded. If you have not already installed it, do so not using the <code>install.packages()</code> function."
   ]
  },
  {
   "cell_type": "code",
   "execution_count": 2,
   "metadata": {},
   "outputs": [
    {
     "name": "stderr",
     "output_type": "stream",
     "text": [
      "-- \u001b[1mAttaching packages\u001b[22m --------------------------------------- tidyverse 1.3.0 --\n",
      "\n",
      "\u001b[32mv\u001b[39m \u001b[34mggplot2\u001b[39m 3.3.2     \u001b[32mv\u001b[39m \u001b[34mpurrr  \u001b[39m 0.3.4\n",
      "\u001b[32mv\u001b[39m \u001b[34mtibble \u001b[39m 3.0.3     \u001b[32mv\u001b[39m \u001b[34mdplyr  \u001b[39m 1.0.2\n",
      "\u001b[32mv\u001b[39m \u001b[34mtidyr  \u001b[39m 1.1.2     \u001b[32mv\u001b[39m \u001b[34mstringr\u001b[39m 1.4.0\n",
      "\u001b[32mv\u001b[39m \u001b[34mreadr  \u001b[39m 1.3.1     \u001b[32mv\u001b[39m \u001b[34mforcats\u001b[39m 0.5.0\n",
      "\n",
      "-- \u001b[1mConflicts\u001b[22m ------------------------------------------ tidyverse_conflicts() --\n",
      "\u001b[31mx\u001b[39m \u001b[34mdplyr\u001b[39m::\u001b[32mfilter()\u001b[39m masks \u001b[34mstats\u001b[39m::filter()\n",
      "\u001b[31mx\u001b[39m \u001b[34mdplyr\u001b[39m::\u001b[32mlag()\u001b[39m    masks \u001b[34mstats\u001b[39m::lag()\n",
      "\n"
     ]
    }
   ],
   "source": [
    "## install.packages('tidyverse')\n",
    "#library(tidyverse)"
   ]
  },
  {
   "cell_type": "markdown",
   "metadata": {},
   "source": [
    "## __Making data tidy (tidyr)__\n",
    "\n",
    "[See the reverse of the readr cheatsheet.](https://github.com/rstudio/cheatsheets/raw/master/data-import.pdf)\n",
    "\n",
    "### _Missing data_\n",
    "Missing data is not necessarily missing information - child maltreatment often leads to a lack of visits to GPs etc. so we might need to find a way to indicate zero codes. More generally, however, we will be using data that is not collected perfectly by people whose under-pressure primary job is not to collect for us so we will, even in well-curated datasets, come across missing data (NA in R).\n",
    "\n",
    "There are some computation techniques which we may cover (time-permitting) in the Health Data Modelling module (PMIM202) which are applicable in certain circumstances and use Multiple Imputation to reconstruct missing data from the other values that are present. To do this we need to know that this is a valid, unbiassed thing to do and that is not straightfoward. Here we'll consider just the case of cleaning up the dataset rather than attempting to reconstruct it.\n",
    "\n",
    "We may just keep these cases and omit them in specific analyses or we may need to do something with a specific column. There are three obvious things we might so with NAs in a column (and you can probably imagine a number of others):\n",
    "\n",
    "* delete the cases with missing data\n",
    "* replace all values in the column with a specified value\n",
    "* work down the column filling any missing value with the last preceding value\n",
    "\n",
    "### _Dropping and filling data_\n",
    "<code>drop_na()</code> will, as expected drop either all rows with an NA or all rows with an NA in a specific column. <code>replace_na()</code> will replace NAs in columns with specified values and <code>fill()</code> will fill missing values with the last preceding value (useful for sequences or grouped data, perhaps)."
   ]
  },
  {
   "cell_type": "code",
   "execution_count": 12,
   "metadata": {},
   "outputs": [
    {
     "name": "stdout",
     "output_type": "stream",
     "text": [
      "     creature sightings victims\n",
      "5 jabberwocky         0    1012\n",
      "4       troll         1      NA\n",
      "1    werewolf         6      32\n",
      "2      zombie       120      27\n",
      "3      vampyr        NA      NA\n",
      "     creature sightings victims\n",
      "5 jabberwocky         0    1012\n",
      "4       troll         1      NA\n",
      "1    werewolf         6      32\n",
      "2      zombie       120      27\n",
      "     creature sightings victims\n",
      "5 jabberwocky         0    1012\n",
      "1    werewolf         6      32\n",
      "2      zombie       120      27\n",
      "     creature sightings victims\n",
      "1 jabberwocky         0    1012\n",
      "2       troll         1    1012\n",
      "3    werewolf         6      32\n",
      "4      zombie       120      27\n",
      "5      vampyr        NA      27\n",
      "     creature sightings victims\n",
      "5 jabberwocky         0    1012\n",
      "4       troll         1       0\n",
      "1    werewolf         6      32\n",
      "2      zombie       120      27\n",
      "3      vampyr         1       0\n"
     ]
    }
   ],
   "source": [
    "## library(tidyr)\n",
    "#df <- data.frame(creature=c('werewolf', 'zombie', 'vampyr', 'troll', 'jabberwocky'), sightings=c(6, 120, NA, 1, 0), victims=c(32, 27, NA, NA, 1012))\n",
    "#df <- df[order(df$sightings), ]\n",
    "#print(df)\n",
    "\n",
    "#print(drop_na(df, sightings))\n",
    "#print(drop_na(df))\n",
    "\n",
    "#print(replace_na(df, list(sightings=1, victims=0)))\n",
    "\n",
    "#print(fill(df, victims))"
   ]
  },
  {
   "cell_type": "markdown",
   "metadata": {},
   "source": [
    "### _Expanding data to include missing cases_\n",
    "We can expand the cases to include combinations that are missing."
   ]
  },
  {
   "cell_type": "code",
   "execution_count": 3,
   "metadata": {},
   "outputs": [
    {
     "name": "stdout",
     "output_type": "stream",
     "text": [
      "  weapon material     size count\n",
      "1  sword  diamond two-hand     1\n",
      "2    axe     iron one-hand     2\n",
      "3  spear   bronze assassin     3\n"
     ]
    },
    {
     "data": {
      "text/html": [
       "<table>\n",
       "<caption>A tibble: 9 × 4</caption>\n",
       "<thead>\n",
       "\t<tr><th scope=col>weapon</th><th scope=col>material</th><th scope=col>size</th><th scope=col>count</th></tr>\n",
       "\t<tr><th scope=col>&lt;chr&gt;</th><th scope=col>&lt;chr&gt;</th><th scope=col>&lt;chr&gt;</th><th scope=col>&lt;dbl&gt;</th></tr>\n",
       "</thead>\n",
       "<tbody>\n",
       "\t<tr><td>axe  </td><td>bronze </td><td>assassin</td><td>NA</td></tr>\n",
       "\t<tr><td>axe  </td><td>diamond</td><td>assassin</td><td>NA</td></tr>\n",
       "\t<tr><td>axe  </td><td>iron   </td><td>one-hand</td><td> 2</td></tr>\n",
       "\t<tr><td>spear</td><td>bronze </td><td>assassin</td><td> 3</td></tr>\n",
       "\t<tr><td>spear</td><td>diamond</td><td>assassin</td><td>NA</td></tr>\n",
       "\t<tr><td>spear</td><td>iron   </td><td>assassin</td><td>NA</td></tr>\n",
       "\t<tr><td>sword</td><td>bronze </td><td>assassin</td><td>NA</td></tr>\n",
       "\t<tr><td>sword</td><td>diamond</td><td>two-hand</td><td> 1</td></tr>\n",
       "\t<tr><td>sword</td><td>iron   </td><td>assassin</td><td>NA</td></tr>\n",
       "</tbody>\n",
       "</table>\n"
      ],
      "text/latex": [
       "A tibble: 9 × 4\n",
       "\\begin{tabular}{llll}\n",
       " weapon & material & size & count\\\\\n",
       " <chr> & <chr> & <chr> & <dbl>\\\\\n",
       "\\hline\n",
       "\t axe   & bronze  & assassin & NA\\\\\n",
       "\t axe   & diamond & assassin & NA\\\\\n",
       "\t axe   & iron    & one-hand &  2\\\\\n",
       "\t spear & bronze  & assassin &  3\\\\\n",
       "\t spear & diamond & assassin & NA\\\\\n",
       "\t spear & iron    & assassin & NA\\\\\n",
       "\t sword & bronze  & assassin & NA\\\\\n",
       "\t sword & diamond & two-hand &  1\\\\\n",
       "\t sword & iron    & assassin & NA\\\\\n",
       "\\end{tabular}\n"
      ],
      "text/markdown": [
       "\n",
       "A tibble: 9 × 4\n",
       "\n",
       "| weapon &lt;chr&gt; | material &lt;chr&gt; | size &lt;chr&gt; | count &lt;dbl&gt; |\n",
       "|---|---|---|---|\n",
       "| axe   | bronze  | assassin | NA |\n",
       "| axe   | diamond | assassin | NA |\n",
       "| axe   | iron    | one-hand |  2 |\n",
       "| spear | bronze  | assassin |  3 |\n",
       "| spear | diamond | assassin | NA |\n",
       "| spear | iron    | assassin | NA |\n",
       "| sword | bronze  | assassin | NA |\n",
       "| sword | diamond | two-hand |  1 |\n",
       "| sword | iron    | assassin | NA |\n",
       "\n"
      ],
      "text/plain": [
       "  weapon material size     count\n",
       "1 axe    bronze   assassin NA   \n",
       "2 axe    diamond  assassin NA   \n",
       "3 axe    iron     one-hand  2   \n",
       "4 spear  bronze   assassin  3   \n",
       "5 spear  diamond  assassin NA   \n",
       "6 spear  iron     assassin NA   \n",
       "7 sword  bronze   assassin NA   \n",
       "8 sword  diamond  two-hand  1   \n",
       "9 sword  iron     assassin NA   "
      ]
     },
     "metadata": {},
     "output_type": "display_data"
    },
    {
     "data": {
      "text/html": [
       "<table>\n",
       "<caption>A tibble: 27 × 3</caption>\n",
       "<thead>\n",
       "\t<tr><th scope=col>weapon</th><th scope=col>material</th><th scope=col>size</th></tr>\n",
       "\t<tr><th scope=col>&lt;chr&gt;</th><th scope=col>&lt;chr&gt;</th><th scope=col>&lt;chr&gt;</th></tr>\n",
       "</thead>\n",
       "<tbody>\n",
       "\t<tr><td>axe  </td><td>bronze </td><td>assassin</td></tr>\n",
       "\t<tr><td>axe  </td><td>bronze </td><td>one-hand</td></tr>\n",
       "\t<tr><td>axe  </td><td>bronze </td><td>two-hand</td></tr>\n",
       "\t<tr><td>axe  </td><td>diamond</td><td>assassin</td></tr>\n",
       "\t<tr><td>axe  </td><td>diamond</td><td>one-hand</td></tr>\n",
       "\t<tr><td>axe  </td><td>diamond</td><td>two-hand</td></tr>\n",
       "\t<tr><td>axe  </td><td>iron   </td><td>assassin</td></tr>\n",
       "\t<tr><td>axe  </td><td>iron   </td><td>one-hand</td></tr>\n",
       "\t<tr><td>axe  </td><td>iron   </td><td>two-hand</td></tr>\n",
       "\t<tr><td>spear</td><td>bronze </td><td>assassin</td></tr>\n",
       "\t<tr><td>spear</td><td>bronze </td><td>one-hand</td></tr>\n",
       "\t<tr><td>spear</td><td>bronze </td><td>two-hand</td></tr>\n",
       "\t<tr><td>spear</td><td>diamond</td><td>assassin</td></tr>\n",
       "\t<tr><td>spear</td><td>diamond</td><td>one-hand</td></tr>\n",
       "\t<tr><td>spear</td><td>diamond</td><td>two-hand</td></tr>\n",
       "\t<tr><td>spear</td><td>iron   </td><td>assassin</td></tr>\n",
       "\t<tr><td>spear</td><td>iron   </td><td>one-hand</td></tr>\n",
       "\t<tr><td>spear</td><td>iron   </td><td>two-hand</td></tr>\n",
       "\t<tr><td>sword</td><td>bronze </td><td>assassin</td></tr>\n",
       "\t<tr><td>sword</td><td>bronze </td><td>one-hand</td></tr>\n",
       "\t<tr><td>sword</td><td>bronze </td><td>two-hand</td></tr>\n",
       "\t<tr><td>sword</td><td>diamond</td><td>assassin</td></tr>\n",
       "\t<tr><td>sword</td><td>diamond</td><td>one-hand</td></tr>\n",
       "\t<tr><td>sword</td><td>diamond</td><td>two-hand</td></tr>\n",
       "\t<tr><td>sword</td><td>iron   </td><td>assassin</td></tr>\n",
       "\t<tr><td>sword</td><td>iron   </td><td>one-hand</td></tr>\n",
       "\t<tr><td>sword</td><td>iron   </td><td>two-hand</td></tr>\n",
       "</tbody>\n",
       "</table>\n"
      ],
      "text/latex": [
       "A tibble: 27 × 3\n",
       "\\begin{tabular}{lll}\n",
       " weapon & material & size\\\\\n",
       " <chr> & <chr> & <chr>\\\\\n",
       "\\hline\n",
       "\t axe   & bronze  & assassin\\\\\n",
       "\t axe   & bronze  & one-hand\\\\\n",
       "\t axe   & bronze  & two-hand\\\\\n",
       "\t axe   & diamond & assassin\\\\\n",
       "\t axe   & diamond & one-hand\\\\\n",
       "\t axe   & diamond & two-hand\\\\\n",
       "\t axe   & iron    & assassin\\\\\n",
       "\t axe   & iron    & one-hand\\\\\n",
       "\t axe   & iron    & two-hand\\\\\n",
       "\t spear & bronze  & assassin\\\\\n",
       "\t spear & bronze  & one-hand\\\\\n",
       "\t spear & bronze  & two-hand\\\\\n",
       "\t spear & diamond & assassin\\\\\n",
       "\t spear & diamond & one-hand\\\\\n",
       "\t spear & diamond & two-hand\\\\\n",
       "\t spear & iron    & assassin\\\\\n",
       "\t spear & iron    & one-hand\\\\\n",
       "\t spear & iron    & two-hand\\\\\n",
       "\t sword & bronze  & assassin\\\\\n",
       "\t sword & bronze  & one-hand\\\\\n",
       "\t sword & bronze  & two-hand\\\\\n",
       "\t sword & diamond & assassin\\\\\n",
       "\t sword & diamond & one-hand\\\\\n",
       "\t sword & diamond & two-hand\\\\\n",
       "\t sword & iron    & assassin\\\\\n",
       "\t sword & iron    & one-hand\\\\\n",
       "\t sword & iron    & two-hand\\\\\n",
       "\\end{tabular}\n"
      ],
      "text/markdown": [
       "\n",
       "A tibble: 27 × 3\n",
       "\n",
       "| weapon &lt;chr&gt; | material &lt;chr&gt; | size &lt;chr&gt; |\n",
       "|---|---|---|\n",
       "| axe   | bronze  | assassin |\n",
       "| axe   | bronze  | one-hand |\n",
       "| axe   | bronze  | two-hand |\n",
       "| axe   | diamond | assassin |\n",
       "| axe   | diamond | one-hand |\n",
       "| axe   | diamond | two-hand |\n",
       "| axe   | iron    | assassin |\n",
       "| axe   | iron    | one-hand |\n",
       "| axe   | iron    | two-hand |\n",
       "| spear | bronze  | assassin |\n",
       "| spear | bronze  | one-hand |\n",
       "| spear | bronze  | two-hand |\n",
       "| spear | diamond | assassin |\n",
       "| spear | diamond | one-hand |\n",
       "| spear | diamond | two-hand |\n",
       "| spear | iron    | assassin |\n",
       "| spear | iron    | one-hand |\n",
       "| spear | iron    | two-hand |\n",
       "| sword | bronze  | assassin |\n",
       "| sword | bronze  | one-hand |\n",
       "| sword | bronze  | two-hand |\n",
       "| sword | diamond | assassin |\n",
       "| sword | diamond | one-hand |\n",
       "| sword | diamond | two-hand |\n",
       "| sword | iron    | assassin |\n",
       "| sword | iron    | one-hand |\n",
       "| sword | iron    | two-hand |\n",
       "\n"
      ],
      "text/plain": [
       "   weapon material size    \n",
       "1  axe    bronze   assassin\n",
       "2  axe    bronze   one-hand\n",
       "3  axe    bronze   two-hand\n",
       "4  axe    diamond  assassin\n",
       "5  axe    diamond  one-hand\n",
       "6  axe    diamond  two-hand\n",
       "7  axe    iron     assassin\n",
       "8  axe    iron     one-hand\n",
       "9  axe    iron     two-hand\n",
       "10 spear  bronze   assassin\n",
       "11 spear  bronze   one-hand\n",
       "12 spear  bronze   two-hand\n",
       "13 spear  diamond  assassin\n",
       "14 spear  diamond  one-hand\n",
       "15 spear  diamond  two-hand\n",
       "16 spear  iron     assassin\n",
       "17 spear  iron     one-hand\n",
       "18 spear  iron     two-hand\n",
       "19 sword  bronze   assassin\n",
       "20 sword  bronze   one-hand\n",
       "21 sword  bronze   two-hand\n",
       "22 sword  diamond  assassin\n",
       "23 sword  diamond  one-hand\n",
       "24 sword  diamond  two-hand\n",
       "25 sword  iron     assassin\n",
       "26 sword  iron     one-hand\n",
       "27 sword  iron     two-hand"
      ]
     },
     "metadata": {},
     "output_type": "display_data"
    }
   ],
   "source": [
    "#df <- data.frame(weapon=c('sword', 'axe', 'spear'), material=c('diamond', 'iron', 'bronze'), size=c('two-hand', 'one-hand', 'assassin'), count=c(1, 2, 3))\n",
    "#print(df)\n",
    "#complete(df, weapon, material, fill=list(size='assassin'))\n",
    "#expand(df, weapon, material, size)"
   ]
  },
  {
   "cell_type": "markdown",
   "metadata": {},
   "source": [
    "### _Extracting multiple values from one column into one or multiple columns_\n",
    "Occasionally we will get data where two values have been combined in one column (usually for convenience or brevity). For example, we might get a region and year as 'Asia/2017' or just a series of values 'enrolled/submitted/passed/graduated'. We might then want to split these values as separate rows or as separate columns. These can be split into separate columns using <code>separate()</code> or into rows in the existing column using <code>separate_rows()</code>.\n",
    "\n"
   ]
  },
  {
   "cell_type": "code",
   "execution_count": 5,
   "metadata": {},
   "outputs": [
    {
     "name": "stdout",
     "output_type": "stream",
     "text": [
      "  episode attack kills\n",
      "1       1      1   1/5\n",
      "2       1      2   3/7\n",
      "3       1      3   1/3\n",
      "  episode attack red-shirts total-crew-at-risk\n",
      "1       1      1          1                  5\n",
      "2       1      2          3                  7\n",
      "3       1      3          1                  3\n",
      "\u001b[90m# A tibble: 6 x 3\u001b[39m\n",
      "  episode attack kills\n",
      "    \u001b[3m\u001b[90m<dbl>\u001b[39m\u001b[23m  \u001b[3m\u001b[90m<dbl>\u001b[39m\u001b[23m \u001b[3m\u001b[90m<chr>\u001b[39m\u001b[23m\n",
      "\u001b[90m1\u001b[39m       1      1 1    \n",
      "\u001b[90m2\u001b[39m       1      1 5    \n",
      "\u001b[90m3\u001b[39m       1      2 3    \n",
      "\u001b[90m4\u001b[39m       1      2 7    \n",
      "\u001b[90m5\u001b[39m       1      3 1    \n",
      "\u001b[90m6\u001b[39m       1      3 3    \n"
     ]
    }
   ],
   "source": [
    "#df <- data.frame(episode=c(1, 1, 1), attack=c(1, 2, 3), kills=c('1/5', '3/7', '1/3'))\n",
    "#print(df)\n",
    "#print(separate(df, kills, into=c('red-shirts', 'total-crew-at-risk')))\n",
    "#print(separate_rows(df, kills))"
   ]
  },
  {
   "cell_type": "markdown",
   "metadata": {},
   "source": [
    "### _Compressing data from multiple cells into one_\n",
    "We can do the reverse and combine the cells into a single cell with a separator character using <code>unite()</code>."
   ]
  },
  {
   "cell_type": "code",
   "execution_count": 6,
   "metadata": {},
   "outputs": [
    {
     "name": "stdout",
     "output_type": "stream",
     "text": [
      "  event kills\n",
      "1   1#1   1/5\n",
      "2   1#2   3/7\n",
      "3   1#3   1/3\n"
     ]
    }
   ],
   "source": [
    "#print(unite(df, episode, attack, col=\"event\", sep=\"#\"))"
   ]
  },
  {
   "cell_type": "markdown",
   "metadata": {},
   "source": [
    "### _Reshaping data - expanding columns with categories into multiple columns for each category_\n",
    "Often you will receive data with a column that contains multiple rows for the same case listing categories that apply to that case. To make this tidy, we often want to spread these categories across multiple columns so that we end up (or work towards ending up) with one row for each case and one column for each category.\n",
    "The tidyverse lets us do this with <code>spread()</code>. You need to specify the data frame, the column that contains the categories (the categories will become the new column names) and the data that needs to be included in each category."
   ]
  },
  {
   "cell_type": "code",
   "execution_count": 15,
   "metadata": {},
   "outputs": [
    {
     "name": "stdout",
     "output_type": "stream",
     "text": [
      "  event         rank kills\n",
      "1   1#1    redshirts     1\n",
      "2   1#1 yellowshirts     1\n",
      "3   1#1   blueshirts     0\n",
      "4   1#2    redshirts     3\n",
      "5   1#2 yellowshirts     1\n",
      "6   1#2   blueshirts     0\n",
      "7   2#1    redshirts     5\n",
      "8   2#1 yellowshirts     1\n",
      "9   2#1   blueshirts     0\n",
      "  event blueshirts redshirts yellowshirts\n",
      "1   1#1          0         1            1\n",
      "2   1#2          0         3            1\n",
      "3   2#1          0         5            1\n"
     ]
    }
   ],
   "source": [
    "#df <- data.frame(event=c('1#1', '1#1', '1#1', '1#2', '1#2', '1#2', '2#1', '2#1', '2#1'), rank=rep(c('redshirts', 'yellowshirts', 'blueshirts')),\n",
    "#                 kills=c(1, 1, 0, 3, 1, 0, 5, 1, 0))\n",
    "#print(df)\n",
    "#print(spread(df, rank, kills))"
   ]
  },
  {
   "cell_type": "markdown",
   "metadata": {},
   "source": [
    "### _Reshaping data - brining columns together into one_\n",
    "You can gather data that has been organised in multiple columns of similar data into multiple rows with two columns, the first of which contains the name of the column and the second the value from that column for that row."
   ]
  },
  {
   "cell_type": "code",
   "execution_count": 7,
   "metadata": {},
   "outputs": [
    {
     "name": "stdout",
     "output_type": "stream",
     "text": [
      "  event redshirts yellowshirts blueshirts\n",
      "1   1#1         1            1          0\n",
      "2   1#2         3            1          0\n",
      "3   2#1         5            1          0\n",
      "  event         rank kills\n",
      "1   1#1    redshirts     1\n",
      "2   1#2    redshirts     3\n",
      "3   2#1    redshirts     5\n",
      "4   1#1 yellowshirts     1\n",
      "5   1#2 yellowshirts     1\n",
      "6   2#1 yellowshirts     1\n",
      "7   1#1   blueshirts     0\n",
      "8   1#2   blueshirts     0\n",
      "9   2#1   blueshirts     0\n"
     ]
    }
   ],
   "source": [
    "#df <- data.frame(event=c('1#1', '1#2', '2#1'), redshirts=c(1, 3, 5), yellowshirts=c(1, 1, 1), blueshirts=c(0, 0, 0))\n",
    "#print(df)\n",
    "#print(gather(df, redshirts, yellowshirts, blueshirts, key='rank', value='kills'))"
   ]
  },
  {
   "cell_type": "markdown",
   "metadata": {},
   "source": [
    "## __Exercise__: Practice separating/uniting and gathering/spreading.\n",
    "\n",
    "1. Use `gather` to bring all the child date of births into a single 'Children' column with date of birth in a column, 'DOBs'.\n",
    "1. Similarly bring the medications into a pair of columns, 'Medication' and Code'.\n",
    "1. Unite the adult relationships and ages with a '/' separator.\n",
    "1. Bring those together into a pair of columns, 'Adults' and 'Rel-Age'.\n",
    "1. Create a spread from the BIRTH-PLAN (to create columns 1, 2, 2,3, 4 etc.) with values of EDUCATION."
   ]
  },
  {
   "cell_type": "code",
   "execution_count": 32,
   "metadata": {},
   "outputs": [
    {
     "data": {
      "text/html": [
       "<table>\n",
       "<caption>A tibble: 12 × 81</caption>\n",
       "<thead>\n",
       "\t<tr><th scope=col>PARENT_ID</th><th scope=col>INFANT_ID</th><th scope=col>DATE_OF_BIRTH</th><th scope=col>EDD</th><th scope=col>BIRTH_PLAN</th><th scope=col>LANGUAGE</th><th scope=col>OTHER_LANGUAGE</th><th scope=col>ETHNICITY</th><th scope=col>OTHER_ETHNICITY</th><th scope=col>RELATIONSHIP_STATUS</th><th scope=col>...</th><th scope=col>SMOKE_NUMBER</th><th scope=col>ALCOHOL</th><th scope=col>EARLY_PREG_ALCOHOL</th><th scope=col>MID_LATE_PREG_ALCOHOL</th><th scope=col>Children</th><th scope=col>DOBs</th><th scope=col>Medication</th><th scope=col>Code</th><th scope=col>Adults</th><th scope=col>Rel-Age</th></tr>\n",
       "\t<tr><th scope=col>&lt;int&gt;</th><th scope=col>&lt;dbl&gt;</th><th scope=col>&lt;chr&gt;</th><th scope=col>&lt;chr&gt;</th><th scope=col>&lt;chr&gt;</th><th scope=col>&lt;chr&gt;</th><th scope=col>&lt;chr&gt;</th><th scope=col>&lt;chr&gt;</th><th scope=col>&lt;chr&gt;</th><th scope=col>&lt;chr&gt;</th><th scope=col>...</th><th scope=col>&lt;chr&gt;</th><th scope=col>&lt;chr&gt;</th><th scope=col>&lt;chr&gt;</th><th scope=col>&lt;chr&gt;</th><th scope=col>&lt;chr&gt;</th><th scope=col>&lt;chr&gt;</th><th scope=col>&lt;chr&gt;</th><th scope=col>&lt;chr&gt;</th><th scope=col>&lt;chr&gt;</th><th scope=col>&lt;chr&gt;</th></tr>\n",
       "</thead>\n",
       "<tbody>\n",
       "\t<tr><td>1</td><td>1.1</td><td>30/03/1987</td><td>09/12/2009</td><td>2</td><td>1</td><td>NA</td><td>1</td><td>NA</td><td>3</td><td>...</td><td>NA</td><td>0</td><td>NA</td><td>NA</td><td>DOBCHILD1</td><td>12/12/2005</td><td>MEDICATION1</td><td>NA</td><td>Adult1</td><td>NA/NA</td></tr>\n",
       "\t<tr><td>1</td><td>1.1</td><td>30/03/1987</td><td>09/12/2009</td><td>2</td><td>1</td><td>NA</td><td>1</td><td>NA</td><td>3</td><td>...</td><td>NA</td><td>0</td><td>NA</td><td>NA</td><td>DOBCHILD2</td><td>NA        </td><td>MEDICATION1</td><td>NA</td><td>Adult1</td><td>NA/NA</td></tr>\n",
       "\t<tr><td>1</td><td>1.1</td><td>30/03/1987</td><td>09/12/2009</td><td>2</td><td>1</td><td>NA</td><td>1</td><td>NA</td><td>3</td><td>...</td><td>NA</td><td>0</td><td>NA</td><td>NA</td><td>DOBCHILD3</td><td>NA        </td><td>MEDICATION1</td><td>NA</td><td>Adult1</td><td>NA/NA</td></tr>\n",
       "\t<tr><td>1</td><td>1.1</td><td>30/03/1987</td><td>09/12/2009</td><td>2</td><td>1</td><td>NA</td><td>1</td><td>NA</td><td>3</td><td>...</td><td>NA</td><td>0</td><td>NA</td><td>NA</td><td>DOBCHILD4</td><td>NA        </td><td>MEDICATION1</td><td>NA</td><td>Adult1</td><td>NA/NA</td></tr>\n",
       "\t<tr><td>1</td><td>1.1</td><td>30/03/1987</td><td>09/12/2009</td><td>2</td><td>1</td><td>NA</td><td>1</td><td>NA</td><td>3</td><td>...</td><td>NA</td><td>0</td><td>NA</td><td>NA</td><td>DOBCHILD5</td><td>NA        </td><td>MEDICATION1</td><td>NA</td><td>Adult1</td><td>NA/NA</td></tr>\n",
       "\t<tr><td>1</td><td>1.1</td><td>30/03/1987</td><td>09/12/2009</td><td>2</td><td>1</td><td>NA</td><td>1</td><td>NA</td><td>3</td><td>...</td><td>NA</td><td>0</td><td>NA</td><td>NA</td><td>DOBCHILD6</td><td>NA        </td><td>MEDICATION1</td><td>NA</td><td>Adult1</td><td>NA/NA</td></tr>\n",
       "\t<tr><td>1</td><td>1.1</td><td>30/03/1987</td><td>09/12/2009</td><td>2</td><td>1</td><td>NA</td><td>1</td><td>NA</td><td>3</td><td>...</td><td>NA</td><td>0</td><td>NA</td><td>NA</td><td>DOBCHILD1</td><td>12/12/2005</td><td>MEDICATION2</td><td>NA</td><td>Adult1</td><td>NA/NA</td></tr>\n",
       "\t<tr><td>1</td><td>1.1</td><td>30/03/1987</td><td>09/12/2009</td><td>2</td><td>1</td><td>NA</td><td>1</td><td>NA</td><td>3</td><td>...</td><td>NA</td><td>0</td><td>NA</td><td>NA</td><td>DOBCHILD2</td><td>NA        </td><td>MEDICATION2</td><td>NA</td><td>Adult1</td><td>NA/NA</td></tr>\n",
       "\t<tr><td>1</td><td>1.1</td><td>30/03/1987</td><td>09/12/2009</td><td>2</td><td>1</td><td>NA</td><td>1</td><td>NA</td><td>3</td><td>...</td><td>NA</td><td>0</td><td>NA</td><td>NA</td><td>DOBCHILD3</td><td>NA        </td><td>MEDICATION2</td><td>NA</td><td>Adult1</td><td>NA/NA</td></tr>\n",
       "\t<tr><td>1</td><td>1.1</td><td>30/03/1987</td><td>09/12/2009</td><td>2</td><td>1</td><td>NA</td><td>1</td><td>NA</td><td>3</td><td>...</td><td>NA</td><td>0</td><td>NA</td><td>NA</td><td>DOBCHILD4</td><td>NA        </td><td>MEDICATION2</td><td>NA</td><td>Adult1</td><td>NA/NA</td></tr>\n",
       "\t<tr><td>1</td><td>1.1</td><td>30/03/1987</td><td>09/12/2009</td><td>2</td><td>1</td><td>NA</td><td>1</td><td>NA</td><td>3</td><td>...</td><td>NA</td><td>0</td><td>NA</td><td>NA</td><td>DOBCHILD5</td><td>NA        </td><td>MEDICATION2</td><td>NA</td><td>Adult1</td><td>NA/NA</td></tr>\n",
       "\t<tr><td>1</td><td>1.1</td><td>30/03/1987</td><td>09/12/2009</td><td>2</td><td>1</td><td>NA</td><td>1</td><td>NA</td><td>3</td><td>...</td><td>NA</td><td>0</td><td>NA</td><td>NA</td><td>DOBCHILD6</td><td>NA        </td><td>MEDICATION2</td><td>NA</td><td>Adult1</td><td>NA/NA</td></tr>\n",
       "</tbody>\n",
       "</table>\n"
      ],
      "text/latex": [
       "A tibble: 12 × 81\n",
       "\\begin{tabular}{r|lllllllllllllllllllllllllllllllllllllllllllllllllllllllllllllllllllllllllllllllll}\n",
       " PARENT\\_ID & INFANT\\_ID & DATE\\_OF\\_BIRTH & EDD & BIRTH\\_PLAN & LANGUAGE & OTHER\\_LANGUAGE & ETHNICITY & OTHER\\_ETHNICITY & RELATIONSHIP\\_STATUS & WEIGHT\\_PRE\\_PREGNANCY\\_IN\\_KG & EDUCATION & EMPLOYMENT & OTHER\\_EMPLOYMENT & OCCUPATION\\_CODE & PARTNER & LIVE\\_TOGETHER & PARTNER\\_EDUCATION & PARTNER\\_WORKING & PARTNER\\_OCCUPATION & SALARY & ALLOWANCE & OTHER\\_ADULTS & HOUSE\\_TYPE & HOME\\_OWN & HEAT1 & HEAT2 & HEAT3 & HEAT4 & DOUBLE\\_GLAZED & LOFT & CAVITY & AGE & MOULD\\_VISIBLE & MM\\_BATH & MM\\_BED & MM\\_LIV & MM\\_KITCH & MM\\_HALL & MM\\_FURNISH & NEIGHBOURS & SATISFIED\\_DISSATISFIED & COMMUNITY\\_HOME & HELP\\_NEED & SERVICES & SAFE & INVOLVED & SAD & NERVOUS & RESTLESS & HOPELESS & EFFORT & WORTHLESS & TOTAL\\_K6 & FOLIC\\_NOT\\_TAKEN & FOLIC\\_BEFORE & FOLIC\\_EARLY & FOLIC\\_MID\\_LATE & MULTI\\_NOT\\_TAKEN & MULTI\\_BEFORE & MULTI\\_EARLY & MULTI\\_MID\\_LATE & SUPP\\_NOT\\_TAKEN & SUPP\\_BEFORE & SUPP\\_EARLY & SUPP\\_MID\\_LATE & OTHER\\_BEFORE & OTHER\\_EARLY & OTHER\\_MID\\_LATE & SMOKE\\_ROOM & SMOKE & SMOKE\\_NUMBER & ALCOHOL & EARLY\\_PREG\\_ALCOHOL & MID\\_LATE\\_PREG\\_ALCOHOL & Children & DOBs & Medication & Code & Adults & Rel-Age\\\\\n",
       " <int> & <dbl> & <chr> & <chr> & <chr> & <chr> & <chr> & <chr> & <chr> & <chr> & <chr> & <chr> & <chr> & <chr> & <chr> & <chr> & <chr> & <chr> & <chr> & <chr> & <int> & <chr> & <chr> & <chr> & <chr> & <chr> & <chr> & <chr> & <chr> & <chr> & <chr> & <chr> & <int> & <chr> & <chr> & <chr> & <chr> & <chr> & <chr> & <chr> & <chr> & <chr> & <chr> & <chr> & <chr> & <chr> & <chr> & <chr> & <chr> & <chr> & <chr> & <chr> & <chr> & <chr> & <chr> & <chr> & <chr> & <chr> & <chr> & <chr> & <chr> & <chr> & <chr> & <chr> & <chr> & <chr> & <chr> & <chr> & <chr> & <chr> & <chr> & <chr> & <chr> & <chr> & <chr> & <chr> & <chr> & <chr> & <chr> & <chr> & <chr>\\\\\n",
       "\\hline\n",
       "\t 1 & 1.1 & 30/03/1987 & 09/12/2009 & 2 & 1 & NA & 1 & NA & 3 & 98.43 & 4 & 2 & NA & 9259 & 1 & NA & 5 & 1 & NA & 3 & 2 & 0 & 2 & 2 & 2 & NA & NA & NA & 1 & 3 & 3 & 45 & NA & NA & NA & 3 & NA & NA & NA & 1 & 1 & 2 & 2 & 3 & 2 & 3 & 0 & 0 & 1 & 0 & 0 & 0 & 1 & 1 & 0 & 0 & 0 & 1 & 0 & 0 & 0 & 1 & 0 & 0 & 0 & NA & NA & NA & 6 & 0 & NA & 0 & NA & NA & DOBCHILD1 & 12/12/2005 & MEDICATION1 & NA & Adult1 & NA/NA\\\\\n",
       "\t 1 & 1.1 & 30/03/1987 & 09/12/2009 & 2 & 1 & NA & 1 & NA & 3 & 98.43 & 4 & 2 & NA & 9259 & 1 & NA & 5 & 1 & NA & 3 & 2 & 0 & 2 & 2 & 2 & NA & NA & NA & 1 & 3 & 3 & 45 & NA & NA & NA & 3 & NA & NA & NA & 1 & 1 & 2 & 2 & 3 & 2 & 3 & 0 & 0 & 1 & 0 & 0 & 0 & 1 & 1 & 0 & 0 & 0 & 1 & 0 & 0 & 0 & 1 & 0 & 0 & 0 & NA & NA & NA & 6 & 0 & NA & 0 & NA & NA & DOBCHILD2 & NA         & MEDICATION1 & NA & Adult1 & NA/NA\\\\\n",
       "\t 1 & 1.1 & 30/03/1987 & 09/12/2009 & 2 & 1 & NA & 1 & NA & 3 & 98.43 & 4 & 2 & NA & 9259 & 1 & NA & 5 & 1 & NA & 3 & 2 & 0 & 2 & 2 & 2 & NA & NA & NA & 1 & 3 & 3 & 45 & NA & NA & NA & 3 & NA & NA & NA & 1 & 1 & 2 & 2 & 3 & 2 & 3 & 0 & 0 & 1 & 0 & 0 & 0 & 1 & 1 & 0 & 0 & 0 & 1 & 0 & 0 & 0 & 1 & 0 & 0 & 0 & NA & NA & NA & 6 & 0 & NA & 0 & NA & NA & DOBCHILD3 & NA         & MEDICATION1 & NA & Adult1 & NA/NA\\\\\n",
       "\t 1 & 1.1 & 30/03/1987 & 09/12/2009 & 2 & 1 & NA & 1 & NA & 3 & 98.43 & 4 & 2 & NA & 9259 & 1 & NA & 5 & 1 & NA & 3 & 2 & 0 & 2 & 2 & 2 & NA & NA & NA & 1 & 3 & 3 & 45 & NA & NA & NA & 3 & NA & NA & NA & 1 & 1 & 2 & 2 & 3 & 2 & 3 & 0 & 0 & 1 & 0 & 0 & 0 & 1 & 1 & 0 & 0 & 0 & 1 & 0 & 0 & 0 & 1 & 0 & 0 & 0 & NA & NA & NA & 6 & 0 & NA & 0 & NA & NA & DOBCHILD4 & NA         & MEDICATION1 & NA & Adult1 & NA/NA\\\\\n",
       "\t 1 & 1.1 & 30/03/1987 & 09/12/2009 & 2 & 1 & NA & 1 & NA & 3 & 98.43 & 4 & 2 & NA & 9259 & 1 & NA & 5 & 1 & NA & 3 & 2 & 0 & 2 & 2 & 2 & NA & NA & NA & 1 & 3 & 3 & 45 & NA & NA & NA & 3 & NA & NA & NA & 1 & 1 & 2 & 2 & 3 & 2 & 3 & 0 & 0 & 1 & 0 & 0 & 0 & 1 & 1 & 0 & 0 & 0 & 1 & 0 & 0 & 0 & 1 & 0 & 0 & 0 & NA & NA & NA & 6 & 0 & NA & 0 & NA & NA & DOBCHILD5 & NA         & MEDICATION1 & NA & Adult1 & NA/NA\\\\\n",
       "\t 1 & 1.1 & 30/03/1987 & 09/12/2009 & 2 & 1 & NA & 1 & NA & 3 & 98.43 & 4 & 2 & NA & 9259 & 1 & NA & 5 & 1 & NA & 3 & 2 & 0 & 2 & 2 & 2 & NA & NA & NA & 1 & 3 & 3 & 45 & NA & NA & NA & 3 & NA & NA & NA & 1 & 1 & 2 & 2 & 3 & 2 & 3 & 0 & 0 & 1 & 0 & 0 & 0 & 1 & 1 & 0 & 0 & 0 & 1 & 0 & 0 & 0 & 1 & 0 & 0 & 0 & NA & NA & NA & 6 & 0 & NA & 0 & NA & NA & DOBCHILD6 & NA         & MEDICATION1 & NA & Adult1 & NA/NA\\\\\n",
       "\t 1 & 1.1 & 30/03/1987 & 09/12/2009 & 2 & 1 & NA & 1 & NA & 3 & 98.43 & 4 & 2 & NA & 9259 & 1 & NA & 5 & 1 & NA & 3 & 2 & 0 & 2 & 2 & 2 & NA & NA & NA & 1 & 3 & 3 & 45 & NA & NA & NA & 3 & NA & NA & NA & 1 & 1 & 2 & 2 & 3 & 2 & 3 & 0 & 0 & 1 & 0 & 0 & 0 & 1 & 1 & 0 & 0 & 0 & 1 & 0 & 0 & 0 & 1 & 0 & 0 & 0 & NA & NA & NA & 6 & 0 & NA & 0 & NA & NA & DOBCHILD1 & 12/12/2005 & MEDICATION2 & NA & Adult1 & NA/NA\\\\\n",
       "\t 1 & 1.1 & 30/03/1987 & 09/12/2009 & 2 & 1 & NA & 1 & NA & 3 & 98.43 & 4 & 2 & NA & 9259 & 1 & NA & 5 & 1 & NA & 3 & 2 & 0 & 2 & 2 & 2 & NA & NA & NA & 1 & 3 & 3 & 45 & NA & NA & NA & 3 & NA & NA & NA & 1 & 1 & 2 & 2 & 3 & 2 & 3 & 0 & 0 & 1 & 0 & 0 & 0 & 1 & 1 & 0 & 0 & 0 & 1 & 0 & 0 & 0 & 1 & 0 & 0 & 0 & NA & NA & NA & 6 & 0 & NA & 0 & NA & NA & DOBCHILD2 & NA         & MEDICATION2 & NA & Adult1 & NA/NA\\\\\n",
       "\t 1 & 1.1 & 30/03/1987 & 09/12/2009 & 2 & 1 & NA & 1 & NA & 3 & 98.43 & 4 & 2 & NA & 9259 & 1 & NA & 5 & 1 & NA & 3 & 2 & 0 & 2 & 2 & 2 & NA & NA & NA & 1 & 3 & 3 & 45 & NA & NA & NA & 3 & NA & NA & NA & 1 & 1 & 2 & 2 & 3 & 2 & 3 & 0 & 0 & 1 & 0 & 0 & 0 & 1 & 1 & 0 & 0 & 0 & 1 & 0 & 0 & 0 & 1 & 0 & 0 & 0 & NA & NA & NA & 6 & 0 & NA & 0 & NA & NA & DOBCHILD3 & NA         & MEDICATION2 & NA & Adult1 & NA/NA\\\\\n",
       "\t 1 & 1.1 & 30/03/1987 & 09/12/2009 & 2 & 1 & NA & 1 & NA & 3 & 98.43 & 4 & 2 & NA & 9259 & 1 & NA & 5 & 1 & NA & 3 & 2 & 0 & 2 & 2 & 2 & NA & NA & NA & 1 & 3 & 3 & 45 & NA & NA & NA & 3 & NA & NA & NA & 1 & 1 & 2 & 2 & 3 & 2 & 3 & 0 & 0 & 1 & 0 & 0 & 0 & 1 & 1 & 0 & 0 & 0 & 1 & 0 & 0 & 0 & 1 & 0 & 0 & 0 & NA & NA & NA & 6 & 0 & NA & 0 & NA & NA & DOBCHILD4 & NA         & MEDICATION2 & NA & Adult1 & NA/NA\\\\\n",
       "\t 1 & 1.1 & 30/03/1987 & 09/12/2009 & 2 & 1 & NA & 1 & NA & 3 & 98.43 & 4 & 2 & NA & 9259 & 1 & NA & 5 & 1 & NA & 3 & 2 & 0 & 2 & 2 & 2 & NA & NA & NA & 1 & 3 & 3 & 45 & NA & NA & NA & 3 & NA & NA & NA & 1 & 1 & 2 & 2 & 3 & 2 & 3 & 0 & 0 & 1 & 0 & 0 & 0 & 1 & 1 & 0 & 0 & 0 & 1 & 0 & 0 & 0 & 1 & 0 & 0 & 0 & NA & NA & NA & 6 & 0 & NA & 0 & NA & NA & DOBCHILD5 & NA         & MEDICATION2 & NA & Adult1 & NA/NA\\\\\n",
       "\t 1 & 1.1 & 30/03/1987 & 09/12/2009 & 2 & 1 & NA & 1 & NA & 3 & 98.43 & 4 & 2 & NA & 9259 & 1 & NA & 5 & 1 & NA & 3 & 2 & 0 & 2 & 2 & 2 & NA & NA & NA & 1 & 3 & 3 & 45 & NA & NA & NA & 3 & NA & NA & NA & 1 & 1 & 2 & 2 & 3 & 2 & 3 & 0 & 0 & 1 & 0 & 0 & 0 & 1 & 1 & 0 & 0 & 0 & 1 & 0 & 0 & 0 & 1 & 0 & 0 & 0 & NA & NA & NA & 6 & 0 & NA & 0 & NA & NA & DOBCHILD6 & NA         & MEDICATION2 & NA & Adult1 & NA/NA\\\\\n",
       "\\end{tabular}\n"
      ],
      "text/markdown": [
       "\n",
       "A tibble: 12 × 81\n",
       "\n",
       "| PARENT_ID &lt;int&gt; | INFANT_ID &lt;dbl&gt; | DATE_OF_BIRTH &lt;chr&gt; | EDD &lt;chr&gt; | BIRTH_PLAN &lt;chr&gt; | LANGUAGE &lt;chr&gt; | OTHER_LANGUAGE &lt;chr&gt; | ETHNICITY &lt;chr&gt; | OTHER_ETHNICITY &lt;chr&gt; | RELATIONSHIP_STATUS &lt;chr&gt; | ... ... | SMOKE_NUMBER &lt;chr&gt; | ALCOHOL &lt;chr&gt; | EARLY_PREG_ALCOHOL &lt;chr&gt; | MID_LATE_PREG_ALCOHOL &lt;chr&gt; | Children &lt;chr&gt; | DOBs &lt;chr&gt; | Medication &lt;chr&gt; | Code &lt;chr&gt; | Adults &lt;chr&gt; | Rel-Age &lt;chr&gt; |\n",
       "|---|---|---|---|---|---|---|---|---|---|---|---|---|---|---|---|---|---|---|---|---|\n",
       "| 1 | 1.1 | 30/03/1987 | 09/12/2009 | 2 | 1 | NA | 1 | NA | 3 | ... | NA | 0 | NA | NA | DOBCHILD1 | 12/12/2005 | MEDICATION1 | NA | Adult1 | NA/NA |\n",
       "| 1 | 1.1 | 30/03/1987 | 09/12/2009 | 2 | 1 | NA | 1 | NA | 3 | ... | NA | 0 | NA | NA | DOBCHILD2 | NA         | MEDICATION1 | NA | Adult1 | NA/NA |\n",
       "| 1 | 1.1 | 30/03/1987 | 09/12/2009 | 2 | 1 | NA | 1 | NA | 3 | ... | NA | 0 | NA | NA | DOBCHILD3 | NA         | MEDICATION1 | NA | Adult1 | NA/NA |\n",
       "| 1 | 1.1 | 30/03/1987 | 09/12/2009 | 2 | 1 | NA | 1 | NA | 3 | ... | NA | 0 | NA | NA | DOBCHILD4 | NA         | MEDICATION1 | NA | Adult1 | NA/NA |\n",
       "| 1 | 1.1 | 30/03/1987 | 09/12/2009 | 2 | 1 | NA | 1 | NA | 3 | ... | NA | 0 | NA | NA | DOBCHILD5 | NA         | MEDICATION1 | NA | Adult1 | NA/NA |\n",
       "| 1 | 1.1 | 30/03/1987 | 09/12/2009 | 2 | 1 | NA | 1 | NA | 3 | ... | NA | 0 | NA | NA | DOBCHILD6 | NA         | MEDICATION1 | NA | Adult1 | NA/NA |\n",
       "| 1 | 1.1 | 30/03/1987 | 09/12/2009 | 2 | 1 | NA | 1 | NA | 3 | ... | NA | 0 | NA | NA | DOBCHILD1 | 12/12/2005 | MEDICATION2 | NA | Adult1 | NA/NA |\n",
       "| 1 | 1.1 | 30/03/1987 | 09/12/2009 | 2 | 1 | NA | 1 | NA | 3 | ... | NA | 0 | NA | NA | DOBCHILD2 | NA         | MEDICATION2 | NA | Adult1 | NA/NA |\n",
       "| 1 | 1.1 | 30/03/1987 | 09/12/2009 | 2 | 1 | NA | 1 | NA | 3 | ... | NA | 0 | NA | NA | DOBCHILD3 | NA         | MEDICATION2 | NA | Adult1 | NA/NA |\n",
       "| 1 | 1.1 | 30/03/1987 | 09/12/2009 | 2 | 1 | NA | 1 | NA | 3 | ... | NA | 0 | NA | NA | DOBCHILD4 | NA         | MEDICATION2 | NA | Adult1 | NA/NA |\n",
       "| 1 | 1.1 | 30/03/1987 | 09/12/2009 | 2 | 1 | NA | 1 | NA | 3 | ... | NA | 0 | NA | NA | DOBCHILD5 | NA         | MEDICATION2 | NA | Adult1 | NA/NA |\n",
       "| 1 | 1.1 | 30/03/1987 | 09/12/2009 | 2 | 1 | NA | 1 | NA | 3 | ... | NA | 0 | NA | NA | DOBCHILD6 | NA         | MEDICATION2 | NA | Adult1 | NA/NA |\n",
       "\n"
      ],
      "text/plain": [
       "   PARENT_ID INFANT_ID DATE_OF_BIRTH EDD        BIRTH_PLAN LANGUAGE\n",
       "1  1         1.1       30/03/1987    09/12/2009 2          1       \n",
       "2  1         1.1       30/03/1987    09/12/2009 2          1       \n",
       "3  1         1.1       30/03/1987    09/12/2009 2          1       \n",
       "4  1         1.1       30/03/1987    09/12/2009 2          1       \n",
       "5  1         1.1       30/03/1987    09/12/2009 2          1       \n",
       "6  1         1.1       30/03/1987    09/12/2009 2          1       \n",
       "7  1         1.1       30/03/1987    09/12/2009 2          1       \n",
       "8  1         1.1       30/03/1987    09/12/2009 2          1       \n",
       "9  1         1.1       30/03/1987    09/12/2009 2          1       \n",
       "10 1         1.1       30/03/1987    09/12/2009 2          1       \n",
       "11 1         1.1       30/03/1987    09/12/2009 2          1       \n",
       "12 1         1.1       30/03/1987    09/12/2009 2          1       \n",
       "   OTHER_LANGUAGE ETHNICITY OTHER_ETHNICITY RELATIONSHIP_STATUS ...\n",
       "1  NA             1         NA              3                   ...\n",
       "2  NA             1         NA              3                   ...\n",
       "3  NA             1         NA              3                   ...\n",
       "4  NA             1         NA              3                   ...\n",
       "5  NA             1         NA              3                   ...\n",
       "6  NA             1         NA              3                   ...\n",
       "7  NA             1         NA              3                   ...\n",
       "8  NA             1         NA              3                   ...\n",
       "9  NA             1         NA              3                   ...\n",
       "10 NA             1         NA              3                   ...\n",
       "11 NA             1         NA              3                   ...\n",
       "12 NA             1         NA              3                   ...\n",
       "   SMOKE_NUMBER ALCOHOL EARLY_PREG_ALCOHOL MID_LATE_PREG_ALCOHOL Children \n",
       "1  NA           0       NA                 NA                    DOBCHILD1\n",
       "2  NA           0       NA                 NA                    DOBCHILD2\n",
       "3  NA           0       NA                 NA                    DOBCHILD3\n",
       "4  NA           0       NA                 NA                    DOBCHILD4\n",
       "5  NA           0       NA                 NA                    DOBCHILD5\n",
       "6  NA           0       NA                 NA                    DOBCHILD6\n",
       "7  NA           0       NA                 NA                    DOBCHILD1\n",
       "8  NA           0       NA                 NA                    DOBCHILD2\n",
       "9  NA           0       NA                 NA                    DOBCHILD3\n",
       "10 NA           0       NA                 NA                    DOBCHILD4\n",
       "11 NA           0       NA                 NA                    DOBCHILD5\n",
       "12 NA           0       NA                 NA                    DOBCHILD6\n",
       "   DOBs       Medication  Code Adults Rel-Age\n",
       "1  12/12/2005 MEDICATION1 NA   Adult1 NA/NA  \n",
       "2  NA         MEDICATION1 NA   Adult1 NA/NA  \n",
       "3  NA         MEDICATION1 NA   Adult1 NA/NA  \n",
       "4  NA         MEDICATION1 NA   Adult1 NA/NA  \n",
       "5  NA         MEDICATION1 NA   Adult1 NA/NA  \n",
       "6  NA         MEDICATION1 NA   Adult1 NA/NA  \n",
       "7  12/12/2005 MEDICATION2 NA   Adult1 NA/NA  \n",
       "8  NA         MEDICATION2 NA   Adult1 NA/NA  \n",
       "9  NA         MEDICATION2 NA   Adult1 NA/NA  \n",
       "10 NA         MEDICATION2 NA   Adult1 NA/NA  \n",
       "11 NA         MEDICATION2 NA   Adult1 NA/NA  \n",
       "12 NA         MEDICATION2 NA   Adult1 NA/NA  "
      ]
     },
     "metadata": {},
     "output_type": "display_data"
    }
   ],
   "source": [
    "# p <- gather(pregnancy, DOBCHILD1, DOBCHILD2, DOBCHILD3, DOBCHILD4, DOBCHILD5, DOBCHILD6, key='Children', value='DOBs')\n",
    "# p <- gather(p, MEDICATION1, MEDICATION2, MEDICATION3, MEDICATION4, MEDICATION5, MEDICATION6, key='Medication', value='Code')\n",
    "# p <- unite(p, ADULT1_RELATIONSHIP, ADULT1_AGE, col='Adult1', sep='/')\n",
    "# p <- unite(p, ADULT2_RELATIONSHIP, ADULT2_AGE, col='Adult2', sep='/')\n",
    "# p <- unite(p, ADULT3_RELATIONSHIP, ADULT3_AGE, col='Adult3', sep='/')\n",
    "# p <- unite(p, ADULT4_RELATIONSHIP, ADULT4_AGE, col='Adult4', sep='/')\n",
    "# p <- gather(p, Adult1, Adult2, Adult3, Adult4, key='Adults', value='Rel-Age')\n",
    "# head(p[order(p$PARENT_ID),], 12)"
   ]
  },
  {
   "cell_type": "code",
   "execution_count": 37,
   "metadata": {},
   "outputs": [
    {
     "data": {
      "text/html": [
       "<table>\n",
       "<caption>A tibble: 6 × 103</caption>\n",
       "<thead>\n",
       "\t<tr><th scope=col>PARENT_ID</th><th scope=col>INFANT_ID</th><th scope=col>DATE_OF_BIRTH</th><th scope=col>EDD</th><th scope=col>LANGUAGE</th><th scope=col>OTHER_LANGUAGE</th><th scope=col>ETHNICITY</th><th scope=col>OTHER_ETHNICITY</th><th scope=col>RELATIONSHIP_STATUS</th><th scope=col>WEIGHT_PRE_PREGNANCY_IN_KG</th><th scope=col>...</th><th scope=col>1</th><th scope=col>2</th><th scope=col>2,3</th><th scope=col>3</th><th scope=col>4</th><th scope=col>5</th><th scope=col>6</th><th scope=col>7</th><th scope=col>8</th><th scope=col>&lt;NA&gt;</th></tr>\n",
       "\t<tr><th scope=col>&lt;int&gt;</th><th scope=col>&lt;dbl&gt;</th><th scope=col>&lt;chr&gt;</th><th scope=col>&lt;chr&gt;</th><th scope=col>&lt;chr&gt;</th><th scope=col>&lt;chr&gt;</th><th scope=col>&lt;chr&gt;</th><th scope=col>&lt;chr&gt;</th><th scope=col>&lt;chr&gt;</th><th scope=col>&lt;chr&gt;</th><th scope=col>...</th><th scope=col>&lt;chr&gt;</th><th scope=col>&lt;chr&gt;</th><th scope=col>&lt;chr&gt;</th><th scope=col>&lt;chr&gt;</th><th scope=col>&lt;chr&gt;</th><th scope=col>&lt;chr&gt;</th><th scope=col>&lt;chr&gt;</th><th scope=col>&lt;chr&gt;</th><th scope=col>&lt;chr&gt;</th><th scope=col>&lt;chr&gt;</th></tr>\n",
       "</thead>\n",
       "<tbody>\n",
       "\t<tr><td> 47</td><td> 47.1</td><td>18/12/1965</td><td>30/07/2010</td><td>NA</td><td>NA</td><td>1</td><td>NA</td><td>4</td><td>66.68</td><td>...</td><td>NA</td><td>NA</td><td>NA</td><td>1 </td><td>NA</td><td>NA</td><td>NA</td><td>NA</td><td>NA</td><td>NA</td></tr>\n",
       "\t<tr><td> 47</td><td> 47.2</td><td>18/12/1965</td><td>30/07/2010</td><td>NA</td><td>NA</td><td>1</td><td>NA</td><td>4</td><td>66.68</td><td>...</td><td>NA</td><td>NA</td><td>NA</td><td>1 </td><td>NA</td><td>NA</td><td>NA</td><td>NA</td><td>NA</td><td>NA</td></tr>\n",
       "\t<tr><td> 45</td><td> 45.1</td><td>05/03/1966</td><td>12/07/2010</td><td>1 </td><td>NA</td><td>1</td><td>NA</td><td>4</td><td>57.15</td><td>...</td><td>NA</td><td>NA</td><td>NA</td><td>4 </td><td>NA</td><td>NA</td><td>NA</td><td>NA</td><td>NA</td><td>NA</td></tr>\n",
       "\t<tr><td>172</td><td>172.1</td><td>06/03/1967</td><td>27/01/2011</td><td>1 </td><td>NA</td><td>1</td><td>NA</td><td>4</td><td>64.41</td><td>...</td><td>NA</td><td>6 </td><td>NA</td><td>NA</td><td>NA</td><td>NA</td><td>NA</td><td>NA</td><td>NA</td><td>NA</td></tr>\n",
       "\t<tr><td>  8</td><td>  8.1</td><td>24/12/1967</td><td>09/03/2010</td><td>1 </td><td>NA</td><td>1</td><td>NA</td><td>4</td><td>65.77</td><td>...</td><td>NA</td><td>1 </td><td>NA</td><td>NA</td><td>NA</td><td>NA</td><td>NA</td><td>NA</td><td>NA</td><td>NA</td></tr>\n",
       "\t<tr><td>301</td><td>301.1</td><td>16/05/1968</td><td>27/04/2011</td><td>1 </td><td>NA</td><td>1</td><td>NA</td><td>2</td><td>53.10</td><td>...</td><td>3 </td><td>NA</td><td>NA</td><td>NA</td><td>NA</td><td>NA</td><td>NA</td><td>NA</td><td>NA</td><td>NA</td></tr>\n",
       "</tbody>\n",
       "</table>\n"
      ],
      "text/latex": [
       "A tibble: 6 × 103\n",
       "\\begin{tabular}{r|lllllllllllllllllllllllllllllllllllllllllllllllllllllllllllllllllllllllllllllllllllllllllllllllllllllll}\n",
       " PARENT\\_ID & INFANT\\_ID & DATE\\_OF\\_BIRTH & EDD & LANGUAGE & OTHER\\_LANGUAGE & ETHNICITY & OTHER\\_ETHNICITY & RELATIONSHIP\\_STATUS & WEIGHT\\_PRE\\_PREGNANCY\\_IN\\_KG & EMPLOYMENT & OTHER\\_EMPLOYMENT & OCCUPATION\\_CODE & PARTNER & LIVE\\_TOGETHER & PARTNER\\_EDUCATION & PARTNER\\_WORKING & PARTNER\\_OCCUPATION & SALARY & ALLOWANCE & DOBCHILD1 & DOBCHILD2 & DOBCHILD3 & DOBCHILD4 & DOBCHILD5 & DOBCHILD6 & OTHER\\_ADULTS & ADULT1\\_RELATIONSHIP & ADULT1\\_AGE & ADULT2\\_RELATIONSHIP & ADULT2\\_AGE & ADULT3\\_RELATIONSHIP & ADULT3\\_AGE & ADULT4\\_RELATIONSHIP & ADULT4\\_AGE & HOUSE\\_TYPE & HOME\\_OWN & HEAT1 & HEAT2 & HEAT3 & HEAT4 & DOUBLE\\_GLAZED & LOFT & CAVITY & AGE & MOULD\\_VISIBLE & MM\\_BATH & MM\\_BED & MM\\_LIV & MM\\_KITCH & MM\\_HALL & MM\\_FURNISH & NEIGHBOURS & SATISFIED\\_DISSATISFIED & COMMUNITY\\_HOME & HELP\\_NEED & SERVICES & SAFE & INVOLVED & SAD & NERVOUS & RESTLESS & HOPELESS & EFFORT & WORTHLESS & TOTAL\\_K6 & FOLIC\\_NOT\\_TAKEN & FOLIC\\_BEFORE & FOLIC\\_EARLY & FOLIC\\_MID\\_LATE & MULTI\\_NOT\\_TAKEN & MULTI\\_BEFORE & MULTI\\_EARLY & MULTI\\_MID\\_LATE & SUPP\\_NOT\\_TAKEN & SUPP\\_BEFORE & SUPP\\_EARLY & SUPP\\_MID\\_LATE & OTHER\\_BEFORE & OTHER\\_EARLY & OTHER\\_MID\\_LATE & SMOKE\\_ROOM & SMOKE & SMOKE\\_NUMBER & ALCOHOL & EARLY\\_PREG\\_ALCOHOL & MID\\_LATE\\_PREG\\_ALCOHOL & MEDICATION1 & MEDICATION2 & MEDICATION3 & MEDICATION4 & MEDICATION5 & MEDICATION6 & 1 & 2 & 2,3 & 3 & 4 & 5 & 6 & 7 & 8 & <NA>\\\\\n",
       " <int> & <dbl> & <chr> & <chr> & <chr> & <chr> & <chr> & <chr> & <chr> & <chr> & <chr> & <chr> & <chr> & <chr> & <chr> & <chr> & <chr> & <chr> & <int> & <chr> & <chr> & <chr> & <chr> & <chr> & <chr> & <chr> & <chr> & <chr> & <chr> & <chr> & <chr> & <chr> & <chr> & <chr> & <chr> & <chr> & <chr> & <chr> & <chr> & <chr> & <chr> & <chr> & <chr> & <chr> & <int> & <chr> & <chr> & <chr> & <chr> & <chr> & <chr> & <chr> & <chr> & <chr> & <chr> & <chr> & <chr> & <chr> & <chr> & <chr> & <chr> & <chr> & <chr> & <chr> & <chr> & <chr> & <chr> & <chr> & <chr> & <chr> & <chr> & <chr> & <chr> & <chr> & <chr> & <chr> & <chr> & <chr> & <chr> & <chr> & <chr> & <chr> & <chr> & <chr> & <chr> & <chr> & <chr> & <chr> & <chr> & <chr> & <chr> & <chr> & <chr> & <chr> & <chr> & <chr> & <chr> & <chr> & <chr> & <chr> & <chr> & <chr> & <chr>\\\\\n",
       "\\hline\n",
       "\t  47 &  47.1 & 18/12/1965 & 30/07/2010 & NA & NA & 1 & NA & 4 & 66.68 & 2 & NA & 2229 & 1 & NA & 1  & 1  & 3312 &  7 & 2 & 07/11/2003 & NA & NA & NA & NA & NA & 0 & NA & NA & NA & NA & NA & NA & NA & NA & 1 & 2 & 1 & 5  & NA & NA & 1 & 1 & 4 & 100 & NA & NA & NA & NA & NA & NA & 2  & 1 & 4 & NA & 2  & NA & NA & NA & 0 & 0 & 1 & 0 & 0 & 0 & 1 & 0 & 1 & 1 & 1 & 0 & 1 & 1 & 1 & 1 & 0 & 0 & 0 & NA & NA & NA & 6 & 0 & NA & 0 & NA & NA & NA & NA & NA & NA & NA & NA & NA & NA & NA & 1  & NA & NA & NA & NA & NA & NA\\\\\n",
       "\t  47 &  47.2 & 18/12/1965 & 30/07/2010 & NA & NA & 1 & NA & 4 & 66.68 & 2 & NA & 2229 & 1 & NA & 1  & 1  & 3312 &  7 & 2 & 07/11/2003 & NA & NA & NA & NA & NA & 0 & NA & NA & NA & NA & NA & NA & NA & NA & 1 & 2 & 1 & 5  & NA & NA & 1 & 1 & 4 & 100 & NA & NA & NA & NA & NA & NA & 2  & 1 & 4 & NA & 2  & NA & NA & NA & 0 & 0 & 1 & 0 & 0 & 0 & 1 & 0 & 1 & 1 & 1 & 0 & 1 & 1 & 1 & 1 & 0 & 0 & 0 & NA & NA & NA & 6 & 0 & NA & 0 & NA & NA & NA & NA & NA & NA & NA & NA & NA & NA & NA & 1  & NA & NA & NA & NA & NA & NA\\\\\n",
       "\t  45 &  45.1 & 05/03/1966 & 12/07/2010 & 1  & NA & 1 & NA & 4 & 57.15 & 2 & NA & 4112 & 1 & NA & 3  & 7  & 3411 &  9 & 8 & 29/12/2003 & NA & NA & NA & NA & NA & 0 & NA & NA & NA & NA & NA & NA & NA & NA & 3 & 1 & 5 & NA & NA & NA & 1 & 3 & 2 & 105 & NA & NA & NA & NA & NA & NA & NA & 1 & 2 & 2  & 1  & 3  & 2  & NA & 0 & 0 & 0 & 0 & 0 & 0 & 0 & 0 & 0 & 1 & 0 & 0 & 0 & 0 & 0 & 1 & 0 & 0 & 0 & NA & NA & NA & 6 & 0 & NA & 0 & NA & NA & 13 & NA & NA & NA & NA & NA & NA & NA & NA & 4  & NA & NA & NA & NA & NA & NA\\\\\n",
       "\t 172 & 172.1 & 06/03/1967 & 27/01/2011 & 1  & NA & 1 & NA & 4 & 64.41 & 1 & NA & 4129 & 1 & NA & 4  & 1  & NA   &  3 & 1 & NA         & NA & NA & NA & NA & NA & 0 & NA & NA & NA & NA & NA & NA & NA & NA & 3 & 2 & 2 & 5  & NA & NA & 1 & 1 & 1 &  65 & NA & NA & NA & 3  & NA & NA & 2  & 1 & 1 & 1  & 1  & 1  & 1  & 2  & 1 & 3 & 3 & 1 & 0 & 1 & 9 & 0 & 1 & 1 & 0 & 1 & 0 & 0 & 0 & 1 & 0 & 0 & 0 & NA & NA & NA & 5 & 1 & 0  & 1 & NA & NA & NA & NA & NA & NA & NA & NA & NA & 6  & NA & NA & NA & NA & NA & NA & NA & NA\\\\\n",
       "\t   8 &   8.1 & 24/12/1967 & 09/03/2010 & 1  & NA & 1 & NA & 4 & 65.77 & 5 & NA & NA   & 1 & NA & 1  & 1  & NA   & NA & 3 & 07/11/2008 & NA & NA & NA & NA & NA & 1 & 1  & 50 & NA & NA & NA & NA & NA & NA & 3 & 1 & 2 & NA & NA & NA & 3 & 4 & 4 & 110 & NA & NA & 2  & 2  & NA & NA & NA & 1 & 2 & 1  & 4  & 4  & 1  & NA & 0 & 0 & 3 & 0 & 1 & 0 & 4 & 0 & 0 & 0 & 0 & 0 & 0 & 1 & 1 & 0 & 0 & 0 & 0 & NA & NA & NA & 6 & 0 & NA & 1 & NA & NA & 13 & NA & NA & NA & NA & NA & NA & 1  & NA & NA & NA & NA & NA & NA & NA & NA\\\\\n",
       "\t 301 & 301.1 & 16/05/1968 & 27/04/2011 & 1  & NA & 1 & NA & 2 & 53.10 & 4 & NA & NA   & 0 & NA & NA & NA & NA   &  1 & 5 & 16/05/2000 & NA & NA & NA & NA & NA & 0 & NA & NA & NA & NA & NA & NA & NA & NA & 2 & 2 & 5 & NA & NA & NA & 1 & 1 & 4 &  18 & NA & NA & NA & NA & 3  & NA & 2  & 3 & 2 & NA & NA & 3  & 2  & NA & 0 & 0 & 1 & 0 & 0 & 0 & 1 & 0 & 0 & 1 & 0 & 0 & 0 & 1 & 0 & 1 & 0 & 0 & 0 & NA & NA & NA & 6 & 1 & 3  & 1 & NA & NA & NA & NA & NA & NA & NA & NA & 3  & NA & NA & NA & NA & NA & NA & NA & NA & NA\\\\\n",
       "\\end{tabular}\n"
      ],
      "text/markdown": [
       "\n",
       "A tibble: 6 × 103\n",
       "\n",
       "| PARENT_ID &lt;int&gt; | INFANT_ID &lt;dbl&gt; | DATE_OF_BIRTH &lt;chr&gt; | EDD &lt;chr&gt; | LANGUAGE &lt;chr&gt; | OTHER_LANGUAGE &lt;chr&gt; | ETHNICITY &lt;chr&gt; | OTHER_ETHNICITY &lt;chr&gt; | RELATIONSHIP_STATUS &lt;chr&gt; | WEIGHT_PRE_PREGNANCY_IN_KG &lt;chr&gt; | ... ... | 1 &lt;chr&gt; | 2 &lt;chr&gt; | 2,3 &lt;chr&gt; | 3 &lt;chr&gt; | 4 &lt;chr&gt; | 5 &lt;chr&gt; | 6 &lt;chr&gt; | 7 &lt;chr&gt; | 8 &lt;chr&gt; | &lt;NA&gt; &lt;chr&gt; |\n",
       "|---|---|---|---|---|---|---|---|---|---|---|---|---|---|---|---|---|---|---|---|---|\n",
       "|  47 |  47.1 | 18/12/1965 | 30/07/2010 | NA | NA | 1 | NA | 4 | 66.68 | ... | NA | NA | NA | 1  | NA | NA | NA | NA | NA | NA |\n",
       "|  47 |  47.2 | 18/12/1965 | 30/07/2010 | NA | NA | 1 | NA | 4 | 66.68 | ... | NA | NA | NA | 1  | NA | NA | NA | NA | NA | NA |\n",
       "|  45 |  45.1 | 05/03/1966 | 12/07/2010 | 1  | NA | 1 | NA | 4 | 57.15 | ... | NA | NA | NA | 4  | NA | NA | NA | NA | NA | NA |\n",
       "| 172 | 172.1 | 06/03/1967 | 27/01/2011 | 1  | NA | 1 | NA | 4 | 64.41 | ... | NA | 6  | NA | NA | NA | NA | NA | NA | NA | NA |\n",
       "|   8 |   8.1 | 24/12/1967 | 09/03/2010 | 1  | NA | 1 | NA | 4 | 65.77 | ... | NA | 1  | NA | NA | NA | NA | NA | NA | NA | NA |\n",
       "| 301 | 301.1 | 16/05/1968 | 27/04/2011 | 1  | NA | 1 | NA | 2 | 53.10 | ... | 3  | NA | NA | NA | NA | NA | NA | NA | NA | NA |\n",
       "\n"
      ],
      "text/plain": [
       "  PARENT_ID INFANT_ID DATE_OF_BIRTH EDD        LANGUAGE OTHER_LANGUAGE\n",
       "1  47        47.1     18/12/1965    30/07/2010 NA       NA            \n",
       "2  47        47.2     18/12/1965    30/07/2010 NA       NA            \n",
       "3  45        45.1     05/03/1966    12/07/2010 1        NA            \n",
       "4 172       172.1     06/03/1967    27/01/2011 1        NA            \n",
       "5   8         8.1     24/12/1967    09/03/2010 1        NA            \n",
       "6 301       301.1     16/05/1968    27/04/2011 1        NA            \n",
       "  ETHNICITY OTHER_ETHNICITY RELATIONSHIP_STATUS WEIGHT_PRE_PREGNANCY_IN_KG ...\n",
       "1 1         NA              4                   66.68                      ...\n",
       "2 1         NA              4                   66.68                      ...\n",
       "3 1         NA              4                   57.15                      ...\n",
       "4 1         NA              4                   64.41                      ...\n",
       "5 1         NA              4                   65.77                      ...\n",
       "6 1         NA              2                   53.10                      ...\n",
       "  1  2  2,3 3  4  5  6  7  8  <NA>\n",
       "1 NA NA NA  1  NA NA NA NA NA NA  \n",
       "2 NA NA NA  1  NA NA NA NA NA NA  \n",
       "3 NA NA NA  4  NA NA NA NA NA NA  \n",
       "4 NA 6  NA  NA NA NA NA NA NA NA  \n",
       "5 NA 1  NA  NA NA NA NA NA NA NA  \n",
       "6 3  NA NA  NA NA NA NA NA NA NA  "
      ]
     },
     "metadata": {},
     "output_type": "display_data"
    },
    {
     "data": {
      "text/plain": [
       "     \n",
       "       1  2  3  4  5  6  7  8\n",
       "  1   18 12  9  7  5  4  2  2\n",
       "  2   60 70 30 33 66 21  9 16\n",
       "  2,3  0  0  0  1  1  0  0  0\n",
       "  3   33 50 26 23 46 14  7 17\n",
       "  4    9 12 18 12 19  3  6  7\n",
       "  5   10 10 11 11 15  0  3  6\n",
       "  6    0  1  0  0  0  0  0  0\n",
       "  7    8 11  8  2  8  1  2  2\n",
       "  8    1  1  0  0  2  1  0  0"
      ]
     },
     "metadata": {},
     "output_type": "display_data"
    }
   ],
   "source": []
  },
  {
   "cell_type": "markdown",
   "metadata": {},
   "source": [
    "<table style=\"text-align:center;\"><tr><td width=\"100\" height=\"20\" style=\"background-color:greenyellow\"></td><td width=\"100\" height=\"20\" style=\"background-color:hotpink\"></td></tr></table>"
   ]
  },
  {
   "cell_type": "markdown",
   "metadata": {},
   "source": [
    "<table width='100%'><tr>\n",
    "    <td style='background-color:red; text-align:center; color: white;'><!--Foundation<!--hr size='5' style='border-color:red; background-color:red;'--></td>\n",
    "    <td style='background-color:yellow; text-align:center;'><!--Level 1<!--hr size='5' style='border-color:yellow; background-color:yellow;'--></td>\n",
    "    <td style='background-color:orange; text-align:center;'><!--Level 2<!--hr size='5' style='border-color:orange; background-color:orange;'--></td>\n",
    "    <td style='background-color:green; text-align:center; color: white;'><!--Level 3<!--hr size='5' style='border-color:orange; background-color:orange;'--></td>\n",
    "    <td style='background-color:blue; text-align:center; color: white;'><!--Level 4<!--hr size='5' style='border-color:orange; background-color:orange;'--></td>\n",
    "    <td style='background-color:purple; text-align:center; color: white;'><!--Level 5<!--hr size='5' style='border-color:orange; background-color:orange;'--></td>\n",
    "    <td style='background-color:brown; text-align:center; color: white;'><!--Level 6<!--hr size='5' style='border-color:orange; background-color:orange;'--></td>\n",
    "    <td style='background-color:black; text-align:center; color: white;'><!--Level 7<!--hr size='5' style='border-color:orange; background-color:orange;'--></td>\n",
    "</tr></table>"
   ]
  }
 ],
 "metadata": {
  "kernelspec": {
   "display_name": "R",
   "language": "R",
   "name": "ir"
  },
  "language_info": {
   "codemirror_mode": "r",
   "file_extension": ".r",
   "mimetype": "text/x-r-source",
   "name": "R",
   "pygments_lexer": "r",
   "version": "4.0.2"
  }
 },
 "nbformat": 4,
 "nbformat_minor": 4
}
