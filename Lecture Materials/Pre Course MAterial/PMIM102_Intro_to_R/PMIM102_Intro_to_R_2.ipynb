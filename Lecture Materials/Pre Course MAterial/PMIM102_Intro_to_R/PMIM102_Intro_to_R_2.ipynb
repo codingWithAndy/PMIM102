{
 "cells": [
  {
   "cell_type": "markdown",
   "metadata": {},
   "source": [
    "<table width='100%'><tr>\n",
    "    <td style='background-color:red; text-align:center; color: white;'><!--Foundation<!--hr size='5' style='border-color:red; background-color:red;'--></td>\n",
    "    <td style='background-color:yellow; text-align:center;'><!--Level 1<!--hr size='5' style='border-color:yellow; background-color:yellow;'--></td>\n",
    "    <td style='background-color:orange; text-align:center;'><!--Level 2<!--hr size='5' style='border-color:orange; background-color:orange;'--></td>\n",
    "    <td style='background-color:green; text-align:center; color: white;'><!--Level 3<!--hr size='5' style='border-color:orange; background-color:orange;'--></td>\n",
    "    <td style='background-color:blue; text-align:center; color: white;'><!--Level 4<!--hr size='5' style='border-color:orange; background-color:orange;'--></td>\n",
    "    <td style='background-color:purple; text-align:center; color: white;'><!--Level 5<!--hr size='5' style='border-color:orange; background-color:orange;'--></td>\n",
    "    <td style='background-color:brown; text-align:center; color: white;'><!--Level 6<!--hr size='5' style='border-color:orange; background-color:orange;'--></td>\n",
    "    <td style='background-color:black; text-align:center; color: white;'><!--Level 7<!--hr size='5' style='border-color:orange; background-color:orange;'--></td>\n",
    "</tr></table>"
   ]
  },
  {
   "cell_type": "markdown",
   "metadata": {},
   "source": [
    "<table style='border-left:10px solid yellow;'><tr>\n",
    "    <td style='padding-left:20px;'>\n",
    "        <h2><i>Swansea University Medical School</i><br/><b>MSc Health Data Science</b></h2>\n",
    "        <h3>PMIM-102 Introduction to Scientific Computing in Healthcare</h3>\n",
    "        <h1><b>Introduction to Programming in R</b></h1>\n",
    "        <h2><b>1. Programming Fundamentals</b></h2>\n",
    "        <h2><i>Part 2: Control structures.</i></h2>\n",
    "        <h3><i>September 2020</i></h3>\n",
    "        <h3><b>To-do</b></h3>\n",
    "        <ul>\n",
    "            <li>Fix bug in plotting with factors.</li>\n",
    "            <li>A formula challenge?</li>\n",
    "        </ul>\n",
    "    </td>\n",
    "    <td><img height='300' width='500' src='images/cover.jpg'/></td>\n",
    "</tr></table>"
   ]
  },
  {
   "cell_type": "markdown",
   "metadata": {},
   "source": [
    "## __Aim__: Learn how to make the computer do what we want and get information from the data\n",
    "\n",
    "The aim of this session is to introduce the basic principles of programming using <code>R</code>.\n",
    "\n",
    "### __A map of where we're going__\n",
    "\n",
    "1. __Simple Things__ - simple data (__variables__) and how to do things to them (__operators__) and calculate things (__expressions__). Also when and where variables are and are not valid.\n",
    "\n",
    "1. <div style=\"background-color:yellow;\"><b>What computers do best 1: Control</b> - how to make decisions about whether to execute code and/or which code to execute; how to repeatedly execute code.</div>\n",
    "\n",
    "1. __What computers do best 2: What they have been told. Again and agin ...__ - combining lots of simple operations into more complex functions - being able to perform, simple, repetitive or complex operations on the variables with just one command. Introducing some basic descriptive statistical functions.\n",
    "\n",
    "1. __What R does well: complex data and operations on all the bits at the same time__ - pairs, tuples, vectors, lists, matrices, arrays, tables, factors.\n",
    "\n",
    "1. __The Data Frame__ - along with vectors, data frames are the data structure most frequently used in health data science.\n",
    "    * __Extra: R Specifics__ - formulae."
   ]
  },
  {
   "cell_type": "markdown",
   "metadata": {},
   "source": [
    "## __Navigation__\n",
    "\n",
    "_How to approach this section of the course depending on your experience of R_\n",
    "\n",
    "Although the code and exercises presented in this notebook will run here, it would be better to transfer the code to R-Studio and run and edit it in that environment as that will be the enviornment we use for the course.\n",
    "\n",
    "__If you have programming experience in R:__\n",
    "\n",
    "you may want to skim what we are doing in each section: you may be able to skip ahead to the ___challenges___ and ___FAST TRACK___ and attempt those exercises. If you complete those exercises before the rest of use have reached that point, ask yourself 'what-if' questions and play with the code or the look at something you have never used before or help others in the class.\n",
    "\n",
    "__If you have some programming experience in another programming language:__\n",
    "\n",
    "you can work through the Jupyter Notebook at your own speed but bear in mind that R is unique in many respects, so don't just skip things as it may come back to bite you :) When you get to the ___challenges___ and ___FAST TRACK___ please attempt those exercises and then experiment with R. \n",
    "\n",
    "In all cases, the internet is a superb resource if you have a problem - somebody almost certainly has had it before (but remember that not all the answers are from experts)."
   ]
  },
  {
   "cell_type": "markdown",
   "metadata": {},
   "source": [
    "<table style=\"text-align:center;\"><tr><td width=\"100\" height=\"20\" style=\"background-color:greenyellow\"></td><td width=\"100\" height=\"20\" style=\"background-color:hotpink\"></td></tr></table>"
   ]
  },
  {
   "cell_type": "markdown",
   "metadata": {},
   "source": [
    "### __Simple Control & Decisions__\n",
    "\n",
    "As well as doing things a calculator can do, programs also need to make decisions about whether or not they should do things. To do this they need to be able to:\n",
    "\n",
    "* checking a condition, and\n",
    "* control the program flow. \n",
    "\n",
    "To check conditions we need to form a logical expression (also called a conditional espression) which results in a value of TRUE or FALSE. For example, if we wanted to check that the height value we have been given for a BMI calculation is realistic, we might want to check that it was above 0.5m:"
   ]
  },
  {
   "cell_type": "code",
   "execution_count": 3,
   "metadata": {},
   "outputs": [
    {
     "data": {
      "text/html": [
       "TRUE"
      ],
      "text/latex": [
       "TRUE"
      ],
      "text/markdown": [
       "TRUE"
      ],
      "text/plain": [
       "[1] TRUE"
      ]
     },
     "metadata": {},
     "output_type": "display_data"
    }
   ],
   "source": [
    "#height_cm <- 4000\n",
    "#(height_cm > 50)"
   ]
  },
  {
   "cell_type": "markdown",
   "metadata": {},
   "source": [
    "... and less than, say, 3m:"
   ]
  },
  {
   "cell_type": "code",
   "execution_count": 6,
   "metadata": {},
   "outputs": [
    {
     "data": {
      "text/html": [
       "FALSE"
      ],
      "text/latex": [
       "FALSE"
      ],
      "text/markdown": [
       "FALSE"
      ],
      "text/plain": [
       "[1] FALSE"
      ]
     },
     "metadata": {},
     "output_type": "display_data"
    }
   ],
   "source": [
    "#(height_cm > 50) & (height_cm < 3000)"
   ]
  },
  {
   "cell_type": "markdown",
   "metadata": {},
   "source": [
    "__NOTE__: TRUE and FALSE are reserved words in R and cannot be changed. to save typing, you can use T and F as these have been defined as global variables but these values can be over-ridden so that is not recommended."
   ]
  },
  {
   "cell_type": "markdown",
   "metadata": {},
   "source": [
    "__NOTE__: Numerical values can be used in logical and relational statements. In relational statements, 0 is considered FALSE and all other values TRUE."
   ]
  },
  {
   "cell_type": "markdown",
   "metadata": {},
   "source": [
    "#### Relational Operators\n",
    "\n",
    "The following allow us to compare logical values in complex tests:\n",
    "\n",
    "* \\< --- less than\n",
    "* \\<= --- less than or equal to\n",
    "* \\> --- greater than\n",
    "* \\>= --- greater than or equal to\n",
    "* == --- equal to\n",
    "* != --- not equal to\n",
    "* isTRUE(x) --- test if X is TRUE "
   ]
  },
  {
   "cell_type": "markdown",
   "metadata": {},
   "source": [
    "#### Logical Operators\n",
    "\n",
    "The following allow us to modify logical values:\n",
    "\n",
    "* !x --- not x\n",
    "* x | y --- x or y (all elements in a complex structure)\n",
    "* x & y --- x and y (all elements in a complex structure)\n",
    "* x || y --- x or y (top element only in a complex structure; returns a single value)\n",
    "* x && y --- x and y (top element only in a complex structure; returns a single value)\n",
    "\n",
    "Don't worry yet about the complex structures and, in general, just use the single '&' or '|' unless you mean otherwise."
   ]
  },
  {
   "cell_type": "markdown",
   "metadata": {},
   "source": [
    "#### Making Decisions\n",
    "\n",
    "In R we can choose whether to run a piece of code using the <code>if (_conditional expression_) { _state else</code> control structure which looks like:\n",
    "\n",
    "<code>if (_conditional expression_) { <br/>    _statements if TRUE_ <br/>} else { <br/>    _statements if FALSE_<br/>}</code>\n",
    "\n",
    "R will evaluate the conditional expression, if it is TRUE (or non-zero) R will execute all the instructions in the statements if TRUE section and, if FALSE or 0, will instead execute all the instructions in the statements if FALSE section."
   ]
  },
  {
   "cell_type": "markdown",
   "metadata": {},
   "source": [
    "__NOTE__: The curly braces need to be on the same line as the `if () {` and `} else {` lines or R gets confused - it interprets one line at a time."
   ]
  },
  {
   "cell_type": "markdown",
   "metadata": {},
   "source": [
    "### __Exercise__: Testing variables.\n",
    "Create two variables and assign them a value. Compare them and print out a message if the first is larger than the second or a different message if not. Create another check to see if they are equal. And a third to check if either of them is TRUE."
   ]
  },
  {
   "cell_type": "code",
   "execution_count": 308,
   "metadata": {},
   "outputs": [
    {
     "name": "stdout",
     "output_type": "stream",
     "text": [
      "[1] \"x isn't\"\n",
      "[1] \"One or the other or both\"\n"
     ]
    }
   ],
   "source": [
    "#x <- 1\n",
    "#y <- 0\n",
    "#if (x < y) {\n",
    "#    print('x is less than y')\n",
    "#} else {\n",
    "#    print('x isn\\'t')\n",
    "#}\n",
    "#if (x == y) {\n",
    "#    print('They are both the same')\n",
    "#}\n",
    "#if (x | y) print('One or the other or both')"
   ]
  },
  {
   "cell_type": "markdown",
   "metadata": {},
   "source": [
    "You can combine multiple if-else statements to get a series of tests:\n",
    "\n",
    "<code>if (_conditional expression_) { <br/>    _statements if TRUE_ <br/>} else if (_another_condition_)  { <br/>    _statements if TRUE_ <br/>} else { <br/>    _statements if FALSE_<br/>}</code>\n",
    "\n",
    "Note that NA values cause trouble with conditional expressions:"
   ]
  },
  {
   "cell_type": "code",
   "execution_count": 50,
   "metadata": {},
   "outputs": [
    {
     "ename": "ERROR",
     "evalue": "Error in if (x == NA) print(\"No data\"): missing value where TRUE/FALSE needed\n",
     "output_type": "error",
     "traceback": [
      "Error in if (x == NA) print(\"No data\"): missing value where TRUE/FALSE needed\nTraceback:\n"
     ]
    }
   ],
   "source": [
    "#x <- NA\n",
    "#if (x == NA) print('No data')"
   ]
  },
  {
   "cell_type": "markdown",
   "metadata": {},
   "source": [
    "So we need to explicitly check for NA using a special function _is.na(&lt;value&gt;)_:"
   ]
  },
  {
   "cell_type": "code",
   "execution_count": 56,
   "metadata": {},
   "outputs": [
    {
     "name": "stdout",
     "output_type": "stream",
     "text": [
      "[1] \"No data\"\n",
      "[1] \"Infinity!\"\n"
     ]
    }
   ],
   "source": [
    "#if (is.na(x)) print('No data')\n",
    "#x <- Inf\n",
    "#if (is.infinite(x)) print('Infinity!')"
   ]
  },
  {
   "cell_type": "markdown",
   "metadata": {},
   "source": [
    "### __Extra__: ifelse()\n",
    "R has another piece of shorthand, the `ifelse` statement. This is simply the if ... else we have seen above but in one line:\n",
    "\n",
    "`ifelse(condition, statement if TRUE, statement if FALSE)`\n",
    "\n",
    "This is particularly useful for complex data processing (see mutate later on), where you can assign a new variable:\n",
    "\n",
    "`x <- ifelse(y > z, y, z)`"
   ]
  },
  {
   "cell_type": "code",
   "execution_count": 3,
   "metadata": {},
   "outputs": [
    {
     "data": {
      "text/html": [
       "18"
      ],
      "text/latex": [
       "18"
      ],
      "text/markdown": [
       "18"
      ],
      "text/plain": [
       "[1] 18"
      ]
     },
     "metadata": {},
     "output_type": "display_data"
    }
   ],
   "source": [
    "#y <- 10\n",
    "#z <- 18\n",
    "#x <- ifelse(y > z, y, z)\n",
    "#x"
   ]
  },
  {
   "cell_type": "markdown",
   "metadata": {},
   "source": [
    "### __Extra Quiz__:\n",
    "\n",
    "What are values of the following expressions and what would they be if the brackets were missing? Think about it before you try it :)\n",
    "\n",
    "* (5 + 3) ^ 3\n",
    "\n",
    "* 3/10 + 2/7+3\n",
    "\n",
    "* (44 %% 13) / (12 %/% 7)\n",
    "\n",
    "* sqrt(-1)\n",
    "\n",
    "* TRUE & FALSE\n",
    "\n",
    "* TRUE & FALSE | TRUE\n",
    "\n",
    "* if(x) print(x)"
   ]
  },
  {
   "cell_type": "code",
   "execution_count": 25,
   "metadata": {},
   "outputs": [
    {
     "data": {
      "text/html": [
       "512"
      ],
      "text/latex": [
       "512"
      ],
      "text/markdown": [
       "512"
      ],
      "text/plain": [
       "[1] 512"
      ]
     },
     "metadata": {},
     "output_type": "display_data"
    },
    {
     "data": {
      "text/html": [
       "3.58571428571429"
      ],
      "text/latex": [
       "3.58571428571429"
      ],
      "text/markdown": [
       "3.58571428571429"
      ],
      "text/plain": [
       "[1] 3.585714"
      ]
     },
     "metadata": {},
     "output_type": "display_data"
    },
    {
     "data": {
      "text/html": [
       "5"
      ],
      "text/latex": [
       "5"
      ],
      "text/markdown": [
       "5"
      ],
      "text/plain": [
       "[1] 5"
      ]
     },
     "metadata": {},
     "output_type": "display_data"
    },
    {
     "name": "stderr",
     "output_type": "stream",
     "text": [
      "Warning message in sqrt(x):\n",
      "\"NaNs produced\""
     ]
    },
    {
     "data": {
      "text/html": [
       "NaN"
      ],
      "text/latex": [
       "NaN"
      ],
      "text/markdown": [
       "NaN"
      ],
      "text/plain": [
       "[1] NaN"
      ]
     },
     "metadata": {},
     "output_type": "display_data"
    },
    {
     "data": {
      "text/html": [
       "0+1i"
      ],
      "text/latex": [
       "0+1i"
      ],
      "text/markdown": [
       "0+1i"
      ],
      "text/plain": [
       "[1] 0+1i"
      ]
     },
     "metadata": {},
     "output_type": "display_data"
    },
    {
     "data": {
      "text/html": [
       "FALSE"
      ],
      "text/latex": [
       "FALSE"
      ],
      "text/markdown": [
       "FALSE"
      ],
      "text/plain": [
       "[1] FALSE"
      ]
     },
     "metadata": {},
     "output_type": "display_data"
    },
    {
     "data": {
      "text/html": [
       "TRUE"
      ],
      "text/latex": [
       "TRUE"
      ],
      "text/markdown": [
       "TRUE"
      ],
      "text/plain": [
       "[1] TRUE"
      ]
     },
     "metadata": {},
     "output_type": "display_data"
    },
    {
     "name": "stdout",
     "output_type": "stream",
     "text": [
      "[1] -1\n"
     ]
    }
   ],
   "source": [
    "#x <- -1\n",
    "#(5 + 3) ^ 3\n",
    "#3/10 + 2/7+3\n",
    "#(44 %% 13) / (12 %/% 7)\n",
    "#sqrt(x)\n",
    "#sqrt(as.complex(x))\n",
    "#TRUE & FALSE\n",
    "#TRUE & FALSE | TRUE\n",
    "##rm(x)\n",
    "#if (x) print(x)"
   ]
  },
  {
   "cell_type": "markdown",
   "metadata": {},
   "source": [
    "### __Challenge__: How do you get an exclusive or in R (TRUE if x or y is TRUE but not if neither or both are TRUE)?"
   ]
  },
  {
   "cell_type": "code",
   "execution_count": 42,
   "metadata": {},
   "outputs": [
    {
     "data": {
      "text/html": [
       "TRUE"
      ],
      "text/latex": [
       "TRUE"
      ],
      "text/markdown": [
       "TRUE"
      ],
      "text/plain": [
       "[1] TRUE"
      ]
     },
     "metadata": {},
     "output_type": "display_data"
    }
   ],
   "source": [
    "#x <- TRUE\n",
    "#y <- FALSE\n",
    "#(x | y) & !(x & y)"
   ]
  },
  {
   "cell_type": "markdown",
   "metadata": {},
   "source": [
    "### __Challenge__: Use `ifelse` to avoid the warning message when you try to calculate the square root of minus 1?"
   ]
  },
  {
   "cell_type": "code",
   "execution_count": 5,
   "metadata": {},
   "outputs": [
    {
     "data": {
      "text/html": [
       "&lt;NA&gt;"
      ],
      "text/latex": [
       "<NA>"
      ],
      "text/markdown": [
       "&lt;NA&gt;"
      ],
      "text/plain": [
       "[1] NA"
      ]
     },
     "metadata": {},
     "output_type": "display_data"
    }
   ],
   "source": [
    "#x <- -1\n",
    "#sqrt(x)\n",
    "#sqrt(ifelse(x > 0, x, NA))"
   ]
  },
  {
   "cell_type": "markdown",
   "metadata": {},
   "source": [
    "### __Exercise__: Work through the single-guess program and understand what it is doing.\n",
    "<code>grepl</code> is a regular expression parser which will check if the string passed to it matches the specified pattern and then produces a logical (TRUE/FALSE) response. There is a cheatsheet on the [RStudio cheatsheets website](https://github.com/rstudio/cheatsheets/raw/master/regex.pdf). Don't worry about this at this stage as you may never need to use these (unless you want to)."
   ]
  },
  {
   "cell_type": "code",
   "execution_count": null,
   "metadata": {},
   "outputs": [],
   "source": [
    "## Get a random number, ask the user to guess it, reveal how they have done.\n",
    "#set.seed(Sys.time())    # Set a nearly random seed using the system time.\n",
    "\n",
    "#number <- round(runif(1) * 10, digits = 0)     # Get a uniform integer.\n",
    "\n",
    "#cat(\"Guess a number between 0 and 10.\\n\")\n",
    "#guess <- readline(prompt=\"Enter a number: \")\n",
    "\n",
    "## The next line is a Regular Expression. We'll get onto these later. All it\n",
    "## means is that n must contain 1 or more characters all of which are in the\n",
    "## range 0-9,and nothing else.\n",
    "#if(!grepl(\"^[0-9]+$\", n)) {\n",
    "#    cat(n, \"is not an integer.\\n\", sep=\" \")\n",
    "#} else if (guess == number) {\n",
    "#    cat(\"Da iawn!,\", number, \"is the number.\\n\", sep=\" \")\n",
    "#} else if (guess < number) {\n",
    "#    cat(\"That was a little low.\\n\")\n",
    "#} else if(guess > number) {\n",
    "#    cat(\"Too big!\\n\")\n",
    "#}\n",
    "#if (guess != number) {\n",
    "#    cat(\"It was, in fact,\", number, \".\")\n",
    "#}"
   ]
  },
  {
   "cell_type": "markdown",
   "metadata": {},
   "source": [
    "<div style='background-color:lightgray;'><h3><b><i>FAST TRACK</i></b>: Get comfortable with the syntax used with if ... else and ifelse().</h3>\n",
    "If you are still ahead, look into the `grepl` function and regular expressions.</div>"
   ]
  },
  {
   "cell_type": "markdown",
   "metadata": {},
   "source": [
    "<table style=\"text-align:center;\"><tr><td width=\"100\" height=\"20\" style=\"background-color:greenyellow\"></td><td width=\"100\" height=\"20\" style=\"background-color:hotpink\"></td></tr></table>"
   ]
  },
  {
   "cell_type": "markdown",
   "metadata": {},
   "source": [
    "### __Repetition - Control Loops__"
   ]
  },
  {
   "cell_type": "markdown",
   "metadata": {},
   "source": [
    "As well as the `if ... else` control structure, R has a number ways to repeat a section of code for example, to iterate through data (although R often has a better way to do this as we'll see later). There are three kinds of loops available for three different situations:\n",
    "\n",
    "* for loops --- which repeat a piece of code a specified number of times.\n",
    "* while loops --- which repeat code while a condition is met each time we start a loop.\n",
    "* repeat loops --- which repeat until we break out of it (we can check a condition in the middle or at the end of a loop, or at multiple points in a loop).\n",
    "\n",
    "<div style='background-color:red;color:white;padding-left:5px;'>When writing while and repeat loops, be careful as it is easy to accidently create an infinite loop if you fail to create the conditions for leaving. You should be able to terminate your R session to break out of infinite loops, but sometimes, the code executes so rapidly that R-Studio never responds and needs to be restarted - this is the moment you risk losing any unsaved work.</div>\n",
    "\n",
    "#### __for loops__\n",
    "A for loop defines a loop variable and the values it should take , for example:\n",
    "\n",
    "`for (var in 1:10)`\n",
    "\n",
    "In this case the following code section will be executed once for each value of `var` in the range 1 to 10. The `1:10` is short-hand for a sequence which can be defined using:\n",
    "\n",
    "`seq(from, to, step, length.out, along.with)`\n",
    "\n",
    "in this case `1:10` is the same as `seq(1, 10, 1)`.\n",
    "\n",
    "Documentation for <code>seq</code> can be found [here](https://stat.ethz.ch/R-manual/R-devel/library/base/html/seq.html)."
   ]
  },
  {
   "cell_type": "code",
   "execution_count": 254,
   "metadata": {},
   "outputs": [
    {
     "name": "stdout",
     "output_type": "stream",
     "text": [
      "1 => 5 \n",
      "3 => 5 \n",
      "5 => 5 \n",
      "7 => 4 \n",
      "9 => 1 \n"
     ]
    }
   ],
   "source": [
    "#for(loop in seq(1, 10, 2)) {\n",
    "#    die <- as.integer(runif(1) * 6) + 1\n",
    "#    cat(loop, '=>', die, '\\n')\n",
    "#}"
   ]
  },
  {
   "cell_type": "markdown",
   "metadata": {},
   "source": [
    "You can force the loop to start the next iteration using `next` and to leave the loop early using `break`."
   ]
  },
  {
   "cell_type": "code",
   "execution_count": 36,
   "metadata": {},
   "outputs": [
    {
     "name": "stdout",
     "output_type": "stream",
     "text": [
      "[1] 2\n",
      "[1] 4\n",
      "[1] \"Die greater than 2\"\n",
      "[1] \"But not a six\"\n",
      "[1] 1\n",
      "[1] 3\n",
      "[1] 4\n",
      "[1] \"Die greater than 2\"\n",
      "[1] \"But not a six\"\n",
      "[1] 3\n",
      "[1] 6\n",
      "[1] \"Die greater than 2\"\n"
     ]
    }
   ],
   "source": [
    "#for (loop in seq(1, 10, 1)){\n",
    "#    die <- as.integer(runif(1) * 6) + 1\n",
    "#    print(die)\n",
    "#    if (die <= 3) next\n",
    "#    print('Die greater than 2')\n",
    "#    if (die > 5) break\n",
    "#    print('But not a six')\n",
    "#}"
   ]
  },
  {
   "cell_type": "markdown",
   "metadata": {},
   "source": [
    "<div style='background-color:lightgray;'><h3><b>Challenge</b>: Nested `for` loops.</h3>\n",
    "Create a function that produces a times table from 1 to 10.\n",
    "</div>"
   ]
  },
  {
   "cell_type": "code",
   "execution_count": 12,
   "metadata": {},
   "outputs": [
    {
     "name": "stdout",
     "output_type": "stream",
     "text": [
      "\t 1\t 2\t 3\t 4\t 5\t 6\t 7\t 8\t 9\t 10\n",
      "\t 2\t 4\t 6\t 8\t 10\t 12\t 14\t 16\t 18\t 20\n",
      "\t 3\t 6\t 9\t 12\t 15\t 18\t 21\t 24\t 27\t 30\n",
      "\t 4\t 8\t 12\t 16\t 20\t 24\t 28\t 32\t 36\t 40\n",
      "\t 5\t 10\t 15\t 20\t 25\t 30\t 35\t 40\t 45\t 50\n",
      "\t 6\t 12\t 18\t 24\t 30\t 36\t 42\t 48\t 54\t 60\n",
      "\t 7\t 14\t 21\t 28\t 35\t 42\t 49\t 56\t 63\t 70\n",
      "\t 8\t 16\t 24\t 32\t 40\t 48\t 56\t 64\t 72\t 80\n",
      "\t 9\t 18\t 27\t 36\t 45\t 54\t 63\t 72\t 81\t 90\n",
      "\t 10\t 20\t 30\t 40\t 50\t 60\t 70\t 80\t 90\t 100\n"
     ]
    },
    {
     "data": {
      "text/html": [
       "<table>\n",
       "<caption>A matrix: 10 × 10 of type int</caption>\n",
       "<tbody>\n",
       "\t<tr><td> 1</td><td> 2</td><td> 3</td><td> 4</td><td> 5</td><td> 6</td><td> 7</td><td> 8</td><td> 9</td><td> 10</td></tr>\n",
       "\t<tr><td> 2</td><td> 4</td><td> 6</td><td> 8</td><td>10</td><td>12</td><td>14</td><td>16</td><td>18</td><td> 20</td></tr>\n",
       "\t<tr><td> 3</td><td> 6</td><td> 9</td><td>12</td><td>15</td><td>18</td><td>21</td><td>24</td><td>27</td><td> 30</td></tr>\n",
       "\t<tr><td> 4</td><td> 8</td><td>12</td><td>16</td><td>20</td><td>24</td><td>28</td><td>32</td><td>36</td><td> 40</td></tr>\n",
       "\t<tr><td> 5</td><td>10</td><td>15</td><td>20</td><td>25</td><td>30</td><td>35</td><td>40</td><td>45</td><td> 50</td></tr>\n",
       "\t<tr><td> 6</td><td>12</td><td>18</td><td>24</td><td>30</td><td>36</td><td>42</td><td>48</td><td>54</td><td> 60</td></tr>\n",
       "\t<tr><td> 7</td><td>14</td><td>21</td><td>28</td><td>35</td><td>42</td><td>49</td><td>56</td><td>63</td><td> 70</td></tr>\n",
       "\t<tr><td> 8</td><td>16</td><td>24</td><td>32</td><td>40</td><td>48</td><td>56</td><td>64</td><td>72</td><td> 80</td></tr>\n",
       "\t<tr><td> 9</td><td>18</td><td>27</td><td>36</td><td>45</td><td>54</td><td>63</td><td>72</td><td>81</td><td> 90</td></tr>\n",
       "\t<tr><td>10</td><td>20</td><td>30</td><td>40</td><td>50</td><td>60</td><td>70</td><td>80</td><td>90</td><td>100</td></tr>\n",
       "</tbody>\n",
       "</table>\n"
      ],
      "text/latex": [
       "A matrix: 10 × 10 of type int\n",
       "\\begin{tabular}{llllllllll}\n",
       "\t  1 &  2 &  3 &  4 &  5 &  6 &  7 &  8 &  9 &  10\\\\\n",
       "\t  2 &  4 &  6 &  8 & 10 & 12 & 14 & 16 & 18 &  20\\\\\n",
       "\t  3 &  6 &  9 & 12 & 15 & 18 & 21 & 24 & 27 &  30\\\\\n",
       "\t  4 &  8 & 12 & 16 & 20 & 24 & 28 & 32 & 36 &  40\\\\\n",
       "\t  5 & 10 & 15 & 20 & 25 & 30 & 35 & 40 & 45 &  50\\\\\n",
       "\t  6 & 12 & 18 & 24 & 30 & 36 & 42 & 48 & 54 &  60\\\\\n",
       "\t  7 & 14 & 21 & 28 & 35 & 42 & 49 & 56 & 63 &  70\\\\\n",
       "\t  8 & 16 & 24 & 32 & 40 & 48 & 56 & 64 & 72 &  80\\\\\n",
       "\t  9 & 18 & 27 & 36 & 45 & 54 & 63 & 72 & 81 &  90\\\\\n",
       "\t 10 & 20 & 30 & 40 & 50 & 60 & 70 & 80 & 90 & 100\\\\\n",
       "\\end{tabular}\n"
      ],
      "text/markdown": [
       "\n",
       "A matrix: 10 × 10 of type int\n",
       "\n",
       "|  1 |  2 |  3 |  4 |  5 |  6 |  7 |  8 |  9 |  10 |\n",
       "|  2 |  4 |  6 |  8 | 10 | 12 | 14 | 16 | 18 |  20 |\n",
       "|  3 |  6 |  9 | 12 | 15 | 18 | 21 | 24 | 27 |  30 |\n",
       "|  4 |  8 | 12 | 16 | 20 | 24 | 28 | 32 | 36 |  40 |\n",
       "|  5 | 10 | 15 | 20 | 25 | 30 | 35 | 40 | 45 |  50 |\n",
       "|  6 | 12 | 18 | 24 | 30 | 36 | 42 | 48 | 54 |  60 |\n",
       "|  7 | 14 | 21 | 28 | 35 | 42 | 49 | 56 | 63 |  70 |\n",
       "|  8 | 16 | 24 | 32 | 40 | 48 | 56 | 64 | 72 |  80 |\n",
       "|  9 | 18 | 27 | 36 | 45 | 54 | 63 | 72 | 81 |  90 |\n",
       "| 10 | 20 | 30 | 40 | 50 | 60 | 70 | 80 | 90 | 100 |\n",
       "\n"
      ],
      "text/plain": [
       "      [,1] [,2] [,3] [,4] [,5] [,6] [,7] [,8] [,9] [,10]\n",
       " [1,]  1    2    3    4    5    6    7    8    9    10  \n",
       " [2,]  2    4    6    8   10   12   14   16   18    20  \n",
       " [3,]  3    6    9   12   15   18   21   24   27    30  \n",
       " [4,]  4    8   12   16   20   24   28   32   36    40  \n",
       " [5,]  5   10   15   20   25   30   35   40   45    50  \n",
       " [6,]  6   12   18   24   30   36   42   48   54    60  \n",
       " [7,]  7   14   21   28   35   42   49   56   63    70  \n",
       " [8,]  8   16   24   32   40   48   56   64   72    80  \n",
       " [9,]  9   18   27   36   45   54   63   72   81    90  \n",
       "[10,] 10   20   30   40   50   60   70   80   90   100  "
      ]
     },
     "metadata": {},
     "output_type": "display_data"
    }
   ],
   "source": [
    "## 1. Displays a times table.\n",
    "## In a string \\ is the 'escape' caharacter and, in combination with the\n",
    "## next character, defines special non-printing characters.\n",
    "## \\t is a tab character. \\n is a new-line. \\\\ is the backslash character.\n",
    "#for (i in 1:10)\n",
    "#{\n",
    "#    for (j in 1:10)\n",
    "#    {\n",
    "#            cat('\\t', i * j)\n",
    "#    }\n",
    "#    cat('\\n')\n",
    "#}\n",
    "\n",
    "## 2. The following code sets up a matrix as used in the examples but a bit\n",
    "## more advanced than we are at the moment.\n",
    "#mymat = matrix(nrow=10, ncol=10)\n",
    "#for (i in 1:10)\n",
    "#{\n",
    "#  for (j in 1:10)\n",
    "#  {\n",
    "#    mymat[i, j] = i * j\n",
    "#  }\n",
    "#}\n",
    "#mymat"
   ]
  },
  {
   "cell_type": "markdown",
   "metadata": {},
   "source": [
    "<div style='background-color:lightgray;'><h3><b><i>FAST TRACK</i></b>: Algorithm Performance and O() Notation</h3>\n",
    "Just whilst we are here - how many times do we execute the loop:\n",
    "\n",
    "<code>for(i in 1:n) { ...some code... }</code>?\n",
    "\n",
    "It will be n times, so for a dataset with n entries, our program will take proportionally longer as n increases. This is often stated as being, 'O(n)'.\n",
    "\n",
    "What about:\n",
    "\n",
    "<code>for(i in 1:n) { for(j in 1:n) { ...some code... } }</code>?\n",
    "\n",
    "In this case each inner loop runs n times every time each outer loop runs, so we run proportionally to n x n or n<sup>2</sup>, which is written 'O(n<sup>2</sup>)'.\n",
    "\n",
    "So, if you have code that takes 10s to run for 100,000 cases, how long will it run for 1 million, in case (1), and (2) above? What about 10 million?\n",
    "\n",
    "Algorithms are often quoted as 'O(1/n)' or 'O(sqrt(n))' - you could plot these and see how well they compare.\n",
    "    \n",
    "To measure time, you can use the built-in function <i>Sys.time()</i>.\n",
    "</div>"
   ]
  },
  {
   "cell_type": "code",
   "execution_count": 39,
   "metadata": {},
   "outputs": [
    {
     "name": "stdout",
     "output_type": "stream",
     "text": [
      "100 1000 \n",
      "1000 1e+05 \n"
     ]
    }
   ],
   "source": [
    "#case1_1million <- 10 * 10\n",
    "#case1_10million <- 100 * 10\n",
    "#case2_1million <- 10 * 10^2\n",
    "#case2_10million <- 10 * 100^2\n",
    "#cat(case1_1million, case1_10million, '\\n')\n",
    "#cat(case2_1million, case2_10million, '\\n')"
   ]
  },
  {
   "cell_type": "markdown",
   "metadata": {},
   "source": [
    "Loops in R are relatively slow. This is the reason R has been designed as a vector processing language and we can simply do things with vectors such as add them and R understands and implements the addition itself more optimally. This is also why we'll come across about the `apply()` functions which allow us to apply our functions, for example, '`average()` to complex data structures resulting in faster code than if we used loops."
   ]
  },
  {
   "cell_type": "code",
   "execution_count": 45,
   "metadata": {},
   "outputs": [
    {
     "data": {
      "text/html": [
       "<table>\n",
       "<caption>A matrix: 12 × 12 of type dbl</caption>\n",
       "<tbody>\n",
       "\t<tr><td> 1</td><td> 2</td><td> 3</td><td> 4</td><td> 5</td><td> 6</td><td> 7</td><td> 8</td><td>  9</td><td> 10</td><td> 11</td><td> 12</td></tr>\n",
       "\t<tr><td> 2</td><td> 4</td><td> 6</td><td> 8</td><td>10</td><td>12</td><td>14</td><td>16</td><td> 18</td><td> 20</td><td> 22</td><td> 24</td></tr>\n",
       "\t<tr><td> 3</td><td> 6</td><td> 9</td><td>12</td><td>15</td><td>18</td><td>21</td><td>24</td><td> 27</td><td> 30</td><td> 33</td><td> 36</td></tr>\n",
       "\t<tr><td> 4</td><td> 8</td><td>12</td><td>16</td><td>20</td><td>24</td><td>28</td><td>32</td><td> 36</td><td> 40</td><td> 44</td><td> 48</td></tr>\n",
       "\t<tr><td> 5</td><td>10</td><td>15</td><td>20</td><td>25</td><td>30</td><td>35</td><td>40</td><td> 45</td><td> 50</td><td> 55</td><td> 60</td></tr>\n",
       "\t<tr><td> 6</td><td>12</td><td>18</td><td>24</td><td>30</td><td>36</td><td>42</td><td>48</td><td> 54</td><td> 60</td><td> 66</td><td> 72</td></tr>\n",
       "\t<tr><td> 7</td><td>14</td><td>21</td><td>28</td><td>35</td><td>42</td><td>49</td><td>56</td><td> 63</td><td> 70</td><td> 77</td><td> 84</td></tr>\n",
       "\t<tr><td> 8</td><td>16</td><td>24</td><td>32</td><td>40</td><td>48</td><td>56</td><td>64</td><td> 72</td><td> 80</td><td> 88</td><td> 96</td></tr>\n",
       "\t<tr><td> 9</td><td>18</td><td>27</td><td>36</td><td>45</td><td>54</td><td>63</td><td>72</td><td> 81</td><td> 90</td><td> 99</td><td>108</td></tr>\n",
       "\t<tr><td>10</td><td>20</td><td>30</td><td>40</td><td>50</td><td>60</td><td>70</td><td>80</td><td> 90</td><td>100</td><td>110</td><td>120</td></tr>\n",
       "\t<tr><td>11</td><td>22</td><td>33</td><td>44</td><td>55</td><td>66</td><td>77</td><td>88</td><td> 99</td><td>110</td><td>121</td><td>132</td></tr>\n",
       "\t<tr><td>12</td><td>24</td><td>36</td><td>48</td><td>60</td><td>72</td><td>84</td><td>96</td><td>108</td><td>120</td><td>132</td><td>144</td></tr>\n",
       "</tbody>\n",
       "</table>\n"
      ],
      "text/latex": [
       "A matrix: 12 × 12 of type dbl\n",
       "\\begin{tabular}{llllllllllll}\n",
       "\t  1 &  2 &  3 &  4 &  5 &  6 &  7 &  8 &   9 &  10 &  11 &  12\\\\\n",
       "\t  2 &  4 &  6 &  8 & 10 & 12 & 14 & 16 &  18 &  20 &  22 &  24\\\\\n",
       "\t  3 &  6 &  9 & 12 & 15 & 18 & 21 & 24 &  27 &  30 &  33 &  36\\\\\n",
       "\t  4 &  8 & 12 & 16 & 20 & 24 & 28 & 32 &  36 &  40 &  44 &  48\\\\\n",
       "\t  5 & 10 & 15 & 20 & 25 & 30 & 35 & 40 &  45 &  50 &  55 &  60\\\\\n",
       "\t  6 & 12 & 18 & 24 & 30 & 36 & 42 & 48 &  54 &  60 &  66 &  72\\\\\n",
       "\t  7 & 14 & 21 & 28 & 35 & 42 & 49 & 56 &  63 &  70 &  77 &  84\\\\\n",
       "\t  8 & 16 & 24 & 32 & 40 & 48 & 56 & 64 &  72 &  80 &  88 &  96\\\\\n",
       "\t  9 & 18 & 27 & 36 & 45 & 54 & 63 & 72 &  81 &  90 &  99 & 108\\\\\n",
       "\t 10 & 20 & 30 & 40 & 50 & 60 & 70 & 80 &  90 & 100 & 110 & 120\\\\\n",
       "\t 11 & 22 & 33 & 44 & 55 & 66 & 77 & 88 &  99 & 110 & 121 & 132\\\\\n",
       "\t 12 & 24 & 36 & 48 & 60 & 72 & 84 & 96 & 108 & 120 & 132 & 144\\\\\n",
       "\\end{tabular}\n"
      ],
      "text/markdown": [
       "\n",
       "A matrix: 12 × 12 of type dbl\n",
       "\n",
       "|  1 |  2 |  3 |  4 |  5 |  6 |  7 |  8 |   9 |  10 |  11 |  12 |\n",
       "|  2 |  4 |  6 |  8 | 10 | 12 | 14 | 16 |  18 |  20 |  22 |  24 |\n",
       "|  3 |  6 |  9 | 12 | 15 | 18 | 21 | 24 |  27 |  30 |  33 |  36 |\n",
       "|  4 |  8 | 12 | 16 | 20 | 24 | 28 | 32 |  36 |  40 |  44 |  48 |\n",
       "|  5 | 10 | 15 | 20 | 25 | 30 | 35 | 40 |  45 |  50 |  55 |  60 |\n",
       "|  6 | 12 | 18 | 24 | 30 | 36 | 42 | 48 |  54 |  60 |  66 |  72 |\n",
       "|  7 | 14 | 21 | 28 | 35 | 42 | 49 | 56 |  63 |  70 |  77 |  84 |\n",
       "|  8 | 16 | 24 | 32 | 40 | 48 | 56 | 64 |  72 |  80 |  88 |  96 |\n",
       "|  9 | 18 | 27 | 36 | 45 | 54 | 63 | 72 |  81 |  90 |  99 | 108 |\n",
       "| 10 | 20 | 30 | 40 | 50 | 60 | 70 | 80 |  90 | 100 | 110 | 120 |\n",
       "| 11 | 22 | 33 | 44 | 55 | 66 | 77 | 88 |  99 | 110 | 121 | 132 |\n",
       "| 12 | 24 | 36 | 48 | 60 | 72 | 84 | 96 | 108 | 120 | 132 | 144 |\n",
       "\n"
      ],
      "text/plain": [
       "      [,1] [,2] [,3] [,4] [,5] [,6] [,7] [,8] [,9] [,10] [,11] [,12]\n",
       " [1,]  1    2    3    4    5    6    7    8     9   10    11    12  \n",
       " [2,]  2    4    6    8   10   12   14   16    18   20    22    24  \n",
       " [3,]  3    6    9   12   15   18   21   24    27   30    33    36  \n",
       " [4,]  4    8   12   16   20   24   28   32    36   40    44    48  \n",
       " [5,]  5   10   15   20   25   30   35   40    45   50    55    60  \n",
       " [6,]  6   12   18   24   30   36   42   48    54   60    66    72  \n",
       " [7,]  7   14   21   28   35   42   49   56    63   70    77    84  \n",
       " [8,]  8   16   24   32   40   48   56   64    72   80    88    96  \n",
       " [9,]  9   18   27   36   45   54   63   72    81   90    99   108  \n",
       "[10,] 10   20   30   40   50   60   70   80    90  100   110   120  \n",
       "[11,] 11   22   33   44   55   66   77   88    99  110   121   132  \n",
       "[12,] 12   24   36   48   60   72   84   96   108  120   132   144  "
      ]
     },
     "metadata": {},
     "output_type": "display_data"
    }
   ],
   "source": [
    "## For example, we could use the power of R and a matrix outer multiplier:\n",
    "#outer(1:12, 1:12)"
   ]
  },
  {
   "cell_type": "markdown",
   "metadata": {},
   "source": [
    "<div style='background-color:lightgray;'><h3><b>Challenge</b>: Explore the functions `seq` and `rep`.</h3>\n",
    "The rep function produces one or more repeats of a sequence.\n",
    "</div>"
   ]
  },
  {
   "cell_type": "markdown",
   "metadata": {},
   "source": [
    "#### __While loops__\n",
    "\n",
    "While loops allow you to test a condition before you execute the loop and stop executing once the condition fails (i.e. == FALSE).\n",
    "\n",
    "`while(condition-expression) {\n",
    "    # execute some code\n",
    "}`\n",
    "\n",
    "In the example below, the loop will check at the start that score is less than 100 and execute if so. It will continue with the first statement after the loop as soon as this check shows score has reached or exceeded 100."
   ]
  },
  {
   "cell_type": "code",
   "execution_count": 15,
   "metadata": {},
   "outputs": [
    {
     "name": "stdout",
     "output_type": "stream",
     "text": [
      "Reached 100 in 26 throws."
     ]
    }
   ],
   "source": [
    "#score <- 0\n",
    "#number_of_throws <- 0\n",
    "#while(score < 100){\n",
    "#    die <- as.integer(runif(1) * 6 + 1)\n",
    "#    score <- score + die\n",
    "#    number_of_throws <- number_of_throws + 1\n",
    "#}\n",
    "#cat('Reached', score, 'in', number_of_throws, 'throws.')"
   ]
  },
  {
   "cell_type": "markdown",
   "metadata": {},
   "source": [
    "#### __Repeat loops__\n",
    "\n",
    "A repeat loop allows you to create a loop in which you don't need a condition (so it would go on forever) or where you wish to check at some point other than the start. It looks like:\n",
    "\n",
    "<code>repeat {\n",
    "    # execute some code\n",
    "    # if you want to exit the loop, you need to 'break'\n",
    "}</code>"
   ]
  },
  {
   "cell_type": "code",
   "execution_count": 17,
   "metadata": {},
   "outputs": [
    {
     "name": "stdout",
     "output_type": "stream",
     "text": [
      "[1] 1\n",
      "[1] 2\n",
      "[1] 3\n",
      "[1] 5\n",
      "[1] 8\n",
      "[1] 13\n",
      "[1] 21\n",
      "[1] 34\n",
      "[1] 55\n",
      "[1] 89\n"
     ]
    }
   ],
   "source": [
    "#last_integer <- 1\n",
    "#previous_integer <- 0\n",
    "#repeat{\n",
    "#    next_integer <- last_integer + previous_integer\n",
    "#    if (next_integer > 100) break\n",
    "#    print(next_integer)\n",
    "#    previous_integer <- last_integer\n",
    "#    last_integer <- next_integer\n",
    "#}"
   ]
  },
  {
   "cell_type": "markdown",
   "metadata": {},
   "source": [
    "<div style='background-color:lightgray;'><h3><b>Challenge</b>: Change the guessing game to use <i>loops</i>.</h3>\n",
    "    \n",
    "1. Implement the guessing game with a while loop - keep guessing until the user gets the answer right.\n",
    "    \n",
    "1. When that works, add a check to allow the user to enter something, for example 'q', to stop the game early.\n",
    "    \n",
    "1. Repeat this with repeat and for loops --- perhaps creating separate functions (see next section) for each and for the process of getting (and checking) a number from the user.\n",
    "</div>"
   ]
  },
  {
   "cell_type": "markdown",
   "metadata": {},
   "source": [
    "<div style='background-color:lightgray;'><h3><i>Answer for #1</i></h3>\n",
    "(Also includes #2).\n",
    "</div>"
   ]
  },
  {
   "cell_type": "code",
   "execution_count": null,
   "metadata": {},
   "outputs": [
    {
     "name": "stdout",
     "output_type": "stream",
     "text": [
      "Guess a number between 0 and 100.\n"
     ]
    }
   ],
   "source": [
    "#cat(\"Guess a number between 0 and 100.\\n\")\n",
    "#number <- round(runif(1) * 100, digits = 0)\n",
    "#guess <- -1\n",
    "#while(guess != number)\n",
    "#{ \n",
    "#    guess <- readline(prompt=\"Enter an integer: \")\n",
    "#    # cat(guess, '\\n')\n",
    "#    if(!grepl(\"^[0-9]+$\", guess)) {\n",
    "#        cat(guess, \"is not an integer.\\n\", sep=\" \")\n",
    "#        if (guess == 'q') {\n",
    "#            stop('Stopped as requested.')\n",
    "#        }\n",
    "#    } else {\n",
    "#        # cat(guess, number, '\\n')\n",
    "#        if (guess == number) {\n",
    "#            cat(\"Da iawn!\", number, \"is the number\\n\", sep=\" \")\n",
    "#        } else if (guess < number) {\n",
    "#            cat(\"That was a little low.\\n\")\n",
    "#        } else if(guess > number) {\n",
    "#            cat(\"Too big!\\n\")\n",
    "#        }\n",
    "#    }\n",
    "#}"
   ]
  },
  {
   "cell_type": "markdown",
   "metadata": {},
   "source": [
    "<div style='background-color:lightgray;'><h3><i>Answers for #3</i></h3>\n",
    "</div>"
   ]
  },
  {
   "cell_type": "code",
   "execution_count": 18,
   "metadata": {},
   "outputs": [
    {
     "name": "stdout",
     "output_type": "stream",
     "text": [
      "Guess a number between 0 and 100.\n"
     ]
    },
    {
     "ename": "ERROR",
     "evalue": "Error in get_number(): could not find function \"get_number\"\n",
     "output_type": "error",
     "traceback": [
      "Error in get_number(): could not find function \"get_number\"\nTraceback:\n"
     ]
    }
   ],
   "source": [
    "## Using while:\n",
    "#cat(\"Guess a number between 0 and 100.\\n\")\n",
    "#guess <- -1\n",
    "#guessed <- FALSE\n",
    "#while(!guessed)\n",
    "#{ \n",
    "#    guess <- get_number()\n",
    "#    guessed <- check_guess(guess, number)\n",
    "#    if (!guessed) {\n",
    "#        number <- drift_number(number)\n",
    "#    }\n",
    "#}\n",
    "\n",
    "## Using repeat:\n",
    "#cat(\"Guess a number between 0 and 100.\\n\")\n",
    "#repeat\n",
    "#{ \n",
    "#    guess <- get_number()\n",
    "#    guessed <- check_guess(guess, number)\n",
    "#    if (!guessed) {\n",
    "#        number <- drift_number(number)\n",
    "#    }\n",
    "#}\n",
    "\n",
    "## Using for:\n",
    "#cat(\"Guess a number between 0 and 100.\\n\")\n",
    "#for(i in 1:10)\n",
    "#{ \n",
    "#    guess <- get_number()\n",
    "#    guessed <- check_guess(guess, number)\n",
    "#    if (!guessed) {\n",
    "#        number <- drift_number(number)\n",
    "#    }\n",
    "#}"
   ]
  },
  {
   "cell_type": "markdown",
   "metadata": {},
   "source": [
    "<table width='100%'><tr>\n",
    "    <td style='background-color:red; text-align:center; color: white;'><!--Foundation<!--hr size='5' style='border-color:red; background-color:red;'--></td>\n",
    "    <td style='background-color:yellow; text-align:center;'><!--Level 1<!--hr size='5' style='border-color:yellow; background-color:yellow;'--></td>\n",
    "    <td style='background-color:orange; text-align:center;'><!--Level 2<!--hr size='5' style='border-color:orange; background-color:orange;'--></td>\n",
    "    <td style='background-color:green; text-align:center; color: white;'><!--Level 3<!--hr size='5' style='border-color:orange; background-color:orange;'--></td>\n",
    "    <td style='background-color:blue; text-align:center; color: white;'><!--Level 4<!--hr size='5' style='border-color:orange; background-color:orange;'--></td>\n",
    "    <td style='background-color:purple; text-align:center; color: white;'><!--Level 5<!--hr size='5' style='border-color:orange; background-color:orange;'--></td>\n",
    "    <td style='background-color:brown; text-align:center; color: white;'><!--Level 6<!--hr size='5' style='border-color:orange; background-color:orange;'--></td>\n",
    "    <td style='background-color:black; text-align:center; color: white;'><!--Level 7<!--hr size='5' style='border-color:orange; background-color:orange;'--></td>\n",
    "</tr></table>"
   ]
  }
 ],
 "metadata": {
  "kernelspec": {
   "display_name": "R",
   "language": "R",
   "name": "ir"
  },
  "language_info": {
   "codemirror_mode": "r",
   "file_extension": ".r",
   "mimetype": "text/x-r-source",
   "name": "R",
   "pygments_lexer": "r",
   "version": "4.0.2"
  }
 },
 "nbformat": 4,
 "nbformat_minor": 4
}
