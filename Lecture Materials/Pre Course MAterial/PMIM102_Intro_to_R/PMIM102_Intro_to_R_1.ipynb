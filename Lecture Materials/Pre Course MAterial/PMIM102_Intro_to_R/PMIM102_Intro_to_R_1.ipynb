{
 "cells": [
  {
   "cell_type": "markdown",
   "metadata": {},
   "source": [
    "<table width='100%'><tr>\n",
    "    <td style='background-color:red; text-align:center; color: white;'><!--Foundation<!--hr size='5' style='border-color:red; background-color:red;'--></td>\n",
    "    <td style='background-color:yellow; text-align:center;'><!--Level 1<!--hr size='5' style='border-color:yellow; background-color:yellow;'--></td>\n",
    "    <td style='background-color:orange; text-align:center;'><!--Level 2<!--hr size='5' style='border-color:orange; background-color:orange;'--></td>\n",
    "    <td style='background-color:green; text-align:center; color: white;'><!--Level 3<!--hr size='5' style='border-color:orange; background-color:orange;'--></td>\n",
    "    <td style='background-color:blue; text-align:center; color: white;'><!--Level 4<!--hr size='5' style='border-color:orange; background-color:orange;'--></td>\n",
    "    <td style='background-color:purple; text-align:center; color: white;'><!--Level 5<!--hr size='5' style='border-color:orange; background-color:orange;'--></td>\n",
    "    <td style='background-color:brown; text-align:center; color: white;'><!--Level 6<!--hr size='5' style='border-color:orange; background-color:orange;'--></td>\n",
    "    <td style='background-color:black; text-align:center; color: white;'><!--Level 7<!--hr size='5' style='border-color:orange; background-color:orange;'--></td>\n",
    "</tr></table>"
   ]
  },
  {
   "cell_type": "markdown",
   "metadata": {},
   "source": [
    "<table style='border-left:10px solid yellow;'><tr>\n",
    "    <td style='padding-left:20px;'>\n",
    "        <h2><i>Swansea University Medical School</i><br/><b>MSc Health Data Science</b></h2>\n",
    "        <h3>PMIM-102 Introduction to Scientific Computing in Healthcare</h3>\n",
    "        <h1><b>Introduction to Programming in R</b></h1>\n",
    "        <h2><b>1. Programming Fundamentals</b></h2>\n",
    "        <h2><i>Part 1: Variables, operators and expressions.</i></h2>\n",
    "        <h3><i>September 2020</i></h3>\n",
    "        <h3><b>To-do</b></h3>\n",
    "        <ul>\n",
    "            <li>Fix bug in plotting with factors.</li>\n",
    "            <li>A formula challenge?</li>\n",
    "        </ul>\n",
    "    </td>\n",
    "    <td><img height='300' width='500' src='images/cover.jpg'/></td>\n",
    "</tr></table>"
   ]
  },
  {
   "cell_type": "markdown",
   "metadata": {},
   "source": [
    "## __Aim__: Learn how to make the computer do what we want and get information from the data\n",
    "\n",
    "The aim of this session is to introduce the basic principles of programming using <code>R</code>.\n",
    "\n",
    "### __A map of where we're going__\n",
    "\n",
    "1. <div style=\"background-color:yellow;\"><b>Simple Things</b> - simple data (<b>variables</b>) and how to do things to them (<b>operators</b>) and calculate things (<b>expressions</b>). Also when and where variables are and are not valid.</div>\n",
    "\n",
    "1. __What computers do best 1: Control__ - how to make decisions about whether to execute code and/or which code to execute; how to repeatedly execute code.\n",
    "\n",
    "1. __What computers do best 2: What they have been told. Again and agin ...__ - combining lots of simple operations into more complex functions - being able to perform, simple, repetitive or complex operations on the variables with just one command. Introducing some basic descriptive statistical functions.\n",
    "\n",
    "1. __What R does well: complex data and operations on all the bits at the same time__ - pairs, tuples, vectors, lists, matrices, arrays, tables, factors.\n",
    "\n",
    "1. __The Data Frame__ - along with vectors, data frames are the data structure most frequently used in health data science.\n",
    "    * __Extra: R Specifics__ - formulae."
   ]
  },
  {
   "cell_type": "markdown",
   "metadata": {},
   "source": [
    "## __Navigation__\n",
    "\n",
    "_How to approach this section of the course depending on your experience of R_\n",
    "\n",
    "Although the code and exercises presented in this notebook will run here, it would be better to transfer the code to R-Studio and run and edit it in that environment as that will be the enviornment we use for the course.\n",
    "\n",
    "__If you have programming experience in R:__\n",
    "\n",
    "you may want to skim what we are doing in each section: you may be able to skip ahead to the ___challenges___ and ___FAST TRACK___ and attempt those exercises. If you complete those exercises before the rest of use have reached that point, ask yourself 'what-if' questions and play with the code or the look at something you have never used before or help others in the class.\n",
    "\n",
    "__If you have some programming experience in another programming language:__\n",
    "\n",
    "you can work through the Jupyter Notebook at your own speed but bear in mind that R is unique in many respects, so don't just skip things as it may come back to bite you :) When you get to the ___challenges___ and ___FAST TRACK___ please attempt those exercises and then experiment with R. \n",
    "\n",
    "In all cases, the internet is a superb resource if you have a problem - somebody almost certainly has had it before (but remember that not all the answers are from experts)."
   ]
  },
  {
   "cell_type": "markdown",
   "metadata": {},
   "source": [
    "## __Getting started__\n",
    "\n",
    "Make sure that you can run R - either in this notebook using Jupyter Notebooks or in R-Studio as described in the earlier session. Run the following code by selecting it and clicking the run icon above (triangle) or pressing CTRL-ENTER. Then edit the code and run it again."
   ]
  },
  {
   "cell_type": "code",
   "execution_count": 4,
   "metadata": {},
   "outputs": [
    {
     "name": "stdout",
     "output_type": "stream",
     "text": [
      "[1] \"Hello, Pete!\"\n"
     ]
    }
   ],
   "source": [
    "#print('Hello, Pete!')"
   ]
  },
  {
   "cell_type": "markdown",
   "metadata": {},
   "source": [
    "<table style=\"text-align:center;\"><tr><td width=\"100\" height=\"20\" style=\"background-color:greenyellow\"></td><td width=\"100\" height=\"20\" style=\"background-color:hotpink\"></td></tr></table>"
   ]
  },
  {
   "cell_type": "markdown",
   "metadata": {},
   "source": [
    "## __Operators and Variables__\n",
    "\n",
    "A variable is a thing stored in the computer's memory (in R, a variable is, in fact, always an 'object'). It might be a 'height', 'age' or 'the coding for a disease'. A variable is referred to by a name (there are some rules about names - you cannot use a reserved word*, the name must start with a letter, no spaces, no operator characters (see the challenge, later), case-sensitive).\n",
    "\n",
    "An operator is a simple command to the computer to do something to a variable. For example, the <code>+</code> operator, adds one variable to another.\n",
    "\n",
    "We use the assignment operator to set a variable to a value. In R we use <code>&lt;-</code> (although you can use <code>=</code> if you wish but it is not recommended). The following code sets the variable named <code>any_number</code> to the value 1. You can change any_number to any other value ... the second line displays the value of the variable.\n",
    "\n",
    "\\* A reserved word is a word that R uses as part of its language, for example, `in` or `for`."
   ]
  },
  {
   "cell_type": "code",
   "execution_count": 7,
   "metadata": {},
   "outputs": [
    {
     "data": {
      "text/html": [
       "1"
      ],
      "text/latex": [
       "1"
      ],
      "text/markdown": [
       "1"
      ],
      "text/plain": [
       "[1] 1"
      ]
     },
     "metadata": {},
     "output_type": "display_data"
    }
   ],
   "source": [
    "#any_number <- 1\n",
    "#any_number"
   ]
  },
  {
   "cell_type": "markdown",
   "metadata": {},
   "source": [
    "As you can see, if you just type the variable name at the R prompt, it will display the value of the variable (the same as if you typed <code>print(any_name)</code>). If you are using R-Studio, the value of the variable will be displayed in the Environment window (top right)."
   ]
  },
  {
   "cell_type": "markdown",
   "metadata": {},
   "source": [
    "### __Data: Simple Variables__\n",
    "\n",
    "In many programming languages, as well as the name, you have to specify a type for a variable, for example:\n",
    "\n",
    "* an integer (e.g. 65535)\n",
    "* a floating-point number (e.g. 2.71828)\n",
    "* a string (e.g. \"mythology\"). \n",
    "\n",
    "These languages are _strongly-typed_ and, if you try to set a string variable to an integer value, it will generate an error. Some languages allow you to assign whatever you like to a variable and change its type as you do so. They are described as _dynamically-typed_ and R is one of these."
   ]
  },
  {
   "cell_type": "code",
   "execution_count": 32,
   "metadata": {},
   "outputs": [
    {
     "data": {
      "text/html": [
       "3.1415926"
      ],
      "text/latex": [
       "3.1415926"
      ],
      "text/markdown": [
       "3.1415926"
      ],
      "text/plain": [
       "[1] 3.141593"
      ]
     },
     "metadata": {},
     "output_type": "display_data"
    },
    {
     "data": {
      "text/html": [
       "'pi'"
      ],
      "text/latex": [
       "'pi'"
      ],
      "text/markdown": [
       "'pi'"
      ],
      "text/plain": [
       "[1] \"pi\""
      ]
     },
     "metadata": {},
     "output_type": "display_data"
    }
   ],
   "source": [
    "#any_number <- 3.1415926\n",
    "#any_number\n",
    "#any_number <- \"pi\"\n",
    "#any_number"
   ]
  },
  {
   "cell_type": "markdown",
   "metadata": {},
   "source": [
    "This makes it easy to create and assign variables, but the down-side is that you risk making an unintentional error, for example, setting a string \"pi\" rather than the value <code>pi</code>.\n",
    "\n",
    "And R can also surprise you as _it_ sometimes decides that the type it is assigns to a variable is not what you intended - so if something doesn't behave as you expect check this. You can do this with the `class()` function."
   ]
  },
  {
   "cell_type": "code",
   "execution_count": 33,
   "metadata": {},
   "outputs": [
    {
     "data": {
      "text/html": [
       "'character'"
      ],
      "text/latex": [
       "'character'"
      ],
      "text/markdown": [
       "'character'"
      ],
      "text/plain": [
       "[1] \"character\""
      ]
     },
     "metadata": {},
     "output_type": "display_data"
    }
   ],
   "source": [
    "class(any_number)"
   ]
  },
  {
   "cell_type": "markdown",
   "metadata": {},
   "source": [
    "### Variable Names\n",
    "It is a good idea to use variable names that describe what the variable contains - a noun. When it comes to functions use a verb or verb-phrase; for logicals, perhaps use an is prefix e.g. is_dead. Don't skimp on the names, you only need to use single character names when in loops or when it is obvious what it is but also don't make them too long because that can make each line of code huge."
   ]
  },
  {
   "cell_type": "code",
   "execution_count": null,
   "metadata": {},
   "outputs": [],
   "source": [
    "#r <- 30 # The radius\n",
    "#t <- 180 # The temperature\n",
    "#u <- 45 # The velocity\n",
    "#i <- r + t * u ^2 # Will you still undertsand this a year later if we haven't got the comments above?\n",
    "\n",
    "## The following are very informative ...\n",
    "#radius_of_left_wheel <- 30\n",
    "#temperature_of_the_left_wheel_brake_pad <- 180\n",
    "#velocity_of_the_vehicle <- 45\n",
    "## ... but this is terrible to have to read.\n",
    "#incomprehensible_calculated_value <- radius_of_left_wheel + temperature_of_the_left_wheel_brake_pad * velocity_of_the_vehicle ^ 2"
   ]
  },
  {
   "cell_type": "markdown",
   "metadata": {},
   "source": [
    "Remember that R is case-sensitive, so use capital letters with caution.\n",
    "\n",
    "Best of all be consistent, decide on a style and stick with it.\n",
    "\n",
    "You can use:\n",
    "\n",
    "* camelCase\n",
    "* CapsCamelCase\n",
    "* snake_case\n",
    "* lots.of.dots\n",
    "* SomeKind_Of.Convention\n",
    "\n",
    "I'd avoid the Hungarian notation of trying to indicate the data type with the name e.g. iHeight, chName as this cannot be enforced and may become confusing especially in R."
   ]
  },
  {
   "cell_type": "markdown",
   "metadata": {},
   "source": [
    "### Basic Data Types\n",
    "There are six basic data types:\n",
    "\n",
    "* integer (specify an integer, rather than a numeric by using the 'L' suffix, e.g. v <- 123L)\n",
    "* double or numeric (v <- 123.456)\n",
    "* complex (v <- 123 + 456i)\n",
    "* logical (v <- TRUE)\n",
    "* character (v <- \"Hello\")\n",
    "* raw (all data are stored as byte values)\n",
    "\n",
    "Check this out by assigning values to variables and checing their `class`."
   ]
  },
  {
   "cell_type": "code",
   "execution_count": 300,
   "metadata": {},
   "outputs": [
    {
     "data": {
      "text/html": [
       "'integer'"
      ],
      "text/latex": [
       "'integer'"
      ],
      "text/markdown": [
       "'integer'"
      ],
      "text/plain": [
       "[1] \"integer\""
      ]
     },
     "metadata": {},
     "output_type": "display_data"
    },
    {
     "data": {
      "text/html": [
       "'numeric'"
      ],
      "text/latex": [
       "'numeric'"
      ],
      "text/markdown": [
       "'numeric'"
      ],
      "text/plain": [
       "[1] \"numeric\""
      ]
     },
     "metadata": {},
     "output_type": "display_data"
    },
    {
     "data": {
      "text/html": [
       "'complex'"
      ],
      "text/latex": [
       "'complex'"
      ],
      "text/markdown": [
       "'complex'"
      ],
      "text/plain": [
       "[1] \"complex\""
      ]
     },
     "metadata": {},
     "output_type": "display_data"
    },
    {
     "data": {
      "text/html": [
       "'logical'"
      ],
      "text/latex": [
       "'logical'"
      ],
      "text/markdown": [
       "'logical'"
      ],
      "text/plain": [
       "[1] \"logical\""
      ]
     },
     "metadata": {},
     "output_type": "display_data"
    },
    {
     "data": {
      "text/html": [
       "'character'"
      ],
      "text/latex": [
       "'character'"
      ],
      "text/markdown": [
       "'character'"
      ],
      "text/plain": [
       "[1] \"character\""
      ]
     },
     "metadata": {},
     "output_type": "display_data"
    },
    {
     "data": {
      "text/html": [
       "'raw'"
      ],
      "text/latex": [
       "'raw'"
      ],
      "text/markdown": [
       "'raw'"
      ],
      "text/plain": [
       "[1] \"raw\""
      ]
     },
     "metadata": {},
     "output_type": "display_data"
    }
   ],
   "source": [
    "#x <- 100L\n",
    "#class(x)\n",
    "#x <- 100.0\n",
    "#class(x)\n",
    "#x <- 100 + 200i\n",
    "#class(x)\n",
    "#x <- TRUE\n",
    "#class(x)\n",
    "#x <- \"Hello\"\n",
    "#class(x)\n",
    "#x <- raw(1)\n",
    "#class(x)"
   ]
  },
  {
   "cell_type": "markdown",
   "metadata": {},
   "source": [
    "### Not Data\n",
    "\n",
    "And then, there are several situations in which data or numbers are missing or indescribable:"
   ]
  },
  {
   "cell_type": "code",
   "execution_count": 309,
   "metadata": {},
   "outputs": [
    {
     "name": "stdout",
     "output_type": "stream",
     "text": [
      "[1] \"Missing data=NA; is.na=TRUE\"\n",
      "[1] \"Not a number=NaN; is.nan=TRUE\"\n",
      "[1] \"Infinity=Inf; is.infinite=TRUE\"\n",
      "[1] \"Minus infinity=-Inf; is.finite=FALSE\"\n"
     ]
    }
   ],
   "source": [
    "#missing_data <- NA\n",
    "#not_a_number <- 0/0\n",
    "#infinity <- 1/0\n",
    "#minus_infinity <- -1/0\n",
    "#print(paste('Missing data=', missing_data, \"; is.na=\", is.na(missing_data), sep=\"\"))\n",
    "#print(paste('Not a number=', not_a_number, \"; is.nan=\", is.nan(not_a_number), sep=\"\"))\n",
    "#print(paste('Infinity=', infinity, \"; is.infinite=\", is.infinite(infinity), sep=\"\"))\n",
    "#print(paste('Minus infinity=', minus_infinity, \"; is.finite=\", is.finite(minus_infinity), sep=\"\"))"
   ]
  },
  {
   "cell_type": "markdown",
   "metadata": {},
   "source": [
    "__NOTE__: R can do this because the numbers are actually objects which contain the value of the variable and additional attributes that indicate that the variable is infinity or not a number."
   ]
  },
  {
   "cell_type": "markdown",
   "metadata": {},
   "source": [
    "### _Cautions_\n",
    "\n",
    "There are a few problems to watch out for with the _dynamic typing_ used in R:\n",
    "\n",
    "* You can change a variable value to something that makes no sense\n",
    "* You can change a value that is intended to be constant"
   ]
  },
  {
   "cell_type": "code",
   "execution_count": 11,
   "metadata": {},
   "outputs": [
    {
     "ename": "ERROR",
     "evalue": "Error in 1 + \"two\": non-numeric argument to binary operator\n",
     "output_type": "error",
     "traceback": [
      "Error in 1 + \"two\": non-numeric argument to binary operator\nTraceback:\n"
     ]
    }
   ],
   "source": [
    "#any_number <- 1 + 'two'"
   ]
  },
  {
   "cell_type": "markdown",
   "metadata": {},
   "source": [
    "The above code should have produced an _error message_. When these occur, they need to be considered carefully and, if you're lucky, will point you to the problem in your code. Sometimes they are a little obscure. If you aren't able to decipher the message, you can try cutting and pasting into Google and see what other perople have done. You may need to select only those parts of the message that don't contain information specific to your code (like '1 + \"two\"' which is unlikely to produce any Google results, whereas 'non-numeric argument to binary operator' will)."
   ]
  },
  {
   "cell_type": "code",
   "execution_count": 8,
   "metadata": {},
   "outputs": [
    {
     "data": {
      "text/html": [
       "3.14159265358979"
      ],
      "text/latex": [
       "3.14159265358979"
      ],
      "text/markdown": [
       "3.14159265358979"
      ],
      "text/plain": [
       "[1] 3.141593"
      ]
     },
     "metadata": {},
     "output_type": "display_data"
    },
    {
     "data": {
      "text/html": [
       "0"
      ],
      "text/latex": [
       "0"
      ],
      "text/markdown": [
       "0"
      ],
      "text/plain": [
       "[1] 0"
      ]
     },
     "metadata": {},
     "output_type": "display_data"
    }
   ],
   "source": [
    "#pi\n",
    "#pi <- 0\n",
    "#pi"
   ]
  },
  {
   "cell_type": "markdown",
   "metadata": {},
   "source": [
    "__NOTE (_can be skipped if this makes no sense_):__ In R, pi is a global variable (see scope below) which has been set to 3.1415926... Running <code>pi &lt;-</code> will result in a new global variable (visible in the environment in R-Studio) which obscures the original value. To recover the original value, just remove the new variable, pi, using:"
   ]
  },
  {
   "cell_type": "code",
   "execution_count": 313,
   "metadata": {},
   "outputs": [
    {
     "data": {
      "text/html": [
       "3.14159265358979"
      ],
      "text/latex": [
       "3.14159265358979"
      ],
      "text/markdown": [
       "3.14159265358979"
      ],
      "text/plain": [
       "[1] 3.141593"
      ]
     },
     "metadata": {},
     "output_type": "display_data"
    }
   ],
   "source": [
    "#rm(pi)\n",
    "#pi"
   ]
  },
  {
   "cell_type": "markdown",
   "metadata": {},
   "source": [
    "### __Doing Simple Things to Data: Operators__\n",
    "\n",
    "You can perform some simple operations rather like you would write them or as using a calculator:"
   ]
  },
  {
   "cell_type": "code",
   "execution_count": 301,
   "metadata": {},
   "outputs": [
    {
     "data": {
      "text/html": [
       "5"
      ],
      "text/latex": [
       "5"
      ],
      "text/markdown": [
       "5"
      ],
      "text/plain": [
       "[1] 5"
      ]
     },
     "metadata": {},
     "output_type": "display_data"
    }
   ],
   "source": [
    "#answer <- 1 + 4\n",
    "#answer"
   ]
  },
  {
   "cell_type": "markdown",
   "metadata": {},
   "source": [
    "Which is why you can't use these symbols in names. If you could it would be impossible for R to to work out whether x+y means 'add the value of x to the value of y' or 'the value of the variable x+y'.\n",
    "\n",
    "There are two kinds of operators in R, arithmetic and logical. We'll look ar logical operators when we get to control commands.\n",
    "\n",
    "### _Arithmetic Operators_\n",
    "\n",
    "There are a number of arithmetic operators in R:\n",
    "\n",
    "* \\+ --- addition\n",
    "* \\- --- subtraction\n",
    "* \\* --- multiplication\n",
    "* / --- division\n",
    "* ^, ** --- exponentiation\n",
    "* %% --- modulus (x mod y)\n",
    "* %/% --- integer division\n",
    "\n",
    "### _Assignment Operators_\n",
    "\n",
    "And a few more assignment operators:\n",
    "\n",
    "* <- --- Left assignment\n",
    "* <<- --- Left assignment to the parent level\n",
    "* = --- Left assignment, parameter setting in a function call\n",
    "* -> --- Right assignment\n",
    "* ->> --- Right assignment to the parent level\n",
    "\n",
    "The operators <- and = can be used pretty much interchangeably but see below for use in function calls.\n",
    "\n",
    "The right assignment operators are an offence to nature and rarely used :)"
   ]
  },
  {
   "cell_type": "code",
   "execution_count": 9,
   "metadata": {},
   "outputs": [
    {
     "data": {
      "text/html": [
       "2"
      ],
      "text/latex": [
       "2"
      ],
      "text/markdown": [
       "2"
      ],
      "text/plain": [
       "[1] 2"
      ]
     },
     "metadata": {},
     "output_type": "display_data"
    },
    {
     "data": {
      "text/html": [
       "2"
      ],
      "text/latex": [
       "2"
      ],
      "text/markdown": [
       "2"
      ],
      "text/plain": [
       "[1] 2"
      ]
     },
     "metadata": {},
     "output_type": "display_data"
    },
    {
     "data": {
      "text/html": [
       "36"
      ],
      "text/latex": [
       "36"
      ],
      "text/markdown": [
       "36"
      ],
      "text/plain": [
       "[1] 36"
      ]
     },
     "metadata": {},
     "output_type": "display_data"
    }
   ],
   "source": [
    "#66 %/% 32\n",
    "#66 %% 32\n",
    "#6 ** 2"
   ]
  },
  {
   "cell_type": "markdown",
   "metadata": {},
   "source": [
    "### __Documenting what you (meant the code to) do: Comments__\n",
    "\n",
    "Comments are pieces of text included in a program so that people can better understand how the program works. The computer ignores comments so you can type anything you like. In R, a comment is indicated by the hash character `#`. After a hash, everything on a line is ignored by R. This can be useful if you are trying to find a fault in a program.\n",
    "\n",
    "It is good practice to comment your code well using the following rules of thumb:\n",
    "\n",
    "* Include a header on a script file describing what the file contains and how it relates to other files.\n",
    "* It is a good idea to keep a note of date/time and author in this header so that we can ascertain whether it is a current version and who to ask about it.\n",
    "* Document functions so that we know what they do, what parameters they take and what vallues they return.\n",
    "* Explain __why__ you are doing something, not _how_ since the code explains that (although you should explain anything obscure or side-effects).\n",
    "* Use comments to plan the steps of a function while you are writing it, but remove them as you implement the steps."
   ]
  },
  {
   "cell_type": "markdown",
   "metadata": {},
   "source": [
    "### __Combining Operators to Do More Complex Things: Expressions and Statements__\n",
    "\n",
    "#### _Expressions_\n",
    "\n",
    "An expression is any combination of variable and operators (and when we get to them, functions) that result in a value. For example:\n",
    "\n",
    "* 1\n",
    "* 1 + 2 * 3 / 12 - 7\n",
    "\n",
    "It is more likely to be a calculation involving a series of variables with the result of the calculation (the value of the expression) assigned to another variable or used to control program flow (see Part 2).\n",
    "\n",
    "* (weight_g / 1000) / ((height_cm / 100) ^ 2)\n",
    "\n",
    "#### _Operator Precedence_\n",
    "\n",
    "What happens in the second of those examples?"
   ]
  },
  {
   "cell_type": "code",
   "execution_count": 305,
   "metadata": {},
   "outputs": [
    {
     "data": {
      "text/html": [
       "-5.5"
      ],
      "text/latex": [
       "-5.5"
      ],
      "text/markdown": [
       "-5.5"
      ],
      "text/plain": [
       "[1] -5.5"
      ]
     },
     "metadata": {},
     "output_type": "display_data"
    }
   ],
   "source": [
    "#1 + 2 * 3 / 12 - 7"
   ]
  },
  {
   "cell_type": "markdown",
   "metadata": {},
   "source": [
    "[Operator precedence](https://www.datamentor.io/r-programming/precedence-associativity/) is a convention where R will process certain operators before others. In the case * and / are executed first then + / -. A unary minus (e.g. -5) will be applied before * or / but after ^). Whilst you can write code that utilises these rules, if it is ever modified, the precedence could be altered unintentionally. For safety and, arguably, better readability, always use brackets to make your intention clear."
   ]
  },
  {
   "cell_type": "code",
   "execution_count": 306,
   "metadata": {},
   "outputs": [
    {
     "data": {
      "text/html": [
       "1.8"
      ],
      "text/latex": [
       "1.8"
      ],
      "text/markdown": [
       "1.8"
      ],
      "text/plain": [
       "[1] 1.8"
      ]
     },
     "metadata": {},
     "output_type": "display_data"
    }
   ],
   "source": [
    "#(1 + 2) * 3 / (12 - 7)"
   ]
  },
  {
   "cell_type": "markdown",
   "metadata": {},
   "source": [
    "#### _Statements_\n",
    "\n",
    "A statement is a complete line of code which may include an assignment and an expression or a control structure (see next section). For example an assignment statement:\n",
    "\n",
    "<code>x &lt;- (1 + 2) * 3 / (12 - 7)</code>\n",
    "\n",
    "consists of a variable name (x), the assignment operator (<-) and the expression which generates the value to be assigned to (or stored in) the variable."
   ]
  },
  {
   "cell_type": "markdown",
   "metadata": {},
   "source": [
    "### __Walk-through What We Have So Far__: Look at an LCG (Linear Congruential Generator) code and run it to get random numbers.\n",
    "\n",
    "The Getting Started exercise introduced a small chunk of code that implemented a simple algorithm for a pseudo random number generator. We'll rebuild that step-by-step over the nest few sections starting here with just setting the required variables and calculating the 'random' number.\n",
    "\n",
    "We have names seed and modulus with more meaningful names to help explain how the algorithm works, <code>a</code> and <code>c</code> are just parameters. I've introduced a new concept which we'll cover later with <code>runif(1)</code>. This is a built-in R _function_ which generates '1' 'r'andom value from a 'unif'orm distribution (in this case an equal probablity of any value from 0 to 1). We then multiply this by 100 to get a uniformly distibuted random number from 0 to 100.\n",
    "\n",
    "__NOTE:__ I know, runif() is a random number generator, and a better one than the LCG. We don't _need_ a random number here just a choice of value for the initial _seed_ for the algorithm. As you can see, for the same parameters, you will get the same sequence of 'random' numbers which is why it is known as a pseudo random number generator. In R you can set the seed for this and other random number generators with <code>set.seed(&lt;value&gt;)</code> which is great for reproducible research but less good for a game of poker.\n",
    "\n",
    "With the brackets used in the expression on the right-hand-side of the asignment operator, the final statement then instructs R to use these values to:\n",
    "* add seed and c\n",
    "* multiply that result by a\n",
    "* divide by modulus and return the remainder\n",
    "\n",
    "The answer is then assigned to seed, overwriting the original value."
   ]
  },
  {
   "cell_type": "code",
   "execution_count": 2,
   "metadata": {},
   "outputs": [
    {
     "data": {
      "text/html": [
       "19.4474564865232"
      ],
      "text/latex": [
       "19.4474564865232"
      ],
      "text/markdown": [
       "19.4474564865232"
      ],
      "text/plain": [
       "[1] 19.44746"
      ]
     },
     "metadata": {},
     "output_type": "display_data"
    },
    {
     "data": {
      "text/html": [
       "20.6847389191389"
      ],
      "text/latex": [
       "20.6847389191389"
      ],
      "text/markdown": [
       "20.6847389191389"
      ],
      "text/plain": [
       "[1] 20.68474"
      ]
     },
     "metadata": {},
     "output_type": "display_data"
    }
   ],
   "source": [
    "#modulus <- 23\n",
    "#a <- 6\n",
    "#seed <- runif(1) * 100\n",
    "#c <- 7\n",
    "\n",
    "#seed\n",
    "#seed <- (a * (seed + c)) %% modulus\n",
    "#seed"
   ]
  },
  {
   "cell_type": "markdown",
   "metadata": {},
   "source": [
    "If everyone was to use the same seed, we should all get the same 'random' sequence."
   ]
  },
  {
   "cell_type": "code",
   "execution_count": 6,
   "metadata": {},
   "outputs": [
    {
     "data": {
      "text/html": [
       "52.9071557568386"
      ],
      "text/latex": [
       "52.9071557568386"
      ],
      "text/markdown": [
       "52.9071557568386"
      ],
      "text/plain": [
       "[1] 52.90716"
      ]
     },
     "metadata": {},
     "output_type": "display_data"
    },
    {
     "data": {
      "text/html": [
       "14.4429345410317"
      ],
      "text/latex": [
       "14.4429345410317"
      ],
      "text/markdown": [
       "14.4429345410317"
      ],
      "text/plain": [
       "[1] 14.44293"
      ]
     },
     "metadata": {},
     "output_type": "display_data"
    }
   ],
   "source": [
    "#set.seed(57329)\n",
    "#seed <- runif(1) * 100\n",
    "#seed\n",
    "#seed <- (a * (seed + c)) %% modulus\n",
    "#seed"
   ]
  },
  {
   "cell_type": "markdown",
   "metadata": {},
   "source": [
    "<div style='background-color:lightgray;'><h3><b>Challenge</b>: It is not completely true that you have to start variable names with a character - how does R allow you to use 'naughty' names?</h3>\n",
    "<b>NOTE</b>: Actually you can use unacceptable names for variables, almost anything in fact, as long as you are prepared to surround the name with back-quotes, ``. For example:</div>"
   ]
  },
  {
   "cell_type": "code",
   "execution_count": 304,
   "metadata": {},
   "outputs": [
    {
     "data": {
      "text/html": [
       "10"
      ],
      "text/latex": [
       "10"
      ],
      "text/markdown": [
       "10"
      ],
      "text/plain": [
       "[1] 10"
      ]
     },
     "metadata": {},
     "output_type": "display_data"
    },
    {
     "data": {
      "text/html": [
       "6"
      ],
      "text/latex": [
       "6"
      ],
      "text/markdown": [
       "6"
      ],
      "text/plain": [
       "[1] 6"
      ]
     },
     "metadata": {},
     "output_type": "display_data"
    }
   ],
   "source": [
    "#x <- 4\n",
    "#y <- 6\n",
    "## The following code includes variables with forbidden names which have been quoted and so can be used.\n",
    "#`x+y` <- x + y\n",
    "#`x+y`\n",
    "#`in` <- y\n",
    "#`in`"
   ]
  },
  {
   "cell_type": "markdown",
   "metadata": {},
   "source": [
    "<div style='background-color:lightgray;'><h3><b><i>FAST TRACK</i></b>: Experiment with the LCG random number generator (RNG) and find parameters that produce good quality random numbers.</h3>\n",
    "Suggest how you might put a value on the quality of the RNG output?</div>"
   ]
  },
  {
   "cell_type": "markdown",
   "metadata": {},
   "source": [
    "<table style=\"text-align:center;\"><tr><td width=\"100\" height=\"20\" style=\"background-color:greenyellow\"></td><td width=\"100\" height=\"20\" style=\"background-color:hotpink\"></td></tr></table>"
   ]
  },
  {
   "cell_type": "markdown",
   "metadata": {},
   "source": [
    "<table width='100%'><tr>\n",
    "    <td style='background-color:red; text-align:center; color: white;'><!--Foundation<!--hr size='5' style='border-color:red; background-color:red;'--></td>\n",
    "    <td style='background-color:yellow; text-align:center;'><!--Level 1<!--hr size='5' style='border-color:yellow; background-color:yellow;'--></td>\n",
    "    <td style='background-color:orange; text-align:center;'><!--Level 2<!--hr size='5' style='border-color:orange; background-color:orange;'--></td>\n",
    "    <td style='background-color:green; text-align:center; color: white;'><!--Level 3<!--hr size='5' style='border-color:orange; background-color:orange;'--></td>\n",
    "    <td style='background-color:blue; text-align:center; color: white;'><!--Level 4<!--hr size='5' style='border-color:orange; background-color:orange;'--></td>\n",
    "    <td style='background-color:purple; text-align:center; color: white;'><!--Level 5<!--hr size='5' style='border-color:orange; background-color:orange;'--></td>\n",
    "    <td style='background-color:brown; text-align:center; color: white;'><!--Level 6<!--hr size='5' style='border-color:orange; background-color:orange;'--></td>\n",
    "    <td style='background-color:black; text-align:center; color: white;'><!--Level 7<!--hr size='5' style='border-color:orange; background-color:orange;'--></td>\n",
    "</tr></table>"
   ]
  }
 ],
 "metadata": {
  "kernelspec": {
   "display_name": "R",
   "language": "R",
   "name": "ir"
  },
  "language_info": {
   "codemirror_mode": "r",
   "file_extension": ".r",
   "mimetype": "text/x-r-source",
   "name": "R",
   "pygments_lexer": "r",
   "version": "4.0.2"
  }
 },
 "nbformat": 4,
 "nbformat_minor": 4
}
