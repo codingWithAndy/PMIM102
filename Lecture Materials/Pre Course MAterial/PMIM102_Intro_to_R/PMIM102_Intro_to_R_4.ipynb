{
 "cells": [
  {
   "cell_type": "markdown",
   "metadata": {},
   "source": [
    "<table width='100%'><tr>\n",
    "    <td style='background-color:red; text-align:center; color: white;'><!--Foundation<!--hr size='5' style='border-color:red; background-color:red;'--></td>\n",
    "    <td style='background-color:yellow; text-align:center;'><!--Level 1<!--hr size='5' style='border-color:yellow; background-color:yellow;'--></td>\n",
    "    <td style='background-color:orange; text-align:center;'><!--Level 2<!--hr size='5' style='border-color:orange; background-color:orange;'--></td>\n",
    "    <td style='background-color:green; text-align:center; color: white;'><!--Level 3<!--hr size='5' style='border-color:orange; background-color:orange;'--></td>\n",
    "    <td style='background-color:blue; text-align:center; color: white;'><!--Level 4<!--hr size='5' style='border-color:orange; background-color:orange;'--></td>\n",
    "    <td style='background-color:purple; text-align:center; color: white;'><!--Level 5<!--hr size='5' style='border-color:orange; background-color:orange;'--></td>\n",
    "    <td style='background-color:brown; text-align:center; color: white;'><!--Level 6<!--hr size='5' style='border-color:orange; background-color:orange;'--></td>\n",
    "    <td style='background-color:black; text-align:center; color: white;'><!--Level 7<!--hr size='5' style='border-color:orange; background-color:orange;'--></td>\n",
    "</tr></table>"
   ]
  },
  {
   "cell_type": "markdown",
   "metadata": {},
   "source": [
    "<table style='border-left:10px solid yellow;'><tr>\n",
    "    <td style='padding-left:20px;'>\n",
    "        <h2><i>Swansea University Medical School</i><br/><b>MSc Health Data Science</b></h2>\n",
    "        <h3>PMIM-102 Introduction to Scientific Computing in Healthcare</h3>\n",
    "        <h1><b>Introduction to Programming in R</b></h1>\n",
    "        <h2><b>1. Programming Fundamentals</b></h2>\n",
    "        <h2><i>Part 4: More complex data structures.</i></h2>\n",
    "        <h3><i>September 2020</i></h3>\n",
    "        <h3><b>To-do</b></h3>\n",
    "        <ul>\n",
    "            <li>Fix bug in plotting with factors.</li>\n",
    "            <li>A formula challenge?</li>\n",
    "        </ul>\n",
    "    </td>\n",
    "    <td><img height='300' width='500' src='images/cover.jpg'/></td>\n",
    "</tr></table>"
   ]
  },
  {
   "cell_type": "markdown",
   "metadata": {},
   "source": [
    "## __Aim__: Learn how to make the computer do what we want and get information from the data\n",
    "\n",
    "The aim of this session is to introduce the basic principles of programming using <code>R</code>.\n",
    "\n",
    "### __A map of where we're going__\n",
    "\n",
    "1. __Simple Things__ - simple data (__variables__) and how to do things to them (__operators__) and calculate things (__expressions__). Also when and where variables are and are not valid.\n",
    "\n",
    "1. __What computers do best 1: Control__ - how to make decisions about whether to execute code and/or which code to execute; how to repeatedly execute code.\n",
    "\n",
    "1. __What computers do best 2: What they have been told. Again and agin ...__ - combining lots of simple operations into more complex functions - being able to perform, simple, repetitive or complex operations on the variables with just one command. Introducing some basic descriptive statistical functions.\n",
    "\n",
    "1. <div style=\"background-color:yellow;\"><b>What R does well: complex data and operations on all the bits at the same time</b> - pairs, tuples, vectors, lists, matrices, arrays, tables, factors.</div>\n",
    "\n",
    "1. __The Data Frame__ - along with vectors, data frames are the data structure most frequently used in health data science.\n",
    "    * __Extra: R Specifics__ - formulae."
   ]
  },
  {
   "cell_type": "markdown",
   "metadata": {},
   "source": [
    "## __Navigation__\n",
    "\n",
    "_How to approach this section of the course depending on your experience of R_\n",
    "\n",
    "Although the code and exercises presented in this notebook will run here, it would be better to transfer the code to R-Studio and run and edit it in that environment as that will be the enviornment we use for the course.\n",
    "\n",
    "If you have programming experience in R ==> you may want to skim what we are doing in each section: you may be able to skip ahead to the ___challenges___ and ___FAST TRACK___ and attempt those exercises. If you complete those exercises before the rest of use have reached that point, ask yourself 'what-if' questions and play with the code or the look at something you have never used before or help others in the class.\n",
    "\n",
    "If you have some programming experience in another programming language ==> you can work through the Jupyter Notebook at your own speed but bear in mind that R is unique in many respects, so don't just skip things as it may come back to bite you :) When you get to the ___challenges___ and ___FAST TRACK___ please attempt those exercises and then experiment with R. \n",
    "\n",
    "In all cases, the internet is a superb resource if you have a problem - somebody almost certainly has had it before (bit remember that not all the answers are from experts)."
   ]
  },
  {
   "cell_type": "markdown",
   "metadata": {},
   "source": [
    "<table style=\"text-align:center;\"><tr><td width=\"100\" height=\"20\" style=\"background-color:greenyellow\"></td><td width=\"100\" height=\"20\" style=\"background-color:hotpink\"></td></tr></table>"
   ]
  },
  {
   "cell_type": "markdown",
   "metadata": {},
   "source": [
    "### __Complicated Variables__"
   ]
  },
  {
   "cell_type": "markdown",
   "metadata": {},
   "source": [
    "### Vectors, Matrices, Arrays, Lists\n",
    "R's major strength is the ability to operate efficiently on entire data structures. There are four commonly used data structures (although plenty of others for sepcific purposes, such as time-series).\n",
    "\n",
    "#### __Vectors__\n",
    "The basic structure in R is the __vector__. Even single values are vectors of length 1. A vector is a group of elements of one data-type. You create a vector using the `c()` function to combine elements."
   ]
  },
  {
   "cell_type": "code",
   "execution_count": 121,
   "metadata": {},
   "outputs": [
    {
     "name": "stdout",
     "output_type": "stream",
     "text": [
      "[1]  1  6  3 -5  2\n"
     ]
    }
   ],
   "source": [
    "#v <- c(1, 6, 3, -5, 2)\n",
    "#print(v)"
   ]
  },
  {
   "cell_type": "markdown",
   "metadata": {},
   "source": [
    "We can check the type and structure of the variable with:"
   ]
  },
  {
   "cell_type": "code",
   "execution_count": 122,
   "metadata": {},
   "outputs": [
    {
     "data": {
      "text/html": [
       "'numeric'"
      ],
      "text/latex": [
       "'numeric'"
      ],
      "text/markdown": [
       "'numeric'"
      ],
      "text/plain": [
       "[1] \"numeric\""
      ]
     },
     "metadata": {},
     "output_type": "display_data"
    },
    {
     "name": "stdout",
     "output_type": "stream",
     "text": [
      " num [1:5] 1 6 3 -5 2\n"
     ]
    },
    {
     "data": {
      "text/html": [
       "TRUE"
      ],
      "text/latex": [
       "TRUE"
      ],
      "text/markdown": [
       "TRUE"
      ],
      "text/plain": [
       "[1] TRUE"
      ]
     },
     "metadata": {},
     "output_type": "display_data"
    }
   ],
   "source": [
    "#class(v)\n",
    "#str(v)\n",
    "#is.vector(v)"
   ]
  },
  {
   "cell_type": "markdown",
   "metadata": {},
   "source": [
    "Now we can use some of the internal functions to do some interesting things."
   ]
  },
  {
   "cell_type": "code",
   "execution_count": 143,
   "metadata": {},
   "outputs": [
    {
     "data": {
      "text/html": [
       "7"
      ],
      "text/latex": [
       "7"
      ],
      "text/markdown": [
       "7"
      ],
      "text/plain": [
       "[1] 7"
      ]
     },
     "metadata": {},
     "output_type": "display_data"
    },
    {
     "data": {
      "text/html": [
       "5"
      ],
      "text/latex": [
       "5"
      ],
      "text/markdown": [
       "5"
      ],
      "text/plain": [
       "[1] 5"
      ]
     },
     "metadata": {},
     "output_type": "display_data"
    }
   ],
   "source": [
    "#sum(v)\n",
    "#length(v)"
   ]
  },
  {
   "cell_type": "markdown",
   "metadata": {},
   "source": [
    "We will often use built functions to perform analyses on vectors (or columns of data frames which work like vectors). For example, the `mean()` function will produce the average value of all the elements in a vector (or data fram column):"
   ]
  },
  {
   "cell_type": "code",
   "execution_count": 151,
   "metadata": {},
   "outputs": [
    {
     "data": {
      "text/html": [
       "1.4"
      ],
      "text/latex": [
       "1.4"
      ],
      "text/markdown": [
       "1.4"
      ],
      "text/plain": [
       "[1] 1.4"
      ]
     },
     "metadata": {},
     "output_type": "display_data"
    }
   ],
   "source": [
    "#mean(v)"
   ]
  },
  {
   "cell_type": "markdown",
   "metadata": {},
   "source": [
    "Now do this manually:"
   ]
  },
  {
   "cell_type": "code",
   "execution_count": 152,
   "metadata": {},
   "outputs": [
    {
     "data": {
      "text/html": [
       "1.4"
      ],
      "text/latex": [
       "1.4"
      ],
      "text/markdown": [
       "1.4"
      ],
      "text/plain": [
       "[1] 1.4"
      ]
     },
     "metadata": {},
     "output_type": "display_data"
    }
   ],
   "source": [
    "#sum(v) / length(v)"
   ]
  },
  {
   "cell_type": "markdown",
   "metadata": {},
   "source": [
    "Operators, such as `+`, `^`, operate on each element of a vector:"
   ]
  },
  {
   "cell_type": "code",
   "execution_count": 153,
   "metadata": {},
   "outputs": [
    {
     "data": {
      "text/html": [
       "<ol class=list-inline>\n",
       "\t<li>1</li>\n",
       "\t<li>36</li>\n",
       "\t<li>9</li>\n",
       "\t<li>25</li>\n",
       "\t<li>4</li>\n",
       "</ol>\n"
      ],
      "text/latex": [
       "\\begin{enumerate*}\n",
       "\\item 1\n",
       "\\item 36\n",
       "\\item 9\n",
       "\\item 25\n",
       "\\item 4\n",
       "\\end{enumerate*}\n"
      ],
      "text/markdown": [
       "1. 1\n",
       "2. 36\n",
       "3. 9\n",
       "4. 25\n",
       "5. 4\n",
       "\n",
       "\n"
      ],
      "text/plain": [
       "[1]  1 36  9 25  4"
      ]
     },
     "metadata": {},
     "output_type": "display_data"
    }
   ],
   "source": [
    "#v ^ 2"
   ]
  },
  {
   "cell_type": "markdown",
   "metadata": {},
   "source": [
    "If you wish to add items to a vector, you can simply refer to the index you want to set, even if it doesn't exist yet and R will sort it out. Or you create a vector using the c() function with the existing vector as one of the arguments. Use the append() function to add data in the middle of a vector."
   ]
  },
  {
   "cell_type": "code",
   "execution_count": 56,
   "metadata": {},
   "outputs": [
    {
     "data": {
      "text/html": [
       "<ol class=list-inline>\n",
       "\t<li>1</li>\n",
       "\t<li>6</li>\n",
       "\t<li>3</li>\n",
       "\t<li>-5</li>\n",
       "\t<li>2</li>\n",
       "\t<li>&lt;NA&gt;</li>\n",
       "\t<li>&lt;NA&gt;</li>\n",
       "\t<li>&lt;NA&gt;</li>\n",
       "\t<li>&lt;NA&gt;</li>\n",
       "\t<li>8</li>\n",
       "\t<li>9</li>\n",
       "</ol>\n"
      ],
      "text/latex": [
       "\\begin{enumerate*}\n",
       "\\item 1\n",
       "\\item 6\n",
       "\\item 3\n",
       "\\item -5\n",
       "\\item 2\n",
       "\\item <NA>\n",
       "\\item <NA>\n",
       "\\item <NA>\n",
       "\\item <NA>\n",
       "\\item 8\n",
       "\\item 9\n",
       "\\end{enumerate*}\n"
      ],
      "text/markdown": [
       "1. 1\n",
       "2. 6\n",
       "3. 3\n",
       "4. -5\n",
       "5. 2\n",
       "6. &lt;NA&gt;\n",
       "7. &lt;NA&gt;\n",
       "8. &lt;NA&gt;\n",
       "9. &lt;NA&gt;\n",
       "10. 8\n",
       "11. 9\n",
       "\n",
       "\n"
      ],
      "text/plain": [
       " [1]  1  6  3 -5  2 NA NA NA NA  8  9"
      ]
     },
     "metadata": {},
     "output_type": "display_data"
    }
   ],
   "source": [
    "#v[10] <- 8\n",
    "#v <- c(v, 9)\n",
    "#v"
   ]
  },
  {
   "cell_type": "markdown",
   "metadata": {},
   "source": [
    "<div style='background-color:lightgray;'><h3><b>Extra</b>: Recycling rule for vectors</h3>\n",
    "Try adding two vectors of unequal length. R will attempt to re-use the shorter vector an integer number times to match the longer vector's length. It will produce an error if the difference is not an exact multiple of the shorter vector's length.\n",
    "</div>"
   ]
  },
  {
   "cell_type": "markdown",
   "metadata": {},
   "source": [
    "### __Exercise__: The full LCG with plots.\n",
    "Create a function that uses the LCG random number function to create a vector full of n random numbers.\n",
    "Plot the data in the vector, a histogram of the frequencies of the values and then a scatter plot where each point is given by $(x, y) = (value_{m}, value_{m+1})$ for m is 1 to n-1."
   ]
  },
  {
   "cell_type": "code",
   "execution_count": 2,
   "metadata": {},
   "outputs": [
    {
     "data": {
      "image/png": "[encoded data removed]",
      "text/plain": [
       "plot without title"
      ]
     },
     "metadata": {},
     "output_type": "display_data"
    },
    {
     "data": {
      "image/png": "[encoded data removed]",
      "text/plain": [
       "Plot with title \"Histogram of good\""
      ]
     },
     "metadata": {},
     "output_type": "display_data"
    }
   ],
   "source": [
    "## Vector generator.\n",
    "#lcg_vector <- function(modulus, a, c, seed, n) {\n",
    "#    l <- vector()\n",
    "#    for (i in 1:n) {\n",
    "#        s <- lcg(modulus, a, c, s)\n",
    "#        l[i] <- s\n",
    "#    }\n",
    "#    return(l)\n",
    "#}\n",
    "\n",
    "#v <- lcg_vector(m, a, c, s, 100)\n",
    "#plot(v)\n",
    "\n",
    "## Number of elements in the vectors.\n",
    "#n <- 10000\n",
    "\n",
    "## Bad parameters.\n",
    "#m <- 23\n",
    "#a <- 6\n",
    "#s <- runif(1) * 100\n",
    "#c <- 7\n",
    "#bad <- lcg_vector(m, a, c, s, n)\n",
    "## Good parameters.\n",
    "#m <- 86436\n",
    "#a <- 1093\n",
    "#s <- runif(1) * 100\n",
    "#c <- 18257\n",
    "#good <- lcg_vector(m, a, c, s, n)\n",
    "\n",
    "## Plot the results.\n",
    "#par(mfrow=c(2,2))\n",
    "#hist(bad, breaks=100)\n",
    "#plot(bad[1:length(bad)-1], bad[2:length(bad)], pch='.', cex=1, col='red')\n",
    "#hist(good, breaks=100)\n",
    "#plot(good[1:length(good)-1], good[2:length(good)], pch='.', cex=1, col='green')"
   ]
  },
  {
   "cell_type": "markdown",
   "metadata": {},
   "source": [
    "<table style=\"text-align:center;\"><tr><td width=\"100\" height=\"20\" style=\"background-color:greenyellow\"></td><td width=\"100\" height=\"20\" style=\"background-color:hotpink\"></td></tr></table>"
   ]
  },
  {
   "cell_type": "markdown",
   "metadata": {},
   "source": [
    "<table width='100%'><tr>\n",
    "    <td style='background-color:red; text-align:center; color: white;'><!--Foundation<!--hr size='5' style='border-color:red; background-color:red;'--></td>\n",
    "    <td style='background-color:yellow; text-align:center;'><!--Level 1<!--hr size='5' style='border-color:yellow; background-color:yellow;'--></td>\n",
    "    <td style='background-color:orange; text-align:center;'><!--Level 2<!--hr size='5' style='border-color:orange; background-color:orange;'--></td>\n",
    "    <td style='background-color:green; text-align:center; color: white;'><!--Level 3<!--hr size='5' style='border-color:orange; background-color:orange;'--></td>\n",
    "    <td style='background-color:blue; text-align:center; color: white;'><!--Level 4<!--hr size='5' style='border-color:orange; background-color:orange;'--></td>\n",
    "    <td style='background-color:purple; text-align:center; color: white;'><!--Level 5<!--hr size='5' style='border-color:orange; background-color:orange;'--></td>\n",
    "    <td style='background-color:brown; text-align:center; color: white;'><!--Level 6<!--hr size='5' style='border-color:orange; background-color:orange;'--></td>\n",
    "    <td style='background-color:black; text-align:center; color: white;'><!--Level 7<!--hr size='5' style='border-color:orange; background-color:orange;'--></td>\n",
    "</tr></table>"
   ]
  },
  {
   "cell_type": "markdown",
   "metadata": {},
   "source": [
    "### __Descriptive Statistics in R__\n",
    "\n",
    "R comes with a large number of built-in functions to perform descriptive statistics such as `mean()` to produce the mean of the values in a vector.\n",
    "\n",
    "There are (among others):\n",
    "\n",
    "| Function | What it does ... |\n",
    "|----------|------------------|\n",
    "| sum(x)   | Cum of all the elements in x. |\n",
    "| mean(x)  | Average of the values in x. |\n",
    "| var(x)   | Variance of x. |\n",
    "| sd(x)    | Standard deviation of the values in x. |\n",
    "|||\n",
    "| median(x) | The value of the data at the middle sample. |\n",
    "| min(x)    | The minimum value in x. |\n",
    "| max(x)    | The maximum value in x. |\n",
    "| range(x)  | The range of vvalues in x. |\n",
    "| quantile(x) | Returns min, lower quartile, median, upper quartile and max of x (with names). |\n",
    "| summary(x)  | Does the same and adds the mean, in a simple table layout. |\n",
    "|||\n",
    "| sort(x)   | x sorted. |\n",
    "| rev(x)    | Reverse the order of x. |\n",
    "| rank(x)   | The ranks of the values in x. |\n",
    "| order(x)  | The position in x of the values in x in order. |\n",
    "|||\n",
    "| cumsum(x) | The cumulative sum. |\n",
    "| cumprod(x) | The cumulative product. |\n",
    "| cummax(x) | The cumulative maximum. |\n",
    "| cummin(x) | The cumulative minimum. |\n",
    "|||\n",
    "| cor(x, y) | Correlation between vectors x and y. |\n",
    "\n",
    "Documentation [here](https://www.rdocumentation.org/packages/base)."
   ]
  },
  {
   "cell_type": "code",
   "execution_count": 126,
   "metadata": {},
   "outputs": [
    {
     "data": {
      "text/html": [
       "<ol class=list-inline>\n",
       "\t<li>-0.268002330441382</li>\n",
       "\t<li>-0.350804639463502</li>\n",
       "\t<li>0.0515580656126655</li>\n",
       "</ol>\n"
      ],
      "text/latex": [
       "\\begin{enumerate*}\n",
       "\\item -0.268002330441382\n",
       "\\item -0.350804639463502\n",
       "\\item 0.0515580656126655\n",
       "\\end{enumerate*}\n"
      ],
      "text/markdown": [
       "1. -0.268002330441382\n",
       "2. -0.350804639463502\n",
       "3. 0.0515580656126655\n",
       "\n",
       "\n"
      ],
      "text/plain": [
       "[1] -0.26800233 -0.35080464  0.05155807"
      ]
     },
     "metadata": {},
     "output_type": "display_data"
    },
    {
     "data": {
      "text/plain": [
       "   Min. 1st Qu.  Median    Mean 3rd Qu.    Max. \n",
       "-1.4578 -0.9126 -0.4072 -0.2680  0.2457  1.9322 "
      ]
     },
     "metadata": {},
     "output_type": "display_data"
    },
    {
     "data": {
      "text/html": [
       "-0.912553870401122"
      ],
      "text/latex": [
       "-0.912553870401122"
      ],
      "text/markdown": [
       "-0.912553870401122"
      ],
      "text/plain": [
       "[1] -0.9125539"
      ]
     },
     "metadata": {},
     "output_type": "display_data"
    },
    {
     "data": {
      "text/html": [
       "<ol class=list-inline>\n",
       "\t<li>1.93215873522936</li>\n",
       "\t<li>0.567151953418156</li>\n",
       "\t<li>-0.328863714992345</li>\n",
       "\t<li>-1.39792808937374</li>\n",
       "\t<li>-0.216486604734279</li>\n",
       "\t<li>-0.978800233258538</li>\n",
       "\t<li>-1.45782116536322</li>\n",
       "\t<li>-0.713814781828873</li>\n",
       "\t<li>0.3998232949244</li>\n",
       "\t<li>-0.485442698434744</li>\n",
       "</ol>\n"
      ],
      "text/latex": [
       "\\begin{enumerate*}\n",
       "\\item 1.93215873522936\n",
       "\\item 0.567151953418156\n",
       "\\item -0.328863714992345\n",
       "\\item -1.39792808937374\n",
       "\\item -0.216486604734279\n",
       "\\item -0.978800233258538\n",
       "\\item -1.45782116536322\n",
       "\\item -0.713814781828873\n",
       "\\item 0.3998232949244\n",
       "\\item -0.485442698434744\n",
       "\\end{enumerate*}\n"
      ],
      "text/markdown": [
       "1. 1.93215873522936\n",
       "2. 0.567151953418156\n",
       "3. -0.328863714992345\n",
       "4. -1.39792808937374\n",
       "5. -0.216486604734279\n",
       "6. -0.978800233258538\n",
       "7. -1.45782116536322\n",
       "8. -0.713814781828873\n",
       "9. 0.3998232949244\n",
       "10. -0.485442698434744\n",
       "\n",
       "\n"
      ],
      "text/plain": [
       " [1]  1.9321587  0.5671520 -0.3288637 -1.3979281 -0.2164866 -0.9788002\n",
       " [7] -1.4578212 -0.7138148  0.3998233 -0.4854427"
      ]
     },
     "metadata": {},
     "output_type": "display_data"
    }
   ],
   "source": [
    "## Get some random data from a normal distribution --- we'll look at this later.\n",
    "#x <- rnorm(n=10)\n",
    "#y <- rnorm(n=12)\n",
    "#z <- rnorm(n=8)\n",
    "#m <- matrix(c(x, y, z), nrow=10, ncol=3)\n",
    "#colMeans(m)\n",
    "#summary(x)\n",
    "#summary(x)[[2]]\n",
    "#rev(x)"
   ]
  },
  {
   "cell_type": "markdown",
   "metadata": {},
   "source": [
    "You will frequently end up with `NA` values in your data. Logically these produce an `NA` result for calculations but this is not always what you want. To perform a function ignoring the NA values you can often specify the argument, `na.rm=TRUE`, for example:"
   ]
  },
  {
   "cell_type": "code",
   "execution_count": 2,
   "metadata": {},
   "outputs": [
    {
     "data": {
      "text/html": [
       "&lt;NA&gt;"
      ],
      "text/latex": [
       "<NA>"
      ],
      "text/markdown": [
       "&lt;NA&gt;"
      ],
      "text/plain": [
       "[1] NA"
      ]
     },
     "metadata": {},
     "output_type": "display_data"
    },
    {
     "data": {
      "text/html": [
       "3.5"
      ],
      "text/latex": [
       "3.5"
      ],
      "text/markdown": [
       "3.5"
      ],
      "text/plain": [
       "[1] 3.5"
      ]
     },
     "metadata": {},
     "output_type": "display_data"
    }
   ],
   "source": [
    "#x <- c(1, 2, 3, NA, 4, 5, 6)\n",
    "#mean(x)\n",
    "#mean(x, na.rm=TRUE)"
   ]
  },
  {
   "cell_type": "markdown",
   "metadata": {},
   "source": [
    "<div style='background-color:lightgray;'><h3><b>Challenge</b>: Rewrite the sum of squares to work on a vector.</h3>"
   ]
  },
  {
   "cell_type": "code",
   "execution_count": 156,
   "metadata": {},
   "outputs": [
    {
     "data": {
      "text/html": [
       "16.3"
      ],
      "text/latex": [
       "16.3"
      ],
      "text/markdown": [
       "16.3"
      ],
      "text/plain": [
       "[1] 16.3"
      ]
     },
     "metadata": {},
     "output_type": "display_data"
    },
    {
     "data": {
      "text/html": [
       "16.3"
      ],
      "text/latex": [
       "16.3"
      ],
      "text/markdown": [
       "16.3"
      ],
      "text/plain": [
       "[1] 16.3"
      ]
     },
     "metadata": {},
     "output_type": "display_data"
    }
   ],
   "source": [
    "#ss_vector <- function(v) {\n",
    "#    sum(v^2) - (sum(v)^2)/length(v)\n",
    "#}\n",
    "#ss_vector(v)/(length(v)-1)\n",
    "#var(v)"
   ]
  },
  {
   "cell_type": "markdown",
   "metadata": {},
   "source": [
    "### __Tables__\n",
    "R has a very useful function `table()` which creates summary of counts of the values in the vector arguments."
   ]
  },
  {
   "cell_type": "code",
   "execution_count": 81,
   "metadata": {},
   "outputs": [
    {
     "data": {
      "text/plain": [
       "x\n",
       "   0    1    2    3    4    5    6    7    8    9 \n",
       " 969 1070  972 1019 1020  970 1001  979 1009  991 "
      ]
     },
     "metadata": {},
     "output_type": "display_data"
    },
    {
     "data": {
      "text/plain": [
       "   y\n",
       "x     0   1   2\n",
       "  0 253 463 253\n",
       "  1 279 530 261\n",
       "  2 236 501 235\n",
       "  3 265 488 266\n",
       "  4 271 523 226\n",
       "  5 241 491 238\n",
       "  6 258 513 230\n",
       "  7 239 496 244\n",
       "  8 240 498 271\n",
       "  9 235 521 235"
      ]
     },
     "metadata": {},
     "output_type": "display_data"
    },
    {
     "data": {
      "text/plain": [
       "         blond_hair\n",
       "blue_eyes FALSE TRUE\n",
       "    FALSE  5650 1421\n",
       "    TRUE   2356  573"
      ]
     },
     "metadata": {},
     "output_type": "display_data"
    },
    {
     "data": {
      "text/plain": [
       "         episode_landing_party\n",
       "shirt     killed survived\n",
       "  not-red      1        5\n",
       "  red          5        1"
      ]
     },
     "metadata": {},
     "output_type": "display_data"
    },
    {
     "name": "stderr",
     "output_type": "stream",
     "text": [
      "Warning message in chisq.test(shirt, episode_landing_party, correct = TRUE):\n",
      "\"Chi-squared approximation may be incorrect\""
     ]
    },
    {
     "data": {
      "text/plain": [
       "\n",
       "\tPearson's Chi-squared test with Yates' continuity correction\n",
       "\n",
       "data:  shirt and episode_landing_party\n",
       "X-squared = 3, df = 1, p-value = 0.08326\n"
      ]
     },
     "metadata": {},
     "output_type": "display_data"
    },
    {
     "data": {
      "text/plain": [
       "\n",
       "\tFisher's Exact Test for Count Data\n",
       "\n",
       "data:  shirt and episode_landing_party\n",
       "p-value = 0.08009\n",
       "alternative hypothesis: true odds ratio is not equal to 1\n",
       "95 percent confidence interval:\n",
       " 0.0007197308 1.2494518252\n",
       "sample estimates:\n",
       "odds ratio \n",
       "0.06022953 \n"
      ]
     },
     "metadata": {},
     "output_type": "display_data"
    }
   ],
   "source": [
    "#n <- 10000\n",
    "#x <- as.integer(runif(n) * 10)\n",
    "#table(x)\n",
    "#y <- as.integer(rbinom(n=n, size=2, prob=0.5))\n",
    "#table(x, y)\n",
    "\n",
    "#blue_eyes <- as.logical(rbinom(n=n, size=1, prob=0.3))\n",
    "#blond_hair <- as.logical(rbinom(n=n, size=1, prob=0.2))\n",
    "\n",
    "#table(blue_eyes, blond_hair)\n",
    "\n",
    "#shirt <- c('red', 'red', 'yellow', 'red', 'red', 'blue', 'yellow', 'red', 'red', 'yellow', 'yellow', 'yellow')\n",
    "#episode_landing_party <- c('survived', 'killed', 'survived', 'killed', 'killed', 'survived', 'killed', 'killed', 'killed', 'survived', 'survived', 'survived')\n",
    "#shirt <- ifelse(shirt!='red', 'not-red', 'red')\n",
    "#table(shirt, episode_landing_party)\n",
    "#chisq.test(shirt, episode_landing_party, correct=TRUE)\n",
    "#fisher.test(shirt, episode_landing_party)"
   ]
  },
  {
   "cell_type": "markdown",
   "metadata": {},
   "source": [
    "<table style=\"text-align:center;\"><tr><td width=\"100\" height=\"20\" style=\"background-color:greenyellow\"></td><td width=\"100\" height=\"20\" style=\"background-color:hotpink\"></td></tr></table>"
   ]
  },
  {
   "cell_type": "markdown",
   "metadata": {},
   "source": [
    "Now, back to the more complex generalisations of vectors: matrices, arrays and lists which we'll move quickly through as they are just extensions of vectors. We'll then see how R functions operate on entire vectors and how to implement looping on those occasions where this doesn't do what we want.\n",
    "\n",
    "Later we'll look at data frames which are the data science workhorses of R.\n",
    "\n",
    "#### __Matrices__"
   ]
  },
  {
   "cell_type": "markdown",
   "metadata": {},
   "source": [
    "A __matrix__ is a 2-dimensional vector with row and column definitions as well as an indication of the order that R should use the numbers:"
   ]
  },
  {
   "cell_type": "code",
   "execution_count": 11,
   "metadata": {},
   "outputs": [
    {
     "name": "stdout",
     "output_type": "stream",
     "text": [
      "     [,1] [,2] [,3] [,4]\n",
      "[1,]    1    2    3    4\n",
      "[2,]    5    6    7    8\n"
     ]
    }
   ],
   "source": [
    "#m <- matrix(c(1, 2, 3, 4, 5, 6, 7, 8), nrow=2, ncol=4, byrow=TRUE)\n",
    "#print(m)"
   ]
  },
  {
   "cell_type": "markdown",
   "metadata": {},
   "source": [
    "There are a number of built-in matrix functions:\n",
    "* Transposition --- t(M)\n",
    "* Inversion --- solve(M)\n",
    "* Multiplication --- M %*% N\n",
    "* Create an n x n identity matrix --- diag(n)\n",
    "\n",
    "You can extract a vector from a matrix using the usual syntax:\n",
    "\n",
    "`\n",
    "v <- m[1, ] # Get the first row\n",
    "v <- m[, 1] # Get the first column\n",
    "`\n",
    "\n",
    "If you want to keep the matrix structure e.g. have a 1-row matrix rather than a vector, use drop=FALSE:\n",
    "\n",
    "`v <- m[1, , drop=FALSE]`"
   ]
  },
  {
   "cell_type": "markdown",
   "metadata": {},
   "source": [
    "#### __Arrays__\n",
    "\n",
    "An __array__ is a multi-dimensional vector with the dimensions defined by another vector:"
   ]
  },
  {
   "cell_type": "code",
   "execution_count": 13,
   "metadata": {},
   "outputs": [
    {
     "name": "stdout",
     "output_type": "stream",
     "text": [
      ", , 1\n",
      "\n",
      "     [,1] [,2] [,3]\n",
      "[1,]    1    3    5\n",
      "[2,]    2    4    6\n",
      "\n",
      ", , 2\n",
      "\n",
      "     [,1] [,2] [,3]\n",
      "[1,]    7    9   11\n",
      "[2,]    8   10   12\n",
      "\n"
     ]
    }
   ],
   "source": [
    "#a <- array(c(1, 2, 3, 4, 5, 6, 7, 8, 9, 10, 11, 12), dim=c(2,3,2))\n",
    "#print(a)"
   ]
  },
  {
   "cell_type": "markdown",
   "metadata": {},
   "source": [
    "#### __Lists__\n",
    "\n",
    "If you want to mix different kinds of data in one structure or to create groups of elements that are not the fundamental data types, you need to use a __list__."
   ]
  },
  {
   "cell_type": "code",
   "execution_count": 109,
   "metadata": {},
   "outputs": [
    {
     "name": "stdout",
     "output_type": "stream",
     "text": [
      "[[1]]\n",
      "[1] 1\n",
      "\n",
      "[[2]]\n",
      "[1] 1.2 2.3 3.4 4.5\n",
      "\n",
      "[[3]]\n",
      "[1] \"Helo\"\n",
      "\n",
      "[[1]]\n",
      "[[1]][[1]]\n",
      "[1] 1\n",
      "\n",
      "[[1]][[2]]\n",
      "[1] 1.2 2.3 3.4 4.5\n",
      "\n",
      "[[1]][[3]]\n",
      "[1] \"Helo\"\n",
      "\n",
      "\n",
      "[[2]]\n",
      "[[2]][[1]]\n",
      "[1] \"a\"\n",
      "\n",
      "[[2]][[2]]\n",
      "[1] \"b\"\n",
      "\n",
      "[[2]][[3]]\n",
      "[1] 0\n",
      "\n",
      "\n",
      "[[1]]\n",
      "function (x, ...) \n",
      "UseMethod(\"mean\")\n",
      "<bytecode: 0x0000000007582c30>\n",
      "<environment: namespace:base>\n",
      "\n",
      "[[2]]\n",
      "function (x, na.rm = FALSE, ...) \n",
      "UseMethod(\"median\")\n",
      "<bytecode: 0x000000000800be38>\n",
      "<environment: namespace:stats>\n",
      "\n",
      "[[3]]\n",
      "function (x)  .Primitive(\"sin\")\n",
      "\n",
      "[[4]]\n",
      "function (x)  .Primitive(\"cos\")\n",
      "\n",
      "[[5]]\n",
      "function (x)  .Primitive(\"sqrt\")\n",
      "\n"
     ]
    }
   ],
   "source": [
    "#l <- list(1, c(1.2,2.3,3.4,4.5), \"Helo\")\n",
    "#l2 <- list(l, list('a', 'b', 0))\n",
    "#list_functions <- list(mean, median, sin, cos, sqrt)\n",
    "#print(l)\n",
    "#print(l2)\n",
    "#print(list_functions)"
   ]
  },
  {
   "cell_type": "markdown",
   "metadata": {},
   "source": [
    "You can include more complex data types in lists, such as vectors, matrices, arrays and other lists."
   ]
  },
  {
   "cell_type": "code",
   "execution_count": 19,
   "metadata": {},
   "outputs": [
    {
     "name": "stdout",
     "output_type": "stream",
     "text": [
      "[[1]]\n",
      "[[1]][[1]]\n",
      "[1] 1\n",
      "\n",
      "[[1]][[2]]\n",
      "[1] 1.2 2.3 3.4 4.5\n",
      "\n",
      "[[1]][[3]]\n",
      "[1] \"Helo\"\n",
      "\n",
      "\n",
      "[[2]]\n",
      "[1]  1  6  3 -5  2\n",
      "\n",
      "[[3]]\n",
      "     [,1] [,2] [,3] [,4]\n",
      "[1,]    1    2    3    4\n",
      "[2,]    5    6    7    8\n",
      "\n",
      "[[4]]\n",
      ", , 1\n",
      "\n",
      "     [,1] [,2] [,3]\n",
      "[1,]    1    3    5\n",
      "[2,]    2    4    6\n",
      "\n",
      ", , 2\n",
      "\n",
      "     [,1] [,2] [,3]\n",
      "[1,]    7    9   11\n",
      "[2,]    8   10   12\n",
      "\n",
      "\n",
      "[[5]]\n",
      "[[5]][[1]]\n",
      "[1] \"a\"\n",
      "\n",
      "[[5]][[2]]\n",
      "[1] \"b\"\n",
      "\n",
      "[[5]][[3]]\n",
      "[1] 0\n",
      "\n",
      "\n"
     ]
    }
   ],
   "source": [
    "#l2 <- list(l, v, m, a, list('a', 'b', 0))\n",
    "#print(l2)"
   ]
  },
  {
   "cell_type": "markdown",
   "metadata": {},
   "source": [
    "<div style='background-color:lightgray;'>And, while we're here, you can even refer to functions in a list:</div>"
   ]
  },
  {
   "cell_type": "code",
   "execution_count": 57,
   "metadata": {},
   "outputs": [
    {
     "name": "stdout",
     "output_type": "stream",
     "text": [
      "[[1]]\n",
      "function (x, ...) \n",
      "UseMethod(\"mean\")\n",
      "<bytecode: 0x0000000007582c30>\n",
      "<environment: namespace:base>\n",
      "\n",
      "[[2]]\n",
      "function (x, na.rm = FALSE, ...) \n",
      "UseMethod(\"median\")\n",
      "<bytecode: 0x000000000800be38>\n",
      "<environment: namespace:stats>\n",
      "\n",
      "[[3]]\n",
      "function (x)  .Primitive(\"sin\")\n",
      "\n",
      "[[4]]\n",
      "function (x)  .Primitive(\"cos\")\n",
      "\n",
      "[[5]]\n",
      "function (x)  .Primitive(\"sqrt\")\n",
      "\n"
     ]
    }
   ],
   "source": [
    "#list_functions <- list(mean, median, sin, cos, sqrt)\n",
    "#print(list_functions)"
   ]
  },
  {
   "cell_type": "markdown",
   "metadata": {},
   "source": [
    "### __Named list items__\n",
    "You can name items in a list to create a kind of dictionary."
   ]
  },
  {
   "cell_type": "code",
   "execution_count": 64,
   "metadata": {},
   "outputs": [
    {
     "data": {
      "text/html": [
       "<dl>\n",
       "\t<dt>$zombie</dt>\n",
       "\t\t<dd>1</dd>\n",
       "\t<dt>$vampire</dt>\n",
       "\t\t<dd>20</dd>\n",
       "\t<dt>$demon</dt>\n",
       "\t\t<dd>10</dd>\n",
       "</dl>\n"
      ],
      "text/latex": [
       "\\begin{description}\n",
       "\\item[\\$zombie] 1\n",
       "\\item[\\$vampire] 20\n",
       "\\item[\\$demon] 10\n",
       "\\end{description}\n"
      ],
      "text/markdown": [
       "$zombie\n",
       ":   1\n",
       "$vampire\n",
       ":   20\n",
       "$demon\n",
       ":   10\n",
       "\n",
       "\n"
      ],
      "text/plain": [
       "$zombie\n",
       "[1] 1\n",
       "\n",
       "$vampire\n",
       "[1] 20\n",
       "\n",
       "$demon\n",
       "[1] 10\n"
      ]
     },
     "metadata": {},
     "output_type": "display_data"
    },
    {
     "data": {
      "text/html": [
       "<strong>$vampire</strong> = 20"
      ],
      "text/latex": [
       "\\textbf{\\$vampire} = 20"
      ],
      "text/markdown": [
       "**$vampire** = 20"
      ],
      "text/plain": [
       "$vampire\n",
       "[1] 20\n"
      ]
     },
     "metadata": {},
     "output_type": "display_data"
    },
    {
     "data": {
      "text/html": [
       "<ol class=list-inline>\n",
       "\t<li>'zombie'</li>\n",
       "\t<li>'vampire'</li>\n",
       "\t<li>'demon'</li>\n",
       "</ol>\n"
      ],
      "text/latex": [
       "\\begin{enumerate*}\n",
       "\\item 'zombie'\n",
       "\\item 'vampire'\n",
       "\\item 'demon'\n",
       "\\end{enumerate*}\n"
      ],
      "text/markdown": [
       "1. 'zombie'\n",
       "2. 'vampire'\n",
       "3. 'demon'\n",
       "\n",
       "\n"
      ],
      "text/plain": [
       "[1] \"zombie\"  \"vampire\" \"demon\"  "
      ]
     },
     "metadata": {},
     "output_type": "display_data"
    }
   ],
   "source": [
    "#baddies <- list(zombie=1, vampire=20, demon=10)\n",
    "#baddies\n",
    "#baddies['vampire']\n",
    "#names(baddies)"
   ]
  },
  {
   "cell_type": "markdown",
   "metadata": {},
   "source": [
    "### __Deleting list items__\n",
    "You can delete a list item by setting it to NULL."
   ]
  },
  {
   "cell_type": "code",
   "execution_count": 65,
   "metadata": {},
   "outputs": [
    {
     "data": {
      "text/html": [
       "<dl>\n",
       "\t<dt>$vampire</dt>\n",
       "\t\t<dd>20</dd>\n",
       "\t<dt>$demon</dt>\n",
       "\t\t<dd>10</dd>\n",
       "</dl>\n"
      ],
      "text/latex": [
       "\\begin{description}\n",
       "\\item[\\$vampire] 20\n",
       "\\item[\\$demon] 10\n",
       "\\end{description}\n"
      ],
      "text/markdown": [
       "$vampire\n",
       ":   20\n",
       "$demon\n",
       ":   10\n",
       "\n",
       "\n"
      ],
      "text/plain": [
       "$vampire\n",
       "[1] 20\n",
       "\n",
       "$demon\n",
       "[1] 10\n"
      ]
     },
     "metadata": {},
     "output_type": "display_data"
    }
   ],
   "source": [
    "#baddies['zombie'] <- NULL\n",
    "#baddies"
   ]
  },
  {
   "cell_type": "markdown",
   "metadata": {},
   "source": [
    "### __Converting a list to a vector__\n",
    "Flatten a list to a vector with `unlist`:"
   ]
  },
  {
   "cell_type": "code",
   "execution_count": 68,
   "metadata": {},
   "outputs": [
    {
     "data": {
      "text/html": [
       "<dl class=dl-horizontal>\n",
       "\t<dt>vampire</dt>\n",
       "\t\t<dd>20</dd>\n",
       "\t<dt>demon</dt>\n",
       "\t\t<dd>10</dd>\n",
       "</dl>\n"
      ],
      "text/latex": [
       "\\begin{description*}\n",
       "\\item[vampire] 20\n",
       "\\item[demon] 10\n",
       "\\end{description*}\n"
      ],
      "text/markdown": [
       "vampire\n",
       ":   20demon\n",
       ":   10\n",
       "\n"
      ],
      "text/plain": [
       "vampire   demon \n",
       "     20      10 "
      ]
     },
     "metadata": {},
     "output_type": "display_data"
    }
   ],
   "source": [
    "#unlist(baddies)"
   ]
  },
  {
   "cell_type": "markdown",
   "metadata": {},
   "source": [
    "### __Accessing the Individual Elements__\n",
    "\n",
    "A vector is a series of values numbered 1 to its length. To access a single specific item, we can use the square bracket notation, `v[index]` where index is the number of the item we want to access. You can think of the square brackets as accessing the data _contained_ at the the value."
   ]
  },
  {
   "cell_type": "code",
   "execution_count": 107,
   "metadata": {},
   "outputs": [
    {
     "data": {
      "text/html": [
       "6"
      ],
      "text/latex": [
       "6"
      ],
      "text/markdown": [
       "6"
      ],
      "text/plain": [
       "[1] 6"
      ]
     },
     "metadata": {},
     "output_type": "display_data"
    },
    {
     "data": {
      "text/html": [
       "7"
      ],
      "text/latex": [
       "7"
      ],
      "text/markdown": [
       "7"
      ],
      "text/plain": [
       "[1] 7"
      ]
     },
     "metadata": {},
     "output_type": "display_data"
    },
    {
     "data": {
      "text/html": [
       "1"
      ],
      "text/latex": [
       "1"
      ],
      "text/markdown": [
       "1"
      ],
      "text/plain": [
       "[1] 1"
      ]
     },
     "metadata": {},
     "output_type": "display_data"
    }
   ],
   "source": [
    "#v <- c(2, 4, 6, 8, 10)\n",
    "#v[3]\n",
    "#m <- matrix(c(1, 2, 3, 4, 5, 6, 7, 8), nrow=2, ncol=4, byrow=TRUE)\n",
    "#m[2,3]\n",
    "#a <- array(c(1, 2, 3, 4, 5, 6, 7, 8, 9, 10, 11, 12), dim=c(2,3,2))\n",
    "#a[1,1,1]"
   ]
  },
  {
   "cell_type": "markdown",
   "metadata": {},
   "source": [
    "Lists (and data frames, as we will see) are a bit more tricky as they may contain lists. So l\\[1\\] refers to the first item in the list , `1`, but this is stored as a list (so that all items can be treated in the same way), so you get a value `1` in a container, `[1]`. This isn't a number but a list of numbers. But you can get the number contained in this container by using the square brackets notation again on this list, `[[1]]`:"
   ]
  },
  {
   "cell_type": "code",
   "execution_count": 194,
   "metadata": {},
   "outputs": [
    {
     "data": {
      "text/html": [
       "'list'"
      ],
      "text/latex": [
       "'list'"
      ],
      "text/markdown": [
       "'list'"
      ],
      "text/plain": [
       "[1] \"list\""
      ]
     },
     "metadata": {},
     "output_type": "display_data"
    },
    {
     "data": {
      "text/html": [
       "'list'"
      ],
      "text/latex": [
       "'list'"
      ],
      "text/markdown": [
       "'list'"
      ],
      "text/plain": [
       "[1] \"list\""
      ]
     },
     "metadata": {},
     "output_type": "display_data"
    },
    {
     "data": {
      "text/html": [
       "4"
      ],
      "text/latex": [
       "4"
      ],
      "text/markdown": [
       "4"
      ],
      "text/plain": [
       "[1] 4"
      ]
     },
     "metadata": {},
     "output_type": "display_data"
    },
    {
     "data": {
      "text/html": [
       "'numeric'"
      ],
      "text/latex": [
       "'numeric'"
      ],
      "text/markdown": [
       "'numeric'"
      ],
      "text/plain": [
       "[1] \"numeric\""
      ]
     },
     "metadata": {},
     "output_type": "display_data"
    },
    {
     "name": "stdout",
     "output_type": "stream",
     "text": [
      "[[1]]\n",
      "[1] 1\n",
      "\n",
      "[[2]]\n",
      "[1] 1.2 2.3 3.4 4.5\n",
      "\n",
      "[[3]]\n",
      "[1] \"Helo\"\n",
      "\n"
     ]
    },
    {
     "data": {
      "text/html": [
       "'character'"
      ],
      "text/latex": [
       "'character'"
      ],
      "text/markdown": [
       "'character'"
      ],
      "text/plain": [
       "[1] \"character\""
      ]
     },
     "metadata": {},
     "output_type": "display_data"
    }
   ],
   "source": [
    "#l <- list(1, c(1.2,2.3,3.4,4.5), \"Helo\")\n",
    "#class(l)\n",
    "## l[1] + 3\n",
    "#class(l[1])\n",
    "#l[[1]] + 3\n",
    "#class(l[[1]])\n",
    "#print(l)\n",
    "#class(l[[3]])"
   ]
  },
  {
   "cell_type": "markdown",
   "metadata": {},
   "source": [
    "We can also select multiple items by giving a vector of indices:"
   ]
  },
  {
   "cell_type": "code",
   "execution_count": 209,
   "metadata": {},
   "outputs": [
    {
     "data": {
      "text/html": [
       "<ol class=list-inline>\n",
       "\t<li>2</li>\n",
       "\t<li>6</li>\n",
       "\t<li>10</li>\n",
       "</ol>\n"
      ],
      "text/latex": [
       "\\begin{enumerate*}\n",
       "\\item 2\n",
       "\\item 6\n",
       "\\item 10\n",
       "\\end{enumerate*}\n"
      ],
      "text/markdown": [
       "1. 2\n",
       "2. 6\n",
       "3. 10\n",
       "\n",
       "\n"
      ],
      "text/plain": [
       "[1]  2  6 10"
      ]
     },
     "metadata": {},
     "output_type": "display_data"
    }
   ],
   "source": [
    "#v[c(1,3,5)]"
   ]
  },
  {
   "cell_type": "markdown",
   "metadata": {},
   "source": [
    "This leads to filtering using the function `which` which produces a list of indices of elements which meet the specified condition."
   ]
  },
  {
   "cell_type": "code",
   "execution_count": 207,
   "metadata": {},
   "outputs": [
    {
     "data": {
      "text/html": [
       "<ol class=list-inline>\n",
       "\t<li>3</li>\n",
       "\t<li>4</li>\n",
       "\t<li>5</li>\n",
       "</ol>\n"
      ],
      "text/latex": [
       "\\begin{enumerate*}\n",
       "\\item 3\n",
       "\\item 4\n",
       "\\item 5\n",
       "\\end{enumerate*}\n"
      ],
      "text/markdown": [
       "1. 3\n",
       "2. 4\n",
       "3. 5\n",
       "\n",
       "\n"
      ],
      "text/plain": [
       "[1] 3 4 5"
      ]
     },
     "metadata": {},
     "output_type": "display_data"
    },
    {
     "data": {
      "text/html": [
       "<ol class=list-inline>\n",
       "\t<li>6</li>\n",
       "\t<li>8</li>\n",
       "\t<li>10</li>\n",
       "</ol>\n"
      ],
      "text/latex": [
       "\\begin{enumerate*}\n",
       "\\item 6\n",
       "\\item 8\n",
       "\\item 10\n",
       "\\end{enumerate*}\n"
      ],
      "text/markdown": [
       "1. 6\n",
       "2. 8\n",
       "3. 10\n",
       "\n",
       "\n"
      ],
      "text/plain": [
       "[1]  6  8 10"
      ]
     },
     "metadata": {},
     "output_type": "display_data"
    },
    {
     "data": {
      "text/html": [
       "6"
      ],
      "text/latex": [
       "6"
      ],
      "text/markdown": [
       "6"
      ],
      "text/plain": [
       "[1] 6"
      ]
     },
     "metadata": {},
     "output_type": "display_data"
    }
   ],
   "source": [
    "#which(v>4)\n",
    "#v[which(v>4)]\n",
    "#v[v>4]"
   ]
  },
  {
   "cell_type": "markdown",
   "metadata": {},
   "source": [
    "<div style='background-color:lightgray;'><h3><b>Extra</b>: How do you exclude one or more items from a vector?</h3></div>"
   ]
  },
  {
   "cell_type": "markdown",
   "metadata": {},
   "source": [
    "\n",
    "### __Applying functions to vectors, matrices and lists__\n"
   ]
  },
  {
   "cell_type": "markdown",
   "metadata": {},
   "source": [
    "We can apply a function to all items in a data structure using `apply`. We need to supply the matrix, the MARGIN - whether we want to use rows (=1), columns (=2) or both (=c(1,2)) and the FUNction we wish to apply. If we want we can specify our own function or incude the definition in the apply call.\n",
    "\n",
    "<code>apply(m, 2, function(x) length(x[x&gt;4]))</code>\n",
    "\n",
    "See [R-Bloggers](https://www.r-bloggers.com/using-apply-sapply-lapply-in-r/) for an introduction to more details."
   ]
  },
  {
   "cell_type": "code",
   "execution_count": 242,
   "metadata": {},
   "outputs": [
    {
     "name": "stdout",
     "output_type": "stream",
     "text": [
      "     [,1] [,2] [,3] [,4]\n",
      "[1,]    1    2    3    4\n",
      "[2,]    5    6    7    8\n",
      "[1] 2 4\n",
      "[1] TRUE\n"
     ]
    },
    {
     "data": {
      "text/html": [
       "<ol class=list-inline>\n",
       "\t<li>2.5</li>\n",
       "\t<li>6.5</li>\n",
       "</ol>\n"
      ],
      "text/latex": [
       "\\begin{enumerate*}\n",
       "\\item 2.5\n",
       "\\item 6.5\n",
       "\\end{enumerate*}\n"
      ],
      "text/markdown": [
       "1. 2.5\n",
       "2. 6.5\n",
       "\n",
       "\n"
      ],
      "text/plain": [
       "[1] 2.5 6.5"
      ]
     },
     "metadata": {},
     "output_type": "display_data"
    },
    {
     "data": {
      "text/html": [
       "<ol class=list-inline>\n",
       "\t<li>1</li>\n",
       "\t<li>1</li>\n",
       "\t<li>2</li>\n",
       "\t<li>2</li>\n",
       "</ol>\n"
      ],
      "text/latex": [
       "\\begin{enumerate*}\n",
       "\\item 1\n",
       "\\item 1\n",
       "\\item 2\n",
       "\\item 2\n",
       "\\end{enumerate*}\n"
      ],
      "text/markdown": [
       "1. 1\n",
       "2. 1\n",
       "3. 2\n",
       "4. 2\n",
       "\n",
       "\n"
      ],
      "text/plain": [
       "[1] 1 1 2 2"
      ]
     },
     "metadata": {},
     "output_type": "display_data"
    }
   ],
   "source": [
    "#print(m); print(dim(m)); print(is.matrix(m))\n",
    "#apply(m, MARGIN=1, FUN=mean)\n",
    "#apply(m, 2, function(x) length(x[x>2]))"
   ]
  },
  {
   "cell_type": "markdown",
   "metadata": {},
   "source": [
    "There are similar functions to produce the simplest output possible (`sapply`) or lists (`lapply`). These will work on vectors, lists and data frames. We will meet some other 'apply' family functions later."
   ]
  },
  {
   "cell_type": "code",
   "execution_count": 110,
   "metadata": {},
   "outputs": [
    {
     "data": {
      "text/html": [
       "<ol class=list-inline>\n",
       "\t<li>4</li>\n",
       "\t<li>16</li>\n",
       "\t<li>36</li>\n",
       "\t<li>64</li>\n",
       "\t<li>100</li>\n",
       "</ol>\n"
      ],
      "text/latex": [
       "\\begin{enumerate*}\n",
       "\\item 4\n",
       "\\item 16\n",
       "\\item 36\n",
       "\\item 64\n",
       "\\item 100\n",
       "\\end{enumerate*}\n"
      ],
      "text/markdown": [
       "1. 4\n",
       "2. 16\n",
       "3. 36\n",
       "4. 64\n",
       "5. 100\n",
       "\n",
       "\n"
      ],
      "text/plain": [
       "[1]   4  16  36  64 100"
      ]
     },
     "metadata": {},
     "output_type": "display_data"
    },
    {
     "data": {
      "text/html": [
       "<ol>\n",
       "\t<li>1</li>\n",
       "\t<li>4</li>\n",
       "\t<li>1</li>\n",
       "</ol>\n"
      ],
      "text/latex": [
       "\\begin{enumerate}\n",
       "\\item 1\n",
       "\\item 4\n",
       "\\item 1\n",
       "\\end{enumerate}\n"
      ],
      "text/markdown": [
       "1. 1\n",
       "2. 4\n",
       "3. 1\n",
       "\n",
       "\n"
      ],
      "text/plain": [
       "[[1]]\n",
       "[1] 1\n",
       "\n",
       "[[2]]\n",
       "[1] 4\n",
       "\n",
       "[[3]]\n",
       "[1] 1\n"
      ]
     },
     "metadata": {},
     "output_type": "display_data"
    },
    {
     "data": {
      "text/html": [
       "'integer'"
      ],
      "text/latex": [
       "'integer'"
      ],
      "text/markdown": [
       "'integer'"
      ],
      "text/plain": [
       "[1] \"integer\""
      ]
     },
     "metadata": {},
     "output_type": "display_data"
    },
    {
     "data": {
      "text/html": [
       "'list'"
      ],
      "text/latex": [
       "'list'"
      ],
      "text/markdown": [
       "'list'"
      ],
      "text/plain": [
       "[1] \"list\""
      ]
     },
     "metadata": {},
     "output_type": "display_data"
    }
   ],
   "source": [
    "#sapply(v, function(x) x^2)\n",
    "#lv <- lapply(l, function(x) length(x))\n",
    "#lv\n",
    "#class(sapply(l, function(x) length(x)))\n",
    "#class(lapply(l, function(x) length(x)))"
   ]
  },
  {
   "cell_type": "markdown",
   "metadata": {},
   "source": [
    "In fact the "
   ]
  },
  {
   "cell_type": "code",
   "execution_count": 112,
   "metadata": {},
   "outputs": [
    {
     "data": {
      "text/html": [
       "<ol class=list-inline>\n",
       "\t<li>8</li>\n",
       "\t<li>32</li>\n",
       "\t<li>8</li>\n",
       "</ol>\n"
      ],
      "text/latex": [
       "\\begin{enumerate*}\n",
       "\\item 8\n",
       "\\item 32\n",
       "\\item 8\n",
       "\\end{enumerate*}\n"
      ],
      "text/markdown": [
       "1. 8\n",
       "2. 32\n",
       "3. 8\n",
       "\n",
       "\n"
      ],
      "text/plain": [
       "[1]  8 32  8"
      ]
     },
     "metadata": {},
     "output_type": "display_data"
    }
   ],
   "source": [
    "#sapply(l, function(x, y, z) (length(x) * y ^ z), y=2, z=3)"
   ]
  },
  {
   "cell_type": "markdown",
   "metadata": {},
   "source": [
    "### __Converting between complex strutures__\n",
    "\n",
    "Use the `as.vector()`, `as.list()`, `as.matrix()`, `as.data.frame()` functions to convert from one form to another. Except where lists are concerned, where you may need to use a little care. To go from a list to a vector use `unlist()` rather than `as.vector()` to avoid problems with lists with mixed data. When a data.frame or list contains different types of data and the conversion is to a single-type data-type, everything gets converted to characters.\n"
   ]
  },
  {
   "cell_type": "markdown",
   "metadata": {},
   "source": [
    "#### __Adding data to vectors__\n",
    "\n",
    "One of the common features of loops is to produce a vector in a way that is difficult to do with R's vector processing. For example, adding vectors is easy:"
   ]
  },
  {
   "cell_type": "code",
   "execution_count": 259,
   "metadata": {},
   "outputs": [
    {
     "name": "stdout",
     "output_type": "stream",
     "text": [
      "[1]  6  8 10 12\n"
     ]
    }
   ],
   "source": [
    "#v1 <- c(1,2,3,4)\n",
    "#v2 <- c(5,6,7,8)\n",
    "#v <- v1 + v2\n",
    "#print(v)"
   ]
  },
  {
   "cell_type": "markdown",
   "metadata": {},
   "source": [
    "You can add a new item to the end of a vector by using rbind. But now we come up against some R magic which we might want to undo. R here creates the output for us, but also creates a name for each row and forms that into a matrix. We can fix this using `unname()` and `as.vector()`. This is typical of the kind of wrangling we need to do with R. As well as `rbind()`, you can add data to new columns using `cbind()` in a very similar way."
   ]
  },
  {
   "cell_type": "code",
   "execution_count": 273,
   "metadata": {},
   "outputs": [
    {
     "data": {
      "text/html": [
       "<table>\n",
       "<caption>A matrix: 9 × 1 of type dbl</caption>\n",
       "<tbody>\n",
       "\t<tr><th scope=row>next_integer</th><td> 2</td></tr>\n",
       "\t<tr><th scope=row>next_integer</th><td> 3</td></tr>\n",
       "\t<tr><th scope=row>next_integer</th><td> 5</td></tr>\n",
       "\t<tr><th scope=row>next_integer</th><td> 8</td></tr>\n",
       "\t<tr><th scope=row>next_integer</th><td>13</td></tr>\n",
       "\t<tr><th scope=row>next_integer</th><td>21</td></tr>\n",
       "\t<tr><th scope=row>next_integer</th><td>34</td></tr>\n",
       "\t<tr><th scope=row>next_integer</th><td>55</td></tr>\n",
       "\t<tr><th scope=row>next_integer</th><td>89</td></tr>\n",
       "</tbody>\n",
       "</table>\n"
      ],
      "text/latex": [
       "A matrix: 9 × 1 of type dbl\n",
       "\\begin{tabular}{r|l}\n",
       "\tnext\\_integer &  2\\\\\n",
       "\tnext\\_integer &  3\\\\\n",
       "\tnext\\_integer &  5\\\\\n",
       "\tnext\\_integer &  8\\\\\n",
       "\tnext\\_integer & 13\\\\\n",
       "\tnext\\_integer & 21\\\\\n",
       "\tnext\\_integer & 34\\\\\n",
       "\tnext\\_integer & 55\\\\\n",
       "\tnext\\_integer & 89\\\\\n",
       "\\end{tabular}\n"
      ],
      "text/markdown": [
       "\n",
       "A matrix: 9 × 1 of type dbl\n",
       "\n",
       "| next_integer |  2 |\n",
       "| next_integer |  3 |\n",
       "| next_integer |  5 |\n",
       "| next_integer |  8 |\n",
       "| next_integer | 13 |\n",
       "| next_integer | 21 |\n",
       "| next_integer | 34 |\n",
       "| next_integer | 55 |\n",
       "| next_integer | 89 |\n",
       "\n"
      ],
      "text/plain": [
       "             [,1]\n",
       "next_integer  2  \n",
       "next_integer  3  \n",
       "next_integer  5  \n",
       "next_integer  8  \n",
       "next_integer 13  \n",
       "next_integer 21  \n",
       "next_integer 34  \n",
       "next_integer 55  \n",
       "next_integer 89  "
      ]
     },
     "metadata": {},
     "output_type": "display_data"
    },
    {
     "data": {
      "text/html": [
       "'matrix'"
      ],
      "text/latex": [
       "'matrix'"
      ],
      "text/markdown": [
       "'matrix'"
      ],
      "text/plain": [
       "[1] \"matrix\""
      ]
     },
     "metadata": {},
     "output_type": "display_data"
    },
    {
     "data": {
      "text/html": [
       "<table>\n",
       "<caption>A matrix: 9 × 1 of type dbl</caption>\n",
       "<tbody>\n",
       "\t<tr><td> 2</td></tr>\n",
       "\t<tr><td> 3</td></tr>\n",
       "\t<tr><td> 5</td></tr>\n",
       "\t<tr><td> 8</td></tr>\n",
       "\t<tr><td>13</td></tr>\n",
       "\t<tr><td>21</td></tr>\n",
       "\t<tr><td>34</td></tr>\n",
       "\t<tr><td>55</td></tr>\n",
       "\t<tr><td>89</td></tr>\n",
       "</tbody>\n",
       "</table>\n"
      ],
      "text/latex": [
       "A matrix: 9 × 1 of type dbl\n",
       "\\begin{tabular}{l}\n",
       "\t  2\\\\\n",
       "\t  3\\\\\n",
       "\t  5\\\\\n",
       "\t  8\\\\\n",
       "\t 13\\\\\n",
       "\t 21\\\\\n",
       "\t 34\\\\\n",
       "\t 55\\\\\n",
       "\t 89\\\\\n",
       "\\end{tabular}\n"
      ],
      "text/markdown": [
       "\n",
       "A matrix: 9 × 1 of type dbl\n",
       "\n",
       "|  2 |\n",
       "|  3 |\n",
       "|  5 |\n",
       "|  8 |\n",
       "| 13 |\n",
       "| 21 |\n",
       "| 34 |\n",
       "| 55 |\n",
       "| 89 |\n",
       "\n"
      ],
      "text/plain": [
       "      [,1]\n",
       " [1,]  2  \n",
       " [2,]  3  \n",
       " [3,]  5  \n",
       " [4,]  8  \n",
       " [5,] 13  \n",
       " [6,] 21  \n",
       " [7,] 34  \n",
       " [8,] 55  \n",
       " [9,] 89  "
      ]
     },
     "metadata": {},
     "output_type": "display_data"
    },
    {
     "data": {
      "text/html": [
       "'numeric'"
      ],
      "text/latex": [
       "'numeric'"
      ],
      "text/markdown": [
       "'numeric'"
      ],
      "text/plain": [
       "[1] \"numeric\""
      ]
     },
     "metadata": {},
     "output_type": "display_data"
    },
    {
     "data": {
      "text/html": [
       "<ol class=list-inline>\n",
       "\t<li>2</li>\n",
       "\t<li>3</li>\n",
       "\t<li>5</li>\n",
       "\t<li>8</li>\n",
       "\t<li>13</li>\n",
       "\t<li>21</li>\n",
       "\t<li>34</li>\n",
       "\t<li>55</li>\n",
       "\t<li>89</li>\n",
       "</ol>\n"
      ],
      "text/latex": [
       "\\begin{enumerate*}\n",
       "\\item 2\n",
       "\\item 3\n",
       "\\item 5\n",
       "\\item 8\n",
       "\\item 13\n",
       "\\item 21\n",
       "\\item 34\n",
       "\\item 55\n",
       "\\item 89\n",
       "\\end{enumerate*}\n"
      ],
      "text/markdown": [
       "1. 2\n",
       "2. 3\n",
       "3. 5\n",
       "4. 8\n",
       "5. 13\n",
       "6. 21\n",
       "7. 34\n",
       "8. 55\n",
       "9. 89\n",
       "\n",
       "\n"
      ],
      "text/plain": [
       "[1]  2  3  5  8 13 21 34 55 89"
      ]
     },
     "metadata": {},
     "output_type": "display_data"
    }
   ],
   "source": [
    "#last_integer <- 1\n",
    "#previous_integer <- 1\n",
    "#f <- vector()\n",
    "#repeat{\n",
    "#    next_integer <- last_integer + previous_integer\n",
    "#    if (next_integer > 100) break\n",
    "#    f <- rbind(f, next_integer)\n",
    "#    previous_integer <- last_integer\n",
    "#    last_integer <- next_integer\n",
    "#}\n",
    "#f\n",
    "#f <- unname(f)\n",
    "#class(f)\n",
    "#f\n",
    "#f <- as.vector(f)\n",
    "#class(f)\n",
    "#f"
   ]
  },
  {
   "cell_type": "markdown",
   "metadata": {},
   "source": [
    "<div style='background-color:lightgray;'><h3><b>Challenge</b>: Write a function to detect outliers.</h3>\n",
    "You can use the rule that any point more than 1.5 x the interquartile range above or below the 1st or 3rd quartile, or any other rule can find.\n",
    "</div>"
   ]
  },
  {
   "cell_type": "code",
   "execution_count": 127,
   "metadata": {},
   "outputs": [
    {
     "data": {
      "text/html": [
       "<ol class=list-inline>\n",
       "\t<li>-0.485442698434744</li>\n",
       "\t<li>0.3998232949244</li>\n",
       "\t<li>-0.713814781828873</li>\n",
       "\t<li>-1.45782116536322</li>\n",
       "\t<li>-0.978800233258538</li>\n",
       "\t<li>-0.216486604734279</li>\n",
       "\t<li>-1.39792808937374</li>\n",
       "\t<li>-0.328863714992345</li>\n",
       "\t<li>0.567151953418156</li>\n",
       "\t<li>1.93215873522936</li>\n",
       "</ol>\n"
      ],
      "text/latex": [
       "\\begin{enumerate*}\n",
       "\\item -0.485442698434744\n",
       "\\item 0.3998232949244\n",
       "\\item -0.713814781828873\n",
       "\\item -1.45782116536322\n",
       "\\item -0.978800233258538\n",
       "\\item -0.216486604734279\n",
       "\\item -1.39792808937374\n",
       "\\item -0.328863714992345\n",
       "\\item 0.567151953418156\n",
       "\\item 1.93215873522936\n",
       "\\end{enumerate*}\n"
      ],
      "text/markdown": [
       "1. -0.485442698434744\n",
       "2. 0.3998232949244\n",
       "3. -0.713814781828873\n",
       "4. -1.45782116536322\n",
       "5. -0.978800233258538\n",
       "6. -0.216486604734279\n",
       "7. -1.39792808937374\n",
       "8. -0.328863714992345\n",
       "9. 0.567151953418156\n",
       "10. 1.93215873522936\n",
       "\n",
       "\n"
      ],
      "text/plain": [
       " [1] -0.4854427  0.3998233 -0.7138148 -1.4578212 -0.9788002 -0.2164866\n",
       " [7] -1.3979281 -0.3288637  0.5671520  1.9321587"
      ]
     },
     "metadata": {},
     "output_type": "display_data"
    },
    {
     "data": {
      "text/plain": [
       "   Min. 1st Qu.  Median    Mean 3rd Qu.    Max. \n",
       "-1.4578 -0.9126 -0.4072 -0.2680  0.2457  1.9322 "
      ]
     },
     "metadata": {},
     "output_type": "display_data"
    },
    {
     "data": {
      "text/html": [
       "<table>\n",
       "<caption>A matrix: 10 × 1 of type lgl</caption>\n",
       "<tbody>\n",
       "\t<tr><th scope=row>is_outlier</th><td>FALSE</td></tr>\n",
       "\t<tr><th scope=row>is_outlier</th><td>FALSE</td></tr>\n",
       "\t<tr><th scope=row>is_outlier</th><td>FALSE</td></tr>\n",
       "\t<tr><th scope=row>is_outlier</th><td>FALSE</td></tr>\n",
       "\t<tr><th scope=row>is_outlier</th><td>FALSE</td></tr>\n",
       "\t<tr><th scope=row>is_outlier</th><td>FALSE</td></tr>\n",
       "\t<tr><th scope=row>is_outlier</th><td>FALSE</td></tr>\n",
       "\t<tr><th scope=row>is_outlier</th><td>FALSE</td></tr>\n",
       "\t<tr><th scope=row>is_outlier</th><td>FALSE</td></tr>\n",
       "\t<tr><th scope=row>is_outlier</th><td> TRUE</td></tr>\n",
       "</tbody>\n",
       "</table>\n"
      ],
      "text/latex": [
       "A matrix: 10 × 1 of type lgl\n",
       "\\begin{tabular}{r|l}\n",
       "\tis\\_outlier & FALSE\\\\\n",
       "\tis\\_outlier & FALSE\\\\\n",
       "\tis\\_outlier & FALSE\\\\\n",
       "\tis\\_outlier & FALSE\\\\\n",
       "\tis\\_outlier & FALSE\\\\\n",
       "\tis\\_outlier & FALSE\\\\\n",
       "\tis\\_outlier & FALSE\\\\\n",
       "\tis\\_outlier & FALSE\\\\\n",
       "\tis\\_outlier & FALSE\\\\\n",
       "\tis\\_outlier &  TRUE\\\\\n",
       "\\end{tabular}\n"
      ],
      "text/markdown": [
       "\n",
       "A matrix: 10 × 1 of type lgl\n",
       "\n",
       "| is_outlier | FALSE |\n",
       "| is_outlier | FALSE |\n",
       "| is_outlier | FALSE |\n",
       "| is_outlier | FALSE |\n",
       "| is_outlier | FALSE |\n",
       "| is_outlier | FALSE |\n",
       "| is_outlier | FALSE |\n",
       "| is_outlier | FALSE |\n",
       "| is_outlier | FALSE |\n",
       "| is_outlier |  TRUE |\n",
       "\n"
      ],
      "text/plain": [
       "           [,1] \n",
       "is_outlier FALSE\n",
       "is_outlier FALSE\n",
       "is_outlier FALSE\n",
       "is_outlier FALSE\n",
       "is_outlier FALSE\n",
       "is_outlier FALSE\n",
       "is_outlier FALSE\n",
       "is_outlier FALSE\n",
       "is_outlier FALSE\n",
       "is_outlier  TRUE"
      ]
     },
     "metadata": {},
     "output_type": "display_data"
    }
   ],
   "source": [
    "#outliers <- function(x) {\n",
    "#    result <- vector()\n",
    "#    iqr <- summary(x)[[5]] - summary(x)[[2]]\n",
    "#    lower_outlier <- summary(x)[[2]] - iqr\n",
    "#    upper_outlier <- summary(x)[[5]] + iqr\n",
    "#    for (i in 1:length(x)){\n",
    "#        is_outlier <- ((x[[i]] < lower_outlier) | (x[[i]] > upper_outlier))\n",
    "#        result <- rbind(result, is_outlier)\n",
    "#    }\n",
    "#    return(result)\n",
    "#}\n",
    "#x\n",
    "#summary(x)\n",
    "#outliers(x)"
   ]
  },
  {
   "cell_type": "markdown",
   "metadata": {},
   "source": [
    "<table style=\"text-align:center;\"><tr><td width=\"100\" height=\"20\" style=\"background-color:greenyellow\"></td><td width=\"100\" height=\"20\" style=\"background-color:hotpink\"></td></tr></table>"
   ]
  },
  {
   "cell_type": "markdown",
   "metadata": {},
   "source": [
    "### __Some Specialised R Components__\n",
    "\n",
    "As you saw above, there are six different types of simple data defined in R. In terms of statistics, we have integers and numerics to provide continuous variables or counts. We have logical variables that can define true or false. Another commonly used statictical variable type is a __categorical variable__ something which can take on a number of values, possibly ordered, but not necessarily often indicative of groups.\n",
    "\n",
    "For example, we could have the categories below for blood pressure (see [Wikipedia, Blood Pressure](https://en.wikipedia.org/wiki/Blood_pressure)).\n",
    "\n",
    "| Category | systolic BP, mmHg | diastolic BP, mmHg |\n",
    "|----------|-------------------|--------------------|\n",
    "| Optimal | < 120 | < 80 |\n",
    "| Normal | 120–129 | 80–84 |\n",
    "| High normal | 130–139 | 85–89 |\n",
    "| Grade 1 hypertension | 140–159 | 90–99 |\n",
    "| Grade 2 hypertension | 160–179 | 100–109 |\n",
    "| Grade 3 hypertension | ≥ 180 | ≥ 110 |\n",
    "| Isolated systolic hypertension | ≥ 140 | < 90 |\n",
    "\n",
    "We could have strings for each of these:\n",
    "\n",
    "\"optimal\", \"normal\", \"high-normal\", \"grade-1-hypertension\", \"grade-2-hypertension\", \"grade-3-hypertension\" and \"isolated-systolic-hypertension\"\n",
    "\n",
    "but we risk mis-spellings, capitalisation errors which we might not detect.\n",
    "\n",
    "R provides us with a neat way to reduce that risk and also to reduce the amount of memory our data uses: factors."
   ]
  },
  {
   "cell_type": "markdown",
   "metadata": {},
   "source": [
    "### __Factors__\n",
    "\n",
    "__Factors__ are a special form of vector used as a __categorical variable__ or for grouping. R maintains a vector as a set of values (levels) each of which has a name. So, for our blood pressure factor, R will create levels:\n",
    "\n",
    "\"optimal\", \"normal\", \"high-normal\", \"grade-1-hypertension\", \"grade-2-hypertension\", \"grade-3-hypertension\" and \"isolated-systolic-hypertension\"\n",
    "\n",
    "and it will create a look-up table and give each level an integer value starting at 1:\n",
    "\n",
    "\"optimal\" = 1, \"normal\" = 2, \"high-normal\" = 3, \"grade-1-hypertension\" = 4, \"grade-2-hypertension\" = 5, \"grade-3-hypertension\" = 6 and \"isolated-systolic-hypertension\" = 7\n",
    "\n",
    "A vector of this factor (i.e. a vector of blood-pressure results) wouls contain these values, e.g. c(1, 5, 2, 3, 2, 2, ... ), which R will display by converting the values to the names in the look-up table e.g. c(\"optimal\", \"grade-2-hypertension\", \"normal\", \"high-normal\", \"normal\", \"normal\" ... ).\n",
    "\n",
    "You can create a factor from data. You simply need to pass the data to the factor() function. It will look through the data and for the look-up table accordingly. However, it will order the factors alphabetically which is not always what you want, for example, with age range you might get '1-5' '10-15' '6-9' etc. when you'd prefer '1-5', '6-9', '10-15' etc. To get the correct levels you need to specify the levels explicitly.\n",
    "\n",
    "It will also, not include any values missing from your data vector."
   ]
  },
  {
   "cell_type": "code",
   "execution_count": 13,
   "metadata": {},
   "outputs": [
    {
     "name": "stdout",
     "output_type": "stream",
     "text": [
      "[1] optimal              grade-2-hypertension normal              \n",
      "[4] high-normal          normal               normal              \n",
      "[7] grade-1-hypertension\n",
      "5 Levels: grade-1-hypertension grade-2-hypertension high-normal ... optimal\n",
      "[1] optimal              grade-2-hypertension normal              \n",
      "[4] high-normal          normal               normal              \n",
      "[7] grade-1-hypertension\n",
      "7 Levels: optimal normal high-normal ... isolated-systolic-hypertension\n"
     ]
    }
   ],
   "source": [
    "#blood_pressure <- c(\"optimal\", \"grade-2-hypertension\", \"normal\", \"high-normal\", \"normal\", \"normal\", \"grade-1-hypertension\")\n",
    "#bp <- factor(blood_pressure)\n",
    "#print(bp)\n",
    "#bp <- factor(blood_pressure, levels = c(\"optimal\", \"normal\", \"high-normal\", \"grade-1-hypertension\", \"grade-2-hypertension\", \"grade-3-hypertension\", \"isolated-systolic-hypertension\"))\n",
    "#print(bp)"
   ]
  },
  {
   "cell_type": "markdown",
   "metadata": {},
   "source": [
    "To change the text used for the levels we just need to change the levels vector for the factor using `levels()`. This won't change the data, just the name used for each entry."
   ]
  },
  {
   "cell_type": "code",
   "execution_count": 14,
   "metadata": {},
   "outputs": [
    {
     "data": {
      "text/html": [
       "<style>\n",
       ".list-inline {list-style: none; margin:0; padding: 0}\n",
       ".list-inline>li {display: inline-block}\n",
       ".list-inline>li:not(:last-child)::after {content: \"\\00b7\"; padding: 0 .5ex}\n",
       "</style>\n",
       "<ol class=list-inline><li>'low'</li><li>'medium'</li><li>'high'</li><li>'very high'</li><li>'huge'</li><li>'massive'</li><li>'gargantuan'</li></ol>\n"
      ],
      "text/latex": [
       "\\begin{enumerate*}\n",
       "\\item 'low'\n",
       "\\item 'medium'\n",
       "\\item 'high'\n",
       "\\item 'very high'\n",
       "\\item 'huge'\n",
       "\\item 'massive'\n",
       "\\item 'gargantuan'\n",
       "\\end{enumerate*}\n"
      ],
      "text/markdown": [
       "1. 'low'\n",
       "2. 'medium'\n",
       "3. 'high'\n",
       "4. 'very high'\n",
       "5. 'huge'\n",
       "6. 'massive'\n",
       "7. 'gargantuan'\n",
       "\n",
       "\n"
      ],
      "text/plain": [
       "[1] \"low\"        \"medium\"     \"high\"       \"very high\"  \"huge\"      \n",
       "[6] \"massive\"    \"gargantuan\""
      ]
     },
     "metadata": {},
     "output_type": "display_data"
    },
    {
     "name": "stdout",
     "output_type": "stream",
     "text": [
      "[1] low       huge      medium    high      medium    medium    very high\n",
      "Levels: low medium high very high huge massive gargantuan\n"
     ]
    }
   ],
   "source": [
    "#levels(bp) <- c('low', 'medium', 'high', 'very high', 'huge', 'massive', 'gargantuan')\n",
    "#levels(bp)\n",
    "#print(bp)"
   ]
  },
  {
   "cell_type": "markdown",
   "metadata": {},
   "source": [
    "<div style='background-color:lightgray;'><h3><b>Exercise</b>: Change 'very high' to a single word value, something between 'high' and 'huge'.</h3>\n",
    "    In one line of code.\n",
    "</div>"
   ]
  },
  {
   "cell_type": "markdown",
   "metadata": {},
   "source": [
    "### __Looking ahead to data frames: some useful functions for groups__\n",
    "\n",
    "There are a couple of useful functions for grouping variables:\n",
    "\n",
    "* `stack()` will take a named list and build a two-column data frame, the column containing the values and the second a grouping factor which were the names of the list items.\n",
    "\n",
    "* `unstack()` will extract the pair of columns into n columns where n is the number of groups. Each column will be named from the name of the group.\n",
    "\n",
    "* `split()` will take a pair of variables, the values and the grooups and split these into a named list.\n",
    "\n",
    "* `tapply(column, group, function)` will apply the function to the data in column in groups according to group, for example, `tapply(deaths, agegp, mean)` will calculate the mean of the deaths column for each agegp."
   ]
  },
  {
   "cell_type": "markdown",
   "metadata": {},
   "source": [
    "<div style='background-color:lightgray;'><h3><b>Challenge</b>: Fix or explain the bug.</h3>\n",
    "We set up two variables with the same data and the same factors, but in a different order.\n",
    "</div>"
   ]
  },
  {
   "cell_type": "code",
   "execution_count": 17,
   "metadata": {},
   "outputs": [
    {
     "data": {
      "text/html": [
       "<table>\n",
       "<caption>A data.frame: 6 × 2</caption>\n",
       "<thead>\n",
       "\t<tr><th></th><th scope=col>values</th><th scope=col>ind</th></tr>\n",
       "\t<tr><th></th><th scope=col>&lt;dbl&gt;</th><th scope=col>&lt;fct&gt;</th></tr>\n",
       "</thead>\n",
       "<tbody>\n",
       "\t<tr><th scope=row>1</th><td> 2.585031</td><td>5-10</td></tr>\n",
       "\t<tr><th scope=row>2</th><td> 7.564503</td><td>5-10</td></tr>\n",
       "\t<tr><th scope=row>3</th><td> 4.615689</td><td>5-10</td></tr>\n",
       "\t<tr><th scope=row>4</th><td> 7.619810</td><td>5-10</td></tr>\n",
       "\t<tr><th scope=row>5</th><td>10.568961</td><td>5-10</td></tr>\n",
       "\t<tr><th scope=row>6</th><td> 7.540812</td><td>5-10</td></tr>\n",
       "</tbody>\n",
       "</table>\n"
      ],
      "text/latex": [
       "A data.frame: 6 × 2\n",
       "\\begin{tabular}{r|ll}\n",
       "  & values & ind\\\\\n",
       "  & <dbl> & <fct>\\\\\n",
       "\\hline\n",
       "\t1 &  2.585031 & 5-10\\\\\n",
       "\t2 &  7.564503 & 5-10\\\\\n",
       "\t3 &  4.615689 & 5-10\\\\\n",
       "\t4 &  7.619810 & 5-10\\\\\n",
       "\t5 & 10.568961 & 5-10\\\\\n",
       "\t6 &  7.540812 & 5-10\\\\\n",
       "\\end{tabular}\n"
      ],
      "text/markdown": [
       "\n",
       "A data.frame: 6 × 2\n",
       "\n",
       "| <!--/--> | values &lt;dbl&gt; | ind &lt;fct&gt; |\n",
       "|---|---|---|\n",
       "| 1 |  2.585031 | 5-10 |\n",
       "| 2 |  7.564503 | 5-10 |\n",
       "| 3 |  4.615689 | 5-10 |\n",
       "| 4 |  7.619810 | 5-10 |\n",
       "| 5 | 10.568961 | 5-10 |\n",
       "| 6 |  7.540812 | 5-10 |\n",
       "\n"
      ],
      "text/plain": [
       "  values    ind \n",
       "1  2.585031 5-10\n",
       "2  7.564503 5-10\n",
       "3  4.615689 5-10\n",
       "4  7.619810 5-10\n",
       "5 10.568961 5-10\n",
       "6  7.540812 5-10"
      ]
     },
     "metadata": {},
     "output_type": "display_data"
    },
    {
     "data": {
      "text/html": [
       "<style>\n",
       ".list-inline {list-style: none; margin:0; padding: 0}\n",
       ".list-inline>li {display: inline-block}\n",
       ".list-inline>li:not(:last-child)::after {content: \"\\00b7\"; padding: 0 .5ex}\n",
       "</style>\n",
       "<ol class=list-inline><li>5-10</li><li>&lt;5</li><li>&gt;10</li></ol>\n",
       "\n",
       "<details>\n",
       "\t<summary style=display:list-item;cursor:pointer>\n",
       "\t\t<strong>Levels</strong>:\n",
       "\t</summary>\n",
       "\t<style>\n",
       "\t.list-inline {list-style: none; margin:0; padding: 0}\n",
       "\t.list-inline>li {display: inline-block}\n",
       "\t.list-inline>li:not(:last-child)::after {content: \"\\00b7\"; padding: 0 .5ex}\n",
       "\t</style>\n",
       "\t<ol class=list-inline><li>'5-10'</li><li>'&lt;5'</li><li>'&gt;10'</li></ol>\n",
       "</details>"
      ],
      "text/latex": [
       "\\begin{enumerate*}\n",
       "\\item 5-10\n",
       "\\item <5\n",
       "\\item >10\n",
       "\\end{enumerate*}\n",
       "\n",
       "\\emph{Levels}: \\begin{enumerate*}\n",
       "\\item '5-10'\n",
       "\\item '<5'\n",
       "\\item '>10'\n",
       "\\end{enumerate*}\n"
      ],
      "text/markdown": [
       "1. 5-10\n",
       "2. &lt;5\n",
       "3. &gt;10\n",
       "\n",
       "\n",
       "\n",
       "**Levels**: 1. '5-10'\n",
       "2. '&lt;5'\n",
       "3. '&gt;10'\n",
       "\n",
       "\n"
      ],
      "text/plain": [
       "[1] 5-10 <5   >10 \n",
       "Levels: 5-10 <5 >10"
      ]
     },
     "metadata": {},
     "output_type": "display_data"
    },
    {
     "data": {
      "text/html": [
       "<table>\n",
       "<caption>A data.frame: 6 × 2</caption>\n",
       "<thead>\n",
       "\t<tr><th></th><th scope=col>values</th><th scope=col>ind</th></tr>\n",
       "\t<tr><th></th><th scope=col>&lt;dbl&gt;</th><th scope=col>&lt;fct&gt;</th></tr>\n",
       "</thead>\n",
       "<tbody>\n",
       "\t<tr><th scope=row>1</th><td>2.410262</td><td>&lt;5</td></tr>\n",
       "\t<tr><th scope=row>2</th><td>3.472255</td><td>&lt;5</td></tr>\n",
       "\t<tr><th scope=row>3</th><td>3.152817</td><td>&lt;5</td></tr>\n",
       "\t<tr><th scope=row>4</th><td>2.153387</td><td>&lt;5</td></tr>\n",
       "\t<tr><th scope=row>5</th><td>2.045810</td><td>&lt;5</td></tr>\n",
       "\t<tr><th scope=row>6</th><td>3.702500</td><td>&lt;5</td></tr>\n",
       "</tbody>\n",
       "</table>\n"
      ],
      "text/latex": [
       "A data.frame: 6 × 2\n",
       "\\begin{tabular}{r|ll}\n",
       "  & values & ind\\\\\n",
       "  & <dbl> & <fct>\\\\\n",
       "\\hline\n",
       "\t1 & 2.410262 & <5\\\\\n",
       "\t2 & 3.472255 & <5\\\\\n",
       "\t3 & 3.152817 & <5\\\\\n",
       "\t4 & 2.153387 & <5\\\\\n",
       "\t5 & 2.045810 & <5\\\\\n",
       "\t6 & 3.702500 & <5\\\\\n",
       "\\end{tabular}\n"
      ],
      "text/markdown": [
       "\n",
       "A data.frame: 6 × 2\n",
       "\n",
       "| <!--/--> | values &lt;dbl&gt; | ind &lt;fct&gt; |\n",
       "|---|---|---|\n",
       "| 1 | 2.410262 | &lt;5 |\n",
       "| 2 | 3.472255 | &lt;5 |\n",
       "| 3 | 3.152817 | &lt;5 |\n",
       "| 4 | 2.153387 | &lt;5 |\n",
       "| 5 | 2.045810 | &lt;5 |\n",
       "| 6 | 3.702500 | &lt;5 |\n",
       "\n"
      ],
      "text/plain": [
       "  values   ind\n",
       "1 2.410262 <5 \n",
       "2 3.472255 <5 \n",
       "3 3.152817 <5 \n",
       "4 2.153387 <5 \n",
       "5 2.045810 <5 \n",
       "6 3.702500 <5 "
      ]
     },
     "metadata": {},
     "output_type": "display_data"
    },
    {
     "data": {
      "text/html": [
       "<style>\n",
       ".list-inline {list-style: none; margin:0; padding: 0}\n",
       ".list-inline>li {display: inline-block}\n",
       ".list-inline>li:not(:last-child)::after {content: \"\\00b7\"; padding: 0 .5ex}\n",
       "</style>\n",
       "<ol class=list-inline><li>&lt;5</li><li>5-10</li><li>&gt;10</li></ol>\n",
       "\n",
       "<details>\n",
       "\t<summary style=display:list-item;cursor:pointer>\n",
       "\t\t<strong>Levels</strong>:\n",
       "\t</summary>\n",
       "\t<style>\n",
       "\t.list-inline {list-style: none; margin:0; padding: 0}\n",
       "\t.list-inline>li {display: inline-block}\n",
       "\t.list-inline>li:not(:last-child)::after {content: \"\\00b7\"; padding: 0 .5ex}\n",
       "\t</style>\n",
       "\t<ol class=list-inline><li>'&lt;5'</li><li>'5-10'</li><li>'&gt;10'</li></ol>\n",
       "</details>"
      ],
      "text/latex": [
       "\\begin{enumerate*}\n",
       "\\item <5\n",
       "\\item 5-10\n",
       "\\item >10\n",
       "\\end{enumerate*}\n",
       "\n",
       "\\emph{Levels}: \\begin{enumerate*}\n",
       "\\item '<5'\n",
       "\\item '5-10'\n",
       "\\item '>10'\n",
       "\\end{enumerate*}\n"
      ],
      "text/markdown": [
       "1. &lt;5\n",
       "2. 5-10\n",
       "3. &gt;10\n",
       "\n",
       "\n",
       "\n",
       "**Levels**: 1. '&lt;5'\n",
       "2. '5-10'\n",
       "3. '&gt;10'\n",
       "\n",
       "\n"
      ],
      "text/plain": [
       "[1] <5   5-10 >10 \n",
       "Levels: <5 5-10 >10"
      ]
     },
     "metadata": {},
     "output_type": "display_data"
    },
    {
     "data": {
      "text/html": [
       "<table>\n",
       "<caption>A data.frame: 6 × 2</caption>\n",
       "<thead>\n",
       "\t<tr><th></th><th scope=col>values</th><th scope=col>ind</th></tr>\n",
       "\t<tr><th></th><th scope=col>&lt;dbl&gt;</th><th scope=col>&lt;fct&gt;</th></tr>\n",
       "</thead>\n",
       "<tbody>\n",
       "\t<tr><th scope=row>1</th><td> 2.585031</td><td>5-10</td></tr>\n",
       "\t<tr><th scope=row>2</th><td> 7.564503</td><td>5-10</td></tr>\n",
       "\t<tr><th scope=row>3</th><td> 4.615689</td><td>5-10</td></tr>\n",
       "\t<tr><th scope=row>4</th><td> 7.619810</td><td>5-10</td></tr>\n",
       "\t<tr><th scope=row>5</th><td>10.568961</td><td>5-10</td></tr>\n",
       "\t<tr><th scope=row>6</th><td> 7.540812</td><td>5-10</td></tr>\n",
       "</tbody>\n",
       "</table>\n"
      ],
      "text/latex": [
       "A data.frame: 6 × 2\n",
       "\\begin{tabular}{r|ll}\n",
       "  & values & ind\\\\\n",
       "  & <dbl> & <fct>\\\\\n",
       "\\hline\n",
       "\t1 &  2.585031 & 5-10\\\\\n",
       "\t2 &  7.564503 & 5-10\\\\\n",
       "\t3 &  4.615689 & 5-10\\\\\n",
       "\t4 &  7.619810 & 5-10\\\\\n",
       "\t5 & 10.568961 & 5-10\\\\\n",
       "\t6 &  7.540812 & 5-10\\\\\n",
       "\\end{tabular}\n"
      ],
      "text/markdown": [
       "\n",
       "A data.frame: 6 × 2\n",
       "\n",
       "| <!--/--> | values &lt;dbl&gt; | ind &lt;fct&gt; |\n",
       "|---|---|---|\n",
       "| 1 |  2.585031 | 5-10 |\n",
       "| 2 |  7.564503 | 5-10 |\n",
       "| 3 |  4.615689 | 5-10 |\n",
       "| 4 |  7.619810 | 5-10 |\n",
       "| 5 | 10.568961 | 5-10 |\n",
       "| 6 |  7.540812 | 5-10 |\n",
       "\n"
      ],
      "text/plain": [
       "  values    ind \n",
       "1  2.585031 5-10\n",
       "2  7.564503 5-10\n",
       "3  4.615689 5-10\n",
       "4  7.619810 5-10\n",
       "5 10.568961 5-10\n",
       "6  7.540812 5-10"
      ]
     },
     "metadata": {},
     "output_type": "display_data"
    },
    {
     "data": {
      "text/html": [
       "<style>\n",
       ".list-inline {list-style: none; margin:0; padding: 0}\n",
       ".list-inline>li {display: inline-block}\n",
       ".list-inline>li:not(:last-child)::after {content: \"\\00b7\"; padding: 0 .5ex}\n",
       "</style>\n",
       "<ol class=list-inline><li>5-10</li><li>&lt;5</li><li>&gt;10</li></ol>\n",
       "\n",
       "<details>\n",
       "\t<summary style=display:list-item;cursor:pointer>\n",
       "\t\t<strong>Levels</strong>:\n",
       "\t</summary>\n",
       "\t<style>\n",
       "\t.list-inline {list-style: none; margin:0; padding: 0}\n",
       "\t.list-inline>li {display: inline-block}\n",
       "\t.list-inline>li:not(:last-child)::after {content: \"\\00b7\"; padding: 0 .5ex}\n",
       "\t</style>\n",
       "\t<ol class=list-inline><li>'&lt;5'</li><li>'5-10'</li><li>'&gt;10'</li></ol>\n",
       "</details>"
      ],
      "text/latex": [
       "\\begin{enumerate*}\n",
       "\\item 5-10\n",
       "\\item <5\n",
       "\\item >10\n",
       "\\end{enumerate*}\n",
       "\n",
       "\\emph{Levels}: \\begin{enumerate*}\n",
       "\\item '<5'\n",
       "\\item '5-10'\n",
       "\\item '>10'\n",
       "\\end{enumerate*}\n"
      ],
      "text/markdown": [
       "1. 5-10\n",
       "2. &lt;5\n",
       "3. &gt;10\n",
       "\n",
       "\n",
       "\n",
       "**Levels**: 1. '&lt;5'\n",
       "2. '5-10'\n",
       "3. '&gt;10'\n",
       "\n",
       "\n"
      ],
      "text/plain": [
       "[1] 5-10 <5   >10 \n",
       "Levels: <5 5-10 >10"
      ]
     },
     "metadata": {},
     "output_type": "display_data"
    },
    {
     "data": {
      "text/html": [
       "<style>\n",
       ".dl-inline {width: auto; margin:0; padding: 0}\n",
       ".dl-inline>dt, .dl-inline>dd {float: none; width: auto; display: inline-block}\n",
       ".dl-inline>dt::after {content: \":\\0020\"; padding-right: .5ex}\n",
       ".dl-inline>dt:not(:first-of-type) {padding-left: .5ex}\n",
       "</style><dl class=dl-inline><dt>&lt;5</dt><dd>2.71961452693508</dd><dt>5-10</dt><dd>6.98167396024477</dd><dt>&gt;10</dt><dd>13.2656715519958</dd></dl>\n"
      ],
      "text/latex": [
       "\\begin{description*}\n",
       "\\item[<5] 2.71961452693508\n",
       "\\item[5-10] 6.98167396024477\n",
       "\\item[>10] 13.2656715519958\n",
       "\\end{description*}\n"
      ],
      "text/markdown": [
       "&amp;lt;5\n",
       ":   2.719614526935085-10\n",
       ":   6.98167396024477&amp;gt;10\n",
       ":   13.2656715519958\n",
       "\n"
      ],
      "text/plain": [
       "       <5      5-10       >10 \n",
       " 2.719615  6.981674 13.265672 "
      ]
     },
     "metadata": {},
     "output_type": "display_data"
    },
    {
     "data": {
      "text/html": [
       "<style>\n",
       ".dl-inline {width: auto; margin:0; padding: 0}\n",
       ".dl-inline>dt, .dl-inline>dd {float: none; width: auto; display: inline-block}\n",
       ".dl-inline>dt::after {content: \":\\0020\"; padding-right: .5ex}\n",
       ".dl-inline>dt:not(:first-of-type) {padding-left: .5ex}\n",
       "</style><dl class=dl-inline><dt>&lt;5</dt><dd>2.71961452693508</dd><dt>5-10</dt><dd>6.98167396024477</dd><dt>&gt;10</dt><dd>13.2656715519958</dd></dl>\n"
      ],
      "text/latex": [
       "\\begin{description*}\n",
       "\\item[<5] 2.71961452693508\n",
       "\\item[5-10] 6.98167396024477\n",
       "\\item[>10] 13.2656715519958\n",
       "\\end{description*}\n"
      ],
      "text/markdown": [
       "&amp;lt;5\n",
       ":   2.719614526935085-10\n",
       ":   6.98167396024477&amp;gt;10\n",
       ":   13.2656715519958\n",
       "\n"
      ],
      "text/plain": [
       "       <5      5-10       >10 \n",
       " 2.719615  6.981674 13.265672 "
      ]
     },
     "metadata": {},
     "output_type": "display_data"
    },
    {
     "data": {
      "image/png": "[encoded data removed]",
      "text/plain": [
       "plot without title"
      ]
     },
     "metadata": {
      "image/png": {
       "height": 420,
       "width": 420
      }
     },
     "output_type": "display_data"
    }
   ],
   "source": [
    "par(mfrow=c(2,2))\n",
    "#under5 <- rnorm(10, mean=2.5, sd=1)\n",
    "#five2ten <- rnorm(10, mean=7.5, sd=2)\n",
    "#over10 <- rnorm(10, mean=12.5, sd=5)\n",
    "#data1 <- stack(list('5-10'=five2ten, '<5'=under5, '>10'=over10))\n",
    "#data2 <- stack(list('<5'=under5, '5-10'=five2ten, '>10'=over10))\n",
    "\n",
    "#head(data1)\n",
    "#plot(data1$values, pch=16, col=data1$ind)\n",
    "#legend(\"topleft\", legend=levels(data1$ind), pch=16, col=unique(data1$ind))\n",
    "#(unique(data1$ind))\n",
    "\n",
    "#head(data2)\n",
    "#plot(data2$values, pch=16, col=data2$ind)\n",
    "#legend(\"topleft\", legend=levels(data2$ind), pch=16, col=unique(data2$ind))\n",
    "#(unique(data2$ind))\n",
    "\n",
    "#data2 <- data1\n",
    "#data2$ind <- factor(data2$ind, levels=c('<5', '5-10', '>10'))\n",
    "#head(data2)\n",
    "#plot(data2$values, pch=16, col=data2$ind)\n",
    "#legend(\"topleft\", legend=levels(data2$ind), pch=16, col=unique(data2$ind))\n",
    "#(unique(data2$ind))\n",
    "\n",
    "#with(data2, tapply(values, ind, mean))\n",
    "## Which is the same as:\n",
    "#tapply(data2$values, data2$ind, mean)"
   ]
  },
  {
   "cell_type": "markdown",
   "metadata": {},
   "source": [
    "<table style=\"text-align:center;\"><tr><td width=\"100\" height=\"20\" style=\"background-color:greenyellow\"></td><td width=\"100\" height=\"20\" style=\"background-color:hotpink\"></td></tr></table>"
   ]
  },
  {
   "cell_type": "markdown",
   "metadata": {},
   "source": [
    "<table width='100%'><tr>\n",
    "    <td style='background-color:red; text-align:center; color: white;'><!--Foundation<!--hr size='5' style='border-color:red; background-color:red;'--></td>\n",
    "    <td style='background-color:yellow; text-align:center;'><!--Level 1<!--hr size='5' style='border-color:yellow; background-color:yellow;'--></td>\n",
    "    <td style='background-color:orange; text-align:center;'><!--Level 2<!--hr size='5' style='border-color:orange; background-color:orange;'--></td>\n",
    "    <td style='background-color:green; text-align:center; color: white;'><!--Level 3<!--hr size='5' style='border-color:orange; background-color:orange;'--></td>\n",
    "    <td style='background-color:blue; text-align:center; color: white;'><!--Level 4<!--hr size='5' style='border-color:orange; background-color:orange;'--></td>\n",
    "    <td style='background-color:purple; text-align:center; color: white;'><!--Level 5<!--hr size='5' style='border-color:orange; background-color:orange;'--></td>\n",
    "    <td style='background-color:brown; text-align:center; color: white;'><!--Level 6<!--hr size='5' style='border-color:orange; background-color:orange;'--></td>\n",
    "    <td style='background-color:black; text-align:center; color: white;'><!--Level 7<!--hr size='5' style='border-color:orange; background-color:orange;'--></td>\n",
    "</tr></table>"
   ]
  }
 ],
 "metadata": {
  "kernelspec": {
   "display_name": "R",
   "language": "R",
   "name": "ir"
  },
  "language_info": {
   "codemirror_mode": "r",
   "file_extension": ".r",
   "mimetype": "text/x-r-source",
   "name": "R",
   "pygments_lexer": "r",
   "version": "4.0.2"
  }
 },
 "nbformat": 4,
 "nbformat_minor": 4
}
