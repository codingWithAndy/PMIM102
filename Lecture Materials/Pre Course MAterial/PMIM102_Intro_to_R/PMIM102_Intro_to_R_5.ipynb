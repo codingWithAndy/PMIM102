{
 "cells": [
  {
   "cell_type": "markdown",
   "metadata": {},
   "source": [
    "<table width='100%'><tr>\n",
    "    <td style='background-color:red; text-align:center; color: white;'><!--Foundation<!--hr size='5' style='border-color:red; background-color:red;'--></td>\n",
    "    <td style='background-color:yellow; text-align:center;'><!--Level 1<!--hr size='5' style='border-color:yellow; background-color:yellow;'--></td>\n",
    "    <td style='background-color:orange; text-align:center;'><!--Level 2<!--hr size='5' style='border-color:orange; background-color:orange;'--></td>\n",
    "    <td style='background-color:green; text-align:center; color: white;'><!--Level 3<!--hr size='5' style='border-color:orange; background-color:orange;'--></td>\n",
    "    <td style='background-color:blue; text-align:center; color: white;'><!--Level 4<!--hr size='5' style='border-color:orange; background-color:orange;'--></td>\n",
    "    <td style='background-color:purple; text-align:center; color: white;'><!--Level 5<!--hr size='5' style='border-color:orange; background-color:orange;'--></td>\n",
    "    <td style='background-color:brown; text-align:center; color: white;'><!--Level 6<!--hr size='5' style='border-color:orange; background-color:orange;'--></td>\n",
    "    <td style='background-color:black; text-align:center; color: white;'><!--Level 7<!--hr size='5' style='border-color:orange; background-color:orange;'--></td>\n",
    "</tr></table>"
   ]
  },
  {
   "cell_type": "markdown",
   "metadata": {},
   "source": [
    "<table style='border-left:10px solid yellow;'><tr>\n",
    "    <td style='padding-left:20px;'>\n",
    "        <h2><i>Swansea University Medical School</i><br/><b>MSc Health Data Science</b></h2>\n",
    "        <h3>PMIM-102 Introduction to Scientific Computing in Healthcare</h3>\n",
    "        <h1><b>Introduction to Programming in R</b></h1>\n",
    "        <h2><b>1. Programming Fundamentals</b></h2>\n",
    "        <h2><i>Part 5: Data Frames.</i></h2>\n",
    "        <h3><i>September 2020</i></h3>\n",
    "        <h3><b>To-do</b></h3>\n",
    "        <ul>\n",
    "            <li>Fix bug in plotting with factors.</li>\n",
    "            <li>A formula challenge?</li>\n",
    "        </ul>\n",
    "    </td>\n",
    "    <td><img height='300' width='500' src='images/cover.jpg'/></td>\n",
    "</tr></table>"
   ]
  },
  {
   "cell_type": "markdown",
   "metadata": {},
   "source": [
    "## __Aim__: Learn how to make the computer do what we want and get information from the data\n",
    "\n",
    "The aim of this session is to introduce the basic principles of programming using <code>R</code>.\n",
    "\n",
    "### __A map of where we're going__\n",
    "\n",
    "1. __Simple Things__ - simple data (__variables__) and how to do things to them (__operators__) and calculate things (__expressions__). Also when and where variables are and are not valid.\n",
    "\n",
    "1. __What computers do best 1: Control__ - how to make decisions about whether to execute code and/or which code to execute; how to repeatedly execute code.\n",
    "\n",
    "1. __What computers do best 2: What they have been told. Again and agin ...__ - combining lots of simple operations into more complex functions - being able to perform, simple, repetitive or complex operations on the variables with just one command. Introducing some basic descriptive statistical functions.\n",
    "\n",
    "1. __What R does well: complex data and operations on all the bits at the same time__ - pairs, tuples, vectors, lists, matrices, arrays, tables, factors.\n",
    "\n",
    "1. <div style=\"background-color:yellow;\"><b>The Data Frame</b> - along with vectors, data frames are the data structure most frequently used in health data science.\n",
    "    <ul><li><b>Extra: R Specifics</b> - formulae.</li></ul></div>"
   ]
  },
  {
   "cell_type": "markdown",
   "metadata": {},
   "source": [
    "## __Navigation__\n",
    "\n",
    "_How to approach this section of the course depending on your experience of R_\n",
    "\n",
    "Although the code and exercises presented in this notebook will run here, it would be better to transfer the code to R-Studio and run and edit it in that environment as that will be the enviornment we use for the course.\n",
    "\n",
    "If you have programming experience in R ==> you may want to skim what we are doing in each section: you may be able to skip ahead to the ___challenges___ and ___FAST TRACK___ and attempt those exercises. If you complete those exercises before the rest of use have reached that point, ask yourself 'what-if' questions and play with the code or the look at something you have never used before or help others in the class.\n",
    "\n",
    "If you have some programming experience in another programming language ==> you can work through the Jupyter Notebook at your own speed but bear in mind that R is unique in many respects, so don't just skip things as it may come back to bite you :) When you get to the ___challenges___ and ___FAST TRACK___ please attempt those exercises and then experiment with R. \n",
    "\n",
    "In all cases, the internet is a superb resource if you have a problem - somebody almost certainly has had it before (bit remember that not all the answers are from experts)."
   ]
  },
  {
   "cell_type": "markdown",
   "metadata": {},
   "source": [
    "<table style=\"text-align:center;\"><tr><td width=\"100\" height=\"20\" style=\"background-color:greenyellow\"></td><td width=\"100\" height=\"20\" style=\"background-color:hotpink\"></td></tr></table>"
   ]
  },
  {
   "cell_type": "markdown",
   "metadata": {},
   "source": [
    "## __Data Frames__\n",
    "\n",
    "It is likely that you will manipulate most of the data you work with in __data-frames__. A data-frame is a rectangular structure in which each column can have a different data-type but all columns have the same length. Each column can have a name. You can create a data-frame manually, but most often you will import a data-frame from a file or by accessing a database using, for example, SQL calls."
   ]
  },
  {
   "cell_type": "code",
   "execution_count": 89,
   "metadata": {},
   "outputs": [
    {
     "name": "stdout",
     "output_type": "stream",
     "text": [
      "      name gender height weight\n",
      "1    Olive female   1.70     60\n",
      "2 Pinochio   male   1.01     30\n",
      "3  Queenie female   1.30     50\n",
      "4  Raphael   male   1.60     40\n"
     ]
    },
    {
     "data": {
      "text/html": [
       "'data.frame'"
      ],
      "text/latex": [
       "'data.frame'"
      ],
      "text/markdown": [
       "'data.frame'"
      ],
      "text/plain": [
       "[1] \"data.frame\""
      ]
     },
     "metadata": {},
     "output_type": "display_data"
    },
    {
     "data": {
      "text/html": [
       "<table>\n",
       "<caption>A data.frame: 4 × 1</caption>\n",
       "<thead>\n",
       "\t<tr><th scope=col>height</th></tr>\n",
       "\t<tr><th scope=col>&lt;dbl&gt;</th></tr>\n",
       "</thead>\n",
       "<tbody>\n",
       "\t<tr><td>1.70</td></tr>\n",
       "\t<tr><td>1.01</td></tr>\n",
       "\t<tr><td>1.30</td></tr>\n",
       "\t<tr><td>1.60</td></tr>\n",
       "</tbody>\n",
       "</table>\n"
      ],
      "text/latex": [
       "A data.frame: 4 × 1\n",
       "\\begin{tabular}{r|l}\n",
       " height\\\\\n",
       " <dbl>\\\\\n",
       "\\hline\n",
       "\t 1.70\\\\\n",
       "\t 1.01\\\\\n",
       "\t 1.30\\\\\n",
       "\t 1.60\\\\\n",
       "\\end{tabular}\n"
      ],
      "text/markdown": [
       "\n",
       "A data.frame: 4 × 1\n",
       "\n",
       "| height &lt;dbl&gt; |\n",
       "|---|\n",
       "| 1.70 |\n",
       "| 1.01 |\n",
       "| 1.30 |\n",
       "| 1.60 |\n",
       "\n"
      ],
      "text/plain": [
       "  height\n",
       "1 1.70  \n",
       "2 1.01  \n",
       "3 1.30  \n",
       "4 1.60  "
      ]
     },
     "metadata": {},
     "output_type": "display_data"
    },
    {
     "data": {
      "text/html": [
       "'data.frame'"
      ],
      "text/latex": [
       "'data.frame'"
      ],
      "text/markdown": [
       "'data.frame'"
      ],
      "text/plain": [
       "[1] \"data.frame\""
      ]
     },
     "metadata": {},
     "output_type": "display_data"
    },
    {
     "data": {
      "text/html": [
       "<ol class=list-inline>\n",
       "\t<li>1.7</li>\n",
       "\t<li>1.01</li>\n",
       "\t<li>1.3</li>\n",
       "\t<li>1.6</li>\n",
       "</ol>\n"
      ],
      "text/latex": [
       "\\begin{enumerate*}\n",
       "\\item 1.7\n",
       "\\item 1.01\n",
       "\\item 1.3\n",
       "\\item 1.6\n",
       "\\end{enumerate*}\n"
      ],
      "text/markdown": [
       "1. 1.7\n",
       "2. 1.01\n",
       "3. 1.3\n",
       "4. 1.6\n",
       "\n",
       "\n"
      ],
      "text/plain": [
       "[1] 1.70 1.01 1.30 1.60"
      ]
     },
     "metadata": {},
     "output_type": "display_data"
    },
    {
     "data": {
      "text/html": [
       "'numeric'"
      ],
      "text/latex": [
       "'numeric'"
      ],
      "text/markdown": [
       "'numeric'"
      ],
      "text/plain": [
       "[1] \"numeric\""
      ]
     },
     "metadata": {},
     "output_type": "display_data"
    },
    {
     "data": {
      "text/html": [
       "1.3"
      ],
      "text/latex": [
       "1.3"
      ],
      "text/markdown": [
       "1.3"
      ],
      "text/plain": [
       "[1] 1.3"
      ]
     },
     "metadata": {},
     "output_type": "display_data"
    }
   ],
   "source": [
    "#df <- data.frame(\n",
    "#    name=c('Olive', 'Pinochio', 'Queenie', 'Raphael'),\n",
    "#    gender=factor(c('female', 'male', 'female', 'male')), \n",
    "#    height=c(1.7, 1.01, 1.3, 1.6),\n",
    "#    weight=c(60, 30, 50, 40),\n",
    "#    stringsAsFactors=FALSE)\n",
    "#print(df)\n",
    "#class(df)\n",
    "#df[3]\n",
    "#class(df[3])\n",
    "#df[[3]]\n",
    "#class(df[[3]])\n",
    "#df[[3]][3]"
   ]
  },
  {
   "cell_type": "markdown",
   "metadata": {},
   "source": [
    "Note: if you type the above code into the R interpreter, you will find that, after you press 'RETURN' after `data.frame(` the prompt will appear as '+'. This indicates that the interpreter is expecting you to type more code. This will often occur if you cut-and-paste or edit a line of code and forget to balance the quotes or brackets."
   ]
  },
  {
   "cell_type": "markdown",
   "metadata": {},
   "source": [
    "To refer to a single column in a data-frame, you can use one of three methods:\n",
    "1. use '$' to refer to the column name.\n",
    "1. use [row, col] to select a row, a column or an entry. If you leave an entry blank, R will show the whole row or column (rows and columns start at 1).\n",
    "1. use the column name in the second position rather than the column number."
   ]
  },
  {
   "cell_type": "code",
   "execution_count": 71,
   "metadata": {},
   "outputs": [
    {
     "data": {
      "text/html": [
       "<ol class=list-inline>\n",
       "\t<li>1.7</li>\n",
       "\t<li>1.01</li>\n",
       "\t<li>1.3</li>\n",
       "\t<li>1.6</li>\n",
       "</ol>\n"
      ],
      "text/latex": [
       "\\begin{enumerate*}\n",
       "\\item 1.7\n",
       "\\item 1.01\n",
       "\\item 1.3\n",
       "\\item 1.6\n",
       "\\end{enumerate*}\n"
      ],
      "text/markdown": [
       "1. 1.7\n",
       "2. 1.01\n",
       "3. 1.3\n",
       "4. 1.6\n",
       "\n",
       "\n"
      ],
      "text/plain": [
       "[1] 1.70 1.01 1.30 1.60"
      ]
     },
     "metadata": {},
     "output_type": "display_data"
    },
    {
     "data": {
      "text/html": [
       "<ol class=list-inline>\n",
       "\t<li>1.7</li>\n",
       "\t<li>1.01</li>\n",
       "\t<li>1.3</li>\n",
       "\t<li>1.6</li>\n",
       "</ol>\n"
      ],
      "text/latex": [
       "\\begin{enumerate*}\n",
       "\\item 1.7\n",
       "\\item 1.01\n",
       "\\item 1.3\n",
       "\\item 1.6\n",
       "\\end{enumerate*}\n"
      ],
      "text/markdown": [
       "1. 1.7\n",
       "2. 1.01\n",
       "3. 1.3\n",
       "4. 1.6\n",
       "\n",
       "\n"
      ],
      "text/plain": [
       "[1] 1.70 1.01 1.30 1.60"
      ]
     },
     "metadata": {},
     "output_type": "display_data"
    },
    {
     "data": {
      "text/html": [
       "<ol class=list-inline>\n",
       "\t<li>1.7</li>\n",
       "\t<li>1.01</li>\n",
       "\t<li>1.3</li>\n",
       "\t<li>1.6</li>\n",
       "</ol>\n"
      ],
      "text/latex": [
       "\\begin{enumerate*}\n",
       "\\item 1.7\n",
       "\\item 1.01\n",
       "\\item 1.3\n",
       "\\item 1.6\n",
       "\\end{enumerate*}\n"
      ],
      "text/markdown": [
       "1. 1.7\n",
       "2. 1.01\n",
       "3. 1.3\n",
       "4. 1.6\n",
       "\n",
       "\n"
      ],
      "text/plain": [
       "[1] 1.70 1.01 1.30 1.60"
      ]
     },
     "metadata": {},
     "output_type": "display_data"
    }
   ],
   "source": [
    "#df$height\n",
    "#df[, 3]\n",
    "#df[, 'height']"
   ]
  },
  {
   "cell_type": "markdown",
   "metadata": {},
   "source": [
    "And you can use functions on data frame columns:"
   ]
  },
  {
   "cell_type": "code",
   "execution_count": 72,
   "metadata": {},
   "outputs": [
    {
     "data": {
      "text/html": [
       "1.4025"
      ],
      "text/latex": [
       "1.4025"
      ],
      "text/markdown": [
       "1.4025"
      ],
      "text/plain": [
       "[1] 1.4025"
      ]
     },
     "metadata": {},
     "output_type": "display_data"
    },
    {
     "data": {
      "text/html": [
       "<dl class=dl-horizontal>\n",
       "\t<dt>height</dt>\n",
       "\t\t<dd>1.4025</dd>\n",
       "\t<dt>weight</dt>\n",
       "\t\t<dd>45</dd>\n",
       "</dl>\n"
      ],
      "text/latex": [
       "\\begin{description*}\n",
       "\\item[height] 1.4025\n",
       "\\item[weight] 45\n",
       "\\end{description*}\n"
      ],
      "text/markdown": [
       "height\n",
       ":   1.4025weight\n",
       ":   45\n",
       "\n"
      ],
      "text/plain": [
       " height  weight \n",
       " 1.4025 45.0000 "
      ]
     },
     "metadata": {},
     "output_type": "display_data"
    }
   ],
   "source": [
    "#mean(df[, 3])\n",
    "#sapply(df[, 3:4], mean)"
   ]
  },
  {
   "cell_type": "markdown",
   "metadata": {},
   "source": [
    "### __Appending data to a data frame__\n",
    "It regularly happens that you may wish to add data to a data frame. This is quite straightforward, you just create a new row and rbind it to end of the existing data frame."
   ]
  },
  {
   "cell_type": "code",
   "execution_count": 90,
   "metadata": {},
   "outputs": [
    {
     "data": {
      "text/html": [
       "<table>\n",
       "<caption>A data.frame: 5 × 4</caption>\n",
       "<thead>\n",
       "\t<tr><th scope=col>name</th><th scope=col>gender</th><th scope=col>height</th><th scope=col>weight</th></tr>\n",
       "\t<tr><th scope=col>&lt;chr&gt;</th><th scope=col>&lt;fct&gt;</th><th scope=col>&lt;dbl&gt;</th><th scope=col>&lt;dbl&gt;</th></tr>\n",
       "</thead>\n",
       "<tbody>\n",
       "\t<tr><td>Olive   </td><td>female</td><td>1.70</td><td>60</td></tr>\n",
       "\t<tr><td>Pinochio</td><td>male  </td><td>1.01</td><td>30</td></tr>\n",
       "\t<tr><td>Queenie </td><td>female</td><td>1.30</td><td>50</td></tr>\n",
       "\t<tr><td>Raphael </td><td>male  </td><td>1.60</td><td>40</td></tr>\n",
       "\t<tr><td>Seren   </td><td>female</td><td>2.00</td><td>60</td></tr>\n",
       "</tbody>\n",
       "</table>\n"
      ],
      "text/latex": [
       "A data.frame: 5 × 4\n",
       "\\begin{tabular}{r|llll}\n",
       " name & gender & height & weight\\\\\n",
       " <chr> & <fct> & <dbl> & <dbl>\\\\\n",
       "\\hline\n",
       "\t Olive    & female & 1.70 & 60\\\\\n",
       "\t Pinochio & male   & 1.01 & 30\\\\\n",
       "\t Queenie  & female & 1.30 & 50\\\\\n",
       "\t Raphael  & male   & 1.60 & 40\\\\\n",
       "\t Seren    & female & 2.00 & 60\\\\\n",
       "\\end{tabular}\n"
      ],
      "text/markdown": [
       "\n",
       "A data.frame: 5 × 4\n",
       "\n",
       "| name &lt;chr&gt; | gender &lt;fct&gt; | height &lt;dbl&gt; | weight &lt;dbl&gt; |\n",
       "|---|---|---|---|\n",
       "| Olive    | female | 1.70 | 60 |\n",
       "| Pinochio | male   | 1.01 | 30 |\n",
       "| Queenie  | female | 1.30 | 50 |\n",
       "| Raphael  | male   | 1.60 | 40 |\n",
       "| Seren    | female | 2.00 | 60 |\n",
       "\n"
      ],
      "text/plain": [
       "  name     gender height weight\n",
       "1 Olive    female 1.70   60    \n",
       "2 Pinochio male   1.01   30    \n",
       "3 Queenie  female 1.30   50    \n",
       "4 Raphael  male   1.60   40    \n",
       "5 Seren    female 2.00   60    "
      ]
     },
     "metadata": {},
     "output_type": "display_data"
    }
   ],
   "source": [
    "#newOne <- data.frame(name=\"Seren\", gender=\"female\", height=2.0, weight=60)\n",
    "#df <- rbind(df, newOne)\n",
    "#df"
   ]
  },
  {
   "cell_type": "markdown",
   "metadata": {},
   "source": [
    "But this is really inefficient with large data frames as the whole data frame is copied everytime a row is added. If you know you are going to add a lot of data, it would be better to allocate an empty data frame first and then just place the data in the allocated structure.\n",
    "\n",
    "we can do this by specifying the type of data that each column will contain and the number of entries."
   ]
  },
  {
   "cell_type": "code",
   "execution_count": 93,
   "metadata": {},
   "outputs": [
    {
     "data": {
      "text/html": [
       "<table>\n",
       "<caption>A data.frame: 6 × 4</caption>\n",
       "<thead>\n",
       "\t<tr><th scope=col>name</th><th scope=col>gender</th><th scope=col>height</th><th scope=col>weight</th></tr>\n",
       "\t<tr><th scope=col>&lt;chr&gt;</th><th scope=col>&lt;fct&gt;</th><th scope=col>&lt;dbl&gt;</th><th scope=col>&lt;dbl&gt;</th></tr>\n",
       "</thead>\n",
       "<tbody>\n",
       "\t<tr><td></td><td>NA</td><td>0</td><td>0</td></tr>\n",
       "\t<tr><td></td><td>NA</td><td>0</td><td>0</td></tr>\n",
       "\t<tr><td></td><td>NA</td><td>0</td><td>0</td></tr>\n",
       "\t<tr><td></td><td>NA</td><td>0</td><td>0</td></tr>\n",
       "\t<tr><td></td><td>NA</td><td>0</td><td>0</td></tr>\n",
       "\t<tr><td></td><td>NA</td><td>0</td><td>0</td></tr>\n",
       "</tbody>\n",
       "</table>\n"
      ],
      "text/latex": [
       "A data.frame: 6 × 4\n",
       "\\begin{tabular}{r|llll}\n",
       " name & gender & height & weight\\\\\n",
       " <chr> & <fct> & <dbl> & <dbl>\\\\\n",
       "\\hline\n",
       "\t  & NA & 0 & 0\\\\\n",
       "\t  & NA & 0 & 0\\\\\n",
       "\t  & NA & 0 & 0\\\\\n",
       "\t  & NA & 0 & 0\\\\\n",
       "\t  & NA & 0 & 0\\\\\n",
       "\t  & NA & 0 & 0\\\\\n",
       "\\end{tabular}\n"
      ],
      "text/markdown": [
       "\n",
       "A data.frame: 6 × 4\n",
       "\n",
       "| name &lt;chr&gt; | gender &lt;fct&gt; | height &lt;dbl&gt; | weight &lt;dbl&gt; |\n",
       "|---|---|---|---|\n",
       "| <!----> | NA | 0 | 0 |\n",
       "| <!----> | NA | 0 | 0 |\n",
       "| <!----> | NA | 0 | 0 |\n",
       "| <!----> | NA | 0 | 0 |\n",
       "| <!----> | NA | 0 | 0 |\n",
       "| <!----> | NA | 0 | 0 |\n",
       "\n"
      ],
      "text/plain": [
       "  name gender height weight\n",
       "1      NA     0      0     \n",
       "2      NA     0      0     \n",
       "3      NA     0      0     \n",
       "4      NA     0      0     \n",
       "5      NA     0      0     \n",
       "6      NA     0      0     "
      ]
     },
     "metadata": {},
     "output_type": "display_data"
    },
    {
     "data": {
      "text/html": [
       "<table>\n",
       "<caption>A data.frame: 1 × 4</caption>\n",
       "<thead>\n",
       "\t<tr><th scope=col>name</th><th scope=col>gender</th><th scope=col>height</th><th scope=col>weight</th></tr>\n",
       "\t<tr><th scope=col>&lt;chr&gt;</th><th scope=col>&lt;fct&gt;</th><th scope=col>&lt;dbl&gt;</th><th scope=col>&lt;dbl&gt;</th></tr>\n",
       "</thead>\n",
       "<tbody>\n",
       "\t<tr><td>Olive</td><td>female</td><td>1.7</td><td>60</td></tr>\n",
       "</tbody>\n",
       "</table>\n"
      ],
      "text/latex": [
       "A data.frame: 1 × 4\n",
       "\\begin{tabular}{r|llll}\n",
       " name & gender & height & weight\\\\\n",
       " <chr> & <fct> & <dbl> & <dbl>\\\\\n",
       "\\hline\n",
       "\t Olive & female & 1.7 & 60\\\\\n",
       "\\end{tabular}\n"
      ],
      "text/markdown": [
       "\n",
       "A data.frame: 1 × 4\n",
       "\n",
       "| name &lt;chr&gt; | gender &lt;fct&gt; | height &lt;dbl&gt; | weight &lt;dbl&gt; |\n",
       "|---|---|---|---|\n",
       "| Olive | female | 1.7 | 60 |\n",
       "\n"
      ],
      "text/plain": [
       "  name  gender height weight\n",
       "1 Olive female 1.7    60    "
      ]
     },
     "metadata": {},
     "output_type": "display_data"
    },
    {
     "data": {
      "text/html": [
       "<table>\n",
       "<caption>A data.frame: 6 × 4</caption>\n",
       "<thead>\n",
       "\t<tr><th scope=col>name</th><th scope=col>gender</th><th scope=col>height</th><th scope=col>weight</th></tr>\n",
       "\t<tr><th scope=col>&lt;chr&gt;</th><th scope=col>&lt;fct&gt;</th><th scope=col>&lt;dbl&gt;</th><th scope=col>&lt;dbl&gt;</th></tr>\n",
       "</thead>\n",
       "<tbody>\n",
       "\t<tr><td>Olive</td><td>female</td><td>1.7</td><td>60</td></tr>\n",
       "\t<tr><td>     </td><td>NA    </td><td>0.0</td><td> 0</td></tr>\n",
       "\t<tr><td>     </td><td>NA    </td><td>0.0</td><td> 0</td></tr>\n",
       "\t<tr><td>     </td><td>NA    </td><td>0.0</td><td> 0</td></tr>\n",
       "\t<tr><td>     </td><td>NA    </td><td>0.0</td><td> 0</td></tr>\n",
       "\t<tr><td>     </td><td>NA    </td><td>0.0</td><td> 0</td></tr>\n",
       "</tbody>\n",
       "</table>\n"
      ],
      "text/latex": [
       "A data.frame: 6 × 4\n",
       "\\begin{tabular}{r|llll}\n",
       " name & gender & height & weight\\\\\n",
       " <chr> & <fct> & <dbl> & <dbl>\\\\\n",
       "\\hline\n",
       "\t Olive & female & 1.7 & 60\\\\\n",
       "\t       & NA     & 0.0 &  0\\\\\n",
       "\t       & NA     & 0.0 &  0\\\\\n",
       "\t       & NA     & 0.0 &  0\\\\\n",
       "\t       & NA     & 0.0 &  0\\\\\n",
       "\t       & NA     & 0.0 &  0\\\\\n",
       "\\end{tabular}\n"
      ],
      "text/markdown": [
       "\n",
       "A data.frame: 6 × 4\n",
       "\n",
       "| name &lt;chr&gt; | gender &lt;fct&gt; | height &lt;dbl&gt; | weight &lt;dbl&gt; |\n",
       "|---|---|---|---|\n",
       "| Olive | female | 1.7 | 60 |\n",
       "| <!----> | NA     | 0.0 |  0 |\n",
       "| <!----> | NA     | 0.0 |  0 |\n",
       "| <!----> | NA     | 0.0 |  0 |\n",
       "| <!----> | NA     | 0.0 |  0 |\n",
       "| <!----> | NA     | 0.0 |  0 |\n",
       "\n"
      ],
      "text/plain": [
       "  name  gender height weight\n",
       "1 Olive female 1.7    60    \n",
       "2       NA     0.0     0    \n",
       "3       NA     0.0     0    \n",
       "4       NA     0.0     0    \n",
       "5       NA     0.0     0    \n",
       "6       NA     0.0     0    "
      ]
     },
     "metadata": {},
     "output_type": "display_data"
    }
   ],
   "source": [
    "#N <- 1000\n",
    "#huge_df <- data.frame(name=character(N), gender=factor(N, levels=c(\"male\", \"female\")), height=numeric(N), weight=numeric(N), stringsAsFactors=FALSE)\n",
    "#head(huge_df)\n",
    "#df[1,]\n",
    "#huge_df[1, ] <- df[1, ]\n",
    "#head(huge_df)"
   ]
  },
  {
   "cell_type": "markdown",
   "metadata": {},
   "source": [
    "### __Removing NAs__\n",
    "One more useful thing is the ability to remove rows with NAs."
   ]
  },
  {
   "cell_type": "code",
   "execution_count": 94,
   "metadata": {},
   "outputs": [
    {
     "data": {
      "text/html": [
       "<table>\n",
       "<caption>A data.frame: 1 × 4</caption>\n",
       "<thead>\n",
       "\t<tr><th scope=col>name</th><th scope=col>gender</th><th scope=col>height</th><th scope=col>weight</th></tr>\n",
       "\t<tr><th scope=col>&lt;chr&gt;</th><th scope=col>&lt;fct&gt;</th><th scope=col>&lt;dbl&gt;</th><th scope=col>&lt;dbl&gt;</th></tr>\n",
       "</thead>\n",
       "<tbody>\n",
       "\t<tr><td>Olive</td><td>female</td><td>1.7</td><td>60</td></tr>\n",
       "</tbody>\n",
       "</table>\n"
      ],
      "text/latex": [
       "A data.frame: 1 × 4\n",
       "\\begin{tabular}{r|llll}\n",
       " name & gender & height & weight\\\\\n",
       " <chr> & <fct> & <dbl> & <dbl>\\\\\n",
       "\\hline\n",
       "\t Olive & female & 1.7 & 60\\\\\n",
       "\\end{tabular}\n"
      ],
      "text/markdown": [
       "\n",
       "A data.frame: 1 × 4\n",
       "\n",
       "| name &lt;chr&gt; | gender &lt;fct&gt; | height &lt;dbl&gt; | weight &lt;dbl&gt; |\n",
       "|---|---|---|---|\n",
       "| Olive | female | 1.7 | 60 |\n",
       "\n"
      ],
      "text/plain": [
       "  name  gender height weight\n",
       "1 Olive female 1.7    60    "
      ]
     },
     "metadata": {},
     "output_type": "display_data"
    }
   ],
   "source": [
    "#clean_huge_df <- na.omit(huge_df)\n",
    "#head(clean_huge_df)"
   ]
  },
  {
   "cell_type": "markdown",
   "metadata": {},
   "source": [
    "#### __Working the R way__\n",
    "\n",
    "Despite the availability of loops and control structures, R has been designed to be manipulated as vectors (columns or variables in data frames) with the looping processes implemented optimally under the bonnet. The normal way to work, therefore, is with data frames and passing an entire data frame or matbe just one column to a function as a parameter."
   ]
  },
  {
   "cell_type": "markdown",
   "metadata": {},
   "source": [
    "### __Exercise__: Create a data frame and try out some descriptive statistics\n",
    "Use the functions we have seen so far to create a number of vectors, combine them to form a data frame, use various analysis functions on the data frame variables, for example, `summary()`, `aggregate()`.\n",
    "How would you use `apply()` to generate a mean across the rows? How about a sum across the rows?\n",
    "Apply some data frame functions to the data frame: mean(df), cov(df) and cor(df).\n",
    "Create some contingency tables from the variables. If you have continuous variable, how might you create some ordinal/categorical variables?"
   ]
  },
  {
   "cell_type": "code",
   "execution_count": 165,
   "metadata": {},
   "outputs": [
    {
     "data": {
      "text/plain": [
       "      col1                 col2               col3               col4         \n",
       " Min.   :-0.4999935   Min.   :-0.99872   Min.   :-0.49865   Min.   :-1.49713  \n",
       " 1st Qu.:-0.2536900   1st Qu.:-0.45906   1st Qu.:-0.23826   1st Qu.:-0.77337  \n",
       " Median : 0.0028158   Median : 0.07756   Median : 0.02873   Median :-0.07671  \n",
       " Mean   :-0.0003782   Mean   : 0.03373   Mean   : 0.01097   Mean   :-0.04723  \n",
       " 3rd Qu.: 0.2489912   3rd Qu.: 0.55214   3rd Qu.: 0.25916   3rd Qu.: 0.70858  \n",
       " Max.   : 0.4996239   Max.   : 0.99826   Max.   : 0.49600   Max.   : 1.49418  \n",
       "      col5               col6           \n",
       " Min.   :-0.49922   Min.   :-1.9996314  \n",
       " 1st Qu.:-0.27092   1st Qu.:-1.0290940  \n",
       " Median :-0.01488   Median :-0.0392538  \n",
       " Mean   :-0.01042   Mean   :-0.0001588  \n",
       " 3rd Qu.: 0.23753   3rd Qu.: 1.0454080  \n",
       " Max.   : 0.49814   Max.   : 1.9932834  "
      ]
     },
     "metadata": {},
     "output_type": "display_data"
    },
    {
     "data": {
      "text/plain": [
       "\n",
       "\tOne Sample t-test\n",
       "\n",
       "data:  df$col1\n",
       "t = -0.041326, df = 999, p-value = 0.967\n",
       "alternative hypothesis: true mean is not equal to 0\n",
       "95 percent confidence interval:\n",
       " -0.01833521  0.01757887\n",
       "sample estimates:\n",
       "    mean of x \n",
       "-0.0003781711 \n"
      ]
     },
     "metadata": {},
     "output_type": "display_data"
    },
    {
     "data": {
      "text/plain": [
       "\n",
       "\tWelch Two Sample t-test\n",
       "\n",
       "data:  col1 and col2\n",
       "t = -1.6675, df = 1469.5, p-value = 0.09563\n",
       "alternative hypothesis: true difference in means is not equal to 0\n",
       "95 percent confidence interval:\n",
       " -0.074229439  0.006015217\n",
       "sample estimates:\n",
       "    mean of x     mean of y \n",
       "-0.0003781711  0.0337289401 \n"
      ]
     },
     "metadata": {},
     "output_type": "display_data"
    },
    {
     "data": {
      "text/plain": [
       "\n",
       "\tShapiro-Wilk normality test\n",
       "\n",
       "data:  df$sum_1_6\n",
       "W = 0.99624, p-value = 0.01613\n"
      ]
     },
     "metadata": {},
     "output_type": "display_data"
    },
    {
     "data": {
      "text/html": [
       "<table>\n",
       "<caption>A data.frame: 6 × 9</caption>\n",
       "<thead>\n",
       "\t<tr><th scope=col>col1</th><th scope=col>col2</th><th scope=col>col3</th><th scope=col>col4</th><th scope=col>col5</th><th scope=col>col6</th><th scope=col>sum_1_6</th><th scope=col>cat1</th><th scope=col>cat2</th></tr>\n",
       "\t<tr><th scope=col>&lt;dbl&gt;</th><th scope=col>&lt;dbl&gt;</th><th scope=col>&lt;dbl&gt;</th><th scope=col>&lt;dbl&gt;</th><th scope=col>&lt;dbl&gt;</th><th scope=col>&lt;dbl&gt;</th><th scope=col>&lt;dbl&gt;</th><th scope=col>&lt;lgl&gt;</th><th scope=col>&lt;fct&gt;</th></tr>\n",
       "</thead>\n",
       "<tbody>\n",
       "\t<tr><td> 0.30987781</td><td> 0.681481707</td><td>-0.02479105</td><td> 0.27168602</td><td> 0.05790154</td><td>-0.2553997</td><td> 1.0407564</td><td>FALSE</td><td>(0.25,0.501]    </td></tr>\n",
       "\t<tr><td>-0.25353357</td><td>-0.110551549</td><td> 0.25320566</td><td>-1.43150019</td><td>-0.42300691</td><td>-1.0481873</td><td>-3.0135739</td><td>FALSE</td><td>(-0.501,-0.25]  </td></tr>\n",
       "\t<tr><td> 0.17651518</td><td>-0.003058363</td><td>-0.11499706</td><td> 0.02732523</td><td> 0.08594255</td><td> 1.8127082</td><td> 1.9844358</td><td> TRUE</td><td>(-0.000185,0.25]</td></tr>\n",
       "\t<tr><td> 0.01184133</td><td> 0.345297175</td><td> 0.03794742</td><td> 0.87345941</td><td> 0.46429676</td><td> 1.8424663</td><td> 3.5753084</td><td> TRUE</td><td>(-0.000185,0.25]</td></tr>\n",
       "\t<tr><td> 0.42767022</td><td> 0.308993440</td><td> 0.07887405</td><td> 0.90281941</td><td> 0.47413035</td><td>-1.6226231</td><td> 0.5698643</td><td>FALSE</td><td>(0.25,0.501]    </td></tr>\n",
       "\t<tr><td> 0.30218193</td><td>-0.625472478</td><td> 0.35711753</td><td>-0.11131737</td><td>-0.24391796</td><td> 1.3500183</td><td> 1.0286100</td><td> TRUE</td><td>(0.25,0.501]    </td></tr>\n",
       "</tbody>\n",
       "</table>\n"
      ],
      "text/latex": [
       "A data.frame: 6 × 9\n",
       "\\begin{tabular}{r|lllllllll}\n",
       " col1 & col2 & col3 & col4 & col5 & col6 & sum\\_1\\_6 & cat1 & cat2\\\\\n",
       " <dbl> & <dbl> & <dbl> & <dbl> & <dbl> & <dbl> & <dbl> & <lgl> & <fct>\\\\\n",
       "\\hline\n",
       "\t  0.30987781 &  0.681481707 & -0.02479105 &  0.27168602 &  0.05790154 & -0.2553997 &  1.0407564 & FALSE & (0.25,0.501{]}    \\\\\n",
       "\t -0.25353357 & -0.110551549 &  0.25320566 & -1.43150019 & -0.42300691 & -1.0481873 & -3.0135739 & FALSE & (-0.501,-0.25{]}  \\\\\n",
       "\t  0.17651518 & -0.003058363 & -0.11499706 &  0.02732523 &  0.08594255 &  1.8127082 &  1.9844358 &  TRUE & (-0.000185,0.25{]}\\\\\n",
       "\t  0.01184133 &  0.345297175 &  0.03794742 &  0.87345941 &  0.46429676 &  1.8424663 &  3.5753084 &  TRUE & (-0.000185,0.25{]}\\\\\n",
       "\t  0.42767022 &  0.308993440 &  0.07887405 &  0.90281941 &  0.47413035 & -1.6226231 &  0.5698643 & FALSE & (0.25,0.501{]}    \\\\\n",
       "\t  0.30218193 & -0.625472478 &  0.35711753 & -0.11131737 & -0.24391796 &  1.3500183 &  1.0286100 &  TRUE & (0.25,0.501{]}    \\\\\n",
       "\\end{tabular}\n"
      ],
      "text/markdown": [
       "\n",
       "A data.frame: 6 × 9\n",
       "\n",
       "| col1 &lt;dbl&gt; | col2 &lt;dbl&gt; | col3 &lt;dbl&gt; | col4 &lt;dbl&gt; | col5 &lt;dbl&gt; | col6 &lt;dbl&gt; | sum_1_6 &lt;dbl&gt; | cat1 &lt;lgl&gt; | cat2 &lt;fct&gt; |\n",
       "|---|---|---|---|---|---|---|---|---|\n",
       "|  0.30987781 |  0.681481707 | -0.02479105 |  0.27168602 |  0.05790154 | -0.2553997 |  1.0407564 | FALSE | (0.25,0.501]     |\n",
       "| -0.25353357 | -0.110551549 |  0.25320566 | -1.43150019 | -0.42300691 | -1.0481873 | -3.0135739 | FALSE | (-0.501,-0.25]   |\n",
       "|  0.17651518 | -0.003058363 | -0.11499706 |  0.02732523 |  0.08594255 |  1.8127082 |  1.9844358 |  TRUE | (-0.000185,0.25] |\n",
       "|  0.01184133 |  0.345297175 |  0.03794742 |  0.87345941 |  0.46429676 |  1.8424663 |  3.5753084 |  TRUE | (-0.000185,0.25] |\n",
       "|  0.42767022 |  0.308993440 |  0.07887405 |  0.90281941 |  0.47413035 | -1.6226231 |  0.5698643 | FALSE | (0.25,0.501]     |\n",
       "|  0.30218193 | -0.625472478 |  0.35711753 | -0.11131737 | -0.24391796 |  1.3500183 |  1.0286100 |  TRUE | (0.25,0.501]     |\n",
       "\n"
      ],
      "text/plain": [
       "  col1        col2         col3        col4        col5        col6      \n",
       "1  0.30987781  0.681481707 -0.02479105  0.27168602  0.05790154 -0.2553997\n",
       "2 -0.25353357 -0.110551549  0.25320566 -1.43150019 -0.42300691 -1.0481873\n",
       "3  0.17651518 -0.003058363 -0.11499706  0.02732523  0.08594255  1.8127082\n",
       "4  0.01184133  0.345297175  0.03794742  0.87345941  0.46429676  1.8424663\n",
       "5  0.42767022  0.308993440  0.07887405  0.90281941  0.47413035 -1.6226231\n",
       "6  0.30218193 -0.625472478  0.35711753 -0.11131737 -0.24391796  1.3500183\n",
       "  sum_1_6    cat1  cat2            \n",
       "1  1.0407564 FALSE (0.25,0.501]    \n",
       "2 -3.0135739 FALSE (-0.501,-0.25]  \n",
       "3  1.9844358  TRUE (-0.000185,0.25]\n",
       "4  3.5753084  TRUE (-0.000185,0.25]\n",
       "5  0.5698643 FALSE (0.25,0.501]    \n",
       "6  1.0286100  TRUE (0.25,0.501]    "
      ]
     },
     "metadata": {},
     "output_type": "display_data"
    },
    {
     "name": "stderr",
     "output_type": "stream",
     "text": [
      "Warning message in var(if (is.vector(x) || is.factor(x)) x else as.double(x), na.rm = na.rm):\n",
      "\"Calling var(x) on a factor x is deprecated and will become an error.\n",
      "  Use something like 'all(duplicated(x)[-1L])' to test for a constant vector.\"Warning message in var(if (is.vector(x) || is.factor(x)) x else as.double(x), na.rm = na.rm):\n",
      "\"Calling var(x) on a factor x is deprecated and will become an error.\n",
      "  Use something like 'all(duplicated(x)[-1L])' to test for a constant vector.\"Warning message in var(if (is.vector(x) || is.factor(x)) x else as.double(x), na.rm = na.rm):\n",
      "\"Calling var(x) on a factor x is deprecated and will become an error.\n",
      "  Use something like 'all(duplicated(x)[-1L])' to test for a constant vector.\"Warning message in var(if (is.vector(x) || is.factor(x)) x else as.double(x), na.rm = na.rm):\n",
      "\"Calling var(x) on a factor x is deprecated and will become an error.\n",
      "  Use something like 'all(duplicated(x)[-1L])' to test for a constant vector.\""
     ]
    },
    {
     "data": {
      "text/html": [
       "<table>\n",
       "<caption>A data.frame: 4 × 10</caption>\n",
       "<thead>\n",
       "\t<tr><th scope=col>Group.1</th><th scope=col>col1</th><th scope=col>col2</th><th scope=col>col3</th><th scope=col>col4</th><th scope=col>col5</th><th scope=col>col6</th><th scope=col>sum_1_6</th><th scope=col>cat1</th><th scope=col>cat2</th></tr>\n",
       "\t<tr><th scope=col>&lt;fct&gt;</th><th scope=col>&lt;dbl&gt;</th><th scope=col>&lt;dbl&gt;</th><th scope=col>&lt;dbl&gt;</th><th scope=col>&lt;dbl&gt;</th><th scope=col>&lt;dbl&gt;</th><th scope=col>&lt;dbl&gt;</th><th scope=col>&lt;dbl&gt;</th><th scope=col>&lt;dbl&gt;</th><th scope=col>&lt;dbl&gt;</th></tr>\n",
       "</thead>\n",
       "<tbody>\n",
       "\t<tr><td>(-0.501,-0.25]   </td><td>0.07442038</td><td>0.5630959</td><td>0.2845249</td><td>0.8764915</td><td>0.2864348</td><td>1.168926</td><td>1.578526</td><td>0.4959297</td><td>0</td></tr>\n",
       "\t<tr><td>(-0.25,-0.000185]</td><td>0.07154775</td><td>0.5979489</td><td>0.2877852</td><td>0.8546766</td><td>0.2947277</td><td>1.141774</td><td>1.622422</td><td>0.4769705</td><td>0</td></tr>\n",
       "\t<tr><td>(-0.000185,0.25] </td><td>0.07541697</td><td>0.5733119</td><td>0.2871666</td><td>0.8353140</td><td>0.3001450</td><td>1.155712</td><td>1.660293</td><td>0.4859787</td><td>0</td></tr>\n",
       "\t<tr><td>(0.25,0.501]     </td><td>0.07094506</td><td>0.5787240</td><td>0.2849161</td><td>0.8695821</td><td>0.2930309</td><td>1.210547</td><td>1.771152</td><td>0.4732864</td><td>0</td></tr>\n",
       "</tbody>\n",
       "</table>\n"
      ],
      "text/latex": [
       "A data.frame: 4 × 10\n",
       "\\begin{tabular}{r|llllllllll}\n",
       " Group.1 & col1 & col2 & col3 & col4 & col5 & col6 & sum\\_1\\_6 & cat1 & cat2\\\\\n",
       " <fct> & <dbl> & <dbl> & <dbl> & <dbl> & <dbl> & <dbl> & <dbl> & <dbl> & <dbl>\\\\\n",
       "\\hline\n",
       "\t (-0.501,-0.25{]}    & 0.07442038 & 0.5630959 & 0.2845249 & 0.8764915 & 0.2864348 & 1.168926 & 1.578526 & 0.4959297 & 0\\\\\n",
       "\t (-0.25,-0.000185{]} & 0.07154775 & 0.5979489 & 0.2877852 & 0.8546766 & 0.2947277 & 1.141774 & 1.622422 & 0.4769705 & 0\\\\\n",
       "\t (-0.000185,0.25{]}  & 0.07541697 & 0.5733119 & 0.2871666 & 0.8353140 & 0.3001450 & 1.155712 & 1.660293 & 0.4859787 & 0\\\\\n",
       "\t (0.25,0.501{]}      & 0.07094506 & 0.5787240 & 0.2849161 & 0.8695821 & 0.2930309 & 1.210547 & 1.771152 & 0.4732864 & 0\\\\\n",
       "\\end{tabular}\n"
      ],
      "text/markdown": [
       "\n",
       "A data.frame: 4 × 10\n",
       "\n",
       "| Group.1 &lt;fct&gt; | col1 &lt;dbl&gt; | col2 &lt;dbl&gt; | col3 &lt;dbl&gt; | col4 &lt;dbl&gt; | col5 &lt;dbl&gt; | col6 &lt;dbl&gt; | sum_1_6 &lt;dbl&gt; | cat1 &lt;dbl&gt; | cat2 &lt;dbl&gt; |\n",
       "|---|---|---|---|---|---|---|---|---|---|\n",
       "| (-0.501,-0.25]    | 0.07442038 | 0.5630959 | 0.2845249 | 0.8764915 | 0.2864348 | 1.168926 | 1.578526 | 0.4959297 | 0 |\n",
       "| (-0.25,-0.000185] | 0.07154775 | 0.5979489 | 0.2877852 | 0.8546766 | 0.2947277 | 1.141774 | 1.622422 | 0.4769705 | 0 |\n",
       "| (-0.000185,0.25]  | 0.07541697 | 0.5733119 | 0.2871666 | 0.8353140 | 0.3001450 | 1.155712 | 1.660293 | 0.4859787 | 0 |\n",
       "| (0.25,0.501]      | 0.07094506 | 0.5787240 | 0.2849161 | 0.8695821 | 0.2930309 | 1.210547 | 1.771152 | 0.4732864 | 0 |\n",
       "\n"
      ],
      "text/plain": [
       "  Group.1           col1       col2      col3      col4      col5      col6    \n",
       "1 (-0.501,-0.25]    0.07442038 0.5630959 0.2845249 0.8764915 0.2864348 1.168926\n",
       "2 (-0.25,-0.000185] 0.07154775 0.5979489 0.2877852 0.8546766 0.2947277 1.141774\n",
       "3 (-0.000185,0.25]  0.07541697 0.5733119 0.2871666 0.8353140 0.3001450 1.155712\n",
       "4 (0.25,0.501]      0.07094506 0.5787240 0.2849161 0.8695821 0.2930309 1.210547\n",
       "  sum_1_6  cat1      cat2\n",
       "1 1.578526 0.4959297 0   \n",
       "2 1.622422 0.4769705 0   \n",
       "3 1.660293 0.4859787 0   \n",
       "4 1.771152 0.4732864 0   "
      ]
     },
     "metadata": {},
     "output_type": "display_data"
    },
    {
     "data": {
      "text/plain": [
       "       cat2\n",
       "cat1    (-0.501,-0.25] (-0.25,-0.000185] (-0.000185,0.25] (0.25,0.501]\n",
       "  FALSE            145               160              156          166\n",
       "  TRUE             109                85               95           84"
      ]
     },
     "metadata": {},
     "output_type": "display_data"
    },
    {
     "data": {
      "image/png": "[encoded data removed]",
      "text/plain": [
       "Plot with title \"Histogram of df$sum_1_6\""
      ]
     },
     "metadata": {},
     "output_type": "display_data"
    }
   ],
   "source": [
    "#n <- 1000\n",
    "## Some random variables, mean 0.\n",
    "#c1 <- runif(n) - 0.5\n",
    "#c2 <- 2*(runif(n) - 0.5)\n",
    "#c3 <- runif(n) - 0.5\n",
    "#c4 <- 3*(runif(n) - 0.5)\n",
    "#c5 <- runif(n) - 0.5\n",
    "#c6 <- 4*(runif(n) - 0.5)\n",
    "## Add them to a data frame.\n",
    "#df <- data.frame(col1=c1, col2=c2, col3=c3, col4=c4, col5=c5, col6=c6)\n",
    "\n",
    "#summary(df, mean)\n",
    "## Run a t-test, and the same thing with the 'with' syntax.\n",
    "#t.test(df$col1)\n",
    "#with(df, t.test(col1, col2))\n",
    "## Apply a mean across rows:\n",
    "## df <- cbind(df, mean=apply(df[, 1:3], 1, mean))\n",
    "## Apply a sum across rows:\n",
    "#df <- cbind(df, sum_1_6=apply(df[, 1:6], 1, sum))\n",
    "## A shapiro test for normality.\n",
    "#library(MASS)\n",
    "#shapiro.test(df$sum_1_6)\n",
    "## Plotting and fitting a distribution.\n",
    "#hist(df$sum_1_6, ylim=c(0, n/3))\n",
    "#x <- seq(-3, 3, 0.01)\n",
    "#f <- fitdistr(df$sum_1_6, densfun='normal')\n",
    "#lines(x, (n/2)*dnorm(x, mean=f[[1]][1], sd=f[[1]][2]), col='red')\n",
    "#curve((n/3)*dnorm(x, mean(df$sum_1_6), sd(df$sum_1_6)), add=TRUE, col='darkblue', lwd=2)\n",
    "\n",
    "## Create a categorical variable from column 1.\n",
    "#df$cat1 <- df$col6>0.5\n",
    "#df$cat2 <- cut(df$col1, breaks=4)\n",
    "#head(df)\n",
    "#aggregate(df, by=list(df$cat2), FUN=sd)\n",
    "#with(df, table(cat1, cat2))"
   ]
  },
  {
   "cell_type": "markdown",
   "metadata": {},
   "source": [
    "### __Exercise__: Repeat with some real data.\n",
    "Read the CSV file, `sulphur.dioxide.csv`<sup>\\*</sup>, and explore and manipulate that data.\n",
    "\n",
    "`sulphur.dioxide <- read.csv('sulphur.dioxide.csv')`\n",
    "\n",
    "<sup>\\*</sup> Michael Crawley, data file used in his book Statistics, An Introduction using R, Wiley, 2015."
   ]
  },
  {
   "cell_type": "code",
   "execution_count": 94,
   "metadata": {},
   "outputs": [
    {
     "data": {
      "text/html": [
       "<table>\n",
       "<caption>A data.frame: 6 × 7</caption>\n",
       "<thead>\n",
       "\t<tr><th scope=col>Pollution</th><th scope=col>Temp</th><th scope=col>Industry</th><th scope=col>Population</th><th scope=col>Wind</th><th scope=col>Rain</th><th scope=col>Wet.days</th></tr>\n",
       "\t<tr><th scope=col>&lt;int&gt;</th><th scope=col>&lt;dbl&gt;</th><th scope=col>&lt;int&gt;</th><th scope=col>&lt;int&gt;</th><th scope=col>&lt;dbl&gt;</th><th scope=col>&lt;dbl&gt;</th><th scope=col>&lt;int&gt;</th></tr>\n",
       "</thead>\n",
       "<tbody>\n",
       "\t<tr><td>24</td><td>61.5</td><td>368</td><td>497</td><td>9.1</td><td>48.34</td><td>115</td></tr>\n",
       "\t<tr><td>30</td><td>55.6</td><td>291</td><td>593</td><td>8.3</td><td>43.11</td><td>123</td></tr>\n",
       "\t<tr><td>56</td><td>55.9</td><td>775</td><td>622</td><td>9.5</td><td>35.89</td><td>105</td></tr>\n",
       "\t<tr><td>28</td><td>51.0</td><td>137</td><td>176</td><td>8.7</td><td>15.17</td><td> 89</td></tr>\n",
       "\t<tr><td>14</td><td>68.4</td><td>136</td><td>529</td><td>8.8</td><td>54.47</td><td>116</td></tr>\n",
       "\t<tr><td>46</td><td>47.6</td><td> 44</td><td>116</td><td>8.8</td><td>33.36</td><td>135</td></tr>\n",
       "</tbody>\n",
       "</table>\n"
      ],
      "text/latex": [
       "A data.frame: 6 × 7\n",
       "\\begin{tabular}{r|lllllll}\n",
       " Pollution & Temp & Industry & Population & Wind & Rain & Wet.days\\\\\n",
       " <int> & <dbl> & <int> & <int> & <dbl> & <dbl> & <int>\\\\\n",
       "\\hline\n",
       "\t 24 & 61.5 & 368 & 497 & 9.1 & 48.34 & 115\\\\\n",
       "\t 30 & 55.6 & 291 & 593 & 8.3 & 43.11 & 123\\\\\n",
       "\t 56 & 55.9 & 775 & 622 & 9.5 & 35.89 & 105\\\\\n",
       "\t 28 & 51.0 & 137 & 176 & 8.7 & 15.17 &  89\\\\\n",
       "\t 14 & 68.4 & 136 & 529 & 8.8 & 54.47 & 116\\\\\n",
       "\t 46 & 47.6 &  44 & 116 & 8.8 & 33.36 & 135\\\\\n",
       "\\end{tabular}\n"
      ],
      "text/markdown": [
       "\n",
       "A data.frame: 6 × 7\n",
       "\n",
       "| Pollution &lt;int&gt; | Temp &lt;dbl&gt; | Industry &lt;int&gt; | Population &lt;int&gt; | Wind &lt;dbl&gt; | Rain &lt;dbl&gt; | Wet.days &lt;int&gt; |\n",
       "|---|---|---|---|---|---|---|\n",
       "| 24 | 61.5 | 368 | 497 | 9.1 | 48.34 | 115 |\n",
       "| 30 | 55.6 | 291 | 593 | 8.3 | 43.11 | 123 |\n",
       "| 56 | 55.9 | 775 | 622 | 9.5 | 35.89 | 105 |\n",
       "| 28 | 51.0 | 137 | 176 | 8.7 | 15.17 |  89 |\n",
       "| 14 | 68.4 | 136 | 529 | 8.8 | 54.47 | 116 |\n",
       "| 46 | 47.6 |  44 | 116 | 8.8 | 33.36 | 135 |\n",
       "\n"
      ],
      "text/plain": [
       "  Pollution Temp Industry Population Wind Rain  Wet.days\n",
       "1 24        61.5 368      497        9.1  48.34 115     \n",
       "2 30        55.6 291      593        8.3  43.11 123     \n",
       "3 56        55.9 775      622        9.5  35.89 105     \n",
       "4 28        51.0 137      176        8.7  15.17  89     \n",
       "5 14        68.4 136      529        8.8  54.47 116     \n",
       "6 46        47.6  44      116        8.8  33.36 135     "
      ]
     },
     "metadata": {},
     "output_type": "display_data"
    }
   ],
   "source": [
    "sulphur.dioxide <- read.csv('data/sulphur.dioxide.csv')\n",
    "head(sulphur.dioxide)"
   ]
  },
  {
   "cell_type": "markdown",
   "metadata": {},
   "source": [
    "<table style=\"text-align:center;\"><tr><td width=\"100\" height=\"20\" style=\"background-color:greenyellow\"></td><td width=\"100\" height=\"20\" style=\"background-color:hotpink\"></td></tr></table>"
   ]
  },
  {
   "cell_type": "markdown",
   "metadata": {},
   "source": [
    "### __Formulas__\n",
    "\n",
    "__Formulas__ are primarily used in modelling to specify to the model which predictor variables should effect the response variable and the kind of relationship that is of interest.\n",
    "\n",
    "The general format is:\n",
    "\n",
    "`y ~ x`\n",
    "\n",
    "to indicate that the response, y, is expected to depend on x. We will see this later when we come to do linear regressions with the `lm()` function, e.g. `lm(y ~ x, data=d)` will perform a linear regression on the data frame d which contains the variables, x and y.\n",
    "\n",
    "There are some additional elements that can be used in a formula:\n",
    "* `y ~ a + b` --- multiple regression; the predictor variables, a and b will be fitted.\n",
    "* `y ~ - a` --- exclude a (useful with '.', see below).\n",
    "* `y ~ x - 1` --- No intercept, regress through the origin.\n",
    "* `y ~ .` --- With a specified data=data-frame, use all the variable in the data-frame.\n",
    "* `y ~ a:b` --- the interaction between a and b will be fitted.\n",
    "* `y ~ a + b + a:b` = `y ~ a * b` --- multiple regression with interaction between the variables.\n",
    "* `y|a` --- conditioning, include y given a.\n",
    "* `y ~ (a + b + c) ^ 3` --- interaction terms up to three-way.\n",
    "* `y ~ I(a+b)` --- the values 'a+b' will be fitted to the response variable rather than the separate variables.\n",
    "* `y ~ log(a)` --- log(a) will be fitted to the response variable.\n",
    "\n",
    "Several other functions use the formula notation to simplify their operation. For example, you can plot grouped boxplots according to a grouping variable with:\n",
    "\n",
    "`boxplot(y ~ x)`"
   ]
  },
  {
   "cell_type": "code",
   "execution_count": 164,
   "metadata": {},
   "outputs": [
    {
     "data": {
      "image/png": "[encoded data removed]",
      "text/plain": [
       "plot without title"
      ]
     },
     "metadata": {},
     "output_type": "display_data"
    }
   ],
   "source": [
    "par(mfrow=c(2,2))\n",
    "#variable1 <- rnorm(10, mean=5, sd=5)\n",
    "#variable2 <- rnorm(10, mean=7.5, sd=5)\n",
    "#variable3 <- rnorm(10, mean=10, sd=1)\n",
    "#data <- stack(list('1'=variable1, '2'=variable2, '3'=variable3))\n",
    "#with(data, boxplot(values ~ ind))\n",
    "\n",
    "#variable <- data.frame(value=rnorm(1000))\n",
    "#variable$cut <- cut(variable$value, breaks=12)\n",
    "#variable$section <- rep(1:10)\n",
    "#variable$alternate <- rep(1:2)\n",
    "#with(variable, boxplot(value ~ cut))\n",
    "#variable$value[variable$section==4] <- variable$value[variable$section==4] + 2\n",
    "#with(variable, boxplot(value ~ section))\n",
    "#with(variable, boxplot(value ~ alternate + section))"
   ]
  },
  {
   "cell_type": "markdown",
   "metadata": {},
   "source": [
    "<table style=\"text-align:center;\"><tr><td width=\"100\" height=\"20\" style=\"background-color:greenyellow\"></td><td width=\"100\" height=\"20\" style=\"background-color:hotpink\"></td></tr></table>"
   ]
  },
  {
   "cell_type": "markdown",
   "metadata": {},
   "source": [
    "<table width='100%'><tr>\n",
    "    <td style='background-color:red; text-align:center; color: white;'><!--Foundation<!--hr size='5' style='border-color:red; background-color:red;'--></td>\n",
    "    <td style='background-color:yellow; text-align:center;'><!--Level 1<!--hr size='5' style='border-color:yellow; background-color:yellow;'--></td>\n",
    "    <td style='background-color:orange; text-align:center;'><!--Level 2<!--hr size='5' style='border-color:orange; background-color:orange;'--></td>\n",
    "    <td style='background-color:green; text-align:center; color: white;'><!--Level 3<!--hr size='5' style='border-color:orange; background-color:orange;'--></td>\n",
    "    <td style='background-color:blue; text-align:center; color: white;'><!--Level 4<!--hr size='5' style='border-color:orange; background-color:orange;'--></td>\n",
    "    <td style='background-color:purple; text-align:center; color: white;'><!--Level 5<!--hr size='5' style='border-color:orange; background-color:orange;'--></td>\n",
    "    <td style='background-color:brown; text-align:center; color: white;'><!--Level 6<!--hr size='5' style='border-color:orange; background-color:orange;'--></td>\n",
    "    <td style='background-color:black; text-align:center; color: white;'><!--Level 7<!--hr size='5' style='border-color:orange; background-color:orange;'--></td>\n",
    "</tr></table>"
   ]
  }
 ],
 "metadata": {
  "kernelspec": {
   "display_name": "R",
   "language": "R",
   "name": "ir"
  },
  "language_info": {
   "codemirror_mode": "r",
   "file_extension": ".r",
   "mimetype": "text/x-r-source",
   "name": "R",
   "pygments_lexer": "r",
   "version": "4.0.2"
  }
 },
 "nbformat": 4,
 "nbformat_minor": 4
}
