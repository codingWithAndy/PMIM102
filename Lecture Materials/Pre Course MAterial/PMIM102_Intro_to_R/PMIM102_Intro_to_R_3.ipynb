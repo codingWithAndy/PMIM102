{
 "cells": [
  {
   "cell_type": "markdown",
   "metadata": {},
   "source": [
    "<table width='100%'><tr>\n",
    "    <td style='background-color:red; text-align:center; color: white;'><!--Foundation<!--hr size='5' style='border-color:red; background-color:red;'--></td>\n",
    "    <td style='background-color:yellow; text-align:center;'><!--Level 1<!--hr size='5' style='border-color:yellow; background-color:yellow;'--></td>\n",
    "    <td style='background-color:orange; text-align:center;'><!--Level 2<!--hr size='5' style='border-color:orange; background-color:orange;'--></td>\n",
    "    <td style='background-color:green; text-align:center; color: white;'><!--Level 3<!--hr size='5' style='border-color:orange; background-color:orange;'--></td>\n",
    "    <td style='background-color:blue; text-align:center; color: white;'><!--Level 4<!--hr size='5' style='border-color:orange; background-color:orange;'--></td>\n",
    "    <td style='background-color:purple; text-align:center; color: white;'><!--Level 5<!--hr size='5' style='border-color:orange; background-color:orange;'--></td>\n",
    "    <td style='background-color:brown; text-align:center; color: white;'><!--Level 6<!--hr size='5' style='border-color:orange; background-color:orange;'--></td>\n",
    "    <td style='background-color:black; text-align:center; color: white;'><!--Level 7<!--hr size='5' style='border-color:orange; background-color:orange;'--></td>\n",
    "</tr></table>"
   ]
  },
  {
   "cell_type": "markdown",
   "metadata": {},
   "source": [
    "<table style='border-left:10px solid yellow;'><tr>\n",
    "    <td style='padding-left:20px;'>\n",
    "        <h2><i>Swansea University Medical School</i><br/><b>MSc Health Data Science</b></h2>\n",
    "        <h3>PMIM-102 Introduction to Scientific Computing in Healthcare</h3>\n",
    "        <h1><b>Introduction to Programming in R</b></h1>\n",
    "        <h2><b>1. Programming Fundamentals</b></h2>\n",
    "        <h2><i>Part 3: Functions.</i></h2>\n",
    "        <h3><i>September 2020</i></h3>\n",
    "        <h3><b>To-do</b></h3>\n",
    "        <ul>\n",
    "            <li>Fix bug in plotting with factors.</li>\n",
    "            <li>A formula challenge?</li>\n",
    "        </ul>\n",
    "    </td>\n",
    "    <td><img height='300' width='500' src='images/cover.jpg'/></td>\n",
    "</tr></table>"
   ]
  },
  {
   "cell_type": "markdown",
   "metadata": {},
   "source": [
    "## __Aim__: Learn how to make the computer do what we want and get information from the data\n",
    "\n",
    "The aim of this session is to introduce the basic principles of programming using <code>R</code>.\n",
    "\n",
    "### __A map of where we're going__\n",
    "\n",
    "1. __Simple Things__ - simple data (__variables__) and how to do things to them (__operators__) and calculate things (__expressions__). Also when and where variables are and are not valid.\n",
    "\n",
    "1. __What computers do best 1: Control__ - how to make decisions about whether to execute code and/or which code to execute; how to repeatedly execute code.\n",
    "\n",
    "1. <div style=\"background-color:yellow;\"><b>What computers do best 2: What they have been told. Again and agin ...</b> - combining lots of simple operations into more complex functions - being able to perform, simple, repetitive or complex operations on the variables with just one command. Introducing some basic descriptive statistical functions.</div>\n",
    "\n",
    "1. __What R does well: complex data and operations on all the bits at the same time__ - pairs, tuples, vectors, lists, matrices, arrays, tables, factors.\n",
    "\n",
    "1. __The Data Frame__ - along with vectors, data frames are the data structure most frequently used in health data science.\n",
    "    * __Extra: R Specifics__ - formulae."
   ]
  },
  {
   "cell_type": "markdown",
   "metadata": {},
   "source": [
    "## __Navigation__\n",
    "\n",
    "_How to approach this section of the course depending on your experience of R_\n",
    "\n",
    "Although the code and exercises presented in this notebook will run here, it would be better to transfer the code to R-Studio and run and edit it in that environment as that will be the enviornment we use for the course.\n",
    "\n",
    "If you have programming experience in R ==> you may want to skim what we are doing in each section: you may be able to skip ahead to the ___challenges___ and ___FAST TRACK___ and attempt those exercises. If you complete those exercises before the rest of use have reached that point, ask yourself 'what-if' questions and play with the code or the look at something you have never used before or help others in the class.\n",
    "\n",
    "If you have some programming experience in another programming language ==> you can work through the Jupyter Notebook at your own speed but bear in mind that R is unique in many respects, so don't just skip things as it may come back to bite you :) When you get to the ___challenges___ and ___FAST TRACK___ please attempt those exercises and then experiment with R. \n",
    "\n",
    "In all cases, the internet is a superb resource if you have a problem - somebody almost certainly has had it before (bit remember that not all the answers are from experts)."
   ]
  },
  {
   "cell_type": "markdown",
   "metadata": {},
   "source": [
    "<table style=\"text-align:center;\"><tr><td width=\"100\" height=\"20\" style=\"background-color:greenyellow\"></td><td width=\"100\" height=\"20\" style=\"background-color:hotpink\"></td></tr></table>"
   ]
  },
  {
   "cell_type": "markdown",
   "metadata": {},
   "source": [
    "## __Functions__\n",
    "\n",
    "The operators that we started with above are, in fact, special cases of functions. A function is a unit of code that does something (performs a function) on some data. You run a function by calling it by name and providing the names of the data it needs as a list of arguments. We have already used several functions, `class()`, `is.na()` etc. For example, in\n",
    "\n",
    "`print(any_number)`\n",
    "\n",
    "`print` is the name of the function and `any_number` the argument (in this case there's one argument, but there could be several).\n",
    "\n",
    "Another useful function for displaying output is `cat()`. It produces a concatentated string of the parameters separated by a space, ' '). For example,\n",
    "\n",
    "`cat('The value of x is', x, '.')`\n",
    "\n",
    "will produce, 'The value of x is 5 .'"
   ]
  },
  {
   "cell_type": "code",
   "execution_count": 146,
   "metadata": {},
   "outputs": [
    {
     "name": "stdout",
     "output_type": "stream",
     "text": [
      "The value of x is 5 ."
     ]
    }
   ],
   "source": [
    "#x <- 5\n",
    "#cat('The value of x is', x, '.')"
   ]
  },
  {
   "cell_type": "markdown",
   "metadata": {},
   "source": [
    "`cat` is more useful than `print` when it comes to printing more than one thing at a time, but doesn't work well with more complex data structures such as lists and data frames.\n",
    "\n",
    "R has a many mathematical functions built-in, for example:"
   ]
  },
  {
   "cell_type": "markdown",
   "metadata": {},
   "source": [
    "|Function|Description|\n",
    "|---|---|\n",
    "|sqrt(x)| Square root|\n",
    "|abs(x) | Absolute value|\n",
    "|sin(x), tan(x), cos(x) | Trigonometric functions|\n",
    "|exp(x) | Exponential|\n",
    "|log(x) | Natural logarithm|\n",
    "|log10(x) | Base 10 logarithm|\n",
    "|ceiling(x) | Closest integer not less than x|\n",
    "|floor(x) | Closest integer not greater x|\n",
    "|round(x) | Closest integer to the element|"
   ]
  },
  {
   "cell_type": "markdown",
   "metadata": {},
   "source": [
    "Just for fun, we'll cheat a little here and look ahead to vectors. We'll get to this in a minute, but for now, a vector is a list of one of the built-in types, here we will have a list of numbers. R has a very handy function, `seq(first, last, step)` which produces a vector with values starting at `first`, finishing at `last` and incrementing by `step`, so seq(1, 10, 1) is \\[1, 2, 3, 4, 5, 6, 7, 8, 9, 10\\].\n",
    "We can use the colon notation to simplify a sequence when the increment is `1`, so 1:10 is also \\[1, 2, 3, 4, 5, 6, 7, 8, 9, 10\\].\n",
    "\n",
    "The reason for doing this, is that now we can plot some graphs, for example:\n",
    "\n",
    "* plot(sqrt(0:100))\n",
    "\n",
    "* plot(sin(seq(-pi, pi, pi/10))\n"
   ]
  },
  {
   "cell_type": "code",
   "execution_count": 35,
   "metadata": {},
   "outputs": [
    {
     "data": {
      "text/html": [
       "<ol class=list-inline>\n",
       "\t<li>1</li>\n",
       "\t<li>2</li>\n",
       "\t<li>3</li>\n",
       "\t<li>4</li>\n",
       "\t<li>5</li>\n",
       "\t<li>6</li>\n",
       "\t<li>7</li>\n",
       "\t<li>8</li>\n",
       "\t<li>9</li>\n",
       "\t<li>10</li>\n",
       "</ol>\n"
      ],
      "text/latex": [
       "\\begin{enumerate*}\n",
       "\\item 1\n",
       "\\item 2\n",
       "\\item 3\n",
       "\\item 4\n",
       "\\item 5\n",
       "\\item 6\n",
       "\\item 7\n",
       "\\item 8\n",
       "\\item 9\n",
       "\\item 10\n",
       "\\end{enumerate*}\n"
      ],
      "text/markdown": [
       "1. 1\n",
       "2. 2\n",
       "3. 3\n",
       "4. 4\n",
       "5. 5\n",
       "6. 6\n",
       "7. 7\n",
       "8. 8\n",
       "9. 9\n",
       "10. 10\n",
       "\n",
       "\n"
      ],
      "text/plain": [
       " [1]  1  2  3  4  5  6  7  8  9 10"
      ]
     },
     "metadata": {},
     "output_type": "display_data"
    },
    {
     "data": {
      "text/html": [
       "<ol class=list-inline>\n",
       "\t<li>1</li>\n",
       "\t<li>3</li>\n",
       "\t<li>5</li>\n",
       "\t<li>7</li>\n",
       "\t<li>9</li>\n",
       "</ol>\n"
      ],
      "text/latex": [
       "\\begin{enumerate*}\n",
       "\\item 1\n",
       "\\item 3\n",
       "\\item 5\n",
       "\\item 7\n",
       "\\item 9\n",
       "\\end{enumerate*}\n"
      ],
      "text/markdown": [
       "1. 1\n",
       "2. 3\n",
       "3. 5\n",
       "4. 7\n",
       "5. 9\n",
       "\n",
       "\n"
      ],
      "text/plain": [
       "[1] 1 3 5 7 9"
      ]
     },
     "metadata": {},
     "output_type": "display_data"
    },
    {
     "data": {
      "image/png": "[encoded data removed]",
      "text/plain": [
       "plot without title"
      ]
     },
     "metadata": {},
     "output_type": "display_data"
    },
    {
     "data": {
      "image/png": "[encoded data removed]",
      "text/plain": [
       "plot without title"
      ]
     },
     "metadata": {},
     "output_type": "display_data"
    }
   ],
   "source": [
    "#1:10\n",
    "#seq(1, 10, 2)\n",
    "#plot(sqrt(0:100))\n",
    "#plot(sin(seq(-pi, pi, pi/100)))"
   ]
  },
  {
   "cell_type": "markdown",
   "metadata": {},
   "source": [
    "### __Creating Your Own Functions__\n",
    "\n",
    "To illustrate how a function works, we'll create one to produce the average of two numbers, x and y. To create a function we use the keyword `function` and assign the function to the name we specify. We provide a list of arguments and then, inside a pair of curly brackets, `{` and `}` we provide the code. When the function is finished we need to provide the result which we do with the `return` function."
   ]
  },
  {
   "cell_type": "code",
   "execution_count": 33,
   "metadata": {},
   "outputs": [],
   "source": [
    "#average <- function(x, y) {\n",
    "#    av <- (x + y) / 2\n",
    "#    return(av)\n",
    "#}"
   ]
  },
  {
   "cell_type": "markdown",
   "metadata": {},
   "source": [
    "When we want to use our function, we just use the name, and define the arguments:"
   ]
  },
  {
   "cell_type": "code",
   "execution_count": 34,
   "metadata": {},
   "outputs": [
    {
     "data": {
      "text/html": [
       "3.5"
      ],
      "text/latex": [
       "3.5"
      ],
      "text/markdown": [
       "3.5"
      ],
      "text/plain": [
       "[1] 3.5"
      ]
     },
     "metadata": {},
     "output_type": "display_data"
    }
   ],
   "source": [
    "#average(3, 4)"
   ]
  },
  {
   "cell_type": "markdown",
   "metadata": {},
   "source": [
    "__NOTE__: that we didn't need to say `print(average(3,4))` to get R to display the result, R assumes that's what we have wanted anyway. But if you are including the code in a script file and running the file with `source`, you __will__ need to add the `print()` statement as R ignores all output when sourcing."
   ]
  },
  {
   "cell_type": "markdown",
   "metadata": {},
   "source": [
    "__NOTE__: we can use operators in the same way if we really want to:"
   ]
  },
  {
   "cell_type": "code",
   "execution_count": 59,
   "metadata": {},
   "outputs": [
    {
     "data": {
      "text/html": [
       "3"
      ],
      "text/latex": [
       "3"
      ],
      "text/markdown": [
       "3"
      ],
      "text/plain": [
       "[1] 3"
      ]
     },
     "metadata": {},
     "output_type": "display_data"
    }
   ],
   "source": [
    "#`+`(1, 2)"
   ]
  },
  {
   "cell_type": "markdown",
   "metadata": {},
   "source": [
    "When you type the function at the R prompt, you or the prompt are the 'caller'. If you assign the output of the function to a variable, it becomes the caller and the value is stored in the variable. You can use a function-call as an argument to another function.\n",
    "\n",
    "1. You don't __need__ the return() call, R returns the current result to the caller of the function. This isn't necessarily a good thing and I would always recommend using return() to make things clear.\n",
    "\n",
    "1. You can set a default value to an argument when you define the function using the `=` operator (this is the difference between `=` and `<-`).\n",
    "\n",
    "1. If you don't specify the argument names when you call the function, they are assigned in the order given (in this case, the first argument is 'x' and the second 'y').\n",
    "\n",
    "1. If you do specify the names (again using `=`) then you can do so in any order (but you need to specify all the remaining names you wish to use once you have specified one).\n",
    "\n",
    "1. If you don't provide an argument for which there is a default, the default will be used.\n",
    "\n",
    "Note that `#` indicates a _comment_ and R ignores the rest of the line."
   ]
  },
  {
   "cell_type": "code",
   "execution_count": 318,
   "metadata": {},
   "outputs": [
    {
     "data": {
      "text/html": [
       "3.5"
      ],
      "text/latex": [
       "3.5"
      ],
      "text/markdown": [
       "3.5"
      ],
      "text/plain": [
       "[1] 3.5"
      ]
     },
     "metadata": {},
     "output_type": "display_data"
    },
    {
     "data": {
      "text/html": [
       "3.5"
      ],
      "text/latex": [
       "3.5"
      ],
      "text/markdown": [
       "3.5"
      ],
      "text/plain": [
       "[1] 3.5"
      ]
     },
     "metadata": {},
     "output_type": "display_data"
    },
    {
     "data": {
      "text/html": [
       "3.5"
      ],
      "text/latex": [
       "3.5"
      ],
      "text/markdown": [
       "3.5"
      ],
      "text/plain": [
       "[1] 3.5"
      ]
     },
     "metadata": {},
     "output_type": "display_data"
    },
    {
     "data": {
      "text/html": [
       "1.5"
      ],
      "text/latex": [
       "1.5"
      ],
      "text/markdown": [
       "1.5"
      ],
      "text/plain": [
       "[1] 1.5"
      ]
     },
     "metadata": {},
     "output_type": "display_data"
    },
    {
     "data": {
      "text/html": [
       "1.5"
      ],
      "text/latex": [
       "1.5"
      ],
      "text/markdown": [
       "1.5"
      ],
      "text/plain": [
       "[1] 1.5"
      ]
     },
     "metadata": {},
     "output_type": "display_data"
    },
    {
     "data": {
      "text/html": [
       "7.5"
      ],
      "text/latex": [
       "7.5"
      ],
      "text/markdown": [
       "7.5"
      ],
      "text/plain": [
       "[1] 7.5"
      ]
     },
     "metadata": {},
     "output_type": "display_data"
    }
   ],
   "source": [
    "#average <- function(x, y=0) {\n",
    "#    (x + y) / 2           # Try changing this to minus to make the values of x and y matter.\n",
    "#}\n",
    "#av <- average(3, 4)       # Set av to the average.\n",
    "#av                        # Print out av.\n",
    "#average(x=4, y=3)         # Specify the arguments explicitly.\n",
    "#average(y=4, x=3)         # Order doesn't matter.\n",
    "#average(3)                # We don't need the default argument.\n",
    "#average(x=3)\n",
    "#sum <- function(x, y) {   # Create another function so that ...\n",
    "#    x + y\n",
    "#}\n",
    "#average(sum(4, 5), 6)     # ... we can use a function call as a parameter."
   ]
  },
  {
   "cell_type": "markdown",
   "metadata": {},
   "source": [
    "So we can revisit `cat()` now which has a default parameter, `sep` which is a space. If we want a different separator, we just need to specify it:"
   ]
  },
  {
   "cell_type": "code",
   "execution_count": 149,
   "metadata": {},
   "outputs": [
    {
     "name": "stdout",
     "output_type": "stream",
     "text": [
      "The average of 4 and 7 is 5.5."
     ]
    }
   ],
   "source": [
    "#a <- 4\n",
    "#b <- 7\n",
    "#cat('The average of ', a, ' and ', b, ' is ', average(a, b), '.', sep='')"
   ]
  },
  {
   "cell_type": "markdown",
   "metadata": {},
   "source": [
    "You can pass values by position, i.e. in the order they are specified, or by name or a combination of the two and R will assume the unnamed parameters are in the order given. "
   ]
  },
  {
   "cell_type": "code",
   "execution_count": 89,
   "metadata": {},
   "outputs": [
    {
     "name": "stdout",
     "output_type": "stream",
     "text": [
      "[1] 64\n",
      "[1] 64\n",
      "[1] 50\n"
     ]
    },
    {
     "data": {
      "text/html": [
       "1"
      ],
      "text/latex": [
       "1"
      ],
      "text/markdown": [
       "1"
      ],
      "text/plain": [
       "[1] 1"
      ]
     },
     "metadata": {},
     "output_type": "display_data"
    },
    {
     "data": {
      "text/html": [
       "1"
      ],
      "text/latex": [
       "1"
      ],
      "text/markdown": [
       "1"
      ],
      "text/plain": [
       "[1] 1"
      ]
     },
     "metadata": {},
     "output_type": "display_data"
    },
    {
     "name": "stdout",
     "output_type": "stream",
     "text": [
      "[1] 345\n"
     ]
    },
    {
     "data": {
      "text/html": [
       "1"
      ],
      "text/latex": [
       "1"
      ],
      "text/markdown": [
       "1"
      ],
      "text/plain": [
       "[1] 1"
      ]
     },
     "metadata": {},
     "output_type": "display_data"
    },
    {
     "data": {
      "text/html": [
       "1"
      ],
      "text/latex": [
       "1"
      ],
      "text/markdown": [
       "1"
      ],
      "text/plain": [
       "[1] 1"
      ]
     },
     "metadata": {},
     "output_type": "display_data"
    },
    {
     "name": "stdout",
     "output_type": "stream",
     "text": [
      "[1] 23\n"
     ]
    },
    {
     "data": {
      "text/html": [
       "7"
      ],
      "text/latex": [
       "7"
      ],
      "text/markdown": [
       "7"
      ],
      "text/plain": [
       "[1] 7"
      ]
     },
     "metadata": {},
     "output_type": "display_data"
    },
    {
     "data": {
      "text/html": [
       "2"
      ],
      "text/latex": [
       "2"
      ],
      "text/markdown": [
       "2"
      ],
      "text/plain": [
       "[1] 2"
      ]
     },
     "metadata": {},
     "output_type": "display_data"
    },
    {
     "data": {
      "text/html": [
       "1"
      ],
      "text/latex": [
       "1"
      ],
      "text/markdown": [
       "1"
      ],
      "text/plain": [
       "[1] 1"
      ]
     },
     "metadata": {},
     "output_type": "display_data"
    }
   ],
   "source": [
    "#value <- 1\n",
    "#exponent <- 3\n",
    "#f <- function(const, value, exponent) {\n",
    "#    x <- const + value ^ exponent\n",
    "#}\n",
    "#print(f(0, 4, 3))\n",
    "#print(f(0, 4, exponent = 3))\n",
    "#print(f(const = 1, value = 7, exponent = 2))\n",
    "#value\n",
    "#xprint(f(2, 3, value = 7))\n",
    "#value\n",
    "#x\n",
    "#print(f(value <- 7, exponent <- 2, 4))\n",
    "#value\n",
    "#exponent\n",
    "#x"
   ]
  },
  {
   "cell_type": "markdown",
   "metadata": {},
   "source": [
    "### __Passing Parameters by Copying__\n",
    "\n",
    "When you pass a parameter to a function in R, it is copied to the function and the original variable is not changed. Note also, that this can cause the functions to become slow if you copy a large data object many times. "
   ]
  },
  {
   "cell_type": "code",
   "execution_count": 70,
   "metadata": {},
   "outputs": [
    {
     "name": "stdout",
     "output_type": "stream",
     "text": [
      "[1] 2\n"
     ]
    },
    {
     "data": {
      "text/html": [
       "1"
      ],
      "text/latex": [
       "1"
      ],
      "text/markdown": [
       "1"
      ],
      "text/plain": [
       "[1] 1"
      ]
     },
     "metadata": {},
     "output_type": "display_data"
    }
   ],
   "source": [
    "#x <- 1\n",
    "#f <- function(value) {\n",
    "#    x <- value * 2\n",
    "#    print(x)\n",
    "#}\n",
    "#f(x)\n",
    "#x"
   ]
  },
  {
   "cell_type": "markdown",
   "metadata": {},
   "source": [
    "### __Variable Scope__\n",
    "\n",
    "The difference in behaviour of `->` and `=` in function parameters illustrates how the scope of variables affects the outcome of programs. The scope of a variable is the extent of the availability or existence of a variable.\n",
    "\n",
    "For example, the _global variables_, such as `pi` are available anywhere in a program. If you define a variable at the command line or in a script it will be a global variable and available to every program you run.\n",
    "\n",
    "If you define a variable within a function, it is _local_ to that function. You can use it within the function but when the function completes, the variable is destroyed.\n",
    "\n",
    "In the following code, `x` is global and `y` is local to the function `f`:\n",
    "<code>\n",
    "x &lt;- 1                                               -| x exists from here on\n",
    "f &lt;- function(value) {                                |\n",
    "    y &lt;- 1               -| y exists from here to     |\n",
    "    return (value * y)   -| here (conceptually)       |\n",
    "}                                                     |\n",
    "f(x)                     - Actually, only when called |\n",
    "... More code            - y no longer exists         | x does\n",
    "</code>"
   ]
  },
  {
   "cell_type": "markdown",
   "metadata": {},
   "source": [
    "### __Changing the type of a variable__\n",
    "If you need to change the type of one of the basic variable types, you can use one of the following functions:\n",
    "<code>\n",
    "as.character(x)\n",
    "as.complex(x)\n",
    "as.numeric(x)\n",
    "as.integer(x)\n",
    "as.logical(x)\n",
    "</code>\n",
    "\n",
    "There are similar functions for more complex data types, but watch out for as.Date() with capital D."
   ]
  },
  {
   "cell_type": "markdown",
   "metadata": {},
   "source": [
    "### __Exercise__: A function to generate LCG random numbers.\n",
    "Create a function to perform the lcg calculation: it will take four arguments and return a single number, i.e. will be called as `lcg(modulus, multiple, constant, seed)`."
   ]
  },
  {
   "cell_type": "code",
   "execution_count": 1,
   "metadata": {},
   "outputs": [],
   "source": [
    "#lcg <- function(modulus, multiple, constant, seed) {\n",
    "#    return((multiple * (seed + constant)) %% modulus)\n",
    "#}\n",
    "\n",
    "#m <- 23\n",
    "#a <- 6\n",
    "#s <- runif(1) * 100\n",
    "#c <- 7\n",
    "#s <- lcg(m, a, c, s)"
   ]
  },
  {
   "cell_type": "markdown",
   "metadata": {},
   "source": [
    "<div style='background-color:lightgray;'><h3><b>Challenge</b>: Create a function to calculate the sum of squares of two numbers.</h3>\n",
    "\n",
    "<code>ss &lt;- function(x, y) {\n",
    "...\n",
    "}\n",
    "</code>\n",
    "\n",
    "Then use this to calculate the variance and standard deviation.\n",
    "Check your results with the built-in functions (here you will need to use a vector c(x, y) - <i>see below</i>.\n",
    "</div>"
   ]
  },
  {
   "cell_type": "code",
   "execution_count": 139,
   "metadata": {},
   "outputs": [
    {
     "data": {
      "text/html": [
       "112.5"
      ],
      "text/latex": [
       "112.5"
      ],
      "text/markdown": [
       "112.5"
      ],
      "text/plain": [
       "[1] 112.5"
      ]
     },
     "metadata": {},
     "output_type": "display_data"
    },
    {
     "data": {
      "text/html": [
       "112.5"
      ],
      "text/latex": [
       "112.5"
      ],
      "text/markdown": [
       "112.5"
      ],
      "text/plain": [
       "[1] 112.5"
      ]
     },
     "metadata": {},
     "output_type": "display_data"
    },
    {
     "data": {
      "text/html": [
       "10.6066017177982"
      ],
      "text/latex": [
       "10.6066017177982"
      ],
      "text/markdown": [
       "10.6066017177982"
      ],
      "text/plain": [
       "[1] 10.6066"
      ]
     },
     "metadata": {},
     "output_type": "display_data"
    },
    {
     "data": {
      "text/html": [
       "112.5"
      ],
      "text/latex": [
       "112.5"
      ],
      "text/markdown": [
       "112.5"
      ],
      "text/plain": [
       "[1] 112.5"
      ]
     },
     "metadata": {},
     "output_type": "display_data"
    },
    {
     "data": {
      "text/html": [
       "10.6066017177982"
      ],
      "text/latex": [
       "10.6066017177982"
      ],
      "text/markdown": [
       "10.6066017177982"
      ],
      "text/plain": [
       "[1] 10.6066"
      ]
     },
     "metadata": {},
     "output_type": "display_data"
    }
   ],
   "source": [
    "#ss <- function(x, y) {\n",
    "#    (x^2 + y^2) - ((x + y)^2)/2\n",
    "#}\n",
    "#sum_of_squares <- ss(10, 25)\n",
    "#var <- sum_of_squares / (2 - 1)\n",
    "#sd <- sqrt(var)\n",
    "#sum_of_squares\n",
    "#var\n",
    "#sd\n",
    "#var(c(10, 25))\n",
    "#sd(c(10, 25))"
   ]
  },
  {
   "cell_type": "markdown",
   "metadata": {},
   "source": [
    "<div style='background-color:lightgray;'><h3><b><i>FAST TRACK</i></b>: How does the `gcd` function below work (recursion):</h3>\n",
    "\n",
    "<code>gcd &lt;- function(a, b) {\n",
    "    if (b == 0) {\n",
    "        return(a)\n",
    "    } else {\n",
    "        return(gcd(b, a %% b))\n",
    "    }\n",
    "}\n",
    "</code></div>"
   ]
  },
  {
   "cell_type": "markdown",
   "metadata": {},
   "source": [
    "<div style='background-color:lightgray;'><h3><b><i>FAST TRACK</i></b>: What does '...' do?</h3></div>"
   ]
  },
  {
   "cell_type": "markdown",
   "metadata": {},
   "source": [
    "<table style=\"text-align:center;\"><tr><td width=\"100\" height=\"20\" style=\"background-color:greenyellow\"></td><td width=\"100\" height=\"20\" style=\"background-color:hotpink\"></td></tr></table>"
   ]
  },
  {
   "cell_type": "markdown",
   "metadata": {},
   "source": [
    "<table width='100%'><tr>\n",
    "    <td style='background-color:red; text-align:center; color: white;'><!--Foundation<!--hr size='5' style='border-color:red; background-color:red;'--></td>\n",
    "    <td style='background-color:yellow; text-align:center;'><!--Level 1<!--hr size='5' style='border-color:yellow; background-color:yellow;'--></td>\n",
    "    <td style='background-color:orange; text-align:center;'><!--Level 2<!--hr size='5' style='border-color:orange; background-color:orange;'--></td>\n",
    "    <td style='background-color:green; text-align:center; color: white;'><!--Level 3<!--hr size='5' style='border-color:orange; background-color:orange;'--></td>\n",
    "    <td style='background-color:blue; text-align:center; color: white;'><!--Level 4<!--hr size='5' style='border-color:orange; background-color:orange;'--></td>\n",
    "    <td style='background-color:purple; text-align:center; color: white;'><!--Level 5<!--hr size='5' style='border-color:orange; background-color:orange;'--></td>\n",
    "    <td style='background-color:brown; text-align:center; color: white;'><!--Level 6<!--hr size='5' style='border-color:orange; background-color:orange;'--></td>\n",
    "    <td style='background-color:black; text-align:center; color: white;'><!--Level 7<!--hr size='5' style='border-color:orange; background-color:orange;'--></td>\n",
    "</tr></table>"
   ]
  }
 ],
 "metadata": {
  "kernelspec": {
   "display_name": "R",
   "language": "R",
   "name": "ir"
  },
  "language_info": {
   "codemirror_mode": "r",
   "file_extension": ".r",
   "mimetype": "text/x-r-source",
   "name": "R",
   "pygments_lexer": "r",
   "version": "4.0.2"
  }
 },
 "nbformat": 4,
 "nbformat_minor": 4
}
