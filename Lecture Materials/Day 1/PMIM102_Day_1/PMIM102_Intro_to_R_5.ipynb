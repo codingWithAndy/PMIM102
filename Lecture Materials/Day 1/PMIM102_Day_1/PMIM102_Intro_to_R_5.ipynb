{
 "cells": [
  {
   "cell_type": "markdown",
   "metadata": {},
   "source": [
    "<table width='100%'><tr>\n",
    "    <td style='background-color:red; text-align:center; color: white;'><!--Foundation<!--hr size='5' style='border-color:red; background-color:red;'--></td>\n",
    "    <td style='background-color:yellow; text-align:center;'><!--Level 1<!--hr size='5' style='border-color:yellow; background-color:yellow;'--></td>\n",
    "    <td style='background-color:orange; text-align:center;'><!--Level 2<!--hr size='5' style='border-color:orange; background-color:orange;'--></td>\n",
    "    <td style='background-color:green; text-align:center; color: white;'><!--Level 3<!--hr size='5' style='border-color:orange; background-color:orange;'--></td>\n",
    "    <td style='background-color:blue; text-align:center; color: white;'><!--Level 4<!--hr size='5' style='border-color:orange; background-color:orange;'--></td>\n",
    "    <td style='background-color:purple; text-align:center; color: white;'><!--Level 5<!--hr size='5' style='border-color:orange; background-color:orange;'--></td>\n",
    "    <td style='background-color:brown; text-align:center; color: white;'><!--Level 6<!--hr size='5' style='border-color:orange; background-color:orange;'--></td>\n",
    "    <td style='background-color:black; text-align:center; color: white;'><!--Level 7<!--hr size='5' style='border-color:orange; background-color:orange;'--></td>\n",
    "</tr></table>"
   ]
  },
  {
   "cell_type": "markdown",
   "metadata": {},
   "source": [
    "<table style='border-left:10px solid yellow;'><tr>\n",
    "    <td style='padding-left:20px;'>\n",
    "        <h2><i>Swansea University Medical School</i><br/><b>MSc Health Data Science</b></h2>\n",
    "        <h3>PMIM-102 Introduction to Scientific Computing in Healthcare</h3>\n",
    "        <h1><b>Introduction to Programming in R</b></h1>\n",
    "        <h2><b>1. Programming Fundamentals</b></h2>\n",
    "        <h2><i>Part 5: Data Frames.</i></h2>\n",
    "        <h3><i>September 2020</i></h3>\n",
    "        <h3><b>To-do</b></h3>\n",
    "        <ul>\n",
    "            <li>Fix bug in plotting with factors.</li>\n",
    "            <li>A formula challenge?</li>\n",
    "        </ul>\n",
    "    </td>\n",
    "    <td><img height='300' width='500' src='images/cover.jpg'/></td>\n",
    "</tr></table>"
   ]
  },
  {
   "cell_type": "markdown",
   "metadata": {},
   "source": [
    "## __Aim__: Learn how to make the computer do what we want and get information from the data\n",
    "\n",
    "The aim of this session is to introduce the basic principles of programming using <code>R</code>.\n",
    "\n",
    "### __A map of where we're going__\n",
    "\n",
    "1. __Simple Things__ - simple data (__variables__) and how to do things to them (__operators__) and calculate things (__expressions__). Also when and where variables are and are not valid.\n",
    "\n",
    "1. __What computers do best 1: Control__ - how to make decisions about whether to execute code and/or which code to execute; how to repeatedly execute code.\n",
    "\n",
    "1. __What computers do best 2: What they have been told. Again and agin ...__ - combining lots of simple operations into more complex functions - being able to perform, simple, repetitive or complex operations on the variables with just one command. Introducing some basic descriptive statistical functions.\n",
    "\n",
    "1. __What R does well: complex data and operations on all the bits at the same time__ - pairs, tuples, vectors, lists, matrices, arrays, tables, factors.\n",
    "\n",
    "1. <div style=\"background-color:yellow;\"><b>The Data Frame</b> - along with vectors, data frames are the data structure most frequently used in health data science.\n",
    "    <ul><li><b>Extra: R Specifics</b> - formulae.</li></ul></div>"
   ]
  },
  {
   "cell_type": "markdown",
   "metadata": {},
   "source": [
    "## __Navigation__\n",
    "\n",
    "_How to approach this section of the course depending on your experience of R_\n",
    "\n",
    "Although the code and exercises presented in this notebook will run here, it would be better to transfer the code to R-Studio and run and edit it in that environment as that will be the enviornment we use for the course.\n",
    "\n",
    "If you have programming experience in R ==> you may want to skim what we are doing in each section: you may be able to skip ahead to the ___challenges___ and ___FAST TRACK___ and attempt those exercises. If you complete those exercises before the rest of use have reached that point, ask yourself 'what-if' questions and play with the code or the look at something you have never used before or help others in the class.\n",
    "\n",
    "If you have some programming experience in another programming language ==> you can work through the Jupyter Notebook at your own speed but bear in mind that R is unique in many respects, so don't just skip things as it may come back to bite you :) When you get to the ___challenges___ and ___FAST TRACK___ please attempt those exercises and then experiment with R. \n",
    "\n",
    "In all cases, the internet is a superb resource if you have a problem - somebody almost certainly has had it before (bit remember that not all the answers are from experts)."
   ]
  },
  {
   "cell_type": "markdown",
   "metadata": {},
   "source": [
    "<table style=\"text-align:center;\"><tr><td width=\"100\" height=\"20\" style=\"background-color:greenyellow\"></td><td width=\"100\" height=\"20\" style=\"background-color:hotpink\"></td></tr></table>"
   ]
  },
  {
   "cell_type": "markdown",
   "metadata": {},
   "source": [
    "## __Data Frames__\n",
    "\n",
    "It is likely that you will manipulate most of the data you work with in __data-frames__. A data-frame is a rectangular structure in which each column can have a different data-type but all columns have the same length. Each column can have a name. You can create a data-frame manually, but most often you will import a data-frame from a file or by accessing a database using, for example, SQL calls."
   ]
  },
  {
   "cell_type": "code",
   "execution_count": 1,
   "metadata": {},
   "outputs": [],
   "source": [
    "#df <- data.frame(\n",
    "#    name=c('Olive', 'Pinochio', 'Queenie', 'Raphael'),\n",
    "#    gender=factor(c('female', 'male', 'female', 'male')), \n",
    "#    height=c(1.7, 1.01, 1.3, 1.6),\n",
    "#    weight=c(60, 30, 50, 40),\n",
    "#    stringsAsFactors=FALSE)\n",
    "#print(df)\n",
    "#class(df)\n",
    "#df[3]\n",
    "#class(df[3])\n",
    "#df[[3]]\n",
    "#class(df[[3]])\n",
    "#df[[3]][3]"
   ]
  },
  {
   "cell_type": "markdown",
   "metadata": {},
   "source": [
    "Note: if you type the above code into the R interpreter, you will find that, after you press 'RETURN' after `data.frame(` the prompt will appear as '+'. This indicates that the interpreter is expecting you to type more code. This will often occur if you cut-and-paste or edit a line of code and forget to balance the quotes or brackets."
   ]
  },
  {
   "cell_type": "markdown",
   "metadata": {},
   "source": [
    "To refer to a single column in a data-frame, you can use one of three methods:\n",
    "1. use '$' to refer to the column name.\n",
    "1. use [row, col] to select a row, a column or an entry. If you leave an entry blank, R will show the whole row or column (rows and columns start at 1).\n",
    "1. use the column name in the second position rather than the column number."
   ]
  },
  {
   "cell_type": "code",
   "execution_count": 2,
   "metadata": {},
   "outputs": [],
   "source": [
    "#df$height\n",
    "#df[, 3]\n",
    "#df[, 'height']"
   ]
  },
  {
   "cell_type": "markdown",
   "metadata": {},
   "source": [
    "And you can use functions on data frame columns:"
   ]
  },
  {
   "cell_type": "code",
   "execution_count": 3,
   "metadata": {},
   "outputs": [],
   "source": [
    "#mean(df[, 3])\n",
    "#sapply(df[, 3:4], mean)"
   ]
  },
  {
   "cell_type": "markdown",
   "metadata": {},
   "source": [
    "### __Appending data to a data frame__\n",
    "It regularly happens that you may wish to add data to a data frame. This is quite straightforward, you just create a new row and rbind it to end of the existing data frame."
   ]
  },
  {
   "cell_type": "code",
   "execution_count": 4,
   "metadata": {},
   "outputs": [],
   "source": [
    "#newOne <- data.frame(name=\"Seren\", gender=\"female\", height=2.0, weight=60)\n",
    "#df <- rbind(df, newOne)\n",
    "#df"
   ]
  },
  {
   "cell_type": "markdown",
   "metadata": {},
   "source": [
    "But this is really inefficient with large data frames as the whole data frame is copied everytime a row is added. If you know you are going to add a lot of data, it would be better to allocate an empty data frame first and then just place the data in the allocated structure.\n",
    "\n",
    "we can do this by specifying the type of data that each column will contain and the number of entries."
   ]
  },
  {
   "cell_type": "code",
   "execution_count": 5,
   "metadata": {},
   "outputs": [],
   "source": [
    "#N <- 1000\n",
    "#huge_df <- data.frame(name=character(N), gender=factor(N, levels=c(\"male\", \"female\")), height=numeric(N), weight=numeric(N), stringsAsFactors=FALSE)\n",
    "#head(huge_df)\n",
    "#df[1,]\n",
    "#huge_df[1, ] <- df[1, ]\n",
    "#head(huge_df)"
   ]
  },
  {
   "cell_type": "markdown",
   "metadata": {},
   "source": [
    "### __Removing NAs__\n",
    "One more useful thing is the ability to remove rows with NAs."
   ]
  },
  {
   "cell_type": "code",
   "execution_count": 6,
   "metadata": {},
   "outputs": [],
   "source": [
    "#clean_huge_df <- na.omit(huge_df)\n",
    "#head(clean_huge_df)"
   ]
  },
  {
   "cell_type": "markdown",
   "metadata": {},
   "source": [
    "#### __Working the R way__\n",
    "\n",
    "Despite the availability of loops and control structures, R has been designed to be manipulated as vectors (columns or variables in data frames) with the looping processes implemented optimally under the bonnet. The normal way to work, therefore, is with data frames and passing an entire data frame or maybe just one column to a function as a parameter."
   ]
  },
  {
   "cell_type": "markdown",
   "metadata": {},
   "source": [
    "### __Exercise__: Create a data frame and try out some descriptive statistics\n",
    "Use the functions we have seen so far to create a number of vectors, combine them to form a data frame, use various analysis functions on the data frame variables, for example, `summary()`, `aggregate()`.\n",
    "How would you use `apply()` to generate a mean across the rows? How about a sum across the rows?\n",
    "Apply some data frame functions to the data frame: mean(df), cov(df) and cor(df).\n",
    "Create some contingency tables from the variables. If you have continuous variable, how might you create some ordinal/categorical variables?"
   ]
  },
  {
   "cell_type": "code",
   "execution_count": 7,
   "metadata": {},
   "outputs": [],
   "source": [
    "#n <- 1000\n",
    "## Some random variables, mean 0.\n",
    "#c1 <- runif(n) - 0.5\n",
    "#c2 <- 2*(runif(n) - 0.5)\n",
    "#c3 <- runif(n) - 0.5\n",
    "#c4 <- 3*(runif(n) - 0.5)\n",
    "#c5 <- runif(n) - 0.5\n",
    "#c6 <- 4*(runif(n) - 0.5)\n",
    "## Add them to a data frame.\n",
    "#df <- data.frame(col1=c1, col2=c2, col3=c3, col4=c4, col5=c5, col6=c6)\n",
    "\n",
    "#summary(df, mean)\n",
    "## Run a t-test, and the same thing with the 'with' syntax.\n",
    "#t.test(df$col1)\n",
    "#with(df, t.test(col1, col2))\n",
    "## Apply a mean across rows:\n",
    "## df <- cbind(df, mean=apply(df[, 1:3], 1, mean))\n",
    "## Apply a sum across rows:\n",
    "#df <- cbind(df, sum_1_6=apply(df[, 1:6], 1, sum))\n",
    "## A shapiro test for normality.\n",
    "#library(MASS)\n",
    "#shapiro.test(df$sum_1_6)\n",
    "## Plotting and fitting a distribution.\n",
    "#hist(df$sum_1_6, ylim=c(0, n/3))\n",
    "#x <- seq(-3, 3, 0.01)\n",
    "#f <- fitdistr(df$sum_1_6, densfun='normal')\n",
    "#lines(x, (n/2)*dnorm(x, mean=f[[1]][1], sd=f[[1]][2]), col='red')\n",
    "#curve((n/3)*dnorm(x, mean(df$sum_1_6), sd(df$sum_1_6)), add=TRUE, col='darkblue', lwd=2)\n",
    "\n",
    "## Create a categorical variable from column 1.\n",
    "#df$cat1 <- df$col6>0.5\n",
    "#df$cat2 <- cut(df$col1, breaks=4)\n",
    "#head(df)\n",
    "#aggregate(df, by=list(df$cat2), FUN=sd)\n",
    "#with(df, table(cat1, cat2))"
   ]
  },
  {
   "cell_type": "markdown",
   "metadata": {},
   "source": [
    "### __Exercise__: Repeat with some real data.\n",
    "Read the CSV file, `sulphur.dioxide.csv`<sup>\\*</sup>, and explore and manipulate that data.\n",
    "\n",
    "`sulphur.dioxide <- read.csv('sulphur.dioxide.csv')`\n",
    "\n",
    "<sup>\\*</sup> Michael Crawley, data file used in his book Statistics, An Introduction using R, Wiley, 2015."
   ]
  },
  {
   "cell_type": "code",
   "execution_count": 9,
   "metadata": {},
   "outputs": [],
   "source": [
    "#sulphur.dioxide <- read.csv('data/sulphur.dioxide.csv')\n",
    "#head(sulphur.dioxide)"
   ]
  },
  {
   "cell_type": "markdown",
   "metadata": {},
   "source": [
    "<table style=\"text-align:center;\"><tr><td width=\"100\" height=\"20\" style=\"background-color:greenyellow\"></td><td width=\"100\" height=\"20\" style=\"background-color:hotpink\"></td></tr></table>"
   ]
  },
  {
   "cell_type": "markdown",
   "metadata": {},
   "source": [
    "### __Formulas__\n",
    "\n",
    "__Formulas__ are primarily used in modelling to specify to the model which predictor variables should effect the response variable and the kind of relationship that is of interest.\n",
    "\n",
    "The general format is:\n",
    "\n",
    "`y ~ x`\n",
    "\n",
    "to indicate that the response, y, is expected to depend on x. We will see this later when we come to do linear regressions with the `lm()` function, e.g. `lm(y ~ x, data=d)` will perform a linear regression on the data frame d which contains the variables, x and y.\n",
    "\n",
    "There are some additional elements that can be used in a formula:\n",
    "* `y ~ a + b` --- multiple regression; the predictor variables, a and b will be fitted.\n",
    "* `y ~ - a` --- exclude a (useful with '.', see below).\n",
    "* `y ~ x - 1` --- No intercept, regress through the origin.\n",
    "* `y ~ .` --- With a specified data=data-frame, use all the variable in the data-frame.\n",
    "* `y ~ a:b` --- the interaction between a and b will be fitted.\n",
    "* `y ~ a + b + a:b` = `y ~ a * b` --- multiple regression with interaction between the variables.\n",
    "* `y|a` --- conditioning, include y given a.\n",
    "* `y ~ (a + b + c) ^ 3` --- interaction terms up to three-way.\n",
    "* `y ~ I(a+b)` --- the values 'a+b' will be fitted to the response variable rather than the separate variables.\n",
    "* `y ~ log(a)` --- log(a) will be fitted to the response variable.\n",
    "\n",
    "Several other functions use the formula notation to simplify their operation. For example, you can plot grouped boxplots according to a grouping variable with:\n",
    "\n",
    "`boxplot(y ~ x)`"
   ]
  },
  {
   "cell_type": "code",
   "execution_count": 10,
   "metadata": {},
   "outputs": [],
   "source": [
    "par(mfrow=c(2,2))\n",
    "#variable1 <- rnorm(10, mean=5, sd=5)\n",
    "#variable2 <- rnorm(10, mean=7.5, sd=5)\n",
    "#variable3 <- rnorm(10, mean=10, sd=1)\n",
    "#data <- stack(list('1'=variable1, '2'=variable2, '3'=variable3))\n",
    "#with(data, boxplot(values ~ ind))\n",
    "\n",
    "#variable <- data.frame(value=rnorm(1000))\n",
    "#variable$cut <- cut(variable$value, breaks=12)\n",
    "#variable$section <- rep(1:10)\n",
    "#variable$alternate <- rep(1:2)\n",
    "#with(variable, boxplot(value ~ cut))\n",
    "#variable$value[variable$section==4] <- variable$value[variable$section==4] + 2\n",
    "#with(variable, boxplot(value ~ section))\n",
    "#with(variable, boxplot(value ~ alternate + section))"
   ]
  },
  {
   "cell_type": "markdown",
   "metadata": {},
   "source": [
    "<table style=\"text-align:center;\"><tr><td width=\"100\" height=\"20\" style=\"background-color:greenyellow\"></td><td width=\"100\" height=\"20\" style=\"background-color:hotpink\"></td></tr></table>"
   ]
  },
  {
   "cell_type": "markdown",
   "metadata": {},
   "source": [
    "<table width='100%'><tr>\n",
    "    <td style='background-color:red; text-align:center; color: white;'><!--Foundation<!--hr size='5' style='border-color:red; background-color:red;'--></td>\n",
    "    <td style='background-color:yellow; text-align:center;'><!--Level 1<!--hr size='5' style='border-color:yellow; background-color:yellow;'--></td>\n",
    "    <td style='background-color:orange; text-align:center;'><!--Level 2<!--hr size='5' style='border-color:orange; background-color:orange;'--></td>\n",
    "    <td style='background-color:green; text-align:center; color: white;'><!--Level 3<!--hr size='5' style='border-color:orange; background-color:orange;'--></td>\n",
    "    <td style='background-color:blue; text-align:center; color: white;'><!--Level 4<!--hr size='5' style='border-color:orange; background-color:orange;'--></td>\n",
    "    <td style='background-color:purple; text-align:center; color: white;'><!--Level 5<!--hr size='5' style='border-color:orange; background-color:orange;'--></td>\n",
    "    <td style='background-color:brown; text-align:center; color: white;'><!--Level 6<!--hr size='5' style='border-color:orange; background-color:orange;'--></td>\n",
    "    <td style='background-color:black; text-align:center; color: white;'><!--Level 7<!--hr size='5' style='border-color:orange; background-color:orange;'--></td>\n",
    "</tr></table>"
   ]
  }
 ],
 "metadata": {
  "kernelspec": {
   "display_name": "R",
   "language": "R",
   "name": "ir"
  },
  "language_info": {
   "codemirror_mode": "r",
   "file_extension": ".r",
   "mimetype": "text/x-r-source",
   "name": "R",
   "pygments_lexer": "r",
   "version": "4.0.2"
  }
 },
 "nbformat": 4,
 "nbformat_minor": 4
}
