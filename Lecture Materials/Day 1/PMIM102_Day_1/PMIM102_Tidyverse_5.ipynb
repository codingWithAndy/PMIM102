{
 "cells": [
  {
   "cell_type": "markdown",
   "metadata": {},
   "source": [
    "<table width='100%'><tr>\n",
    "    <td style='background-color:red; text-align:center; color: white;'><!--Foundation<!--hr size='5' style='border-color:red; background-color:red;'--></td>\n",
    "    <td style='background-color:yellow; text-align:center;'><!--Level 1<!--hr size='5' style='border-color:yellow; background-color:yellow;'--></td>\n",
    "    <td style='background-color:orange; text-align:center;'><!--Level 2<!--hr size='5' style='border-color:orange; background-color:orange;'--></td>\n",
    "    <td style='background-color:green; text-align:center; color: white;'><!--Level 3<!--hr size='5' style='border-color:orange; background-color:orange;'--></td>\n",
    "    <td style='background-color:blue; text-align:center; color: white;'><!--Level 4<!--hr size='5' style='border-color:orange; background-color:orange;'--></td>\n",
    "    <td style='background-color:purple; text-align:center; color: white;'><!--Level 5<!--hr size='5' style='border-color:orange; background-color:orange;'--></td>\n",
    "    <td style='background-color:brown; text-align:center; color: white;'><!--Level 6<!--hr size='5' style='border-color:orange; background-color:orange;'--></td>\n",
    "    <td style='background-color:black; text-align:center; color: white;'><!--Level 7<!--hr size='5' style='border-color:orange; background-color:orange;'--></td>\n",
    "</tr></table>"
   ]
  },
  {
   "cell_type": "markdown",
   "metadata": {},
   "source": [
    "<table style='border-left:10px solid orange;'><tr>\n",
    "    <td style='padding-left:20px;'>\n",
    "        <h2><i>Swansea University Medical School</i><br/><b>MSc Health Data Science</b></h2>\n",
    "        <h3>PMIM-102 Introduction to Scientific Computing in Healthcare</h3>\n",
    "        <h1><b>Introduction to Programming in R</b></h1>\n",
    "        <h2><b>3. The Tidyverse</b></h2>\n",
    "        <h2><i>Part 5: Plotting and visualising the data.</i></h2>\n",
    "        <h3><i>September 2020</i></h3>\n",
    "        <h3><b>To-do</b></h3>\n",
    "        <ul>\n",
    "            <li>Continue with ggplot2.</li>\n",
    "            <li>Pad out the shiny section.</li>\n",
    "        </ul>\n",
    "    </td>\n",
    "    <td><img height='300' width='500' src='images/cover.jpg'/></td>\n",
    "</tr></table>"
   ]
  },
  {
   "cell_type": "markdown",
   "metadata": {},
   "source": [
    "## __Aim__: Use the tools available in R to manipulate tables of data.\n",
    "\n",
    "The aim of this session is to concentrate on the core activities in working with large datasets: moving, cleaning and transforming table data to facilitate analyses. Whilst this is possible using base-R, the facilities provided by the libraries in the __Tidyverse__ make it considerably __easier__ and the resulting code __more readable__.\n",
    "\n",
    "### __A map of where we're going__\n",
    "\n",
    "1. <b>Introduction</b> - What is the process, the problems with standard R and the structure of 'tidy' data.\n",
    "\n",
    "1. <b>Acquiring data</b> - Getting data into R from files (<b>readr</b>).\n",
    "\n",
    "1. <b>Tidying the data</b> - Handling missing data and reshaping the tables (<b>tidyr</b>).\n",
    "\n",
    "1. <b>Transforming the data</b> - Selecting and converting the data ready to analyse (<b>dplyr</b>).\n",
    "\n",
    "1. <b>Working with specific data types in tidyverse</b>: strings (<b>stringr</b>), dates (<b>lubridate</b>), factors (<b>forcats</b>).\n",
    "\n",
    "1. <div style=\"background-color:yellow;\"><b>Plotting &amp; Data visualisation</b> - beyond the simple R plot etc. (<b>ggplot2</b>).</div>\n",
    "\n",
    "1. <b>Extras</b> - Things worth knowing of so that you can use them if you ever need them.\n",
    " * Applying functions and working with lists (purrr).\n",
    " * Tidy evaluation (rlang).\n",
    " * Communicating your results with a dynamic, R-based website (shiny)."
   ]
  },
  {
   "cell_type": "markdown",
   "metadata": {},
   "source": [
    "## __Load the Tidyverse__\n",
    "\n",
    "The first thing to do is make sure the library is loaded. If you have not already installed it, do so not using the <code>install.packages()</code> function."
   ]
  },
  {
   "cell_type": "code",
   "execution_count": 1,
   "metadata": {},
   "outputs": [],
   "source": [
    "## install.packages('tidyverse')\n",
    "#library(tidyverse)"
   ]
  },
  {
   "cell_type": "markdown",
   "metadata": {},
   "source": [
    "## __Data visualisation - beyond plot etc. (ggplot2)__\n",
    "\n",
    "[See the ggplot2 cheatsheet.](https://github.com/rstudio/cheatsheets/blob/master/data-visualization-2.1.pdf) Includes some hints about maps.\n",
    "\n",
    "We have already used the basic plotting tools provided by R. The `ggplot` tools take it a level further both in the sense of what it looks like and the way it works. The basic idea behind ggplot is a 'grammar of graphics': you should build a graph from its components:\n",
    "* a dataset\n",
    "* a co-ordinate system and \n",
    "* the plots themselves (geoms).\n",
    "\n",
    "We'll go through the process step-by-step although we may skip past some of the details as we go, so feel free to pause and experiment at each stage.\n",
    "\n",
    "### _The Components_\n",
    "\n",
    "The primary element is the plot itself. For this you need to specify the dataset and an aesthetic mapping from the data to the plot, for example, the following code will produce an empty plot scaled to map the values in the 'area' column on the x-axis and the 'poptotal' column on the y-axis."
   ]
  },
  {
   "cell_type": "code",
   "execution_count": 2,
   "metadata": {},
   "outputs": [],
   "source": [
    "#library(ggplot2)\n",
    "#ggplot(midwest, aes(x=area, y=poptotal))"
   ]
  },
  {
   "cell_type": "markdown",
   "metadata": {},
   "source": [
    "The `ggplot()` call actually produces a plot object which is passed to `print()` or `plot()` to be displayed (hence is displayed above). But we can store the plot object in a variable and add components to it and change them.\n",
    "\n",
    "If we wish to display some data we need to specify a 'geom' which defines the kind of plot and how to customise it, for example, `geom_point()` will display a scatter-plot. We just need to add the `geom` to the `plot`, like this:"
   ]
  },
  {
   "cell_type": "code",
   "execution_count": 3,
   "metadata": {},
   "outputs": [],
   "source": [
    "#g <- ggplot(midwest, aes(x=area, y=poptotal)) + geom_point()\n",
    "#plot(g)"
   ]
  },
  {
   "cell_type": "markdown",
   "metadata": {},
   "source": [
    "Note that the aesthetic mapping really relates to the geom. But it can be added to the plot and will then be used as the default for any following components."
   ]
  },
  {
   "cell_type": "code",
   "execution_count": 4,
   "metadata": {},
   "outputs": [],
   "source": [
    "#h <- ggplot(midwest) + geom_point(aes(x=area, y=poptotal))\n",
    "#plot(h)"
   ]
  },
  {
   "cell_type": "markdown",
   "metadata": {},
   "source": [
    "Most people work with a plot to which they then add all the components they need (i.e. they have one long series of additions of components. Here, however, for flexibility and to demonstrate the workings, we'll create a variable for each component and add them when we plot. There are several `geoms` that work with an x/y aesthetic:\n",
    "\n",
    "| geom name | Chart produced |\n",
    "|---|---|\n",
    "| abline | Reference lines, horizontal, vertical and diagonal. |\n",
    "| bin2d | Heatmap of 2d bin counts |\n",
    "| blank  | Nothing |\n",
    "| count | Count overlapping points |\n",
    "| violin | Violin plot |\n",
    "| __Will give a warning__: |\n",
    "| boxplot | A box and whiskers plot |\n",
    "| __Not appropriate (error)__: |\n",
    "| contour | 2d contours of a 3d surface |\n",
    "| density | Smoothed density estimates |\n",
    "| density_2d | Contours of a 2d density estimate |\n",
    "| dotplot | Dot plot |\n",
    "| hex | Hexagonal heatmap of 2d bin counts |\n",
    "\n",
    "If you try to use a kind of plot with the wrong kind of aesthetic you will get an error message - try getting a `geom_bar()` to work with an x/y plot --- but see `stat`s below for the correct way to make them work.\n",
    "\n",
    "And, of course, if you wish to include more than one of these you just need to add them to the ggplot."
   ]
  },
  {
   "cell_type": "code",
   "execution_count": 5,
   "metadata": {},
   "outputs": [],
   "source": [
    "#g <- ggplot(midwest, aes(x=area, y=poptotal))\n",
    "#g1 <- ggplot(midwest)\n",
    "#p <- geom_point()\n",
    "#b <- geom_bar(aes(x=area))\n",
    "#box <- geom_boxplot(aes(x=area))\n",
    "#a <- geom_abline()\n",
    "#b2d <- geom_bin2d()\n",
    "#c <- geom_contour()\n",
    "#cnt <- geom_count()\n",
    "#d <- geom_density()\n",
    "#dot <- geom_dotplot()\n",
    "#e <- geom_errorbarh()\n",
    "#install.packages(\"hexbin\")\n",
    "#library(hexbin)\n",
    "#h <- geom_hex()\n",
    "#s <- geom_smooth()\n",
    "#v <- geom_violin()\n",
    "## Try out a few combination of the plot, 'g', and various geoms.\n",
    "## Sometimes you may need to redefine the plot as shown with 'g1'.\n",
    "#plot(g + h)"
   ]
  },
  {
   "cell_type": "markdown",
   "metadata": {},
   "source": [
    "So now we can customise the geom with various parameters:\n",
    "* col='steelblue' --- define the colour of the points, line etc.\n",
    "* size=3 --- define the size of the points etc."
   ]
  },
  {
   "cell_type": "code",
   "execution_count": 6,
   "metadata": {},
   "outputs": [],
   "source": [
    "#p <- geom_point(col='steelblue', size=1)\n",
    "#plot(g + p)"
   ]
  },
  {
   "cell_type": "markdown",
   "metadata": {},
   "source": [
    "For some geoms, there will be specific parameters:\n",
    "* method='lm' --- use the linear model for `geom_smooth()`"
   ]
  },
  {
   "cell_type": "code",
   "execution_count": 7,
   "metadata": {},
   "outputs": [],
   "source": [
    "#s <- geom_smooth(method='lm')\n",
    "#plot(g + s)"
   ]
  },
  {
   "cell_type": "markdown",
   "metadata": {},
   "source": [
    "If we want to use the data to define the colours, say by a category, we need to map from the data to the plot, so we need an aesthetic:"
   ]
  },
  {
   "cell_type": "code",
   "execution_count": 8,
   "metadata": {},
   "outputs": [],
   "source": [
    "#p <- geom_point(aes(col=category, size=popdensity, shape=state))\n",
    "#plot(g + p)"
   ]
  },
  {
   "cell_type": "markdown",
   "metadata": {},
   "source": [
    "We can adjust all of the visual aspects of the plot with a number of additional components:\n",
    "\n",
    "__Co-ordinates__\n",
    "We can set the co-ordinate system and ranges with coord\\_*, for example:\n",
    "\n",
    "`c <- coord_cartesian(xlim=c(0,0.1), ylim=c(0,500000))`\n",
    "\n",
    "__Labels__\n",
    "We define the labels for the axes and the graph as well as the plot as a whole with the `labs` component:\n",
    "\n",
    "`l <- labs(title='Area vs Population', subtitle='From midwest dataset', y='Population', x='Area', caption='Midwest Demographics')`\n",
    "\n",
    "__Theme__\n",
    "And make additional changes to the layout and style with themes, for example, we can remove the legend:\n",
    "\n",
    "`t_none <- theme(legend.position='None')`\n",
    "\n",
    "or move it to the bottom of the graph and make it horizontal:\n",
    "\n",
    "`t_bottom <- theme(legend.position=\"bottom\", legend.box = \"horizontal\")`\n"
   ]
  },
  {
   "cell_type": "code",
   "execution_count": 9,
   "metadata": {},
   "outputs": [],
   "source": [
    "#c <- coord_cartesian(xlim=c(0,0.1), ylim=c(0,500000))\n",
    "#l <- labs(title='Area vs Population', subtitle='From midwest dataset', y='Population', x='Area',\n",
    "#          caption='Midwest Demographics')\n",
    "#t_none <- theme(legend.position='None')\n",
    "#t_bottom <- theme(legend.position=\"bottom\", legend.box = \"horizontal\")\n",
    "\n",
    "#plot(g + p + s + c + l + t_bottom)"
   ]
  },
  {
   "cell_type": "markdown",
   "metadata": {},
   "source": [
    "If you notice, the legend is using the raw variable names which, although we understand them, are not as tidy as we might like, we can adjust this with `guide` or by using a `scale_colour_manual()` commponent:\n",
    "\n",
    "`guide <- guides(color=guide_legend(\"State\"), size=guide_legend(\"Density\"))`\n",
    "`guide_order <- guides(colour = guide_legend(order = 2),\n",
    "                      size = guide_legend(order = 1))`\n",
    "`scm <- scale_colour_manual(name=\"State\", \n",
    "                           labels = c(\"Illinois\", \n",
    "                                      \"Indiana\", \n",
    "                                      \"Michigan\", \n",
    "                                      \"Ohio\", \n",
    "                                      \"Wisconsin\"), \n",
    "                           values = c(\"IL\"=\"blue\", \n",
    "                                      \"IN\"=\"red\", \n",
    "                                      \"MI\"=\"green\", \n",
    "                                      \"OH\"=\"brown\", \n",
    "                                      \"WI\"=\"orange\"))`\n"
   ]
  },
  {
   "cell_type": "code",
   "execution_count": 10,
   "metadata": {},
   "outputs": [],
   "source": [
    "## Change the point component so that we only have to define 5 colours rather than 16.\n",
    "## Didn't use category as shape as this would require 16 symbols, which is unclear.\n",
    "#p <- geom_point(aes(col=state, size=popdensity))\n",
    "\n",
    "#guide <- guides(color=guide_legend(\"State\"), size=guide_legend(\"Density\"))\n",
    "#guide_order <- guides(colour = guide_legend(order = 2),\n",
    "#                      size = guide_legend(order = 1))\n",
    "\n",
    "#scm <- scale_colour_manual(name=\"State\", \n",
    "#                           labels = c(\"Illinois\", \n",
    "#                                      \"Indiana\", \n",
    "#                                      \"Michigan\", \n",
    "#                                      \"Ohio\", \n",
    "#                                      \"Wisconsin\"), \n",
    "#                           values = c(\"IL\"=\"blue\", \n",
    "#                                      \"IN\"=\"red\", \n",
    "#                                      \"MI\"=\"green\", \n",
    "#                                      \"OH\"=\"brown\", \n",
    "#                                      \"WI\"=\"orange\"))\n",
    "#plot(g + p + s + c + l + guide + guide_order + scm)"
   ]
  },
  {
   "cell_type": "markdown",
   "metadata": {},
   "source": [
    "### _Scales_\n",
    "\n",
    "Scale components are really useful. They define the x and y scales, the colour scales etc. Use specific kinds of scales to match the way you want to display your data. Scales are also available to implement transformations (although these can also be implemented with the component `coord_trans(ytrans='sqrt')`.\n",
    "\n",
    "The following scales are available:\n",
    "\n",
    "|Scale|Description|\n",
    "|---|---|\n",
    "|scale_x_continuous|Set the scale parameters for a continuous variable x-scale.|\n",
    "|scale_y_continuous|Set the scale parameters for a continuous variable y-scale.|\n",
    "|scale_x_discrete|Set the scale parameters for a categorical variable x-scale.|\n",
    "|scale_y_discrete|Set the scale parameters for a categorical variable y-scale.|\n",
    "|scale_x_date|Set the scale parameters for a date variable x-scale.|\n",
    "|scale_y_date|Set the scale parameters for a date variable y-scale.|\n",
    "|scale_colour_continuous|Set the colours for a continuous variable.|\n",
    "| _see also_|scale_colour_gradient, scale_colour_viridis_c, scale_fill_gradient, and scale_fill_viridis|\n",
    "|scale_x_log10|Set the scale parameters for a continuous variable log10 x-scale.|\n",
    "|scale_y_log10|Set the scale parameters for a continuous variable log10 y-scale.|\n",
    "| _see also_|scale_x_log2, scale_x_sqrt|\n",
    "\n",
    "Within the scale component, we can set various parameters such as the breaks for the ticks/grid, the labels to use, whether to transform the axes etc.\n",
    "\n",
    "`sxc <- scale_x_continuous(breaks=seq(0, 0.1, 0.01), labels=letters[1:11])`\n",
    "\n",
    "`sxcl <- scale_x_continuous(breaks=seq(0, 0.1, 0.01), labels=sprintf('%1.2f%%', seq(0, 0.1, 0.01)))`\n",
    "\n",
    "`sycl <- scale_y_continuous(breaks=seq(0, 500000, 200000), labels=function(x){paste0(x/1000, 'K')})`\n",
    "\n",
    "`sycl_log <- scale_y_continuous(trans='log10', breaks=seq(0, log(500000), log(200000)), labels=function(x){paste0(x/1000, 'K')})`\n",
    "\n",
    "And we can adjust the direction of the axis with `reverse` (note there is also a coord_flip() to swap the axes):\n",
    "\n",
    "`sxr <- scale_x_reverse()`\n",
    "`syr <- scale_y_reverse()`\n",
    "\n",
    "`flip <- coord_flip()`"
   ]
  },
  {
   "cell_type": "code",
   "execution_count": 11,
   "metadata": {},
   "outputs": [],
   "source": [
    "#sycl_log <- scale_y_continuous(trans='sqrt', breaks=seq(0, 500000, 100000), labels=function(x){paste0(x/1000, 'K')})\n",
    "#sycl_log2 <- scale_y_sqrt(breaks=seq(0, 500000, 100000), labels=function(x){paste0(x/1000, 'K')})\n",
    "#plot(g + p + s + c + l + guide + guide_order + scm + sycl_log2)"
   ]
  },
  {
   "cell_type": "markdown",
   "metadata": {},
   "source": [
    "### _Annotations_\n",
    "Then we can annotate the graph with the `annotate` component. This allows you to supply additional information for the graph that is not part of the dataset. There are several types of annotation:\n",
    "* `'text'` --- places text at a specified position\n",
    "* `'rect'` --- places a rect on the plot to highlight or mask a section\n",
    "* `'segment'` --- places a line segment on the plot at the specified position"
   ]
  },
  {
   "cell_type": "code",
   "execution_count": 12,
   "metadata": {},
   "outputs": [],
   "source": [
    "#annot1 <- annotate(\"text\", x = c(0.013, 0.07), y = c(1500, 400000), label = c(\"Label 1\", \"Label 2\"))\n",
    "#annot2 <- annotate(\"segment\", x = 0.01, xend = 0.06, y = 350000, yend = 450000, colour = \"red\", size=2, alpha=0.4)\n",
    "#annot3 <- annotate(\"rect\", xmin = 0.02, xmax = 0.05, ymin = 150000, ymax = 250000, alpha = 0.2, fill = \"green\")\n",
    "#plot(g + p + s + c + l + guide + guide_order + scm + sycl_log2 + annot1 + annot2 + annot3)"
   ]
  },
  {
   "cell_type": "markdown",
   "metadata": {},
   "source": [
    "<table style=\"text-align:center;\"><tr><td width=\"100\" height=\"20\" style=\"background-color:greenyellow\"></td><td width=\"100\" height=\"20\" style=\"background-color:hotpink\"></td></tr></table>"
   ]
  },
  {
   "cell_type": "markdown",
   "metadata": {},
   "source": [
    "<table width='100%'><tr>\n",
    "    <td style='background-color:red; text-align:center; color: white;'><!--Foundation<!--hr size='5' style='border-color:red; background-color:red;'--></td>\n",
    "    <td style='background-color:yellow; text-align:center;'><!--Level 1<!--hr size='5' style='border-color:yellow; background-color:yellow;'--></td>\n",
    "    <td style='background-color:orange; text-align:center;'><!--Level 2<!--hr size='5' style='border-color:orange; background-color:orange;'--></td>\n",
    "    <td style='background-color:green; text-align:center; color: white;'><!--Level 3<!--hr size='5' style='border-color:orange; background-color:orange;'--></td>\n",
    "    <td style='background-color:blue; text-align:center; color: white;'><!--Level 4<!--hr size='5' style='border-color:orange; background-color:orange;'--></td>\n",
    "    <td style='background-color:purple; text-align:center; color: white;'><!--Level 5<!--hr size='5' style='border-color:orange; background-color:orange;'--></td>\n",
    "    <td style='background-color:brown; text-align:center; color: white;'><!--Level 6<!--hr size='5' style='border-color:orange; background-color:orange;'--></td>\n",
    "    <td style='background-color:black; text-align:center; color: white;'><!--Level 7<!--hr size='5' style='border-color:orange; background-color:orange;'--></td>\n",
    "</tr></table>"
   ]
  }
 ],
 "metadata": {
  "kernelspec": {
   "display_name": "R",
   "language": "R",
   "name": "ir"
  },
  "language_info": {
   "codemirror_mode": "r",
   "file_extension": ".r",
   "mimetype": "text/x-r-source",
   "name": "R",
   "pygments_lexer": "r",
   "version": "4.0.2"
  }
 },
 "nbformat": 4,
 "nbformat_minor": 4
}
