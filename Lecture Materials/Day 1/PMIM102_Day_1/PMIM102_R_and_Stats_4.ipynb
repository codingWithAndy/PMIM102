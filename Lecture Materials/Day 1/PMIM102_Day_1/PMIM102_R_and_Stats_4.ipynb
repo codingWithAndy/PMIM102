{
 "cells": [
  {
   "cell_type": "markdown",
   "metadata": {},
   "source": [
    "<table width='100%'><tr>\n",
    "    <td style='background-color:red; text-align:center; color: white;'><!--Foundation<!--hr size='5' style='border-color:red; background-color:red;'--></td>\n",
    "    <td style='background-color:yellow; text-align:center;'><!--Level 1<!--hr size='5' style='border-color:yellow; background-color:yellow;'--></td>\n",
    "    <td style='background-color:orange; text-align:center;'><!--Level 2<!--hr size='5' style='border-color:orange; background-color:orange;'--></td>\n",
    "    <td style='background-color:green; text-align:center; color: white;'><!--Level 3<!--hr size='5' style='border-color:orange; background-color:orange;'--></td>\n",
    "    <td style='background-color:blue; text-align:center; color: white;'><!--Level 4<!--hr size='5' style='border-color:orange; background-color:orange;'--></td>\n",
    "    <td style='background-color:purple; text-align:center; color: white;'><!--Level 5<!--hr size='5' style='border-color:orange; background-color:orange;'--></td>\n",
    "    <td style='background-color:brown; text-align:center; color: white;'><!--Level 6<!--hr size='5' style='border-color:orange; background-color:orange;'--></td>\n",
    "    <td style='background-color:black; text-align:center; color: white;'><!--Level 7<!--hr size='5' style='border-color:orange; background-color:orange;'--></td>\n",
    "</tr></table>"
   ]
  },
  {
   "cell_type": "markdown",
   "metadata": {},
   "source": [
    "<table style='border-left:10px solid orange;'><tr>\n",
    "    <td style='padding-left:20px;'>\n",
    "        <h2><i>Swansea University Medical School</i><br/><b>MSc Health Data Science</b></h2>\n",
    "        <h3>PMIM-102 Introduction to Scientific Computing in Healthcare</h3>\n",
    "        <h1><b>Introduction to Programming in R</b></h1>\n",
    "        <h2><b>2. Programming with Statistics</b></h2>\n",
    "        <h2><i>Part 4: Analysis of single samples.</i></h2>\n",
    "        <h3><i>September 2020</i></h3>\n",
    "    </td>\n",
    "    <td><img height='300' width='500' src='images/cover.jpg'/></td>\n",
    "</tr></table>"
   ]
  },
  {
   "cell_type": "markdown",
   "metadata": {},
   "source": [
    "## __Aim__: Explore facilities in R for doing statistical analyses\n",
    "\n",
    "The aim of this session is to build upon the R basics of the previous session to explore the tools available in R for statistical analysis.\n",
    "\n",
    "### __A map of where we're going__\n",
    "\n",
    "1. <b>Probability and probability distributions</b> and plotting in R - uniform, binomial, poisson. The Central Limit Theorem.\n",
    "\n",
    "1. <b>Descriptive statistics</b> - the normal distribution, expected value, independence, mean, variance, summary.\n",
    "\n",
    "1. <b>Hypothesis Testing</b> - confidence interval, standard error, p-value, degrees of freedom, (non) parametric..\n",
    "\n",
    "1. <div style=\"background-color:yellow;\"><b>Single Sample Analysis</b> - what is the mean value, is it what was expected, what is its uncertainty?</div>\n",
    "\n",
    "1. <b>Comparing Two (or More) Samples</b> - comparing means, variances, frequencies and distributions."
   ]
  },
  {
   "cell_type": "markdown",
   "metadata": {},
   "source": [
    "## __Single Sample Analysis__\n",
    "\n",
    "Typically, we want to know:\n",
    "* The mean value\n",
    "* is it expected or significantly different from theory\n",
    "* what is the uncertainty\n",
    "\n",
    "We need to know about the data:\n",
    "* are the values normally distributed\n",
    "* are there outliers\n",
    "* is there a serial correlation\n"
   ]
  },
  {
   "cell_type": "markdown",
   "metadata": {},
   "source": [
    "### _Normal Distribution_\n",
    "With a large sample of data from a Normally distributed variable, we expect the sample mean to be normally distributed and the standard deviation to be well estimated, and, consequently we can calculate the standard error (the measure of unreliability) and the the 95% confidence interval using the Normal formulae.\n",
    "\n",
    "As we saw above, the population mean will be sample mean - 1.96 standard errors to sample mean + 1.96 standard errors:\n",
    "\n",
    "\\begin{equation*} \\mu = \\bar{y} \\pm 1.96 \\left( \\frac {s}{\\sqrt n} \\right) \\end{equation*}"
   ]
  },
  {
   "cell_type": "code",
   "execution_count": 1,
   "metadata": {},
   "outputs": [],
   "source": [
    "#y <- rnorm(1000, mean=0, sd=1)\n",
    "#standard_error <- sqrt(var(y) / length(y))\n",
    "#confidence_interval <- 1.96 * standard_error\n",
    "#cat('Standard error = ', standard_error, '.\\n', sep='')\n",
    "#cat('Mean = ', mean(y), ' +/- ', confidence_interval, '(CI, 95%).\\n', sep='')\n",
    "#summary(y)"
   ]
  },
  {
   "cell_type": "markdown",
   "metadata": {},
   "source": [
    "You can visually check your data via histogram and quantile-quantile plots:"
   ]
  },
  {
   "cell_type": "code",
   "execution_count": 2,
   "metadata": {},
   "outputs": [],
   "source": [
    "par(mfrow=c(1,2))\n",
    "#options(repr.plot.width = 8, repr.plot.height = 4)\n",
    "#x <- rnorm(1000)*100\n",
    "#hist(x)\n",
    "#y <- seq(-300,300,1)\n",
    "#lines(y, 50000 * dnorm(y, mean=mean(x), sd=sd(x)), col=\"red\")\n",
    "#qqnorm(x)\n",
    "#qqline(x)"
   ]
  },
  {
   "cell_type": "markdown",
   "metadata": {},
   "source": [
    "#### __Testing for Normality__\n",
    "\n",
    "Other than checking the qq-plot, if you want to test your sample for normality, there are a number of tests available in the package, \"nortest\". There is a test included in the base-R package, the _Shapiro Wilk_ test. Like the others, the null hypothesis is that the distribution _is_ normal, so the distribution has to be very ab-normal to get a low _p_-value and null hypothesis rejection."
   ]
  },
  {
   "cell_type": "code",
   "execution_count": 3,
   "metadata": {},
   "outputs": [],
   "source": [
    "#shapiro.test(x)"
   ]
  },
  {
   "cell_type": "markdown",
   "metadata": {},
   "source": [
    "#### __Converting to Z-Scores__\n",
    "If you want to normalise your data (convert it to have a mean of zero and standard deviation of 1, i.e. use:\n",
    "\n",
    "\\begin{equation*} z = \\frac {y - \\bar {y}}{s} \\end{equation*}\n",
    "\n",
    "You can use `scale(y)`."
   ]
  },
  {
   "cell_type": "code",
   "execution_count": 4,
   "metadata": {},
   "outputs": [],
   "source": [
    "#y <- 100 * rnorm(10) + 10\n",
    "#df <- data.frame(cbind(y=y, z=as.vector(scale(y))))"
   ]
  },
  {
   "cell_type": "markdown",
   "metadata": {},
   "source": [
    "#### __Transforming to Normal__\n",
    "In the event that your data distribution is not Normal, you can often apply a transformation to the data to make it so. For example, measurements such as blood analyte readings are skewed right (have more low readings towards zero). In this case, it is worth taking the logarithm of the reading which may be normally distributed. This transformation is also applicable to other skewed data and where the sample standard deviations are proportional to their means (see Bland).\n",
    "A square-root transformation can be used with less significant skew and when variance is proportional to the sample mean such as for Poisson variables.\n",
    "The reciprocal can be used when standard deviation is proportional to the square of the mean and data are highly skewed (see survival data - we'll cover this in PMIM202).\n",
    "\n",
    "There are good methods for determining the transformation for a large dataset (see Healy, 1968 cited in Bland) but for small samples it becomes more of a matter of experience and trial-and-error. This is also covered in PMIM302 & PMIM602.\n",
    "\n",
    "Healy, MJR (1968). Disciplining medical data. British Medical Bulletin, 24, 210-4. "
   ]
  },
  {
   "cell_type": "markdown",
   "metadata": {},
   "source": [
    "### _Non-Parametric Test For the Location of A Single Variable_\n",
    "In the event that we don't know the variable's distribution, we can use a non-parametric test for the location of the variables (its median). We use a rank order test which goes by a number of names, Mann Whitney U-test or Wilcoxon signed rank test. This will also give us confidence intervals. Note that this reports a (pseudo) median (see the help page) not the median."
   ]
  },
  {
   "cell_type": "code",
   "execution_count": 5,
   "metadata": {},
   "outputs": [],
   "source": [
    "#y <- runif(100)\n",
    "#summary(y)\n",
    "#wilcox.test(y, mu=mean(y))\n",
    "#wilcox.test(y, mu=mean(y), conf.int=TRUE)"
   ]
  },
  {
   "cell_type": "markdown",
   "metadata": {},
   "source": [
    "### _Student's t-test For the Location of A Single Variable With Small Sample Size_\n",
    "\n",
    "Documentation [here](https://www.rdocumentation.org/packages/stats/versions/3.6.1/topics/t.test).\n",
    "\n",
    "You have a small (<30) sample from a population and want to know if the population mean could reasonably be a value, m. If the _p_-value is less than 0.05 then the population mean is unlikely to be _m_. The test also provides the confidence intervals for the mean.\n",
    "\n",
    "By the time you have a sample with n=30 (i.e. 30 degrees of freedom) the value of the 5% point for the _t_ Statistic is 2.04 which is very close to the Normal value of 1.96, and thus, for normal data, with uniform variance, we can use the parametric tests instead.\n",
    "\n",
    "For non-Normal data where the _t_-test is not valid, we cannot assume that the large sample approximation is valid. If in doubt, treat the sample as small. Second, if possible transform the sample so that the transformed data conforms to a Normal distribution (before subtraction if paired).\n",
    "\n",
    "You should be more or less safe assuming that a sample size of 100 is Normal (or >50 for two samples)."
   ]
  },
  {
   "cell_type": "code",
   "execution_count": 6,
   "metadata": {},
   "outputs": [],
   "source": [
    "#length(x)\n",
    "#mean(x)\n",
    "#t.test(x, mu=10)\n",
    "#t.test(x, mu=40, alternative=\"two.sided\", conf.level=0.95)"
   ]
  },
  {
   "cell_type": "markdown",
   "metadata": {},
   "source": [
    "#### __Background: Student's _t_-Distribution__\n",
    "\n",
    "*Background - you can skip this section.*\n",
    "\n",
    "When we have smaller samples that we think are normally distributed and have uniform variance, we can use Student's _t_-test to provide better results that the Normal distribution calculations."
   ]
  },
  {
   "cell_type": "markdown",
   "metadata": {},
   "source": [
    "Student's _t_-distribution with _n_ degrees of freedom is the distribution of:\n",
    "\n",
    "\n",
    "\\begin{equation*} \\frac {U}{ \\sqrt { \\frac {\\chi^2}{n} } } \\end{equation*}\n",
    "\n",
    "\n",
    "where U is a standard normal variable, $\\chi^2$ is independent of it and has n degrees of freedom. The PDF is complicated, see the Wikipedia page, and you don't need to know it just that it is dependent on a number of variables and the degrees of freedom.\n",
    "\n",
    "In practical terms, the values of the Student's _t_-distribution are the number of standard errors to be expected with the specified probability and for a given number of degrees of freedom."
   ]
  },
  {
   "cell_type": "markdown",
   "metadata": {},
   "source": [
    "#### How the t-value varies with degrees of freedom\n",
    "\n",
    "To give you an idea about the way the t-value will change with the number of degrees of freedom, we can plot it:"
   ]
  },
  {
   "cell_type": "code",
   "execution_count": 7,
   "metadata": {},
   "outputs": [],
   "source": [
    "par(mfrow=c(2,2))\n",
    "#options(repr.plot.width = 8, repr.plot.height = 8)\n",
    "#colours <- c(\"red\", \"green\", \"orange\", \"purple\", \"blue\", \"black\", \"grey\", \"pink\")\n",
    "#x <- seq(1:30)\n",
    "#plot(x, qt(0.975, df=x), type='l', col='red', main=\"Student's t-Distribution\\n97.5% quantile with degrees of freedom\")\n",
    "#abline(h=1.96, lty=2, col='blue')\n",
    "#x <- seq(-4, 4, 0.01)\n",
    "#print(length(x))\n",
    "## Next line is unnecessarily a lot of points but shows the length.out parameter.\n",
    "#plot(x, seq(0, 0.5, length.out=801), type='n')\n",
    "#lines(x, dt(x, df=1), type='l', col='blue')\n",
    "#for (d in 2:30){\n",
    "#   lines(x, dt(x, df=d), type='l', col='red')\n",
    "#}\n",
    "#lines(x, dnorm(x))\n",
    "#sequence <- c(1, 2, 5, 10, 15, 20, 30)\n",
    "#plot(c(-4, 4), c(0, 1.0), type='n')  # 'n' => empty plot.\n",
    "#for (d in 1:length(sequence)){\n",
    "#   lines(x, pt(x, df=sequence[d]), type='l', col=colours[d])\n",
    "#}\n",
    "#legend(\"topleft\", legend=sequence, fill=colours)"
   ]
  },
  {
   "cell_type": "markdown",
   "metadata": {},
   "source": [
    "### _Mean, Variance, Skew, Kurtosis_\n",
    "\n",
    "*Feel free to skip this section or skim it as it is useful to know about skew and kurtosis but not necessarily in detail.*\n",
    "\n",
    "The mean of a variable is calculated as:\n",
    "\n",
    "\\begin{equation*} \\bar{y} = \\sum \\frac{y}{n} \\end{equation*}\n",
    "\n",
    "where $\\sum (y - \\bar{y})$ is the first moment of the distribution. The mean can be thought of as the value of y which makes the first moment equal zero. The second moment, $\\sum (y - \\bar{y})^2$, is the sum of squares used in the variance,\n",
    "\n",
    "\\begin{equation*} s^2 = \\sum \\frac {{(y - \\bar{y})}^2}{(n - 1)} \\end{equation*}\n",
    "\n",
    "which gives a measure of the spread of the data. The third and fourth moments also give useful information about the shape of the distribution.\n",
    "\n",
    "The third moment, $\\sum (y - \\bar{y})^3$, is used to define the _skewness_:\n",
    "\n",
    "\\begin{equation*} skewness = \\sum \\frac {{(y - \\bar{y})}^3}{ns^3} \\end{equation*}\n",
    "\n",
    "A symmetric distribution will have a skewness of zero; positive skewness indicates a long tail in the positive direction and negative skewness a long tail in the negative direction.\n",
    "\n",
    "The fourth moment, $\\sum (y - \\bar{y})^4$, defines kurtosis, a measure or peakyness or flat-topped-ness of a distribution which is given by:\n",
    "\n",
    "\\begin{equation*} kurtosis = \\sum \\frac {{(y - \\bar{y})}^4}{ns^4} - 3 \\end{equation*}\n",
    "\n",
    "The minus 3 is there because this results in a Normal Distribution having a kurtosis of zero, a flat-topped distribution will have a negative kurtosis and a pointy one a positive kurtosis.\n"
   ]
  },
  {
   "cell_type": "code",
   "execution_count": 8,
   "metadata": {},
   "outputs": [],
   "source": [
    "#skewness <- function(x) {\n",
    "#   moment_cubed <- sum((x - mean(x))^3)/length(x)\n",
    "#   s_cubed <- sqrt(var(x))^3\n",
    "#   return(moment_cubed/s_cubed)\n",
    "#}"
   ]
  },
  {
   "cell_type": "code",
   "execution_count": 9,
   "metadata": {},
   "outputs": [],
   "source": [
    "#kurtosis <- function(x) {\n",
    "#   moment_4ed <- sum((x - mean(x))^4)/length(x)\n",
    "#   s_4ed <- var(x)^2\n",
    "#   return(moment_4ed/s_4ed - 3)\n",
    "#}"
   ]
  },
  {
   "cell_type": "code",
   "execution_count": 10,
   "metadata": {},
   "outputs": [],
   "source": [
    "par(mfrow=c(1,2))\n",
    "options(repr.plot.width = 8, repr.plot.height = 4)\n",
    "#y1 <- rnorm(100)\n",
    "#hist(y1, col='lightpink')\n",
    "#y2 <-rbinom(100, size=10, prob=0.1)\n",
    "#hist(y2, col='olivedrab1')\n",
    "#skewness(y1)\n",
    "#skewness(y2)\n",
    "#kurtosis(y1)\n",
    "#kurtosis(y2)"
   ]
  },
  {
   "cell_type": "markdown",
   "metadata": {},
   "source": [
    "Having got the values for skewness and kurtosis, we really need to determine if they are significantly different from Normal. Divide each by the corresponding standard error and if the value is less than 2 (the 5% significance level for a _t_-test), the skewness or kurtosis is not significantly different from Normal.\n",
    "\n",
    "The standard error for skewness is $SE_{skewness} = \\sqrt \\frac {6}{n}$ and for kurtosis, $SE_{kurtosis} = \\sqrt \\frac {24}{n}$."
   ]
  },
  {
   "cell_type": "code",
   "execution_count": 11,
   "metadata": {},
   "outputs": [],
   "source": [
    "#se_skewness <- function(x) {\n",
    "#    return(sqrt(6/length(x)))\n",
    "#}\n",
    "#df_skewness <- length(y1) - 2 # Because we need mean and variance to get skewness.\n",
    "#t_skewness <- 1 - pt(skewness(y1)/se_skewness(y1), df_skewness)\n",
    "#print(t_skewness)"
   ]
  },
  {
   "cell_type": "code",
   "execution_count": 12,
   "metadata": {},
   "outputs": [],
   "source": [
    "#df_skewness <- length(y2) - 2 # Because we need mean and variance to get skewness.\n",
    "#t_skewness <- 1 - pt(skewness(y2)/se_skewness(y2), df_skewness)\n",
    "#print(t_skewness)"
   ]
  },
  {
   "cell_type": "markdown",
   "metadata": {},
   "source": [
    "## __Exercise__: Repeat the t-test check for kurtosis."
   ]
  },
  {
   "cell_type": "markdown",
   "metadata": {},
   "source": [
    "### _The Binomial Test for a Single Proportion_\n",
    "\n",
    "If we wish to decide that the proportion of successes in a test is significant, we can use the binomial test. The test calculates the probability of achieving the observed success rate (or one more extreme, allowing for the possibility of needing a two-tailed result) and compares this to the significance level (0.05). If the probability is less than the significance level, the null hypothesis is rejected and we conclude that the change is significant.\n",
    "\n",
    "You can optionally specify the expected proportion and the alternative hypothesis type."
   ]
  },
  {
   "cell_type": "code",
   "execution_count": 13,
   "metadata": {},
   "outputs": [],
   "source": [
    "#binom.test(1, 8)\n",
    "#prop.test(1, 6, 0.5, alternative='greater')\n",
    "#binom.test(1, 6, 0.5, conf.level=0.95, alternative='greater')"
   ]
  },
  {
   "cell_type": "markdown",
   "metadata": {},
   "source": [
    "<table style=\"text-align:center;\"><tr><td width=\"100\" height=\"20\" style=\"background-color:greenyellow\"></td><td width=\"100\" height=\"20\" style=\"background-color:hotpink\"></td></tr></table>"
   ]
  },
  {
   "cell_type": "markdown",
   "metadata": {},
   "source": [
    "<table width='100%'><tr>\n",
    "    <td style='background-color:red; text-align:center; color: white;'><!--Foundation<!--hr size='5' style='border-color:red; background-color:red;'--></td>\n",
    "    <td style='background-color:yellow; text-align:center;'><!--Level 1<!--hr size='5' style='border-color:yellow; background-color:yellow;'--></td>\n",
    "    <td style='background-color:orange; text-align:center;'><!--Level 2<!--hr size='5' style='border-color:orange; background-color:orange;'--></td>\n",
    "    <td style='background-color:green; text-align:center; color: white;'><!--Level 3<!--hr size='5' style='border-color:orange; background-color:orange;'--></td>\n",
    "    <td style='background-color:blue; text-align:center; color: white;'><!--Level 4<!--hr size='5' style='border-color:orange; background-color:orange;'--></td>\n",
    "    <td style='background-color:purple; text-align:center; color: white;'><!--Level 5<!--hr size='5' style='border-color:orange; background-color:orange;'--></td>\n",
    "    <td style='background-color:brown; text-align:center; color: white;'><!--Level 6<!--hr size='5' style='border-color:orange; background-color:orange;'--></td>\n",
    "    <td style='background-color:black; text-align:center; color: white;'><!--Level 7<!--hr size='5' style='border-color:orange; background-color:orange;'--></td>\n",
    "</tr></table>"
   ]
  },
  {
   "cell_type": "markdown",
   "metadata": {},
   "source": [
    "## __Bibliography__\n",
    "\n",
    "Martin Bland, An Introduction to Medical Statistics, OUP.\n",
    "\n",
    "Michael Crawley, Statistics: An Introduction Using R, Wiley.\n",
    "\n",
    "Paul Teetor, R Cookbook, O'Reilly."
   ]
  }
 ],
 "metadata": {
  "kernelspec": {
   "display_name": "R",
   "language": "R",
   "name": "ir"
  },
  "language_info": {
   "codemirror_mode": "r",
   "file_extension": ".r",
   "mimetype": "text/x-r-source",
   "name": "R",
   "pygments_lexer": "r",
   "version": "4.0.2"
  }
 },
 "nbformat": 4,
 "nbformat_minor": 4
}
