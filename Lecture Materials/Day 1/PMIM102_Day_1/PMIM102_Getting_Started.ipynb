{
 "cells": [
  {
   "cell_type": "markdown",
   "metadata": {},
   "source": [
    "<table width='100%'><tr>\n",
    "    <td style='background-color:red; text-align:center; color: white;'><!--Foundation<!--hr size='5' style='border-color:red; background-color:red;'--></td>\n",
    "    <td style='background-color:yellow; text-align:center;'><!--Level 1<!--hr size='5' style='border-color:yellow; background-color:yellow;'--></td>\n",
    "    <td style='background-color:orange; text-align:center;'><!--Level 2<!--hr size='5' style='border-color:orange; background-color:orange;'--></td>\n",
    "    <td style='background-color:green; text-align:center; color: white;'><!--Level 3<!--hr size='5' style='border-color:orange; background-color:orange;'--></td>\n",
    "    <td style='background-color:blue; text-align:center; color: white;'><!--Level 4<!--hr size='5' style='border-color:orange; background-color:orange;'--></td>\n",
    "    <td style='background-color:purple; text-align:center; color: white;'><!--Level 5<!--hr size='5' style='border-color:orange; background-color:orange;'--></td>\n",
    "    <td style='background-color:brown; text-align:center; color: white;'><!--Level 6<!--hr size='5' style='border-color:orange; background-color:orange;'--></td>\n",
    "    <td style='background-color:black; text-align:center; color: white;'><!--Level 7<!--hr size='5' style='border-color:orange; background-color:orange;'--></td>\n",
    "</tr></table>"
   ]
  },
  {
   "cell_type": "markdown",
   "metadata": {},
   "source": [
    "<table style='border-left:10px solid red;'><tr>\n",
    "    <td style='padding-left:20px;'>\n",
    "        <h2><i>Swansea University Medical School</i><br/><b>MSc Health Data Science</b></h2>\n",
    "        <h3>PMIM-102 Introduction to Scientific Computing in Healthcare</h3>\n",
    "        <h1><b>Getting Started With R, R-Studio, Git and SQL</b></h1>\n",
    "        <h3><i>September 2020</i></h3>\n",
    "        <h3><b>To-do</b></h3>\n",
    "        Nothing.\n",
    "    </td>\n",
    "    <td><img height='300' width='500' src='images/cover.jpg'/></td>\n",
    "</tr></table>"
   ]
  },
  {
   "cell_type": "markdown",
   "metadata": {},
   "source": [
    "## __Aim__: Make sure the software tools are installed and running properly and become familiar with their use.\n",
    "\n",
    "The aim of this session is to get used to (and, where appropriate be able to customise) the tools we'll be using for the course. We won't be covering anything to do with PostgreSQL - you can experiment with this and SQL via <code>pgadmin4</code>. To be able to acces these Jupyter notebooks, you should navigate to the directory containing the <code>ipynb</code> files and run <code>jupyter notebook</code> or <code>jupyter lab</code> using a command prompt or git-bash.\n",
    "\n",
    "### __A map of where we're going__\n",
    "\n",
    "1. Running R code with R-Studio.\n",
    "\n",
    "1. Working with R: Using Projects and setting up a project workspace.\n",
    "\n",
    "1. Saving and committing with `git` and backing up.\n",
    "\n",
    "1. Restarting R and Clearing the Workspace.\n",
    "\n",
    "1. R-Studio configuration.\n",
    "\n",
    "1. Getting help.\n",
    "\n",
    "1. Datasets, Packages and libraries.\n",
    "\n",
    "1. How to debug code in R: the debugger.\n",
    "\n",
    "1. A few extras: using SQL in R and cleaning up."
   ]
  },
  {
   "cell_type": "markdown",
   "metadata": {},
   "source": [
    "## __What Are We Doing?__\n",
    "\n",
    "We want to acquire, process and analyse health data to answer some kind of __research question__.\n",
    "\n",
    "### _Acquire Data_\n",
    "Get raw data (from somewhere) and import it into the tools.\n",
    "\n",
    "### _Clean and Prepare Data_\n",
    "Clean the data, organise and tidy the data.\n",
    "\n",
    "### _Explore the Data_\n",
    "Describe the data, compare and test the data, model the data.\n",
    "\n",
    "And then answer the question possibly after several iterations.\n",
    "\n",
    "We can use R to do all of this although often we will be accessing and selecting data from huge datasets which would take an excessive time to copy to a local PC or process locally (even if we were allowed). In these cases you will often have access to a database and a limited number of tools. Typically this will be some form of database engine with a query language such as SQL. The first steps in that case would be to reduce the data we need to analyse to a manageable size by selecting only the data we need (the platform files you'll create in 302 and 602). For now, we'll assume we have a small enough database that we can use R."
   ]
  },
  {
   "cell_type": "markdown",
   "metadata": {},
   "source": [
    "## __Running R from R-Studio__\n",
    "\n",
    "Whilst you can execute R from the command line, this is not recommended as a good starting point, so we'll start with an integrated development environment, R-Studio (other IDEs are available). You should be able to start R-Studio as you would any other application and will see a screen like:"
   ]
  },
  {
   "cell_type": "markdown",
   "metadata": {},
   "source": [
    "<img src='images/R-Studio.png'/>"
   ]
  },
  {
   "cell_type": "markdown",
   "metadata": {},
   "source": [
    "If you only have 3 panels, start a new code 'file' by clicking on the File menu, and selecting 'New File' --> 'R Script' and the panel should appear.\n",
    "\n",
    "### __A Quick Look Around R-Studio__\n",
    "\n",
    "The menu bar along the top of the window, as usual, contains all the functionality of R-Studio. Just under this is a taskbar with commonly used icons. There are then 4 panes: the source pane which displays the files you have open for editing; the consoles pane where you can access the R Console (a command line for the R-interpreter - a bit like a calculator), the OS Terminal (cmd or git-bash on Windows, bash otherwise) and a Jobs tab; the Environment panes which displays the contents of variables, the list of all the commands executed by the interpreter (history), database connections and version-control access (usually git); and, finally, the files pane where you can see the current directory, any plots that have been generated, the installed packages and a help viewer and notebook viewer.\n",
    "\n",
    "It's worth have a look around these and getting used to them now and when anything appears in any of the windows. Some of these tabs you will use all the time and some you will never use.\n",
    "\n",
    "Note that you can maximise and minimise panes and, in the View/Panes menu, you can Zoom/Unzoom panes to fill the screen.\n",
    "\n",
    "There are multiple ways to execute R code. You can run code immediately you type it in like a calculator, you can run chunks from a file or a whole file (called an R script) or you can create a notebook like file combining text with executable code (R Markdown / R Notebook). We'll look at each of these now."
   ]
  },
  {
   "cell_type": "markdown",
   "metadata": {},
   "source": [
    "### __Running R like a Calculator__\n",
    "\n",
    "R is an interpreted language: the interpreter is running (the Console window) and will interpret any commands you enter here. Try typing `1 + 3` and pressing \\[ENTER\\]."
   ]
  },
  {
   "cell_type": "code",
   "execution_count": 2,
   "metadata": {},
   "outputs": [
    {
     "data": {
      "text/html": [
       "4"
      ],
      "text/latex": [
       "4"
      ],
      "text/markdown": [
       "4"
      ],
      "text/plain": [
       "[1] 4"
      ]
     },
     "metadata": {},
     "output_type": "display_data"
    }
   ],
   "source": [
    "x <- 1 + 3\n",
    "x"
   ]
  },
  {
   "cell_type": "markdown",
   "metadata": {},
   "source": [
    "You will see the result '4' displayed and a new entry in the environment panel for the variable, x. If you cut-and-paste the code below into the console, it will create a _data frame_ which, along with vectors, is the kind of data we'll mostly use."
   ]
  },
  {
   "cell_type": "code",
   "execution_count": 3,
   "metadata": {},
   "outputs": [],
   "source": [
    "df <- data.frame(\n",
    "    name=c('Olive', 'Pinochio', 'Queenie', 'Raphael'), \n",
    "    gender=c('female', 'male', 'female', 'male'), \n",
    "    height=c(1.7, 1.01, 1.3, 1.6),\n",
    "    weight=c(60, 30, 50, 40))"
   ]
  },
  {
   "cell_type": "markdown",
   "metadata": {},
   "source": [
    "You should now have an entry for df in the Data section of the environment showing '4 obs. of 4 variables'. You can see the data in the main panel if you click on df in the environment (which is the same as typing `View(df)` from the Console).\n",
    "\n",
    "You can do anything in R from the Console and it is a great place to try things out and explore, but it has the drawback that you cannot easily repeat what you have done and it is no always easy to keep track of changes you have made to your functions and data - it is a messy way to work and risks confusion and unreliability.\n",
    "\n",
    "If you need to see what you have done, you can use the up/down-arrows in the Console window or look at the History window (next to the environment) --- where you can double-click on a line to transfer it to the Console to edit and/or run it."
   ]
  },
  {
   "cell_type": "markdown",
   "metadata": {},
   "source": [
    "### __Running R as a Script__\n",
    "\n",
    "It is better to maintain a script file with your useful or successful explorations. To do this, click the New icon in the top left, select R Script and a new document panel will appear in the top left. You can cut and paste commands from the Console or History to the script file and add explanatory comments.\n",
    "\n",
    "To run the entire script file, select it and click the `Source` button. To run one line or a selection, click on the line or select the code you want and click the `Run` button. You can also run the current line using the keyboard - Ctrl-Enter.\n",
    "\n",
    "Remember to save your scripts regularly (and commit to version control so you keep older versions in case you need to go back).\n",
    "\n",
    "Now paste the LCG code below to a script file, save it, run it and re-run with slight changes. Note where the results go and how you organise your code and output. You can save the plots in the plot tab using the Export button in the Plots tab toolbar.\n",
    "\n",
    "Don't worry about understanding the code yet, we will be using it to work through R concepts later."
   ]
  },
  {
   "cell_type": "code",
   "execution_count": 1,
   "metadata": {},
   "outputs": [
    {
     "data": {
      "image/png": "[encoded data removed]",
      "text/plain": [
       "Plot with title \"Histogram of good\""
      ]
     },
     "metadata": {
      "image/png": {
       "height": 420,
       "width": 420
      }
     },
     "output_type": "display_data"
    }
   ],
   "source": [
    "# ------------------------------------------------------------------------------\n",
    "# Linear Congruential Generator (Random Number Generator).\n",
    "# ------------------------------------------------------------------------------\n",
    "# 22 September 2019\n",
    "# Pete Arnold\n",
    "# ------------------------------------------------------------------------------\n",
    "\n",
    "# Next value/seed generator.\n",
    "lcg <- function(modulus, a, c, seed) {\n",
    "    return((a * (seed + c)) %% modulus)\n",
    "}\n",
    "\n",
    "# Vector generator.\n",
    "lcg_vector <- function(modulus, a, c, seed, n) {\n",
    "    l <- vector()\n",
    "    for (i in 1:n) {\n",
    "        s <- lcg(modulus, a, c, s)\n",
    "        l <- rbind(l, s)\n",
    "    }\n",
    "    return(l)\n",
    "}\n",
    "\n",
    "# Create two arrays, one with typically bad parameters and one with good ones.\n",
    "# Parameters from Nicole Radziwill,\n",
    "# https://qualityandinnovation.com/2015/03/03/a-linear-congruential-generator-lcg-in-r/\n",
    "\n",
    "# Number of elements in the vectors.\n",
    "n <- 10000\n",
    "\n",
    "# Bad parameters.\n",
    "m <- 23\n",
    "a <- 6\n",
    "s <- runif(1) * 100\n",
    "c <- 7\n",
    "bad <- lcg_vector(m, a, c, s, n)\n",
    "# Good parameters.\n",
    "m <- 86436\n",
    "a <- 1093\n",
    "s <- runif(1) * 100\n",
    "c <- 18257\n",
    "good <- lcg_vector(m, a, c, s, n)\n",
    "\n",
    "# Plot the results.\n",
    "par(mfrow=c(2,2))\n",
    "hist(bad, breaks=100)\n",
    "plot(bad[1:length(bad)-1], bad[2:length(bad)], pch='.', cex=1, col='red')\n",
    "hist(good, breaks=100)\n",
    "plot(good[1:length(good)-1], good[2:length(good)], pch='.', cex=1, col='green')\n"
   ]
  },
  {
   "cell_type": "markdown",
   "metadata": {},
   "source": [
    "### __R in an R Notebook__\n",
    "\n",
    "An even more interesting concept that a script file is the R Notebook. This is a similar concept to this Jupyter Notebook but is integrated in the R-Studio IDE. It doesn't look as nice as the Jupyter Notebooks in its interactive mode - just as a text file rather than as HTML, but it does have the advantage of being able to run multiple languages in the same notebook - for example, you can use bash terminal commands, python programs, SQL calls and R programs sequentially.\n",
    "\n",
    "This has the advantage of combining the code you use, with commentary (which can include LaTeX formatting) and results and is interactive so that you can tweak and adjust your work as you go. It is also possible to clear everything down and start from scratch at the top of the file.\n",
    "\n",
    "Once you have completed a file, you can `knitr` the Notebook to HTML, PDF or Word to produce a nice-looking although not interactive document detailing your work.\n",
    "\n",
    "You can use R Markdown (as opposed to an R Noteboook) to create a sequence of analyses and output generators to create a PDF or Word document automatically from you data and code.\n",
    "\n",
    "Now create a new __R Notebook__ file and paste the LCG code below into it. Save it, run it and re-run with slight changes. Note where the results go and how you organise your code and output.\n",
    "\n",
    "You can create an R Markdown file if you wish, you'll be asked a few more details about what you want to create as you go.\n",
    "\n",
    "(Note that the next chunk is a raw text chunk so that we don't try to run it here as Jupyter's R interpreter would get confused if we give it R Markdown code)."
   ]
  },
  {
   "cell_type": "raw",
   "metadata": {},
   "source": [
    "### __An Example of an R Markdown File__\n",
    "\n",
    "The first step is to create the functions that we are going to use to implement the random number generator.\n",
    "\n",
    "```{r}\n",
    "# ------------------------------------------------------------------------------\n",
    "# Linear Congruential Generator (Random Number Generator).\n",
    "# ------------------------------------------------------------------------------\n",
    "# 22 September 2019\n",
    "# Pete Arnold\n",
    "# ------------------------------------------------------------------------------\n",
    "\n",
    "# Next value/seed generator.\n",
    "lcg <- function(modulus, a, c, seed) {\n",
    "    return((a * (seed + c)) %% modulus)\n",
    "}\n",
    "\n",
    "# Vector generator.\n",
    "lcg_vector <- function(modulus, a, c, seed, n) {\n",
    "    l <- vector()\n",
    "    for (i in 1:n) {\n",
    "        s <- lcg(modulus, a, c, s)\n",
    "        l <- rbind(l, s)\n",
    "    }\n",
    "    return(l)\n",
    "}\n",
    "```\n",
    "\n",
    "Then we'll create two arrays of data with two different sets of parameters to illustrate how important parameter selection is for this particular design.\n",
    "\n",
    "```{r}\n",
    "# Create two arrays, one with typically bad parameters and one with good ones.\n",
    "# Parameters from Nicole Radziwill,\n",
    "# https://qualityandinnovation.com/2015/03/03/a-linear-congruential-generator-lcg-in-r/\n",
    "\n",
    "# Number of elements in the vectors.\n",
    "n <- 10000\n",
    "\n",
    "# Bad parameters.\n",
    "m <- 23\n",
    "a <- 6\n",
    "s <- runif(1) * 100\n",
    "c <- 7\n",
    "bad <- lcg_vector(m, a, c, s, n)\n",
    "# Good parameters.\n",
    "m <- 86436\n",
    "a <- 1093\n",
    "s <- runif(1) * 100\n",
    "c <- 18257\n",
    "good <- lcg_vector(m, a, c, s, n)\n",
    "```\n",
    "\n",
    "And now we'll plot those data.\n",
    "\n",
    "```{r}\n",
    "# Plot the results.\n",
    "par(mfrow=c(2,2))\n",
    "hist(bad, breaks=100)\n",
    "plot(bad[1:length(bad)-1], bad[2:length(bad)], pch='.', cex=1, col='red')\n",
    "hist(good, breaks=100)\n",
    "plot(good[1:length(good)-1], good[2:length(good)], pch='.', cex=1, col='green')\n",
    "```"
   ]
  },
  {
   "cell_type": "markdown",
   "metadata": {},
   "source": [
    "<div style='background-color:lightgray;'>\n",
    "<h3><b>Challenge</b>: Look into the DIEHARD tests for random number generators.</h3>\n",
    "See if it is possible to implement aany of these and get a statistical measure of the RNG quality.\n",
    "</div>"
   ]
  },
  {
   "cell_type": "markdown",
   "metadata": {},
   "source": [
    "<div style='background-color:lightgray;'>\n",
    "<h3><b>Challenge</b>: Review the code for the LCG and improve its performance.</h3>\n",
    "In particular you could look to see if the addition of new items to the vector results in the vector being copied which will make larger vectors unbearably inefficient. If so, is there a better way?\n",
    "</div>"
   ]
  },
  {
   "cell_type": "markdown",
   "metadata": {},
   "source": [
    "<div style='background-color:lightgray;'>\n",
    "<h3><b>Challenge</b>: Attempt to create an alternative type of random number generator.</h3>\n",
    "Compare the quality of output and of the code.\n",
    "</div>\n",
    "See [Wikipedia](https://en.wikipedia.org/wiki/List_of_random_number_generators) for ideas."
   ]
  },
  {
   "cell_type": "markdown",
   "metadata": {},
   "source": [
    "<table style=\"text-align:center;\"><tr><td width=\"100\" height=\"20\" style=\"background-color:greenyellow\"></td><td width=\"100\" height=\"20\" style=\"background-color:hotpink\"></td></tr></table>"
   ]
  },
  {
   "cell_type": "markdown",
   "metadata": {},
   "source": [
    "## __Working with R: Using Projects__\n",
    "\n",
    "R code doesn't exist on its own. It makes use of a number of additional elements - data, libraries, configurations etc. To organise these effectively, it is best to use an R Project. I would say, __ALWAYS__ use an R Project for a, well, project (unless you creating a Package explicitly to share with others - as it requires you to organise files consistently and provide additional documentation - but that's for a particular situation).\n",
    "\n",
    "In the File menu, select New Project... and then select one of the three options depending on whether you wish to create a new working directory withthe project in it, add the project to an existing directory or checkout the project from an exsiting version control repository. I generally use 'New Directory'.\n",
    "\n",
    "Then select the project type. Generall this will be New Project but if you want to make a Package, select R Package. Choose one of the others if they apply to your work (we may reach Shiny in this course but won't be covering the use of C++ with R (Rcpp)).\n",
    "\n",
    "Select the location of the directory using Browse... and give the directory a name. Unless you really don't want a git repository, check the 'Create a git repository' option and then click Create Project.\n",
    "\n",
    "R-Studio will create the project (the \\<project-name\\>.Rproj file contains some configuration and also indicates that the folder it is in is an R project folder. It will also create a git repository (a hidden folder called '.git'), locate the Console and Files tabs in the project directory and provide a git interface tab in the top right of the screen. And you're set to go.\n",
    "\n",
    "You can now add new files to the project. \n",
    "\n",
    "There are two things you need to decide here:\n",
    "\n",
    "* How you want to structure your directories and projects\n",
    "* A consistent approach to file & directory naming\n",
    "\n",
    "You will need to create a space/spaces on your disk where you wish to keep your research - this may be a single directory in which you keep all your programming project code or many directories, one inside each project directory, whatever is good for you. But it is worth creating a separate project and project directory everytime you start a new project and, if necessary copy the code from a previous project unless closely related.\n",
    "\n",
    "If you find yourself repeatedly copying a chunk of code to every project, you might consider creating a package for that code and loading it as a library in all your projects. This has a number of advantages: any changes to the library code only need be done once for all projects that use a library, the design of the library will become more robust in order to be suitable in all contexts and you may be able to share the library easily with others (for extra kudos).\n",
    "\n",
    "I will typically use the following directories:\n",
    "\n",
    "* 'R' - for R files, R Markdown etc. Although you might have separate folders for each of these.\n",
    "* 'data' - for your working data files (typically CSV or XLS files but R can import data from many different file types as well as interface to SQL databases.\n",
    "* 'raw_data' - for your data files as you received them (so that you can go back to the start if you want before you made ANY changes. If you do this, never access these files from your R code. If you want to use these files copy them to the 'data' directory.\n",
    "* 'output' - for your results data.\n",
    "* 'plots' - for your plots.\n",
    "* 'reports' - for your text documents.\n",
    "* 'documentation' - for documents about your code, references etc."
   ]
  },
  {
   "cell_type": "markdown",
   "metadata": {},
   "source": [
    "Now copy again the random number generator code above into a new R script file and we'll go through the saving processes that are available."
   ]
  },
  {
   "cell_type": "markdown",
   "metadata": {},
   "source": [
    "## __Set-up a Project Space__\n",
    "\n",
    "There are two things to decide here:\n",
    "\n",
    "* How you want to structure your directories and projects\n",
    "* A consistent approach to file & directory naming\n",
    "\n",
    "Create a space on your disk where you wish to keep your research - this may be a single directory in which you keep all your programming project code or many directories, one inside each project directory, whatever is good for you. But it is worth creating a separate project and project directory everytime you start a new project and, if necessary copy the code from a previous project unless closely related.\n",
    "\n",
    "Within this workspace, each component may have a separate project or be part of a single project.\n",
    "\n",
    "When you save a workspace, make sure that you save it where you know what it is - in the same project directory or in a 'workspace' directory with a specific name, for example."
   ]
  },
  {
   "cell_type": "markdown",
   "metadata": {},
   "source": [
    "## __Saving and Committing__\n",
    "\n",
    "You should get into the habit of saving you code, plots, data often. R-Studio will often do this automatically, but sometimes R will hang and you risk losing your data and code modifications. You can save files, the entire data environment (the workspace) as well as individual data objects.\n",
    "\n",
    "When you save files, data or workspaces, make sure that you know where you have saved it - there are many helpful systems which try to make this easier and don't. And make sure you save it where you know what it is - in the same project directory or in a 'workspace' directory with a specific name, for example. You will need to be able to recognise or identify everything you save perhaps many years in the future when you _will_ have forgotten what you did.\n",
    "\n",
    "### _Files_\n",
    "\n",
    "Use the Save button to save script and markdown files. Do this regularly to avoid losing work, especially if the R interpreter hangs. Sourcing a script automatically saves it.\n",
    "\n",
    "Create a new folder called 'R' in your project with the 'New Folder' button in the 'Files' tab.\n",
    "\n",
    "Save your random number generator R Script file to an R folder next to your Rproj file.\n",
    "\n",
    "#### _Keeping a log of files and their changes with 'git'_\n",
    "\n",
    "Once you have made some useful changes or several, make use of the git version control to save another version to the repository.\n",
    "\n",
    "There is a Git window in the top right panel (assuming you have enabled version control for this project). It will list any files and directories in your working directory. You may need to double-click on a folder to see the files that this contains and this will stage those files for inclusion in version control. Unclick the tick box to their left if you do not want this to happen.\n",
    "\n",
    "Select the new files you want to add \\[A\\] icon and the changes you want to save to git then click Commit. This will bring up a Review Changes dialog box where you can check and adjust the files which are staged for commit and also include a commit message (in the text box on the top right of the window).\n",
    "\n",
    "If you want to see the commit history, there is a button in the top left that allows you to change the view and a menu option on the Git tab.\n",
    "\n",
    "When you have the files and message as you want them, click Commit and git will process the files producing a list of actions it has taken.\n",
    "\n",
    "We'll cover how to make use of these versions later in the module.\n",
    "\n",
    "### _Individual Data Objects_\n",
    "\n",
    "You can save specific data objects using `save` and `load`. These functions will save data in a binary format. If you need to save in ASCII, use `dump` and `dput`.\n",
    "\n",
    "Note that if you save a data structure that is defined by a specific library, you __MUST__ load that library before you attempt to load the data otherwise R will misinterpret the data.\n",
    "\n",
    "`library(zoo)\n",
    "save(zooObject, file=\"zooObject.RData\")`\n",
    "\n",
    "will, if you're in a new session, require\n",
    "\n",
    "`libary(zoo)\n",
    "load(file=\"zooObject.RData\")`\n",
    "\n",
    "### _The Environment_\n",
    "\n",
    "Also get into the habit keeping one or two (but not too many as they can get huge) Workspaces using the Session menu --> Save Workspace As... Once you have the workspace saved, you load it again using the Load Workspace option. This is often useful for debugging if you restart R & clear the workspace and find something doesn't work anymore.\n",
    "\n",
    "R Studio will, by default save and load the Workspace when you start and stop the programme. If you don't want R to do this, you need to set this option in the project options (see Configuration below). "
   ]
  },
  {
   "cell_type": "markdown",
   "metadata": {},
   "source": [
    "## __Backup__\n",
    "\n",
    "Always make a regular backup of your data. This may help you to decide how you will structure your workspace since it is easier to copy a single large directory to a USB or network disk or the cloud that it is to copy many directories scattered across your Documents folder.\n",
    "\n",
    "There are backup applications which can make this easier still allowing you to:\n",
    "* only save files that have changed,\n",
    "* decide which directories to backup from, and \n",
    "* schedule the backups to happen automatically\n",
    "\n",
    "There are backup strategies in which you make a backup weekly on five devices and have two additional devices which you use on alternate months on the first backuop of the month. In this way, you have multiple chances should the original disk fail and there is a problem with the backup, the media or the restore process."
   ]
  },
  {
   "cell_type": "markdown",
   "metadata": {},
   "source": [
    "<table style=\"text-align:center;\"><tr><td width=\"100\" height=\"20\" style=\"background-color:greenyellow\"></td><td width=\"100\" height=\"20\" style=\"background-color:hotpink\"></td></tr></table>"
   ]
  },
  {
   "cell_type": "markdown",
   "metadata": {},
   "source": [
    "## __Restarting R and Clearing the Workspace__\n",
    "\n",
    "It is a good idea to regularly restart your R-Session and clear out your data to ensure that your results are not dependent on a definition or some manipulations you have forgotten you have made. \n",
    "\n",
    "### _Restarting R_\n",
    "You can restart the R interpreter by selecting Session --> Restart R.\n",
    "\n",
    "### _Clearing the Workspace_\n",
    "You can do this by Session --> Clear Workspace - include hidden objects \\[or use `rm(list=ls(all.names=TRUE))`\\].\n",
    "\n",
    "### _Keeping Things Tidy_\n",
    "Once you have successfully completed a clean run, save the workspace so that you can return to the clean state quickly.\n",
    "\n",
    "At this point it is worth reviewing how many old saved workspaces you have and deleting any you won't use again. Otherwise you will just bung your computer up with old data you will never use.\n",
    "\n",
    "### _Starting and Stopping the Interpreter_\n",
    "If R gets stuck or looks like it's going to be working harder than you expected, you can stop the R interpreter by clicking the STOP icon in the Console window or using the Session menu, Interrupt R option. If this fails to stop R, you can try to Terminate R or Restart R but these usually result in termination and the loss of the environment, so best to ensure you have saved it occasionally."
   ]
  },
  {
   "cell_type": "markdown",
   "metadata": {},
   "source": [
    "## __Configuration and Settings__\n",
    "\n",
    "In the Tools menu you can set Project and Global options. It is best you explore these yourself but the following are useful.\n",
    "\n",
    "### _Global Options_\n",
    "\n",
    "* \\[General\\] Automatic save and restore of workspace data (can be useful but can also lead you to depend on undocumented operations).\n",
    "* \\[Code\\] Set tab to use spaces and width (I like 4) and I prefer to remove all the automatic features - but these are all personal taste.\n",
    "* \\[Code\\] An 80 column width is quite useful to allow you to place two files side-by-side and compare.\n",
    "* \\[Code\\] Lines number are essential for making sense of error messages.\n",
    "* \\[Appearance\\] Enjoy!\n",
    "\n",
    "### _Project Options_\n",
    "\n",
    "* A subset of the global options that can be changed to apply to just this project.\n"
   ]
  },
  {
   "cell_type": "markdown",
   "metadata": {},
   "source": [
    "## __Getting Help__\n",
    "\n",
    "R has a reasonable amount of built in documentation (although it is variable). If you know want you want help with you can type `?thing` (same as `help(thing)`). For example, if you want to know about datasets, type `?datasets`. If R cannot find anything indexed as the word you have requested it'll suggest `??thing`. This will do a search for anything to do with that word (same as `help.search(thing)`). For example, `?vector` will produce a page for vectors (in the Help tab - bottom right), but `?vectors` will get nothing. If you then use `??vectors` you will see a list of hits that have something to do with vectors in the Help tab.\n",
    "\n",
    "To find out what arguments are required, use `args(thing)` and to get some examples, use `example(thing)`.\n",
    "\n",
    "There are many resources online of variable quality and usefulness. Some are poor, some are far too detailed except for uber-specialists. But Google is useful. Stack Overflow also often results in solutions to problems you may find. It is usually useful to search for R then the topic you want, e.g. 'R vectors'."
   ]
  },
  {
   "cell_type": "markdown",
   "metadata": {},
   "source": [
    "<table style=\"text-align:center;\"><tr><td width=\"100\" height=\"20\" style=\"background-color:greenyellow\"></td><td width=\"100\" height=\"20\" style=\"background-color:hotpink\"></td></tr></table>"
   ]
  },
  {
   "cell_type": "markdown",
   "metadata": {},
   "source": [
    "## __Datasets__\n",
    "\n",
    "The best way to learn R is to play with the language and data. R has a lot of datasets built-in which you can explore and on which you can try out various data science and statistical techniques. You can see these datasets by typing `data()`."
   ]
  },
  {
   "cell_type": "code",
   "execution_count": 2,
   "metadata": {},
   "outputs": [
    {
     "data": {
      "text/html": [
       "<h3>Data sets</h3>\n",
       "<table>\n",
       "<caption>A data.frame: 112 × 3</caption>\n",
       "<thead>\n",
       "\t<tr><th scope=col>Package</th><th scope=col>Item</th><th scope=col>Title</th></tr>\n",
       "\t<tr><th scope=col>&lt;chr&gt;</th><th scope=col>&lt;chr&gt;</th><th scope=col>&lt;chr&gt;</th></tr>\n",
       "</thead>\n",
       "<tbody>\n",
       "\t<tr><td>datasets</td><td>AirPassengers         </td><td>Monthly Airline Passenger Numbers 1949-1960                    </td></tr>\n",
       "\t<tr><td>datasets</td><td>BJsales               </td><td>Sales Data with Leading Indicator                              </td></tr>\n",
       "\t<tr><td>datasets</td><td>BJsales.lead (BJsales)</td><td>Sales Data with Leading Indicator                              </td></tr>\n",
       "\t<tr><td>datasets</td><td>BOD                   </td><td>Biochemical Oxygen Demand                                      </td></tr>\n",
       "\t<tr><td>datasets</td><td>CO2                   </td><td>Carbon Dioxide Uptake in Grass Plants                          </td></tr>\n",
       "\t<tr><td>datasets</td><td>ChickWeight           </td><td>Weight versus age of chicks on different diets                 </td></tr>\n",
       "\t<tr><td>datasets</td><td>DNase                 </td><td>Elisa assay of DNase                                           </td></tr>\n",
       "\t<tr><td>datasets</td><td>EuStockMarkets        </td><td>Daily Closing Prices of Major European Stock Indices, 1991-1998</td></tr>\n",
       "\t<tr><td>datasets</td><td>Formaldehyde          </td><td>Determination of Formaldehyde                                  </td></tr>\n",
       "\t<tr><td>datasets</td><td>HairEyeColor          </td><td>Hair and Eye Color of Statistics Students                      </td></tr>\n",
       "\t<tr><td>datasets</td><td>Harman23.cor          </td><td>Harman Example 2.3                                             </td></tr>\n",
       "\t<tr><td>datasets</td><td>Harman74.cor          </td><td>Harman Example 7.4                                             </td></tr>\n",
       "\t<tr><td>datasets</td><td>Indometh              </td><td>Pharmacokinetics of Indomethacin                               </td></tr>\n",
       "\t<tr><td>datasets</td><td>InsectSprays          </td><td>Effectiveness of Insect Sprays                                 </td></tr>\n",
       "\t<tr><td>datasets</td><td><span style=white-space:pre-wrap>JohnsonJohnson        </span></td><td><span style=white-space:pre-wrap>Quarterly Earnings per Johnson &amp; Johnson Share                 </span></td></tr>\n",
       "\t<tr><td>datasets</td><td>LakeHuron             </td><td>Level of Lake Huron 1875-1972                                  </td></tr>\n",
       "\t<tr><td>datasets</td><td>LifeCycleSavings      </td><td>Intercountry Life-Cycle Savings Data                           </td></tr>\n",
       "\t<tr><td>datasets</td><td>Loblolly              </td><td>Growth of Loblolly pine trees                                  </td></tr>\n",
       "\t<tr><td>datasets</td><td>Nile                  </td><td>Flow of the River Nile                                         </td></tr>\n",
       "\t<tr><td>datasets</td><td>Orange                </td><td>Growth of Orange Trees                                         </td></tr>\n",
       "\t<tr><td>datasets</td><td>OrchardSprays         </td><td>Potency of Orchard Sprays                                      </td></tr>\n",
       "\t<tr><td>datasets</td><td>PlantGrowth           </td><td>Results from an Experiment on Plant Growth                     </td></tr>\n",
       "\t<tr><td>datasets</td><td>Puromycin             </td><td>Reaction Velocity of an Enzymatic Reaction                     </td></tr>\n",
       "\t<tr><td>datasets</td><td>Seatbelts             </td><td>Road Casualties in Great Britain 1969-84                       </td></tr>\n",
       "\t<tr><td>datasets</td><td>Theoph                </td><td>Pharmacokinetics of Theophylline                               </td></tr>\n",
       "\t<tr><td>datasets</td><td>Titanic               </td><td>Survival of passengers on the Titanic                          </td></tr>\n",
       "\t<tr><td>datasets</td><td>ToothGrowth           </td><td>The Effect of Vitamin C on Tooth Growth in Guinea Pigs         </td></tr>\n",
       "\t<tr><td>datasets</td><td>UCBAdmissions         </td><td>Student Admissions at UC Berkeley                              </td></tr>\n",
       "\t<tr><td>datasets</td><td>UKDriverDeaths        </td><td>Road Casualties in Great Britain 1969-84                       </td></tr>\n",
       "\t<tr><td>datasets</td><td>UKgas                 </td><td>UK Quarterly Gas Consumption                                   </td></tr>\n",
       "\t<tr><td>datasets</td><td>USAccDeaths           </td><td>Accidental Deaths in the US 1973-1978                          </td></tr>\n",
       "\t<tr><td>datasets</td><td>USArrests             </td><td>Violent Crime Rates by US State                                </td></tr>\n",
       "\t<tr><td>datasets</td><td>USJudgeRatings        </td><td>Lawyers' Ratings of State Judges in the US Superior Court      </td></tr>\n",
       "\t<tr><td>datasets</td><td>USPersonalExpenditure </td><td>Personal Expenditure Data                                      </td></tr>\n",
       "\t<tr><td>datasets</td><td>UScitiesD             </td><td>Distances Between European Cities and Between US Cities        </td></tr>\n",
       "\t<tr><td>datasets</td><td>VADeaths              </td><td>Death Rates in Virginia (1940)                                 </td></tr>\n",
       "\t<tr><td>datasets</td><td>WWWusage              </td><td>Internet Usage per Minute                                      </td></tr>\n",
       "\t<tr><td>datasets</td><td>WorldPhones           </td><td>The World's Telephones                                         </td></tr>\n",
       "\t<tr><td>datasets</td><td>ability.cov           </td><td>Ability and Intelligence Tests                                 </td></tr>\n",
       "\t<tr><td>datasets</td><td>airmiles              </td><td>Passenger Miles on Commercial US Airlines, 1937-1960           </td></tr>\n",
       "\t<tr><td>datasets</td><td>airquality            </td><td>New York Air Quality Measurements                              </td></tr>\n",
       "\t<tr><td>datasets</td><td>anscombe              </td><td>Anscombe's Quartet of 'Identical' Simple Linear Regressions    </td></tr>\n",
       "\t<tr><td>datasets</td><td>attenu                </td><td>The Joyner-Boore Attenuation Data                              </td></tr>\n",
       "\t<tr><td>datasets</td><td>attitude              </td><td>The Chatterjee-Price Attitude Data                             </td></tr>\n",
       "\t<tr><td>datasets</td><td>austres               </td><td>Quarterly Time Series of the Number of Australian Residents    </td></tr>\n",
       "\t<tr><td>datasets</td><td>beaver1 (beavers)     </td><td>Body Temperature Series of Two Beavers                         </td></tr>\n",
       "\t<tr><td>datasets</td><td>beaver2 (beavers)     </td><td>Body Temperature Series of Two Beavers                         </td></tr>\n",
       "\t<tr><td>datasets</td><td>cars                  </td><td>Speed and Stopping Distances of Cars                           </td></tr>\n",
       "\t<tr><td>datasets</td><td>chickwts              </td><td>Chicken Weights by Feed Type                                   </td></tr>\n",
       "\t<tr><td>datasets</td><td>co2                   </td><td>Mauna Loa Atmospheric CO2 Concentration                        </td></tr>\n",
       "\t<tr><td>datasets</td><td>crimtab               </td><td>Student's 3000 Criminals Data                                  </td></tr>\n",
       "\t<tr><td>datasets</td><td>discoveries           </td><td>Yearly Numbers of Important Discoveries                        </td></tr>\n",
       "\t<tr><td>datasets</td><td>esoph                 </td><td>Smoking, Alcohol and (O)esophageal Cancer                      </td></tr>\n",
       "\t<tr><td>datasets</td><td>euro                  </td><td>Conversion Rates of Euro Currencies                            </td></tr>\n",
       "\t<tr><td>datasets</td><td>euro.cross (euro)     </td><td>Conversion Rates of Euro Currencies                            </td></tr>\n",
       "\t<tr><td>datasets</td><td>eurodist              </td><td>Distances Between European Cities and Between US Cities        </td></tr>\n",
       "\t<tr><td>datasets</td><td>faithful              </td><td>Old Faithful Geyser Data                                       </td></tr>\n",
       "\t<tr><td>datasets</td><td>fdeaths (UKLungDeaths)</td><td>Monthly Deaths from Lung Diseases in the UK                    </td></tr>\n",
       "\t<tr><td>datasets</td><td>freeny                </td><td>Freeny's Revenue Data                                          </td></tr>\n",
       "\t<tr><td>datasets</td><td>freeny.x (freeny)     </td><td>Freeny's Revenue Data                                          </td></tr>\n",
       "\t<tr><td>datasets</td><td>freeny.y (freeny)     </td><td>Freeny's Revenue Data                                          </td></tr>\n",
       "\t<tr><td>datasets</td><td>infert                </td><td>Infertility after Spontaneous and Induced Abortion             </td></tr>\n",
       "\t<tr><td>datasets</td><td>iris                  </td><td>Edgar Anderson's Iris Data                                     </td></tr>\n",
       "\t<tr><td>datasets</td><td>iris3                 </td><td>Edgar Anderson's Iris Data                                     </td></tr>\n",
       "\t<tr><td>datasets</td><td>islands               </td><td>Areas of the World's Major Landmasses                          </td></tr>\n",
       "\t<tr><td>datasets</td><td>ldeaths (UKLungDeaths)</td><td>Monthly Deaths from Lung Diseases in the UK                    </td></tr>\n",
       "\t<tr><td>datasets</td><td>lh                    </td><td>Luteinizing Hormone in Blood Samples                           </td></tr>\n",
       "\t<tr><td>datasets</td><td>longley               </td><td>Longley's Economic Regression Data                             </td></tr>\n",
       "\t<tr><td>datasets</td><td>lynx                  </td><td>Annual Canadian Lynx trappings 1821-1934                       </td></tr>\n",
       "\t<tr><td>datasets</td><td>mdeaths (UKLungDeaths)</td><td>Monthly Deaths from Lung Diseases in the UK                    </td></tr>\n",
       "\t<tr><td>datasets</td><td>morley                </td><td>Michelson Speed of Light Data                                  </td></tr>\n",
       "\t<tr><td>datasets</td><td>mtcars                </td><td>Motor Trend Car Road Tests                                     </td></tr>\n",
       "\t<tr><td>datasets</td><td>nhtemp                </td><td>Average Yearly Temperatures in New Haven                       </td></tr>\n",
       "\t<tr><td>datasets</td><td>nottem                </td><td>Average Monthly Temperatures at Nottingham, 1920-1939          </td></tr>\n",
       "\t<tr><td>datasets</td><td>npk                   </td><td>Classical N, P, K Factorial Experiment                         </td></tr>\n",
       "\t<tr><td>datasets</td><td>occupationalStatus    </td><td>Occupational Status of Fathers and their Sons                  </td></tr>\n",
       "\t<tr><td>datasets</td><td>precip                </td><td>Annual Precipitation in US Cities                              </td></tr>\n",
       "\t<tr><td>datasets</td><td>presidents            </td><td>Quarterly Approval Ratings of US Presidents                    </td></tr>\n",
       "\t<tr><td>datasets</td><td>pressure              </td><td>Vapor Pressure of Mercury as a Function of Temperature         </td></tr>\n",
       "\t<tr><td>datasets</td><td>quakes                </td><td>Locations of Earthquakes off Fiji                              </td></tr>\n",
       "\t<tr><td>datasets</td><td>randu                 </td><td>Random Numbers from Congruential Generator RANDU               </td></tr>\n",
       "\t<tr><td>datasets</td><td>rivers                </td><td>Lengths of Major North American Rivers                         </td></tr>\n",
       "\t<tr><td>datasets</td><td>rock                  </td><td>Measurements on Petroleum Rock Samples                         </td></tr>\n",
       "\t<tr><td>datasets</td><td>sleep                 </td><td>Student's Sleep Data                                           </td></tr>\n",
       "\t<tr><td>datasets</td><td>stack.loss (stackloss)</td><td>Brownlee's Stack Loss Plant Data                               </td></tr>\n",
       "\t<tr><td>datasets</td><td>stack.x (stackloss)   </td><td>Brownlee's Stack Loss Plant Data                               </td></tr>\n",
       "\t<tr><td>datasets</td><td>stackloss             </td><td>Brownlee's Stack Loss Plant Data                               </td></tr>\n",
       "\t<tr><td>datasets</td><td>state.abb (state)     </td><td>US State Facts and Figures                                     </td></tr>\n",
       "\t<tr><td>datasets</td><td>state.area (state)    </td><td>US State Facts and Figures                                     </td></tr>\n",
       "\t<tr><td>datasets</td><td>state.center (state)  </td><td>US State Facts and Figures                                     </td></tr>\n",
       "\t<tr><td>datasets</td><td>state.division (state)</td><td>US State Facts and Figures                                     </td></tr>\n",
       "\t<tr><td>datasets</td><td>state.name (state)    </td><td>US State Facts and Figures                                     </td></tr>\n",
       "\t<tr><td>datasets</td><td>state.region (state)  </td><td>US State Facts and Figures                                     </td></tr>\n",
       "\t<tr><td>datasets</td><td>state.x77 (state)     </td><td>US State Facts and Figures                                     </td></tr>\n",
       "\t<tr><td>datasets</td><td>sunspot.month         </td><td>Monthly Sunspot Data, from 1749 to \"Present\"                   </td></tr>\n",
       "\t<tr><td>datasets</td><td>sunspot.year          </td><td>Yearly Sunspot Data, 1700-1988                                 </td></tr>\n",
       "\t<tr><td>datasets</td><td>sunspots              </td><td>Monthly Sunspot Numbers, 1749-1983                             </td></tr>\n",
       "\t<tr><td>datasets</td><td>swiss                 </td><td>Swiss Fertility and Socioeconomic Indicators (1888) Data       </td></tr>\n",
       "\t<tr><td>datasets</td><td>treering              </td><td>Yearly Treering Data, -6000-1979                               </td></tr>\n",
       "\t<tr><td>datasets</td><td>trees                 </td><td>Diameter, Height and Volume for Black Cherry Trees             </td></tr>\n",
       "\t<tr><td>datasets</td><td>uspop                 </td><td>Populations Recorded by the US Census                          </td></tr>\n",
       "\t<tr><td>datasets</td><td>volcano               </td><td>Topographic Information on Auckland's Maunga Whau Volcano      </td></tr>\n",
       "\t<tr><td>datasets</td><td>warpbreaks            </td><td>The Number of Breaks in Yarn during Weaving                    </td></tr>\n",
       "\t<tr><td>datasets</td><td>women                 </td><td>Average Heights and Weights for American Women                 </td></tr>\n",
       "\t<tr><td>.       </td><td>clusters              </td><td>                                                               </td></tr>\n",
       "\t<tr><td>.       </td><td>evil.deaths           </td><td>                                                               </td></tr>\n",
       "\t<tr><td>.       </td><td>isolation             </td><td>                                                               </td></tr>\n",
       "\t<tr><td>.       </td><td>oneway                </td><td>                                                               </td></tr>\n",
       "\t<tr><td>.       </td><td>ozone.data            </td><td>                                                               </td></tr>\n",
       "\t<tr><td>.       </td><td>pregnancy             </td><td>                                                               </td></tr>\n",
       "\t<tr><td>.       </td><td>sheep.deaths          </td><td>                                                               </td></tr>\n",
       "\t<tr><td>.       </td><td>sulphur.dioxide       </td><td>                                                               </td></tr>\n",
       "</tbody>\n",
       "</table>\n",
       "\n",
       "<p>Use 'data(package = .packages(all.available = TRUE))'\n",
       "to list the data sets in all *available* packages.</p>"
      ],
      "text/plain": [
       "Data sets in package '.':\n",
       "\n",
       "clusters                \n",
       "evil.deaths             \n",
       "isolation               \n",
       "oneway                  \n",
       "ozone.data              \n",
       "pregnancy               \n",
       "sheep.deaths            \n",
       "sulphur.dioxide         \n",
       "Data sets in package 'datasets':\n",
       "\n",
       "AirPassengers           Monthly Airline Passenger Numbers 1949-1960\n",
       "BJsales                 Sales Data with Leading Indicator\n",
       "BJsales.lead (BJsales)\n",
       "                        Sales Data with Leading Indicator\n",
       "BOD                     Biochemical Oxygen Demand\n",
       "CO2                     Carbon Dioxide Uptake in Grass Plants\n",
       "ChickWeight             Weight versus age of chicks on different diets\n",
       "DNase                   Elisa assay of DNase\n",
       "EuStockMarkets          Daily Closing Prices of Major European Stock\n",
       "                        Indices, 1991-1998\n",
       "Formaldehyde            Determination of Formaldehyde\n",
       "HairEyeColor            Hair and Eye Color of Statistics Students\n",
       "Harman23.cor            Harman Example 2.3\n",
       "Harman74.cor            Harman Example 7.4\n",
       "Indometh                Pharmacokinetics of Indomethacin\n",
       "InsectSprays            Effectiveness of Insect Sprays\n",
       "JohnsonJohnson          Quarterly Earnings per Johnson & Johnson Share\n",
       "LakeHuron               Level of Lake Huron 1875-1972\n",
       "LifeCycleSavings        Intercountry Life-Cycle Savings Data\n",
       "Loblolly                Growth of Loblolly pine trees\n",
       "Nile                    Flow of the River Nile\n",
       "Orange                  Growth of Orange Trees\n",
       "OrchardSprays           Potency of Orchard Sprays\n",
       "PlantGrowth             Results from an Experiment on Plant Growth\n",
       "Puromycin               Reaction Velocity of an Enzymatic Reaction\n",
       "Seatbelts               Road Casualties in Great Britain 1969-84\n",
       "Theoph                  Pharmacokinetics of Theophylline\n",
       "Titanic                 Survival of passengers on the Titanic\n",
       "ToothGrowth             The Effect of Vitamin C on Tooth Growth in\n",
       "                        Guinea Pigs\n",
       "UCBAdmissions           Student Admissions at UC Berkeley\n",
       "UKDriverDeaths          Road Casualties in Great Britain 1969-84\n",
       "UKgas                   UK Quarterly Gas Consumption\n",
       "USAccDeaths             Accidental Deaths in the US 1973-1978\n",
       "USArrests               Violent Crime Rates by US State\n",
       "USJudgeRatings          Lawyers' Ratings of State Judges in the US\n",
       "                        Superior Court\n",
       "USPersonalExpenditure   Personal Expenditure Data\n",
       "UScitiesD               Distances Between European Cities and Between\n",
       "                        US Cities\n",
       "VADeaths                Death Rates in Virginia (1940)\n",
       "WWWusage                Internet Usage per Minute\n",
       "WorldPhones             The World's Telephones\n",
       "ability.cov             Ability and Intelligence Tests\n",
       "airmiles                Passenger Miles on Commercial US Airlines,\n",
       "                        1937-1960\n",
       "airquality              New York Air Quality Measurements\n",
       "anscombe                Anscombe's Quartet of 'Identical' Simple Linear\n",
       "                        Regressions\n",
       "attenu                  The Joyner-Boore Attenuation Data\n",
       "attitude                The Chatterjee-Price Attitude Data\n",
       "austres                 Quarterly Time Series of the Number of\n",
       "                        Australian Residents\n",
       "beaver1 (beavers)       Body Temperature Series of Two Beavers\n",
       "beaver2 (beavers)       Body Temperature Series of Two Beavers\n",
       "cars                    Speed and Stopping Distances of Cars\n",
       "chickwts                Chicken Weights by Feed Type\n",
       "co2                     Mauna Loa Atmospheric CO2 Concentration\n",
       "crimtab                 Student's 3000 Criminals Data\n",
       "discoveries             Yearly Numbers of Important Discoveries\n",
       "esoph                   Smoking, Alcohol and (O)esophageal Cancer\n",
       "euro                    Conversion Rates of Euro Currencies\n",
       "euro.cross (euro)       Conversion Rates of Euro Currencies\n",
       "eurodist                Distances Between European Cities and Between\n",
       "                        US Cities\n",
       "faithful                Old Faithful Geyser Data\n",
       "fdeaths (UKLungDeaths)\n",
       "                        Monthly Deaths from Lung Diseases in the UK\n",
       "freeny                  Freeny's Revenue Data\n",
       "freeny.x (freeny)       Freeny's Revenue Data\n",
       "freeny.y (freeny)       Freeny's Revenue Data\n",
       "infert                  Infertility after Spontaneous and Induced\n",
       "                        Abortion\n",
       "iris                    Edgar Anderson's Iris Data\n",
       "iris3                   Edgar Anderson's Iris Data\n",
       "islands                 Areas of the World's Major Landmasses\n",
       "ldeaths (UKLungDeaths)\n",
       "                        Monthly Deaths from Lung Diseases in the UK\n",
       "lh                      Luteinizing Hormone in Blood Samples\n",
       "longley                 Longley's Economic Regression Data\n",
       "lynx                    Annual Canadian Lynx trappings 1821-1934\n",
       "mdeaths (UKLungDeaths)\n",
       "                        Monthly Deaths from Lung Diseases in the UK\n",
       "morley                  Michelson Speed of Light Data\n",
       "mtcars                  Motor Trend Car Road Tests\n",
       "nhtemp                  Average Yearly Temperatures in New Haven\n",
       "nottem                  Average Monthly Temperatures at Nottingham,\n",
       "                        1920-1939\n",
       "npk                     Classical N, P, K Factorial Experiment\n",
       "occupationalStatus      Occupational Status of Fathers and their Sons\n",
       "precip                  Annual Precipitation in US Cities\n",
       "presidents              Quarterly Approval Ratings of US Presidents\n",
       "pressure                Vapor Pressure of Mercury as a Function of\n",
       "                        Temperature\n",
       "quakes                  Locations of Earthquakes off Fiji\n",
       "randu                   Random Numbers from Congruential Generator\n",
       "                        RANDU\n",
       "rivers                  Lengths of Major North American Rivers\n",
       "rock                    Measurements on Petroleum Rock Samples\n",
       "sleep                   Student's Sleep Data\n",
       "stack.loss (stackloss)\n",
       "                        Brownlee's Stack Loss Plant Data\n",
       "stack.x (stackloss)     Brownlee's Stack Loss Plant Data\n",
       "stackloss               Brownlee's Stack Loss Plant Data\n",
       "state.abb (state)       US State Facts and Figures\n",
       "state.area (state)      US State Facts and Figures\n",
       "state.center (state)    US State Facts and Figures\n",
       "state.division (state)\n",
       "                        US State Facts and Figures\n",
       "state.name (state)      US State Facts and Figures\n",
       "state.region (state)    US State Facts and Figures\n",
       "state.x77 (state)       US State Facts and Figures\n",
       "sunspot.month           Monthly Sunspot Data, from 1749 to \"Present\"\n",
       "sunspot.year            Yearly Sunspot Data, 1700-1988\n",
       "sunspots                Monthly Sunspot Numbers, 1749-1983\n",
       "swiss                   Swiss Fertility and Socioeconomic Indicators\n",
       "                        (1888) Data\n",
       "treering                Yearly Treering Data, -6000-1979\n",
       "trees                   Diameter, Height and Volume for Black Cherry\n",
       "                        Trees\n",
       "uspop                   Populations Recorded by the US Census\n",
       "volcano                 Topographic Information on Auckland's Maunga\n",
       "                        Whau Volcano\n",
       "warpbreaks              The Number of Breaks in Yarn during Weaving\n",
       "women                   Average Heights and Weights for American Women\n",
       "\n",
       "Use 'data(package = .packages(all.available = TRUE))'\n",
       "to list the data sets in all *available* packages."
      ]
     },
     "metadata": {},
     "output_type": "display_data"
    }
   ],
   "source": [
    "data()"
   ]
  },
  {
   "cell_type": "markdown",
   "metadata": {},
   "source": [
    "### __Exercise__: Explore the datasets.\n",
    "You can use a dataset with the `data(<dataset name>)` function:"
   ]
  },
  {
   "cell_type": "code",
   "execution_count": 3,
   "metadata": {},
   "outputs": [
    {
     "data": {
      "text/html": [
       "<table>\n",
       "<caption>A data.frame: 6 × 3</caption>\n",
       "<thead>\n",
       "\t<tr><th></th><th scope=col>Girth</th><th scope=col>Height</th><th scope=col>Volume</th></tr>\n",
       "\t<tr><th></th><th scope=col>&lt;dbl&gt;</th><th scope=col>&lt;dbl&gt;</th><th scope=col>&lt;dbl&gt;</th></tr>\n",
       "</thead>\n",
       "<tbody>\n",
       "\t<tr><th scope=row>1</th><td> 8.3</td><td>70</td><td>10.3</td></tr>\n",
       "\t<tr><th scope=row>2</th><td> 8.6</td><td>65</td><td>10.3</td></tr>\n",
       "\t<tr><th scope=row>3</th><td> 8.8</td><td>63</td><td>10.2</td></tr>\n",
       "\t<tr><th scope=row>4</th><td>10.5</td><td>72</td><td>16.4</td></tr>\n",
       "\t<tr><th scope=row>5</th><td>10.7</td><td>81</td><td>18.8</td></tr>\n",
       "\t<tr><th scope=row>6</th><td>10.8</td><td>83</td><td>19.7</td></tr>\n",
       "</tbody>\n",
       "</table>\n"
      ],
      "text/latex": [
       "A data.frame: 6 × 3\n",
       "\\begin{tabular}{r|lll}\n",
       "  & Girth & Height & Volume\\\\\n",
       "  & <dbl> & <dbl> & <dbl>\\\\\n",
       "\\hline\n",
       "\t1 &  8.3 & 70 & 10.3\\\\\n",
       "\t2 &  8.6 & 65 & 10.3\\\\\n",
       "\t3 &  8.8 & 63 & 10.2\\\\\n",
       "\t4 & 10.5 & 72 & 16.4\\\\\n",
       "\t5 & 10.7 & 81 & 18.8\\\\\n",
       "\t6 & 10.8 & 83 & 19.7\\\\\n",
       "\\end{tabular}\n"
      ],
      "text/markdown": [
       "\n",
       "A data.frame: 6 × 3\n",
       "\n",
       "| <!--/--> | Girth &lt;dbl&gt; | Height &lt;dbl&gt; | Volume &lt;dbl&gt; |\n",
       "|---|---|---|---|\n",
       "| 1 |  8.3 | 70 | 10.3 |\n",
       "| 2 |  8.6 | 65 | 10.3 |\n",
       "| 3 |  8.8 | 63 | 10.2 |\n",
       "| 4 | 10.5 | 72 | 16.4 |\n",
       "| 5 | 10.7 | 81 | 18.8 |\n",
       "| 6 | 10.8 | 83 | 19.7 |\n",
       "\n"
      ],
      "text/plain": [
       "  Girth Height Volume\n",
       "1  8.3  70     10.3  \n",
       "2  8.6  65     10.3  \n",
       "3  8.8  63     10.2  \n",
       "4 10.5  72     16.4  \n",
       "5 10.7  81     18.8  \n",
       "6 10.8  83     19.7  "
      ]
     },
     "metadata": {},
     "output_type": "display_data"
    }
   ],
   "source": [
    "data(trees)\n",
    "head(trees)\n",
    "# When you have finished with the dataset, you can free the memory with:\n",
    "rm(trees)"
   ]
  },
  {
   "cell_type": "markdown",
   "metadata": {},
   "source": [
    "## __Packages and Libraries__\n",
    "\n",
    "R is a very expandable language, there is a huge number of libraries of code available (see packages on the [CRAN](https://cran.r-project.org/) page). Rather than load all of the libraries for all users, R-Studio requires only loads the base-R code and leaves it to the user to install and load whatever libraries they wish to use.\n",
    "\n",
    "Libraries are made available as packages. You can see the packages that R-Studio knows are installed on your computer in the 'Packages' tab in the bottom-right pane. If you want to use a package, you first need to install it (make it available to R and R-Studio). All of the packages in the packages pane have already been installed. If you wish to install a new package you use `install.packages()`. Just because you have installed a package doesn't mean you will want to use it in every project: to use a library from a package, you need to load or import the library/package using `library()`.\n",
    "\n",
    "For example, to install the RSQLite interface to SQLite, you need:"
   ]
  },
  {
   "cell_type": "code",
   "execution_count": 7,
   "metadata": {},
   "outputs": [
    {
     "name": "stderr",
     "output_type": "stream",
     "text": [
      "Installing package into 'C:/Users/Pete/Documents/R/win-library/3.5'\n",
      "(as 'lib' is unspecified)\n"
     ]
    },
    {
     "name": "stdout",
     "output_type": "stream",
     "text": [
      "package 'RSQLite' successfully unpacked and MD5 sums checked\n",
      "\n",
      "The downloaded binary packages are in\n",
      "\tC:\\Users\\Pete\\AppData\\Local\\Temp\\Rtmpsffo2J\\downloaded_packages\n"
     ]
    }
   ],
   "source": [
    "install.packages(\"RSQLite\")"
   ]
  },
  {
   "cell_type": "markdown",
   "metadata": {},
   "source": [
    "And then, to use it, you need (note that no quotes are needed this time):"
   ]
  },
  {
   "cell_type": "code",
   "execution_count": 8,
   "metadata": {},
   "outputs": [
    {
     "name": "stderr",
     "output_type": "stream",
     "text": [
      "Warning message:\n",
      "\"package 'RSQLite' was built under R version 3.5.3\""
     ]
    }
   ],
   "source": [
    "library(RSQLite)"
   ]
  },
  {
   "cell_type": "markdown",
   "metadata": {},
   "source": [
    "(You needed the quotes for install.packages() because you were telling R the name of the package, a string which is denoted with quotes (either both single or double - but not one of each). When you were loading the library, you didn't need the quotes because you were specifying the identifier of something R knows about. In the case of RSQLite, install.packages() would locate a package with the name \"RSQLite\" but will install an object called RSQLite and R now understands the word without the quotes is referring to that object)."
   ]
  },
  {
   "cell_type": "markdown",
   "metadata": {},
   "source": [
    "To determine which versions of which libraries you have installed, you can use `sessionInfo()`:"
   ]
  },
  {
   "cell_type": "code",
   "execution_count": 9,
   "metadata": {},
   "outputs": [
    {
     "data": {
      "text/plain": [
       "R version 3.5.1 (2018-07-02)\n",
       "Platform: x86_64-w64-mingw32/x64 (64-bit)\n",
       "Running under: Windows 8.1 x64 (build 9600)\n",
       "\n",
       "Matrix products: default\n",
       "\n",
       "locale:\n",
       "[1] LC_COLLATE=Welsh_United Kingdom.1252  LC_CTYPE=Welsh_United Kingdom.1252   \n",
       "[3] LC_MONETARY=Welsh_United Kingdom.1252 LC_NUMERIC=C                         \n",
       "[5] LC_TIME=Welsh_United Kingdom.1252    \n",
       "\n",
       "attached base packages:\n",
       "[1] stats     graphics  grDevices utils     datasets  methods   base     \n",
       "\n",
       "other attached packages:\n",
       "[1] RSQLite_2.1.2\n",
       "\n",
       "loaded via a namespace (and not attached):\n",
       " [1] Rcpp_1.0.1      digest_0.6.20   zeallot_0.1.0   crayon_1.3.4   \n",
       " [5] IRdisplay_0.7.0 repr_1.0.1      DBI_1.0.0       backports_1.1.4\n",
       " [9] jsonlite_1.6    evaluate_0.14   pillar_1.4.2    rlang_0.4.0    \n",
       "[13] uuid_0.1-2      blob_1.2.0      vctrs_0.2.0     IRkernel_1.0.2 \n",
       "[17] tools_3.5.1     bit64_0.9-7     bit_1.1-14      compiler_3.5.1 \n",
       "[21] pkgconfig_2.0.2 base64enc_0.1-3 memoise_1.1.0   htmltools_0.3.6\n",
       "[25] pbdZMQ_0.3-3    tibble_2.1.3   "
      ]
     },
     "metadata": {},
     "output_type": "display_data"
    }
   ],
   "source": [
    "sessionInfo()"
   ]
  },
  {
   "cell_type": "markdown",
   "metadata": {},
   "source": [
    "<table style=\"text-align:center;\"><tr><td width=\"100\" height=\"20\" style=\"background-color:greenyellow\"></td><td width=\"100\" height=\"20\" style=\"background-color:hotpink\"></td></tr></table>"
   ]
  },
  {
   "cell_type": "markdown",
   "metadata": {},
   "source": [
    "## __A Few Bits of Useful Functionality in R-Studio__\n",
    "There are a couple of useful things which you may or may not ever need, I'll mention them here really just to ring bells should you ever need the functionality they provide.\n",
    "\n",
    "* History via the tab or type `history()`, `history(n)`, `history(Inf)`.\n",
    "* You can pop-out a source or view window using the arrow-pointing-to-a-document button on the document tab (useful for comparing files).\n",
    "* Search loaded packages (`search()`).\n",
    "* See available libraries (`library()`).\n",
    "* Unload a library (`detach(package:<name>)`) replacing \\<name\\> with the name of the library."
   ]
  },
  {
   "cell_type": "markdown",
   "metadata": {},
   "source": [
    "## __The debugger__\n",
    "\n",
    "If you find you have a problem/bug in your code, there are several options to try to fix it:\n",
    "\n",
    "* Search the internet for solutions\n",
    "* Include print() statements at strategic points in the code\n",
    "* Start a debugger and step through the code watching the operation and variables\n",
    "\n",
    "In R, there is a simple debugger available in two ways:\n",
    "\n",
    "* by calling `browser()` at a point in the code you have identified as close to but just before the problem occurs;\n",
    "* setting a breakpoint by clicking to the left of the line number in the file tab so a red circle appears.\n",
    "\n",
    "In both cases, when you source the code, the R interpreter will halt when it encounters the breakpoint or the browser() call. You can then use the step over, step into, step out-of functions to execute the code one line at a time. The debugger will the display the code for the current function and the environment will show the _local_ variables. You can change the values of variables and see if that makes a difference. You can set more than one breakpoint so that you can just skip past a whole chunk of code and continue debugger further along (useful to get past loops).\n",
    "\n",
    "If you wish to continue running the code without stopping at every line, you can use the 'Continue' button and halt using the 'Stop' button. The debugger is a very useful tool for getting to the nub of problems and will repay some effort getting used to how it works and how best to use it."
   ]
  },
  {
   "cell_type": "markdown",
   "metadata": {},
   "source": [
    "<img src=\"images/R-Studio-Debug.png\"/>"
   ]
  },
  {
   "cell_type": "markdown",
   "metadata": {},
   "source": [
    "### __Exercise__: Run the debugger in the LCG code.\n",
    "Add the debugger call to the LCG vector function and experiment with the debugger to get used to it.\n",
    "\n",
    "`\n",
    "lcg_vector <- function(modulus, a, c, seed, n) {\n",
    "    browser()\n",
    "    l <- vector()\n",
    "    for (i in 1:n) {\n",
    "        s <- lcg(modulus, a, c, s)\n",
    "        l <- rbind(l, s)\n",
    "    }\n",
    "    return(l)\n",
    "}\n",
    "`"
   ]
  },
  {
   "cell_type": "markdown",
   "metadata": {},
   "source": [
    "### __Additional R-Studio Configuration__\n",
    "Create a file called `.Rprofile` and save in the start directory (~/.Rprofile in Linux/Mac or your Documents directory in Windows - where you will find .RData and .Rhistory).\n",
    "\n",
    "This file is an R script which is executed whenever R-Studio is started. You can use it to customise the IDE, for example, to load libraries you always use:"
   ]
  },
  {
   "cell_type": "code",
   "execution_count": null,
   "metadata": {},
   "outputs": [],
   "source": [
    "require(dplyr)\n",
    "options(digits = 5)    # Set the suggested number of digits to use when printing.\n",
    "options(repos = \"\")    # Set the default package repository to use."
   ]
  },
  {
   "cell_type": "markdown",
   "metadata": {},
   "source": [
    "If the require() calls generate a lot of superfluous warning messages, you can use suppressMessages() to quieten it:"
   ]
  },
  {
   "cell_type": "code",
   "execution_count": null,
   "metadata": {},
   "outputs": [],
   "source": [
    "suppressMessages(require(dpplyr))"
   ]
  },
  {
   "cell_type": "markdown",
   "metadata": {},
   "source": [
    "Note that only the base packages are available when .Rprofile is run."
   ]
  },
  {
   "cell_type": "markdown",
   "metadata": {},
   "source": [
    "### __Code Versions and Reproducible Research__\n",
    "\n",
    "One of the key issues in research is to make it reproducible. This requires a little care with R. To do this you need:\n",
    "\n",
    "* To keep your original, raw, data\n",
    "* Generate some cleaned, processed data from which all your work proceeds\n",
    "* Maintain all the code needed to go from raw to processed and then from processed to analysis and results\n",
    "* Be able to re-run the code from scratch and, when you do, get the same results\n",
    "* Provide the papers, data, results and supporting documentation for others to reproduce your results\n",
    "\n",
    "This is not just a matter of copying your papers and working directories and making them available. There are three major issues:\n",
    "\n",
    "* Completeness\n",
    "* Sufficient documentation\n",
    "* Repeatable environment\n",
    "    \n",
    "### _Coding Guidelines_\n",
    "    \n",
    "* Write-once, read-many: write your code to be easily read.\n",
    "* Write code that is, as far as possible, self-documenting.\n",
    "* Comment to provide references, context and explanations of why or of the unusual.\n",
    "* Do Not Repeat Yourself: if you are cutting and pasting - use functions.\n",
    "* Do not embed magic numbers (or other constants)"
   ]
  },
  {
   "cell_type": "markdown",
   "metadata": {},
   "source": [
    "## __SQL__\n",
    "\n",
    "You can access data using SQL commands via the RSQLite library. The following provides an example which includes:\n",
    "\n",
    "* Shell commands to manipulate files\n",
    "* A python program to copy an XLSX file to SQLite DB file format\n",
    "* R commands to make the connection to the SQLite DB file\n",
    "* SQL commands to manipulate the data in the SQLite DB file"
   ]
  },
  {
   "cell_type": "markdown",
   "metadata": {},
   "source": [
    "Don't worry about the Python code, it's just there to show you what can be done, the important bit is:\n",
    "\n",
    "<code>\n",
    "```{r}\n",
    "library(DBI)\n",
    "db = dbConnect(RSQLite::SQLite(), dbname = \"data/sql/pregnancy.db\")\n",
    "```\n",
    "</code>\n",
    "\n",
    "Where we load the DBI library and use the dbConnect function to create a database 'connection' to the SQLite DB file named. We need to remember this connection for all future accesses.\n",
    "\n",
    "In R markdown, we can then just use an SQL code chunk, defining the connection we wish to use and then access the database using SQL.\n",
    "\n",
    "<code>\n",
    "```{sql, connection=db}\n",
    "SELECT * FROM sheet1\n",
    "```\n",
    "</code>\n",
    "\n",
    "When we have finished we need to close the database connection so that we don't leave any loose handles to the database and risk locking it.\n",
    "\n",
    "<code>\n",
    "```{r}\n",
    "dbDisconnect(db)\n",
    "print (\"Disconnected from SQL database.\")\n",
    "```\n",
    "</code>"
   ]
  },
  {
   "cell_type": "raw",
   "metadata": {},
   "source": [
    "---\n",
    "title: \"Accessing an Excel dataset using SQL in R\"\n",
    "author: |\n",
    "  | Pete Arnold\n",
    "  | Swansea University Medical School\n",
    "date: \"December 13<sup>th</sup>, 2018\"\n",
    "output: html_notebook\n",
    "---\n",
    "\n",
    "As a first attempt, I have copied the XLSX file to a SQLite3 DB file using a\n",
    "Python function from Shahzeb Qureshi at\n",
    "https://stackoverflow.com/questions/17439885/export-data-from-excel-to-sqlite-database\n",
    "with the tweak suggested by Zalakain.\n",
    "It won't work with an exsiting DB file, so I have added a shell remove command\n",
    "to be executed before the python code.\n",
    "\n",
    "I expect to tweak the python code to fix this and to prevent the error message\n",
    "about using TEXT with 'NoneType' entries which is due to the function\n",
    "attempting to read the empty second sheet.\n",
    "\n",
    "Please remember to disconnect from the SQLite database when you have finished\n",
    "or this will cause an error if you try to delete again whilst it is still open.\n",
    "\n",
    "Use the shell/cmd functions to delete the existing database so that it doesn't\n",
    "interfere with the creation of a new one.\n",
    "\n",
    "```{sh}\n",
    "# The connect function doesn't like working with an existing database (sheet already exists).\n",
    "rm data/sql/pregnancy.db\n",
    "```\n",
    "\n",
    "Use the following Python code to copy the data from the excel document and write\n",
    "it to an SQLite database (a .db file).\n",
    "\n",
    "```{python}\n",
    "'''\n",
    "This code uses the openpyxl package for playing around with excel using Python code\n",
    "to convert complete excel workbook (all sheets) to an SQLite database\n",
    "The code assumes that the first row of every sheet is the column name\n",
    "Every sheet is stored in a separate table\n",
    "The sheet name is assigned as the table name for every sheet\n",
    "'''\n",
    "import sqlite3\n",
    "import openpyxl\n",
    "from openpyxl import load_workbook\n",
    "import re\n",
    "def slugify(text, lower=1):\n",
    "    if lower == 1:\n",
    "        text = text.strip().lower()\n",
    "    text = re.sub(r'[^\\w _-]+', '', text)\n",
    "    text = re.sub(r'[- ]+', '_', text)\n",
    "    return text\n",
    "#Replace with a database name\n",
    "con = sqlite3.connect('data\\sql\\pregnancy.db')\n",
    "#replace with the complete path to youe excel workbook\n",
    "wb = load_workbook(filename=r'data\\sql\\pregnancy.xlsx')\n",
    "sheets = wb.get_sheet_names()\n",
    "for sheet in sheets:\n",
    "    sheetEmpty = False\n",
    "    ws = wb[sheet] \n",
    "    columns= []\n",
    "    query = 'CREATE TABLE ' + str(slugify(sheet)) + '(ID INTEGER PRIMARY KEY AUTOINCREMENT'\n",
    "    for row in next(ws.rows):\n",
    "        # Check for an empty sheet (row.value is not defined).\n",
    "        # Break out of this loop and the containing one.\n",
    "        if isinstance(row.value, type(None)):\n",
    "            sheetEmpty = True\n",
    "            break\n",
    "        query += ', ' + slugify(row.value) + ' TEXT'\n",
    "        columns.append(slugify(row.value))\n",
    "    query += ');'\n",
    "    # If the sheet is empty, stop processing now.\n",
    "    if sheetEmpty: break\n",
    "    con.execute(query)\n",
    "    tup = []\n",
    "    for i, rows in enumerate(ws):\n",
    "        tuprow = []\n",
    "        if i == 0:\n",
    "            continue\n",
    "        for row in rows:\n",
    "            tuprow.append(str(row.value).strip()) if str(row.value).strip() != 'None' else tuprow.append('')\n",
    "        tup.append(tuple(tuprow))\n",
    "    insQuery1 = 'INSERT INTO ' + str(slugify(sheet)) + '('\n",
    "    insQuery2 = ''\n",
    "    for col in columns:\n",
    "        insQuery1 += col + ', '\n",
    "        insQuery2 += '?, '\n",
    "    insQuery1 = insQuery1[:-2] + ') VALUES('\n",
    "    insQuery2 = insQuery2[:-2] + ')'\n",
    "    insQuery = insQuery1 + insQuery2\n",
    "    con.executemany(insQuery, tup)\n",
    "    con.commit()\n",
    "con.close()\n",
    "print ('Excel worksheet conversion completed.')\n",
    "```\n",
    "\n",
    "Now that we have an SQLite database file, we can access it by creating a\n",
    "connection to it and using SQL queries.\n",
    "\n",
    "```{r}\n",
    "library(DBI)\n",
    "db = dbConnect(RSQLite::SQLite(), dbname = \"data/sql/pregnancy.db\")\n",
    "```\n",
    "\n",
    "Just a very simple SELECT query as an example.\n",
    "\n",
    "```{sql, connection=db}\n",
    "SELECT * FROM sheet1\n",
    "```\n",
    "\n",
    "Once you have finished with your database, you must disconnect to ensure that\n",
    "we don't leave any loose open files which might not be openable later.\n",
    "\n",
    "```{r}\n",
    "dbDisconnect(db)\n",
    "print (\"Disconnected from SQL database.\")\n",
    "```"
   ]
  },
  {
   "cell_type": "markdown",
   "metadata": {},
   "source": [
    "## __Clean Up__\n",
    "\n",
    "R contains a number of functions that help to keep your environment tidy, such as:\n",
    "\n",
    "* `rm()` --- remove the specified item(s)\n",
    "* `ls()` --- list items in the environment\n",
    "\n",
    "As mentioned above, it is a good idea to regularly restart your R-Session and clear out your data to ensure that you are not dependent on a definition you have forgotten you have made. You can do this by:\n",
    "\n",
    "* Removing all variables with Session menu, Clear Workspace (include hidden objects)  \\[or`rm(list=ls(all.names=TRUE))`\\].\n",
    "* Restarting the interpreter with Session menu, Restart R, option.\n",
    "\n",
    "Which should clear out all your variables etc. "
   ]
  },
  {
   "cell_type": "markdown",
   "metadata": {},
   "source": [
    "<table width='100%'><tr>\n",
    "    <td style='background-color:red; text-align:center; color: white;'><!--Foundation<!--hr size='5' style='border-color:red; background-color:red;'--></td>\n",
    "    <td style='background-color:yellow; text-align:center;'><!--Level 1<!--hr size='5' style='border-color:yellow; background-color:yellow;'--></td>\n",
    "    <td style='background-color:orange; text-align:center;'><!--Level 2<!--hr size='5' style='border-color:orange; background-color:orange;'--></td>\n",
    "    <td style='background-color:green; text-align:center; color: white;'><!--Level 3<!--hr size='5' style='border-color:orange; background-color:orange;'--></td>\n",
    "    <td style='background-color:blue; text-align:center; color: white;'><!--Level 4<!--hr size='5' style='border-color:orange; background-color:orange;'--></td>\n",
    "    <td style='background-color:purple; text-align:center; color: white;'><!--Level 5<!--hr size='5' style='border-color:orange; background-color:orange;'--></td>\n",
    "    <td style='background-color:brown; text-align:center; color: white;'><!--Level 6<!--hr size='5' style='border-color:orange; background-color:orange;'--></td>\n",
    "    <td style='background-color:black; text-align:center; color: white;'><!--Level 7<!--hr size='5' style='border-color:orange; background-color:orange;'--></td>\n",
    "</tr></table>"
   ]
  }
 ],
 "metadata": {
  "kernelspec": {
   "display_name": "R",
   "language": "R",
   "name": "ir"
  },
  "language_info": {
   "codemirror_mode": "r",
   "file_extension": ".r",
   "mimetype": "text/x-r-source",
   "name": "R",
   "pygments_lexer": "r",
   "version": "4.0.2"
  }
 },
 "nbformat": 4,
 "nbformat_minor": 4
}
