{
 "cells": [
  {
   "cell_type": "markdown",
   "metadata": {},
   "source": [
    "<table width='100%'><tr>\n",
    "    <td style='background-color:red; text-align:center; color: white;'><!--Foundation<!--hr size='5' style='border-color:red; background-color:red;'--></td>\n",
    "    <td style='background-color:yellow; text-align:center;'><!--Level 1<!--hr size='5' style='border-color:yellow; background-color:yellow;'--></td>\n",
    "    <td style='background-color:orange; text-align:center;'><!--Level 2<!--hr size='5' style='border-color:orange; background-color:orange;'--></td>\n",
    "    <td style='background-color:green; text-align:center; color: white;'><!--Level 3<!--hr size='5' style='border-color:orange; background-color:orange;'--></td>\n",
    "    <td style='background-color:blue; text-align:center; color: white;'><!--Level 4<!--hr size='5' style='border-color:orange; background-color:orange;'--></td>\n",
    "    <td style='background-color:purple; text-align:center; color: white;'><!--Level 5<!--hr size='5' style='border-color:orange; background-color:orange;'--></td>\n",
    "    <td style='background-color:brown; text-align:center; color: white;'><!--Level 6<!--hr size='5' style='border-color:orange; background-color:orange;'--></td>\n",
    "    <td style='background-color:black; text-align:center; color: white;'><!--Level 7<!--hr size='5' style='border-color:orange; background-color:orange;'--></td>\n",
    "</tr></table>"
   ]
  },
  {
   "cell_type": "markdown",
   "metadata": {},
   "source": [
    "<table style='border-left:10px solid orange;'><tr>\n",
    "    <td style='padding-left:20px;'>\n",
    "        <h2><i>Swansea University Medical School</i><br/><b>MSc Health Data Science</b></h2>\n",
    "        <h3>PMIM-102 Introduction to Scientific Computing in Healthcare</h3>\n",
    "        <h1><b>Introduction to Programming in R</b></h1>\n",
    "        <h2><b>Exercises</b></h2>\n",
    "        <h2><i>Part 1: Practice using R.</i></h2>\n",
    "        <h3><i>October 2020</i></h3>\n",
    "        <h3><b>To-do</b></h3>\n",
    "        <ul><li>Nothing.</li></ul>\n",
    "    </td>\n",
    "    <td><img height='300' width='500' src='images/cover.jpg'/></td>\n",
    "</tr></table>"
   ]
  },
  {
   "cell_type": "markdown",
   "metadata": {},
   "source": [
    "## __Aim__: Practice using R.\n",
    "\n",
    "The aim of this session is to review or work through in parallel the information in the 'Intro to R' notebooks. We will take a practical / problem-oriented approach to creating some functional code through which we'll introduce the concepts covered by the notebooks.\n",
    "\n",
    "### __A map of where we're going__\n",
    "\n",
    "We will attempt two programs (and a third if you have time / have worked ahead).\n",
    "\n",
    "1. __A PRNG__ - Basic R concepts: create an algorithm, create a function, create some data, test the function, use the function.\n",
    "\n",
    "1. __A guessing game__ - Loops and getting user input.\n",
    "\n",
    "1. __Sieve of Eratosthenes__ - Prime number generator."
   ]
  },
  {
   "cell_type": "markdown",
   "metadata": {},
   "source": [
    "## __1: The random number generator__\n",
    "\n",
    "### __The Problem in Context__\n",
    "\n",
    "When you get a chance, have a proper read through of the papers about PRNG's and, in particular, LCG's. For now have a quick skim through and discuss with your group and decide if you wish to make an LCG or something more difficult.\n",
    "\n",
    "### __Working Environment__\n",
    "\n",
    "Create a project and enable git. Create directories and a working R-script file. You may have a directory/file R/LCG.R where you will put the code for the random number generator and another working.R either in the root directory of your project or as R/working.R."
   ]
  },
  {
   "cell_type": "markdown",
   "metadata": {},
   "source": [
    "### __Create an Algorithm__\n",
    "\n",
    "One thing to remember with programming is to take sufficient time at the design stage to think and consider alternatives. There are always many solutions to a problem and you (and others) may not stumble across the best one first. Don't rush into writing code with the first idea that comes into your head. Try to think how well the idea fits with your requirements and look for other solutions. Then work out the algorithm in general terms and consider as many of the design aspects as you can - what it must do, what it must work with, what are the constraints.\n",
    "\n",
    "Once you have an concept, you will still need to develop the implementation with a critical eye to ensure that you make sure you aren't missing a better solution or digging yourself into a hole.\n",
    "\n",
    "How do we generate the random number? How do we name the parameters? Decide on parameter checking. Decide on result checking. Test the code."
   ]
  },
  {
   "cell_type": "markdown",
   "metadata": {},
   "source": [
    "#### _Generate a random number_\n",
    "\n",
    "If you look at the papers on LCGs, you will find the required expression is:\n",
    "\n",
    "\\begin{equation*} multiple \\times (seed + constant)) \\; mod \\; modulus \\end{equation*}\n",
    "\n"
   ]
  },
  {
   "cell_type": "code",
   "execution_count": null,
   "metadata": {},
   "outputs": [],
   "source": [
    "#multiple * (seed + constant) %% modulus"
   ]
  },
  {
   "cell_type": "markdown",
   "metadata": {},
   "source": [
    "__Notes:__ this is an expression; %% is the modulo operator (remainder when first argument is divided by the second); there are operator precedence things happening; we have named our variables to make sense without being long."
   ]
  },
  {
   "cell_type": "code",
   "execution_count": null,
   "metadata": {},
   "outputs": [],
   "source": [
    "#multiple <- 23\n",
    "#modulus <- 6\n",
    "#constant <- 7\n",
    "#seed <- 100\n",
    "#multiple; modulus; constant; seed\n",
    "#multiple * (seed + constant) %% modulus"
   ]
  },
  {
   "cell_type": "markdown",
   "metadata": {},
   "source": [
    "#### _Digression: seeds and random numbers_"
   ]
  },
  {
   "cell_type": "code",
   "execution_count": null,
   "metadata": {},
   "outputs": [],
   "source": [
    "#seed <- runif(1) * 100"
   ]
  },
  {
   "cell_type": "markdown",
   "metadata": {},
   "source": [
    "__Notes:__ runif() is a built-in random-number generator I have used to start us off with a random number.\n",
    "\n",
    "Because we have used a random number generator we can provide a seed value for that."
   ]
  },
  {
   "cell_type": "code",
   "execution_count": null,
   "metadata": {},
   "outputs": [],
   "source": [
    "#set.seed(23)\n",
    "#runif(5) * 100\n",
    "#set.seed(23)\n",
    "#runif(5) * 100\n",
    "#set.seed(24)\n",
    "#runif(5) * 100"
   ]
  },
  {
   "cell_type": "markdown",
   "metadata": {},
   "source": [
    "And we can change the seed for our generator."
   ]
  },
  {
   "cell_type": "code",
   "execution_count": null,
   "metadata": {},
   "outputs": [],
   "source": [
    "#seed <- runif(1) * 100\n",
    "#multiple * (seed + constant) %% modulus"
   ]
  },
  {
   "cell_type": "markdown",
   "metadata": {},
   "source": [
    "#### _Digression: cycles_"
   ]
  },
  {
   "cell_type": "markdown",
   "metadata": {},
   "source": [
    "And we might be more interested in a tidier integer output, so we can perform a conversion."
   ]
  },
  {
   "cell_type": "code",
   "execution_count": null,
   "metadata": {},
   "outputs": [],
   "source": [
    "#as.integer(multiple * (seed + constant) %% modulus)"
   ]
  },
  {
   "cell_type": "markdown",
   "metadata": {},
   "source": [
    "So, to generate a sequence of random numbers, we need to store the new number in `seed`."
   ]
  },
  {
   "cell_type": "code",
   "execution_count": null,
   "metadata": {},
   "outputs": [],
   "source": [
    "#seed <- multiple * (seed + constant) %% modulus\n",
    "#seed"
   ]
  },
  {
   "cell_type": "markdown",
   "metadata": {},
   "source": [
    "### __Discussion :__ If we want a random seed, how do we set it randomly?\n",
    "\n",
    "What could we do to get a random seed to start our sequence?"
   ]
  },
  {
   "cell_type": "markdown",
   "metadata": {},
   "source": [
    "### __Create a Function__\n",
    "\n",
    "#### _Function 1.1: Create the single random number function._"
   ]
  },
  {
   "cell_type": "code",
   "execution_count": null,
   "metadata": {},
   "outputs": [],
   "source": [
    "## lcg_value\n",
    "## Generates a 'random' number from supplied parameters.\n",
    "## @param numeric mul The multiplier.\n",
    "## @param numeric <name> The constant.\n",
    "## @param numeric <name> The modulus.\n",
    "## @param numeric <name> The seed / previous number in the sequence.\n",
    "## @return numeric       The next number in the 'random' sequence.\n",
    "#lcg_value <- function(mul, const, mod, sd)\n",
    "#{\n",
    "#    return (mul * (sd + const) %% mod)\n",
    "#}"
   ]
  },
  {
   "cell_type": "code",
   "execution_count": null,
   "metadata": {},
   "outputs": [],
   "source": [
    "#seed <- lcg_value(multiple, constant, modulus, seed)\n",
    "#seed"
   ]
  },
  {
   "cell_type": "markdown",
   "metadata": {},
   "source": [
    "__Note:__ Some papers refer to an expression without the constant (Park-Miller algorithm), so we could default this value to 0."
   ]
  },
  {
   "cell_type": "code",
   "execution_count": null,
   "metadata": {},
   "outputs": [],
   "source": [
    "## lcg_value\n",
    "## Generates a 'random' number from supplied parameters.\n",
    "## @param numeric mul The multiplier.\n",
    "## @param numeric <name> The constant.\n",
    "## @param numeric <name> The modulus.\n",
    "## @param numeric <name> The seed / previous number in the sequence.\n",
    "## @return numeric       The next number in the 'random' sequence.\n",
    "#lcg_value <- function(mul, mod, sd, const=0)\n",
    "#{\n",
    "#    return (mul * (sd + const) %% mod)\n",
    "#}"
   ]
  },
  {
   "cell_type": "code",
   "execution_count": null,
   "metadata": {},
   "outputs": [],
   "source": [
    "#seed <- lcg_value(multiple, modulus, seed)\n",
    "#seed"
   ]
  },
  {
   "cell_type": "markdown",
   "metadata": {},
   "source": [
    "__Note:__ I have moved the constant to the 4th item so that it is clearer that when there are three parameters they are the first three."
   ]
  },
  {
   "cell_type": "markdown",
   "metadata": {},
   "source": [
    "### __Question:__ Do we have any constraints on any of the inputs or the output?"
   ]
  },
  {
   "cell_type": "code",
   "execution_count": null,
   "metadata": {},
   "outputs": [],
   "source": [
    "## lcg_value\n",
    "## Generates a 'random' number from supplied parameters.\n",
    "## @param numeric mul The multiplier.\n",
    "## @param numeric <name> The constant.\n",
    "## @param numeric <name> The modulus.\n",
    "## @param numeric <name> The seed / previous number in the sequence.\n",
    "## @return numeric       The next number in the 'random' sequence.\n",
    "#lcg_value <- function(mul, mod, sd, const=0)\n",
    "#{\n",
    "#    if (mod <= 0)\n",
    "#    {\n",
    "#        return (NaN)\n",
    "#    }\n",
    "#    return (as.integer(mul * (sd + const) %% mod))\n",
    "#}\n",
    "##lcg_value(multiple, -1, seed)"
   ]
  },
  {
   "cell_type": "code",
   "execution_count": null,
   "metadata": {},
   "outputs": [],
   "source": [
    "#seed <- lcg_value(multiple, mod=23, seed)\n",
    "#seed"
   ]
  },
  {
   "cell_type": "markdown",
   "metadata": {},
   "source": [
    "And we have taken this opportunity to round the output to an integer."
   ]
  },
  {
   "cell_type": "markdown",
   "metadata": {},
   "source": [
    "__Note:__ If you want to get more advanced still, you can use `try()` and `tryCatch()` to attempt to execute the code that might fail and report the fault accordingly and then respond as you see fit. You can stop the program and issue a message with `stop('Message')`."
   ]
  },
  {
   "cell_type": "markdown",
   "metadata": {},
   "source": [
    "### __Question:__ How do we know this is doing the right thing?\n",
    "\n",
    "We probably need to create a whole series of samples and see if they have the correct distribution and are not repetitive. There are a number of tests in the papers that can be implemented to see if the numbers produced are random.\n",
    "We'll test the code with a vector of random numbers, which we will create with a new function."
   ]
  },
  {
   "cell_type": "markdown",
   "metadata": {},
   "source": [
    "#### _Function 1.2: Create the vector generator._\n",
    "\n",
    "So now we can use the `lcg_value()` function to generate a whole sequence and plonk it into a vector."
   ]
  },
  {
   "cell_type": "code",
   "execution_count": null,
   "metadata": {},
   "outputs": [],
   "source": [
    "#lcg_vector <- function(multiplier, modulus, seed, constant=0, n=1) {\n",
    "#    v <- vector(length=n)      # Create an empty vector of the right size so that we don't need to copy at any point.\n",
    "#    for (i in 1:n) {\n",
    "#        seed <- lcg_value(multiplier, modulus, seed, constant)\n",
    "#        v[i] <- seed\n",
    "#    }\n",
    "#    return(v)\n",
    "#}\n",
    "#r <- lcg_vector(multiple, modulus, seed)\n",
    "#r"
   ]
  },
  {
   "cell_type": "markdown",
   "metadata": {},
   "source": [
    "If we want 100 items, we need to specify n, just adding 100 to the call will set constant to 100."
   ]
  },
  {
   "cell_type": "code",
   "execution_count": null,
   "metadata": {},
   "outputs": [],
   "source": [
    "#r <- lcg_vector(multiple, modulus, seed, 100)\n",
    "#r\n",
    "#r <- lcg_vector(multiple, modulus, seed, n=100)\n",
    "#r"
   ]
  },
  {
   "cell_type": "markdown",
   "metadata": {},
   "source": [
    "### __Test the Function__\n",
    "\n",
    "One, often overlooked aspect of code development is testing. You should test that:\n",
    "\n",
    "1. The correct result is produced / or produced for some know examples.\n",
    "1. Test what happens when bad data are entered - either values e.g. a negative number for a log() or totally wrong values, such as \"seventy\".\n",
    "1. Test what happens when no values are entered.\n",
    "\n",
    "#### _Function 1.3: Pass in some bad parameters or missing parameters and return TRUE or FALSE if the response is correct._"
   ]
  },
  {
   "cell_type": "code",
   "execution_count": null,
   "metadata": {},
   "outputs": [],
   "source": [
    "#test1_lcg_vector <- function()\n",
    "#{\n",
    "#    multiple <- 23\n",
    "#    modulus <- 6\n",
    "#    seed <- runif(1) * 100\n",
    "#    constant <- 7\n",
    "#    n <- 0\n",
    "#    v <- lcg_vector(multiple, modulus, seed, constant, n)\n",
    "#    print (v)\n",
    "#}\n",
    "#test1_lcg_vector()"
   ]
  },
  {
   "cell_type": "markdown",
   "metadata": {},
   "source": [
    "So, if we look at the possible inputs, we find there's a problem if `n` is less than 1. So we might want to go back to the original function and do something appropriate in that case: return NaN, perhaps."
   ]
  },
  {
   "cell_type": "code",
   "execution_count": null,
   "metadata": {},
   "outputs": [],
   "source": [
    "#lcg_vector <- function(multiplier, modulus, seed, constant=0, n=1) {\n",
    "#    if (n < 1) return (NaN)\n",
    "#    v <- vector()\n",
    "#    for (i in 1:n) {\n",
    "#        seed <- lcg_value(multiplier, modulus, seed, constant)\n",
    "#        v[i] <- seed\n",
    "#    }\n",
    "#    return(v)\n",
    "#}\n",
    "#r <- lcg_vector(multiple, modulus, seed, n=0)\n",
    "#r"
   ]
  },
  {
   "cell_type": "markdown",
   "metadata": {},
   "source": [
    "The thing here is to produce test code that can be run every time you make a change to give you confidence that you haven't broken anything. So we'll rename the test to make it specific to the test we've done, make it return TRUE if everything is OK and FALSE if there's an error and add it to a run tests function."
   ]
  },
  {
   "cell_type": "code",
   "execution_count": null,
   "metadata": {},
   "outputs": [],
   "source": [
    "## Test that `lcg_vector()` produces NaN if n is less than 1.\n",
    "## @return TRUE if lcg_vector() correctly produces NaN when n is less than 1.\n",
    "#test_nLessThanOne_lcg_vector <- function()\n",
    "#{\n",
    "#    multiple <- 23\n",
    "#    modulus <- 6\n",
    "#    seed <- runif(1) * 100\n",
    "#    constant <- 7\n",
    "#    n <- 0\n",
    "#    v <- lcg_vector(multiple, modulus, seed, constant, n)\n",
    "#    return (is.nan(v))\n",
    "#}\n",
    "#test_nLessThanOne_lcg_vector()"
   ]
  },
  {
   "cell_type": "markdown",
   "metadata": {},
   "source": [
    "#### _Function 1.3a: Create a single test function that will run all the tests and display the results._\n",
    "\n",
    "This final step is one of convenience. When you change your LCG functions, you will need to check you haven't broken anything. If you have brought all your functions together into one 'master' test function, you can just run that to check. This makes testing easy and that's important if you're actually going to do in the real world."
   ]
  },
  {
   "cell_type": "code",
   "execution_count": null,
   "metadata": {},
   "outputs": [],
   "source": [
    "#test_LCG <- function()\n",
    "#{\n",
    "#    cat(\"Typical output vector:\\n\")\n",
    "#    test1_lcg_vector()  \n",
    "#    cat(\"nLessThanOne:\", ifelse(test_nLessThanOne_lcg_vector(), \"OK\", \"Failed\"), \"\\n\", sep=\" \")\n",
    "#}\n",
    "#test_LCG()"
   ]
  },
  {
   "cell_type": "markdown",
   "metadata": {},
   "source": [
    "### __Discussion:__ Of course, this only checks that we catch n=0. Should we do anything to check that we also catch n<0?\n",
    "\n",
    "This is quite a process and you should weigh up the cost/benefit. Here we have seen the process and a number of useful features of R as we've gone past."
   ]
  },
  {
   "cell_type": "markdown",
   "metadata": {},
   "source": [
    "### __Decide how to measure the quality of the function__\n",
    "\n",
    "If you have a look at the PRNG papers, they suggest a number of ways to test the quality of the random data. Some of these tests, such as the Kolmogorv-Smirnov test and the Chi-squared goodness of fit test you are likely to come across in Health Data Science.\n",
    "\n",
    "We had a quick look at the quality through a couple of plots. See what the effect of the as.integer() in the lcg_values() is."
   ]
  },
  {
   "cell_type": "code",
   "execution_count": null,
   "metadata": {},
   "outputs": [],
   "source": [
    "## Plot the results.\n",
    "#par(mfrow=c(2,2))\n",
    "#lcg_value <- function(multiplier, modulus, seed, constant=0)\n",
    "#{\n",
    "#    if (modulus < 0)\n",
    "#    {\n",
    "#        return (NaN)\n",
    "#    }\n",
    "#    #return (as.integer(multiplier * (seed + constant) %% modulus))\n",
    "#    return ((multiplier * (seed + constant) %% modulus))\n",
    "#}\n",
    "#n <- 10000\n",
    "## Bad parameters.\n",
    "#modulus <- 23\n",
    "#multiple <- 6\n",
    "#seed <- runif(1) * 100\n",
    "#constant <- 7\n",
    "#bad <- lcg_vector(modulus, multiple, constant, seed, n)\n",
    "## Good parameters.\n",
    "#modulus <- 86436\n",
    "#multiple <- 1093\n",
    "#seed <- runif(1) * 100\n",
    "#constant <- 18257\n",
    "#good <- lcg_vector(modulus, multiple, constant, seed, n)\n",
    "#hist(bad, breaks=100)\n",
    "#plot(bad[1:length(bad)-1], bad[2:length(bad)], pch='.', cex=3, col='red')\n",
    "#hist(good, breaks=100)\n",
    "#plot(good[1:length(good)-1], good[2:length(good)], pch='.', cex=3, col='green')"
   ]
  },
  {
   "cell_type": "markdown",
   "metadata": {},
   "source": [
    "### __Exercises:__ In your groups, discuss how you would research and implement these functions.\n",
    "\n",
    "#### _Function 1.4: Get a vector of results and define the quality of the result._\n",
    "\n",
    "How would you put a number of the quality of the output? Create a function to do this.\n",
    "\n",
    "#### _Function 1.5: Use this quality measurement to find a good set of parameters._\n",
    "\n",
    "For this problem, it would be worth having a look at the paper with tables of parameters and finding out what they have done and think works best. You will them have to iterate over the possibilities to find out which parameter combinations produce the best results.\n"
   ]
  },
  {
   "cell_type": "markdown",
   "metadata": {},
   "source": [
    "## __2: The guessing game__\n",
    "\n",
    "### __The Problem in Context__\n",
    "\n",
    "There are two important aspects of programming that this example will cover: loops and getting input from the user. User input is a key situation where error and sanity checking come to the fore.\n",
    "\n",
    "### __Working Environment__\n",
    "\n",
    "Create a project and enable git. Create directories and a working R-script file. You may have a directory/file R/Game.R where you will put the code for the guessing game functions and another working_2.R either in the root directory of your project or as R/working_2.R. You may want to consider a better naming strategy (:"
   ]
  },
  {
   "cell_type": "markdown",
   "metadata": {},
   "source": [
    "### __Create an Algorithm__\n",
    "\n",
    "We can break the task down into stages, steps and individual elements. The general specification here is:\n",
    "1. Generate a random number (the secret to be guessed).\n",
    "1. Ask the user to guess the number.\n",
    "1. Compare the guess with the secret and report to the user something about the guess.\n",
    "1. Repeat in some way - maybe a fixed number of times, until the user gets the answer or gives up.\n",
    "\n",
    "In general a unit of functionality will often correspond to a function. We can use a function to do each of these tasks - generate a number, get the user's guess, check the guess. We may further split these functions into series of smaller functions at the next step.\n",
    "\n",
    "So we can create an pseudo code algorithm:    "
   ]
  },
  {
   "cell_type": "raw",
   "metadata": {},
   "source": [
    "n <- get_random_number()\n",
    "loop{\n",
    "    loop{\n",
    "        g <- get_a_guess_from_the_user()\n",
    "        test_validity(g)\n",
    "    }until(g is valid)\n",
    "    test_equals(g, n)\n",
    "}until(g==n)"
   ]
  },
  {
   "cell_type": "markdown",
   "metadata": {},
   "source": [
    "So ignoring the loops for the moment and just looking at the core functionality we need to:"
   ]
  },
  {
   "cell_type": "raw",
   "metadata": {},
   "source": [
    "n <- get_random_number()\n",
    "\n",
    "g <- get_a_guess_from_the_user()\n",
    "test_validity(g)"
   ]
  },
  {
   "cell_type": "markdown",
   "metadata": {},
   "source": [
    "So we may have three functions and some kind of control for the loops. We can use our LCG random number generator, but we'll need to scale it to say 0-1 to make sure it makes sense when we use it in future. How?"
   ]
  },
  {
   "cell_type": "code",
   "execution_count": null,
   "metadata": {},
   "outputs": [],
   "source": [
    "#seed <- runif(1) * 100\n",
    "#v <- lcg_vector(multiple, modulus, seed, constant, n) / (modulus * multiple)\n",
    "#summary(v)"
   ]
  },
  {
   "cell_type": "code",
   "execution_count": null,
   "metadata": {},
   "outputs": [],
   "source": [
    "#head(v)"
   ]
  },
  {
   "cell_type": "markdown",
   "metadata": {},
   "source": [
    "So the algorithm could be implemented as:"
   ]
  },
  {
   "cell_type": "code",
   "execution_count": null,
   "metadata": {},
   "outputs": [],
   "source": [
    "## Must set the seed before we adjust the value to generate the output or we\n",
    "## will break the algorithm / parameter selection.\n",
    "#range <- 100\n",
    "#seed <- runif(1) * range\n",
    "#seed <- (lcg_value(multiple, modulus, seed, constant) / (modulus * multiple)) * range\n",
    "#seed\n",
    "#number <- as.integer(seed)\n",
    "#number\n",
    "## Choose a random number and get the user to guess until they get it right.\n",
    "#guess <- (-1)    # Set a 'wrong' guess.\n",
    "## Provide a prompt so the user knows what is required of them.\n",
    "#cat(\"Guess a number between 0 and 100.\\n\")\n",
    "## Get a guess and check it.\n",
    "##guess <- get_guess(range)\n",
    "## Check the validity of the guess.\n",
    "##check_guess(guess, number)"
   ]
  },
  {
   "cell_type": "markdown",
   "metadata": {},
   "source": [
    "So, perhaps we have a problem and we need to get a vector of guesses and take the last one. Often, it's a judgement call whether to make code like this into a function but, in this case, it is getting messy and at this point it is probably better to hide all this complexity in a function where we don't to read through it to make sense of the main program.\n",
    "\n",
    "### __Create the Functions__\n",
    "\n",
    "We need functions to `get_number()`, `get_guess()` and `check_guess()`.\n",
    "\n",
    "#### _Function 2.1: Get a random number_"
   ]
  },
  {
   "cell_type": "code",
   "execution_count": null,
   "metadata": {},
   "outputs": [],
   "source": [
    "#get_number <- function(range, seed)\n",
    "#{\n",
    "#    n <- 100\n",
    "#    v <- (lcg_vector(multiple, modulus, seed, constant, n) / (modulus * multiple)) * range\n",
    "#    head(v)\n",
    "#    number <- as.integer(v[n])\n",
    "#    return (number)\n",
    "#}\n",
    "#range <- 100\n",
    "#get_number(range, runif(1) * range)\n",
    "## Choose a random number and get the user to guess until they get it right.\n",
    "#guess <- (-1)    # Set a 'wrong' guess.\n",
    "## Provide a prompt so the user knows what is required of them.\n",
    "#cat(\"Guess a number between 0 and 100.\\n\")\n",
    "## Get a guess and check it.\n",
    "##guess <- get_guess(range)\n",
    "## Check the validity of the guess.\n",
    "##check_guess(guess, number)"
   ]
  },
  {
   "cell_type": "markdown",
   "metadata": {},
   "source": [
    "Which is probably working but there's a bug here.\n",
    "\n",
    "#### __Question:__ Where are the values of multiple, modulus and constant defined?\n",
    "\n",
    "This is a classic problem in R. You often create code that depends on a value that makes sense at the time you create the code but is later changed and then more code depends on the changed value. Once that happens your code is unreliable.\n",
    "\n",
    "The best, but traumatic, way to deal with this is to regularly clear your workspace and restart the R interpreter and run your code from the top.\n",
    "\n",
    "This __will__ unsually mean you have a problem you have to fix. But you have to fix it or your results are not reliable.\n",
    "\n",
    "For this reason your working file should be written to contain all the code you need to go from scratch to your final results. Ideally, you should just be able to hit the Source button to completely re-run your analysis.\n",
    "\n",
    "So we need to define these parameters in the function to make sure that the LCG works as required. Note that the values defined in the function have a scope that is limited to the function. Once get_number() has finished running, a reference to these values will refer to the ones defined outside the fnction."
   ]
  },
  {
   "cell_type": "code",
   "execution_count": null,
   "metadata": {},
   "outputs": [],
   "source": [
    "## Bad parameters.\n",
    "#modulus <- 23\n",
    "#multiple <- 6\n",
    "#seed <- runif(1) * 100\n",
    "#constant <- 7\n",
    "#cat('Outside the function (global)', modulus, multiple, seed, constant, '\\n', sep=' ')\n",
    "#get_number <- function(range, seed)\n",
    "#{\n",
    "#    modulus <- 86436\n",
    "#    multiple <- 1093\n",
    "#    constant <- 18257\n",
    "#    cat('Inside the function (local)', modulus, multiple, seed, constant, '\\n', sep=' ')\n",
    "#    n <- 100\n",
    "#    v <- (lcg_vector(multiple, modulus, seed, constant, n) / (modulus * multiple)) * range\n",
    "#    # There's a problem here - how do we keep track of the seed?\n",
    "#    return (as.integer(v[n]))\n",
    "#}\n",
    "#get_number(20, seed)\n",
    "#cat('Outside the function, again (global)', modulus, multiple, seed, constant, '\\n', sep=' ')\n",
    "#seed"
   ]
  },
  {
   "cell_type": "markdown",
   "metadata": {},
   "source": [
    "But we have another problem: the seed is not being updated so we keep generating the same number which is less than random.\n",
    "\n",
    "This suggests that we need to keep a record of it somewhere. This the 'state' of our random number generator. It can be kept in a global variable (i.e. one that appears in the environment)."
   ]
  },
  {
   "cell_type": "code",
   "execution_count": null,
   "metadata": {},
   "outputs": [],
   "source": [
    "##seed <- runif(1) * 100\n",
    "#get_number <- function(range, seed)\n",
    "#{\n",
    "#    modulus <- 86436\n",
    "#    multiple <- 1093\n",
    "#    constant <- 18257\n",
    "#    n <- 100\n",
    "#    v <- (lcg_vector(multiple, modulus, seed, constant, n) / (modulus * multiple)) * range\n",
    "#    # There's a problem here - how do we keep track of the seed?\n",
    "#    seed <<- v[n]\n",
    "#    return (as.integer(v[n]))\n",
    "#}\n",
    "#get_number(20, seed)\n",
    "#seed"
   ]
  },
  {
   "cell_type": "markdown",
   "metadata": {},
   "source": [
    "But there's the possibility that some other library may define a variable `seed` and we'll have a conflict (one name will mask the other - it can happen with functions too). Ideally we would keep it secret to our LCG functions. One way to do this is to create a list of values with a name specific to out function and keep the seed in there."
   ]
  },
  {
   "cell_type": "code",
   "execution_count": null,
   "metadata": {},
   "outputs": [],
   "source": [
    "#LCG_Parameters <- list('seed' = runif(1)*100)\n",
    "#LCG_Parameters['seed']"
   ]
  },
  {
   "cell_type": "markdown",
   "metadata": {},
   "source": [
    "The same thing will apply to the parameters, which, if you felt it was appropriate could also be added to the LCG_Parameters list."
   ]
  },
  {
   "cell_type": "code",
   "execution_count": null,
   "metadata": {},
   "outputs": [],
   "source": [
    "##seed <- runif(1) * 100\n",
    "#LCG_Parameters[['seed']]\n",
    "#get_number <- function(range)\n",
    "#{\n",
    "#    # Don't forget to define the parameters here. If you had not done this,\n",
    "#    # R would use the last defined values globally which could be anything.\n",
    "#    modulus <- 86436\n",
    "#    multiple <- 1093\n",
    "#    constant <- 18257\n",
    "#    # Get the hundredth value.\n",
    "#    n <- 100\n",
    "#    v <- (lcg_vector(multiple, modulus, LCG_Parameters[['seed']], constant, n) / (modulus * multiple)) * range\n",
    "#    # There's a problem here - how do we keep track of the seed?\n",
    "#    print(v[n])\n",
    "#    print(LCG_Parameters[['seed']])\n",
    "#    LCG_Parameters[['seed']]<<-(v[n])\n",
    "#    return (as.integer(v[n]))\n",
    "#}\n",
    "#get_number(20)\n",
    "#LCG_Parameters[['seed']]"
   ]
  },
  {
   "cell_type": "markdown",
   "metadata": {},
   "source": [
    "Now, back to the algorithm and the remaining functions:"
   ]
  },
  {
   "cell_type": "code",
   "execution_count": null,
   "metadata": {},
   "outputs": [],
   "source": [
    "## Must set the seed before we adjust the value to generate the output or we\n",
    "## will break the algorithm / parameter selection.\n",
    "#range <- 100\n",
    "#number <- get_number(range)\n",
    "## Choose a random number and get the user to guess until they get it right.\n",
    "#guess <- (-1)    # Set a 'wrong' guess.\n",
    "## Provide a prompt so the user knows what is required of them.\n",
    "#cat(\"Guess a number between 0 and 100.\\n\")\n",
    "## Get a guess and check it.\n",
    "##guess <- get_guess(range)\n",
    "## Check the validity of the guess.\n",
    "##check_guess(guess, number)"
   ]
  },
  {
   "cell_type": "markdown",
   "metadata": {},
   "source": [
    "#### _Function 2.2: Get a number from the user._\n",
    "\n",
    "To get a number from the user, we will use a function, `readline()` which displays the text you provide as a parameter and returns the value that the user typed in."
   ]
  },
  {
   "cell_type": "code",
   "execution_count": null,
   "metadata": {},
   "outputs": [],
   "source": [
    "#n <- readline(prompt=\"Enter an integer: \")\n",
    "#n"
   ]
  },
  {
   "cell_type": "markdown",
   "metadata": {},
   "source": [
    "Note that this is in quotes, so is a character string and we will need to convert to integer once we know it is, in fact, a number.\n",
    "\n",
    "### __Discussion:__ We clearly need to check what we have received from the user. But what and how?"
   ]
  },
  {
   "cell_type": "markdown",
   "metadata": {},
   "source": [
    "We could get the value and check for all the numbers with an OR condition, `|`:\n",
    "\n",
    "__Note:__ R quirk - you have to have the `else` on the same line as the `}` or it can't cope."
   ]
  },
  {
   "cell_type": "code",
   "execution_count": null,
   "metadata": {},
   "outputs": [],
   "source": [
    "#n <- readline(prompt=\"Enter an integer: \")\n",
    "#if (n=='0' | n=='1' | n=='2')\n",
    "#{\n",
    "#    # We have a 'number'.\n",
    "#    cat(\"A number!\\n\")\n",
    "#}\n",
    "#else\n",
    "#{\n",
    "#    # We don't.\n",
    "#    cat(\"You were supposed to enter a number!\\n\")\n",
    "#}"
   ]
  },
  {
   "cell_type": "markdown",
   "metadata": {},
   "source": [
    "We could try to check for an initial digit since as.integer('123abc') might produce 123 which may be acceptable."
   ]
  },
  {
   "cell_type": "code",
   "execution_count": null,
   "metadata": {},
   "outputs": [],
   "source": [
    "#as.integer('123abc')\n",
    "#substr('1', 1, 2)"
   ]
  },
  {
   "cell_type": "markdown",
   "metadata": {},
   "source": [
    "The solution is to use a pattern matching tool to check that all the characters in the entered string, `n`, are numeric. You do this with the pattern:\n",
    "\n",
    "^\\[0-9\\]+$\n",
    "\n",
    "which means:\n",
    "\n",
    "* ^ --- find the start of the string\n",
    "* \\[ \\]+ --- repeat whatever's between the square brackets 1 or more times\n",
    "* 0-9 --- any of the characters 0, 1, 2, 3, 4, 5, 6, 7, 8, 9\n",
    "* $ --- match the end of the string\n",
    "\n",
    "i.e. ^\\[0-9\\]+$ means from the start to the end of the string, there must be only characters 0, 1, 2, 3, 4, 5, 6, 7, 8, 9.\n",
    "\n",
    "These are __regular expressions__ and are very powerful (we'll see them later in matching ICD10 codes).\n",
    "\n",
    "`grepl(pattern, string)` searches string to see if it matches the pattern and returns TRUE if it does. We want to display a message if it isn't a number so we can negate the logic using the operator `!`."
   ]
  },
  {
   "cell_type": "code",
   "execution_count": null,
   "metadata": {},
   "outputs": [],
   "source": [
    "## Function: Get an integer from the user.\n",
    "## Ask the user to enter a number, check it. If not an integer, report this and\n",
    "## try again.\n",
    "## @return The integer\n",
    "#get_guess <- function() { \n",
    "#    n <- readline(prompt=\"Enter an integer: \")\n",
    "#    if(!grepl(\"^[0-9]+$\", n)) {\n",
    "#        cat(n, \"is not an integer.\\n\", sep=\" \")\n",
    "#        return(get_guess())\n",
    "#    }\n",
    "#    return(as.integer(n))\n",
    "#}\n",
    "#get_guess()"
   ]
  },
  {
   "cell_type": "markdown",
   "metadata": {},
   "source": [
    "### __Exercise:__ Also check that the supplied number is in range (you'll need to tell the function what the range is).\n",
    "\n",
    "### __Exercise:__ The output wasn't quite in the order we wanted it. Try to work out what was happening and fix it."
   ]
  },
  {
   "cell_type": "markdown",
   "metadata": {},
   "source": [
    "#### _Function 2.3: Compare with the Supplied RN._"
   ]
  },
  {
   "cell_type": "code",
   "execution_count": null,
   "metadata": {},
   "outputs": [],
   "source": [
    "## Must set the seed before we adjust the value to generate the output or we\n",
    "## will break the algorithm / parameter selection.\n",
    "#range <- 100\n",
    "#number <- get_number(range)\n",
    "## Choose a random number and get the user to guess until they get it right.\n",
    "#guess <- (-1)    # Set a 'wrong' guess.\n",
    "## Provide a prompt so the user knows what is required of them.\n",
    "#cat(\"Guess a number between 0 and 100.\\n\")\n",
    "## Get a guess and check it.\n",
    "#guess <- get_guess(range)\n",
    "## Compare the guess with the number.\n",
    "#if (guess == number) {\n",
    "#    cat(\"Da iawn!,\", number, \"is the number.\\n\", sep=\" \")\n",
    "#} else if (guess < number) {\n",
    "#    cat(\"That was a little low.\\n\")\n",
    "#} else if(guess > number) {\n",
    "#    cat(\"Too big!\\n\")\n",
    "#}"
   ]
  },
  {
   "cell_type": "markdown",
   "metadata": {},
   "source": [
    "Or in the form of a function:"
   ]
  },
  {
   "cell_type": "code",
   "execution_count": null,
   "metadata": {},
   "outputs": [],
   "source": [
    "#check_guess <- function(guess, number)\n",
    "#{\n",
    "#    # Compare the guess with the number.\n",
    "#    if (guess == number) {\n",
    "#        cat(\"Da iawn!,\", number, \"is the number.\\n\", sep=\" \")\n",
    "#        return (TRUE)\n",
    "#    }\n",
    "#    else if (guess < number) {\n",
    "#        cat(\"That was a little low.\\n\")\n",
    "#        return (FALSE)\n",
    "#    }\n",
    "#    else if(guess > number) {\n",
    "#        cat(\"Too big!\\n\")\n",
    "#        return (FALSE)\n",
    "#    }    \n",
    "#}"
   ]
  },
  {
   "cell_type": "code",
   "execution_count": null,
   "metadata": {},
   "outputs": [],
   "source": [
    "## Must set the seed before we adjust the value to generate the output or we\n",
    "## will break the algorithm / parameter selection.\n",
    "#range <- 100\n",
    "#number <- get_number(range)\n",
    "## Choose a random number and get the user to guess until they get it right.\n",
    "#guess <- (-1)    # Set a 'wrong' guess.\n",
    "## Provide a prompt so the user knows what is required of them.\n",
    "#cat(\"Guess a number between 0 and 100.\\n\")\n",
    "## Get a guess and check it.\n",
    "#guess <- get_guess()\n",
    "## Compare the guess with the number.\n",
    "#correct <- check_guess(guess, number)\n",
    "#if (correct) print(\"Hooray!\")"
   ]
  },
  {
   "cell_type": "markdown",
   "metadata": {},
   "source": [
    "### __Test the Function__\n",
    "\n",
    "### __Exercise:__ Follow the same strategu as we did for the LCG to create tests that check the inputs are valid and that the output is what you would expect it to be."
   ]
  },
  {
   "cell_type": "markdown",
   "metadata": {},
   "source": [
    "### __Create a game function__\n",
    "\n",
    "#### _Function 2.4: Create a game in which the user has a fixed number of attempts to guess the number_\n",
    "\n",
    "### __Exercise:__ Now encapsulate the game code into a function, `game()`.\n",
    "\n",
    "### __Exercise:__ Use a `for` loop to allow the user to try to guess for a specified maximum number of guesses."
   ]
  },
  {
   "cell_type": "code",
   "execution_count": null,
   "metadata": {},
   "outputs": [],
   "source": [
    "#game_for <- function(max_attempts=6)\n",
    "#{\n",
    "#    # Must set the seed before we adjust the value to generate the output or we\n",
    "#    # will break the algorithm / parameter selection.\n",
    "#    range <- 100\n",
    "#    number <- get_number(range)\n",
    "#    # Choose a random number and get the user to guess until they get it right.\n",
    "#    guess <- (-1)    # Set a 'wrong' guess.\n",
    "#    for (i in 1:max_attempts)\n",
    "#    {\n",
    "#        # Provide a prompt so the user knows what is required of them.\n",
    "#        cat(\"Guess a number between 0 and 100.\\n\")\n",
    "#        # Get a guess and check it.\n",
    "#        guess <- get_guess()\n",
    "#        # Compare the guess with the number.\n",
    "#        correct <- check_guess(guess, number)\n",
    "#        if (correct)\n",
    "#        {\n",
    "#            print(\"Hooray!\")\n",
    "#            break;\n",
    "#        }\n",
    "#    }\n",
    "#}\n",
    "#game_for()"
   ]
  },
  {
   "cell_type": "markdown",
   "metadata": {},
   "source": [
    "### __Exercise:__ Add a check in the get_guess() function for a special input (e.g. the letter 'q') that indicates that the user gives up, and stop the code nicely.\n",
    "\n",
    "The R function `stop('message')` will do this, but it would be tidier to direct the code to finish (i.e. to exit the loop) so that it can do any cleaning up that might be needed.\n",
    "\n",
    "### __Exercise:__ Experiment with using `while` and `repeat` loops to provide a game that only finishes if the user guesses or quits.\n",
    "\n",
    "## __Extra Exercises__\n",
    "\n",
    "### __Exercise: Show the results__\n",
    "\n",
    "#### _Function 2.5: Keep a record of the guesses and plot the sequence with the correct value._\n",
    "\n",
    "You will need to have a vector for the guesses and add each guess to the end of the vector. You  could then produce a line plot() (use plot(v, lty=1)) of these values.\n",
    "\n",
    "### __Make the game more interesting__\n",
    "\n",
    "#### Function 2.6: If the user fails to guess, shift the number with a specified probability before the user can guess again.\n",
    "\n",
    "Keep track of the values for the number and the guess and plot both on the same plot."
   ]
  },
  {
   "cell_type": "markdown",
   "metadata": {},
   "source": [
    "## __3: Extra Code: The Sieve or Eratosthenes__\n",
    "\n",
    "### __The Problem in Context__\n",
    "\n",
    "This is extra code for further practice that is available on the github. It uses the sieve to generate prime numbers and attempts to calculate the prime factors of a specified number.\n",
    "\n",
    "### __Working Environment__\n",
    "\n",
    "Create a project and enable git. Create directories and a working R-script file. You may have a directory/file R/Sieve.R where you will put the code for the guessing game functions and another working_3.R either in the root directory of your project or as R/working_3.R. You still may want to consider a better naming strategy (:\n",
    "\n",
    "### __The Exercise__\n",
    "\n",
    "Go to the github code and review the sieve of Eratosthenes code.\n",
    "\n",
    "Review the commenting - what works, what are the @params?\n",
    "\n",
    "Run the code?"
   ]
  },
  {
   "cell_type": "code",
   "execution_count": null,
   "metadata": {},
   "outputs": [],
   "source": []
  },
  {
   "cell_type": "markdown",
   "metadata": {},
   "source": [
    "<table style=\"text-align:center;\"><tr><td width=\"100\" height=\"20\" style=\"background-color:greenyellow\"></td><td width=\"100\" height=\"20\" style=\"background-color:hotpink\"></td></tr></table>"
   ]
  },
  {
   "cell_type": "markdown",
   "metadata": {},
   "source": [
    "<table width='100%'><tr>\n",
    "    <td style='background-color:red; text-align:center; color: white;'><!--Foundation<!--hr size='5' style='border-color:red; background-color:red;'--></td>\n",
    "    <td style='background-color:yellow; text-align:center;'><!--Level 1<!--hr size='5' style='border-color:yellow; background-color:yellow;'--></td>\n",
    "    <td style='background-color:orange; text-align:center;'><!--Level 2<!--hr size='5' style='border-color:orange; background-color:orange;'--></td>\n",
    "    <td style='background-color:green; text-align:center; color: white;'><!--Level 3<!--hr size='5' style='border-color:orange; background-color:orange;'--></td>\n",
    "    <td style='background-color:blue; text-align:center; color: white;'><!--Level 4<!--hr size='5' style='border-color:orange; background-color:orange;'--></td>\n",
    "    <td style='background-color:purple; text-align:center; color: white;'><!--Level 5<!--hr size='5' style='border-color:orange; background-color:orange;'--></td>\n",
    "    <td style='background-color:brown; text-align:center; color: white;'><!--Level 6<!--hr size='5' style='border-color:orange; background-color:orange;'--></td>\n",
    "    <td style='background-color:black; text-align:center; color: white;'><!--Level 7<!--hr size='5' style='border-color:orange; background-color:orange;'--></td>\n",
    "</tr></table>"
   ]
  }
 ],
 "metadata": {
  "kernelspec": {
   "display_name": "R",
   "language": "R",
   "name": "ir"
  },
  "language_info": {
   "codemirror_mode": "r",
   "file_extension": ".r",
   "mimetype": "text/x-r-source",
   "name": "R",
   "pygments_lexer": "r",
   "version": "4.0.2"
  }
 },
 "nbformat": 4,
 "nbformat_minor": 4
}
