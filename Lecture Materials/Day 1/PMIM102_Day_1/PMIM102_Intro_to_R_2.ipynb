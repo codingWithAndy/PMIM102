{
 "cells": [
  {
   "cell_type": "markdown",
   "metadata": {},
   "source": [
    "<table width='100%'><tr>\n",
    "    <td style='background-color:red; text-align:center; color: white;'><!--Foundation<!--hr size='5' style='border-color:red; background-color:red;'--></td>\n",
    "    <td style='background-color:yellow; text-align:center;'><!--Level 1<!--hr size='5' style='border-color:yellow; background-color:yellow;'--></td>\n",
    "    <td style='background-color:orange; text-align:center;'><!--Level 2<!--hr size='5' style='border-color:orange; background-color:orange;'--></td>\n",
    "    <td style='background-color:green; text-align:center; color: white;'><!--Level 3<!--hr size='5' style='border-color:orange; background-color:orange;'--></td>\n",
    "    <td style='background-color:blue; text-align:center; color: white;'><!--Level 4<!--hr size='5' style='border-color:orange; background-color:orange;'--></td>\n",
    "    <td style='background-color:purple; text-align:center; color: white;'><!--Level 5<!--hr size='5' style='border-color:orange; background-color:orange;'--></td>\n",
    "    <td style='background-color:brown; text-align:center; color: white;'><!--Level 6<!--hr size='5' style='border-color:orange; background-color:orange;'--></td>\n",
    "    <td style='background-color:black; text-align:center; color: white;'><!--Level 7<!--hr size='5' style='border-color:orange; background-color:orange;'--></td>\n",
    "</tr></table>"
   ]
  },
  {
   "cell_type": "markdown",
   "metadata": {},
   "source": [
    "<table style='border-left:10px solid yellow;'><tr>\n",
    "    <td style='padding-left:20px;'>\n",
    "        <h2><i>Swansea University Medical School</i><br/><b>MSc Health Data Science</b></h2>\n",
    "        <h3>PMIM-102 Introduction to Scientific Computing in Healthcare</h3>\n",
    "        <h1><b>Introduction to Programming in R</b></h1>\n",
    "        <h2><b>1. Programming Fundamentals</b></h2>\n",
    "        <h2><i>Part 2: Control structures.</i></h2>\n",
    "        <h3><i>September 2020</i></h3>\n",
    "        <h3><b>To-do</b></h3>\n",
    "        <ul>\n",
    "            <li>Fix bug in plotting with factors.</li>\n",
    "            <li>A formula challenge?</li>\n",
    "        </ul>\n",
    "    </td>\n",
    "    <td><img height='300' width='500' src='images/cover.jpg'/></td>\n",
    "</tr></table>"
   ]
  },
  {
   "cell_type": "markdown",
   "metadata": {},
   "source": [
    "## __Aim__: Learn how to make the computer do what we want and get information from the data\n",
    "\n",
    "The aim of this session is to introduce the basic principles of programming using <code>R</code>.\n",
    "\n",
    "### __A map of where we're going__\n",
    "\n",
    "1. __Simple Things__ - simple data (__variables__) and how to do things to them (__operators__) and calculate things (__expressions__). Also when and where variables are and are not valid.\n",
    "\n",
    "1. <div style=\"background-color:yellow;\"><b>What computers do best 1: Control</b> - how to make decisions about whether to execute code and/or which code to execute; how to repeatedly execute code.</div>\n",
    "\n",
    "1. __What computers do best 2: What they have been told. Again and agin ...__ - combining lots of simple operations into more complex functions - being able to perform, simple, repetitive or complex operations on the variables with just one command. Introducing some basic descriptive statistical functions.\n",
    "\n",
    "1. __What R does well: complex data and operations on all the bits at the same time__ - pairs, tuples, vectors, lists, matrices, arrays, tables, factors.\n",
    "\n",
    "1. __The Data Frame__ - along with vectors, data frames are the data structure most frequently used in health data science.\n",
    "    * __Extra: R Specifics__ - formulae."
   ]
  },
  {
   "cell_type": "markdown",
   "metadata": {},
   "source": [
    "## __Navigation__\n",
    "\n",
    "_How to approach this section of the course depending on your experience of R_\n",
    "\n",
    "Although the code and exercises presented in this notebook will run here, it would be better to transfer the code to R-Studio and run and edit it in that environment as that will be the enviornment we use for the course.\n",
    "\n",
    "__If you have programming experience in R:__\n",
    "\n",
    "you may want to skim what we are doing in each section: you may be able to skip ahead to the ___challenges___ and ___FAST TRACK___ and attempt those exercises. If you complete those exercises before the rest of use have reached that point, ask yourself 'what-if' questions and play with the code or the look at something you have never used before or help others in the class.\n",
    "\n",
    "__If you have some programming experience in another programming language:__\n",
    "\n",
    "you can work through the Jupyter Notebook at your own speed but bear in mind that R is unique in many respects, so don't just skip things as it may come back to bite you :) When you get to the ___challenges___ and ___FAST TRACK___ please attempt those exercises and then experiment with R. \n",
    "\n",
    "In all cases, the internet is a superb resource if you have a problem - somebody almost certainly has had it before (but remember that not all the answers are from experts)."
   ]
  },
  {
   "cell_type": "markdown",
   "metadata": {},
   "source": [
    "<table style=\"text-align:center;\"><tr><td width=\"100\" height=\"20\" style=\"background-color:greenyellow\"></td><td width=\"100\" height=\"20\" style=\"background-color:hotpink\"></td></tr></table>"
   ]
  },
  {
   "cell_type": "markdown",
   "metadata": {},
   "source": [
    "### __Simple Control & Decisions__\n",
    "\n",
    "As well as doing things a calculator can do, programs also need to make decisions about whether or not they should do things. To do this they need to be able to:\n",
    "\n",
    "* checking a condition, and\n",
    "* control the program flow. \n",
    "\n",
    "To check conditions we need to form a logical expression (also called a conditional espression) which results in a value of TRUE or FALSE. For example, if we wanted to check that the height value we have been given for a BMI calculation is realistic, we might want to check that it was above 0.5m:"
   ]
  },
  {
   "cell_type": "code",
   "execution_count": 1,
   "metadata": {},
   "outputs": [],
   "source": [
    "#height_cm <- 4000\n",
    "#(height_cm > 50)"
   ]
  },
  {
   "cell_type": "markdown",
   "metadata": {},
   "source": [
    "... and less than, say, 3m:"
   ]
  },
  {
   "cell_type": "code",
   "execution_count": 2,
   "metadata": {},
   "outputs": [],
   "source": [
    "#(height_cm > 50) & (height_cm < 3000)"
   ]
  },
  {
   "cell_type": "markdown",
   "metadata": {},
   "source": [
    "__NOTE__: TRUE and FALSE are reserved words in R and cannot be changed. to save typing, you can use T and F as these have been defined as global variables but these values can be over-ridden so that is not recommended."
   ]
  },
  {
   "cell_type": "markdown",
   "metadata": {},
   "source": [
    "__NOTE__: Numerical values can be used in logical and relational statements. In relational statements, 0 is considered FALSE and all other values TRUE."
   ]
  },
  {
   "cell_type": "markdown",
   "metadata": {},
   "source": [
    "#### Relational Operators\n",
    "\n",
    "The following allow us to compare logical values in complex tests:\n",
    "\n",
    "* \\< --- less than\n",
    "* \\<= --- less than or equal to\n",
    "* \\> --- greater than\n",
    "* \\>= --- greater than or equal to\n",
    "* == --- equal to\n",
    "* != --- not equal to\n",
    "* isTRUE(x) --- test if X is TRUE "
   ]
  },
  {
   "cell_type": "markdown",
   "metadata": {},
   "source": [
    "#### Logical Operators\n",
    "\n",
    "The following allow us to modify logical values:\n",
    "\n",
    "* !x --- not x\n",
    "* x | y --- x or y (all elements in a complex structure)\n",
    "* x & y --- x and y (all elements in a complex structure)\n",
    "* x || y --- x or y (top element only in a complex structure; returns a single value)\n",
    "* x && y --- x and y (top element only in a complex structure; returns a single value)\n",
    "\n",
    "Don't worry yet about the complex structures and, in general, just use the single '&' or '|' unless you mean otherwise."
   ]
  },
  {
   "cell_type": "markdown",
   "metadata": {},
   "source": [
    "#### Making Decisions\n",
    "\n",
    "In R we can choose whether to run a piece of code using the <code>if (_conditional expression_) { _state else</code> control structure which looks like:\n",
    "\n",
    "<code>if (_conditional expression_) { <br/>    _statements if TRUE_ <br/>} else { <br/>    _statements if FALSE_<br/>}</code>\n",
    "\n",
    "R will evaluate the conditional expression, if it is TRUE (or non-zero) R will execute all the instructions in the statements if TRUE section and, if FALSE or 0, will instead execute all the instructions in the statements if FALSE section."
   ]
  },
  {
   "cell_type": "markdown",
   "metadata": {},
   "source": [
    "__NOTE__: The curly braces need to be on the same line as the `if () {` and `} else {` lines or R gets confused - it interprets one line at a time."
   ]
  },
  {
   "cell_type": "markdown",
   "metadata": {},
   "source": [
    "### __Exercise__: Testing variables.\n",
    "Create two variables and assign them a value. Compare them and print out a message if the first is larger than the second or a different message if not. Create another check to see if they are equal. And a third to check if either of them is TRUE."
   ]
  },
  {
   "cell_type": "code",
   "execution_count": 3,
   "metadata": {},
   "outputs": [],
   "source": [
    "#x <- 1\n",
    "#y <- 0\n",
    "#if (x < y) {\n",
    "#    print('x is less than y')\n",
    "#} else {\n",
    "#    print('x isn\\'t')\n",
    "#}\n",
    "#if (x == y) {\n",
    "#    print('They are both the same')\n",
    "#}\n",
    "#if (x | y) print('One or the other or both')"
   ]
  },
  {
   "cell_type": "markdown",
   "metadata": {},
   "source": [
    "You can combine multiple if-else statements to get a series of tests:\n",
    "\n",
    "<code>if (_conditional expression_) { <br/>    _statements if TRUE_ <br/>} else if (_another_condition_)  { <br/>    _statements if TRUE_ <br/>} else { <br/>    _statements if FALSE_<br/>}</code>\n",
    "\n",
    "Note that NA values cause trouble with conditional expressions:"
   ]
  },
  {
   "cell_type": "code",
   "execution_count": 4,
   "metadata": {},
   "outputs": [],
   "source": [
    "#x <- NA\n",
    "#if (x == NA) print('No data')"
   ]
  },
  {
   "cell_type": "markdown",
   "metadata": {},
   "source": [
    "So we need to explicitly check for NA using a special function _is.na(&lt;value&gt;)_:"
   ]
  },
  {
   "cell_type": "code",
   "execution_count": 5,
   "metadata": {},
   "outputs": [],
   "source": [
    "#if (is.na(x)) print('No data')\n",
    "#x <- Inf\n",
    "#if (is.infinite(x)) print('Infinity!')"
   ]
  },
  {
   "cell_type": "markdown",
   "metadata": {},
   "source": [
    "### __Extra__: ifelse()\n",
    "R has another piece of shorthand, the `ifelse` statement. This is simply the if ... else we have seen above but in one line:\n",
    "\n",
    "`ifelse(condition, statement if TRUE, statement if FALSE)`\n",
    "\n",
    "This is particularly useful for complex data processing (see mutate later on), where you can assign a new variable:\n",
    "\n",
    "`x <- ifelse(y > z, y, z)`"
   ]
  },
  {
   "cell_type": "code",
   "execution_count": 6,
   "metadata": {},
   "outputs": [],
   "source": [
    "#y <- 10\n",
    "#z <- 18\n",
    "#x <- ifelse(y > z, y, z)\n",
    "#x"
   ]
  },
  {
   "cell_type": "markdown",
   "metadata": {},
   "source": [
    "### __Extra Quiz__:\n",
    "\n",
    "What are values of the following expressions and what would they be if the brackets were missing? Think about it before you try it :)\n",
    "\n",
    "* (5 + 3) ^ 3\n",
    "\n",
    "* 3/10 + 2/7+3\n",
    "\n",
    "* (44 %% 13) / (12 %/% 7)\n",
    "\n",
    "* sqrt(-1)\n",
    "\n",
    "* TRUE & FALSE\n",
    "\n",
    "* TRUE & FALSE | TRUE\n",
    "\n",
    "* if(x) print(x)"
   ]
  },
  {
   "cell_type": "code",
   "execution_count": 7,
   "metadata": {},
   "outputs": [],
   "source": [
    "#x <- -1\n",
    "#(5 + 3) ^ 3\n",
    "#3/10 + 2/7+3\n",
    "#(44 %% 13) / (12 %/% 7)\n",
    "#sqrt(x)\n",
    "#sqrt(as.complex(x))\n",
    "#TRUE & FALSE\n",
    "#TRUE & FALSE | TRUE\n",
    "##rm(x)\n",
    "#if (x) print(x)"
   ]
  },
  {
   "cell_type": "markdown",
   "metadata": {},
   "source": [
    "### __Challenge__: How do you get an exclusive or in R (TRUE if x or y is TRUE but not if neither or both are TRUE)?"
   ]
  },
  {
   "cell_type": "code",
   "execution_count": 8,
   "metadata": {},
   "outputs": [],
   "source": [
    "#x <- TRUE\n",
    "#y <- FALSE\n",
    "#(x | y) & !(x & y)"
   ]
  },
  {
   "cell_type": "markdown",
   "metadata": {},
   "source": [
    "### __Challenge__: Use `ifelse` to avoid the warning message when you try to calculate the square root of minus 1?"
   ]
  },
  {
   "cell_type": "code",
   "execution_count": 9,
   "metadata": {},
   "outputs": [],
   "source": [
    "#x <- -1\n",
    "#sqrt(x)\n",
    "#sqrt(ifelse(x > 0, x, NA))"
   ]
  },
  {
   "cell_type": "markdown",
   "metadata": {},
   "source": [
    "### __Exercise__: Work through the single-guess program and understand what it is doing.\n",
    "<code>grepl</code> is a regular expression parser which will check if the string passed to it matches the specified pattern and then produces a logical (TRUE/FALSE) response. There is a cheatsheet on the [RStudio cheatsheets website](https://github.com/rstudio/cheatsheets/raw/master/regex.pdf). Don't worry about this at this stage as you may never need to use these (unless you want to)."
   ]
  },
  {
   "cell_type": "code",
   "execution_count": null,
   "metadata": {},
   "outputs": [],
   "source": [
    "## Get a random number, ask the user to guess it, reveal how they have done.\n",
    "#set.seed(Sys.time())    # Set a nearly random seed using the system time.\n",
    "\n",
    "#number <- round(runif(1) * 10, digits = 0)     # Get a uniform integer.\n",
    "\n",
    "#cat(\"Guess a number between 0 and 10.\\n\")\n",
    "#guess <- readline(prompt=\"Enter a number: \")\n",
    "\n",
    "## The next line is a Regular Expression. We'll get onto these later. All it\n",
    "## means is that n must contain 1 or more characters all of which are in the\n",
    "## range 0-9,and nothing else.\n",
    "#if(!grepl(\"^[0-9]+$\", n)) {\n",
    "#    cat(n, \"is not an integer.\\n\", sep=\" \")\n",
    "#} else if (guess == number) {\n",
    "#    cat(\"Da iawn!,\", number, \"is the number.\\n\", sep=\" \")\n",
    "#} else if (guess < number) {\n",
    "#    cat(\"That was a little low.\\n\")\n",
    "#} else if(guess > number) {\n",
    "#    cat(\"Too big!\\n\")\n",
    "#}\n",
    "#if (guess != number) {\n",
    "#    cat(\"It was, in fact,\", number, \".\")\n",
    "#}"
   ]
  },
  {
   "cell_type": "markdown",
   "metadata": {},
   "source": [
    "<div style='background-color:lightgray;'><h3><b><i>FAST TRACK</i></b>: Get comfortable with the syntax used with if ... else and ifelse().</h3>\n",
    "If you are still ahead, look into the `grepl` function and regular expressions.</div>"
   ]
  },
  {
   "cell_type": "markdown",
   "metadata": {},
   "source": [
    "<table style=\"text-align:center;\"><tr><td width=\"100\" height=\"20\" style=\"background-color:greenyellow\"></td><td width=\"100\" height=\"20\" style=\"background-color:hotpink\"></td></tr></table>"
   ]
  },
  {
   "cell_type": "markdown",
   "metadata": {},
   "source": [
    "### __Repetition - Control Loops__"
   ]
  },
  {
   "cell_type": "markdown",
   "metadata": {},
   "source": [
    "As well as the `if ... else` control structure, R has a number ways to repeat a section of code for example, to iterate through data (although R often has a better way to do this as we'll see later). There are three kinds of loops available for three different situations:\n",
    "\n",
    "* for loops --- which repeat a piece of code a specified number of times.\n",
    "* while loops --- which repeat code while a condition is met each time we start a loop.\n",
    "* repeat loops --- which repeat until we break out of it (we can check a condition in the middle or at the end of a loop, or at multiple points in a loop).\n",
    "\n",
    "<div style='background-color:red;color:white;padding-left:5px;'>When writing while and repeat loops, be careful as it is easy to accidently create an infinite loop if you fail to create the conditions for leaving. You should be able to terminate your R session to break out of infinite loops, but sometimes, the code executes so rapidly that R-Studio never responds and needs to be restarted - this is the moment you risk losing any unsaved work.</div>\n",
    "\n",
    "#### __for loops__\n",
    "A for loop defines a loop variable and the values it should take , for example:\n",
    "\n",
    "`for (var in 1:10)`\n",
    "\n",
    "In this case the following code section will be executed once for each value of `var` in the range 1 to 10. The `1:10` is short-hand for a sequence which can be defined using:\n",
    "\n",
    "`seq(from, to, step, length.out, along.with)`\n",
    "\n",
    "in this case `1:10` is the same as `seq(1, 10, 1)`.\n",
    "\n",
    "Documentation for <code>seq</code> can be found [here](https://stat.ethz.ch/R-manual/R-devel/library/base/html/seq.html)."
   ]
  },
  {
   "cell_type": "code",
   "execution_count": 10,
   "metadata": {},
   "outputs": [],
   "source": [
    "#for(loop in seq(1, 10, 2)) {\n",
    "#    die <- as.integer(runif(1) * 6) + 1\n",
    "#    cat(loop, '=>', die, '\\n')\n",
    "#}"
   ]
  },
  {
   "cell_type": "markdown",
   "metadata": {},
   "source": [
    "You can force the loop to start the next iteration using `next` and to leave the loop early using `break`."
   ]
  },
  {
   "cell_type": "code",
   "execution_count": 11,
   "metadata": {},
   "outputs": [],
   "source": [
    "#for (loop in seq(1, 10, 1)){\n",
    "#    die <- as.integer(runif(1) * 6) + 1\n",
    "#    print(die)\n",
    "#    if (die <= 3) next\n",
    "#    print('Die greater than 2')\n",
    "#    if (die > 5) break\n",
    "#    print('But not a six')\n",
    "#}"
   ]
  },
  {
   "cell_type": "markdown",
   "metadata": {},
   "source": [
    "<div style='background-color:lightgray;'><h3><b>Challenge</b>: Nested `for` loops.</h3>\n",
    "Create a function that produces a times table from 1 to 10.\n",
    "</div>"
   ]
  },
  {
   "cell_type": "code",
   "execution_count": 12,
   "metadata": {},
   "outputs": [],
   "source": [
    "## 1. Displays a times table.\n",
    "## In a string \\ is the 'escape' caharacter and, in combination with the\n",
    "## next character, defines special non-printing characters.\n",
    "## \\t is a tab character. \\n is a new-line. \\\\ is the backslash character.\n",
    "#for (i in 1:10)\n",
    "#{\n",
    "#    for (j in 1:10)\n",
    "#    {\n",
    "#            cat('\\t', i * j)\n",
    "#    }\n",
    "#    cat('\\n')\n",
    "#}\n",
    "\n",
    "## 2. The following code sets up a matrix as used in the examples but a bit\n",
    "## more advanced than we are at the moment.\n",
    "#mymat = matrix(nrow=10, ncol=10)\n",
    "#for (i in 1:10)\n",
    "#{\n",
    "#  for (j in 1:10)\n",
    "#  {\n",
    "#    mymat[i, j] = i * j\n",
    "#  }\n",
    "#}\n",
    "#mymat"
   ]
  },
  {
   "cell_type": "markdown",
   "metadata": {},
   "source": [
    "<div style='background-color:lightgray;'><h3><b><i>FAST TRACK</i></b>: Algorithm Performance and O() Notation</h3>\n",
    "Just whilst we are here - how many times do we execute the loop:\n",
    "\n",
    "<code>for(i in 1:n) { ...some code... }</code>?\n",
    "\n",
    "It will be n times, so for a dataset with n entries, our program will take proportionally longer as n increases. This is often stated as being, 'O(n)'.\n",
    "\n",
    "What about:\n",
    "\n",
    "<code>for(i in 1:n) { for(j in 1:n) { ...some code... } }</code>?\n",
    "\n",
    "In this case each inner loop runs n times every time each outer loop runs, so we run proportionally to n x n or n<sup>2</sup>, which is written 'O(n<sup>2</sup>)'.\n",
    "\n",
    "So, if you have code that takes 10s to run for 100,000 cases, how long will it run for 1 million, in case (1), and (2) above? What about 10 million?\n",
    "\n",
    "Algorithms are often quoted as 'O(1/n)' or 'O(sqrt(n))' - you could plot these and see how well they compare.\n",
    "    \n",
    "To measure time, you can use the built-in function <i>Sys.time()</i>.\n",
    "</div>"
   ]
  },
  {
   "cell_type": "code",
   "execution_count": 36,
   "metadata": {},
   "outputs": [],
   "source": [
    "#x <- seq(0, 100, 1)\n",
    "#y <- x ^ 2\n",
    "#plot(x, y)\n",
    "#\n",
    "#n <- 10\n",
    "#iterations <- seq(10, 100, 10)\n",
    "#times <- vector(length=n)\n",
    "#index <- 1\n",
    "#for (t in iterations)\n",
    "#{\n",
    "#    loop1 <- t * 100\n",
    "#    loop2 <- t * 100\n",
    "#    x <- 0\n",
    "#    start <- Sys.time()\n",
    "#    for(i in 1:loop1) {\n",
    "#        for(j in 1:loop2) {\n",
    "#            x <- x + 1\n",
    "#        }\n",
    "#    }\n",
    "#    end <- Sys.time()\n",
    "#    times[index] <- end-start\n",
    "#    index <- index + 1\n",
    "#    cat('Execution took', end-start, \"s.\\n\", sep=' ')\n",
    "#}\n",
    "#plot(iterations, times)"
   ]
  },
  {
   "cell_type": "markdown",
   "metadata": {},
   "source": [
    "Loops in R are relatively slow. This is the reason R has been designed as a vector processing language and we can simply do things with vectors such as add them and R understands and implements the addition itself more optimally. This is also why we'll come across about the `apply()` functions which allow us to apply our functions, for example, '`average()` to complex data structures resulting in faster code than if we used loops."
   ]
  },
  {
   "cell_type": "code",
   "execution_count": 37,
   "metadata": {},
   "outputs": [],
   "source": [
    "## For example, we could use the power of R and a matrix outer multiplier:\n",
    "#outer(1:12, 1:12)"
   ]
  },
  {
   "cell_type": "markdown",
   "metadata": {},
   "source": [
    "<div style='background-color:lightgray;'><h3><b>Challenge</b>: Explore the functions `seq` and `rep`.</h3>\n",
    "The rep function produces one or more repeats of a sequence.\n",
    "</div>"
   ]
  },
  {
   "cell_type": "markdown",
   "metadata": {},
   "source": [
    "#### __While loops__\n",
    "\n",
    "While loops allow you to test a condition before you execute the loop and stop executing once the condition fails (i.e. == FALSE).\n",
    "\n",
    "`while(condition-expression) {\n",
    "    # execute some code\n",
    "}`\n",
    "\n",
    "In the example below, the loop will check at the start that score is less than 100 and execute if so. It will continue with the first statement after the loop as soon as this check shows score has reached or exceeded 100."
   ]
  },
  {
   "cell_type": "code",
   "execution_count": 15,
   "metadata": {},
   "outputs": [
    {
     "name": "stdout",
     "output_type": "stream",
     "text": [
      "Reached 100 in 26 throws."
     ]
    }
   ],
   "source": [
    "#score <- 0\n",
    "#number_of_throws <- 0\n",
    "#while(score < 100){\n",
    "#    die <- as.integer(runif(1) * 6 + 1)\n",
    "#    score <- score + die\n",
    "#    number_of_throws <- number_of_throws + 1\n",
    "#}\n",
    "#cat('Reached', score, 'in', number_of_throws, 'throws.')"
   ]
  },
  {
   "cell_type": "markdown",
   "metadata": {},
   "source": [
    "#### __Repeat loops__\n",
    "\n",
    "A repeat loop allows you to create a loop in which you don't need a condition (so it would go on forever) or where you wish to check at some point other than the start. It looks like:\n",
    "\n",
    "<code>repeat {\n",
    "    # execute some code\n",
    "    # if you want to exit the loop, you need to 'break'\n",
    "}</code>"
   ]
  },
  {
   "cell_type": "code",
   "execution_count": 17,
   "metadata": {},
   "outputs": [
    {
     "name": "stdout",
     "output_type": "stream",
     "text": [
      "[1] 1\n",
      "[1] 2\n",
      "[1] 3\n",
      "[1] 5\n",
      "[1] 8\n",
      "[1] 13\n",
      "[1] 21\n",
      "[1] 34\n",
      "[1] 55\n",
      "[1] 89\n"
     ]
    }
   ],
   "source": [
    "#last_integer <- 1\n",
    "#previous_integer <- 0\n",
    "#repeat{\n",
    "#    next_integer <- last_integer + previous_integer\n",
    "#    if (next_integer > 100) break\n",
    "#    print(next_integer)\n",
    "#    previous_integer <- last_integer\n",
    "#    last_integer <- next_integer\n",
    "#}"
   ]
  },
  {
   "cell_type": "markdown",
   "metadata": {},
   "source": [
    "<div style='background-color:lightgray;'><h3><b>Challenge</b>: Change the guessing game to use <i>loops</i>.</h3>\n",
    "    \n",
    "1. Implement the guessing game with a while loop - keep guessing until the user gets the answer right.\n",
    "    \n",
    "1. When that works, add a check to allow the user to enter something, for example 'q', to stop the game early.\n",
    "    \n",
    "1. Repeat this with repeat and for loops --- perhaps creating separate functions (see next section) for each and for the process of getting (and checking) a number from the user.\n",
    "</div>"
   ]
  },
  {
   "cell_type": "markdown",
   "metadata": {},
   "source": [
    "<div style='background-color:lightgray;'><h3><i>Answer for #1</i></h3>\n",
    "(Also includes #2).\n",
    "</div>"
   ]
  },
  {
   "cell_type": "code",
   "execution_count": 39,
   "metadata": {},
   "outputs": [],
   "source": [
    "#cat(\"Guess a number between 0 and 100.\\n\")\n",
    "#number <- round(runif(1) * 100, digits = 0)\n",
    "#guess <- -1\n",
    "#while(guess != number)\n",
    "#{ \n",
    "#    guess <- readline(prompt=\"Enter an integer: \")\n",
    "#    # cat(guess, '\\n')\n",
    "#    if(!grepl(\"^[0-9]+$\", guess)) {\n",
    "#        cat(guess, \"is not an integer.\\n\", sep=\" \")\n",
    "#        if (guess == 'q') {\n",
    "#            stop('Stopped as requested.')\n",
    "#        }\n",
    "#    } else {\n",
    "#        # cat(guess, number, '\\n')\n",
    "#        if (guess == number) {\n",
    "#            cat(\"Da iawn!\", number, \"is the number\\n\", sep=\" \")\n",
    "#        } else if (guess < number) {\n",
    "#            cat(\"That was a little low.\\n\")\n",
    "#        } else if(guess > number) {\n",
    "#            cat(\"Too big!\\n\")\n",
    "#        }\n",
    "#    }\n",
    "#}"
   ]
  },
  {
   "cell_type": "markdown",
   "metadata": {},
   "source": [
    "<div style='background-color:lightgray;'><h3><i>Answers for #3</i></h3>\n",
    "</div>"
   ]
  },
  {
   "cell_type": "code",
   "execution_count": 38,
   "metadata": {},
   "outputs": [],
   "source": [
    "## ----------------------------------------------------------------------------\n",
    "## Functions (see part 3) to save us having to type this stuff all in again\n",
    "## using lots of cut-and-paste.\n",
    "## ----------------------------------------------------------------------------\n",
    "#get_number <- function() { \n",
    "#    n <- readline(prompt=\"Enter an integer: \")\n",
    "#    if(!grepl(\"^[0-9]+$\",n)) {\n",
    "#        cat(n, \"is not an integer.\\n\", sep=\" \")\n",
    "#        if (n=='q') {\n",
    "#            stop('Stopped as requested.')\n",
    "#        } else {\n",
    "#            return(get_number())\n",
    "#        }\n",
    "#    }\n",
    "#    return(as.integer(n))\n",
    "#}\n",
    "#check_guess <- function(guess, number) {\n",
    "#    guessed <- FALSE\n",
    "#    print(number)\n",
    "#    if (guess == number) {\n",
    "#        cat(\"Da iawn!\", number, \"is the number\\n\", sep=\" \")\n",
    "#        guessed <- TRUE\n",
    "#    } else if (guess < number) {\n",
    "#        cat(\"That was a little low.\\n\")\n",
    "#    } else if(guess > number) {\n",
    "#        cat(\"Too big!\\n\")\n",
    "#    }\n",
    "#    return (guessed)\n",
    "#}\n",
    "#drift_number <- function(number) {\n",
    "#    if (runif(1) > 0.5) {\n",
    "#        number <- number + 1\n",
    "#    } else {\n",
    "#        number <- number - 1\n",
    "#    }\n",
    "#    if (number > 100) number <- 100\n",
    "#    if (number < 0) number <- 0\n",
    "#    return (number)\n",
    "#}\n",
    "## ----------------------------------------------------------------------------\n",
    "## The main section of the guessing code.\n",
    "## ----------------------------------------------------------------------------\n",
    "## Using while:\n",
    "#cat(\"Guess a number between 0 and 100.\\n\")\n",
    "#number <- round(runif(1) * 100, digits = 0)\n",
    "#guess <- -1\n",
    "#guessed <- FALSE\n",
    "#while(!guessed)\n",
    "#{ \n",
    "#    guess <- get_number()\n",
    "#    guessed <- check_guess(guess, number)\n",
    "#    if (!guessed) {\n",
    "#        number <- drift_number(number)\n",
    "#    }\n",
    "#}\n",
    "\n",
    "## Using repeat:\n",
    "#cat(\"Guess a number between 0 and 100.\\n\")\n",
    "#number <- round(runif(1) * 100, digits = 0)\n",
    "#repeat\n",
    "#{ \n",
    "#    guess <- get_number()\n",
    "#    guessed <- check_guess(guess, number)\n",
    "#    if (!guessed) {\n",
    "#        number <- drift_number(number)\n",
    "#    }\n",
    "#}\n",
    "\n",
    "## Using for:\n",
    "#cat(\"Guess a number between 0 and 100.\\n\")\n",
    "#number <- round(runif(1) * 100, digits = 0)\n",
    "#for(i in 1:10)\n",
    "#{ \n",
    "#    guess <- get_number()\n",
    "#    guessed <- check_guess(guess, number)\n",
    "#    if (!guessed) {\n",
    "#        number <- drift_number(number)\n",
    "#    }\n",
    "#}"
   ]
  },
  {
   "cell_type": "markdown",
   "metadata": {},
   "source": [
    "<table width='100%'><tr>\n",
    "    <td style='background-color:red; text-align:center; color: white;'><!--Foundation<!--hr size='5' style='border-color:red; background-color:red;'--></td>\n",
    "    <td style='background-color:yellow; text-align:center;'><!--Level 1<!--hr size='5' style='border-color:yellow; background-color:yellow;'--></td>\n",
    "    <td style='background-color:orange; text-align:center;'><!--Level 2<!--hr size='5' style='border-color:orange; background-color:orange;'--></td>\n",
    "    <td style='background-color:green; text-align:center; color: white;'><!--Level 3<!--hr size='5' style='border-color:orange; background-color:orange;'--></td>\n",
    "    <td style='background-color:blue; text-align:center; color: white;'><!--Level 4<!--hr size='5' style='border-color:orange; background-color:orange;'--></td>\n",
    "    <td style='background-color:purple; text-align:center; color: white;'><!--Level 5<!--hr size='5' style='border-color:orange; background-color:orange;'--></td>\n",
    "    <td style='background-color:brown; text-align:center; color: white;'><!--Level 6<!--hr size='5' style='border-color:orange; background-color:orange;'--></td>\n",
    "    <td style='background-color:black; text-align:center; color: white;'><!--Level 7<!--hr size='5' style='border-color:orange; background-color:orange;'--></td>\n",
    "</tr></table>"
   ]
  }
 ],
 "metadata": {
  "kernelspec": {
   "display_name": "R",
   "language": "R",
   "name": "ir"
  },
  "language_info": {
   "codemirror_mode": "r",
   "file_extension": ".r",
   "mimetype": "text/x-r-source",
   "name": "R",
   "pygments_lexer": "r",
   "version": "4.0.2"
  }
 },
 "nbformat": 4,
 "nbformat_minor": 4
}
