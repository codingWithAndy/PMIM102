{
 "cells": [
  {
   "cell_type": "markdown",
   "metadata": {},
   "source": [
    "<table width='100%'><tr>\n",
    "    <td style='background-color:red; text-align:center; color: white;'><!--Foundation<!--hr size='5' style='border-color:red; background-color:red;'--></td>\n",
    "    <td style='background-color:yellow; text-align:center;'><!--Level 1<!--hr size='5' style='border-color:yellow; background-color:yellow;'--></td>\n",
    "    <td style='background-color:orange; text-align:center;'><!--Level 2<!--hr size='5' style='border-color:orange; background-color:orange;'--></td>\n",
    "    <td style='background-color:green; text-align:center; color: white;'><!--Level 3<!--hr size='5' style='border-color:orange; background-color:orange;'--></td>\n",
    "    <td style='background-color:blue; text-align:center; color: white;'><!--Level 4<!--hr size='5' style='border-color:orange; background-color:orange;'--></td>\n",
    "    <td style='background-color:purple; text-align:center; color: white;'><!--Level 5<!--hr size='5' style='border-color:orange; background-color:orange;'--></td>\n",
    "    <td style='background-color:brown; text-align:center; color: white;'><!--Level 6<!--hr size='5' style='border-color:orange; background-color:orange;'--></td>\n",
    "    <td style='background-color:black; text-align:center; color: white;'><!--Level 7<!--hr size='5' style='border-color:orange; background-color:orange;'--></td>\n",
    "</tr></table>"
   ]
  },
  {
   "cell_type": "markdown",
   "metadata": {},
   "source": [
    "<table style='border-left:10px solid orange;'><tr>\n",
    "    <td style='padding-left:20px;'>\n",
    "        <h2><i>Swansea University Medical School</i><br/><b>MSc Health Data Science</b></h2>\n",
    "        <h3>PMIM-102 Introduction to Scientific Computing in Healthcare</h3>\n",
    "        <h1><b>Introduction to Programming in R</b></h1>\n",
    "        <h2><b>Exercises</b></h2>\n",
    "        <h2><i>Part 2: Practice using R, data and statistics.</i></h2>\n",
    "        <h3><i>October 2020</i></h3>\n",
    "        <h3><b>To-do</b></h3>\n",
    "        <ul><li>Nothing.</li>\n",
    "            </ul>\n",
    "    </td>\n",
    "    <td><img height='300' width='500' src='images/cover.jpg'/></td>\n",
    "</tr></table>"
   ]
  },
  {
   "cell_type": "markdown",
   "metadata": {},
   "source": [
    "## __Aim__: Practice using R and associated statistical libraries.\n",
    "\n",
    "The aim of this session is to extend the work in Part 1 to include data frames, basic statistical ideas and to try a few of the techniques on some very controlled datasets It will be further extended in Part 2 by application to a realistic synthetic dataset.\n",
    "\n",
    "### __A map of where we're going__\n",
    "\n",
    "1. __Build a BMI Program__ - Create an algorithm, create a function, create some data, test the function, use the function.\n",
    "1. __Extend to waistline data__ - review the paper(s) which suggest other data may be necessary or more appropriate and work out how to create a test dataset to examine this.\n"
   ]
  },
  {
   "cell_type": "markdown",
   "metadata": {},
   "source": [
    "## __Load the Tidyverse__\n",
    "\n",
    "The first thing to do is make sure the library is loaded. If you have not already installed it, do so not using the <code>install.packages()</code> function."
   ]
  },
  {
   "cell_type": "code",
   "execution_count": 238,
   "metadata": {},
   "outputs": [],
   "source": [
    "## install.packages('tidyverse')\n",
    "# library(tidyverse)"
   ]
  },
  {
   "cell_type": "markdown",
   "metadata": {},
   "source": [
    "## __1. BMI Statistics__\n",
    "\n",
    "### __The Problem in Context__\n",
    "\n",
    "There are many diseases related to weight and it has become normal practice to provide categories to help diagnosis and treat these conditions. One of these is body mass index which also happens to be very straightforward to implement. There are a number of papers included with this notebook which describe BMI, its use and limitations (difference in outcomes where weight is due to muscle not fat) and whether any of the alternatives such as waist circumference provide a better indicator.\n",
    "\n",
    "In the absence of real data (we'll explore something more real in the next session), we'll build some fairly clean datasets which will give you a feel for what nice data might look like. You can experiment throughout to see what happens if you make this experimental data less tidy.\n",
    "\n",
    "There are some papers in the Notebook folder. Look at the review paper for a discussion of BMI and the exploration paper for a nice BMI related data science study. The meta-analysis is an example of gathering data from many studies to increase the statistical power of your conclusions and there are several papers which look at the relationship between BMI and diabetes, CVD and bone fracture.\n",
    "\n",
    "FQ Nuttall, (2015) Nutrition Today, 50, 3, _Body Mass Index: Obesity, BMI, and Health: A Critical Review._\n",
    "\n",
    "MEJ Lean, C Katsarou, P McLoone and DS Morrison, (2013) International Journal of Obesity, 37, 800–808, _Changes in BMI and waist circumference in Scottish adults: use of repeated cross-sectional surveys to explore multiple age groups and birth-cohorts._\n",
    "\n",
    "### __Working Environment__\n",
    "\n",
    "Create a project and enable git. Create directories and a working R-script file. You may have a directory/file R/BMI.R where you will put the code for the BMI and related functions and another working_bmi.R either in the root directory of your project or as R/working_bmi.R."
   ]
  },
  {
   "cell_type": "markdown",
   "metadata": {},
   "source": [
    "### __Create an Algorithm__\n",
    "\n",
    "The first step is to review the papers and decide on the BMI algorithm. You should also consider what you expect to be reasonable input and output values and whether you need to block them or warn the user.\n",
    "\n",
    "\\begin{equation*} BMI = \\frac {weight}{height ^ 2} \\; kg/m^2 \\end{equation*}\n",
    "\n",
    "Weight is often provided in kg but height is usually measured in cm, you'll need to account for this."
   ]
  },
  {
   "cell_type": "code",
   "execution_count": 239,
   "metadata": {},
   "outputs": [],
   "source": [
    "# bmi <- weight_kg / ((height_cm / 100) ^ 2)\n",
    "# Try it out:\n",
    "#weight_kg <- 70\n",
    "#height_cm <- 170\n",
    "#weight_kg / ((height_cm / 100) ^ 2)"
   ]
  },
  {
   "cell_type": "markdown",
   "metadata": {},
   "source": [
    "### __Create a Function__\n",
    "\n",
    "The next step is to create a function to implement this algorithm. Pay attention to code documentation, parameter names and requirements for checking the inputs and the results.\n",
    "\n",
    "#### _Function 1.1: Calculate BMI. Decide on parameter checking. Decide on result checking._\n",
    "\n",
    "Create a basic function."
   ]
  },
  {
   "cell_type": "code",
   "execution_count": 240,
   "metadata": {},
   "outputs": [],
   "source": [
    "## bmi - calculate the body mass index from weight and height.\n",
    "## @param w_kg numeric The person's weight in kg.\n",
    "## @param h_cm numeric The person's height in cm.\n",
    "## @return     numeric The person's BMI.\n",
    "#bmi <- function(w_kg, h_cm) {\n",
    "#    b <- w_kg / ((h_cm / 100)^2)\n",
    "#    return (b)\n",
    "#}\n",
    "#bmi(weight_kg, height_cm)"
   ]
  },
  {
   "cell_type": "markdown",
   "metadata": {},
   "source": [
    "Now we can add some sanity checks so that we register any obvious problems.\n",
    "\n",
    "#### __Discussion:__ What are the parameters for height and weight?\n",
    "\n",
    "BMI: usually in the range 15-40 kg/m<sup>2</sup>.\n",
    "\n",
    "Weight: 84kg (men), 70kg (women) (Welsh Health Survey). Absolute: 2 - 650kg.\n",
    "\n",
    "Height: 177cm (men), 162cm (women). Absolute: 50 - 280cm.\n",
    "\n",
    "We need to decide how we deal with a faulty situation. The function may used directly by the user in which case we can display an error message. However, it may often be used within a programme and an error message may not be very useful - and what do we set the return value to?\n",
    "\n",
    "Here I have an top-level error variable. We could look at using a log file and a logging library."
   ]
  },
  {
   "cell_type": "code",
   "execution_count": 241,
   "metadata": {},
   "outputs": [],
   "source": [
    "## bmi - Calculate body-mass index\n",
    "## @param w_kg double Weight in kilograms\n",
    "## @param h_cm double Height in centimetres\n",
    "## @return     double BMI\n",
    "#bmi <- function(w_kg, h_cm) {\n",
    "#    error <<- NA\n",
    "#    if ((w_kg < 2) || (w_kg > 650) || (h_cm < 50) || (h_cm > 280)) {\n",
    "#        error <<- \"bmi: inputs out of reasonable range.\"\n",
    "#        b <- NA\n",
    "#    } else {\n",
    "#        b <- w_kg / ((h_cm / 100)^2)\n",
    "#        if ((b < 15) || (b > 40)) {\n",
    "#            error <<- \"bmi: output out of expected range.\"\n",
    "#            b <- NA\n",
    "#        }\n",
    "#    }\n",
    "#    if (!is.na(error) && show_errors) print(error)\n",
    "#    return (b)\n",
    "#}\n",
    "#show_errors <- FALSE\n",
    "#bmi(650, 100)\n",
    "#error"
   ]
  },
  {
   "cell_type": "markdown",
   "metadata": {},
   "source": [
    "### __Test the Function__\n",
    "\n",
    "In the same way, we did above, you should create test functions and a 'master' test function to run them. \n",
    "\n",
    "#### _Function 1.2: Pass in some bad parameters or missing parameters and return TRUE or FALSE if the response is correct._\n",
    "\n",
    "_Exercise:_ Complete a test function to test the input parameters and another to check the output is as specified.\n",
    "\n",
    "#### _Function 1.3: Create a single test function that will run all the tests and display the results._\n",
    "\n",
    "_Exercise:_ Run these tests from a master test function and check that they work.\n",
    "\n",
    "### __Testing with a test dataset__\n",
    "\n",
    "Load the starwars dataset. Add a new column for the calculated BMI. Any surprises?"
   ]
  },
  {
   "cell_type": "code",
   "execution_count": 242,
   "metadata": {},
   "outputs": [],
   "source": [
    "##rm(starwars)\n",
    "#head(starwars)\n",
    "#starwars <- starwars %>% mutate(BMI=bmi(mass, height))\n",
    "#head(starwars %>% select(name, height, mass, BMI))"
   ]
  },
  {
   "cell_type": "markdown",
   "metadata": {},
   "source": [
    "### __Create a Test Dataset__\n",
    "\n",
    "To get used to the statistical functions in R, we will generate some Normally distributed data so we can explore how to analyse it. If we are going to create a random dataset, we will need to know the population mean and standard deviation for our variables. Should we create separate distributions for men and women?\n",
    "\n",
    "We will create a basic platform data frame and then add analytical data to right hand columns. The platform file will likely end up taking the form: identification data; data from the database; analytical data.\n",
    "\n",
    "The data from the database is likely to represent a concept - a diagnosis; was there a MI event etc. This may be one or maybe more codes. We will often look for the first such event and last such event for the patient in the study period (we will do more on this in the next session).\n",
    "\n",
    "If we are looking at recurring events, we will often create a separate table for these as there will be a variable number for each patient which will make table management awkward. When we have analysed these results, we will combine the outcome(s) - one or more, but a specific number of variables (and usually the data associated with that), with the platform data."
   ]
  },
  {
   "cell_type": "code",
   "execution_count": 243,
   "metadata": {},
   "outputs": [],
   "source": [
    "#N <- 1000\n",
    "#start_date <- \"1989/01/01\"\n",
    "#end_date <- \"2018/12/31\"\n",
    "#mean_female_weight <- 69\n",
    "#sd_female_weight <- 10\n",
    "#mean_female_height <- 162\n",
    "#sd_female_height <- 6\n",
    "#mean_male_weight <- 84\n",
    "#sd_male_weight <- 12\n",
    "#mean_male_height <- 177\n",
    "#sd_male_height <- 6\n",
    "\n",
    "#bmi_data_female <- data.frame(person_id=integer(N),\n",
    "#                              gender=character(N), \n",
    "#                              weight_kg=numeric(N), \n",
    "#                              height_cm=numeric(N))\n",
    "#bmi_data_female$gender <- 'Female'\n",
    "#bmi_data_female$weight_kg <- rnorm(N, mean=mean_female_weight, sd=sd_female_weight)\n",
    "#bmi_data_female$height_cm <- rnorm(N, mean=mean_female_height, sd=sd_female_height)\n",
    "#bmi_data_male <- data.frame(person_id=integer(N),\n",
    "#                            gender=character(N), \n",
    "#                            weight_kg=numeric(N), \n",
    "#                            height_cm=numeric(N))\n",
    "#bmi_data_male$gender <- 'Male'\n",
    "#bmi_data_male$weight_kg <- rnorm(N, mean=mean_male_weight, sd=sd_male_weight)\n",
    "#bmi_data_male$height_cm <- rnorm(N, mean=mean_male_height, sd=sd_male_height)\n",
    "#bmi_data <- rbind(bmi_data_female, bmi_data_male)\n",
    "\n",
    "#id_start <- as.integer(N*runif(1)*10)\n",
    "#bmi_data <- bmi_data[sample(1:nrow(bmi_data)), ]\n",
    "#bmi_data$person_id <- seq(id_start, id_start+N-1, 1)\n",
    "#bmi_data$date <- sample(seq(as.Date(start_date), as.Date(end_date), by=\"day\"),\n",
    "#                        length(bmi_data$height))\n",
    "## bmi_data$entry_date <- bmi_data$date - sample(seq(0, 365), length(bmi_data$date), replace=TRUE)\n",
    "#bmi_data$entry_date <- bmi_data$date - rexp(length(bmi_data$date), rate=1/365)\n",
    "#bmi_data <- bmi_data[, c(1, 5, 6, 2, 3, 4)]\n",
    "#bmi_data$BMI <- mapply(bmi, bmi_data$weight_kg, bmi_data$height_cm)\n",
    "#head(bmi_data)"
   ]
  },
  {
   "cell_type": "markdown",
   "metadata": {},
   "source": [
    "#### _Extra exercise:_ if you have time, you could see if there is any data relating weight/height/BMI to another factor such as Index of Multiple Deprivation and consider how you might build some test data that reflects this.\n",
    "\n",
    "### __Check your dataset looks OK__\n",
    "\n",
    "Run some tests and plots to see if the datasets look acceptable. You should plot the data as a scatterplot and as a histogram and as overlaid histograms. You can plot a Q-Q curve. We can run Kolmogorov-Smirnov tests to check for normality."
   ]
  },
  {
   "cell_type": "code",
   "execution_count": 244,
   "metadata": {},
   "outputs": [],
   "source": [
    "#with(bmi_data %>% filter(gender=='Female'), plot(weight_kg, height_cm))\n",
    "#with(bmi_data %>% filter(gender=='Male'), plot(weight_kg, height_cm))\n",
    "#with(bmi_data, plot(weight_kg, height_cm))"
   ]
  },
  {
   "cell_type": "markdown",
   "metadata": {},
   "source": [
    "Histograms are useful to give us a sense of Normality, skew, kurtosis, modes etc."
   ]
  },
  {
   "cell_type": "code",
   "execution_count": 245,
   "metadata": {},
   "outputs": [],
   "source": [
    "#head(bmi_data[which(bmi_data$gender=='Female'),])\n",
    "#hist(bmi_data$weight_kg)\n",
    "#hist(bmi_data[which(bmi_data$gender=='Female'),]$weight_kg, col=rgb(1, 0, 0, 0.5), breaks=20)\n",
    "#hist(bmi_data[which(bmi_data$gender=='Male'),]$weight_kg, col=rgb(0, 0, 1, 0.5), breaks=20, add=TRUE)\n",
    "#hist(bmi_data$height_cm)\n",
    "#hist(bmi_data[which(bmi_data$gender=='Female'),]$height_cm, col=rgb(1, 0, 0, 0.5), breaks=20)\n",
    "#hist(bmi_data[which(bmi_data$gender=='Male'),]$height_cm, col=rgb(0, 0, 1, 0.5), breaks=20, add=TRUE)"
   ]
  },
  {
   "cell_type": "markdown",
   "metadata": {},
   "source": [
    "And Q-Q plots also suggest proximity or not to Normality and how the data deviates from the 'ideal'."
   ]
  },
  {
   "cell_type": "code",
   "execution_count": 246,
   "metadata": {},
   "outputs": [],
   "source": [
    "#qqnorm(bmi_data$weight_kg, main='Weight (m+f)')\n",
    "#qqline(bmi_data$weight_kg, col='red')\n",
    "#qqnorm(bmi_data$height_cm, main='Height (m+f)')\n",
    "#qqline(bmi_data$height_cm, col='red')\n",
    "#qqnorm(bmi_data[which(bmi_data$gender=='Female'),]$height_cm, col='red')\n",
    "#qqline(bmi_data$height_cm, col='black')\n",
    "#qqline(bmi_data[which(bmi_data$gender=='Female'),]$height_cm, col='black')\n",
    "#qqnorm(bmi_data[which(bmi_data$gender=='Male'),]$height_cm, col='blue')\n",
    "#qqline(bmi_data$height_cm, col='black')\n",
    "#qqline(bmi_data[which(bmi_data$gender=='Male'),]$height_cm, col='black')"
   ]
  },
  {
   "cell_type": "markdown",
   "metadata": {},
   "source": [
    "Do the means for weights and heights match across gender?"
   ]
  },
  {
   "cell_type": "code",
   "execution_count": 248,
   "metadata": {},
   "outputs": [],
   "source": [
    "#t.test(bmi_data[which(bmi_data$gender=='Female'),]$height_cm, bmi_data[which(bmi_data$gender=='Male'),]$height_cm)\n",
    "#t.test(bmi_data[which(bmi_data$gender=='Female'),]$weight_kg, bmi_data[which(bmi_data$gender=='Male'),]$weight_kg)"
   ]
  },
  {
   "cell_type": "markdown",
   "metadata": {},
   "source": [
    "Are the distributions Normal or not?"
   ]
  },
  {
   "cell_type": "code",
   "execution_count": 249,
   "metadata": {},
   "outputs": [],
   "source": [
    "#ks.test(bmi_data[which(bmi_data$gender=='Female'),]$height_cm, \"pnorm\", mean=mean(bmi_data[which(bmi_data$gender=='Female'),]$height_cm),\n",
    "#        sd=sd(bmi_data[which(bmi_data$gender=='Female'),]$height_cm))\n",
    "#ks.test(bmi_data[which(bmi_data$gender=='Male'),]$height_cm, \"pnorm\", mean=mean(bmi_data[which(bmi_data$gender=='Male'),]$height_cm),\n",
    "#        sd=sd(bmi_data[which(bmi_data$gender=='Male'),]$height_cm))\n",
    "#ks.test(bmi_data$height_cm, \"pnorm\", mean=mean(bmi_data$height_cm), sd=sd(bmi_data$height_cm))"
   ]
  },
  {
   "cell_type": "markdown",
   "metadata": {},
   "source": [
    "Do we get different results with a non-parametric test?"
   ]
  },
  {
   "cell_type": "code",
   "execution_count": 251,
   "metadata": {},
   "outputs": [],
   "source": [
    "#head(bmi_data)\n",
    "#wilcox.test(bmi_data$weight_kg, bmi_data$weight_kg + sd(bmi_data$weight_kg)/16)\n",
    "#kruskal.test(BMI ~ BMI_Group, data=bmi_data)\n",
    "#wilcox.test(BMI ~ gender, data=bmi_data)"
   ]
  },
  {
   "cell_type": "markdown",
   "metadata": {},
   "source": [
    "Are weight and height correlated?"
   ]
  },
  {
   "cell_type": "code",
   "execution_count": 255,
   "metadata": {},
   "outputs": [],
   "source": [
    "#cor.test(bmi_data$weight_kg, bmi_data$height_cm)\n",
    "#cor(bmi_data$weight_kg, bmi_data$height_cm)"
   ]
  },
  {
   "cell_type": "markdown",
   "metadata": {},
   "source": [
    "### __Run the function on the dataset__\n",
    "\n",
    "Create a new column in the patient dataset with the calculated BMI. Check the data you have created. Are there missing values? What does the histogram and Q-Q plot look like?"
   ]
  },
  {
   "cell_type": "code",
   "execution_count": 256,
   "metadata": {},
   "outputs": [],
   "source": [
    "#bmi_data$BMI <- mapply(bmi, bmi_data$weight_kg, bmi_data$height_cm)\n",
    "#bmi_data2 <- bmi_data %>% mutate(BMI=bmi(weight_kg, height_cm)) %>% arrange(desc(BMI))\n",
    "#head(bmi_data)\n",
    "#head(bmi_data2)"
   ]
  },
  {
   "cell_type": "markdown",
   "metadata": {},
   "source": [
    "For the new BMI data, what do the histogram and Q-Q plots look like?"
   ]
  },
  {
   "cell_type": "code",
   "execution_count": 257,
   "metadata": {},
   "outputs": [],
   "source": [
    "#head(bmi_data %>% arrange(desc(BMI)))\n",
    "#cat('There are', (bmi_data %>% filter(is.na(BMI)) %>% count())[[1]], 'NAs is the BMI column.\\n', sep=' ')\n",
    "#hist(bmi_data$BMI)\n",
    "#qqnorm(bmi_data$BMI)\n",
    "#qqline(bmi_data$BMI, col='red')\n",
    "#head(bmi_data$BMI)\n",
    "#mean(bmi_data$BMI)\n",
    "#sd(bmi_data$BMI)\n",
    "#ks.test(bmi_data$BMI, \"pnorm\", mean=mean(bmi_data$BMI, na.rm=TRUE), sd=sd(bmi_data$BMI, na.rm=TRUE))"
   ]
  },
  {
   "cell_type": "markdown",
   "metadata": {},
   "source": [
    "### __Categorisation Function (start to think like R in vectors not loops)__\n",
    "\n",
    "Now we would like to categorise the BMI data into the conventional categories. So you will need an algorithm and then a function to create a new variable which will be an R factor. We will do this in two ways - the first which demonstrates a more general programming approach and the second which is an R-based simplification.\n",
    "\n",
    "#### _Take in the BMI and create a factor output using if/ifelse._"
   ]
  },
  {
   "cell_type": "code",
   "execution_count": 258,
   "metadata": {},
   "outputs": [],
   "source": [
    "#bmi_data <- bmi_data %>% mutate(BMI_cat=ifelse(BMI>40, 'very obese',\n",
    "#                                              ifelse(BMI>30, 'obese',\n",
    "#                                                    ifelse(BMI>25, 'overweight',\n",
    "#                                                          ifelse(BMI>18.5, 'healthy', 'underweight')))))\n",
    "#head(bmi_data)"
   ]
  },
  {
   "cell_type": "markdown",
   "metadata": {},
   "source": [
    "But the values we have in the category column are still character strings and we would like them to be factors. We can change this by using as.factor() when we create the column."
   ]
  },
  {
   "cell_type": "code",
   "execution_count": 259,
   "metadata": {},
   "outputs": [],
   "source": [
    "#bmi_data <- bmi_data %>% mutate(BMI_Group=as.factor(ifelse(BMI>40, 'very obese',\n",
    "#                                              ifelse(BMI>30, 'obese',\n",
    "#                                                    ifelse(BMI>25, 'overweight',\n",
    "#                                                          ifelse(BMI>18.5, 'healthy', 'underweight'))))))\n",
    "#head(bmi_data)\n",
    "#levels(bmi_data$BMI_Group)\n",
    "#boxplot(bmi_data$BMI ~ bmi_data$BMI_Group)"
   ]
  },
  {
   "cell_type": "markdown",
   "metadata": {},
   "source": [
    "The factors are not in the correct order, so we need to change them (and the data they represent) - if we just rename them, for example to start with 'underweight' we'll just rename the healthy label as 'underweight' and all our data healty patients will have lost weight.\n",
    "\n",
    "What we need is a forcats function, `fct_relevel()`."
   ]
  },
  {
   "cell_type": "code",
   "execution_count": 260,
   "metadata": {},
   "outputs": [],
   "source": [
    "#bmi_data$BMI_Group <- fct_relevel(bmi_data$BMI_Group, c('obese', 'overweight', 'healthy', 'underweight'))\n",
    "#head(bmi_data)\n",
    "#levels(bmi_data$BMI_Group)\n",
    "#with(bmi_data, boxplot(BMI ~ BMI_Group))"
   ]
  },
  {
   "cell_type": "markdown",
   "metadata": {},
   "source": [
    "#### _Do the same using cut()._\n",
    "\n",
    "R has a very useful function which will do the same thing without all the slightly difficult to read ifelse()'s."
   ]
  },
  {
   "cell_type": "code",
   "execution_count": 261,
   "metadata": {},
   "outputs": [],
   "source": [
    "#bmi_data$BMI_Group2 <- cut(bmi_data$BMI, c(0, 18.5, 25, 30, 40, Inf), right=FALSE, \n",
    "#                          labels=c(\"Underweight\", \"Healthy\", \"Overweight\", \"Obese\", \"Very Obese\"))\n",
    "#head(bmi_data)"
   ]
  },
  {
   "cell_type": "markdown",
   "metadata": {},
   "source": [
    "### __Contingency Table__"
   ]
  },
  {
   "cell_type": "code",
   "execution_count": 262,
   "metadata": {},
   "outputs": [],
   "source": [
    "#table(bmi_data$gender, bmi_data$BMI_Group)\n",
    "#\n",
    "#chisq.test(bmi_data$gender, bmi_data$BMI_Group)"
   ]
  },
  {
   "cell_type": "markdown",
   "metadata": {},
   "source": [
    "#### _Exercise:_ Is there a inherent gender bias in the starwars characters?\n",
    "Create a BMI and BMI_Group variable for the starwars data and then create a contingency table with gender and BMI category. Does the chi-squared test suggest that the Star Wars universe has a particular kind of gender types.\n",
    "\n",
    "Also look at the species and consider the possibility of the Fisher exact test where frequencies are very low."
   ]
  },
  {
   "cell_type": "code",
   "execution_count": 263,
   "metadata": {},
   "outputs": [],
   "source": [
    "#bmi <- function(w_kg, h_cm) {\n",
    "#    b <- w_kg / ((h_cm / 100)^2)\n",
    "#    return (b)\n",
    "#}\n",
    "#starwars <- starwars %>% mutate(BMI=bmi(mass, height))\n",
    "#starwars$BMI_Group <- cut(starwars$BMI, c(0, 18.5, 25, 30, 40, Inf), right=FALSE, \n",
    "#                          labels=c(\"Underweight\", \"Healthy\", \"Overweight\", \"Obese\", \"Very Obese\"))\n",
    "#head(starwars %>% select(name, height, mass, gender, BMI_Group))\n",
    "#table(starwars$gender, starwars$BMI_Group)\n",
    "#chisq.test(starwars$gender, starwars$BMI_Group)\n",
    "#table(starwars$species, starwars$BMI_Group)\n",
    "#chisq.test(starwars$species, starwars$BMI_Group)\n",
    "#fisher.test(starwars$species, starwars$BMI_Group, simulate.p.value=TRUE)\n",
    "#starwars %>% filter(gender=='feminine') %>% select(name, height, mass, gender, BMI_Group)"
   ]
  },
  {
   "cell_type": "markdown",
   "metadata": {},
   "source": [
    "## __Include Waist__\n",
    "\n",
    "### __Exercise: Include data for waist measurements. How would you do this?__"
   ]
  },
  {
   "cell_type": "markdown",
   "metadata": {},
   "source": [
    "<table style=\"text-align:center;\"><tr><td width=\"100\" height=\"20\" style=\"background-color:greenyellow\"></td><td width=\"100\" height=\"20\" style=\"background-color:hotpink\"></td></tr></table>"
   ]
  },
  {
   "cell_type": "markdown",
   "metadata": {},
   "source": [
    "<table width='100%'><tr>\n",
    "    <td style='background-color:red; text-align:center; color: white;'><!--Foundation<!--hr size='5' style='border-color:red; background-color:red;'--></td>\n",
    "    <td style='background-color:yellow; text-align:center;'><!--Level 1<!--hr size='5' style='border-color:yellow; background-color:yellow;'--></td>\n",
    "    <td style='background-color:orange; text-align:center;'><!--Level 2<!--hr size='5' style='border-color:orange; background-color:orange;'--></td>\n",
    "    <td style='background-color:green; text-align:center; color: white;'><!--Level 3<!--hr size='5' style='border-color:orange; background-color:orange;'--></td>\n",
    "    <td style='background-color:blue; text-align:center; color: white;'><!--Level 4<!--hr size='5' style='border-color:orange; background-color:orange;'--></td>\n",
    "    <td style='background-color:purple; text-align:center; color: white;'><!--Level 5<!--hr size='5' style='border-color:orange; background-color:orange;'--></td>\n",
    "    <td style='background-color:brown; text-align:center; color: white;'><!--Level 6<!--hr size='5' style='border-color:orange; background-color:orange;'--></td>\n",
    "    <td style='background-color:black; text-align:center; color: white;'><!--Level 7<!--hr size='5' style='border-color:orange; background-color:orange;'--></td>\n",
    "</tr></table>"
   ]
  }
 ],
 "metadata": {
  "kernelspec": {
   "display_name": "R",
   "language": "R",
   "name": "ir"
  },
  "language_info": {
   "codemirror_mode": "r",
   "file_extension": ".r",
   "mimetype": "text/x-r-source",
   "name": "R",
   "pygments_lexer": "r",
   "version": "4.0.2"
  }
 },
 "nbformat": 4,
 "nbformat_minor": 4
}
