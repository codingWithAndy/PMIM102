{
 "cells": [
  {
   "cell_type": "markdown",
   "metadata": {},
   "source": [
    "<table width='100%'><tr>\n",
    "    <td style='background-color:red; text-align:center; color: white;'><!--Foundation<!--hr size='5' style='border-color:red; background-color:red;'--></td>\n",
    "    <td style='background-color:yellow; text-align:center;'><!--Level 1<!--hr size='5' style='border-color:yellow; background-color:yellow;'--></td>\n",
    "    <td style='background-color:orange; text-align:center;'><!--Level 2<!--hr size='5' style='border-color:orange; background-color:orange;'--></td>\n",
    "    <td style='background-color:green; text-align:center; color: white;'><!--Level 3<!--hr size='5' style='border-color:orange; background-color:orange;'--></td>\n",
    "    <td style='background-color:blue; text-align:center; color: white;'><!--Level 4<!--hr size='5' style='border-color:orange; background-color:orange;'--></td>\n",
    "    <td style='background-color:purple; text-align:center; color: white;'><!--Level 5<!--hr size='5' style='border-color:orange; background-color:orange;'--></td>\n",
    "    <td style='background-color:brown; text-align:center; color: white;'><!--Level 6<!--hr size='5' style='border-color:orange; background-color:orange;'--></td>\n",
    "    <td style='background-color:black; text-align:center; color: white;'><!--Level 7<!--hr size='5' style='border-color:orange; background-color:orange;'--></td>\n",
    "</tr></table>"
   ]
  },
  {
   "cell_type": "markdown",
   "metadata": {},
   "source": [
    "<table style='border-left:10px solid orange;'><tr>\n",
    "    <td style='padding-left:20px;'>\n",
    "        <h2><i>Swansea University Medical School</i><br/><b>MSc Health Data Science</b></h2>\n",
    "        <h3>PMIM-102 Introduction to Scientific Computing in Healthcare</h3>\n",
    "        <h1><b>Introduction to Programming in R</b></h1>\n",
    "        <h2><b>3. The Tidyverse</b></h2>\n",
    "        <h2><i>Part 1: Overview and getting data in and out of R.</i></h2>\n",
    "        <h3><i>September 2020</i></h3>\n",
    "        <h3><b>To-do</b></h3>\n",
    "        <ul>\n",
    "            <li>Find a dataset that we can use for this session.</li>\n",
    "        </ul>\n",
    "    </td>\n",
    "    <td><img height='300' width='500' src='images/cover.jpg'/></td>\n",
    "</tr></table>"
   ]
  },
  {
   "cell_type": "markdown",
   "metadata": {},
   "source": [
    "## __Aim__: Use the tools available in R to manipulate tables of data.\n",
    "\n",
    "The aim of this session is to concentrate on the core activities in working with large datasets: moving, cleaning and transforming table data to facilitate analyses. Whilst this is possible using base-R, the facilities provided by the libraries in the __Tidyverse__ make it considerably __easier__ and the resulting code __more readable__.\n",
    "\n",
    "### __A map of where we're going__\n",
    "\n",
    "1. <div style=\"background-color:yellow;\"><b>Introduction</b> - What is the process, the problems with standard R and the structure of 'tidy' data.</div>\n",
    "\n",
    "1. <div style=\"background-color:yellow;\"><b>Acquiring data</b> - Getting data into R from files (<b>readr</b>).</div>\n",
    "\n",
    "1. <b>Tidying the data</b> - Handling missing data and reshaping the tables (<b>tidyr</b>).\n",
    "\n",
    "1. <b>Transforming the data</b> - Selecting and converting the data ready to analyse (<b>dplyr</b>).\n",
    "\n",
    "1. <b>Working with specific data types in tidyverse</b>: strings (<b>stringr</b>), dates (<b>lubridate</b>), factors (<b>forcats</b>).\n",
    "\n",
    "1. <b>Plotting &amp; Data visualisation</b> - beyond the simple R plot etc. (<b>ggplot2</b>).\n",
    "\n",
    "1. <b>Extras</b> - Things worth knowing of so that you can use them if you ever need them.\n",
    " * Applying functions and working with lists (purrr).\n",
    " * Tidy evaluation (rlang).\n",
    " * Communicating your results with a dynamic, R-based website (shiny)."
   ]
  },
  {
   "cell_type": "markdown",
   "metadata": {},
   "source": [
    "## __Load the Tidyverse__\n",
    "\n",
    "The first thing to do is make sure the library is loaded. If you have not already installed it, do so not using the <code>install.packages()</code> function."
   ]
  },
  {
   "cell_type": "code",
   "execution_count": 17,
   "metadata": {},
   "outputs": [],
   "source": [
    "## install.packages('tidyverse')\n",
    "#library(tidyverse)"
   ]
  },
  {
   "cell_type": "markdown",
   "metadata": {},
   "source": [
    "## __What is the process, the problems with standard R and the structure of 'tidy' data__\n",
    "\n",
    "When handling and analysing large numbers of records we need to let the computer do as much of the work as possibe. Despite the advances in AI, computers are still remarkably stupid or rather, they do like their rules. Which means they work best when the data you provide to them is well structured and clean. The concept of tidy data aims to provide that structure so that the engine in R can work efficiently at whatever analysis you wish to attempt.\n",
    "\n",
    "Tidy data is data in which:\n",
    "* Each variable has its own column\n",
    "* Each observation has its own row\n",
    "* Each value has its own cell\n",
    "\n",
    "Vectorised operations (i.e. doing the same thing to all the items in a column, 'apply' and so on - the things R does really well) on data should work on all the cases and produce new variables in new columns.\n",
    "\n",
    "To help keep things tidy, the tidyverse provides a slightly enhanced form of the data.frame known as a 'tibble'. Using this is a matter of taste. It's mostly convenience: it makes printing is little tidier - only the head by default and the data type is included for each column (you can change this with arguments if you wish) - for help see package?tibble. Tibbles do not make character data into factors unless explicitly asked to.\n",
    "\n",
    "You can copy a data.frame to a tibble with `as_tibble()` and back to a data.frame with `as.data.frame()`."
   ]
  },
  {
   "cell_type": "code",
   "execution_count": 18,
   "metadata": {},
   "outputs": [],
   "source": [
    "#library(tibble)\n",
    "#df <- data.frame(\n",
    "#    name=c('Olive', 'Pinochio', 'Queenie', 'Raphael'),\n",
    "#    gender=factor(c('female', 'male', 'female', 'male')), \n",
    "#    height=c(1.7, 1.01, 1.3, 1.6),\n",
    "#    weight=c(60, 30, 50, 40),\n",
    "#    stringsAsFactors=FALSE)\n",
    "#cat(\"The data in a data.frame:\\n\")\n",
    "#print(df)\n",
    "#tb <- as_tibble(df)\n",
    "#cat(\"\\nThe data in a tibble:\\n\")\n",
    "#print(tb)"
   ]
  },
  {
   "cell_type": "markdown",
   "metadata": {},
   "source": [
    "### __Quiz__: Which of the following tables is 'tidy'?\n",
    "\n",
    "__table1__\n",
    "\n",
    "| | \\`cause of death\\` | year | deaths | cases |\n",
    "|---|---|---|---|---|\n",
    "| | <chr> | <int> | <int> | <int> |      \n",
    "|1|Spontaneous Human Combustion |2017|   45|  45|\n",
    "|2|Spontaneous Human Combustion |2018|   53|  53|\n",
    "|3|Basilisk Sighting      |2017| 11| 112|\n",
    "|4|Basilisk Sighting      |2018| 8| 104|\n",
    "|5|Drained by Vampire       |2017|5192|11759|\n",
    "|6|Drained by Vampire       |2018|6944|13768|\n",
    "|... |\n",
    "\n",
    "__table2__\n",
    "\n",
    "| |\\`cause of death\\` | year | type | count |\n",
    "|---|---|---|---|---|\n",
    "| | <chr> | <int> | <chr> | <int> |      \n",
    "|1|Spontaneous Human Combustion|2017|deaths|45|\n",
    "|2|Spontaneous Human Combustion|2017|cases|45|\n",
    "|3|Spontaneous Human Combustion|2018|deaths|53|\n",
    "|4|Spontaneous Human Combustion|2018|cases|53|\n",
    "|5|Basilisk Sighting|2017|deaths|11|\n",
    "|6|Basilisk Sighting|2017|cases|112|\n",
    "|... |\n",
    "\n",
    "__table3__\n",
    "    \n",
    "| |\\`cause of death\\` | year | rate |\n",
    "|---|---|---|---|\n",
    "| | <chr> | <int> | <chr> |      \n",
    "|1|Spontaneous Human Combustion|2017|45/45|\n",
    "|2|Spontaneous Human Combustion|2018|53/53|\n",
    "|3|Basilisk Sighting|2017|11/112|\n",
    "|4|Basilisk Sighting|2018|8/104|\n",
    "|5|Drained by Vampire|2017|5192/11759|\n",
    "|6|Drained by Vampire|2018|6944/13768|\n",
    "\n",
    "__table4a/4b__\n",
    "\n",
    "| |\\`cause of death\\` | \\`2017\\` | \\`2018\\` |\n",
    "|---|---|---|---|\n",
    "| | <chr> | <int> | <int> |      \n",
    "|1|Spontaneous Human Combustion|45|53|\n",
    "|2|Basilisk Sighting|11|8|\n",
    "|3|Drained by Vampire|5192|6944|\n",
    "| ___deaths___ |\n",
    "    \n",
    "| |\\`cause of death\\` | \\`2017\\` | \\`2018\\` |\n",
    "|---|---|---|---|\n",
    "| | <chr> | <int> | <int> |      \n",
    "|1|Spontaneous Human Combustion|45|53|\n",
    "|2|Basilisk Sighting|112|104|\n",
    "|3|Drained by Vampire|11759|13768|\n",
    "| ___cases___ |\n",
    "    \n"
   ]
  },
  {
   "cell_type": "markdown",
   "metadata": {},
   "source": [
    "### The Process\n",
    "\n",
    "The process the Tidyverse designers have adopted for data science projects is shown below:"
   ]
  },
  {
   "cell_type": "markdown",
   "metadata": {},
   "source": [
    "<img src=\"images/tidyverse_process.png\"/>\n",
    "\n",
    "[From: R For Data Science, Hadley Wickham & Garrett Grolemund](https://r4ds.had.co.nz/)\n",
    "\n",
    "Which is how it generally works and we shall follow here.\n",
    "\n",
    "Basically, we need to import the data from whatever source we are getting it (SQL, a CSV or Excel file etc.), then tidy that dataset so that we can the run the cycle to explore the data by transforming, visualising and modelling the data and, once we have discovered the results, documenting them in appropriate, engaging and exciting ways.\n",
    "\n",
    "### __The Tidyverse__\n",
    "\n",
    "The tidyverse is a group of related libraries (readr, dplyr, forcats, purrr etc.) which implement elements of this process. It can be loaded using `library(tidyverse)` or individual libraries can be loaded when needed to save time and space."
   ]
  },
  {
   "cell_type": "markdown",
   "metadata": {},
   "source": [
    "## __Getting data into R (readr)__\n",
    "\n",
    "There are functions in base-R to read data from data files, but they are slow and have other minor irritations which have led the Tidyverse people to re-implement them. The base-R functions use a dot to separate the components of the function name, the Tidyverse uses an underscore (the base-R CSV read function is read.csv()). In practice, you may not really notice the difference but there may be times one provides you with useful facilities.\n",
    "\n",
    "[See the readr cheatsheet.](https://github.com/rstudio/cheatsheets/raw/master/data-import.pdf)\n",
    "\n",
    "We can read data tables from comma-separated variable (CSV) files (as well as tab-separated variables (read_tsv()), files with any delimiter (read_delim()) and others (see package?readr)). R will make a best-guess at the column types and provide a list which can be accessed via the `spec(table)` function. You can take this list, edit it and paste it into a new `read_csv()` call defining the column types as `col_types=cols( .... )`.\n",
    "\n",
    "To specify data which should be marked as `NA` use the argument `na=c(\"\", \"NA\", \"...\")`."
   ]
  },
  {
   "cell_type": "code",
   "execution_count": 19,
   "metadata": {},
   "outputs": [],
   "source": [
    "## library(readr)\n",
    "#pregnancy <- read_csv(file=\"data/pregnancy.csv\")\n",
    "#head(pregnancy)"
   ]
  },
  {
   "cell_type": "code",
   "execution_count": 21,
   "metadata": {},
   "outputs": [],
   "source": [
    "#pregnancy_spec <- spec(pregnancy)\n",
    "#pregnancy_spec"
   ]
  },
  {
   "cell_type": "code",
   "execution_count": 22,
   "metadata": {},
   "outputs": [],
   "source": [
    "#pregnancy_spec$cols$PARENT_ID<-col_integer()\n",
    "#pregnancy_spec$cols[['INFANT_ID']] <- col_integer()\n",
    "#pregnancy_spec"
   ]
  },
  {
   "cell_type": "code",
   "execution_count": null,
   "metadata": {},
   "outputs": [],
   "source": [
    "#pregnancy <- read_csv(file=\"data/pregnancy.csv\", na=c(\"\", \"NA\", \".\"),\n",
    "#                      col_types=pregnancy_spec)"
   ]
  },
  {
   "cell_type": "code",
   "execution_count": 8,
   "metadata": {},
   "outputs": [
    {
     "name": "stderr",
     "output_type": "stream",
     "text": [
      "Warning message:\n",
      "\"3 parsing failures.\n",
      "row col               expected actual                 file\n",
      "272 AGE no trailing characters    .5  'data/pregnancy.csv'\n",
      "590 AGE no trailing characters    .8  'data/pregnancy.csv'\n",
      "669 AGE no trailing characters    .25 'data/pregnancy.csv'\n",
      "\""
     ]
    }
   ],
   "source": [
    "pregnancy <- read_csv(file=\"data/pregnancy.csv\", na=c(\"\", \"NA\", \".\"),\n",
    "                      col_types=cols(\n",
    "  PARENT_ID = col_integer(),\n",
    "  INFANT_ID = col_double(),\n",
    "  DATE_OF_BIRTH = col_character(),\n",
    "  EDD = col_character(),\n",
    "  BIRTH_PLAN = col_character(),\n",
    "  LANGUAGE = col_character(),\n",
    "  OTHER_LANGUAGE = col_character(),\n",
    "  ETHNICITY = col_character(),\n",
    "  OTHER_ETHNICITY = col_character(),\n",
    "  RELATIONSHIP_STATUS = col_character(),\n",
    "  WEIGHT_PRE_PREGNANCY_IN_KG = col_character(),\n",
    "  EDUCATION = col_character(),\n",
    "  EMPLOYMENT = col_character(),\n",
    "  OTHER_EMPLOYMENT = col_character(),\n",
    "  OCCUPATION_CODE = col_character(),\n",
    "  PARTNER = col_character(),\n",
    "  LIVE_TOGETHER = col_character(),\n",
    "  PARTNER_EDUCATION = col_character(),\n",
    "  PARTNER_WORKING = col_character(),\n",
    "  PARTNER_OCCUPATION = col_character(),\n",
    "  SALARY = col_integer(),\n",
    "  ALLOWANCE = col_character(),\n",
    "  DOBCHILD1 = col_character(),\n",
    "  DOBCHILD2 = col_character(),\n",
    "  DOBCHILD3 = col_character(),\n",
    "  DOBCHILD4 = col_character(),\n",
    "  DOBCHILD5 = col_character(),\n",
    "  DOBCHILD6 = col_character(),\n",
    "  OTHER_ADULTS = col_character(),\n",
    "  ADULT1_RELATIONSHIP = col_character(),\n",
    "  ADULT1_AGE = col_character(),\n",
    "  ADULT2_RELATIONSHIP = col_character(),\n",
    "  ADULT2_AGE = col_character(),\n",
    "  ADULT3_RELATIONSHIP = col_character(),\n",
    "  ADULT3_AGE = col_character(),\n",
    "  ADULT4_RELATIONSHIP = col_character(),\n",
    "  ADULT4_AGE = col_character(),\n",
    "  HOUSE_TYPE = col_character(),\n",
    "  HOME_OWN = col_character(),\n",
    "  HEAT1 = col_character(),\n",
    "  HEAT2 = col_character(),\n",
    "  HEAT3 = col_character(),\n",
    "  HEAT4 = col_character(),\n",
    "  DOUBLE_GLAZED = col_character(),\n",
    "  LOFT = col_character(),\n",
    "  CAVITY = col_character(),\n",
    "  AGE = col_integer(),\n",
    "  MOULD_VISIBLE = col_character(),\n",
    "  MM_BATH = col_character(),\n",
    "  MM_BED = col_character(),\n",
    "  MM_LIV = col_character(),\n",
    "  MM_KITCH = col_character(),\n",
    "  MM_HALL = col_character(),\n",
    "  MM_FURNISH = col_character(),\n",
    "  NEIGHBOURS = col_character(),\n",
    "  SATISFIED_DISSATISFIED = col_character(),\n",
    "  COMMUNITY_HOME = col_character(),\n",
    "  HELP_NEED = col_character(),\n",
    "  SERVICES = col_character(),\n",
    "  SAFE = col_character(),\n",
    "  INVOLVED = col_character(),\n",
    "  SAD = col_character(),\n",
    "  NERVOUS = col_character(),\n",
    "  RESTLESS = col_character(),\n",
    "  HOPELESS = col_character(),\n",
    "  EFFORT = col_character(),\n",
    "  WORTHLESS = col_character(),\n",
    "  TOTAL_K6 = col_character(),\n",
    "  FOLIC_NOT_TAKEN = col_character(),\n",
    "  FOLIC_BEFORE = col_character(),\n",
    "  FOLIC_EARLY = col_character(),\n",
    "  FOLIC_MID_LATE = col_character(),\n",
    "  MULTI_NOT_TAKEN = col_character(),\n",
    "  MULTI_BEFORE = col_character(),\n",
    "  MULTI_EARLY = col_character(),\n",
    "  MULTI_MID_LATE = col_character(),\n",
    "  SUPP_NOT_TAKEN = col_character(),\n",
    "  SUPP_BEFORE = col_character(),\n",
    "  SUPP_EARLY = col_character(),\n",
    "  SUPP_MID_LATE = col_character(),\n",
    "  OTHER_BEFORE = col_character(),\n",
    "  OTHER_EARLY = col_character(),\n",
    "  OTHER_MID_LATE = col_character(),\n",
    "  SMOKE_ROOM = col_character(),\n",
    "  SMOKE = col_character(),\n",
    "  SMOKE_NUMBER = col_character(),\n",
    "  ALCOHOL = col_character(),\n",
    "  EARLY_PREG_ALCOHOL = col_character(),\n",
    "  MID_LATE_PREG_ALCOHOL = col_character(),\n",
    "  MEDICATION1 = col_character(),\n",
    "  MEDICATION2 = col_character(),\n",
    "  MEDICATION3 = col_character(),\n",
    "  MEDICATION4 = col_character(),\n",
    "  MEDICATION5 = col_character(),\n",
    "  MEDICATION6 = col_character()\n",
    "))"
   ]
  },
  {
   "cell_type": "markdown",
   "metadata": {},
   "source": [
    "If you have problems, use `problems(x)` to get a list:"
   ]
  },
  {
   "cell_type": "code",
   "execution_count": 23,
   "metadata": {},
   "outputs": [],
   "source": [
    "#head(problems(pregnancy))"
   ]
  },
  {
   "cell_type": "code",
   "execution_count": 24,
   "metadata": {},
   "outputs": [],
   "source": [
    "#head(pregnancy)"
   ]
  },
  {
   "cell_type": "markdown",
   "metadata": {},
   "source": [
    "## __Exercise__: Change a date column to format as a date and a categorical column to format as a factor."
   ]
  },
  {
   "cell_type": "code",
   "execution_count": 25,
   "metadata": {},
   "outputs": [],
   "source": [
    "# col_date('%d/%m/%Y'),\n",
    "# col_factor(),"
   ]
  },
  {
   "cell_type": "markdown",
   "metadata": {},
   "source": [
    "<table style=\"text-align:center;\"><tr><td width=\"100\" height=\"20\" style=\"background-color:greenyellow\"></td><td width=\"100\" height=\"20\" style=\"background-color:hotpink\"></td></tr></table>"
   ]
  },
  {
   "cell_type": "markdown",
   "metadata": {},
   "source": [
    "## __Writing data from R__\n",
    "There are several options here depending on what you want to save and how you intend to use the saved data. You can write data to a CSV file which most people and systems will be able to import or you can save R data structures which can be loaded, ready-to-use into R and, indeed, you can add multiple data structures to one file to make it really easy to reload your data afresh.\n",
    "\n",
    "### _Writing to a CSV file_\n",
    "To write data back out to a CSV file, use <code>write_csv()</code>."
   ]
  },
  {
   "cell_type": "code",
   "execution_count": 10,
   "metadata": {},
   "outputs": [],
   "source": [
    "#write_csv(x=pregnancy, path=\"processed_data/pregnancy.csv\")"
   ]
  },
  {
   "cell_type": "markdown",
   "metadata": {},
   "source": [
    "### _Saving R data as a .RData file_\n",
    "\n",
    "But better still when working in R, we can export the table as an R file - which is not a tidyverse thing, but worth covering while we're here."
   ]
  },
  {
   "cell_type": "markdown",
   "metadata": {},
   "source": [
    "Using <code>save()</code>, you will save the data structure name and reload it to the same name. An advantage of <code>save()</code> is the ability to save more than one object at a time."
   ]
  },
  {
   "cell_type": "code",
   "execution_count": 26,
   "metadata": {},
   "outputs": [],
   "source": [
    "#save(pregnancy, file=\"processed_data/pregnancy.RData\", ascii=TRUE)\n",
    "## Can save multiple objects\n",
    "#save(pregnancy, pregnancy_reload, file=\"processed_data/pregnancy.RData\")\n",
    "## To load the data again:\n",
    "#load(\"processed_data/pregnancy.RData\")\n",
    "#head(pregnancy)"
   ]
  },
  {
   "cell_type": "markdown",
   "metadata": {},
   "source": [
    "### _Saving R data as an anonymous data structure (.RDS file)_\n",
    "If you don't want to save the object name specifically (perhaps you want to share with others), use saveRDS/readRDS to save a data structure to an RDS file (binary or ASCII), ASCII may help comparison in version control."
   ]
  },
  {
   "cell_type": "code",
   "execution_count": 11,
   "metadata": {},
   "outputs": [],
   "source": [
    "#saveRDS(pregnancy, \"processed_data/pregnancy.rds\", ascii=TRUE)\n",
    "## To load the data again:\n",
    "#pregnancy_reload <- readRDS(\"processed_data/pregnancy.rds\")"
   ]
  },
  {
   "cell_type": "markdown",
   "metadata": {},
   "source": [
    "<table style=\"text-align:center;\"><tr><td width=\"100\" height=\"20\" style=\"background-color:greenyellow\"></td><td width=\"100\" height=\"20\" style=\"background-color:hotpink\"></td></tr></table>"
   ]
  },
  {
   "cell_type": "markdown",
   "metadata": {},
   "source": [
    "## __General purpose read (for non-tabular data)__\n",
    "In the event that you want to read data that may not be tabular or quite as well formatted, from an unstructured text file for example, we can use <code>read_lines()</code> to read files line by line."
   ]
  },
  {
   "cell_type": "code",
   "execution_count": 27,
   "metadata": {},
   "outputs": [],
   "source": [
    "#read_lines(file=\"data/pregnancy.csv\", n_max=10)"
   ]
  },
  {
   "cell_type": "markdown",
   "metadata": {},
   "source": [
    "<table width='100%'><tr>\n",
    "    <td style='background-color:red; text-align:center; color: white;'><!--Foundation<!--hr size='5' style='border-color:red; background-color:red;'--></td>\n",
    "    <td style='background-color:yellow; text-align:center;'><!--Level 1<!--hr size='5' style='border-color:yellow; background-color:yellow;'--></td>\n",
    "    <td style='background-color:orange; text-align:center;'><!--Level 2<!--hr size='5' style='border-color:orange; background-color:orange;'--></td>\n",
    "    <td style='background-color:green; text-align:center; color: white;'><!--Level 3<!--hr size='5' style='border-color:orange; background-color:orange;'--></td>\n",
    "    <td style='background-color:blue; text-align:center; color: white;'><!--Level 4<!--hr size='5' style='border-color:orange; background-color:orange;'--></td>\n",
    "    <td style='background-color:purple; text-align:center; color: white;'><!--Level 5<!--hr size='5' style='border-color:orange; background-color:orange;'--></td>\n",
    "    <td style='background-color:brown; text-align:center; color: white;'><!--Level 6<!--hr size='5' style='border-color:orange; background-color:orange;'--></td>\n",
    "    <td style='background-color:black; text-align:center; color: white;'><!--Level 7<!--hr size='5' style='border-color:orange; background-color:orange;'--></td>\n",
    "</tr></table>"
   ]
  }
 ],
 "metadata": {
  "kernelspec": {
   "display_name": "R",
   "language": "R",
   "name": "ir"
  },
  "language_info": {
   "codemirror_mode": "r",
   "file_extension": ".r",
   "mimetype": "text/x-r-source",
   "name": "R",
   "pygments_lexer": "r",
   "version": "4.0.2"
  }
 },
 "nbformat": 4,
 "nbformat_minor": 4
}
