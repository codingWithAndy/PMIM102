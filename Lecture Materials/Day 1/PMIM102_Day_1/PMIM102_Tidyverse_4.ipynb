{
 "cells": [
  {
   "cell_type": "markdown",
   "metadata": {},
   "source": [
    "<table width='100%'><tr>\n",
    "    <td style='background-color:red; text-align:center; color: white;'><!--Foundation<!--hr size='5' style='border-color:red; background-color:red;'--></td>\n",
    "    <td style='background-color:yellow; text-align:center;'><!--Level 1<!--hr size='5' style='border-color:yellow; background-color:yellow;'--></td>\n",
    "    <td style='background-color:orange; text-align:center;'><!--Level 2<!--hr size='5' style='border-color:orange; background-color:orange;'--></td>\n",
    "    <td style='background-color:green; text-align:center; color: white;'><!--Level 3<!--hr size='5' style='border-color:orange; background-color:orange;'--></td>\n",
    "    <td style='background-color:blue; text-align:center; color: white;'><!--Level 4<!--hr size='5' style='border-color:orange; background-color:orange;'--></td>\n",
    "    <td style='background-color:purple; text-align:center; color: white;'><!--Level 5<!--hr size='5' style='border-color:orange; background-color:orange;'--></td>\n",
    "    <td style='background-color:brown; text-align:center; color: white;'><!--Level 6<!--hr size='5' style='border-color:orange; background-color:orange;'--></td>\n",
    "    <td style='background-color:black; text-align:center; color: white;'><!--Level 7<!--hr size='5' style='border-color:orange; background-color:orange;'--></td>\n",
    "</tr></table>"
   ]
  },
  {
   "cell_type": "markdown",
   "metadata": {},
   "source": [
    "<table style='border-left:10px solid orange;'><tr>\n",
    "    <td style='padding-left:20px;'>\n",
    "        <h2><i>Swansea University Medical School</i><br/><b>MSc Health Data Science</b></h2>\n",
    "        <h3>PMIM-102 Introduction to Scientific Computing in Healthcare</h3>\n",
    "        <h1><b>Introduction to Programming in R</b></h1>\n",
    "        <h2><b>3. The Tidyverse</b></h2>\n",
    "        <h2><i>Part 4: Data types in the tidyverse.</i></h2>\n",
    "        <h3><i>September 2020</i></h3>\n",
    "        <h3><b>To-do</b></h3>\n",
    "        <ul><li>Nothing.</li></ul>\n",
    "    </td>\n",
    "    <td><img height='300' width='500' src='images/cover.jpg'/></td>\n",
    "</tr></table>"
   ]
  },
  {
   "cell_type": "markdown",
   "metadata": {},
   "source": [
    "## __Aim__: Use the tools available in R to manipulate tables of data.\n",
    "\n",
    "The aim of this session is to concentrate on the core activities in working with large datasets: moving, cleaning and transforming table data to facilitate analyses. Whilst this is possible using base-R, the facilities provided by the libraries in the __Tidyverse__ make it considerably __easier__ and the resulting code __more readable__.\n",
    "\n",
    "### __A map of where we're going__\n",
    "\n",
    "1. <b>Introduction</b> - What is the process, the problems with standard R and the structure of 'tidy' data.\n",
    "\n",
    "1. <b>Acquiring data</b> - Getting data into R from files (<b>readr</b>).\n",
    "\n",
    "1. <b>Tidying the data</b> - Handling missing data and reshaping the tables (<b>tidyr</b>).\n",
    "\n",
    "1. <b>Transforming the data</b> - Selecting and converting the data ready to analyse (<b>dplyr</b>).\n",
    "\n",
    "1. <div style=\"background-color:yellow;\"><b>Working with specific data types in tidyverse</b>: strings (<b>stringr</b>), dates (<b>lubridate</b>), factors (<b>forcats</b>).</div>\n",
    "\n",
    "1. <b>Plotting &amp; Data visualisation</b> - beyond the simple R plot etc. (<b>ggplot2</b>).\n",
    "\n",
    "1. <b>Extras</b> - Things worth knowing of so that you can use them if you ever need them.\n",
    " * Applying functions and working with lists (purrr).\n",
    " * Tidy evaluation (rlang).\n",
    " * Communicating your results with a dynamic, R-based website (shiny)."
   ]
  },
  {
   "cell_type": "markdown",
   "metadata": {},
   "source": [
    "## __Load the Tidyverse__\n",
    "\n",
    "The first thing to do is make sure the library is loaded. If you have not already installed it, do so not using the <code>install.packages()</code> function."
   ]
  },
  {
   "cell_type": "code",
   "execution_count": 2,
   "metadata": {},
   "outputs": [],
   "source": [
    "## install.packages('tidyverse')\n",
    "#library(tidyverse)"
   ]
  },
  {
   "cell_type": "markdown",
   "metadata": {},
   "source": [
    "## __Working with specific data types: strings (stringr), dates (lubridate), factors (forcats)__\n",
    "\n",
    "There are three different data types in R that often introduce additional problems or subtleties to the work: strings, dates and factors.\n",
    "\n",
    "### __Strings__\n",
    "\n",
    "Strings are sequences of characters: words, text etc. As such they are naturally used to convey meaning and naturally subject to spelling mistakes, odd use of capitalisation etc. and we frequently need to process text to make sure all variations of any text are caught (which is one of the strengths of regular expressions). Often it is simply a case of making sure we catch the outliers, for example, with the gleason codes used in prostate cancer, we expect:\n",
    "\n",
    "`GLEASON 3+4=7`\n",
    "\n",
    "but we might get:\n",
    "\n",
    "`3+4=7`, `3+4`, `-+-=7`, `7`, `GLEASON 4+3=8`\n",
    "\n",
    "and we have to spot these and do something defined in all cases.\n",
    "\n",
    "[See the stringr cheatsheet.](https://github.com/rstudio/cheatsheets/blob/master/strings.pdf)\n",
    "\n",
    "Searching, creating or changing strings is simplified in R with the `stringr` library. There are functions to find, count or locate matches in strings, to select parts of strings and to measure or adjust the length of strings. We can also change parts of strings, join or split them and sort them. A full list of these functions is shown in the cheatsheet.\n",
    "\n",
    "The most useful functions are:\n",
    "* `str_length(x)` which returns the length of the string, x.\n",
    "* `str_sub(x, start, stop)` which returns the substring in x that starts at position start (left-most is 1) and ends at position stop. You can use negative numbers to count from the end of the string (right-most is -1)."
   ]
  },
  {
   "cell_type": "code",
   "execution_count": 3,
   "metadata": {},
   "outputs": [],
   "source": [
    "#str_sub('GLEASON 3+4=7', 1, 7)\n",
    "#str_sub('GLEASON 3+4=7', 9, -1)\n",
    "#str_sub('GLEASON 3+4=7', -5, -3)"
   ]
  },
  {
   "cell_type": "code",
   "execution_count": 4,
   "metadata": {},
   "outputs": [],
   "source": [
    "## library(stringr)\n",
    "#pregnancy <- read_csv(file=\"data/pregnancy.csv\")\n",
    "#head(pregnancy)\n",
    "\n",
    "#string_test <- pregnancy %>% select(PARENT_ID, DATE_OF_BIRTH, OTHER_LANGUAGE, OTHER_ETHNICITY) %>% filter(!is.na(OTHER_LANGUAGE)|!is.na(OTHER_ETHNICITY))\n",
    "#string_test %>% filter(str_detect(OTHER_LANGUAGE, str_sub('Polish', 2, str_length('Polish'))))"
   ]
  },
  {
   "cell_type": "code",
   "execution_count": 5,
   "metadata": {},
   "outputs": [],
   "source": [
    "#x <- tibble(Gleason=c('GLEASON 3+4=7', 'DUKES=B', 'T1a'))\n",
    "#x\n",
    "#x %>% mutate(Gleason=ifelse(str_detect(str_sub(Gleason, 1, 7), 'GLEASON'), str_sub(Gleason, 9, str_length(Gleason)), NA)) %>%\n",
    "#      mutate(Gleason=str_sub(Gleason, str_locate(Gleason, '=')[,1] + 1, str_length(Gleason)))"
   ]
  },
  {
   "cell_type": "markdown",
   "metadata": {},
   "source": [
    "## __Exercise__: Something devilish to do with string handling.\n",
    "\n",
    "1. List the number of attacks which involved each shirt colour and each monster type with: 'The \\<monster\\> attacked redshirts \\<number\\> times.'\n",
    "1. Choose a monster and find out how many attacks it made and on which shirt colours.\n",
    "1. Create a list of words and their frequencies."
   ]
  },
  {
   "cell_type": "code",
   "execution_count": 6,
   "metadata": {},
   "outputs": [],
   "source": [
    "#events <- c(\n",
    "#    'The redshirt was bitten by a red vampire.',\n",
    "#    'The basilisk froze seven securty officers',\n",
    "#    'Spock was attacked by the zombies',\n",
    "#    'Werewolves ate four redshirts and one yellowshirt',\n",
    "#    'The captain spontaneously combusted'\n",
    "#)\n",
    "#str_length(events)\n",
    "#events[str_detect(events, 'vampire')]\n",
    "#str_locate(events[str_detect(events, 'vampire')], 'red')\n",
    "#str_locate_all(events[str_detect(events, 'vampire')], 'red')\n",
    "#str_sub(events[str_detect(events, 'vampire')], str_locate(events[str_detect(events, 'vampire')], 'red')) <-'blue'\n",
    "#str_sub(events[str_detect(events, 'vampire')], str_locate(events[str_detect(events, 'vampire')], 'vampire')) <- 'green'\n",
    "#events[str_detect(events, 'vampire')]\n",
    "\n",
    "#word <- str_to_lower(unlist(str_split(events, ' ')))\n",
    "#word\n",
    "#t <- table(word)\n",
    "#print(t)\n",
    "#class(t)\n",
    "#u <- as.data.frame(t)\n",
    "#print(u %>% arrange(desc(Freq)))"
   ]
  },
  {
   "cell_type": "markdown",
   "metadata": {},
   "source": [
    "## _Regular Expressions_\n",
    "Regular expressions are a way to describe pattern in strings and is the defaullt form of the 'pattern' used in stringr, e.g. `str_match(string, pattern)`. They may seem obscure to start with but you quickly get used to them with practice. The rules define the patterns that match:\n",
    "\n",
    "* 'x' --- match the character x\n",
    "* 'x|y' --- match the character x or the character y\n",
    "* '\\[xyz\\]' --- match any one of x, y or z\n",
    "* '\\[^xyz\\]' --- match anything but x, y or z\n",
    "* '\\[t-z\\]' --- match anything from t to z\n",
    "* '^a' --- match anything that starts with a\n",
    "* 'a\\$' --- match anything that ends with a\n",
    "* '^abcdef\\$' --- match abcdef only\n",
    "* 'a?' --- match zero or one a\n",
    "* 'a*' --- match zero or more a's\n",
    "* 'a+' --- match one or more a's\n",
    "* 'a{n}' --- match exactly n a's\n",
    "* 'a{n,}' --- match n or more a's\n",
    "* 'a{n,m}' --- match n to m a's\n",
    "* '.' --- match any character (except a new-line)\n",
    "* '\\[:digit:\\]' --- match a digit (see also: alpha, lower, upper, alnum, punct, graph, space, blank)\n",
    "* '(ab|c)(d|ef)' --- match the first group followed by the second group i.e. 'ab' or 'c' followed by 'd' or 'ef'\n",
    "\n",
    "For example, if we wish to find the character, 'x', we simply use 'x'. If we want to find 'x' or 'y', we use 'x|y'. If we want to find one of a set of characters, we use '\\[xyz\\]' which will find one of 'x', ''y' or 'z'. If we want to find 'abc' or 'd' followed by 'e', we use '(abc|d)e'.\n",
    "\n",
    "| Regular Expression | Matches, for example |\n",
    "| --- | --- |\n",
    "| ^a | a, apple, aardvark, a00001 |\n",
    "| \\[a\\] | a, baa, people with a problem, aaaaaaaaaaaaaa |\n",
    "| \\[ab\\] | a, baa, boo, oboe |\n",
    "| \\[a\\]\\*\\[b\\]\\* | bbb, aaa, aaaabbbb, aaaaacccc |\n",
    "| \\[a\\]+\\[b\\]+ | abbbb, aaaaab, abc |\n",
    "| \\[A-Za-z\\]+ | any, word, butnotanumberbyitself |\n",
    "| ^\\[a-z-\\]+\\[@\\]{1}\\[a-z\\]+(\\[.\\]{1}\\[a-z\\]+)*$ | hello@regexp.co.uk, help-me@google.com |\n",
    "\n",
    "You can use other forms of pattern if you convert them with one of the helper functions:\n",
    "* regex() --- the default\n",
    "* fixed() --- matches raw bytes but, some characters can be represented in multiple ways and these will be missed\n",
    "* coll() --- matches raw bytes and uses locale collation rules to match multiply represented characters (slow)\n",
    "* boundary() --- matches boundaries between characters"
   ]
  },
  {
   "cell_type": "code",
   "execution_count": 7,
   "metadata": {},
   "outputs": [],
   "source": [
    "#s <- 'How many redshirts were killed in episode 7?'\n",
    "#p <- '7\\\\?$'\n",
    "#str_match(s, p)\n",
    "#str_split(s, boundary('word'))"
   ]
  },
  {
   "cell_type": "markdown",
   "metadata": {},
   "source": [
    "## __Exercise__: Using regular expressions to find codes.\n",
    "Load the package, 'pccc' and use regular expressions to look for specific codes in the 'pcc_icd10_dataset' data."
   ]
  },
  {
   "cell_type": "code",
   "execution_count": 8,
   "metadata": {},
   "outputs": [],
   "source": [
    "##install.packages('pccc')\n",
    "##install.packages('data.table')\n",
    "#library(pccc)\n",
    "#head(pccc_icd10_dataset)\n",
    "\n",
    "#p <- pccc_icd10_dataset[str_which(pccc_icd10_dataset$dx1, '^S66'),]\n",
    "#head(p)"
   ]
  },
  {
   "cell_type": "markdown",
   "metadata": {},
   "source": [
    "<table style=\"text-align:center;\"><tr><td width=\"100\" height=\"20\" style=\"background-color:greenyellow\"></td><td width=\"100\" height=\"20\" style=\"background-color:hotpink\"></td></tr></table>"
   ]
  },
  {
   "cell_type": "markdown",
   "metadata": {},
   "source": [
    "### __Dates__\n",
    "\n",
    "As we found in earlier exercises, dates in R can require considerable care, not only are their formats likely to vary but R will not always treat dates as you would like it to. In addition, people frequently enter dates badly as strings (for example, 31.06.2005 where someone may simply have added 3 to 31.03.2005 to indicate a date 3 months later). There are further complications when you need to calculate intervals from dates - leap years, what is a month, a year etc.\n",
    "\n",
    "The `lubridate` package has been designed to make handling dates easier and to provide a simple way to perform mathematical functions.\n",
    "\n",
    "[See the lubridate cheatsheet.](https://github.com/rstudio/cheatsheets/raw/master/lubridate.pdf) Especially for additional information on timestamps and timezones.\n",
    "\n",
    "There are three components in a lubridate date/time:\n",
    "1. A datetime which is stored as the number of seconds since January 1st 1970 and represents a date with a time.\n",
    "1. A date is stored as the number of days since January 1st 1970.\n",
    "1. An hms is the number of seconds since 00:00 and represents the time."
   ]
  },
  {
   "cell_type": "code",
   "execution_count": 9,
   "metadata": {},
   "outputs": [],
   "source": [
    "#library(lubridate)\n",
    "## datetime\n",
    "#dt <- as_datetime('2020-09-22 12:00:00')\n",
    "#dt\n",
    "#as.integer(dt)\n",
    "## date\n",
    "#dt <- as_date('2019-09-22')\n",
    "#dt\n",
    "#as.integer(dt)\n",
    "## hms\n",
    "#hms <- hms::as_hms('12:00:00')\n",
    "#hms\n",
    "#as.integer(hms)"
   ]
  },
  {
   "cell_type": "markdown",
   "metadata": {},
   "source": [
    "### _Specifying datetimes_\n",
    "\n",
    "You can specify datetimes with string and numbers using a series of functions that match the format of the strings and numbers you want to use:\n",
    "1. ymd_hms(), ymd_hm(), ymd_h(), ymd()\n",
    "1. ydm_hms() etc.\n",
    "1. mdy_hms() etc.\n",
    "1. yq(), hms(), hm(), ms() (may need to specify lubridate here, for example, lubridate::hms() rather than hms::hms())"
   ]
  },
  {
   "cell_type": "code",
   "execution_count": 10,
   "metadata": {},
   "outputs": [],
   "source": [
    "#dt <- ymd_hms('2020/09/22 17:26:30')\n",
    "#dt"
   ]
  },
  {
   "cell_type": "markdown",
   "metadata": {},
   "source": [
    "### _Getting and setting components_\n",
    "\n",
    "It is straightforward to set the components of a datetime, such as date(), year(), month(), day(), wday(), hour(), minute(), second(), week(), semester() and check values such as am(), pm(), dst() - daylight saving time?, leap_year()."
   ]
  },
  {
   "cell_type": "code",
   "execution_count": 11,
   "metadata": {},
   "outputs": [],
   "source": [
    "#semester(dt)\n",
    "#wday(dt)\n",
    "#pm(dt)\n",
    "#leap_year(dt)\n",
    "#dst(dt)\n",
    "#month(dt) <- 12\n",
    "#dt"
   ]
  },
  {
   "cell_type": "markdown",
   "metadata": {},
   "source": [
    "### _Maths with dates_\n",
    "\n",
    "Date calculations are a series of traps and problems. You need to consider:\n",
    "1. Leap days and leap seconds\n",
    "1. Daylight saving hours\n",
    "1. Adding months when on 31st of the month (31st February --> NA)\n",
    "\n",
    "The Tidyverse tries to help by including three kinds of timespan:\n",
    "1. Period --- tracks the change in clock time\n",
    "1. Duration --- tracks the actual amount of time irrespective of clock manipulations, so not clock time when changes occur\n",
    "1. Interval --- represents specific intervals on the timeline, bounded by a start and end datetime.\n",
    "\n",
    "To create one of these timespans, you can use the constructor:\n",
    "* `period()`\n",
    "* `duration()`\n",
    "* `interval()` (or, in this case, %--%)\n",
    "\n",
    "or the and the conversion functions:\n",
    "* `as.period()`\n",
    "* `as.duration()`\n",
    "* `as.interval()`\n",
    "\n",
    "Some functions are also provided to help round dates appropriately:\n",
    "* floor_date(x, unit='second') --- rounds down to the specified unit\n",
    "* round_date(x, unit='second') --- rounds to the nearest unit\n",
    "* ceiling_date(x, unit='second') --- rounds up to the nearest unit\n",
    "* rollback(dates, roll_to_first=FALSE, preserve_hms=TRUE) -- rollback to the last day of the previous month (this is also done with the operators, %m+% and %m-%)"
   ]
  },
  {
   "cell_type": "code",
   "execution_count": 12,
   "metadata": {},
   "outputs": [],
   "source": [
    "#per <- months(2)\n",
    "#per\n",
    "#dur <- dweeks(4)\n",
    "#dur\n",
    "#int <- interval(ymd('2019-09-28'), ymd('2019-09-01'))\n",
    "#int\n",
    "#dt <- ymd('2016-01-31') + months(1)\n",
    "#dt\n",
    "#dt <- ymd('2016-01-31') %m+% months(1)\n",
    "#dt"
   ]
  },
  {
   "cell_type": "markdown",
   "metadata": {},
   "source": [
    "And there are some handy extra functions:\n",
    "* now() --- current time\n",
    "* today() --- current date"
   ]
  },
  {
   "cell_type": "code",
   "execution_count": 13,
   "metadata": {},
   "outputs": [],
   "source": [
    "#today() + dur\n",
    "#now() + dminutes(10)"
   ]
  },
  {
   "cell_type": "markdown",
   "metadata": {},
   "source": [
    "## __Exercise__: Play with dates and durations.\n",
    "What happens if you add or subtract a day, a month, a year?"
   ]
  },
  {
   "cell_type": "code",
   "execution_count": 14,
   "metadata": {},
   "outputs": [],
   "source": [
    "#n <- now()\n",
    "#n\n",
    "#m <- months(1)\n",
    "#m\n",
    "#m1 <- as.duration(m)\n",
    "#m1\n",
    "#m2 <- as.period(m)\n",
    "#m2\n",
    "#m3 <- as.interval(m, now())\n",
    "#m3\n",
    "#n <- n + months(1)\n",
    "#n"
   ]
  },
  {
   "cell_type": "markdown",
   "metadata": {},
   "source": [
    "## __Exercise__: Convert the dates in the `pregnancy` dataset to a date type and process them.\n",
    "Convert all (some) of the date fields in the pregnancy dataset to dates. Check for problems. Determine how many children were born in the summer months. Calculate the interval between children for those parents with more than one child."
   ]
  },
  {
   "cell_type": "code",
   "execution_count": 15,
   "metadata": {},
   "outputs": [],
   "source": [
    "#library(lubridate)\n",
    "#p <- pregnancy %>% select(PARENT_ID, DOBCHILD1, DOBCHILD2, DOBCHILD3, DOBCHILD4, DOBCHILD5, DOBCHILD6) %>%\n",
    "#    mutate(DOBCHILD1 = as.Date(DOBCHILD1, format='%d/%m/%Y')) %>%\n",
    "#    mutate(MONTH_CHILD1 = month(DOBCHILD1)) %>%\n",
    "#    mutate(SUMMER_CHILD1 = (MONTH_CHILD1 >= 6 & MONTH_CHILD1 <= 8))\n",
    "#table(p$SUMMER_CHILD1)\n",
    "#head(p, 20)\n",
    "#q <- pregnancy %>% select(PARENT_ID, DOBCHILD1, DOBCHILD2, DOBCHILD3, DOBCHILD4, DOBCHILD5, DOBCHILD6) %>%\n",
    "#    mutate(DOBCHILD1 = as.Date(DOBCHILD1, format='%d/%m/%Y')) %>%\n",
    "#    mutate(DOBCHILD2 = as.Date(DOBCHILD2, format='%d/%m/%Y')) %>%\n",
    "#    mutate(GAP_12 = ifelse(!is.na(DOBCHILD1) & !is.na(DOBCHILD2), DOBCHILD2 - DOBCHILD1, NA))\n",
    "#head(q, 20)"
   ]
  },
  {
   "cell_type": "markdown",
   "metadata": {},
   "source": [
    "<table style=\"text-align:center;\"><tr><td width=\"100\" height=\"20\" style=\"background-color:greenyellow\"></td><td width=\"100\" height=\"20\" style=\"background-color:hotpink\"></td></tr></table>"
   ]
  },
  {
   "cell_type": "markdown",
   "metadata": {},
   "source": [
    "### __Factors__\n",
    "\n",
    "[See the forcats cheatsheet.](https://github.com/rstudio/cheatsheets/raw/master/factors.pdf) \n",
    "\n",
    "The Tidyverse provides a library, `forcats`, with a number of utilities for handling factors.\n",
    "\n",
    "A factor is a categorical variable (a vector with a fixed set of values). In R a factor is displayed with string values but stored as integers with a hidden look-up table to do the conversion. This avoids spelling mistakes and problems with capitalisation (or, rather, these things show up as errors).\n",
    "\n",
    "The factors are usually ordered alphabetically which can be inconvenient when it comes to plotting by categories for example.\n",
    "\n",
    "We create a factor with `factor(x=character(), levels)` or from a vector with `as.factor()`. The levels can be seen and set by calling `levels(x)`."
   ]
  },
  {
   "cell_type": "code",
   "execution_count": 16,
   "metadata": {},
   "outputs": [],
   "source": [
    "#bmi <- factor(c('healthy', 'underweight', 'obese', 'healthy', 'healthy', 'overweight', 'healthy', 'obese', 'overweight'))\n",
    "#bmi\n",
    "## Notice that the levels are listed alphabetically. Note also that the print(bmi) automatically prints the levels.\n",
    "#levels(bmi)\n",
    "#bmi <- factor(c('healthy', 'underweight', 'obese', 'healthy', 'healthy', 'overweight', 'healthy', 'obese', 'overweight'),\n",
    "#             levels=c('underweight', 'healthy', 'overweight', 'obese'))\n",
    "#bmi\n",
    "## Notice that the levels are listed ordinally.\n",
    "#levels(bmi)\n",
    "## Notice that the following changes the labels not the order of the labels so the data has changed too.\n",
    "#levels(bmi) <- c('obese', 'overweight', 'healthy', 'underweight')\n",
    "#bmi\n",
    "#levels(bmi)"
   ]
  },
  {
   "cell_type": "markdown",
   "metadata": {},
   "source": [
    "There are some useful forcats functions:\n",
    "* fct_count() --- count the frequency of each level\n",
    "* fct_unique() --- get the unique values\n",
    "* fct_c() --- combine factors (with possibly different levels)\n",
    "* fct_unify() --- unify the levels across different factors\n",
    "* fct_relevel() --- relevel the factor\n",
    "* fct_infreq() --- relevel the factor by th efrequency eacch occurs\n",
    "* fct_collapse() --- collapse the specified levels into a new (or existing) level\n",
    "* fct_other() --- allows you to select some levels to keep, the rest collapsed into a level, 'Other'\n",
    "\n",
    "There are several additional re-ordering functions - see the cheatsheet."
   ]
  },
  {
   "cell_type": "code",
   "execution_count": 17,
   "metadata": {},
   "outputs": [],
   "source": [
    "#library(forcats)\n",
    "#bmi <- factor(c('healthy', 'underweight', 'obese', 'healthy', 'healthy', 'overweight', 'healthy', 'obese', 'overweight'))\n",
    "#fct_count(bmi)\n",
    "#fct_unique(bmi)\n",
    "## Note that the order of the levels below has changed not the data.\n",
    "#fct_relevel(bmi, c('obese', 'overweight', 'healthy', 'underweight'))\n",
    "## Now re-ordered according to frequency of each factor (useful for listing and plotting).\n",
    "#fct_infreq(bmi)\n",
    "## Collapse some factors into the same value.\n",
    "#fct_collapse(bmi, heavy=c('overweight', 'obese'))"
   ]
  },
  {
   "cell_type": "markdown",
   "metadata": {},
   "source": [
    "## __Exercise__: Factors in the pregnancy dataset.\n",
    "1. Create a factor for season of child birth.\n",
    "1. Create a factor for length of gap between births with a non-linear increment, e.g. <1 year, <18 months, <2 years, <3 years, <5 years, >5  years."
   ]
  },
  {
   "cell_type": "code",
   "execution_count": 18,
   "metadata": {},
   "outputs": [],
   "source": [
    "#head(pregnancy)\n",
    "#seasons <- pregnancy %>% select(PARENT_ID, INFANT_ID, EDD) %>% mutate(CHILD_BIRTH=dmy(EDD))\n",
    "#seasons <- seasons %>% mutate(SEASON=ifelse(month(CHILD_BIRTH) %in% c(12, 1, 2), 'winter', \n",
    "#                                            ifelse(month(CHILD_BIRTH) %in% c(3, 4, 5), 'spring',\n",
    "#                                                   ifelse(month(CHILD_BIRTH) %in% c(6, 7, 8), 'summer',\n",
    "#                                                          'autumn'))))\n",
    "#seasons <- seasons %>% mutate(SEASON=as.factor(SEASON))\n",
    "#head(seasons)"
   ]
  },
  {
   "cell_type": "markdown",
   "metadata": {},
   "source": [
    "<table style=\"text-align:center;\"><tr><td width=\"100\" height=\"20\" style=\"background-color:greenyellow\"></td><td width=\"100\" height=\"20\" style=\"background-color:hotpink\"></td></tr></table>"
   ]
  },
  {
   "cell_type": "markdown",
   "metadata": {},
   "source": [
    "<table width='100%'><tr>\n",
    "    <td style='background-color:red; text-align:center; color: white;'><!--Foundation<!--hr size='5' style='border-color:red; background-color:red;'--></td>\n",
    "    <td style='background-color:yellow; text-align:center;'><!--Level 1<!--hr size='5' style='border-color:yellow; background-color:yellow;'--></td>\n",
    "    <td style='background-color:orange; text-align:center;'><!--Level 2<!--hr size='5' style='border-color:orange; background-color:orange;'--></td>\n",
    "    <td style='background-color:green; text-align:center; color: white;'><!--Level 3<!--hr size='5' style='border-color:orange; background-color:orange;'--></td>\n",
    "    <td style='background-color:blue; text-align:center; color: white;'><!--Level 4<!--hr size='5' style='border-color:orange; background-color:orange;'--></td>\n",
    "    <td style='background-color:purple; text-align:center; color: white;'><!--Level 5<!--hr size='5' style='border-color:orange; background-color:orange;'--></td>\n",
    "    <td style='background-color:brown; text-align:center; color: white;'><!--Level 6<!--hr size='5' style='border-color:orange; background-color:orange;'--></td>\n",
    "    <td style='background-color:black; text-align:center; color: white;'><!--Level 7<!--hr size='5' style='border-color:orange; background-color:orange;'--></td>\n",
    "</tr></table>"
   ]
  }
 ],
 "metadata": {
  "kernelspec": {
   "display_name": "R",
   "language": "R",
   "name": "ir"
  },
  "language_info": {
   "codemirror_mode": "r",
   "file_extension": ".r",
   "mimetype": "text/x-r-source",
   "name": "R",
   "pygments_lexer": "r",
   "version": "4.0.2"
  }
 },
 "nbformat": 4,
 "nbformat_minor": 4
}
