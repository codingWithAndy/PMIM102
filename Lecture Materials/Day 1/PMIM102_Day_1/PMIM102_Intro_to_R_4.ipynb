{
 "cells": [
  {
   "cell_type": "markdown",
   "metadata": {},
   "source": [
    "<table width='100%'><tr>\n",
    "    <td style='background-color:red; text-align:center; color: white;'><!--Foundation<!--hr size='5' style='border-color:red; background-color:red;'--></td>\n",
    "    <td style='background-color:yellow; text-align:center;'><!--Level 1<!--hr size='5' style='border-color:yellow; background-color:yellow;'--></td>\n",
    "    <td style='background-color:orange; text-align:center;'><!--Level 2<!--hr size='5' style='border-color:orange; background-color:orange;'--></td>\n",
    "    <td style='background-color:green; text-align:center; color: white;'><!--Level 3<!--hr size='5' style='border-color:orange; background-color:orange;'--></td>\n",
    "    <td style='background-color:blue; text-align:center; color: white;'><!--Level 4<!--hr size='5' style='border-color:orange; background-color:orange;'--></td>\n",
    "    <td style='background-color:purple; text-align:center; color: white;'><!--Level 5<!--hr size='5' style='border-color:orange; background-color:orange;'--></td>\n",
    "    <td style='background-color:brown; text-align:center; color: white;'><!--Level 6<!--hr size='5' style='border-color:orange; background-color:orange;'--></td>\n",
    "    <td style='background-color:black; text-align:center; color: white;'><!--Level 7<!--hr size='5' style='border-color:orange; background-color:orange;'--></td>\n",
    "</tr></table>"
   ]
  },
  {
   "cell_type": "markdown",
   "metadata": {},
   "source": [
    "<table style='border-left:10px solid yellow;'><tr>\n",
    "    <td style='padding-left:20px;'>\n",
    "        <h2><i>Swansea University Medical School</i><br/><b>MSc Health Data Science</b></h2>\n",
    "        <h3>PMIM-102 Introduction to Scientific Computing in Healthcare</h3>\n",
    "        <h1><b>Introduction to Programming in R</b></h1>\n",
    "        <h2><b>1. Programming Fundamentals</b></h2>\n",
    "        <h2><i>Part 4: More complex data structures.</i></h2>\n",
    "        <h3><i>September 2020</i></h3>\n",
    "        <h3><b>To-do</b></h3>\n",
    "        <ul>\n",
    "            <li>Fix bug in plotting with factors.</li>\n",
    "            <li>A formula challenge?</li>\n",
    "        </ul>\n",
    "    </td>\n",
    "    <td><img height='300' width='500' src='images/cover.jpg'/></td>\n",
    "</tr></table>"
   ]
  },
  {
   "cell_type": "markdown",
   "metadata": {},
   "source": [
    "## __Aim__: Learn how to make the computer do what we want and get information from the data\n",
    "\n",
    "The aim of this session is to introduce the basic principles of programming using <code>R</code>.\n",
    "\n",
    "### __A map of where we're going__\n",
    "\n",
    "1. __Simple Things__ - simple data (__variables__) and how to do things to them (__operators__) and calculate things (__expressions__). Also when and where variables are and are not valid.\n",
    "\n",
    "1. __What computers do best 1: Control__ - how to make decisions about whether to execute code and/or which code to execute; how to repeatedly execute code.\n",
    "\n",
    "1. __What computers do best 2: What they have been told. Again and agin ...__ - combining lots of simple operations into more complex functions - being able to perform, simple, repetitive or complex operations on the variables with just one command. Introducing some basic descriptive statistical functions.\n",
    "\n",
    "1. <div style=\"background-color:yellow;\"><b>What R does well: complex data and operations on all the bits at the same time</b> - pairs, tuples, vectors, lists, matrices, arrays, tables, factors.</div>\n",
    "\n",
    "1. __The Data Frame__ - along with vectors, data frames are the data structure most frequently used in health data science.\n",
    "    * __Extra: R Specifics__ - formulae."
   ]
  },
  {
   "cell_type": "markdown",
   "metadata": {},
   "source": [
    "## __Navigation__\n",
    "\n",
    "_How to approach this section of the course depending on your experience of R_\n",
    "\n",
    "Although the code and exercises presented in this notebook will run here, it would be better to transfer the code to R-Studio and run and edit it in that environment as that will be the enviornment we use for the course.\n",
    "\n",
    "If you have programming experience in R ==> you may want to skim what we are doing in each section: you may be able to skip ahead to the ___challenges___ and ___FAST TRACK___ and attempt those exercises. If you complete those exercises before the rest of use have reached that point, ask yourself 'what-if' questions and play with the code or the look at something you have never used before or help others in the class.\n",
    "\n",
    "If you have some programming experience in another programming language ==> you can work through the Jupyter Notebook at your own speed but bear in mind that R is unique in many respects, so don't just skip things as it may come back to bite you :) When you get to the ___challenges___ and ___FAST TRACK___ please attempt those exercises and then experiment with R. \n",
    "\n",
    "In all cases, the internet is a superb resource if you have a problem - somebody almost certainly has had it before (bit remember that not all the answers are from experts)."
   ]
  },
  {
   "cell_type": "markdown",
   "metadata": {},
   "source": [
    "<table style=\"text-align:center;\"><tr><td width=\"100\" height=\"20\" style=\"background-color:greenyellow\"></td><td width=\"100\" height=\"20\" style=\"background-color:hotpink\"></td></tr></table>"
   ]
  },
  {
   "cell_type": "markdown",
   "metadata": {},
   "source": [
    "### __Complicated Variables__"
   ]
  },
  {
   "cell_type": "markdown",
   "metadata": {},
   "source": [
    "### Vectors, Matrices, Arrays, Lists\n",
    "R's major strength is the ability to operate efficiently on entire data structures. There are four commonly used data structures (although plenty of others for sepcific purposes, such as time-series).\n",
    "\n",
    "#### __Vectors__\n",
    "The basic structure in R is the __vector__. Even single values are vectors of length 1. A vector is a group of elements of one data-type. You create a vector using the `c()` function to combine elements."
   ]
  },
  {
   "cell_type": "code",
   "execution_count": 1,
   "metadata": {},
   "outputs": [],
   "source": [
    "#v <- c(1, 6, 3, -5, 2)\n",
    "#print(v)"
   ]
  },
  {
   "cell_type": "markdown",
   "metadata": {},
   "source": [
    "We can check the type and structure of the variable with:"
   ]
  },
  {
   "cell_type": "code",
   "execution_count": 2,
   "metadata": {},
   "outputs": [],
   "source": [
    "#class(v)\n",
    "#str(v)\n",
    "#is.vector(v)"
   ]
  },
  {
   "cell_type": "markdown",
   "metadata": {},
   "source": [
    "Now we can use some of the internal functions to do some interesting things."
   ]
  },
  {
   "cell_type": "code",
   "execution_count": 3,
   "metadata": {},
   "outputs": [],
   "source": [
    "#sum(v)\n",
    "#length(v)"
   ]
  },
  {
   "cell_type": "markdown",
   "metadata": {},
   "source": [
    "We will often use built functions to perform analyses on vectors (or columns of data frames which work like vectors). For example, the `mean()` function will produce the average value of all the elements in a vector (or data fram column):"
   ]
  },
  {
   "cell_type": "code",
   "execution_count": 4,
   "metadata": {},
   "outputs": [],
   "source": [
    "#mean(v)"
   ]
  },
  {
   "cell_type": "markdown",
   "metadata": {},
   "source": [
    "Now do this manually:"
   ]
  },
  {
   "cell_type": "code",
   "execution_count": 5,
   "metadata": {},
   "outputs": [],
   "source": [
    "#sum(v) / length(v)"
   ]
  },
  {
   "cell_type": "markdown",
   "metadata": {},
   "source": [
    "Operators, such as `+`, `^`, operate on each element of a vector:"
   ]
  },
  {
   "cell_type": "code",
   "execution_count": 6,
   "metadata": {},
   "outputs": [],
   "source": [
    "#v ^ 2"
   ]
  },
  {
   "cell_type": "markdown",
   "metadata": {},
   "source": [
    "If you wish to add items to a vector, you can simply refer to the index you want to set, even if it doesn't exist yet and R will sort it out. Or you create a vector using the c() function with the existing vector as one of the arguments. Use the append() function to add data in the middle of a vector."
   ]
  },
  {
   "cell_type": "code",
   "execution_count": 7,
   "metadata": {},
   "outputs": [],
   "source": [
    "#v[10] <- 8\n",
    "#v <- c(v, 9)\n",
    "#v"
   ]
  },
  {
   "cell_type": "markdown",
   "metadata": {},
   "source": [
    "<div style='background-color:lightgray;'><h3><b>Extra</b>: Recycling rule for vectors</h3>\n",
    "Try adding two vectors of unequal length. R will attempt to re-use the shorter vector an integer number times to match the longer vector's length. It will produce an error if the difference is not an exact multiple of the shorter vector's length.\n",
    "</div>"
   ]
  },
  {
   "cell_type": "markdown",
   "metadata": {},
   "source": [
    "### __Exercise__: The full LCG with plots.\n",
    "Create a function that uses the LCG random number function to create a vector full of n random numbers.\n",
    "Plot the data in the vector, a histogram of the frequencies of the values and then a scatter plot where each point is given by $(x, y) = (value_{m}, value_{m+1})$ for m is 1 to n-1."
   ]
  },
  {
   "cell_type": "code",
   "execution_count": 12,
   "metadata": {},
   "outputs": [],
   "source": [
    "## Generator.\n",
    "#lcg <- function(modulus, multiple, constant, seed) {\n",
    "#    return((multiple * (seed + constant)) %% modulus)\n",
    "#}\n",
    "#\n",
    "## Vector generator.\n",
    "#lcg_vector <- function(modulus, a, c, seed, n) {\n",
    "#    l <- vector()\n",
    "#    for (i in 1:n) {\n",
    "#        s <- lcg(modulus, a, c, s)\n",
    "#        l[i] <- s\n",
    "#    }\n",
    "#    return(l)\n",
    "#}\n",
    "#\n",
    "## Number of elements in the vectors.\n",
    "#n <- 10000\n",
    "#\n",
    "## Bad parameters.\n",
    "#m <- 23\n",
    "#a <- 6\n",
    "#s <- runif(1) * 100\n",
    "#c <- 7\n",
    "#bad <- lcg_vector(m, a, c, s, n)\n",
    "## Good parameters.\n",
    "#m <- 86436\n",
    "#a <- 1093\n",
    "#s <- runif(1) * 100\n",
    "#c <- 18257\n",
    "#good <- lcg_vector(m, a, c, s, n)\n",
    "#\n",
    "# Plot the results.\n",
    "#v <- lcg_vector(m, a, c, s, 100)\n",
    "#plot(v)\n",
    "#par(mfrow=c(2,2))\n",
    "#hist(bad, breaks=100)\n",
    "#plot(bad[1:length(bad)-1], bad[2:length(bad)], pch='.', cex=1, col='red')\n",
    "#hist(good, breaks=100)\n",
    "#plot(good[1:length(good)-1], good[2:length(good)], pch='.', cex=1, col='green')"
   ]
  },
  {
   "cell_type": "markdown",
   "metadata": {},
   "source": [
    "<table style=\"text-align:center;\"><tr><td width=\"100\" height=\"20\" style=\"background-color:greenyellow\"></td><td width=\"100\" height=\"20\" style=\"background-color:hotpink\"></td></tr></table>"
   ]
  },
  {
   "cell_type": "markdown",
   "metadata": {},
   "source": [
    "<table width='100%'><tr>\n",
    "    <td style='background-color:red; text-align:center; color: white;'><!--Foundation<!--hr size='5' style='border-color:red; background-color:red;'--></td>\n",
    "    <td style='background-color:yellow; text-align:center;'><!--Level 1<!--hr size='5' style='border-color:yellow; background-color:yellow;'--></td>\n",
    "    <td style='background-color:orange; text-align:center;'><!--Level 2<!--hr size='5' style='border-color:orange; background-color:orange;'--></td>\n",
    "    <td style='background-color:green; text-align:center; color: white;'><!--Level 3<!--hr size='5' style='border-color:orange; background-color:orange;'--></td>\n",
    "    <td style='background-color:blue; text-align:center; color: white;'><!--Level 4<!--hr size='5' style='border-color:orange; background-color:orange;'--></td>\n",
    "    <td style='background-color:purple; text-align:center; color: white;'><!--Level 5<!--hr size='5' style='border-color:orange; background-color:orange;'--></td>\n",
    "    <td style='background-color:brown; text-align:center; color: white;'><!--Level 6<!--hr size='5' style='border-color:orange; background-color:orange;'--></td>\n",
    "    <td style='background-color:black; text-align:center; color: white;'><!--Level 7<!--hr size='5' style='border-color:orange; background-color:orange;'--></td>\n",
    "</tr></table>"
   ]
  },
  {
   "cell_type": "markdown",
   "metadata": {},
   "source": [
    "### __Descriptive Statistics in R__\n",
    "\n",
    "R comes with a large number of built-in functions to perform descriptive statistics such as `mean()` to produce the mean of the values in a vector.\n",
    "\n",
    "There are (among others):\n",
    "\n",
    "| Function | What it does ... |\n",
    "|----------|------------------|\n",
    "| sum(x)   | Cum of all the elements in x. |\n",
    "| mean(x)  | Average of the values in x. |\n",
    "| var(x)   | Variance of x. |\n",
    "| sd(x)    | Standard deviation of the values in x. |\n",
    "|||\n",
    "| median(x) | The value of the data at the middle sample. |\n",
    "| min(x)    | The minimum value in x. |\n",
    "| max(x)    | The maximum value in x. |\n",
    "| range(x)  | The range of vvalues in x. |\n",
    "| quantile(x) | Returns min, lower quartile, median, upper quartile and max of x (with names). |\n",
    "| summary(x)  | Does the same and adds the mean, in a simple table layout. |\n",
    "|||\n",
    "| sort(x)   | x sorted. |\n",
    "| rev(x)    | Reverse the order of x. |\n",
    "| rank(x)   | The ranks of the values in x. |\n",
    "| order(x)  | The position in x of the values in x in order. |\n",
    "|||\n",
    "| cumsum(x) | The cumulative sum. |\n",
    "| cumprod(x) | The cumulative product. |\n",
    "| cummax(x) | The cumulative maximum. |\n",
    "| cummin(x) | The cumulative minimum. |\n",
    "|||\n",
    "| cor(x, y) | Correlation between vectors x and y. |\n",
    "\n",
    "Documentation [here](https://www.rdocumentation.org/packages/base)."
   ]
  },
  {
   "cell_type": "code",
   "execution_count": 13,
   "metadata": {},
   "outputs": [],
   "source": [
    "## Get some random data from a normal distribution --- we'll look at this later.\n",
    "#x <- rnorm(n=10)\n",
    "#y <- rnorm(n=12)\n",
    "#z <- rnorm(n=8)\n",
    "#m <- matrix(c(x, y, z), nrow=10, ncol=3)\n",
    "#colMeans(m)\n",
    "#summary(x)\n",
    "#summary(x)[[2]]\n",
    "#rev(x)"
   ]
  },
  {
   "cell_type": "markdown",
   "metadata": {},
   "source": [
    "You will frequently end up with `NA` values in your data. Logically these produce an `NA` result for calculations but this is not always what you want. To perform a function ignoring the NA values you can often specify the argument, `na.rm=TRUE`, for example:"
   ]
  },
  {
   "cell_type": "code",
   "execution_count": 14,
   "metadata": {},
   "outputs": [],
   "source": [
    "#x <- c(1, 2, 3, NA, 4, 5, 6)\n",
    "#mean(x)\n",
    "#mean(x, na.rm=TRUE)"
   ]
  },
  {
   "cell_type": "markdown",
   "metadata": {},
   "source": [
    "<div style='background-color:lightgray;'><h3><b>Challenge</b>: Rewrite the sum of squares to work on a vector.</h3>"
   ]
  },
  {
   "cell_type": "code",
   "execution_count": 19,
   "metadata": {},
   "outputs": [],
   "source": [
    "#v <- runif(100)\n",
    "#ss_vector <- function(v) {\n",
    "#   sum(v^2) - (sum(v)^2)/length(v)\n",
    "#}\n",
    "#ss_vector(v)/(length(v)-1)\n",
    "#var(v)"
   ]
  },
  {
   "cell_type": "markdown",
   "metadata": {},
   "source": [
    "### __Tables__\n",
    "R has a very useful function `table()` which creates summary of counts of the values in the vector arguments."
   ]
  },
  {
   "cell_type": "code",
   "execution_count": 20,
   "metadata": {},
   "outputs": [],
   "source": [
    "#n <- 10000\n",
    "#x <- as.integer(runif(n) * 10)\n",
    "#table(x)\n",
    "#y <- as.integer(rbinom(n=n, size=2, prob=0.5))\n",
    "#table(x, y)\n",
    "\n",
    "#blue_eyes <- as.logical(rbinom(n=n, size=1, prob=0.3))\n",
    "#blond_hair <- as.logical(rbinom(n=n, size=1, prob=0.2))\n",
    "\n",
    "#table(blue_eyes, blond_hair)\n",
    "\n",
    "#shirt <- c('red', 'red', 'yellow', 'red', 'red', 'blue', 'yellow', 'red', 'red', 'yellow', 'yellow', 'yellow')\n",
    "#episode_landing_party <- c('survived', 'killed', 'survived', 'killed', 'killed', 'survived', 'killed', 'killed', 'killed', 'survived', 'survived', 'survived')\n",
    "#shirt <- ifelse(shirt!='red', 'not-red', 'red')\n",
    "#table(shirt, episode_landing_party)\n",
    "#chisq.test(shirt, episode_landing_party, correct=TRUE)\n",
    "#fisher.test(shirt, episode_landing_party)"
   ]
  },
  {
   "cell_type": "markdown",
   "metadata": {},
   "source": [
    "<table style=\"text-align:center;\"><tr><td width=\"100\" height=\"20\" style=\"background-color:greenyellow\"></td><td width=\"100\" height=\"20\" style=\"background-color:hotpink\"></td></tr></table>"
   ]
  },
  {
   "cell_type": "markdown",
   "metadata": {},
   "source": [
    "Now, back to the more complex generalisations of vectors: matrices, arrays and lists which we'll move quickly through as they are just extensions of vectors. We'll then see how R functions operate on entire vectors and how to implement looping on those occasions where this doesn't do what we want.\n",
    "\n",
    "Later we'll look at data frames which are the data science workhorses of R.\n",
    "\n",
    "#### __Matrices__"
   ]
  },
  {
   "cell_type": "markdown",
   "metadata": {},
   "source": [
    "A __matrix__ is a 2-dimensional vector with row and column definitions as well as an indication of the order that R should use the numbers:"
   ]
  },
  {
   "cell_type": "code",
   "execution_count": 21,
   "metadata": {},
   "outputs": [],
   "source": [
    "#m <- matrix(c(1, 2, 3, 4, 5, 6, 7, 8), nrow=2, ncol=4, byrow=TRUE)\n",
    "#print(m)"
   ]
  },
  {
   "cell_type": "markdown",
   "metadata": {},
   "source": [
    "There are a number of built-in matrix functions:\n",
    "* Transposition --- t(M)\n",
    "* Inversion --- solve(M)\n",
    "* Multiplication --- M %*% N\n",
    "* Create an n x n identity matrix --- diag(n)\n",
    "\n",
    "You can extract a vector from a matrix using the usual syntax:\n",
    "\n",
    "`\n",
    "v <- m[1, ] # Get the first row\n",
    "v <- m[, 1] # Get the first column\n",
    "`\n",
    "\n",
    "If you want to keep the matrix structure e.g. have a 1-row matrix rather than a vector, use drop=FALSE:\n",
    "\n",
    "`v <- m[1, , drop=FALSE]`"
   ]
  },
  {
   "cell_type": "markdown",
   "metadata": {},
   "source": [
    "#### __Arrays__\n",
    "\n",
    "An __array__ is a multi-dimensional vector with the dimensions defined by another vector:"
   ]
  },
  {
   "cell_type": "code",
   "execution_count": 22,
   "metadata": {},
   "outputs": [],
   "source": [
    "#a <- array(c(1, 2, 3, 4, 5, 6, 7, 8, 9, 10, 11, 12), dim=c(2,3,2))\n",
    "#print(a)"
   ]
  },
  {
   "cell_type": "markdown",
   "metadata": {},
   "source": [
    "#### __Lists__\n",
    "\n",
    "If you want to mix different kinds of data in one structure or to create groups of elements that are not the fundamental data types, you need to use a __list__."
   ]
  },
  {
   "cell_type": "code",
   "execution_count": 23,
   "metadata": {},
   "outputs": [],
   "source": [
    "#l <- list(1, c(1.2,2.3,3.4,4.5), \"Helo\")\n",
    "#l2 <- list(l, list('a', 'b', 0))\n",
    "#list_functions <- list(mean, median, sin, cos, sqrt)\n",
    "#print(l)\n",
    "#print(l2)\n",
    "#print(list_functions)"
   ]
  },
  {
   "cell_type": "markdown",
   "metadata": {},
   "source": [
    "You can include more complex data types in lists, such as vectors, matrices, arrays and other lists."
   ]
  },
  {
   "cell_type": "code",
   "execution_count": 24,
   "metadata": {},
   "outputs": [],
   "source": [
    "#l2 <- list(l, v, m, a, list('a', 'b', 0))\n",
    "#print(l2)"
   ]
  },
  {
   "cell_type": "markdown",
   "metadata": {},
   "source": [
    "<div style='background-color:lightgray;'>And, while we're here, you can even refer to functions in a list:</div>"
   ]
  },
  {
   "cell_type": "code",
   "execution_count": 25,
   "metadata": {},
   "outputs": [],
   "source": [
    "#list_functions <- list(mean, median, sin, cos, sqrt)\n",
    "#print(list_functions)"
   ]
  },
  {
   "cell_type": "markdown",
   "metadata": {},
   "source": [
    "### __Named list items__\n",
    "You can name items in a list to create a kind of dictionary."
   ]
  },
  {
   "cell_type": "code",
   "execution_count": 26,
   "metadata": {},
   "outputs": [],
   "source": [
    "#baddies <- list(zombie=1, vampire=20, demon=10)\n",
    "#baddies\n",
    "#baddies['vampire']\n",
    "#names(baddies)"
   ]
  },
  {
   "cell_type": "markdown",
   "metadata": {},
   "source": [
    "### __Deleting list items__\n",
    "You can delete a list item by setting it to NULL."
   ]
  },
  {
   "cell_type": "code",
   "execution_count": 27,
   "metadata": {},
   "outputs": [],
   "source": [
    "#baddies['zombie'] <- NULL\n",
    "#baddies"
   ]
  },
  {
   "cell_type": "markdown",
   "metadata": {},
   "source": [
    "### __Converting a list to a vector__\n",
    "Flatten a list to a vector with `unlist`:"
   ]
  },
  {
   "cell_type": "code",
   "execution_count": 28,
   "metadata": {},
   "outputs": [],
   "source": [
    "#unlist(baddies)"
   ]
  },
  {
   "cell_type": "markdown",
   "metadata": {},
   "source": [
    "### __Accessing the Individual Elements__\n",
    "\n",
    "A vector is a series of values numbered 1 to its length. To access a single specific item, we can use the square bracket notation, `v[index]` where index is the number of the item we want to access. You can think of the square brackets as accessing the data _contained_ at the the value."
   ]
  },
  {
   "cell_type": "code",
   "execution_count": 29,
   "metadata": {},
   "outputs": [],
   "source": [
    "#v <- c(2, 4, 6, 8, 10)\n",
    "#v[3]\n",
    "#m <- matrix(c(1, 2, 3, 4, 5, 6, 7, 8), nrow=2, ncol=4, byrow=TRUE)\n",
    "#m[2,3]\n",
    "#a <- array(c(1, 2, 3, 4, 5, 6, 7, 8, 9, 10, 11, 12), dim=c(2,3,2))\n",
    "#a[1,1,1]"
   ]
  },
  {
   "cell_type": "markdown",
   "metadata": {},
   "source": [
    "Lists (and data frames, as we will see) are a bit more tricky as they may contain lists. So l\\[1\\] refers to the first item in the list , `1`, but this is stored as a list (so that all items can be treated in the same way), so you get a value `1` in a container, `[1]`. This isn't a number but a list of numbers. But you can get the number contained in this container by using the square brackets notation again on this list, `[[1]]`:"
   ]
  },
  {
   "cell_type": "code",
   "execution_count": 30,
   "metadata": {},
   "outputs": [],
   "source": [
    "#l <- list(1, c(1.2,2.3,3.4,4.5), \"Helo\")\n",
    "#class(l)\n",
    "## l[1] + 3\n",
    "#class(l[1])\n",
    "#l[[1]] + 3\n",
    "#class(l[[1]])\n",
    "#print(l)\n",
    "#class(l[[3]])"
   ]
  },
  {
   "cell_type": "markdown",
   "metadata": {},
   "source": [
    "We can also select multiple items by giving a vector of indices:"
   ]
  },
  {
   "cell_type": "code",
   "execution_count": 31,
   "metadata": {},
   "outputs": [],
   "source": [
    "#v[c(1,3,5)]"
   ]
  },
  {
   "cell_type": "markdown",
   "metadata": {},
   "source": [
    "This leads to filtering using the function `which` which produces a list of indices of elements which meet the specified condition."
   ]
  },
  {
   "cell_type": "code",
   "execution_count": 32,
   "metadata": {},
   "outputs": [],
   "source": [
    "#which(v>4)\n",
    "#v[which(v>4)]\n",
    "#v[v>4]"
   ]
  },
  {
   "cell_type": "markdown",
   "metadata": {},
   "source": [
    "<div style='background-color:lightgray;'><h3><b>Extra</b>: How do you exclude one or more items from a vector?</h3></div>"
   ]
  },
  {
   "cell_type": "markdown",
   "metadata": {},
   "source": [
    "\n",
    "### __Applying functions to vectors, matrices and lists__\n"
   ]
  },
  {
   "cell_type": "markdown",
   "metadata": {},
   "source": [
    "We can apply a function to all items in a data structure using `apply`. We need to supply the matrix, the MARGIN - whether we want to use rows (=1), columns (=2) or both (=c(1,2)) and the FUNction we wish to apply. If we want we can specify our own function or incude the definition in the apply call.\n",
    "\n",
    "<code>apply(m, 2, function(x) length(x[x&gt;4]))</code>\n",
    "\n",
    "See [R-Bloggers](https://www.r-bloggers.com/using-apply-sapply-lapply-in-r/) for an introduction to more details."
   ]
  },
  {
   "cell_type": "code",
   "execution_count": 33,
   "metadata": {},
   "outputs": [],
   "source": [
    "#print(m); print(dim(m)); print(is.matrix(m))\n",
    "#apply(m, MARGIN=1, FUN=mean)\n",
    "#apply(m, 2, function(x) length(x[x>2]))"
   ]
  },
  {
   "cell_type": "markdown",
   "metadata": {},
   "source": [
    "There are similar functions to produce the simplest output possible (`sapply`) or lists (`lapply`). These will work on vectors, lists and data frames. We will meet some other 'apply' family functions later."
   ]
  },
  {
   "cell_type": "code",
   "execution_count": 34,
   "metadata": {},
   "outputs": [],
   "source": [
    "#sapply(v, function(x) x^2)\n",
    "#lv <- lapply(l, function(x) length(x))\n",
    "#lv\n",
    "#class(sapply(l, function(x) length(x)))\n",
    "#class(lapply(l, function(x) length(x)))"
   ]
  },
  {
   "cell_type": "markdown",
   "metadata": {},
   "source": [
    "In fact the "
   ]
  },
  {
   "cell_type": "code",
   "execution_count": 35,
   "metadata": {},
   "outputs": [],
   "source": [
    "#sapply(l, function(x, y, z) (length(x) * y ^ z), y=2, z=3)"
   ]
  },
  {
   "cell_type": "markdown",
   "metadata": {},
   "source": [
    "### __Converting between complex strutures__\n",
    "\n",
    "Use the `as.vector()`, `as.list()`, `as.matrix()`, `as.data.frame()` functions to convert from one form to another. Except where lists are concerned, where you may need to use a little care. To go from a list to a vector use `unlist()` rather than `as.vector()` to avoid problems with lists with mixed data. When a data.frame or list contains different types of data and the conversion is to a single-type data-type, everything gets converted to characters.\n"
   ]
  },
  {
   "cell_type": "markdown",
   "metadata": {},
   "source": [
    "#### __Adding data to vectors__\n",
    "\n",
    "One of the common features of loops is to produce a vector in a way that is difficult to do with R's vector processing. For example, adding vectors is easy:"
   ]
  },
  {
   "cell_type": "code",
   "execution_count": 36,
   "metadata": {},
   "outputs": [],
   "source": [
    "#v1 <- c(1,2,3,4)\n",
    "#v2 <- c(5,6,7,8)\n",
    "#v <- v1 + v2\n",
    "#print(v)"
   ]
  },
  {
   "cell_type": "markdown",
   "metadata": {},
   "source": [
    "You can add a new item to the end of a vector by using rbind. But now we come up against some R magic which we might want to undo. R here creates the output for us, but also creates a name for each row and forms that into a matrix. We can fix this using `unname()` and `as.vector()`. This is typical of the kind of wrangling we need to do with R. As well as `rbind()`, you can add data to new columns using `cbind()` in a very similar way."
   ]
  },
  {
   "cell_type": "code",
   "execution_count": 37,
   "metadata": {},
   "outputs": [],
   "source": [
    "#last_integer <- 1\n",
    "#previous_integer <- 1\n",
    "#f <- vector()\n",
    "#repeat{\n",
    "#    next_integer <- last_integer + previous_integer\n",
    "#    if (next_integer > 100) break\n",
    "#    f <- rbind(f, next_integer)\n",
    "#    previous_integer <- last_integer\n",
    "#    last_integer <- next_integer\n",
    "#}\n",
    "#f\n",
    "#f <- unname(f)\n",
    "#class(f)\n",
    "#f\n",
    "#f <- as.vector(f)\n",
    "#class(f)\n",
    "#f"
   ]
  },
  {
   "cell_type": "markdown",
   "metadata": {},
   "source": [
    "<div style='background-color:lightgray;'><h3><b>Challenge</b>: Write a function to detect outliers.</h3>\n",
    "You can use the rule that any point more than 1.5 x the interquartile range above or below the 1st or 3rd quartile, or any other rule can find.\n",
    "</div>"
   ]
  },
  {
   "cell_type": "code",
   "execution_count": 38,
   "metadata": {},
   "outputs": [],
   "source": [
    "#outliers <- function(x) {\n",
    "#    result <- vector()\n",
    "#    iqr <- summary(x)[[5]] - summary(x)[[2]]\n",
    "#    lower_outlier <- summary(x)[[2]] - iqr\n",
    "#    upper_outlier <- summary(x)[[5]] + iqr\n",
    "#    for (i in 1:length(x)){\n",
    "#        is_outlier <- ((x[[i]] < lower_outlier) | (x[[i]] > upper_outlier))\n",
    "#        result <- rbind(result, is_outlier)\n",
    "#    }\n",
    "#    return(result)\n",
    "#}\n",
    "#x\n",
    "#summary(x)\n",
    "#outliers(x)"
   ]
  },
  {
   "cell_type": "markdown",
   "metadata": {},
   "source": [
    "<table style=\"text-align:center;\"><tr><td width=\"100\" height=\"20\" style=\"background-color:greenyellow\"></td><td width=\"100\" height=\"20\" style=\"background-color:hotpink\"></td></tr></table>"
   ]
  },
  {
   "cell_type": "markdown",
   "metadata": {},
   "source": [
    "### __Some Specialised R Components__\n",
    "\n",
    "As you saw above, there are six different types of simple data defined in R. In terms of statistics, we have integers and numerics to provide continuous variables or counts. We have logical variables that can define true or false. Another commonly used statictical variable type is a __categorical variable__ something which can take on a number of values, possibly ordered, but not necessarily often indicative of groups.\n",
    "\n",
    "For example, we could have the categories below for blood pressure (see [Wikipedia, Blood Pressure](https://en.wikipedia.org/wiki/Blood_pressure)).\n",
    "\n",
    "| Category | systolic BP, mmHg | diastolic BP, mmHg |\n",
    "|----------|-------------------|--------------------|\n",
    "| Optimal | < 120 | < 80 |\n",
    "| Normal | 120–129 | 80–84 |\n",
    "| High normal | 130–139 | 85–89 |\n",
    "| Grade 1 hypertension | 140–159 | 90–99 |\n",
    "| Grade 2 hypertension | 160–179 | 100–109 |\n",
    "| Grade 3 hypertension | ≥ 180 | ≥ 110 |\n",
    "| Isolated systolic hypertension | ≥ 140 | < 90 |\n",
    "\n",
    "We could have strings for each of these:\n",
    "\n",
    "\"optimal\", \"normal\", \"high-normal\", \"grade-1-hypertension\", \"grade-2-hypertension\", \"grade-3-hypertension\" and \"isolated-systolic-hypertension\"\n",
    "\n",
    "but we risk mis-spellings, capitalisation errors which we might not detect.\n",
    "\n",
    "R provides us with a neat way to reduce that risk and also to reduce the amount of memory our data uses: factors."
   ]
  },
  {
   "cell_type": "markdown",
   "metadata": {},
   "source": [
    "### __Factors__\n",
    "\n",
    "__Factors__ are a special form of vector used as a __categorical variable__ or for grouping. R maintains a vector as a set of values (levels) each of which has a name. So, for our blood pressure factor, R will create levels:\n",
    "\n",
    "\"optimal\", \"normal\", \"high-normal\", \"grade-1-hypertension\", \"grade-2-hypertension\", \"grade-3-hypertension\" and \"isolated-systolic-hypertension\"\n",
    "\n",
    "and it will create a look-up table and give each level an integer value starting at 1:\n",
    "\n",
    "\"optimal\" = 1, \"normal\" = 2, \"high-normal\" = 3, \"grade-1-hypertension\" = 4, \"grade-2-hypertension\" = 5, \"grade-3-hypertension\" = 6 and \"isolated-systolic-hypertension\" = 7\n",
    "\n",
    "A vector of this factor (i.e. a vector of blood-pressure results) wouls contain these values, e.g. c(1, 5, 2, 3, 2, 2, ... ), which R will display by converting the values to the names in the look-up table e.g. c(\"optimal\", \"grade-2-hypertension\", \"normal\", \"high-normal\", \"normal\", \"normal\" ... ).\n",
    "\n",
    "You can create a factor from data. You simply need to pass the data to the factor() function. It will look through the data and for the look-up table accordingly. However, it will order the factors alphabetically which is not always what you want, for example, with age range you might get '1-5' '10-15' '6-9' etc. when you'd prefer '1-5', '6-9', '10-15' etc. To get the correct levels you need to specify the levels explicitly.\n",
    "\n",
    "It will also, not include any values missing from your data vector."
   ]
  },
  {
   "cell_type": "code",
   "execution_count": 39,
   "metadata": {},
   "outputs": [],
   "source": [
    "#blood_pressure <- c(\"optimal\", \"grade-2-hypertension\", \"normal\", \"high-normal\", \"normal\", \"normal\", \"grade-1-hypertension\")\n",
    "#bp <- factor(blood_pressure)\n",
    "#print(bp)\n",
    "#bp <- factor(blood_pressure, levels = c(\"optimal\", \"normal\", \"high-normal\", \"grade-1-hypertension\", \"grade-2-hypertension\", \"grade-3-hypertension\", \"isolated-systolic-hypertension\"))\n",
    "#print(bp)"
   ]
  },
  {
   "cell_type": "markdown",
   "metadata": {},
   "source": [
    "To change the text used for the levels we just need to change the levels vector for the factor using `levels()`. This won't change the data, just the name used for each entry."
   ]
  },
  {
   "cell_type": "code",
   "execution_count": 40,
   "metadata": {},
   "outputs": [],
   "source": [
    "#levels(bp) <- c('low', 'medium', 'high', 'very high', 'huge', 'massive', 'gargantuan')\n",
    "#levels(bp)\n",
    "#print(bp)"
   ]
  },
  {
   "cell_type": "markdown",
   "metadata": {},
   "source": [
    "<div style='background-color:lightgray;'><h3><b>Exercise</b>: Change 'very high' to a single word value, something between 'high' and 'huge'.</h3>\n",
    "    In one line of code.\n",
    "</div>"
   ]
  },
  {
   "cell_type": "markdown",
   "metadata": {},
   "source": [
    "### __Looking ahead to data frames: some useful functions for groups__\n",
    "\n",
    "There are a couple of useful functions for grouping variables:\n",
    "\n",
    "* `stack()` will take a named list and build a two-column data frame, the column containing the values and the second a grouping factor which were the names of the list items.\n",
    "\n",
    "* `unstack()` will extract the pair of columns into n columns where n is the number of groups. Each column will be named from the name of the group.\n",
    "\n",
    "* `split()` will take a pair of variables, the values and the grooups and split these into a named list.\n",
    "\n",
    "* `tapply(column, group, function)` will apply the function to the data in column in groups according to group, for example, `tapply(deaths, agegp, mean)` will calculate the mean of the deaths column for each agegp."
   ]
  },
  {
   "cell_type": "markdown",
   "metadata": {},
   "source": [
    "<div style='background-color:lightgray;'><h3><b>Challenge</b>: Fix or explain the bug.</h3>\n",
    "We set up two variables with the same data and the same factors, but in a different order.\n",
    "</div>"
   ]
  },
  {
   "cell_type": "code",
   "execution_count": 41,
   "metadata": {},
   "outputs": [],
   "source": [
    "par(mfrow=c(2,2))\n",
    "#under5 <- rnorm(10, mean=2.5, sd=1)\n",
    "#five2ten <- rnorm(10, mean=7.5, sd=2)\n",
    "#over10 <- rnorm(10, mean=12.5, sd=5)\n",
    "#data1 <- stack(list('5-10'=five2ten, '<5'=under5, '>10'=over10))\n",
    "#data2 <- stack(list('<5'=under5, '5-10'=five2ten, '>10'=over10))\n",
    "\n",
    "#head(data1)\n",
    "#plot(data1$values, pch=16, col=data1$ind)\n",
    "#legend(\"topleft\", legend=levels(data1$ind), pch=16, col=unique(data1$ind))\n",
    "#(unique(data1$ind))\n",
    "\n",
    "#head(data2)\n",
    "#plot(data2$values, pch=16, col=data2$ind)\n",
    "#legend(\"topleft\", legend=levels(data2$ind), pch=16, col=unique(data2$ind))\n",
    "#(unique(data2$ind))\n",
    "\n",
    "#data2 <- data1\n",
    "#data2$ind <- factor(data2$ind, levels=c('<5', '5-10', '>10'))\n",
    "#head(data2)\n",
    "#plot(data2$values, pch=16, col=data2$ind)\n",
    "#legend(\"topleft\", legend=levels(data2$ind), pch=16, col=unique(data2$ind))\n",
    "#(unique(data2$ind))\n",
    "\n",
    "#with(data2, tapply(values, ind, mean))\n",
    "## Which is the same as:\n",
    "#tapply(data2$values, data2$ind, mean)"
   ]
  },
  {
   "cell_type": "markdown",
   "metadata": {},
   "source": [
    "<table style=\"text-align:center;\"><tr><td width=\"100\" height=\"20\" style=\"background-color:greenyellow\"></td><td width=\"100\" height=\"20\" style=\"background-color:hotpink\"></td></tr></table>"
   ]
  },
  {
   "cell_type": "markdown",
   "metadata": {},
   "source": [
    "<table width='100%'><tr>\n",
    "    <td style='background-color:red; text-align:center; color: white;'><!--Foundation<!--hr size='5' style='border-color:red; background-color:red;'--></td>\n",
    "    <td style='background-color:yellow; text-align:center;'><!--Level 1<!--hr size='5' style='border-color:yellow; background-color:yellow;'--></td>\n",
    "    <td style='background-color:orange; text-align:center;'><!--Level 2<!--hr size='5' style='border-color:orange; background-color:orange;'--></td>\n",
    "    <td style='background-color:green; text-align:center; color: white;'><!--Level 3<!--hr size='5' style='border-color:orange; background-color:orange;'--></td>\n",
    "    <td style='background-color:blue; text-align:center; color: white;'><!--Level 4<!--hr size='5' style='border-color:orange; background-color:orange;'--></td>\n",
    "    <td style='background-color:purple; text-align:center; color: white;'><!--Level 5<!--hr size='5' style='border-color:orange; background-color:orange;'--></td>\n",
    "    <td style='background-color:brown; text-align:center; color: white;'><!--Level 6<!--hr size='5' style='border-color:orange; background-color:orange;'--></td>\n",
    "    <td style='background-color:black; text-align:center; color: white;'><!--Level 7<!--hr size='5' style='border-color:orange; background-color:orange;'--></td>\n",
    "</tr></table>"
   ]
  }
 ],
 "metadata": {
  "kernelspec": {
   "display_name": "R",
   "language": "R",
   "name": "ir"
  },
  "language_info": {
   "codemirror_mode": "r",
   "file_extension": ".r",
   "mimetype": "text/x-r-source",
   "name": "R",
   "pygments_lexer": "r",
   "version": "4.0.2"
  }
 },
 "nbformat": 4,
 "nbformat_minor": 4
}
