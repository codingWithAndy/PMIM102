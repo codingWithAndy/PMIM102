{
 "cells": [
  {
   "cell_type": "markdown",
   "metadata": {},
   "source": [
    "<table width='100%'><tr>\n",
    "    <td style='background-color:red; text-align:center; color: white;'><!--Foundation<!--hr size='5' style='border-color:red; background-color:red;'--></td>\n",
    "    <td style='background-color:yellow; text-align:center;'><!--Level 1<!--hr size='5' style='border-color:yellow; background-color:yellow;'--></td>\n",
    "    <td style='background-color:orange; text-align:center;'><!--Level 2<!--hr size='5' style='border-color:orange; background-color:orange;'--></td>\n",
    "    <td style='background-color:green; text-align:center; color: white;'><!--Level 3<!--hr size='5' style='border-color:orange; background-color:orange;'--></td>\n",
    "    <td style='background-color:blue; text-align:center; color: white;'><!--Level 4<!--hr size='5' style='border-color:orange; background-color:orange;'--></td>\n",
    "    <td style='background-color:purple; text-align:center; color: white;'><!--Level 5<!--hr size='5' style='border-color:orange; background-color:orange;'--></td>\n",
    "    <td style='background-color:brown; text-align:center; color: white;'><!--Level 6<!--hr size='5' style='border-color:orange; background-color:orange;'--></td>\n",
    "    <td style='background-color:black; text-align:center; color: white;'><!--Level 7<!--hr size='5' style='border-color:orange; background-color:orange;'--></td>\n",
    "</tr></table>"
   ]
  },
  {
   "cell_type": "markdown",
   "metadata": {
    "style": "background-image: image.jpg"
   },
   "source": [
    "<table style='border-left:10px solid red;'><tr>\n",
    "    <td style='padding-left:20px;'>\n",
    "        <h2><i>Swansea University Medical School</i><br/><b>MSc Health Data Science</b></h2>\n",
    "        <h3>PMIM-102 Introduction to Scientific Computing in Healthcare</h3>\n",
    "        <h1><b>Software Installation Instructions</b></h1>\n",
    "        <h3><i>September 2020</i></h3>\n",
    "        <h3><b>To-do</b></h3>Check the installation instructions work on Windows, Linux and Mac.\n",
    "    </td>\n",
    "    <td><img height='300' width='500' src='images/cover.jpg'/></td>\n",
    "</tr></table>"
   ]
  },
  {
   "cell_type": "markdown",
   "metadata": {},
   "source": [
    "<!--hr size='5' style='border-color:red; background-color:red;'-->"
   ]
  },
  {
   "cell_type": "markdown",
   "metadata": {},
   "source": [
    "__The modules in the MSc in Health Data Science course make use of a number of packages that you may not already have installed on your computer. It would be very useful if you could install these packages before the start of the associated modules.__\n",
    "\n",
    "We will be using R for most of the work in this module. Whilst you can use R from the command line, it is greatly beneficial to use an Integrated Developent Environment such as R-Studio which will help you to organise code files and see output data and plots more easily.\n",
    "In addition, we will introduce a simple, light-weight version control (git) which will allow you to keep changes to files so that you can undo work that turns out to be not so useful, or to return to a previous or specific version of your work.\n",
    "Usefully, git can be integrated into R-Studio making your life easier and more productive.\n",
    "To work with SQL, we will be using a fairly powerful database server, PostgreSQL, which you will also need to install.\n",
    "\n",
    "We have written this guide and the first R session as a Jupyter Notebook as these are useful, iteractive pages for learning but also as they require Python and possibly Anaconda. Although we won't be using either of these in this course, there is significant functional overlap with R and they are used in many Data Science projects, particulary the more computational projects such as machine-learning and natural language processing. As you get involved in more data science projects, you will find that you usually use whatever software systems are already used in the project, the department or by your co-workers, so it is useful to have access and exposure to Python as well as R.\n",
    "\n",
    "_Please remember, however, that this course is focussed only on R and SQL, so only play with Python if you have time and are particularly interested and feel free to leave it alone if you find it confusing to learn two languages at the same time._"
   ]
  },
  {
   "cell_type": "markdown",
   "metadata": {},
   "source": [
    "## __Workspace Organisation__\n",
    "We would recommend that you create a working directory or folder for all your work in this course. For example, you could create a directory <code>HDS</code> in your User directory, or Documents or on your Desktop (or in your home directory, <code>~</code> in Linux). It would be useful to keep things together but separate. For example, create a number of subdirectories within <code>HDS</code> such as <code>Jupyter</code>, <code>R</code> etc. and to create directories for each project or section of the course and within that, place raw data, code, output in separate directories.\n",
    "\n",
    "Exactly how you do this is up to you: when we refer to a directory <code>HDS</code> use whatever directory you have set-up for that exercise.\n",
    "\n",
    "All the program files installed below will be looked-after by your operating system and can be run using icons or command-prompts as usual."
   ]
  },
  {
   "cell_type": "markdown",
   "metadata": {},
   "source": [
    "## __Jupyter Notebooks__ (and iPython)\n",
    "\n",
    "Although we don't use python directly, parts of the course will be presented through Jupyter Notebooks which provides an interactive web-page based experience.\n",
    "\n",
    "Jupyter is installed using either Anaconda or Python/Pip. Python/Pip is simpler, but Anaconda is good if you have a good enough computer (as it includes access to a lot of data science packages for Python). If you already have pip installed and would like to use this, see below.\n",
    "\n",
    "### __For Anaconda__\n",
    "\n",
    "(Installation file size for Windows ~500MB expands to 2.9GB; installation time ~15 minutes).\n",
    "\n",
    "Install Anaconda. Go to the [Anaconda download page](https://www.anaconda.com/distribution/) and download the installer suitable for your operating system (or following the instructions for Linux package managers). Jupyter Notebook is installed as part of Anaconda.\n",
    "\n",
    "For all install options, select or accept the default unless you prefer to do otherwise.\n",
    "\n",
    "### __For pip__\n",
    "\n",
    "(Python installation file size for Windows ~25MB, but then you will need to use the package manager to install Jupyter; installation time ~10 minutes).\n",
    "\n",
    "To install <code>python/pip</code> [download](https://www.python.org/downloads) the latest python (pip is included with Python) and install the appropriate installer (Python 3.7.4) for your operating system (or follow the instructions for Linux package managers). Check the tick-box to update the PATH variable so that you can use the command line easily.\n",
    "\n",
    "N.B. If you already have python 2 and python 3 installed, use either <code>pip2</code> or <code>pip3</code>\n",
    "\n",
    "Once python and pip are installed, start a command line and type:\n",
    "\n",
    "<code>pip install jupyter</code>\n",
    "\n",
    "## __Running Jupyter Notebook__\n",
    "\n",
    "If you are using Anaconda, first start an Anaconda command prompt.\n",
    "You can run the jupyter notebook by opening a command prompt in the directory you use for your notebooks and typing:\n",
    "\n",
    "<code>jupyter notebook</code>\n",
    "\n",
    "(Note that, in Windows, you can type the word <code>cmd</code> in the directory box and Windows will start a command-prompt in that directory).\n",
    "\n",
    "If you want to run JupyterLab, you will need to install either using <code>conda</code> or the GUI if you have Anaconda, or pip. Once installed, run with:\n",
    "\n",
    "<code>jupyter lab</code>\n",
    "\n",
    "Note that to run R code in Jupyter Notebooks/Lab, we will need to install the kernel. That is best done after we have installed R-Studio, so we'll leave that until later."
   ]
  },
  {
   "cell_type": "markdown",
   "metadata": {},
   "source": [
    "## __R__\n",
    "\n",
    "R is the primary data processing language used in PMIM102. You will need to install the language interpreter in order to run any R code.\n",
    "\n",
    "### Installation\n",
    "\n",
    "(Installation file size for Windows ~84MB; installation time ~5 minutes).\n",
    "\n",
    "You will need to install R. This can be done from the R project or you can use Microsoft's R Open product. We will use standard R here.\n",
    "This is available at the Comprehensive R Archive Network (CRAN), https://www.r-project.org/, or from many mirror sites. At the time of writing, R version 4.0.2 (Taking Off Again) is current (June 2020). You can download the source and compile and run for Windows, Mac and Linux, but the following options are simpler.\n",
    "\n",
    "For all install options, select or accept the default unless you prefer to do otherwise.\n",
    "\n",
    "#### Linux\n",
    "\n",
    "The best approach here is to install with your distribution's package manager, for example, `apt-get` under Ubuntu and Debian; `yum` in Red Hat, CentOS and Fedora.\n",
    "\n",
    "For Ubuntu:\n",
    "\n",
    "<code>sudo apt-get install r-base</code>\n",
    "\n",
    "Run R from the icon or using the command 'R' (caps).\n",
    "\n",
    "#### Windows\n",
    "\n",
    "However, for Windows, it is easier to download a binary installer which can be found at https://cran.r-project.org/bin/windows/base/. You should be able to just run the installer.\n",
    "\n",
    "#### Mac\n",
    "\n",
    "The same process applies for Macs, but with the installer found at https://cran.r-project.org/bin/macosx/.\n",
    "\n",
    "### Test the Installation\n",
    "\n",
    "In the R terminal window, type `print(\"Hello, world!)` and press \\[ENTER\\]. The terminal should respond with `[1] \"Hello, world!\"`."
   ]
  },
  {
   "cell_type": "markdown",
   "metadata": {},
   "source": [
    "## __R-Studio__\n",
    "\n",
    "(Installation file size for Windows ~164MB; installation time ~5 minutes).\n",
    "\n",
    "R-Studio is an integrated development environment for R programmes. It allows you to manage R files, to run ann R terminal, run console commands and to view all the data currently present in the R session.\n",
    "It is also possible to integrate other features such as _git_ version control.\n",
    "\n",
    "### Installation\n",
    "\n",
    "Download R-Studio from the [download page](https://www.rstudio.com/products/rstudio/download/#download) for Windows, Mac and Linux. Note that R-Studio 1.2 requires a 64-bit PC/R installation: if you have a 32-bit computer, you will need to install an older version (see the link on the page).\n",
    "\n",
    "For all install options, select or accept the default unless you prefer to do otherwise.\n",
    "\n",
    "#### Linux\n",
    "\n",
    "For Ubuntu, download the appropriate package from the R-Studio website and then install using <code>gdebi</code>. To install <code>gdebi</code>:\n",
    "\n",
    "<code>sudo apt-get install gdebi</code>\n",
    "\n",
    "Once installed, right-click on the R-Studio package file (.deb) and select 'Install with gdebi'.\n",
    "\n",
    "### Test the Installation\n",
    "\n",
    "Double-click on the R-Studio icon and you should see a window rather like (but likely with a different colour scheme):"
   ]
  },
  {
   "cell_type": "markdown",
   "metadata": {},
   "source": [
    "<img src=\"images/R-Studio.png\"/>"
   ]
  },
  {
   "cell_type": "markdown",
   "metadata": {},
   "source": [
    "### Install the R kernel for Jupyter\n",
    "\n",
    "The R kernel allows the Jupyter Notebook to execute R code (by default it only has a Python kernel). We can install the R kernel using an R package as follows.\n",
    "\n",
    "In the R Console, install the IRkernel (note the exact spelling):\n",
    "\n",
    "`install.packages('IRkernel')`\n",
    "\n",
    "Once this has installed, you can install the kernel (for the current user only) with:\n",
    "\n",
    "`IRkernel::installspec()`\n",
    "\n",
    "You should now be able to go back to Jupyter Notebook and create a new notebook and see the option to use R as well as the option to use Python.\n",
    "\n",
    "You may find you get an error message along the lines of,`jupyter-client has to be installed but 'jupyter kernelspec --version' exited with code 127`. This suggests that R is not finding the jupyter executables on its path. This can be remedied by adding the path (temporarily for the installspec()) by typing the following command in the terminal window (not the R console):\n",
    "\n",
    "`set path=\"c:\\dev\\python36\\Scripts\";%path%`\n",
    "\n",
    "Check the path with:\n",
    "\n",
    "`echo %path%`\n",
    "\n",
    "Or if you have bash working as your terminal:\n",
    "\n",
    "`export PATH=$PATH:/c/dev/python36/scripts` and `echo $PATH`\n",
    "\n",
    "### Install the Tidyverse\n",
    "\n",
    "We will make use of a group of packages designed to simplify exploratory data analysis called the [Tidyverse](https://www.tidyverse.org/). This includes a lot of files and so is best installed ASAP. It should simply be a matter of typing the following command in the R-Studio Console:\n",
    "\n",
    "`install.packages('tidyverse')`\n",
    "\n",
    "`library(tidyverse)` will make these libraries available."
   ]
  },
  {
   "cell_type": "markdown",
   "metadata": {},
   "source": [
    "## __Git__\n",
    "\n",
    "(Installation file size for Windows ~48MB; installation time ~5 minutes).\n",
    "\n",
    "Git is a version control system which allows you to maintain a history of changes to all your files. It is invaluable in software engineering and data science and is recommended for all situations where you might want to keep a record of changes or be able to go back to old versions.\n",
    "\n",
    "When used to manage files for a team, the use of git can become confusing, but is really straightforward when used to maintain your own file system.\n",
    "\n",
    "To install git, go to the [git install webpage](https://git-scm.com/book/en/v2/Getting-Started-Installing-Git) and follow the instructions for your operating system. The Windows installer is produced by a separate group from the same source but has the added bonus of a git bash shell which gives you a whole load of linux shell commands in Windows (which is great if you like that kind of thing).\n",
    "\n",
    "For all install options, select or accept the default unless you prefer to do otherwise. The default editor is started when you commit a file to the version control system to get a commit message. It is probably best to allow the use of git from the Windows command prompt (i.e. add to the path).\n",
    "\n",
    "### Linux\n",
    "\n",
    "For Linux, use the distribution package manager, e.g. for Ubuntu:\n",
    "\n",
    "<code>sudo apt-get install git-core</code>\n",
    "\n",
    "### Test the Installation\n",
    "\n",
    "Double-click on the git-bash icon and you should see a window rather like:"
   ]
  },
  {
   "cell_type": "markdown",
   "metadata": {},
   "source": [
    "<img src=\"images/git_bash.png\"/>"
   ]
  },
  {
   "cell_type": "markdown",
   "metadata": {},
   "source": [
    "Type <code>git help</code> (and hit return) and you should see some text giving usage and command information."
   ]
  },
  {
   "cell_type": "markdown",
   "metadata": {},
   "source": [
    "## __PostgreSQL__\n",
    "\n",
    "(Installation file size for Windows ~200MB; installation time ~10 minutes).\n",
    "\n",
    "\"PostgreSQL is the world’s most advanced open source database and the fourth most popular database. In development for more than 20 years, PostgreSQL is managed by a well-organized and highly principled and experienced open source community. It is an object-oriented database that is fully ACID compliant and highly extensible, enabling the community to add new features and capabilities as workload demands evolved.\"\n",
    "\n",
    "To install PostgreSQL (suggested version is 12.x), go to [Enterprise DB's website](https://www.enterprisedb.com/downloads/postgres-postgresql-downloads) and select the installer for your operating system. If you are runnning Linux, it is recommended that you use your package manager to install PostgreSQL.\n",
    "\n",
    "Run the installer, it will install the Microsoft C++ redistributable. Accept all the default values, make a note of the port number (usually 5432), use a password you will remember.\n",
    "\n",
    "### Test the Installation\n",
    "\n",
    "Run <code>pgAdmin</code> and explore the database manager. You may need to change part of the URL from 127.0.0.1 to localhost depending on which browser you are using.\n",
    "\n",
    "### Install the Database for the Module\n",
    "\n",
    "1. Download the gp_practice_data database (500MB).\n",
    "1. In pgAdmin, right-click on the server, \"PostgreSQL 12\" and select, \"Create -> Database...\".\n",
    "1. Create a database named gp_practice_data and leave everything else as the default.\n",
    "1. Right-click on the database you have created and select \"Restore...\".\n",
    "1. Find the file you downloaded (gp_practice_data) and select it (you may need to select 'All files' in the drop-down Format menu on the bottom-right.\n",
    "1. Go to the tab, \"Restore options\" and under \"Do Not Save\", set \"Owner\" and \"Privilege\" to Yes.\n",
    "1. Start the restore --- the restore job may take several minutes.\n",
    "1. It will likely finish with an error. I think this is due to an incompatibility issue, but if you close the message and proceed as below you should see some data.\n",
    "\n",
    "### Check the gp_practice_data is available\n",
    "\n",
    "1. From pgAdmin4, click on the database, \"gp_practice_data\".\n",
    "1. In the Tools menu, select \"Query Tool\".\n",
    "1. Type in `select * from qof_indicator limit 10` and press `F5`. This should return a sample of data from the table.\n",
    "1. You can see what other tables are available within the database tree by going into \"Schemas -> Tables\" and writing a similar statement to select data samples from them."
   ]
  },
  {
   "cell_type": "markdown",
   "metadata": {},
   "source": [
    "## __\\o/ Congratulations! \\o/__\n",
    "\n",
    "You should now have a functioning data science platform that you can explore in preparation for the course.\n",
    "\n",
    "Enjoy :)"
   ]
  },
  {
   "cell_type": "markdown",
   "metadata": {},
   "source": [
    "<table width='100%'><tr>\n",
    "    <td style='background-color:red; text-align:center; color: white;'><!--Foundation<!--hr size='5' style='border-color:red; background-color:red;'--></td>\n",
    "    <td style='background-color:yellow; text-align:center;'><!--Level 1<!--hr size='5' style='border-color:yellow; background-color:yellow;'--></td>\n",
    "    <td style='background-color:orange; text-align:center;'><!--Level 2<!--hr size='5' style='border-color:orange; background-color:orange;'--></td>\n",
    "    <td style='background-color:green; text-align:center; color: white;'><!--Level 3<!--hr size='5' style='border-color:orange; background-color:orange;'--></td>\n",
    "    <td style='background-color:blue; text-align:center; color: white;'><!--Level 4<!--hr size='5' style='border-color:orange; background-color:orange;'--></td>\n",
    "    <td style='background-color:purple; text-align:center; color: white;'><!--Level 5<!--hr size='5' style='border-color:orange; background-color:orange;'--></td>\n",
    "    <td style='background-color:brown; text-align:center; color: white;'><!--Level 6<!--hr size='5' style='border-color:orange; background-color:orange;'--></td>\n",
    "    <td style='background-color:black; text-align:center; color: white;'><!--Level 7<!--hr size='5' style='border-color:orange; background-color:orange;'--></td>\n",
    "</tr></table>"
   ]
  }
 ],
 "metadata": {
  "kernelspec": {
   "display_name": "R",
   "language": "R",
   "name": "ir"
  },
  "language_info": {
   "codemirror_mode": "r",
   "file_extension": ".r",
   "mimetype": "text/x-r-source",
   "name": "R",
   "pygments_lexer": "r",
   "version": "4.0.2"
  }
 },
 "nbformat": 4,
 "nbformat_minor": 4
}
