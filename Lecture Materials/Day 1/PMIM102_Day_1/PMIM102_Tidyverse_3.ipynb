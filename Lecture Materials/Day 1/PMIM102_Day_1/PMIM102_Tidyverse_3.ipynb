{
 "cells": [
  {
   "cell_type": "markdown",
   "metadata": {},
   "source": [
    "<table width='100%'><tr>\n",
    "    <td style='background-color:red; text-align:center; color: white;'><!--Foundation<!--hr size='5' style='border-color:red; background-color:red;'--></td>\n",
    "    <td style='background-color:yellow; text-align:center;'><!--Level 1<!--hr size='5' style='border-color:yellow; background-color:yellow;'--></td>\n",
    "    <td style='background-color:orange; text-align:center;'><!--Level 2<!--hr size='5' style='border-color:orange; background-color:orange;'--></td>\n",
    "    <td style='background-color:green; text-align:center; color: white;'><!--Level 3<!--hr size='5' style='border-color:orange; background-color:orange;'--></td>\n",
    "    <td style='background-color:blue; text-align:center; color: white;'><!--Level 4<!--hr size='5' style='border-color:orange; background-color:orange;'--></td>\n",
    "    <td style='background-color:purple; text-align:center; color: white;'><!--Level 5<!--hr size='5' style='border-color:orange; background-color:orange;'--></td>\n",
    "    <td style='background-color:brown; text-align:center; color: white;'><!--Level 6<!--hr size='5' style='border-color:orange; background-color:orange;'--></td>\n",
    "    <td style='background-color:black; text-align:center; color: white;'><!--Level 7<!--hr size='5' style='border-color:orange; background-color:orange;'--></td>\n",
    "</tr></table>"
   ]
  },
  {
   "cell_type": "markdown",
   "metadata": {},
   "source": [
    "<table style='border-left:10px solid orange;'><tr>\n",
    "    <td style='padding-left:20px;'>\n",
    "        <h2><i>Swansea University Medical School</i><br/><b>MSc Health Data Science</b></h2>\n",
    "        <h3>PMIM-102 Introduction to Scientific Computing in Healthcare</h3>\n",
    "        <h1><b>Introduction to Programming in R</b></h1>\n",
    "        <h2><b>3. The Tidyverse</b></h2>\n",
    "        <h2><i>Part 3: Transforming the data.</i></h2>\n",
    "        <h3><i>September 2020</i></h3>\n",
    "        <h3><b>To-do</b></h3>\n",
    "        <ul>\n",
    "            <li>Find a nice join example.</li>\n",
    "        </ul>\n",
    "    </td>\n",
    "    <td><img height='300' width='500' src='images/cover.jpg'/></td>\n",
    "</tr></table>"
   ]
  },
  {
   "cell_type": "markdown",
   "metadata": {},
   "source": [
    "## __Aim__: Use the tools available in R to manipulate tables of data.\n",
    "\n",
    "The aim of this session is to concentrate on the core activities in working with large datasets: moving, cleaning and transforming table data to facilitate analyses. Whilst this is possible using base-R, the facilities provided by the libraries in the __Tidyverse__ make it considerably __easier__ and the resulting code __more readable__.\n",
    "\n",
    "### __A map of where we're going__\n",
    "\n",
    "1. <b>Introduction</b> - What is the process, the problems with standard R and the structure of 'tidy' data.\n",
    "\n",
    "1. <b>Acquiring data</b> - Getting data into R from files (<b>readr</b>).\n",
    "\n",
    "1. <b>Tidying the data</b> - Handling missing data and reshaping the tables (<b>tidyr</b>).\n",
    "\n",
    "1. <div style=\"background-color:yellow;\"><b>Transforming the data</b> - Selecting and converting the data ready to analyse (<b>dplyr</b>).</div>\n",
    "\n",
    "1. <b>Working with specific data types in tidyverse</b>: strings (<b>stringr</b>), dates (<b>lubridate</b>), factors (<b>forcats</b>).\n",
    "\n",
    "1. <b>Plotting &amp; Data visualisation</b> - beyond the simple R plot etc. (<b>ggplot2</b>).\n",
    "\n",
    "1. <b>Extras</b> - Things worth knowing of so that you can use them if you ever need them.\n",
    " * Applying functions and working with lists (purrr).\n",
    " * Tidy evaluation (rlang).\n",
    " * Communicating your results with a dynamic, R-based website (shiny)."
   ]
  },
  {
   "cell_type": "markdown",
   "metadata": {},
   "source": [
    "## __Load the Tidyverse__\n",
    "\n",
    "The first thing to do is make sure the library is loaded. If you have not already installed it, do so not using the <code>install.packages()</code> function."
   ]
  },
  {
   "cell_type": "code",
   "execution_count": 1,
   "metadata": {},
   "outputs": [],
   "source": [
    "## install.packages('tidyverse')\n",
    "#library(tidyverse)"
   ]
  },
  {
   "cell_type": "markdown",
   "metadata": {},
   "source": [
    "And load in the pregnancy data to play with."
   ]
  },
  {
   "cell_type": "code",
   "execution_count": 2,
   "metadata": {},
   "outputs": [],
   "source": [
    "## library(readr)\n",
    "#pregnancy <- read_csv(file=\"data/pregnancy.csv\")\n",
    "#head(pregnancy)"
   ]
  },
  {
   "cell_type": "markdown",
   "metadata": {},
   "source": [
    "## __Transforming the data (dplyr)__\n",
    "\n",
    "These functions are the workhorse of the Tidyverse and are indispensible. They fall into a number of categories:\n",
    "* Selecting/deselecting columns (variables)\n",
    "* Selecting/deselecting rows (cases)\n",
    "* Manipulating and/or creating new columns\n",
    "* Joining data frames together\n",
    "\n",
    "You often find that you base or platform table/data frame is too large or unwieldy to work with and you may find that you need to extract the appropriate data to a separate data frame for processing and then need to recombine the results back into your original data frame.\n",
    "\n",
    "<img src=\"images/tidyverse_process.png\"/>"
   ]
  },
  {
   "cell_type": "markdown",
   "metadata": {},
   "source": [
    "## _Choosing columns / Extracting variables_\n",
    "\n",
    "You can extract or remove specific variables from a table using `select()`. The first parameter you specify is the data frame containing the columns and the remaining parameters are the columns."
   ]
  },
  {
   "cell_type": "code",
   "execution_count": 3,
   "metadata": {},
   "outputs": [],
   "source": [
    "#df <- select(pregnancy, PARENT_ID, , DATE_OF_BIRTH, LANGUAGE)\n",
    "#print(df)"
   ]
  },
  {
   "cell_type": "markdown",
   "metadata": {},
   "source": [
    "You can remove a column by prefacing its name with a minus sign:"
   ]
  },
  {
   "cell_type": "code",
   "execution_count": 4,
   "metadata": {},
   "outputs": [],
   "source": [
    "#df <- select(df, -DATE_OF_BIRTH)\n",
    "#head(df)"
   ]
  },
  {
   "cell_type": "markdown",
   "metadata": {},
   "source": [
    "You can also select columns using some helper functions. The following helpers are available:\n",
    "* contains(match)\n",
    "* starts_with(match)\n",
    "* ends_with(match)\n",
    "* matches(match)\n",
    "* num_range(prefix, range)\n",
    "* one_of(...)\n"
   ]
  },
  {
   "cell_type": "code",
   "execution_count": 5,
   "metadata": {},
   "outputs": [],
   "source": [
    "#df <- select(pregnancy, PARENT_ID, contains('LANGUAGE'))\n",
    "#print(df)"
   ]
  },
  {
   "cell_type": "markdown",
   "metadata": {},
   "source": [
    "And there's a `select_if()` function that allows you to conditionally select columns. You can, of course, write your own function to implement any condition you like to decide if a columns should be included."
   ]
  },
  {
   "cell_type": "code",
   "execution_count": 6,
   "metadata": {},
   "outputs": [],
   "source": [
    "#df <- select_if(df, is.character)\n",
    "#print(df)"
   ]
  },
  {
   "cell_type": "markdown",
   "metadata": {},
   "source": [
    "### _Pipes_ (magrittr)\n",
    "\n",
    "The library `magrittr` provides us with 'pipes'. A pipe (written as `%>%`) is an operator that doesn't do anything to the data but slightly changes the way we use functions. It allows us to pass the results of one function call as the first parameter of a second. The Tidyverse has been designed such that the first parameter is always the data frame upon which the function operates.\n",
    "\n",
    "So, if we want to select a column from a data frame, instead of:\n",
    "\n",
    "`df <- select(pregnancy, PARENT_ID, contains('LANGUAGE'))`\n",
    "\n",
    "we can use:"
   ]
  },
  {
   "cell_type": "code",
   "execution_count": 7,
   "metadata": {},
   "outputs": [],
   "source": [
    "#df <- pregnancy %>% select(PARENT_ID, contains('LANGUAGE'))"
   ]
  },
  {
   "cell_type": "markdown",
   "metadata": {},
   "source": [
    "Which might not seem amazing yet, but then we can keep adding functions to the end of the list with more pipes `%>%`:"
   ]
  },
  {
   "cell_type": "code",
   "execution_count": 8,
   "metadata": {},
   "outputs": [],
   "source": [
    "#pregnancy %>% select(PARENT_ID, contains('LANGUAGE')) %>% head() %>% print()"
   ]
  },
  {
   "cell_type": "markdown",
   "metadata": {},
   "source": [
    "As we add more `dplyr` functions to our repertoire, you'll find that this becomes truly useful. The result is an incredible increase in the readability of the code.\n",
    "\n",
    "Instead of (looking ahead a bit at some of the functions we're about to cover):"
   ]
  },
  {
   "cell_type": "raw",
   "metadata": {},
   "source": [
    "result <- summarise(group_by(filter(select(df, name, age, status), age > 18), status), n_distinct())\n",
    "                                    |----- the select ---------|\n",
    "                             |------------ the filter --------------------|\n",
    "                    |--------------------- the grouping ---------------------------|\n",
    "          |------------------------------- the summarise ----------------------------------------|"
   ]
  },
  {
   "cell_type": "markdown",
   "metadata": {},
   "source": [
    "we can write:"
   ]
  },
  {
   "cell_type": "raw",
   "metadata": {},
   "source": [
    "result <- df %>% select(name, age, status) %>% filter(age > 18) %>% group_by(status) %>% summarise(n_distinct())\n",
    "                 |---------select--------|     |----filter----|     |---grouping---|     |-----summarise-------|"
   ]
  },
  {
   "cell_type": "markdown",
   "metadata": {},
   "source": [
    "And R will understand when you let this code run over multiple lines as long as you leave the pipe at the end of the line (and this is also useful for adding comments to the code):"
   ]
  },
  {
   "cell_type": "raw",
   "metadata": {},
   "source": [
    "result <- df %>%\n",
    "    # Select important information for adults.\n",
    "    select(name, age, status) %>%     # Just keep the basic data.\n",
    "    filter(age > 18) %>%\n",
    "    # Group by status.\n",
    "    group_by(status) %>%\n",
    "    summarise(n_distinct())"
   ]
  },
  {
   "cell_type": "markdown",
   "metadata": {},
   "source": [
    "## _Summarising the data_\n",
    "\n",
    "dplyr allows us to summarise data using `summarise(function)` which will apply the function to the table and create new table with the summary data. There are other functions available:\n",
    "* quantile() --- get the nth quantile\n",
    "* min()/max() --- minimum and maximum values\n",
    "* IQR() --- interquartile range\n",
    "* sd() --- standard deviation\n",
    "* var() --- variance\n",
    "* first() --- first value\n",
    "* last() --- last value\n",
    "* nth() --- nth value\n",
    "\n",
    "`summarise(n())` is the same as `count()`.\n",
    "\n",
    "N.B. We had to convert the AGE column to an integer in the read_csv call via the cols function. To save you having to go back to the start and doing that, you could use the `as.numeric()` function to convert AGE from a character to a number which `mean()` will understand, or, do that to column in the table."
   ]
  },
  {
   "cell_type": "code",
   "execution_count": 9,
   "metadata": {},
   "outputs": [],
   "source": [
    "#library(dplyr)\n",
    "#pregnancy %>% summarise(n())\n",
    "#pregnancy %>% summarise(mean(AGE, na.rm=TRUE))\n",
    "#pregnancy %>% summarise(mean(as.numeric(AGE), na.rm=TRUE))\n",
    "#pregnancy <- pregnancy %>% mutate(AGE=as.numeric(AGE))     # See later for a discussion of 'mutate()'.\n",
    "#pregnancy %>% summarise(median(as.numeric(AGE), na.rm=TRUE))\n",
    "#pregnancy %>% summarise(quantile(as.numeric(AGE), 0.75, na.rm=TRUE))\n",
    "#pregnancy %>% summarise(nth(as.numeric(AGE), 50))"
   ]
  },
  {
   "cell_type": "markdown",
   "metadata": {},
   "source": [
    "With logicals, `mean()` gives the proportion TRUE and `sum()`, the number TRUE (0 = FALSE, everything else = TRUE). For this reason many people will use '1' and '0' as indicators in tables for binary / TRUE and FALSE data."
   ]
  },
  {
   "cell_type": "code",
   "execution_count": 10,
   "metadata": {},
   "outputs": [],
   "source": [
    "#pregnancy %>% filter(!is.na(ALCOHOL)) %>% summarise(mean(ALCOHOL!=0))\n",
    "#pregnancy %>% filter(!is.na(ALCOHOL)) %>% summarise(sum(ALCOHOL!=0))\n",
    "#pregnancy %>% filter(!is.na(ALCOHOL)) %>% summarise(sum(ALCOHOL==0))"
   ]
  },
  {
   "cell_type": "markdown",
   "metadata": {},
   "source": [
    "The summarise function can be applied to all columns with `summarise_all()`, to more than one column with `summarise_at()` or to types of column with `summarise_if()`:"
   ]
  },
  {
   "cell_type": "code",
   "execution_count": 11,
   "metadata": {},
   "outputs": [],
   "source": [
    "#pregnancy %>% filter(!is.na(AGE)&!is.na(SALARY)) %>% summarise_all(list('mean')) %>% select(AGE, SALARY)\n",
    "#pregnancy %>% filter(!is.na(AGE)&!is.na(SALARY)) %>% summarise_at(c('AGE', 'SALARY'), mean, na.rm = TRUE)\n",
    "#pregnancy %>% filter(!is.na(AGE)&!is.na(SALARY)) %>% summarise_if(is.numeric, mean, na.rm = TRUE)"
   ]
  },
  {
   "cell_type": "markdown",
   "metadata": {},
   "source": [
    "Frequently, we use `summarise()` in conjunction with `group_by()` to provide information about groups of cases defined by the value of a categorical variable. When we have finished with the grouping, we can use ungroup() to revert and continue with our processing on the whole table."
   ]
  },
  {
   "cell_type": "code",
   "execution_count": 12,
   "metadata": {},
   "outputs": [],
   "source": [
    "#pregnancy %>% filter(!is.na(AGE)&!is.na(SALARY)) %>% group_by(EDUCATION) %>% summarise(n())\n",
    "#pregnancy %>% filter(!is.na(AGE)&!is.na(SALARY)) %>% group_by(EDUCATION) %>% summarise_if(is.numeric, mean, na.rm = TRUE)"
   ]
  },
  {
   "cell_type": "markdown",
   "metadata": {},
   "source": [
    "If you want to order the data by cases, use `arrange()` and `desc()` to reverse the default ascending order."
   ]
  },
  {
   "cell_type": "code",
   "execution_count": 13,
   "metadata": {},
   "outputs": [],
   "source": [
    "#pregnancy %>% arrange(DATE_OF_BIRTH) %>% head()\n",
    "#pregnancy %>% arrange(desc(DATE_OF_BIRTH)) %>% head()"
   ]
  },
  {
   "cell_type": "markdown",
   "metadata": {},
   "source": [
    " Note here that we are ordering a character field not a date field. We need to convert to a date (and that means we need to specify a date format) to get the correct date-wise ordering."
   ]
  },
  {
   "cell_type": "code",
   "execution_count": 14,
   "metadata": {},
   "outputs": [],
   "source": [
    "#pregnancy %>% arrange(desc(as.Date(DATE_OF_BIRTH, format='%d/%m/%Y'))) %>% head()"
   ]
  },
  {
   "cell_type": "markdown",
   "metadata": {},
   "source": [
    "## _Extracting and sorting cases_\n",
    "\n",
    "One of the most common extraction calls in dplyr is `filter()` which allows you to apply a conditional expression to the values in a column and select only those which result in a TRUE value. The following operators are commonly used with `filter()`:\n",
    "\n",
    "`<`, `>`, `<=`, `>=`, `is.na()`, `!`, `%in%`, `|`, `&`, `xor()`\n",
    "\n",
    "Other functions for selecting cases are:\n",
    "* distinct() --- remove any rows with a duplicate value\n",
    "* sample_n() --- sample n cases\n",
    "* sample_frac() --- sample a fraction of the cases\n",
    "* slice() --- select the specified rows\n",
    "* top_n() --- select and sort the top n rows (of each group if grouped)\n",
    "\n",
    "The cases can be sorted using `arrange()` with `desc()` to reverse the order.\n",
    "\n",
    "New cases (rows) can be added using `add_row()`."
   ]
  },
  {
   "cell_type": "code",
   "execution_count": 15,
   "metadata": {},
   "outputs": [],
   "source": [
    "#num_cases <- (pregnancy %>% count())[[1]]\n",
    "#num_parents <- (pregnancy %>% distinct(PARENT_ID) %>% count())[[1]]\n",
    "#cat('No of cases = ', num_cases, ', no of distinct parents = ', num_parents, '.', sep='')\n",
    "#pregnancy %>% sample_n(10)\n",
    "#pregnancy %>% sample_frac(0.01)\n",
    "#pregnancy %>% top_n(1, LANGUAGE) %>% select(PARENT_ID, EDUCATION, LANGUAGE) %>% arrange(EDUCATION, PARENT_ID)"
   ]
  },
  {
   "cell_type": "markdown",
   "metadata": {},
   "source": [
    "## _Generating new variables_\n",
    "\n",
    "Taking one or more existing variables and generating new ones is the the basis of most analyses. We use `mutate()` to create a new column (at the right-hand end of the table) and `transmute()` to create a new table. Both functions take an expression combining the values of existing columns to generate the new data."
   ]
  },
  {
   "cell_type": "code",
   "execution_count": 16,
   "metadata": {},
   "outputs": [],
   "source": [
    "#pregnancy <- pregnancy %>% mutate(SALARY=as.numeric(SALARY), AGE=as.numeric(AGE))\n",
    "#pregnancy %>% mutate(SALARY_PER_AGE=SALARY/AGE) %>% head()\n",
    "#pregnancy %>% mutate(SALARY_PER_AGE=SALARY/AGE) %>% select(PARENT_ID, INFANT_ID, SALARY_PER_AGE) %>% head()\n",
    "#pregnancy %>% transmute(PARENT_ID, SALARY_PER_AGE=SALARY/AGE) %>% head()"
   ]
  },
  {
   "cell_type": "markdown",
   "metadata": {},
   "source": [
    "There are many functions you can use in creating the expression for the (trans)mutation:\n",
    "\n",
    "|function|Description|\n",
    "|---|---|\n",
    "| _Offsets_ | These are useful for checking changes between cases |\n",
    "| lag() | Offset the elements by +1 |\n",
    "| lead() | Offset the elements by -1 |\n",
    "| _Cumulatives_ | |\n",
    "| cummall(), cumany()| Do as their name suggests |\n",
    "| cummax(), cummin() | |\n",
    "| cummean(), cummprod() | |\n",
    "| _Rankings_ | |\n",
    "| cume_dist() | Proportion of all values <= |\n",
    "| dense_rank() | rank with ties = min, no gaps |\n",
    "| min_rank() | rank with ties = min |\n",
    "| ntile() | bins into n bins |\n",
    "| percent_rank() | min_rank scaled to \\[0,1\\] |\n",
    "| row_number() | |\n",
    "| _Maths_ | |\n",
    "| arithmetic, logical operators and functions | |\n",
    "| _Control_ | |\n",
    "| between(left, right) | between or equal to left and right |\n",
    "| if_else(condition, iftrue, iffalse) | element-wise check |\n",
    "| ifelse() | can be used here and has slightly different behaviour |\n",
    "| case_when() | multi-case if_else |\n",
    "| na_if() | replace specific values with NA |\n",
    "| pmax(), pmin() | element-wise max and min |\n",
    "| recode() | vectorised switch |\n",
    "| recode_factor() | vectorised switch for factors |"
   ]
  },
  {
   "cell_type": "code",
   "execution_count": 17,
   "metadata": {},
   "outputs": [],
   "source": [
    "#pregnancy %>% select(PARENT_ID, AGE) %>% filter(!is.na(AGE)) %>% head()\n",
    "#pregnancy %>% transmute(PARENT_ID, SEPARATION=ifelse(PARENT_ID==lag(PARENT_ID), as.integer(AGE-lag(AGE)), NA)) %>% head()\n",
    "#pregnancy %>% transmute(PARENT_ID, SEPARATION=ifelse(PARENT_ID==lead(PARENT_ID), as.integer(AGE-lead(AGE)), NA)) %>% head()\n",
    "#pregnancy %>% transmute(PARENT_ID, RANK=min_rank(PARENT_ID)) %>% arrange(RANK) %>% filter(PARENT_ID!=RANK) %>% head()"
   ]
  },
  {
   "cell_type": "markdown",
   "metadata": {},
   "source": [
    "There are several additional `mutate` functions to simplify processing:\n",
    "\n",
    "* `mutate_all` --- apply the specified functions to all columns. Specify the functions to be used in a list(name-subscript=function) e.g. `list(Logged=log)`.\n",
    "* `mutate_at` --- apply the specified functions to the specified columns/variables. Use `funs()` as above and `vars()` e.g. `vars(PARENT_ID)` to select variables.\n",
    "* `mutate_if` --- apply functions to variables of a specified type, e.g. `mutate_if(pregnancy, is.numeric, funs(log(.))`\n",
    "\n",
    "You can also use other functions to achieve similar goals, such as `add_column()` and `rename()`."
   ]
  },
  {
   "cell_type": "code",
   "execution_count": 18,
   "metadata": {},
   "outputs": [],
   "source": [
    "#pregnancy %>% mutate_if(is.numeric, list(Logged=log)) %>% select_if(is.numeric) %>% head()"
   ]
  },
  {
   "cell_type": "markdown",
   "metadata": {},
   "source": [
    "## _Bringing the Data Back Together - Combining Tables_\n",
    "\n",
    "A very useful mechanism is to be able to process data in a smaller table and then recombine with the original table or a results table once the analysis is complete. To do this we need to be able to select the data we want (see `select` and `transmute`, above), and put them back together - for which we use the mutating joins and filtering joins.\n",
    "\n",
    "In their simplest forms you can tack two data frames together using `bind_cols()` and `bind_rows()`. In both cases, you need to ensure that the two section exactly correspond - same number of rows for bind_cols() and columns for bind_rows() and that the rows and columns respectively are in the same order.\n",
    "\n",
    "There are similar functions in base-R, `rbind()` and `cbind()`.\n",
    "\n",
    "A more flexible option is provided by the `joins`. These are very like (if not identical to) joins in SQL. Use the `by=c('name', 'name')` parameter to specify the variables to match on or to specify which columns to match if they are different: `by=c('name-in-x' = 'name-in-y')`.\n",
    "\n",
    "If a variable exists in both tables, and is not used for the matching, R will produce two variables one with a `.x` and one with a `.y`. You can specify alternatives using the `suffix` parameter (`suffix=c('-1', '-2')`).\n",
    "\n",
    "| Join | Description |\n",
    "|---|---|\n",
    "| _Mutating Joins_ | |\n",
    "| left_join() | Join matching values from y to x |\n",
    "| right_join() | Join matching values from x to y |\n",
    "| inner_join() | Join data keeping only the rows with matches |\n",
    "| full_join() | Join all data, all rows, all values |\n",
    "| _Filtering Joins_ | |\n",
    "| semi_join() | Return the rows in x that have a match in y. |\n",
    "| anti_join() | Return the rows in x that don't have a match in y. |\n",
    "\n",
    "Be very careful with joins that you check the resulting number of rows is what you expect it to be and that you haven't just introduced duplicates."
   ]
  },
  {
   "cell_type": "code",
   "execution_count": 19,
   "metadata": {},
   "outputs": [],
   "source": [
    "#table1 <- pregnancy %>% select(PARENT_ID, contains('DOB')) %>% filter(!is.na(DOBCHILD4))\n",
    "#table1 %>% distinct(PARENT_ID) %>% count()\n",
    "#table2 <- pregnancy %>% select(PARENT_ID, contains('LANGUAGE'))\n",
    "#table2 %>% distinct(PARENT_ID) %>% count()\n",
    "#table3 <- table1 %>% left_join(table2, by='PARENT_ID')\n",
    "#table3 %>% head()"
   ]
  },
  {
   "cell_type": "markdown",
   "metadata": {},
   "source": [
    "## __Group Exercise__: Process the `pregnancy` dataset.\n",
    "Consider the data, what do we want to do?"
   ]
  },
  {
   "cell_type": "markdown",
   "metadata": {},
   "source": [
    "<table style=\"text-align:center;\"><tr><td width=\"100\" height=\"20\" style=\"background-color:greenyellow\"></td><td width=\"100\" height=\"20\" style=\"background-color:hotpink\"></td></tr></table>"
   ]
  },
  {
   "cell_type": "markdown",
   "metadata": {},
   "source": [
    "<table width='100%'><tr>\n",
    "    <td style='background-color:red; text-align:center; color: white;'><!--Foundation<!--hr size='5' style='border-color:red; background-color:red;'--></td>\n",
    "    <td style='background-color:yellow; text-align:center;'><!--Level 1<!--hr size='5' style='border-color:yellow; background-color:yellow;'--></td>\n",
    "    <td style='background-color:orange; text-align:center;'><!--Level 2<!--hr size='5' style='border-color:orange; background-color:orange;'--></td>\n",
    "    <td style='background-color:green; text-align:center; color: white;'><!--Level 3<!--hr size='5' style='border-color:orange; background-color:orange;'--></td>\n",
    "    <td style='background-color:blue; text-align:center; color: white;'><!--Level 4<!--hr size='5' style='border-color:orange; background-color:orange;'--></td>\n",
    "    <td style='background-color:purple; text-align:center; color: white;'><!--Level 5<!--hr size='5' style='border-color:orange; background-color:orange;'--></td>\n",
    "    <td style='background-color:brown; text-align:center; color: white;'><!--Level 6<!--hr size='5' style='border-color:orange; background-color:orange;'--></td>\n",
    "    <td style='background-color:black; text-align:center; color: white;'><!--Level 7<!--hr size='5' style='border-color:orange; background-color:orange;'--></td>\n",
    "</tr></table>"
   ]
  }
 ],
 "metadata": {
  "kernelspec": {
   "display_name": "R",
   "language": "R",
   "name": "ir"
  },
  "language_info": {
   "codemirror_mode": "r",
   "file_extension": ".r",
   "mimetype": "text/x-r-source",
   "name": "R",
   "pygments_lexer": "r",
   "version": "4.0.2"
  }
 },
 "nbformat": 4,
 "nbformat_minor": 4
}
