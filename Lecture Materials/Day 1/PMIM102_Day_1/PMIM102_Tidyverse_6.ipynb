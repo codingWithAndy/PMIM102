{
 "cells": [
  {
   "cell_type": "markdown",
   "metadata": {},
   "source": [
    "<table width='100%'><tr>\n",
    "    <td style='background-color:red; text-align:center; color: white;'><!--Foundation<!--hr size='5' style='border-color:red; background-color:red;'--></td>\n",
    "    <td style='background-color:yellow; text-align:center;'><!--Level 1<!--hr size='5' style='border-color:yellow; background-color:yellow;'--></td>\n",
    "    <td style='background-color:orange; text-align:center;'><!--Level 2<!--hr size='5' style='border-color:orange; background-color:orange;'--></td>\n",
    "    <td style='background-color:green; text-align:center; color: white;'><!--Level 3<!--hr size='5' style='border-color:orange; background-color:orange;'--></td>\n",
    "    <td style='background-color:blue; text-align:center; color: white;'><!--Level 4<!--hr size='5' style='border-color:orange; background-color:orange;'--></td>\n",
    "    <td style='background-color:purple; text-align:center; color: white;'><!--Level 5<!--hr size='5' style='border-color:orange; background-color:orange;'--></td>\n",
    "    <td style='background-color:brown; text-align:center; color: white;'><!--Level 6<!--hr size='5' style='border-color:orange; background-color:orange;'--></td>\n",
    "    <td style='background-color:black; text-align:center; color: white;'><!--Level 7<!--hr size='5' style='border-color:orange; background-color:orange;'--></td>\n",
    "</tr></table>"
   ]
  },
  {
   "cell_type": "markdown",
   "metadata": {},
   "source": [
    "<table style='border-left:10px solid orange;'><tr>\n",
    "    <td style='padding-left:20px;'>\n",
    "        <h2><i>Swansea University Medical School</i><br/><b>MSc Health Data Science</b></h2>\n",
    "        <h3>PMIM-102 Introduction to Scientific Computing in Healthcare</h3>\n",
    "        <h1><b>Introduction to Programming in R</b></h1>\n",
    "        <h2><b>3. The Tidyverse</b></h2>\n",
    "        <h2><i>Part 6: Advanced features of the Tidyverse.</i></h2>\n",
    "        <h3><i>September 2020</i></h3>\n",
    "        <h3><b>To-do</b></h3>\n",
    "        <ul>\n",
    "            <li>Pad out the shiny section.</li>\n",
    "        </ul>\n",
    "    </td>\n",
    "    <td><img height='300' width='500' src='images/cover.jpg'/></td>\n",
    "</tr></table>"
   ]
  },
  {
   "cell_type": "markdown",
   "metadata": {},
   "source": [
    "## __Aim__: Use the tools available in R to manipulate tables of data.\n",
    "\n",
    "The aim of this session is to concentrate on the core activities in working with large datasets: moving, cleaning and transforming table data to facilitate analyses. Whilst this is possible using base-R, the facilities provided by the libraries in the __Tidyverse__ make it considerably __easier__ and the resulting code __more readable__.\n",
    "\n",
    "### __A map of where we're going__\n",
    "\n",
    "1. <b>Introduction</b> - What is the process, the problems with standard R and the structure of 'tidy' data.\n",
    "\n",
    "1. <b>Acquiring data</b> - Getting data into R from files (<b>readr</b>).\n",
    "\n",
    "1. <b>Tidying the data</b> - Handling missing data and reshaping the tables (<b>tidyr</b>).\n",
    "\n",
    "1. <b>Transforming the data</b> - Selecting and converting the data ready to analyse (<b>dplyr</b>).\n",
    "\n",
    "1. <b>Working with specific data types in tidyverse</b>: strings (<b>stringr</b>), dates (<b>lubridate</b>), factors (<b>forcats</b>).\n",
    "\n",
    "1. <b>Plotting &amp; Data visualisation</b> - beyond the simple R plot etc. (<b>ggplot2</b>).\n",
    "\n",
    "1. <div style=\"background-color:yellow;\"><b>Extras</b> - Things worth knowing of so that you can use them if you ever need them.\n",
    "    <ul>\n",
    "        <li>Applying functions and working with lists (purrr).</li>\n",
    "        <li>Tidy evaluation (rlang).</li>\n",
    "        <li>Communicating your results with a dynamic, R-based website (shiny).</li></ul></div>"
   ]
  },
  {
   "cell_type": "markdown",
   "metadata": {},
   "source": [
    "## __Load the Tidyverse__\n",
    "\n",
    "The first thing to do is make sure the library is loaded. If you have not already installed it, do so not using the <code>install.packages()</code> function."
   ]
  },
  {
   "cell_type": "code",
   "execution_count": 1,
   "metadata": {},
   "outputs": [],
   "source": [
    "## install.packages('tidyverse')\n",
    "#library(tidyverse)"
   ]
  },
  {
   "cell_type": "markdown",
   "metadata": {},
   "source": [
    "## __Some Advanced Features of R for Data Science__\n",
    "\n",
    "There are many more advanced features of R. rlang and object oriented programming amonst them. However, many of these are fairly obscure and you may never come across the need for them. They are described in detail in [Advanced R](http://adv-r.had.co.nz)."
   ]
  },
  {
   "cell_type": "markdown",
   "metadata": {},
   "source": [
    "## __Applying functions and working with _lists_ (purrr)__\n",
    "\n",
    "[See the purrr cheatsheet.](https://github.com/rstudio/cheatsheets/blob/master/purrr.pdf)\n",
    "\n",
    "If you find you are working with lists, the `purrr` library provides a large number of utilities to help with organising the data and applying functions to a list, a series of lists and applying a list of functions to a series of lists.\n",
    "\n",
    "You can also reduce lists by applying a function to the first two lists, then that result and the next list and then that result and the next list and so on.\n",
    "\n",
    "It is also possible to work with nested data where a data cell contains an entire table.\n",
    "\n",
    "For further information, see the cheat sheet and [R for Data Science](http://adv-r.had.co.nz)."
   ]
  },
  {
   "cell_type": "markdown",
   "metadata": {},
   "source": [
    "## __Tidy evaluation (rlang)__\n",
    "\n",
    "Occasionally you may want to write some code that you want to access some names (e.g. columns) but you want the user to be able to specify the names (or, indeed a more complex expression). More generally you may want to combine code you are writing with code your user may write later.\n",
    "\n",
    "`rlang` provide various facilities to help with this under the heading 'quasiquotation' (see Ch.19 in Advanced R).\n",
    "\n",
    "An expression is an object that contains the quoted code but doesn't evaluate it. A quosure is similar but also contains the expression's environment (refer to the documentation for this). If we try to pass an expression to a function, R will evaluate the expression and pass the result to the call. If we want the evaluation to happen in the calling function, we need to create a symbol or a quosure and pass that to the function.\n",
    "\n",
    "Once we have passed the expression to the function, we need to evaluate (or unquote) the expression when we need to use it. There are three symbols used for this:\n",
    "* !! (unquote or bang bang) which evaluates the following symbol e.g. log(!!a + b) will replace the symbol 'a' with the evaluated expr() it contains. So if we have x <- expr(pi^2), then log(!!x + e) will become log(pi^2 + e)\n",
    "* !!! (unquote splice or bang bang bang) evaluates a list and provides the elements as arguments to the surrounding call. So if we have l <- list(mean=3.2, sd=0.4), then rnorm(!!!l) becomes rnorm(mean=3.2, sd=0.4)\n",
    "* := allows unquoting of a name on the left-hand side of an assignment, so with n <- expr(result), the expression !!n := 10 would set result to 10\n",
    "\n",
    "Firstly, we need to get used to expressions and quosures."
   ]
  },
  {
   "cell_type": "code",
   "execution_count": 2,
   "metadata": {},
   "outputs": [],
   "source": [
    "#library(rlang)\n",
    "#pi\n",
    "#is_symbol(pi)\n",
    "#is_expression(pi)\n",
    "#e <- expr(pi)\n",
    "#e\n",
    "#is_symbol(e)\n",
    "#is_expression(e)\n",
    "#is_quosure(e)\n",
    "#eval_bare(e)\n",
    "#q <- quo(pi)\n",
    "#q\n",
    "#is_symbol(q)\n",
    "#is_expression(q)\n",
    "#is_quosure(q)\n",
    "#eval_tidy(q)"
   ]
  },
  {
   "cell_type": "markdown",
   "metadata": {},
   "source": [
    "Now, let's expand this to allow us to pass in different column names to a function. Here, for example, we have a function which calculates the age at an event.\n",
    "\n",
    "Note the use of `expr()` when passing parameters directly to the function but `enexpr()` when doing do inside a function."
   ]
  },
  {
   "cell_type": "code",
   "execution_count": 3,
   "metadata": {},
   "outputs": [],
   "source": [
    "#library(lubridate)\n",
    "#pregnancy <- read_csv(file=\"data/pregnancy.csv\")\n",
    "## Simplify the dataset.\n",
    "#p <- pregnancy %>% select(PARENT_ID, DATE_OF_BIRTH, DOBCHILD1, DOBCHILD2, DOBCHILD3) %>% filter(!is.na(DOBCHILD3))\n",
    "## Sort out the data.\n",
    "#p <- p %>% mutate(DATE_OF_BIRTH=dmy(DATE_OF_BIRTH)) %>%\n",
    "#           mutate(DOBCHILD1=dmy(DOBCHILD1)) %>% \n",
    "#           mutate(DOBCHILD2=dmy(DOBCHILD2)) %>%\n",
    "#           mutate(DOBCHILD3=dmy(DOBCHILD3)) \n",
    "## Now define a function that will take the specifief date column and create a\n",
    "## new column with the specified column name.\n",
    "#age_at_childbirth <- function(table, date, col_name){\n",
    "#    ages <- table %>% mutate(!!col_name:=as.integer(as.Date(!!date)-as.Date(DATE_OF_BIRTH))/365.25)\n",
    "#}\n",
    "## Now use that function.\n",
    "#print.data.frame(age_at_childbirth(p, expr(DOBCHILD1), expr(AGE_CHILD1)))\n",
    "## And it works with quosures.\n",
    "## print.data.frame(age_at_childbirth(p, quo(DOBCHILD1), quo(AGE_CHILD1)))\n",
    "\n",
    "#print_ages <-function(date_for_age, col_for_age) {\n",
    "#    print.data.frame(age_at_childbirth(p, enexpr(date_for_age), enexpr(col_for_age)))\n",
    "#}\n",
    "## And it works with quosures.\n",
    "## print_ages <-function(date_for_age, col_for_age) {\n",
    "##    print.data.frame(age_at_childbirth(p, enquo(date_for_age), enquo(col_for_age)))\n",
    "##}\n",
    "##print_ages(DOBCHILD1, AGE_CHILD1)\n",
    "#print_ages(DOBCHILD2, AGE_CHILD2)"
   ]
  },
  {
   "cell_type": "markdown",
   "metadata": {},
   "source": [
    "## __Challenge__: Repeat the example to determine the ages of the older children at the birth of the younger ones."
   ]
  },
  {
   "cell_type": "markdown",
   "metadata": {},
   "source": [
    "<table style=\"text-align:center;\"><tr><td width=\"100\" height=\"20\" style=\"background-color:greenyellow\"></td><td width=\"100\" height=\"20\" style=\"background-color:hotpink\"></td></tr></table>"
   ]
  },
  {
   "cell_type": "markdown",
   "metadata": {},
   "source": [
    "## __Communicating your results with a dynamic, R-based website (shiny)__\n",
    "\n",
    "[See the shiny cheatsheet.](https://github.com/rstudio/cheatsheets/blob/master/shiny.pdf)\n",
    "\n",
    "A Shiny app is a web-application (which you run in a browser) connected to a live R-session (the server). Users manipulate the displayed web-page which requests the server to re-run the appropriate R code to update the data on the page. The server can (and here will be) running on your own computer (the URL is localhost).\n",
    "\n",
    "Most of the work is already done under Shiny's bonnet. You can get an app going using a simple template:\n",
    "\n",
    "`\n",
    "library(shiny) # Nested R functions that assemble an HTML user interface for your app.\n",
    "ui <- fluidPage()\n",
    "server <- function(input, output){} # A function that rebuilds the output.\n",
    "shinyApp(ui=ui, server=server) # The app. includes the UI and server functions; this can be called with runApp().\n",
    "`\n",
    "## _How to build the app_\n",
    "\n",
    "1. If you are using R-Studio, create a new R Shiny app.\n",
    "1. Add _Inputs_ and _Outputs_ (see below) to the `fluidPage(){}` function definition to form the page you want.\n",
    "1. Add the server how to handle the inputs (refer to these as input\\$inputId - where inputId is the id you used for that input in the `fluidPage(){}` definition) and the outputs (referred to by output\\$outputId) using the appropriate render* function (see Outputs below).\n",
    "1. You can save the app either as one app.R file (include the shinyApp() call) or to separate ui.R and server.R files (no need for the shinyApp() call).\n",
    "1. From R-Studio, you can run the app using `runApp(path-to-the-app-directory)`.\n",
    "\n",
    "When you run the app, you will get a message as follows:\n",
    "Listening on http://127.0.0.1:6415\n",
    "\n",
    "Open a web browser and paste the link to the URL input box and you should see you app appear. You can usually replace the URL `127.0.0.1` with `localhost`.\n",
    "\n",
    "## _Inputs_\n",
    "\n",
    "There are a number of typical HTML user interface widgets you can use to get interactions from the user:\n",
    "* actionButton(inputId, label, icon, ...)\n",
    "* actionLink(inputId, label, icon, ...)\n",
    "* checkboxInput(inputId, label, value)\n",
    "* checkboxGroupInput(inputId, label, choices, selected, inline)\n",
    "* dateInput()\n",
    "* dataRangeInput()\n",
    "* fileInput()\n",
    "* numericInput()\n",
    "* passwordInput()\n",
    "* radioButtons()\n",
    "* selectInput()\n",
    "* sliderInput()\n",
    "* submitButton()\n",
    "* textInput()\n",
    "\n",
    "## _Outputs_\n",
    "\n",
    "Use the \\*Output functions to define the output in the fluidPage UI definition. For each one of these you define, use the corresponding render* function in the server definition.\n",
    "\n",
    "The following pairs of functions are provided:\n",
    "\n",
    "| Type | UI definition | Server render function |\n",
    "|---|---|---|\n",
    "| Data table | dataTableOutput(outputId, icon, ...) | DT::renderDataTable(expr, options, callback, escape, env, quoted) |\n",
    "| Image      | imageOutput(outputId, width, height, click (etc.)) | renderImage(expr, env, quoted, deleteFile) |\n",
    "| Plot       | plotOutput(outputId, width, height, click (etc.)) | renderPlot(expr, width, height (etc.)) |\n",
    "| Plain Text | verbatimTextOutput(outputId) | renderPrint(expr, env, quoted, func, width) |\n",
    "| Table      | tableOutput(outputId) | renderTable(expr, ..., env, quoted, func) |\n",
    "| Text       | textOutput(outputId, container, inline) | renderText(expr, env, quoted, func) |\n",
    "| UI         | uiOutput(outputId, inline, container, ...) htmlOutput(outputId, inline, container, ...) | renderUI(expr, env, quoted, func) |\n",
    "\n",
    "## _Layout_\n",
    "\n",
    "There are several functions that can help you with laying out the app page:\n",
    "* fluidRow() --- organises items in rows\n",
    "* flowLayout() --- places the objects in the order described and lets the output flow across the screen as it fits\n",
    "* navbarPage() --- page with navbar above\n",
    "* navlistPanel() --- panels with nav tabs to the left\n",
    "* sidebarLayout() --- defines a main panel and side panel\n",
    "* splitLayout() --- splits the layout\n",
    "* tabsetPanel() --- panels with tabs above\n",
    "* verticalLayout() --- places the objects one above the next\n",
    "\n",
    "\n",
    "Once you have an app ready and want to share it with others, you can (see documentation):\n",
    "* Host it on shinyapps.io\n",
    "* Get R-Studio Connect (£)\n",
    "* Build a Shiny server\n",
    "\n",
    "## __Exercise__: Create a Shiny app\n",
    "\n",
    "Use the example below as a starting guide, create a Shiny app to do anything you find interesting and to explore R and statistics. If you want a suggestion, try creating an app which will allow the user to plot the distributions for any of the common distributions, allowing them to change the parameters for each one.\n",
    "\n",
    "Once the app has been set-up, shinyApp() will report the URL (127.0.0.1 is the same as localhost (usually) and then a port number e.g. http://127.0.0.1:4522. This will vary from machine to machine - your Jupyter Notebook will be running in a similar fashion on a different port."
   ]
  },
  {
   "cell_type": "code",
   "execution_count": 4,
   "metadata": {},
   "outputs": [],
   "source": [
    "#install.packages(\"shiny\")\n",
    "#library(shiny)\n",
    "#ui <- fluidPage(\n",
    "#    numericInput(inputId='n', 'Sample Size', value=25),\n",
    "#    plotOutput(outputId='hist'))\n",
    "#server <- function(input, output){\n",
    "#    output$hist <- renderPlot({\n",
    "#        hist(rnorm(input$n))\n",
    "#    })\n",
    "#}\n",
    "#shinyApp(ui=ui, server=server)"
   ]
  },
  {
   "cell_type": "markdown",
   "metadata": {},
   "source": [
    "<table style=\"text-align:center;\"><tr><td width=\"100\" height=\"20\" style=\"background-color:greenyellow\"></td><td width=\"100\" height=\"20\" style=\"background-color:hotpink\"></td></tr></table>"
   ]
  },
  {
   "cell_type": "markdown",
   "metadata": {},
   "source": [
    "<table width='100%'><tr>\n",
    "    <td style='background-color:red; text-align:center; color: white;'><!--Foundation<!--hr size='5' style='border-color:red; background-color:red;'--></td>\n",
    "    <td style='background-color:yellow; text-align:center;'><!--Level 1<!--hr size='5' style='border-color:yellow; background-color:yellow;'--></td>\n",
    "    <td style='background-color:orange; text-align:center;'><!--Level 2<!--hr size='5' style='border-color:orange; background-color:orange;'--></td>\n",
    "    <td style='background-color:green; text-align:center; color: white;'><!--Level 3<!--hr size='5' style='border-color:orange; background-color:orange;'--></td>\n",
    "    <td style='background-color:blue; text-align:center; color: white;'><!--Level 4<!--hr size='5' style='border-color:orange; background-color:orange;'--></td>\n",
    "    <td style='background-color:purple; text-align:center; color: white;'><!--Level 5<!--hr size='5' style='border-color:orange; background-color:orange;'--></td>\n",
    "    <td style='background-color:brown; text-align:center; color: white;'><!--Level 6<!--hr size='5' style='border-color:orange; background-color:orange;'--></td>\n",
    "    <td style='background-color:black; text-align:center; color: white;'><!--Level 7<!--hr size='5' style='border-color:orange; background-color:orange;'--></td>\n",
    "</tr></table>"
   ]
  }
 ],
 "metadata": {
  "kernelspec": {
   "display_name": "R",
   "language": "R",
   "name": "ir"
  },
  "language_info": {
   "codemirror_mode": "r",
   "file_extension": ".r",
   "mimetype": "text/x-r-source",
   "name": "R",
   "pygments_lexer": "r",
   "version": "4.0.2"
  }
 },
 "nbformat": 4,
 "nbformat_minor": 4
}
